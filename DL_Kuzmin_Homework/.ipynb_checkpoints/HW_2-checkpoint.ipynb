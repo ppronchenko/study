{
 "cells": [
  {
   "cell_type": "markdown",
   "metadata": {},
   "source": [
    "## Автоматическое дифференцирование"
   ]
  },
  {
   "cell_type": "code",
   "execution_count": 1,
   "metadata": {
    "ExecuteTime": {
     "end_time": "2019-11-06T12:28:34.900077Z",
     "start_time": "2019-11-06T12:28:34.399089Z"
    }
   },
   "outputs": [],
   "source": [
    "import torch\n",
    "from torch import autograd"
   ]
  },
  {
   "cell_type": "code",
   "execution_count": 2,
   "metadata": {
    "ExecuteTime": {
     "end_time": "2019-11-06T12:28:34.959876Z",
     "start_time": "2019-11-06T12:28:34.954576Z"
    }
   },
   "outputs": [
    {
     "name": "stdout",
     "output_type": "stream",
     "text": [
      "tensor([0., 1., 2., 3.])\n"
     ]
    }
   ],
   "source": [
    "x = torch.arange(4).type(torch.float)\n",
    "print(x)"
   ]
  },
  {
   "cell_type": "markdown",
   "metadata": {
    "ExecuteTime": {
     "end_time": "2019-11-06T11:20:01.003092Z",
     "start_time": "2019-11-06T11:20:00.998727Z"
    }
   },
   "source": [
    "## Присоединение градиента к `x`\n",
    "\n",
    "- Говорит системе, что мы хотим хранить градиент"
   ]
  },
  {
   "cell_type": "code",
   "execution_count": 3,
   "metadata": {
    "ExecuteTime": {
     "end_time": "2019-11-06T12:28:35.671645Z",
     "start_time": "2019-11-06T12:28:35.662681Z"
    }
   },
   "outputs": [
    {
     "data": {
      "text/plain": [
       "False"
      ]
     },
     "execution_count": 3,
     "metadata": {},
     "output_type": "execute_result"
    }
   ],
   "source": [
    "x.requires_grad"
   ]
  },
  {
   "cell_type": "code",
   "execution_count": 4,
   "metadata": {
    "ExecuteTime": {
     "end_time": "2019-11-06T12:28:35.852553Z",
     "start_time": "2019-11-06T12:28:35.849840Z"
    }
   },
   "outputs": [],
   "source": [
    "x = x.requires_grad_()"
   ]
  },
  {
   "cell_type": "code",
   "execution_count": 5,
   "metadata": {
    "ExecuteTime": {
     "end_time": "2019-11-06T12:28:36.057885Z",
     "start_time": "2019-11-06T12:28:36.053988Z"
    }
   },
   "outputs": [
    {
     "data": {
      "text/plain": [
       "True"
      ]
     },
     "execution_count": 5,
     "metadata": {},
     "output_type": "execute_result"
    }
   ],
   "source": [
    "x.requires_grad"
   ]
  },
  {
   "cell_type": "code",
   "execution_count": 6,
   "metadata": {
    "ExecuteTime": {
     "end_time": "2019-11-06T12:28:36.296476Z",
     "start_time": "2019-11-06T12:28:36.293864Z"
    }
   },
   "outputs": [],
   "source": [
    "x.grad"
   ]
  },
  {
   "cell_type": "markdown",
   "metadata": {},
   "source": [
    "## Forward\n",
    "\n",
    "вычислим \n",
    "\n",
    "$$y = 2\\mathbf{x}^{\\top}\\mathbf{x}$$"
   ]
  },
  {
   "cell_type": "code",
   "execution_count": 7,
   "metadata": {
    "ExecuteTime": {
     "end_time": "2019-11-06T12:28:36.769614Z",
     "start_time": "2019-11-06T12:28:36.697927Z"
    }
   },
   "outputs": [],
   "source": [
    "y = 2 * x.dot(x)"
   ]
  },
  {
   "cell_type": "code",
   "execution_count": 8,
   "metadata": {
    "ExecuteTime": {
     "end_time": "2019-11-06T12:28:36.898282Z",
     "start_time": "2019-11-06T12:28:36.893935Z"
    }
   },
   "outputs": [
    {
     "data": {
      "text/plain": [
       "tensor(28., grad_fn=<MulBackward0>)"
      ]
     },
     "execution_count": 8,
     "metadata": {},
     "output_type": "execute_result"
    }
   ],
   "source": [
    "y"
   ]
  },
  {
   "cell_type": "markdown",
   "metadata": {},
   "source": [
    "## Backward"
   ]
  },
  {
   "cell_type": "code",
   "execution_count": 9,
   "metadata": {
    "ExecuteTime": {
     "end_time": "2019-11-06T12:28:37.328415Z",
     "start_time": "2019-11-06T12:28:37.325308Z"
    }
   },
   "outputs": [],
   "source": [
    "y.backward()"
   ]
  },
  {
   "cell_type": "markdown",
   "metadata": {},
   "source": [
    "## Получение градиента\n",
    "\n",
    "$y = 2\\mathbf{x}^{\\top}\\mathbf{x}$, значит \n",
    "\n",
    "$$\\frac{\\partial y}{\\partial \\mathbf x} = 4\\mathbf{x}$$\n",
    "\n",
    "Проверим:"
   ]
  },
  {
   "cell_type": "code",
   "execution_count": 10,
   "metadata": {
    "ExecuteTime": {
     "end_time": "2019-11-06T12:28:37.687274Z",
     "start_time": "2019-11-06T12:28:37.682614Z"
    }
   },
   "outputs": [
    {
     "data": {
      "text/plain": [
       "tensor([ 0.,  4.,  8., 12.])"
      ]
     },
     "execution_count": 10,
     "metadata": {},
     "output_type": "execute_result"
    }
   ],
   "source": [
    "x.grad"
   ]
  },
  {
   "cell_type": "code",
   "execution_count": 11,
   "metadata": {
    "ExecuteTime": {
     "end_time": "2019-11-06T12:28:37.859164Z",
     "start_time": "2019-11-06T12:28:37.854157Z"
    }
   },
   "outputs": [
    {
     "data": {
      "text/plain": [
       "tensor([True, True, True, True])"
      ]
     },
     "execution_count": 11,
     "metadata": {},
     "output_type": "execute_result"
    }
   ],
   "source": [
    "4 * x == x.grad"
   ]
  },
  {
   "cell_type": "markdown",
   "metadata": {},
   "source": [
    "## no_grad\n",
    "\n",
    "функция no_grad позволяет отключить вычисление градиента для части кода"
   ]
  },
  {
   "cell_type": "code",
   "execution_count": 12,
   "metadata": {
    "ExecuteTime": {
     "end_time": "2019-11-06T12:28:38.455569Z",
     "start_time": "2019-11-06T12:28:38.449694Z"
    }
   },
   "outputs": [
    {
     "name": "stdout",
     "output_type": "stream",
     "text": [
      "<MulBackward0 object at 0x7fb2c9b46860>\n",
      "None\n"
     ]
    }
   ],
   "source": [
    "y = 2 * x.dot(x)\n",
    "print(y.grad_fn)\n",
    "with torch.no_grad():\n",
    "    y = 2 * x.dot(x)\n",
    "    print(y.grad_fn)"
   ]
  },
  {
   "cell_type": "code",
   "execution_count": 13,
   "metadata": {
    "ExecuteTime": {
     "end_time": "2019-11-06T12:28:38.864256Z",
     "start_time": "2019-11-06T12:28:38.746593Z"
    }
   },
   "outputs": [
    {
     "name": "stdout",
     "output_type": "stream",
     "text": [
      "tensor([ 0.,  8., 16., 24.])\n"
     ]
    },
    {
     "ename": "RuntimeError",
     "evalue": "element 0 of tensors does not require grad and does not have a grad_fn",
     "output_type": "error",
     "traceback": [
      "\u001b[0;31m---------------------------------------------------------------------------\u001b[0m",
      "\u001b[0;31mRuntimeError\u001b[0m                              Traceback (most recent call last)",
      "\u001b[0;32m<ipython-input-13-6f34daf0d33a>\u001b[0m in \u001b[0;36m<module>\u001b[0;34m\u001b[0m\n\u001b[1;32m      4\u001b[0m \u001b[0;32mwith\u001b[0m \u001b[0mtorch\u001b[0m\u001b[0;34m.\u001b[0m\u001b[0mno_grad\u001b[0m\u001b[0;34m(\u001b[0m\u001b[0;34m)\u001b[0m\u001b[0;34m:\u001b[0m\u001b[0;34m\u001b[0m\u001b[0;34m\u001b[0m\u001b[0m\n\u001b[1;32m      5\u001b[0m     \u001b[0my\u001b[0m \u001b[0;34m=\u001b[0m \u001b[0;36m2\u001b[0m \u001b[0;34m*\u001b[0m \u001b[0mx\u001b[0m\u001b[0;34m.\u001b[0m\u001b[0mdot\u001b[0m\u001b[0;34m(\u001b[0m\u001b[0mx\u001b[0m\u001b[0;34m)\u001b[0m\u001b[0;34m\u001b[0m\u001b[0;34m\u001b[0m\u001b[0m\n\u001b[0;32m----> 6\u001b[0;31m     \u001b[0my\u001b[0m\u001b[0;34m.\u001b[0m\u001b[0mbackward\u001b[0m\u001b[0;34m(\u001b[0m\u001b[0;34m)\u001b[0m\u001b[0;34m\u001b[0m\u001b[0;34m\u001b[0m\u001b[0m\n\u001b[0m\u001b[1;32m      7\u001b[0m     \u001b[0mprint\u001b[0m\u001b[0;34m(\u001b[0m\u001b[0mx\u001b[0m\u001b[0;34m.\u001b[0m\u001b[0mgrad\u001b[0m\u001b[0;34m)\u001b[0m\u001b[0;34m\u001b[0m\u001b[0;34m\u001b[0m\u001b[0m\n",
      "\u001b[0;32m~/anaconda3/lib/python3.6/site-packages/torch/tensor.py\u001b[0m in \u001b[0;36mbackward\u001b[0;34m(self, gradient, retain_graph, create_graph)\u001b[0m\n\u001b[1;32m    164\u001b[0m                 \u001b[0mproducts\u001b[0m\u001b[0;34m.\u001b[0m \u001b[0mDefaults\u001b[0m \u001b[0mto\u001b[0m\u001b[0;31m \u001b[0m\u001b[0;31m`\u001b[0m\u001b[0;31m`\u001b[0m\u001b[0;32mFalse\u001b[0m\u001b[0;31m`\u001b[0m\u001b[0;31m`\u001b[0m\u001b[0;34m.\u001b[0m\u001b[0;34m\u001b[0m\u001b[0;34m\u001b[0m\u001b[0m\n\u001b[1;32m    165\u001b[0m         \"\"\"\n\u001b[0;32m--> 166\u001b[0;31m         \u001b[0mtorch\u001b[0m\u001b[0;34m.\u001b[0m\u001b[0mautograd\u001b[0m\u001b[0;34m.\u001b[0m\u001b[0mbackward\u001b[0m\u001b[0;34m(\u001b[0m\u001b[0mself\u001b[0m\u001b[0;34m,\u001b[0m \u001b[0mgradient\u001b[0m\u001b[0;34m,\u001b[0m \u001b[0mretain_graph\u001b[0m\u001b[0;34m,\u001b[0m \u001b[0mcreate_graph\u001b[0m\u001b[0;34m)\u001b[0m\u001b[0;34m\u001b[0m\u001b[0;34m\u001b[0m\u001b[0m\n\u001b[0m\u001b[1;32m    167\u001b[0m \u001b[0;34m\u001b[0m\u001b[0m\n\u001b[1;32m    168\u001b[0m     \u001b[0;32mdef\u001b[0m \u001b[0mregister_hook\u001b[0m\u001b[0;34m(\u001b[0m\u001b[0mself\u001b[0m\u001b[0;34m,\u001b[0m \u001b[0mhook\u001b[0m\u001b[0;34m)\u001b[0m\u001b[0;34m:\u001b[0m\u001b[0;34m\u001b[0m\u001b[0;34m\u001b[0m\u001b[0m\n",
      "\u001b[0;32m~/anaconda3/lib/python3.6/site-packages/torch/autograd/__init__.py\u001b[0m in \u001b[0;36mbackward\u001b[0;34m(tensors, grad_tensors, retain_graph, create_graph, grad_variables)\u001b[0m\n\u001b[1;32m     97\u001b[0m     Variable._execution_engine.run_backward(\n\u001b[1;32m     98\u001b[0m         \u001b[0mtensors\u001b[0m\u001b[0;34m,\u001b[0m \u001b[0mgrad_tensors\u001b[0m\u001b[0;34m,\u001b[0m \u001b[0mretain_graph\u001b[0m\u001b[0;34m,\u001b[0m \u001b[0mcreate_graph\u001b[0m\u001b[0;34m,\u001b[0m\u001b[0;34m\u001b[0m\u001b[0;34m\u001b[0m\u001b[0m\n\u001b[0;32m---> 99\u001b[0;31m         allow_unreachable=True)  # allow_unreachable flag\n\u001b[0m\u001b[1;32m    100\u001b[0m \u001b[0;34m\u001b[0m\u001b[0m\n\u001b[1;32m    101\u001b[0m \u001b[0;34m\u001b[0m\u001b[0m\n",
      "\u001b[0;31mRuntimeError\u001b[0m: element 0 of tensors does not require grad and does not have a grad_fn"
     ]
    }
   ],
   "source": [
    "y = 2 * x.dot(x)\n",
    "y.backward()\n",
    "print(x.grad)\n",
    "with torch.no_grad():\n",
    "    y = 2 * x.dot(x)\n",
    "    y.backward()\n",
    "    print(x.grad)"
   ]
  },
  {
   "cell_type": "markdown",
   "metadata": {},
   "source": [
    "## Гибкий граф"
   ]
  },
  {
   "cell_type": "code",
   "execution_count": 14,
   "metadata": {
    "ExecuteTime": {
     "end_time": "2019-11-06T12:28:39.549886Z",
     "start_time": "2019-11-06T12:28:39.545708Z"
    }
   },
   "outputs": [],
   "source": [
    "def f(a):\n",
    "    b = a * 2\n",
    "    while b.norm().item() < 1000:\n",
    "        b = b * 2\n",
    "    if b.sum().item() > 0:\n",
    "        c = b\n",
    "    else:\n",
    "        c = 100 * b\n",
    "    return c"
   ]
  },
  {
   "cell_type": "code",
   "execution_count": 15,
   "metadata": {
    "ExecuteTime": {
     "end_time": "2019-11-06T12:28:39.918932Z",
     "start_time": "2019-11-06T12:28:39.914266Z"
    }
   },
   "outputs": [],
   "source": [
    "a = torch.randn(1).requires_grad_()\n",
    "d = f(a)\n",
    "d.backward()"
   ]
  },
  {
   "cell_type": "code",
   "execution_count": 16,
   "metadata": {
    "ExecuteTime": {
     "end_time": "2019-11-06T12:28:40.278692Z",
     "start_time": "2019-11-06T12:28:40.272902Z"
    }
   },
   "outputs": [
    {
     "data": {
      "text/plain": [
       "tensor([1020.8953], grad_fn=<MulBackward0>)"
      ]
     },
     "execution_count": 16,
     "metadata": {},
     "output_type": "execute_result"
    }
   ],
   "source": [
    "d"
   ]
  },
  {
   "cell_type": "code",
   "execution_count": 17,
   "metadata": {
    "ExecuteTime": {
     "end_time": "2019-11-06T12:28:40.451434Z",
     "start_time": "2019-11-06T12:28:40.445811Z"
    }
   },
   "outputs": [
    {
     "data": {
      "text/plain": [
       "tensor([0.2492], requires_grad=True)"
      ]
     },
     "execution_count": 17,
     "metadata": {},
     "output_type": "execute_result"
    }
   ],
   "source": [
    "a"
   ]
  },
  {
   "cell_type": "markdown",
   "metadata": {},
   "source": [
    "## Практика\n",
    "\n",
    "1. Пусть $f(x) = \\sin(x) * x$. Постройте график $f(x)$ и $\\frac{df(x)}{dx}$ используя пакет autograd'а для расчета производных (т.е. нельзя выводить производную явно)"
   ]
  },
  {
   "cell_type": "markdown",
   "metadata": {},
   "source": [
    "## Линейная регрессия с нуля"
   ]
  },
  {
   "cell_type": "code",
   "execution_count": 18,
   "metadata": {
    "ExecuteTime": {
     "end_time": "2019-11-06T13:41:58.143546Z",
     "start_time": "2019-11-06T13:41:58.139013Z"
    }
   },
   "outputs": [],
   "source": [
    "%matplotlib inline\n",
    "from IPython import display\n",
    "from matplotlib import pyplot as plt\n",
    "import torch\n",
    "import random"
   ]
  },
  {
   "cell_type": "markdown",
   "metadata": {},
   "source": [
    "## Генерируем данные\n",
    "\n",
    "- Случайно генерируем $\\mathbf{X}\\in \\mathbb{R}^{1000 \\times 2}$\n",
    "- Выбираем значения весов (истинные): $\\mathbf{w} = [2, -3.4]^\\top$ и свободного члена $b = 4.2$\n",
    "- Генерируем метки по формле $\\mathbf{y}= \\mathbf{X} \\mathbf{w} + b + \\mathbf\\epsilon$\n",
    "  с шумом $\\epsilon$ нормально распределнным с мат ожиданием 0 и дисперсией 1"
   ]
  },
  {
   "cell_type": "code",
   "execution_count": 19,
   "metadata": {
    "ExecuteTime": {
     "end_time": "2019-11-06T13:41:58.582953Z",
     "start_time": "2019-11-06T13:41:58.578569Z"
    }
   },
   "outputs": [],
   "source": [
    "num_inputs = 2\n",
    "num_examples = 1000\n",
    "true_w = torch.tensor([2, -3.4])\n",
    "true_b = 4.2\n",
    "features = torch.randn((num_examples, num_inputs))\n",
    "labels = torch.mv(features, true_w) + true_b\n",
    "labels += torch.randn(labels.shape)"
   ]
  },
  {
   "cell_type": "markdown",
   "metadata": {},
   "source": [
    "## Визуализируем данные"
   ]
  },
  {
   "cell_type": "code",
   "execution_count": 20,
   "metadata": {
    "ExecuteTime": {
     "end_time": "2019-11-06T13:41:59.728821Z",
     "start_time": "2019-11-06T13:41:59.450748Z"
    }
   },
   "outputs": [
    {
     "data": {
      "image/png": "[encoded data removed]",
      "text/plain": [
       "<Figure size 864x288 with 3 Axes>"
      ]
     },
     "metadata": {
      "needs_background": "light"
     },
     "output_type": "display_data"
    }
   ],
   "source": [
    "plt.figure(figsize=(12, 4))\n",
    "plt.subplot(131)\n",
    "plt.scatter(features[:, 0], labels, 1)\n",
    "plt.subplot(132)\n",
    "plt.scatter(features[:, 1], labels, 1)\n",
    "plt.subplot(133)\n",
    "plt.scatter(features[:, 0], features[:, 1], 1)\n",
    "plt.show()"
   ]
  },
  {
   "cell_type": "markdown",
   "metadata": {},
   "source": [
    "## Чтение данных\n",
    "\n",
    "Итерируемся по датасету и возвращаем случаные `batch_size` примеров."
   ]
  },
  {
   "cell_type": "code",
   "execution_count": 21,
   "metadata": {
    "ExecuteTime": {
     "end_time": "2019-11-06T13:44:23.740404Z",
     "start_time": "2019-11-06T13:44:23.735805Z"
    }
   },
   "outputs": [],
   "source": [
    "def data_iter(batch_size, features, labels):\n",
    "    num_examples = len(features)\n",
    "    indices = list(range(num_examples))\n",
    "    # The examples are read at random, in no particular order\n",
    "    random.shuffle(indices)\n",
    "    for i in range(0, num_examples, batch_size):\n",
    "        j = indices[i: min(i + batch_size, num_examples)]\n",
    "        yield features[j, :], labels[j]"
   ]
  },
  {
   "cell_type": "markdown",
   "metadata": {},
   "source": [
    "## Выводим маленький батч"
   ]
  },
  {
   "cell_type": "code",
   "execution_count": 22,
   "metadata": {
    "ExecuteTime": {
     "end_time": "2019-11-06T13:44:24.381466Z",
     "start_time": "2019-11-06T13:44:24.374974Z"
    }
   },
   "outputs": [
    {
     "name": "stdout",
     "output_type": "stream",
     "text": [
      "tensor([[-0.5798, -0.1982],\n",
      "        [ 1.6282, -0.0467],\n",
      "        [-0.0299,  1.2718],\n",
      "        [ 1.4075,  0.9362],\n",
      "        [ 0.5991, -1.0358],\n",
      "        [ 0.1581, -0.6298],\n",
      "        [-2.3532,  0.4438],\n",
      "        [-0.0279,  0.6924],\n",
      "        [ 0.7544, -1.9734],\n",
      "        [ 1.3324, -1.5505]]) tensor([ 4.4402,  6.1290, -0.1063,  4.7091,  8.5313,  7.6039, -1.9337,  3.6650,\n",
      "        11.9978, 12.1481])\n"
     ]
    }
   ],
   "source": [
    "batch_size = 10\n",
    "for X, y in data_iter(batch_size, features, labels):\n",
    "    print(X, y)\n",
    "    break"
   ]
  },
  {
   "cell_type": "markdown",
   "metadata": {},
   "source": [
    "### Создаем нашу модель для обучения"
   ]
  },
  {
   "cell_type": "code",
   "execution_count": 23,
   "metadata": {
    "ExecuteTime": {
     "end_time": "2019-11-06T13:44:35.605746Z",
     "start_time": "2019-11-06T13:44:35.602589Z"
    }
   },
   "outputs": [],
   "source": [
    "w = torch.randn((num_inputs))\n",
    "b = torch.zeros((1,))"
   ]
  },
  {
   "cell_type": "code",
   "execution_count": 24,
   "metadata": {
    "ExecuteTime": {
     "end_time": "2019-11-06T13:44:35.952828Z",
     "start_time": "2019-11-06T13:44:35.947688Z"
    }
   },
   "outputs": [
    {
     "data": {
      "text/plain": [
       "tensor([0.], requires_grad=True)"
      ]
     },
     "execution_count": 24,
     "metadata": {},
     "output_type": "execute_result"
    }
   ],
   "source": [
    "w.requires_grad_()\n",
    "b.requires_grad_()"
   ]
  },
  {
   "cell_type": "markdown",
   "metadata": {},
   "source": [
    "## Практика - реализуйте функции:\n",
    "- linreg - применение модели линейной регресии\n",
    "- squared_loss - MSE функция потерь\n",
    "- sgd - стохастический шаг градиентного спуска по массиву параметров\n",
    "\n",
    "и допишите код обучения линейной регрессии"
   ]
  },
  {
   "cell_type": "code",
   "execution_count": 25,
   "metadata": {
    "ExecuteTime": {
     "end_time": "2019-11-06T15:13:29.281855Z",
     "start_time": "2019-11-06T15:13:29.277830Z"
    }
   },
   "outputs": [
    {
     "ename": "SyntaxError",
     "evalue": "unexpected EOF while parsing (<ipython-input-25-7939740b6d00>, line 1)",
     "output_type": "error",
     "traceback": [
      "\u001b[0;36m  File \u001b[0;32m\"<ipython-input-25-7939740b6d00>\"\u001b[0;36m, line \u001b[0;32m1\u001b[0m\n\u001b[0;31m    def linreg(X, w, b):\u001b[0m\n\u001b[0m                        ^\u001b[0m\n\u001b[0;31mSyntaxError\u001b[0m\u001b[0;31m:\u001b[0m unexpected EOF while parsing\n"
     ]
    }
   ],
   "source": [
    "def linreg(X, w, b):"
   ]
  },
  {
   "cell_type": "markdown",
   "metadata": {},
   "source": [
    "### Обучение"
   ]
  },
  {
   "cell_type": "code",
   "execution_count": 26,
   "metadata": {
    "ExecuteTime": {
     "end_time": "2019-11-06T15:13:33.228353Z",
     "start_time": "2019-11-06T15:13:33.224154Z"
    }
   },
   "outputs": [
    {
     "ename": "SyntaxError",
     "evalue": "unexpected EOF while parsing (<ipython-input-26-21cd16d2aa85>, line 1)",
     "output_type": "error",
     "traceback": [
      "\u001b[0;36m  File \u001b[0;32m\"<ipython-input-26-21cd16d2aa85>\"\u001b[0;36m, line \u001b[0;32m1\u001b[0m\n\u001b[0;31m    def squared_loss(y_hat, y):\u001b[0m\n\u001b[0m                               ^\u001b[0m\n\u001b[0;31mSyntaxError\u001b[0m\u001b[0;31m:\u001b[0m unexpected EOF while parsing\n"
     ]
    }
   ],
   "source": [
    "def squared_loss(y_hat, y):"
   ]
  },
  {
   "cell_type": "code",
   "execution_count": 27,
   "metadata": {
    "ExecuteTime": {
     "end_time": "2019-11-06T15:13:37.923800Z",
     "start_time": "2019-11-06T15:13:37.919934Z"
    }
   },
   "outputs": [
    {
     "ename": "SyntaxError",
     "evalue": "unexpected EOF while parsing (<ipython-input-27-de3c8b4ab3d5>, line 1)",
     "output_type": "error",
     "traceback": [
      "\u001b[0;36m  File \u001b[0;32m\"<ipython-input-27-de3c8b4ab3d5>\"\u001b[0;36m, line \u001b[0;32m1\u001b[0m\n\u001b[0;31m    def sgd(params, lr, batch_size):\u001b[0m\n\u001b[0m                                    ^\u001b[0m\n\u001b[0;31mSyntaxError\u001b[0m\u001b[0;31m:\u001b[0m unexpected EOF while parsing\n"
     ]
    }
   ],
   "source": [
    "def sgd(params, lr, batch_size):"
   ]
  },
  {
   "cell_type": "code",
   "execution_count": 28,
   "metadata": {
    "ExecuteTime": {
     "end_time": "2019-11-06T15:14:17.300010Z",
     "start_time": "2019-11-06T15:14:17.288404Z"
    }
   },
   "outputs": [
    {
     "ename": "NameError",
     "evalue": "name 'squared_loss' is not defined",
     "output_type": "error",
     "traceback": [
      "\u001b[0;31m---------------------------------------------------------------------------\u001b[0m",
      "\u001b[0;31mNameError\u001b[0m                                 Traceback (most recent call last)",
      "\u001b[0;32m<ipython-input-28-17ffafda6338>\u001b[0m in \u001b[0;36m<module>\u001b[0;34m\u001b[0m\n\u001b[1;32m     13\u001b[0m         \u001b[0;31m#\u001b[0m\u001b[0;34m\u001b[0m\u001b[0;34m\u001b[0m\u001b[0;34m\u001b[0m\u001b[0m\n\u001b[1;32m     14\u001b[0m \u001b[0;34m\u001b[0m\u001b[0m\n\u001b[0;32m---> 15\u001b[0;31m     \u001b[0mtrain_l\u001b[0m \u001b[0;34m=\u001b[0m \u001b[0msquared_loss\u001b[0m\u001b[0;34m(\u001b[0m\u001b[0mlinreg\u001b[0m\u001b[0;34m(\u001b[0m\u001b[0mfeatures\u001b[0m\u001b[0;34m,\u001b[0m \u001b[0mw\u001b[0m\u001b[0;34m,\u001b[0m \u001b[0mb\u001b[0m\u001b[0;34m)\u001b[0m\u001b[0;34m,\u001b[0m \u001b[0mlabels\u001b[0m\u001b[0;34m)\u001b[0m\u001b[0;34m\u001b[0m\u001b[0;34m\u001b[0m\u001b[0m\n\u001b[0m\u001b[1;32m     16\u001b[0m     \u001b[0mprint\u001b[0m\u001b[0;34m(\u001b[0m\u001b[0;34m'epoch %d, loss %f'\u001b[0m \u001b[0;34m%\u001b[0m \u001b[0;34m(\u001b[0m\u001b[0mepoch\u001b[0m \u001b[0;34m+\u001b[0m \u001b[0;36m1\u001b[0m\u001b[0;34m,\u001b[0m \u001b[0mtrain_l\u001b[0m\u001b[0;34m.\u001b[0m\u001b[0mmean\u001b[0m\u001b[0;34m(\u001b[0m\u001b[0;34m)\u001b[0m\u001b[0;34m.\u001b[0m\u001b[0mitem\u001b[0m\u001b[0;34m(\u001b[0m\u001b[0;34m)\u001b[0m\u001b[0;34m)\u001b[0m\u001b[0;34m)\u001b[0m\u001b[0;34m\u001b[0m\u001b[0;34m\u001b[0m\u001b[0m\n",
      "\u001b[0;31mNameError\u001b[0m: name 'squared_loss' is not defined"
     ]
    }
   ],
   "source": [
    "lr = 0.01  \n",
    "num_epochs = 10\n",
    "\n",
    "for epoch in range(num_epochs):\n",
    "    for X, y in data_iter(batch_size, features, labels):   \n",
    "        w = w.detach()\n",
    "        b = b.detach()\n",
    "        w.requires_grad_()\n",
    "        b.requires_grad_()\n",
    "        \n",
    "        #\n",
    "        # ТУТ КОД \n",
    "        #\n",
    "\n",
    "    train_l = squared_loss(linreg(features, w, b), labels)\n",
    "    print('epoch %d, loss %f' % (epoch + 1, train_l.mean().item()))"
   ]
  },
  {
   "cell_type": "markdown",
   "metadata": {},
   "source": [
    "## Оценка качества модели"
   ]
  },
  {
   "cell_type": "code",
   "execution_count": 29,
   "metadata": {
    "ExecuteTime": {
     "end_time": "2019-11-06T13:44:40.439545Z",
     "start_time": "2019-11-06T13:44:40.432550Z"
    }
   },
   "outputs": [
    {
     "name": "stdout",
     "output_type": "stream",
     "text": [
      "Error in estimating w tensor([ 2.8869, -4.1102], grad_fn=<SubBackward0>)\n",
      "Error in estimating b tensor([4.2000], grad_fn=<RsubBackward1>)\n",
      "tensor([-0.8869,  0.7102], requires_grad=True)\n",
      "tensor([0.], requires_grad=True)\n"
     ]
    }
   ],
   "source": [
    "print('Error in estimating w', true_w - w.reshape(true_w.shape))\n",
    "print('Error in estimating b', true_b - b)\n",
    "print(w)\n",
    "print(b)"
   ]
  },
  {
   "cell_type": "markdown",
   "metadata": {
    "ExecuteTime": {
     "end_time": "2019-11-06T12:40:23.439886Z",
     "start_time": "2019-11-06T12:40:23.437308Z"
    }
   },
   "source": [
    "## Линейная регрессия на torch"
   ]
  },
  {
   "cell_type": "code",
   "execution_count": 30,
   "metadata": {
    "ExecuteTime": {
     "end_time": "2019-11-06T13:52:12.812804Z",
     "start_time": "2019-11-06T13:52:12.809805Z"
    }
   },
   "outputs": [],
   "source": [
    "from torch.utils.data import TensorDataset, DataLoader"
   ]
  },
  {
   "cell_type": "code",
   "execution_count": 31,
   "metadata": {
    "ExecuteTime": {
     "end_time": "2019-11-06T13:52:13.120962Z",
     "start_time": "2019-11-06T13:52:13.116472Z"
    }
   },
   "outputs": [],
   "source": [
    "num_inputs = 2\n",
    "num_examples = 1000\n",
    "true_w = torch.tensor([2, -3.4])\n",
    "true_b = 4.2\n",
    "features = torch.randn((num_examples, num_inputs))\n",
    "labels = torch.mv(features, true_w) + true_b\n",
    "labels += torch.randn(labels.shape)"
   ]
  },
  {
   "cell_type": "code",
   "execution_count": 32,
   "metadata": {
    "ExecuteTime": {
     "end_time": "2019-11-06T13:52:13.355499Z",
     "start_time": "2019-11-06T13:52:13.348636Z"
    },
    "scrolled": false
   },
   "outputs": [
    {
     "name": "stdout",
     "output_type": "stream",
     "text": [
      "tensor([[-0.9982,  0.8529],\n",
      "        [-0.8293,  0.9934],\n",
      "        [-1.0130,  1.5426],\n",
      "        [-2.2488, -0.5944],\n",
      "        [ 0.3536,  0.1182],\n",
      "        [ 0.7009,  1.3667],\n",
      "        [ 0.9986, -1.9910],\n",
      "        [ 0.5012, -0.7371],\n",
      "        [ 0.1986,  0.2732],\n",
      "        [-0.2655,  0.3228]]) tensor([ 1.2122, -0.8332, -3.4744,  1.0766,  5.1302,  1.9468, 13.8870,  7.6485,\n",
      "         6.2943,  4.1348])\n"
     ]
    }
   ],
   "source": [
    "batch_size = 10\n",
    "dataset = TensorDataset(features, labels)\n",
    "# Randomly reading mini-batches\n",
    "data_iter = DataLoader(dataset, batch_size, shuffle=True)\n",
    "\n",
    "# Read a batch to see how it works\n",
    "for X, y in data_iter:\n",
    "    print(X, y)\n",
    "    break"
   ]
  },
  {
   "cell_type": "code",
   "execution_count": 33,
   "metadata": {
    "ExecuteTime": {
     "end_time": "2019-11-06T15:01:54.637870Z",
     "start_time": "2019-11-06T15:01:54.634430Z"
    }
   },
   "outputs": [],
   "source": [
    "model = torch.nn.Sequential(torch.nn.Linear(2, 1))"
   ]
  },
  {
   "cell_type": "code",
   "execution_count": 34,
   "metadata": {},
   "outputs": [
    {
     "data": {
      "text/plain": [
       "Sequential(\n",
       "  (0): Linear(in_features=2, out_features=1, bias=True)\n",
       ")"
      ]
     },
     "execution_count": 34,
     "metadata": {},
     "output_type": "execute_result"
    }
   ],
   "source": [
    "model"
   ]
  },
  {
   "cell_type": "code",
   "execution_count": 35,
   "metadata": {
    "ExecuteTime": {
     "end_time": "2019-11-06T15:00:35.708316Z",
     "start_time": "2019-11-06T15:00:35.704362Z"
    },
    "scrolled": true
   },
   "outputs": [],
   "source": [
    "model[0].weight.data = true_w.clone().detach().requires_grad_(True).reshape((1, 2))\n",
    "model[0].bias.data = torch.tensor([true_b], requires_grad = True)"
   ]
  },
  {
   "cell_type": "code",
   "execution_count": 36,
   "metadata": {
    "ExecuteTime": {
     "end_time": "2019-11-06T15:01:56.233161Z",
     "start_time": "2019-11-06T15:01:56.230196Z"
    }
   },
   "outputs": [],
   "source": [
    "loss = torch.nn.MSELoss(reduction='mean')"
   ]
  },
  {
   "cell_type": "code",
   "execution_count": 37,
   "metadata": {
    "ExecuteTime": {
     "end_time": "2019-11-06T15:01:59.643238Z",
     "start_time": "2019-11-06T15:01:59.640268Z"
    }
   },
   "outputs": [],
   "source": [
    "trainer = torch.optim.SGD(model.parameters(), lr=0.001)"
   ]
  },
  {
   "cell_type": "code",
   "execution_count": 38,
   "metadata": {
    "ExecuteTime": {
     "end_time": "2019-11-06T15:02:03.375656Z",
     "start_time": "2019-11-06T15:02:00.252186Z"
    }
   },
   "outputs": [
    {
     "name": "stdout",
     "output_type": "stream",
     "text": [
      "epoch 1, loss: 0.969857\n",
      "w tensor([[ 2.0025, -3.3962]])\n",
      "b tensor([4.2070])\n",
      "epoch 2, loss: 0.969393\n",
      "w tensor([[ 2.0047, -3.3934]])\n",
      "b tensor([4.2129])\n",
      "epoch 3, loss: 0.969067\n",
      "w tensor([[ 2.0068, -3.3901]])\n",
      "b tensor([4.2172])\n",
      "epoch 4, loss: 0.968875\n",
      "w tensor([[ 2.0088, -3.3882]])\n",
      "b tensor([4.2203])\n",
      "epoch 5, loss: 0.968712\n",
      "w tensor([[ 2.0106, -3.3862]])\n",
      "b tensor([4.2234])\n",
      "epoch 6, loss: 0.968616\n",
      "w tensor([[ 2.0120, -3.3846]])\n",
      "b tensor([4.2256])\n",
      "epoch 7, loss: 0.968541\n",
      "w tensor([[ 2.0132, -3.3833]])\n",
      "b tensor([4.2278])\n",
      "epoch 8, loss: 0.968489\n",
      "w tensor([[ 2.0145, -3.3823]])\n",
      "b tensor([4.2296])\n",
      "epoch 9, loss: 0.968459\n",
      "w tensor([[ 2.0147, -3.3810]])\n",
      "b tensor([4.2309])\n",
      "epoch 10, loss: 0.968441\n",
      "w tensor([[ 2.0156, -3.3802]])\n",
      "b tensor([4.2316])\n",
      "epoch 11, loss: 0.968426\n",
      "w tensor([[ 2.0156, -3.3802]])\n",
      "b tensor([4.2330])\n",
      "epoch 12, loss: 0.968413\n",
      "w tensor([[ 2.0165, -3.3801]])\n",
      "b tensor([4.2342])\n",
      "epoch 13, loss: 0.968408\n",
      "w tensor([[ 2.0165, -3.3798]])\n",
      "b tensor([4.2347])\n",
      "epoch 14, loss: 0.968402\n",
      "w tensor([[ 2.0176, -3.3794]])\n",
      "b tensor([4.2352])\n",
      "epoch 15, loss: 0.968401\n",
      "w tensor([[ 2.0180, -3.3791]])\n",
      "b tensor([4.2352])\n",
      "epoch 16, loss: 0.968397\n",
      "w tensor([[ 2.0182, -3.3785]])\n",
      "b tensor([4.2358])\n",
      "epoch 17, loss: 0.968393\n",
      "w tensor([[ 2.0180, -3.3779]])\n",
      "b tensor([4.2367])\n",
      "epoch 18, loss: 0.968394\n",
      "w tensor([[ 2.0174, -3.3784]])\n",
      "b tensor([4.2369])\n",
      "epoch 19, loss: 0.968395\n",
      "w tensor([[ 2.0173, -3.3779]])\n",
      "b tensor([4.2364])\n",
      "epoch 20, loss: 0.968394\n",
      "w tensor([[ 2.0173, -3.3778]])\n",
      "b tensor([4.2365])\n",
      "epoch 21, loss: 0.968394\n",
      "w tensor([[ 2.0171, -3.3778]])\n",
      "b tensor([4.2365])\n",
      "epoch 22, loss: 0.968393\n",
      "w tensor([[ 2.0179, -3.3779]])\n",
      "b tensor([4.2372])\n",
      "epoch 23, loss: 0.968393\n",
      "w tensor([[ 2.0175, -3.3782]])\n",
      "b tensor([4.2375])\n",
      "epoch 24, loss: 0.968395\n",
      "w tensor([[ 2.0166, -3.3781]])\n",
      "b tensor([4.2379])\n",
      "epoch 25, loss: 0.968395\n",
      "w tensor([[ 2.0166, -3.3776]])\n",
      "b tensor([4.2381])\n",
      "epoch 26, loss: 0.968393\n",
      "w tensor([[ 2.0174, -3.3779]])\n",
      "b tensor([4.2383])\n",
      "epoch 27, loss: 0.968393\n",
      "w tensor([[ 2.0174, -3.3779]])\n",
      "b tensor([4.2382])\n",
      "epoch 28, loss: 0.968394\n",
      "w tensor([[ 2.0171, -3.3775]])\n",
      "b tensor([4.2382])\n",
      "epoch 29, loss: 0.968393\n",
      "w tensor([[ 2.0174, -3.3776]])\n",
      "b tensor([4.2378])\n",
      "epoch 30, loss: 0.968394\n",
      "w tensor([[ 2.0171, -3.3773]])\n",
      "b tensor([4.2383])\n",
      "epoch 31, loss: 0.968393\n",
      "w tensor([[ 2.0173, -3.3772]])\n",
      "b tensor([4.2379])\n",
      "epoch 32, loss: 0.968393\n",
      "w tensor([[ 2.0170, -3.3774]])\n",
      "b tensor([4.2378])\n",
      "epoch 33, loss: 0.968394\n",
      "w tensor([[ 2.0170, -3.3775]])\n",
      "b tensor([4.2380])\n",
      "epoch 34, loss: 0.968393\n",
      "w tensor([[ 2.0171, -3.3771]])\n",
      "b tensor([4.2378])\n",
      "epoch 35, loss: 0.968393\n",
      "w tensor([[ 2.0173, -3.3774]])\n",
      "b tensor([4.2384])\n",
      "epoch 36, loss: 0.968393\n",
      "w tensor([[ 2.0176, -3.3777]])\n",
      "b tensor([4.2383])\n",
      "epoch 37, loss: 0.968393\n",
      "w tensor([[ 2.0171, -3.3775]])\n",
      "b tensor([4.2381])\n",
      "epoch 38, loss: 0.968393\n",
      "w tensor([[ 2.0175, -3.3778]])\n",
      "b tensor([4.2383])\n",
      "epoch 39, loss: 0.968394\n",
      "w tensor([[ 2.0184, -3.3781]])\n",
      "b tensor([4.2387])\n",
      "epoch 40, loss: 0.968394\n",
      "w tensor([[ 2.0184, -3.3782]])\n",
      "b tensor([4.2385])\n",
      "epoch 41, loss: 0.968393\n",
      "w tensor([[ 2.0182, -3.3779]])\n",
      "b tensor([4.2383])\n",
      "epoch 42, loss: 0.968393\n",
      "w tensor([[ 2.0178, -3.3778]])\n",
      "b tensor([4.2382])\n",
      "epoch 43, loss: 0.968392\n",
      "w tensor([[ 2.0181, -3.3774]])\n",
      "b tensor([4.2380])\n",
      "epoch 44, loss: 0.968393\n",
      "w tensor([[ 2.0179, -3.3767]])\n",
      "b tensor([4.2375])\n",
      "epoch 45, loss: 0.968393\n",
      "w tensor([[ 2.0179, -3.3767]])\n",
      "b tensor([4.2375])\n",
      "epoch 46, loss: 0.968393\n",
      "w tensor([[ 2.0179, -3.3772]])\n",
      "b tensor([4.2381])\n",
      "epoch 47, loss: 0.968393\n",
      "w tensor([[ 2.0179, -3.3771]])\n",
      "b tensor([4.2381])\n",
      "epoch 48, loss: 0.968393\n",
      "w tensor([[ 2.0176, -3.3770]])\n",
      "b tensor([4.2381])\n",
      "epoch 49, loss: 0.968393\n",
      "w tensor([[ 2.0177, -3.3766]])\n",
      "b tensor([4.2379])\n",
      "epoch 50, loss: 0.968392\n",
      "w tensor([[ 2.0179, -3.3778]])\n",
      "b tensor([4.2378])\n",
      "epoch 51, loss: 0.968393\n",
      "w tensor([[ 2.0179, -3.3779]])\n",
      "b tensor([4.2379])\n",
      "epoch 52, loss: 0.968392\n",
      "w tensor([[ 2.0179, -3.3777]])\n",
      "b tensor([4.2378])\n",
      "epoch 53, loss: 0.968393\n",
      "w tensor([[ 2.0187, -3.3777]])\n",
      "b tensor([4.2376])\n",
      "epoch 54, loss: 0.968393\n",
      "w tensor([[ 2.0186, -3.3782]])\n",
      "b tensor([4.2372])\n",
      "epoch 55, loss: 0.968393\n",
      "w tensor([[ 2.0186, -3.3781]])\n",
      "b tensor([4.2373])\n",
      "epoch 56, loss: 0.968393\n",
      "w tensor([[ 2.0185, -3.3776]])\n",
      "b tensor([4.2374])\n",
      "epoch 57, loss: 0.968393\n",
      "w tensor([[ 2.0175, -3.3770]])\n",
      "b tensor([4.2377])\n",
      "epoch 58, loss: 0.968392\n",
      "w tensor([[ 2.0179, -3.3771]])\n",
      "b tensor([4.2376])\n",
      "epoch 59, loss: 0.968393\n",
      "w tensor([[ 2.0173, -3.3771]])\n",
      "b tensor([4.2376])\n",
      "epoch 60, loss: 0.968393\n",
      "w tensor([[ 2.0174, -3.3772]])\n",
      "b tensor([4.2378])\n",
      "epoch 61, loss: 0.968395\n",
      "w tensor([[ 2.0169, -3.3770]])\n",
      "b tensor([4.2384])\n",
      "epoch 62, loss: 0.968395\n",
      "w tensor([[ 2.0170, -3.3779]])\n",
      "b tensor([4.2385])\n",
      "epoch 63, loss: 0.968393\n",
      "w tensor([[ 2.0176, -3.3779]])\n",
      "b tensor([4.2380])\n",
      "epoch 64, loss: 0.968393\n",
      "w tensor([[ 2.0176, -3.3775]])\n",
      "b tensor([4.2386])\n",
      "epoch 65, loss: 0.968394\n",
      "w tensor([[ 2.0177, -3.3781]])\n",
      "b tensor([4.2386])\n",
      "epoch 66, loss: 0.968392\n",
      "w tensor([[ 2.0179, -3.3776]])\n",
      "b tensor([4.2380])\n",
      "epoch 67, loss: 0.968393\n",
      "w tensor([[ 2.0183, -3.3771]])\n",
      "b tensor([4.2375])\n",
      "epoch 68, loss: 0.968393\n",
      "w tensor([[ 2.0180, -3.3768]])\n",
      "b tensor([4.2374])\n",
      "epoch 69, loss: 0.968394\n",
      "w tensor([[ 2.0187, -3.3774]])\n",
      "b tensor([4.2369])\n",
      "epoch 70, loss: 0.968392\n",
      "w tensor([[ 2.0181, -3.3774]])\n",
      "b tensor([4.2375])\n",
      "epoch 71, loss: 0.968392\n",
      "w tensor([[ 2.0183, -3.3775]])\n",
      "b tensor([4.2380])\n",
      "epoch 72, loss: 0.968393\n",
      "w tensor([[ 2.0185, -3.3779]])\n",
      "b tensor([4.2378])\n",
      "epoch 73, loss: 0.968394\n",
      "w tensor([[ 2.0182, -3.3784]])\n",
      "b tensor([4.2382])\n",
      "epoch 74, loss: 0.968394\n",
      "w tensor([[ 2.0181, -3.3785]])\n",
      "b tensor([4.2385])\n",
      "epoch 75, loss: 0.968394\n",
      "w tensor([[ 2.0176, -3.3785]])\n",
      "b tensor([4.2386])\n",
      "epoch 76, loss: 0.968394\n",
      "w tensor([[ 2.0178, -3.3781]])\n",
      "b tensor([4.2386])\n",
      "epoch 77, loss: 0.968393\n",
      "w tensor([[ 2.0177, -3.3781]])\n",
      "b tensor([4.2378])\n",
      "epoch 78, loss: 0.968393\n",
      "w tensor([[ 2.0181, -3.3782]])\n",
      "b tensor([4.2382])\n",
      "epoch 79, loss: 0.968393\n",
      "w tensor([[ 2.0177, -3.3780]])\n",
      "b tensor([4.2378])\n",
      "epoch 80, loss: 0.968393\n",
      "w tensor([[ 2.0174, -3.3783]])\n",
      "b tensor([4.2376])\n",
      "epoch 81, loss: 0.968393\n",
      "w tensor([[ 2.0173, -3.3777]])\n",
      "b tensor([4.2376])\n",
      "epoch 82, loss: 0.968394\n",
      "w tensor([[ 2.0174, -3.3780]])\n",
      "b tensor([4.2367])\n",
      "epoch 83, loss: 0.968394\n",
      "w tensor([[ 2.0172, -3.3783]])\n",
      "b tensor([4.2371])\n",
      "epoch 84, loss: 0.968394\n",
      "w tensor([[ 2.0170, -3.3782]])\n",
      "b tensor([4.2375])\n",
      "epoch 85, loss: 0.968395\n",
      "w tensor([[ 2.0166, -3.3777]])\n",
      "b tensor([4.2377])\n",
      "epoch 86, loss: 0.968395\n",
      "w tensor([[ 2.0167, -3.3773]])\n",
      "b tensor([4.2383])\n",
      "epoch 87, loss: 0.968395\n",
      "w tensor([[ 2.0168, -3.3773]])\n",
      "b tensor([4.2386])\n",
      "epoch 88, loss: 0.968396\n",
      "w tensor([[ 2.0166, -3.3766]])\n",
      "b tensor([4.2385])\n",
      "epoch 89, loss: 0.968396\n",
      "w tensor([[ 2.0167, -3.3762]])\n",
      "b tensor([4.2380])\n",
      "epoch 90, loss: 0.968396\n",
      "w tensor([[ 2.0170, -3.3760]])\n",
      "b tensor([4.2375])\n",
      "epoch 91, loss: 0.968396\n",
      "w tensor([[ 2.0170, -3.3759]])\n",
      "b tensor([4.2371])\n",
      "epoch 92, loss: 0.968396\n",
      "w tensor([[ 2.0173, -3.3759]])\n",
      "b tensor([4.2367])\n",
      "epoch 93, loss: 0.968394\n",
      "w tensor([[ 2.0179, -3.3762]])\n",
      "b tensor([4.2372])\n",
      "epoch 94, loss: 0.968393\n",
      "w tensor([[ 2.0179, -3.3768]])\n",
      "b tensor([4.2372])\n",
      "epoch 95, loss: 0.968394\n",
      "w tensor([[ 2.0184, -3.3766]])\n",
      "b tensor([4.2370])\n",
      "epoch 96, loss: 0.968393\n",
      "w tensor([[ 2.0182, -3.3769]])\n",
      "b tensor([4.2376])\n",
      "epoch 97, loss: 0.968393\n",
      "w tensor([[ 2.0177, -3.3770]])\n",
      "b tensor([4.2374])\n",
      "epoch 98, loss: 0.968394\n",
      "w tensor([[ 2.0174, -3.3765]])\n",
      "b tensor([4.2374])\n",
      "epoch 99, loss: 0.968394\n",
      "w tensor([[ 2.0173, -3.3767]])\n",
      "b tensor([4.2376])\n",
      "epoch 100, loss: 0.968393\n",
      "w tensor([[ 2.0176, -3.3766]])\n",
      "b tensor([4.2376])\n"
     ]
    }
   ],
   "source": [
    "num_epochs = 100\n",
    "for epoch in range(1, num_epochs + 1):\n",
    "    for X, y in data_iter:\n",
    "        trainer.zero_grad()\n",
    "        l = loss(model.forward(X).reshape(-1), y)\n",
    "        l.backward()\n",
    "        trainer.step()\n",
    "    l = loss(model.forward(features).reshape(-1), labels)\n",
    "    print('epoch %d, loss: %f' % (epoch, l.item()))\n",
    "    print('w', model[0].weight.data)\n",
    "    print('b', model[0].bias.data)"
   ]
  },
  {
   "cell_type": "code",
   "execution_count": 39,
   "metadata": {
    "ExecuteTime": {
     "end_time": "2019-11-06T15:02:10.986551Z",
     "start_time": "2019-11-06T15:02:10.979650Z"
    }
   },
   "outputs": [
    {
     "name": "stdout",
     "output_type": "stream",
     "text": [
      "Error in estimating w tensor([[-0.0176, -0.0234]])\n",
      "Error in estimating b tensor([-0.0376])\n"
     ]
    }
   ],
   "source": [
    "w = model[0].weight.data\n",
    "print('Error in estimating w', true_w.reshape(w.shape) - w)\n",
    "b = model[0].bias.data\n",
    "print('Error in estimating b', true_b - b)"
   ]
  },
  {
   "cell_type": "code",
   "execution_count": 40,
   "metadata": {
    "ExecuteTime": {
     "end_time": "2019-11-06T15:02:16.070126Z",
     "start_time": "2019-11-06T15:02:16.064827Z"
    }
   },
   "outputs": [
    {
     "data": {
      "text/plain": [
       "tensor([[ 2.0176, -3.3766]])"
      ]
     },
     "execution_count": 40,
     "metadata": {},
     "output_type": "execute_result"
    }
   ],
   "source": [
    "model[0].weight.data"
   ]
  },
  {
   "cell_type": "code",
   "execution_count": 41,
   "metadata": {
    "ExecuteTime": {
     "end_time": "2019-11-06T15:02:22.387394Z",
     "start_time": "2019-11-06T15:02:22.381962Z"
    }
   },
   "outputs": [
    {
     "data": {
      "text/plain": [
       "tensor([4.2376])"
      ]
     },
     "execution_count": 41,
     "metadata": {},
     "output_type": "execute_result"
    }
   ],
   "source": [
    "model[0].bias.data"
   ]
  },
  {
   "cell_type": "code",
   "execution_count": null,
   "metadata": {},
   "outputs": [],
   "source": []
  },
  {
   "cell_type": "code",
   "execution_count": null,
   "metadata": {},
   "outputs": [],
   "source": []
  }
 ],
 "metadata": {
  "kernelspec": {
   "display_name": "Python 3",
   "language": "python",
   "name": "python3"
  },
  "language_info": {
   "codemirror_mode": {
    "name": "ipython",
    "version": 3
   },
   "file_extension": ".py",
   "mimetype": "text/x-python",
   "name": "python",
   "nbconvert_exporter": "python",
   "pygments_lexer": "ipython3",
   "version": "3.6.8"
  }
 },
 "nbformat": 4,
 "nbformat_minor": 2
}
