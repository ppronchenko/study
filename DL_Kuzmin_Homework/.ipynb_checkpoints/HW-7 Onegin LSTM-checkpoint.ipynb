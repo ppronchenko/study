{
 "cells": [
  {
   "cell_type": "code",
   "execution_count": 1,
   "metadata": {},
   "outputs": [],
   "source": [
    "import pandas as pd\n",
    "import time"
   ]
  },
  {
   "cell_type": "code",
   "execution_count": 2,
   "metadata": {},
   "outputs": [],
   "source": [
    "with open('onegin.txt', 'r') as f:\n",
    "    d = f.read()"
   ]
  },
  {
   "cell_type": "code",
   "execution_count": 3,
   "metadata": {},
   "outputs": [],
   "source": [
    "oneg = d.split('\\n')"
   ]
  },
  {
   "cell_type": "code",
   "execution_count": 4,
   "metadata": {},
   "outputs": [],
   "source": [
    "a = []\n",
    "b = []\n",
    "count = 0\n",
    "for i in oneg:\n",
    "    if i[:2] == '\\t\\t' and i[:4] != '\\t\\t……':\n",
    "        a.append(i[2:])\n",
    "    count += 1\n",
    "    if count % 4 == 0 and a != []:\n",
    "        b.append(' '.join(a))\n",
    "        a = []"
   ]
  },
  {
   "cell_type": "code",
   "execution_count": 5,
   "metadata": {},
   "outputs": [],
   "source": [
    "text = [x.lower() for x in b]"
   ]
  },
  {
   "cell_type": "code",
   "execution_count": 6,
   "metadata": {},
   "outputs": [
    {
     "data": {
      "text/plain": [
       "['he мысля гордый свет забавить, вниманье дружбы возлюбя, хотел бы я тебе представить',\n",
       " 'залог достойнее тебя, достойнее души прекрасной, святой исполненной мечты, поэзии живой и ясной,',\n",
       " 'высоких дум и простоты; но так и быть – рукой пристрастной прими собранье пёстрых глав, полусмешных, полупечальных,',\n",
       " 'простонародных, идеальных, небрежный плод моих забав, бессонниц, лёгких вдохновений, незрелых и увядших лет,',\n",
       " 'ума холодных наблюдений и сердца горестных замет.',\n",
       " '«мой дядя самых честных правил, когда не в шутку занемог, он уважать себя заставил и лучше выдумать не мог.',\n",
       " 'его пример другим наука; но, боже мой, какая скука с больным сидеть и день и ночь, не отходя ни шагу прочь!',\n",
       " 'какое низкое коварство полуживого забавлять, ему подушки поправлять, печально подносить лекарство,',\n",
       " 'вздыхать и думать про себя: когда же чёрт возьмёт тебя!»',\n",
       " 'так думал молодой повеса, летя в пыли на почтовых,']"
      ]
     },
     "execution_count": 6,
     "metadata": {},
     "output_type": "execute_result"
    }
   ],
   "source": [
    "text[:10]"
   ]
  },
  {
   "cell_type": "code",
   "execution_count": 7,
   "metadata": {},
   "outputs": [],
   "source": [
    "CHARS = set('абвгдеёжзийклмнопрстуфхцчшщыьъэюя.,?! ')"
   ]
  },
  {
   "cell_type": "code",
   "execution_count": 8,
   "metadata": {},
   "outputs": [
    {
     "data": {
      "text/plain": [
       "38"
      ]
     },
     "execution_count": 8,
     "metadata": {},
     "output_type": "execute_result"
    }
   ],
   "source": [
    "len(CHARS)"
   ]
  },
  {
   "cell_type": "code",
   "execution_count": 9,
   "metadata": {},
   "outputs": [],
   "source": [
    "text2 = []\n",
    "for i in text:\n",
    "    line = ''\n",
    "    for j in i:\n",
    "        if j in CHARS:\n",
    "            line = line+j \n",
    "    text2.append(line)"
   ]
  },
  {
   "cell_type": "code",
   "execution_count": 10,
   "metadata": {},
   "outputs": [
    {
     "data": {
      "text/plain": [
       "[' мысля гордый свет забавить, вниманье дружбы возлюбя, хотел бы я тебе представить',\n",
       " 'залог достойнее тебя, достойнее души прекрасной, святой исполненной мечты, поэзии живой и ясной,',\n",
       " 'высоких дум и простоты но так и быть  рукой пристрастной прими собранье пёстрых глав, полусмешных, полупечальных,',\n",
       " 'простонародных, идеальных, небрежный плод моих забав, бессонниц, лёгких вдохновений, незрелых и увядших лет,',\n",
       " 'ума холодных наблюдений и сердца горестных замет.',\n",
       " 'мой дядя самых честных правил, когда не в шутку занемог, он уважать себя заставил и лучше выдумать не мог.',\n",
       " 'его пример другим наука но, боже мой, какая скука с больным сидеть и день и ночь, не отходя ни шагу прочь!',\n",
       " 'какое низкое коварство полуживого забавлять, ему подушки поправлять, печально подносить лекарство,',\n",
       " 'вздыхать и думать про себя когда же чёрт возьмёт тебя!',\n",
       " 'так думал молодой повеса, летя в пыли на почтовых,']"
      ]
     },
     "execution_count": 10,
     "metadata": {},
     "output_type": "execute_result"
    }
   ],
   "source": [
    "text2[:10]"
   ]
  },
  {
   "cell_type": "code",
   "execution_count": 11,
   "metadata": {},
   "outputs": [],
   "source": [
    "INDEX_TO_CHAR = ['none'] + [w for w in CHARS]"
   ]
  },
  {
   "cell_type": "code",
   "execution_count": 12,
   "metadata": {},
   "outputs": [],
   "source": [
    "CHAR_TO_INDEX = {w: i for i, w in enumerate(INDEX_TO_CHAR)}"
   ]
  },
  {
   "cell_type": "code",
   "execution_count": 13,
   "metadata": {},
   "outputs": [
    {
     "data": {
      "text/plain": [
       "{'none': 0,\n",
       " '!': 1,\n",
       " 'р': 2,\n",
       " 'ц': 3,\n",
       " 'с': 4,\n",
       " 'з': 5,\n",
       " 'щ': 6,\n",
       " 'б': 7,\n",
       " '.': 8,\n",
       " 'е': 9,\n",
       " 'п': 10,\n",
       " 'х': 11,\n",
       " 'я': 12,\n",
       " 'ч': 13,\n",
       " 'д': 14,\n",
       " 'й': 15,\n",
       " 'т': 16,\n",
       " 'н': 17,\n",
       " 'ф': 18,\n",
       " 'ё': 19,\n",
       " 'ь': 20,\n",
       " '?': 21,\n",
       " 'ю': 22,\n",
       " 'о': 23,\n",
       " 'в': 24,\n",
       " 'у': 25,\n",
       " 'ж': 26,\n",
       " 'г': 27,\n",
       " ' ': 28,\n",
       " 'к': 29,\n",
       " ',': 30,\n",
       " 'э': 31,\n",
       " 'л': 32,\n",
       " 'а': 33,\n",
       " 'ш': 34,\n",
       " 'ы': 35,\n",
       " 'м': 36,\n",
       " 'ъ': 37,\n",
       " 'и': 38}"
      ]
     },
     "execution_count": 13,
     "metadata": {},
     "output_type": "execute_result"
    }
   ],
   "source": [
    "CHAR_TO_INDEX"
   ]
  },
  {
   "cell_type": "code",
   "execution_count": 14,
   "metadata": {},
   "outputs": [],
   "source": [
    "import torch"
   ]
  },
  {
   "cell_type": "code",
   "execution_count": 15,
   "metadata": {},
   "outputs": [],
   "source": [
    "MAX_LEN = 150"
   ]
  },
  {
   "cell_type": "code",
   "execution_count": 16,
   "metadata": {},
   "outputs": [],
   "source": [
    "X = torch.zeros((len(text2), MAX_LEN), dtype=int)"
   ]
  },
  {
   "cell_type": "code",
   "execution_count": 17,
   "metadata": {},
   "outputs": [],
   "source": [
    "for i in range(len(text2)):\n",
    "    for j, w in enumerate(text2[i]):\n",
    "        if j >= MAX_LEN:\n",
    "            break\n",
    "        X[i, j] = CHAR_TO_INDEX.get(w, CHAR_TO_INDEX['none'])"
   ]
  },
  {
   "cell_type": "code",
   "execution_count": 18,
   "metadata": {},
   "outputs": [
    {
     "data": {
      "text/plain": [
       "tensor([[ 5, 33, 32, 23, 27, 28, 14, 23,  4, 16, 23, 15, 17,  9,  9, 28, 16,  9,\n",
       "          7, 12, 30, 28, 14, 23,  4, 16, 23, 15, 17,  9,  9, 28, 14, 25, 34, 38,\n",
       "         28, 10,  2,  9, 29,  2, 33,  4, 17, 23, 15, 30, 28,  4, 24, 12, 16, 23,\n",
       "         15, 28, 38,  4, 10, 23, 32, 17,  9, 17, 17, 23, 15, 28, 36,  9, 13, 16,\n",
       "         35, 30, 28, 10, 23, 31,  5, 38, 38, 28, 26, 38, 24, 23, 15, 28, 38, 28,\n",
       "         12,  4, 17, 23, 15, 30,  0,  0,  0,  0,  0,  0,  0,  0,  0,  0,  0,  0,\n",
       "          0,  0,  0,  0,  0,  0,  0,  0,  0,  0,  0,  0,  0,  0,  0,  0,  0,  0,\n",
       "          0,  0,  0,  0,  0,  0,  0,  0,  0,  0,  0,  0,  0,  0,  0,  0,  0,  0,\n",
       "          0,  0,  0,  0,  0,  0]])"
      ]
     },
     "execution_count": 18,
     "metadata": {},
     "output_type": "execute_result"
    }
   ],
   "source": [
    "X[1:2]"
   ]
  },
  {
   "cell_type": "code",
   "execution_count": 19,
   "metadata": {},
   "outputs": [],
   "source": [
    "dev = torch.device(\"cuda:1\") if torch.cuda.is_available() else torch.device(\"cpu\")"
   ]
  },
  {
   "cell_type": "code",
   "execution_count": 20,
   "metadata": {},
   "outputs": [],
   "source": [
    "# попробуем двухслойную, двунаправленную сеть с хиден стейт - 256\n",
    "\n",
    "class GRU_Network(torch.nn.Module):\n",
    "\n",
    "    def __init__(self):\n",
    "        super(GRU_Network, self).__init__()\n",
    "        self.word_embeddings = torch.nn.Embedding(len(INDEX_TO_CHAR), 50)\n",
    "        self.gru = torch.nn.GRU(50, 256, batch_first=True, num_layers = 2, bidirectional = True)\n",
    "        self.hidden2tag = torch.nn.Linear(256*2, len(INDEX_TO_CHAR))\n",
    "\n",
    "    def forward(self, sentences):\n",
    "        embeds = self.word_embeddings(sentences)\n",
    "        gru_out, state = self.gru(embeds)\n",
    "        tag_space = self.hidden2tag(gru_out.reshape(-1, 256*2))\n",
    "        return tag_space.reshape(sentences.shape[0], sentences.shape[1], -1), state\n",
    "\n",
    "    def forward_state(self, sentences, state):\n",
    "        embeds = self.word_embeddings(sentences)\n",
    "        gru_out, state = self.gru(embeds, state)\n",
    "        tag_space = self.hidden2tag(gru_out.reshape(-1, 256*2))\n",
    "        return tag_space.reshape(sentences.shape[0], sentences.shape[1], -1), state"
   ]
  },
  {
   "cell_type": "code",
   "execution_count": 21,
   "metadata": {},
   "outputs": [],
   "source": [
    "model = GRU_Network()"
   ]
  },
  {
   "cell_type": "code",
   "execution_count": 22,
   "metadata": {},
   "outputs": [],
   "source": [
    "model = model.to(dev)"
   ]
  },
  {
   "cell_type": "code",
   "execution_count": 26,
   "metadata": {},
   "outputs": [],
   "source": [
    "def generate_sentence(sent):\n",
    "    sentence = [x for x in sent]\n",
    "    state = None\n",
    "    for i in range(MAX_LEN):\n",
    "        X = torch.Tensor([[CHAR_TO_INDEX[sentence[i]]]]).type(torch.long).to(dev)\n",
    "        if i == 0:\n",
    "            result, state = model.forward(X)\n",
    "        else:\n",
    "            result, state = model.forward_state(X, state)\n",
    "        prediction = result[0, -1, :]\n",
    "        index_of_prediction = prediction.argmax()\n",
    "        if i >= len(sentence) - 1:\n",
    "            if index_of_prediction == 0:\n",
    "                break\n",
    "        sentence.append(INDEX_TO_CHAR[index_of_prediction])\n",
    "    print(''.join(sentence))"
   ]
  },
  {
   "cell_type": "code",
   "execution_count": 27,
   "metadata": {},
   "outputs": [],
   "source": [
    "criterion = torch.nn.CrossEntropyLoss()\n",
    "optimizer = torch.optim.SGD(model.parameters(), lr=.05, momentum=0.7)"
   ]
  },
  {
   "cell_type": "code",
   "execution_count": 28,
   "metadata": {},
   "outputs": [
    {
     "name": "stdout",
     "output_type": "stream",
     "text": [
      "мой дядя самых честных правилц????ммммууффдууууууудуушшцццшщйййююююююююююююччччюччю  лщщщщ..!!!!!!!!!!!!жжжпюппюп. ......ыыыыббббббббббббббшшшшшшшшшшшцццеееееоооооооооошшшшззззззз\n"
     ]
    }
   ],
   "source": [
    "generate_sentence('мой дядя самых честных правил')"
   ]
  },
  {
   "cell_type": "code",
   "execution_count": 29,
   "metadata": {},
   "outputs": [],
   "source": [
    "def train_net(epocha):\n",
    "    for ep in range(epocha):\n",
    "        start = time.time()\n",
    "        train_loss = 0.\n",
    "        train_passed = 0\n",
    "\n",
    "        for i in range(int(len(X) / 50)):\n",
    "            batch = X[i * 50:(i + 1) * 50]\n",
    "            X_batch = batch[:, :-1]\n",
    "            Y_batch = batch[:, 1:].flatten()\n",
    "            X_batch = X_batch.to(dev)\n",
    "            Y_batch = Y_batch.to(dev)\n",
    "\n",
    "            optimizer.zero_grad()\n",
    "            answers, _ = model.forward(X_batch)\n",
    "            answers = answers.view(-1, len(INDEX_TO_CHAR))\n",
    "            loss = criterion(answers, Y_batch)\n",
    "            train_loss += loss.item()\n",
    "\n",
    "            loss.backward()\n",
    "            optimizer.step()\n",
    "            train_passed += 1\n",
    "\n",
    "\n",
    "        if ep % 100 == 0:\n",
    "            print(\"Epoch {}. Time: {:.3f}, Train loss: {:.3f}\".format(ep, time.time() - start, train_loss / train_passed))\n",
    "            generate_sentence('мой дядя самых честных')"
   ]
  },
  {
   "cell_type": "code",
   "execution_count": 30,
   "metadata": {},
   "outputs": [
    {
     "name": "stdout",
     "output_type": "stream",
     "text": [
      "Epoch 0. Time: 0.427, Train loss: 2.320\n",
      "мой дядя самых честныхnonenonenone               none   nonenonenonenonenonenonenone           nonenonenone nonenonenonenonenonenonenonenonenonenonenonenone      nonenonenonenonenonenonenonenonenonenonenonenonenonenonenonenonenonenonenonenonenone nonenonenonenonenonenonenonenonenonenonenonenonenonenonenonenonenonenonenonenonenonenonenonenonenonenonenonenonenonenonenonenonenonenonenonenonenonenonenonenonenonenonenonenonenonenonenonenonenonenonenonenonenonenonenonenonenonenonenonenonenonenonenonenonenonenone\n",
      "Epoch 100. Time: 0.406, Train loss: 0.096\n",
      "мой дядя самых честныхммоо дддя самыххчессныымммо дддд самыххччсссыымммм дддд самыххчччссыымммммдддд самыххччччсыыммммммддд самыххчччччыымммммммдд самыххччччччыымммммммд са\n",
      "Epoch 200. Time: 0.387, Train loss: 0.017\n",
      "мой дядя самых честныхммоо дядя самых честныыммоо дядя самых честныыммоо дядя самых честныыммоо дядя самых честныыммоо дядя самых честныыммоо дядя самых честныыммоо дядя са\n",
      "Epoch 300. Time: 0.409, Train loss: 0.007\n",
      "мой дядя самых честныхммоо дядя самых честныхммоо дядя самых честныхммоо дядя самых честныхммоо дядя самых честныхммоо дядя самых честныхммоо дядя самых честныхммоо дядя са\n",
      "Epoch 400. Time: 0.423, Train loss: 0.004\n",
      "мой дядя самых честныхммоо дядя самых честныхммоо дядя самых честныхммоо дядя самых честныхммоо дядя самых честныхммоо дядя самых честныхммоо дядя самых честныхммоо дядя са\n",
      "Epoch 500. Time: 0.419, Train loss: 0.003\n",
      "мой дядя самых честныхммоо дядя самых честныхммоо дядя самых честныхммоо дядя самых честныхммоо дядя самых честныхммоо дядя самых честныхммоо дядя самых честныхммоо дядя са\n",
      "Epoch 600. Time: 0.420, Train loss: 0.002\n",
      "мой дядя самых честныхммоо дядя самых честныхммоо дядя самых честныхммоо дядя самых честныхммоо дядя самых честныхммоо дядя самых честныхммоо дядя самых честныхммоо дядя са\n",
      "Epoch 700. Time: 0.429, Train loss: 0.002\n",
      "мой дядя самых честныхммоо дядя самых честныхммоо дядя самых честныхммоо дядя самых честныхммоо дядя самых честныхммоо дядя самых честныхммоо дядя самых честныхммоо дядя са\n",
      "Epoch 800. Time: 0.419, Train loss: 0.001\n",
      "мой дядя самых честныхммоо дядя самых честныхммоо дядя самых честныхммоо дядя самых честныхммоо дядя самых честныхммоо дядя самых честныхммоо дядя самых честныхммоо дядя са\n",
      "Epoch 900. Time: 0.425, Train loss: 0.001\n",
      "мой дядя самых честныхммоо дядя самых честныхммоо дядя самых честныхммоо дядя самых честныхммоо дядя самых честныхммоо дядя самых честныхммоо дядя самых честныхммоо дядя са\n"
     ]
    }
   ],
   "source": [
    "train_net(1000)"
   ]
  },
  {
   "cell_type": "code",
   "execution_count": 31,
   "metadata": {},
   "outputs": [],
   "source": [
    "optimizer = torch.optim.Adam(model.parameters(), lr=.001)"
   ]
  },
  {
   "cell_type": "code",
   "execution_count": 32,
   "metadata": {},
   "outputs": [
    {
     "name": "stdout",
     "output_type": "stream",
     "text": [
      "Epoch 0. Time: 0.444, Train loss: 0.001\n",
      "мой дядя самых честныхммоо дядя самых честныхммоо дядя самых честныхммоо дядя самых честныхммоо дядя самых честныхммоо дядя самых честныхммоо дядя самых честныхммоо дядя са\n",
      "Epoch 100. Time: 0.451, Train loss: 0.000\n",
      "мой дядя самых честныхммой дядя самых честныхммой дядя самых честныхммой дядя самых честныхммой дядя самых честныхммой дядя самых честныхммой дядя самых честныхммой дядя са\n",
      "Epoch 200. Time: 0.436, Train loss: 0.000\n",
      "мой дядя самых честныхммой дядя самых честныхммой дядя самых честныхммой дядя самых честныхммой дядя самых честныхммой дядя самых честныхммой дядя самых честныхммой дядя са\n",
      "Epoch 300. Time: 0.428, Train loss: 0.000\n",
      "мой дядя самых честныхммой дядя самых честныхммой дядя самых честныхммой дядя самых честныхммой дядя самых честныхммой дядя самых честныхммой дядя самых честныхммой дядя са\n",
      "Epoch 400. Time: 0.428, Train loss: 0.000\n",
      "мой дядя самых честныхммой дядя самых честныхммой дядя самых честныхммой дядя самых честныхммой дядя самых честныхммой дядя самых честныхммой дядя самых честныхммой дядя са\n",
      "Epoch 500. Time: 0.428, Train loss: 0.000\n",
      "мой дядя самых честныхммой дядя самых честныхммой дядя самых честныхммой дядя самых честныхммой дядя самых честныхммой дядя самых честныхммой дядя самых честныхммой дядя са\n",
      "Epoch 600. Time: 0.448, Train loss: 0.000\n",
      "мой дядя самых честныхммой дядя самых честныхммой дядя самых честныхммой дядя самых честныхммой дядя самых честныхммой дядя самых честныхммой дядя самых честныхммой дядя са\n",
      "Epoch 700. Time: 0.543, Train loss: 0.000\n",
      "мой дядя самых честныхммой дядя самых честныхммой дядя самых честныхммой дядя самых честныхммой дядя самых честныхммой дядя самых честныхммой дядя самых честныхммой дядя са\n",
      "Epoch 800. Time: 0.435, Train loss: 0.000\n",
      "мой дядя самых честныхммой дядя самых честныхммой дядя самых честныхммой дядя самых честныхммой дядя самых честныхммой дядя самых честныхммой дядя самых честныхммой дядя са\n",
      "Epoch 900. Time: 0.449, Train loss: 0.000\n",
      "мой дядя самых честныхммой дядя самых честныхммой дядя самых честныхммой дядя самых честныхммой дядя самых честныхммой дядя самых честныхммой дядя самых честныхммой дядя са\n"
     ]
    }
   ],
   "source": [
    "train_net(1000)"
   ]
  },
  {
   "cell_type": "code",
   "execution_count": 33,
   "metadata": {},
   "outputs": [],
   "source": [
    "# лосс - обнулился - сеть генерирует одну и ту же последовательности символов. Пробуем LSTM"
   ]
  },
  {
   "cell_type": "code",
   "execution_count": 108,
   "metadata": {},
   "outputs": [],
   "source": [
    "class LSTM_Network(torch.nn.Module):\n",
    "\n",
    "    def __init__(self):\n",
    "        super(LSTM_Network, self).__init__()\n",
    "        self.word_embeddings = torch.nn.Embedding(len(INDEX_TO_CHAR), 50)\n",
    "        self.net = torch.nn.LSTM(50, 256, batch_first=True)\n",
    "        self.hidden2tag = torch.nn.Linear(256, len(INDEX_TO_CHAR))\n",
    "\n",
    "    def forward(self, sentences):\n",
    "        embeds = self.word_embeddings(sentences)\n",
    "        gru_out, state = self.net(embeds)\n",
    "        tag_space = self.hidden2tag(gru_out.reshape(-1, 256))\n",
    "        return tag_space.reshape(sentences.shape[0], sentences.shape[1], -1), state\n",
    "\n",
    "    def forward_state(self, sentences, state):\n",
    "        embeds = self.word_embeddings(sentences)\n",
    "        gru_out, state= self.net(embeds, state)\n",
    "        tag_space = self.hidden2tag(gru_out.reshape(-1, 256))\n",
    "        return tag_space.reshape(sentences.shape[0], sentences.shape[1], -1), state"
   ]
  },
  {
   "cell_type": "code",
   "execution_count": 109,
   "metadata": {},
   "outputs": [],
   "source": [
    "model = LSTM_Network()"
   ]
  },
  {
   "cell_type": "code",
   "execution_count": 110,
   "metadata": {},
   "outputs": [],
   "source": [
    "model = model.to(dev)"
   ]
  },
  {
   "cell_type": "code",
   "execution_count": 111,
   "metadata": {},
   "outputs": [
    {
     "data": {
      "text/plain": [
       "LSTM_Network(\n",
       "  (word_embeddings): Embedding(39, 50)\n",
       "  (net): LSTM(50, 256, batch_first=True)\n",
       "  (hidden2tag): Linear(in_features=256, out_features=39, bias=True)\n",
       ")"
      ]
     },
     "execution_count": 111,
     "metadata": {},
     "output_type": "execute_result"
    }
   ],
   "source": [
    "model"
   ]
  },
  {
   "cell_type": "code",
   "execution_count": 112,
   "metadata": {},
   "outputs": [],
   "source": [
    "optimizer = torch.optim.SGD(model.parameters(), lr=.05)"
   ]
  },
  {
   "cell_type": "code",
   "execution_count": 113,
   "metadata": {},
   "outputs": [
    {
     "name": "stdout",
     "output_type": "stream",
     "text": [
      "Epoch 0. Time: 0.146, Train loss: 3.256\n",
      "мой дядя самых честныхnonenonenone о    nonenonenonenonenone nonenonenone nonenonenonenonenonenonenonenonenone  !nonenonenonenonenonenonenonenonenonenonenonenonenonenonenonenonenonenonenonenonenonenonenonenonenonenonenonenonenonenonenonenonenonenonenonenonenonenonenonenonenonenonenonenonenonenonenonenonenonenonenonenonenonenonenonenonenonenonenonenonenonenonenonenonenonenonenonenonenonenonenonenonenonenonenonenonenonenonenonenonenonenonenonenonenonenonenonenonenonenonenonenonenonenonenonenonenonenonenonenonenonenonenonenonenonenonenonenonenonenonenonenonenonenonenonenonenonenonenone\n",
      "Epoch 100. Time: 0.145, Train loss: 1.636\n",
      "мой дядя самых честных   оо   о     оо      оооо ооооооооооооооооооо  оо                  ооо оооооооооооооооооооо оо                   о  оооооооооооооооооооооооо         \n",
      "Epoch 200. Time: 0.144, Train loss: 1.523\n",
      "мой дядя самых честных   по   птт   оонтоа  оппорпппооооппрноо  спноороооор   рооо  сптоо  а    асппонн сптоо  сплппппстоорооотоо  сптоооооото  а      сптоо        сплппппп\n",
      "Epoch 300. Time: 0.145, Train loss: 1.452\n",
      "мой дядя самых честных   по   птт   понтоа  пппорпппооооппороо  спооороооорл  ррран спторл а    ааипоаасаптоо ааолпппплл рлл т ро  влл  ооооооооааоооонппооаопсл            \n",
      "Epoch 400. Time: 0.145, Train loss: 1.410\n",
      "мой дядя самых честныха  по   птл   пентоо   впорпппооооппорео  вппоораооррл  ррран нпооррлал  аааипааасепоол ааа ииплл  рл  т рн  нл  с  роаипааппопааппеаппеппасл рл роррл\n",
      "Epoch 500. Time: 0.142, Train loss: 1.381\n",
      "мой дядя самых честныха  по   птл   оентоо   впорпппроооппл  а  впперреооросн роооплпперрреан   йтопас  рооориаан испп о рлтппас  а    и тооорпааооолтпплпппп пор   ол     ь\n",
      "Epoch 600. Time: 0.144, Train loss: 1.359\n",
      "мой дядя самых честныхо  по   птл   оеттьой  впррпппрооопп   ь   нпеооаоооосн рооппепппеор       тооас рорррррнннппппппор  твадааааааыыооооррреспооле             аантон   н\n",
      "Epoch 700. Time: 0.141, Train loss: 1.339\n",
      "мой дядя самых честныхо  по   птл   оеттьой  впррпппрооопп   ь   нп роаоооосн ооопп пппеопад     тоо   рооррррнрленппппрр нппад ааааоаасиоооооосеоолесл              т     т\n",
      "Epoch 800. Time: 0.142, Train loss: 1.322\n",
      "мой дядя самых честныхо  по а птло  оеттаой  впррплпроойспн  ь   нп роеоооос  тоооп пппеопад     твпор  рнррррнрлннппппооореспаеааааоаиоыоооорннннтолн              ыыыыо  ы\n",
      "Epoch 900. Time: 0.145, Train loss: 1.306\n",
      "мой дядя самых честныхо  по а птло  оеттаой  впррплпроейспн  ь   нп роеоооосн тоооп пппеооад н   товов  рнррррнн ннепппоролоспаеааааоосее оооренийтолн      т  ннннннн  ь  о\n"
     ]
    }
   ],
   "source": [
    "train_net(1000)"
   ]
  },
  {
   "cell_type": "code",
   "execution_count": 114,
   "metadata": {},
   "outputs": [],
   "source": [
    "optimizer = torch.optim.Adam(model.parameters(), lr=.001)"
   ]
  },
  {
   "cell_type": "code",
   "execution_count": 115,
   "metadata": {},
   "outputs": [
    {
     "name": "stdout",
     "output_type": "stream",
     "text": [
      "Epoch 0. Time: 0.165, Train loss: 1.314\n",
      "мой дядя самых честныхо  па а птле  оеттаой  ппрлслпооеннпннььл  нпрроееооснньыооые оопеоеесннн тоыей    нннрлннньоыыоов   нпппеееееооыей     сппеооорннн      нпппперррнннн\n",
      "Epoch 100. Time: 0.156, Train loss: 0.347\n",
      "мой дядя самых честныхеи оядя самых дестных   рдде немох делн ые ерраоовпо    ннвьыох дддезнн,ернннноооюхм нноояььо  гыоооо    илеегг   ннролввннннллхь  оооооооогюыоооооооо\n",
      "Epoch 200. Time: 0.159, Train loss: 0.056\n",
      "мой дядя самых честныхеи дядя самых честных   прди иоми, дестной лррроохтзт,  навиаи  кеаауййааааиииики  тккнннл,  рддднлл   ннооооооеокиаооооооонроо вм    н н нннннннееккк\n",
      "Epoch 300. Time: 0.158, Train loss: 0.033\n",
      "мой дядя самых честныхеи дядя самых честных   прди иоми  кестной лррроохтзн  смлнныый пегггййааааиилоооийм уррррреурхт    ннн  едсиииоооссооомввееювопмттнннннее нн аанттнле\n",
      "Epoch 400. Time: 0.155, Train loss: 0.028\n",
      "мой дядя самых честныхеи дядя самых честных   прди иопик дестный прлроохтнтлс иознрый кроюибб,ииоияяхлврюв,снуг,  р   м     аиди яякд ввосмпооимммбмимпн  еиоорхеиннн ааои  \n",
      "Epoch 500. Time: 0.156, Train loss: 0.024\n",
      "мой дядя самых честныхеи дядя самых честных   прди иопик кестный прлрооттнтл  иинниий уроюодд,еиоого   ок  дсск,, а   тнн тплллурртии  пннууооооориияккиоы срооопмкккннес   \n",
      "Epoch 600. Time: 0.159, Train loss: 0.025\n",
      "мой дядя самых честныхеи дядя самых честных   прди иопок дестных пплроозтнслм иввнре,.иооеечндыыккяктыррит  noneй,  ьоо   л ии ееееиоа  чгёллбнмёпнзннзсснн ннуетооооезоыыыыыкк\n",
      "Epoch 700. Time: 0.158, Train loss: 0.023\n",
      "мой дядя самых честныхеи дядя самых честных   прди иопок кестных прлроозтнслм ииннний дооиошддоояоооххыыакзшолбхх,аа н ннб а    аив о а нннауааоохлллххднннтмвеео..ллнн енаи\n",
      "Epoch 800. Time: 0.158, Train loss: 0.023\n",
      "мой дядя самых честныхеи дядя самых честных   прди иоппк кестных прлроолтнмлаалантны  иооиичжчсояаддерьррхрвмммм  аитв   ари ааоааааааиннньуявухинннннннн,,,ллыые     ниыооо\n",
      "Epoch 900. Time: 0.159, Train loss: 0.024\n",
      "мой дядя самых честныхеи дядя самых честных   прди иомох дестный прлроозтзм л ннлныые.уроиигнноаыиигиооомф   омл наой      ннн еррллнооадн,шлллппоеоппвеееоййлле  еоооермннр\n"
     ]
    }
   ],
   "source": [
    "train_net(1000)"
   ]
  },
  {
   "cell_type": "code",
   "execution_count": 116,
   "metadata": {},
   "outputs": [
    {
     "name": "stdout",
     "output_type": "stream",
     "text": [
      "Epoch 0. Time: 0.168, Train loss: 0.023\n",
      "мой дядя самых честныхои дядя самых честных   дрди ивмоч частный пплруоцнмаелинивтио  ирроужкеаетт й,йыа,нпн оос аи  т ьи  а   ииимттттбннбомюхтгмгггххх  раооооо    аииииии\n",
      "Epoch 100. Time: 0.162, Train loss: 0.022\n",
      "мой дядя самых честныхеи дядя самых честных   прди иомок дестный прлроозтнм л лллнлые.урооддннаиыкюгююооавтnonenoneжнннноо    дд  дбрниnonenonenoneиооой чвккрооооооо nonenonenonenone    денооовв    н\n",
      "Epoch 200. Time: 0.160, Train loss: 0.022\n",
      "мой дядя самых честныхеи дядя самых честных   прди иомак дестный прлроозчнс   ннннры  уроиувкнуыяуууеиооихмммок   ио       ьннн  нннлнвухххмсмммммооооооеоюоеюлраатиеныывннн\n",
      "Epoch 300. Time: 0.159, Train loss: 0.022\n",
      "мой дядя самых честныхеи дядя самых честных   прди иомак дестный прлроозчнс   ннннры  уроиувкнуыяуууеиооихмммон   ио       ьннн  нннялвумммсссмммоюооооеео еижннияяяяяявтннн\n",
      "Epoch 400. Time: 0.157, Train loss: 0.022\n",
      "мой дядя самых честныхеи дядя самых честных   прди иомак дестных прлроозчнс   ннннры .ириииивнуоятууооооихм  елл,, о     нннннн аннльюн нттспппоооооиимтеюв, кеооииеррэммкм \n",
      "Epoch 500. Time: 0.160, Train loss: 0.022\n",
      "мой дядя самых честныхеи дядя самых честных   прди иомак дестных прлроозчнс   ннннры .ириииивнуоятууооооихм  елл,, о     нннннн аннльюн нтсспппоооооиимтеюв, веоииуууммннн,,\n",
      "Epoch 600. Time: 0.157, Train loss: 0.022\n",
      "мой дядя самых честныхеи дядя самых честных   прди иомак дестных прлроозчнс   ннннры .ириииивнуоятууооооихм  елл,, о     нннннн аннльюн нтсспппоооооиимтеюв  веоииууумтнмн,,\n",
      "Epoch 700. Time: 0.158, Train loss: 0.022\n",
      "мой дядя самых честныхеи дядя самых честных   прди иомак дестных прлроозчнс   ннннры .ириииивнуыятууооооийх  улл,, о      нннн   днныео внтввпппоооооиилио. мм еааааеечм  н \n",
      "Epoch 800. Time: 0.162, Train loss: 0.022\n",
      "мой дядя самых честныхеи дядя самых честных   прди иомак дестных прлроозчнс   ннннры .ириииивнуыятууооооийх  улл,, о      нннн   днныео внтввпппоооооиилио. мм еааааеедм  н \n",
      "Epoch 900. Time: 0.160, Train loss: 0.022\n",
      "мой дядя самых честныхеи дядя самых честных   прди иомак дестных прлроозчнн   ннннры .ириииивнуыоуукееооийм  уз           ннннн лннлорвннмммооппооооооюооюжиииоыееррнррннннн\n"
     ]
    }
   ],
   "source": [
    "optimizer = torch.optim.AdamW(model.parameters(), lr=.0001)\n",
    "train_net(1000)"
   ]
  },
  {
   "cell_type": "code",
   "execution_count": 117,
   "metadata": {},
   "outputs": [],
   "source": [
    "sent = 'его пример'"
   ]
  },
  {
   "cell_type": "code",
   "execution_count": 118,
   "metadata": {},
   "outputs": [
    {
     "name": "stdout",
     "output_type": "stream",
     "text": [
      "его примерго лример д сеесесьгонолтт ь д    аасееоооооллтнн   нннеаоооилиаив дтн      неоооиивмооо вв   аеттеееррррнормн  оооойаааоо лдмнддддддееееееыыоо       \n"
     ]
    }
   ],
   "source": [
    "generate_sentence(sent)"
   ]
  },
  {
   "cell_type": "code",
   "execution_count": null,
   "metadata": {},
   "outputs": [],
   "source": [
    "# лосс больше не падает - сеть генерирует каке то отдельные слова типа \"дестных\""
   ]
  }
 ],
 "metadata": {
  "kernelspec": {
   "display_name": "Python 3",
   "language": "python",
   "name": "python3"
  },
  "language_info": {
   "codemirror_mode": {
    "name": "ipython",
    "version": 3
   },
   "file_extension": ".py",
   "mimetype": "text/x-python",
   "name": "python",
   "nbconvert_exporter": "python",
   "pygments_lexer": "ipython3",
   "version": "3.6.8"
  }
 },
 "nbformat": 4,
 "nbformat_minor": 2
}
