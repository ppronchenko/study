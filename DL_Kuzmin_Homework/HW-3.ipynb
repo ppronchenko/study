{
 "cells": [
  {
   "cell_type": "code",
   "execution_count": 27,
   "metadata": {
    "ExecuteTime": {
     "end_time": "2019-11-11T21:09:22.893628Z",
     "start_time": "2019-11-11T21:09:22.601085Z"
    }
   },
   "outputs": [],
   "source": [
    "import matplotlib.pyplot as plt\n",
    "%matplotlib inline\n",
    "import torch\n",
    "import numpy as np\n",
    "import torchvision as tv\n",
    "import time\n",
    "BATCH_SIZE=512"
   ]
  },
  {
   "cell_type": "code",
   "execution_count": 28,
   "metadata": {},
   "outputs": [],
   "source": [
    "train_dataset = tv.datasets.FashionMNIST('./fashion', train=True, transform=tv.transforms.ToTensor(), download=True)\n",
    "test_dataset = tv.datasets.FashionMNIST('./fashion', train=False, transform=tv.transforms.ToTensor(), download=True)"
   ]
  },
  {
   "cell_type": "code",
   "execution_count": 29,
   "metadata": {
    "ExecuteTime": {
     "end_time": "2019-11-11T21:23:40.230893Z",
     "start_time": "2019-11-11T21:23:40.189035Z"
    }
   },
   "outputs": [],
   "source": [
    "train = torch.utils.data.DataLoader(train_dataset, batch_size=BATCH_SIZE)\n",
    "test = torch.utils.data.DataLoader(test_dataset, batch_size=BATCH_SIZE)"
   ]
  },
  {
   "cell_type": "code",
   "execution_count": 30,
   "metadata": {
    "ExecuteTime": {
     "end_time": "2019-11-11T21:23:40.795687Z",
     "start_time": "2019-11-11T21:23:40.672226Z"
    },
    "scrolled": true
   },
   "outputs": [
    {
     "data": {
      "text/plain": [
       "<matplotlib.image.AxesImage at 0x7f4c43c35208>"
      ]
     },
     "execution_count": 30,
     "metadata": {},
     "output_type": "execute_result"
    },
    {
     "data": {
      "image/png": "[encoded data removed]",
      "text/plain": [
       "<Figure size 432x288 with 1 Axes>"
      ]
     },
     "metadata": {
      "needs_background": "light"
     },
     "output_type": "display_data"
    }
   ],
   "source": [
    "plt.imshow(train_dataset[3][0].numpy().reshape(28,28), cmap='gray')"
   ]
  },
  {
   "cell_type": "code",
   "execution_count": 31,
   "metadata": {},
   "outputs": [],
   "source": [
    "# Постороим модель - сделаем ее глубже и добавим слои BatchNorm и DropOut"
   ]
  },
  {
   "cell_type": "code",
   "execution_count": 43,
   "metadata": {
    "ExecuteTime": {
     "end_time": "2019-11-11T21:23:41.010511Z",
     "start_time": "2019-11-11T21:23:41.003495Z"
    }
   },
   "outputs": [],
   "source": [
    "model = torch.nn.Sequential(\n",
    "    torch.nn.Flatten(),\n",
    "    torch.nn.BatchNorm1d(784),\n",
    "    torch.nn.Linear(784, 3136),\n",
    "    torch.nn.ReLU(),\n",
    "    torch.nn.BatchNorm1d(3136),\n",
    "    torch.nn.Dropout(0.2),\n",
    "    torch.nn.Linear(3136, 1568),\n",
    "    torch.nn.ReLU(),\n",
    "    torch.nn.BatchNorm1d(1568),\n",
    "    torch.nn.Dropout(0.2),\n",
    "    torch.nn.Linear(1568, 392),\n",
    "    torch.nn.ReLU(),\n",
    "    torch.nn.BatchNorm1d(392),\n",
    "    torch.nn.Dropout(0.2),\n",
    "    torch.nn.Linear(392, 10),\n",
    ")"
   ]
  },
  {
   "cell_type": "code",
   "execution_count": 44,
   "metadata": {},
   "outputs": [],
   "source": [
    "dev = torch.device(\"cuda:0\" if torch.cuda.is_available() else \"cpu\")"
   ]
  },
  {
   "cell_type": "code",
   "execution_count": 45,
   "metadata": {
    "scrolled": true
   },
   "outputs": [
    {
     "data": {
      "text/plain": [
       "device(type='cuda', index=0)"
      ]
     },
     "execution_count": 45,
     "metadata": {},
     "output_type": "execute_result"
    }
   ],
   "source": [
    "dev"
   ]
  },
  {
   "cell_type": "code",
   "execution_count": 46,
   "metadata": {},
   "outputs": [],
   "source": [
    "model = model.to(dev)"
   ]
  },
  {
   "cell_type": "code",
   "execution_count": 47,
   "metadata": {
    "ExecuteTime": {
     "start_time": "2019-11-11T21:23:41.448Z"
    },
    "scrolled": false
   },
   "outputs": [],
   "source": [
    "def train_model(model, num_epochs, train, test, trainer, dev):\n",
    "    for ep in range(num_epochs):\n",
    "        train_iters, train_passed  = 0, 0\n",
    "        train_loss, train_acc = 0., 0.\n",
    "    \n",
    "        for X, y in train:\n",
    "            X, y = X.to(dev), y.to(dev)\n",
    "            trainer.zero_grad()\n",
    "            y_pred = model(X)\n",
    "            l = loss(y_pred, y)\n",
    "            l.backward()\n",
    "            trainer.step()\n",
    "            train_loss += l.item()\n",
    "            train_acc += (y_pred.argmax(dim=1) == y).sum().item()\n",
    "            train_iters += 1\n",
    "            train_passed += len(X)\n",
    "    \n",
    "        test_iters, test_passed  = 0, 0\n",
    "        test_loss, test_acc = 0., 0.\n",
    "        for X, y in test:\n",
    "            X, y = X.to(dev), y.to(dev)\n",
    "            y_pred = model(X)\n",
    "            l = loss(y_pred, y)\n",
    "            test_loss += l.item()\n",
    "            test_acc += (y_pred.argmax(dim=1) == y).sum().item()\n",
    "            test_iters += 1\n",
    "            test_passed += len(X)\n",
    "        \n",
    "        print(\"ep: {}, train_loss: {}, train_acc: {}, test_loss: {}, test_acc: {}\".format(\n",
    "            ep, train_loss / train_iters, train_acc / train_passed,\n",
    "            test_loss / test_iters, test_acc / test_passed)\n",
    "        )"
   ]
  },
  {
   "cell_type": "code",
   "execution_count": 49,
   "metadata": {},
   "outputs": [
    {
     "name": "stdout",
     "output_type": "stream",
     "text": [
      "ep: 0, train_loss: 209.9827484842074, train_acc: 0.8554666666666667, test_loss: 210.3841896057129, test_acc: 0.8496\n",
      "ep: 1, train_loss: 179.0713008945271, train_acc: 0.8710166666666667, test_loss: 211.09325218200684, test_acc: 0.8542\n",
      "ep: 2, train_loss: 165.96007857888432, train_acc: 0.8824166666666666, test_loss: 211.74167022705078, test_acc: 0.8503\n",
      "ep: 3, train_loss: 158.96354888657393, train_acc: 0.88525, test_loss: 193.81148262023925, test_acc: 0.8635\n",
      "ep: 4, train_loss: 154.1160336995529, train_acc: 0.8888, test_loss: 208.4253402709961, test_acc: 0.8563\n",
      "ep: 5, train_loss: 150.6066830521923, train_acc: 0.8921166666666667, test_loss: 197.51052780151366, test_acc: 0.8583\n",
      "ep: 6, train_loss: 150.64541832875398, train_acc: 0.8911666666666667, test_loss: 226.97397537231444, test_acc: 0.8483\n",
      "ep: 7, train_loss: 157.0436385203216, train_acc: 0.8867333333333334, test_loss: 216.97005958557128, test_acc: 0.8556\n",
      "ep: 8, train_loss: 144.3430404663086, train_acc: 0.8956333333333333, test_loss: 202.41471481323242, test_acc: 0.8657\n",
      "ep: 9, train_loss: 138.76537268040545, train_acc: 0.9006333333333333, test_loss: 195.72989730834962, test_acc: 0.8685\n"
     ]
    }
   ],
   "source": [
    "#Учим в несколько этапов, уменьшая lr\n",
    "loss = torch.nn.CrossEntropyLoss(reduction='sum')\n",
    "trainer = torch.optim.AdamW(model.parameters(), lr=0.05)\n",
    "num_epochs = 10\n",
    "train_model(model, num_epochs, train, test, trainer, dev)"
   ]
  },
  {
   "cell_type": "code",
   "execution_count": 50,
   "metadata": {},
   "outputs": [
    {
     "name": "stdout",
     "output_type": "stream",
     "text": [
      "ep: 0, train_loss: 108.86684000694146, train_acc: 0.9195, test_loss: 168.03835487365723, test_acc: 0.8885\n",
      "ep: 1, train_loss: 97.5175813577943, train_acc: 0.9276, test_loss: 169.81521186828613, test_acc: 0.8893\n",
      "ep: 2, train_loss: 90.235651210203, train_acc: 0.9332166666666667, test_loss: 169.68197021484374, test_acc: 0.8925\n",
      "ep: 3, train_loss: 86.3177361084243, train_acc: 0.9351166666666667, test_loss: 175.81413688659669, test_acc: 0.8889\n",
      "ep: 4, train_loss: 81.96019976017838, train_acc: 0.9389333333333333, test_loss: 181.1027629852295, test_acc: 0.889\n",
      "ep: 5, train_loss: 77.24450407998036, train_acc: 0.9423833333333334, test_loss: 190.1218704223633, test_acc: 0.8893\n",
      "ep: 6, train_loss: 72.90944213382268, train_acc: 0.9458333333333333, test_loss: 189.07061996459962, test_acc: 0.891\n",
      "ep: 7, train_loss: 69.80571743593377, train_acc: 0.9482833333333334, test_loss: 196.55829467773438, test_acc: 0.8896\n",
      "ep: 8, train_loss: 65.21881636118485, train_acc: 0.9517166666666667, test_loss: 200.96943550109864, test_acc: 0.8921\n",
      "ep: 9, train_loss: 61.60529682595851, train_acc: 0.9544833333333334, test_loss: 210.75151519775392, test_acc: 0.8922\n"
     ]
    }
   ],
   "source": [
    "loss = torch.nn.CrossEntropyLoss(reduction='sum')\n",
    "trainer = torch.optim.AdamW(model.parameters(), lr=0.005)\n",
    "num_epochs = 10\n",
    "train_model(model, num_epochs, train, test, trainer, dev)"
   ]
  },
  {
   "cell_type": "code",
   "execution_count": 51,
   "metadata": {},
   "outputs": [
    {
     "name": "stdout",
     "output_type": "stream",
     "text": [
      "ep: 0, train_loss: 54.082676475330935, train_acc: 0.9595833333333333, test_loss: 206.62062377929686, test_acc: 0.8945\n",
      "ep: 1, train_loss: 53.381392903247125, train_acc: 0.9600833333333333, test_loss: 202.67377586364745, test_acc: 0.8939\n",
      "ep: 2, train_loss: 51.82344270560701, train_acc: 0.9616333333333333, test_loss: 215.9363597869873, test_acc: 0.8932\n",
      "ep: 3, train_loss: 50.64857908022606, train_acc: 0.9626, test_loss: 208.23628349304198, test_acc: 0.8939\n",
      "ep: 4, train_loss: 50.86651248446966, train_acc: 0.9632333333333334, test_loss: 208.80577812194824, test_acc: 0.8918\n",
      "ep: 5, train_loss: 50.43816340171685, train_acc: 0.9621166666666666, test_loss: 210.73864250183107, test_acc: 0.8951\n",
      "ep: 6, train_loss: 49.80931458634845, train_acc: 0.9632333333333334, test_loss: 211.79404258728027, test_acc: 0.8926\n",
      "ep: 7, train_loss: 49.64147871631687, train_acc: 0.9635666666666667, test_loss: 212.8428783416748, test_acc: 0.8928\n",
      "ep: 8, train_loss: 48.97796222719096, train_acc: 0.96415, test_loss: 213.18702278137206, test_acc: 0.8953\n",
      "ep: 9, train_loss: 48.22263804936813, train_acc: 0.9641666666666666, test_loss: 215.310396194458, test_acc: 0.897\n"
     ]
    }
   ],
   "source": [
    "# Поменяем оптимизатор на AdamW для стабилизации тренировки\n",
    "loss = torch.nn.CrossEntropyLoss(reduction='sum')\n",
    "trainer = torch.optim.AdamW(model.parameters(), lr=0.0002)\n",
    "num_epochs = 10\n",
    "train_model(model, num_epochs, train, test, trainer, dev)"
   ]
  },
  {
   "cell_type": "code",
   "execution_count": 52,
   "metadata": {},
   "outputs": [
    {
     "name": "stdout",
     "output_type": "stream",
     "text": [
      "ep: 0, train_loss: 48.13766174801325, train_acc: 0.96435, test_loss: 219.667085647583, test_acc: 0.8942\n",
      "ep: 1, train_loss: 48.241349680949064, train_acc: 0.96405, test_loss: 215.93485107421876, test_acc: 0.8947\n",
      "ep: 2, train_loss: 47.27962952145075, train_acc: 0.9647166666666667, test_loss: 218.63507270812988, test_acc: 0.8955\n",
      "ep: 3, train_loss: 47.621523598493155, train_acc: 0.9651166666666666, test_loss: 219.56253776550292, test_acc: 0.8934\n",
      "ep: 4, train_loss: 46.47283081685082, train_acc: 0.9652, test_loss: 218.2619472503662, test_acc: 0.8933\n",
      "ep: 5, train_loss: 47.813264871047714, train_acc: 0.9649166666666666, test_loss: 220.659814453125, test_acc: 0.8941\n",
      "ep: 6, train_loss: 46.86701483645682, train_acc: 0.9645833333333333, test_loss: 220.82618408203126, test_acc: 0.8952\n",
      "ep: 7, train_loss: 47.21398870823747, train_acc: 0.9654666666666667, test_loss: 214.28051147460937, test_acc: 0.8941\n",
      "ep: 8, train_loss: 46.34979126817089, train_acc: 0.96555, test_loss: 221.48496055603027, test_acc: 0.8931\n",
      "ep: 9, train_loss: 47.03067624366889, train_acc: 0.9654666666666667, test_loss: 223.37666854858398, test_acc: 0.8925\n",
      "ep: 10, train_loss: 46.604303695387756, train_acc: 0.9659, test_loss: 219.16061134338378, test_acc: 0.8947\n",
      "ep: 11, train_loss: 45.87570221949432, train_acc: 0.9659166666666666, test_loss: 216.6927635192871, test_acc: 0.8945\n",
      "ep: 12, train_loss: 45.78792587377257, train_acc: 0.9661333333333333, test_loss: 224.94415550231935, test_acc: 0.8929\n",
      "ep: 13, train_loss: 46.02680255598941, train_acc: 0.9662333333333334, test_loss: 226.6960594177246, test_acc: 0.8929\n",
      "ep: 14, train_loss: 46.08258397700423, train_acc: 0.9654, test_loss: 222.19013366699218, test_acc: 0.8933\n",
      "ep: 15, train_loss: 46.34654760764817, train_acc: 0.96575, test_loss: 217.19414710998535, test_acc: 0.8939\n",
      "ep: 16, train_loss: 45.90238159793918, train_acc: 0.9664, test_loss: 223.76943550109863, test_acc: 0.8943\n",
      "ep: 17, train_loss: 45.407624345714765, train_acc: 0.9668833333333333, test_loss: 224.882413482666, test_acc: 0.8929\n",
      "ep: 18, train_loss: 45.78500439757008, train_acc: 0.9657333333333333, test_loss: 222.97013511657715, test_acc: 0.8937\n",
      "ep: 19, train_loss: 44.962654287532224, train_acc: 0.9668666666666667, test_loss: 224.1674777984619, test_acc: 0.8922\n",
      "ep: 20, train_loss: 45.58693133370351, train_acc: 0.9667666666666667, test_loss: 221.3486255645752, test_acc: 0.8941\n",
      "ep: 21, train_loss: 44.93554292694997, train_acc: 0.9665166666666667, test_loss: 226.17705230712892, test_acc: 0.8925\n",
      "ep: 22, train_loss: 44.58795133687682, train_acc: 0.9675, test_loss: 218.62188873291015, test_acc: 0.8984\n",
      "ep: 23, train_loss: 44.76585888458511, train_acc: 0.9669, test_loss: 231.84098777770996, test_acc: 0.8944\n",
      "ep: 24, train_loss: 44.54528594421128, train_acc: 0.9668166666666667, test_loss: 226.59157943725586, test_acc: 0.8932\n",
      "ep: 25, train_loss: 44.04437641774194, train_acc: 0.9679333333333333, test_loss: 226.9639041900635, test_acc: 0.8935\n",
      "ep: 26, train_loss: 44.72830031281811, train_acc: 0.9664833333333334, test_loss: 224.75384025573732, test_acc: 0.8942\n",
      "ep: 27, train_loss: 44.398972276913916, train_acc: 0.9665, test_loss: 224.72194747924806, test_acc: 0.8932\n",
      "ep: 28, train_loss: 44.797093427787395, train_acc: 0.9673, test_loss: 229.55585556030275, test_acc: 0.8937\n",
      "ep: 29, train_loss: 43.69776275198338, train_acc: 0.9680666666666666, test_loss: 227.48650970458985, test_acc: 0.8975\n"
     ]
    }
   ],
   "source": [
    "loss = torch.nn.CrossEntropyLoss(reduction='sum')\n",
    "trainer = torch.optim.AdamW(model.parameters(), lr=0.0001)\n",
    "num_epochs = 30\n",
    "train_model(model, num_epochs, train, test, trainer, dev)"
   ]
  },
  {
   "cell_type": "code",
   "execution_count": null,
   "metadata": {},
   "outputs": [],
   "source": [
    "#максимум на тесте - 0.8984"
   ]
  }
 ],
 "metadata": {
  "kernelspec": {
   "display_name": "Python 3",
   "language": "python",
   "name": "python3"
  },
  "language_info": {
   "codemirror_mode": {
    "name": "ipython",
    "version": 3
   },
   "file_extension": ".py",
   "mimetype": "text/x-python",
   "name": "python",
   "nbconvert_exporter": "python",
   "pygments_lexer": "ipython3",
   "version": "3.6.9"
  }
 },
 "nbformat": 4,
 "nbformat_minor": 2
}
