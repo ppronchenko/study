{
 "cells": [
  {
   "cell_type": "code",
   "execution_count": 25,
   "metadata": {
    "ExecuteTime": {
     "end_time": "2019-11-11T21:09:22.893628Z",
     "start_time": "2019-11-11T21:09:22.601085Z"
    }
   },
   "outputs": [],
   "source": [
    "import matplotlib.pyplot as plt\n",
    "%matplotlib inline\n",
    "import torch\n",
    "import numpy as np\n",
    "import torchvision as tv\n",
    "import time\n",
    "BATCH_SIZE=256"
   ]
  },
  {
   "cell_type": "code",
   "execution_count": 37,
   "metadata": {},
   "outputs": [
    {
     "name": "stdout",
     "output_type": "stream",
     "text": [
      "Downloading http://fashion-mnist.s3-website.eu-central-1.amazonaws.com/train-images-idx3-ubyte.gz\n",
      "Downloading http://fashion-mnist.s3-website.eu-central-1.amazonaws.com/train-labels-idx1-ubyte.gz\n",
      "Downloading http://fashion-mnist.s3-website.eu-central-1.amazonaws.com/t10k-images-idx3-ubyte.gz\n",
      "Downloading http://fashion-mnist.s3-website.eu-central-1.amazonaws.com/t10k-labels-idx1-ubyte.gz\n",
      "Processing...\n",
      "Done!\n"
     ]
    }
   ],
   "source": [
    "train_dataset = tv.datasets.FashionMNIST('./fashion', train=True, transform=tv.transforms.ToTensor(), download=True)\n",
    "test_dataset = tv.datasets.FashionMNIST('./fashion', train=False, transform=tv.transforms.ToTensor(), download=True)"
   ]
  },
  {
   "cell_type": "code",
   "execution_count": 38,
   "metadata": {
    "ExecuteTime": {
     "end_time": "2019-11-11T21:23:40.230893Z",
     "start_time": "2019-11-11T21:23:40.189035Z"
    }
   },
   "outputs": [],
   "source": [
    "train = torch.utils.data.DataLoader(train_dataset, batch_size=BATCH_SIZE)\n",
    "test = torch.utils.data.DataLoader(test_dataset, batch_size=BATCH_SIZE)"
   ]
  },
  {
   "cell_type": "code",
   "execution_count": 43,
   "metadata": {
    "ExecuteTime": {
     "end_time": "2019-11-11T21:23:40.795687Z",
     "start_time": "2019-11-11T21:23:40.672226Z"
    },
    "scrolled": true
   },
   "outputs": [
    {
     "data": {
      "text/plain": [
       "<matplotlib.image.AxesImage at 0x7fab6214d4a8>"
      ]
     },
     "execution_count": 43,
     "metadata": {},
     "output_type": "execute_result"
    },
    {
     "data": {
      "image/png": "[encoded data removed]",
      "text/plain": [
       "<Figure size 432x288 with 1 Axes>"
      ]
     },
     "metadata": {
      "needs_background": "light"
     },
     "output_type": "display_data"
    }
   ],
   "source": [
    "plt.imshow(train_dataset[3][0].numpy().reshape(28,28), cmap='gray')"
   ]
  },
  {
   "cell_type": "code",
   "execution_count": 155,
   "metadata": {},
   "outputs": [],
   "source": [
    "# Постороим модель - сделаем ее глубже и добавим слои BatchNorm и DropOut"
   ]
  },
  {
   "cell_type": "code",
   "execution_count": 149,
   "metadata": {
    "ExecuteTime": {
     "end_time": "2019-11-11T21:23:41.010511Z",
     "start_time": "2019-11-11T21:23:41.003495Z"
    }
   },
   "outputs": [],
   "source": [
    "model = torch.nn.Sequential(\n",
    "    torch.nn.Flatten(),\n",
    "    torch.nn.BatchNorm1d(784),\n",
    "    torch.nn.Linear(784, 392),\n",
    "    torch.nn.ReLU(),\n",
    "    torch.nn.Dropout(0.4),\n",
    "    torch.nn.Linear(392, 196),\n",
    "    torch.nn.ReLU(),\n",
    "    torch.nn.Dropout(0.4),\n",
    "    torch.nn.Linear(196, 10),\n",
    ")"
   ]
  },
  {
   "cell_type": "code",
   "execution_count": 157,
   "metadata": {
    "ExecuteTime": {
     "end_time": "2019-11-11T21:23:41.308317Z",
     "start_time": "2019-11-11T21:23:41.304926Z"
    }
   },
   "outputs": [],
   "source": [
    "# Поменяем оптимизатор на AdamW для стабилизации тренировки\n",
    "\n",
    "loss = torch.nn.CrossEntropyLoss()\n",
    "trainer = torch.optim.AdamW(model.parameters(), lr=0.00002)\n",
    "num_epochs = 15"
   ]
  },
  {
   "cell_type": "code",
   "execution_count": 158,
   "metadata": {},
   "outputs": [],
   "source": [
    "dev = torch.device(\"cuda:0\" if torch.cuda.is_available() else \"cpu\")"
   ]
  },
  {
   "cell_type": "code",
   "execution_count": 159,
   "metadata": {},
   "outputs": [],
   "source": [
    "model = model.to(dev)"
   ]
  },
  {
   "cell_type": "code",
   "execution_count": 160,
   "metadata": {
    "ExecuteTime": {
     "start_time": "2019-11-11T21:23:41.448Z"
    }
   },
   "outputs": [
    {
     "name": "stdout",
     "output_type": "stream",
     "text": [
      "ep: 0, train_loss: 0.14458518673447854, train_acc: 0.9472833333333334, test_loss: 0.3743421560153365, test_acc: 0.8836\n",
      "ep: 1, train_loss: 0.13759682308486168, train_acc: 0.9514333333333334, test_loss: 0.3701938889920712, test_acc: 0.8853\n",
      "ep: 2, train_loss: 0.13624396403419212, train_acc: 0.9525, test_loss: 0.3780942648649216, test_acc: 0.8818\n",
      "ep: 3, train_loss: 0.13392640881715936, train_acc: 0.9516166666666667, test_loss: 0.3743266075849533, test_acc: 0.8884\n",
      "ep: 4, train_loss: 0.13362441059756786, train_acc: 0.9533166666666667, test_loss: 0.38938542678952215, test_acc: 0.8807\n",
      "ep: 5, train_loss: 0.13419109674844337, train_acc: 0.9521166666666666, test_loss: 0.3799274168908596, test_acc: 0.884\n",
      "ep: 6, train_loss: 0.1293497696518898, train_acc: 0.9541833333333334, test_loss: 0.37441554553806783, test_acc: 0.8842\n",
      "ep: 7, train_loss: 0.13102749448190343, train_acc: 0.95325, test_loss: 0.3781089592725039, test_acc: 0.8847\n",
      "ep: 8, train_loss: 0.1293930726165467, train_acc: 0.9537, test_loss: 0.38072275258600713, test_acc: 0.8826\n",
      "ep: 9, train_loss: 0.1283558746126104, train_acc: 0.9537666666666667, test_loss: 0.377555126696825, test_acc: 0.8858\n",
      "ep: 10, train_loss: 0.12809755615097412, train_acc: 0.9545666666666667, test_loss: 0.3695278648287058, test_acc: 0.8862\n",
      "ep: 11, train_loss: 0.12984739061682782, train_acc: 0.9536833333333333, test_loss: 0.3730007089674473, test_acc: 0.8868\n",
      "ep: 12, train_loss: 0.12856217732137823, train_acc: 0.9537333333333333, test_loss: 0.3814143966883421, test_acc: 0.8819\n",
      "ep: 13, train_loss: 0.1256513438960339, train_acc: 0.9559166666666666, test_loss: 0.38169309459626677, test_acc: 0.8844\n",
      "ep: 14, train_loss: 0.12700662541579694, train_acc: 0.9553166666666667, test_loss: 0.38122814111411574, test_acc: 0.8865\n"
     ]
    }
   ],
   "source": [
    "for ep in range(num_epochs):\n",
    "    train_iters, train_passed  = 0, 0\n",
    "    train_loss, train_acc = 0., 0.\n",
    "    \n",
    "    for X, y in train:\n",
    "        trainer.zero_grad()\n",
    "        y_pred = model(X)\n",
    "        l = loss(y_pred, y)\n",
    "        l.backward()\n",
    "        trainer.step()\n",
    "        train_loss += l.item()\n",
    "        train_acc += (y_pred.argmax(dim=1) == y).sum().item()\n",
    "        train_iters += 1\n",
    "        train_passed += len(X)\n",
    "    \n",
    "    test_iters, test_passed  = 0, 0\n",
    "    test_loss, test_acc = 0., 0.\n",
    "    for X, y in test:\n",
    "        y_pred = model(X)\n",
    "        l = loss(y_pred, y)\n",
    "        test_loss += l.item()\n",
    "        test_acc += (y_pred.argmax(dim=1) == y).sum().item()\n",
    "        test_iters += 1\n",
    "        test_passed += len(X)\n",
    "        \n",
    "    print(\"ep: {}, train_loss: {}, train_acc: {}, test_loss: {}, test_acc: {}\".format(\n",
    "        ep, train_loss / train_iters, train_acc / train_passed,\n",
    "        test_loss / test_iters, test_acc / test_passed)\n",
    "    )"
   ]
  },
  {
   "cell_type": "code",
   "execution_count": 161,
   "metadata": {},
   "outputs": [],
   "source": [
    "#Учил в 2 этапа - с lr 0.0002 и с 0.00002. Максимальная acc на тесте - 0.8884"
   ]
  },
  {
   "cell_type": "code",
   "execution_count": null,
   "metadata": {},
   "outputs": [],
   "source": []
  }
 ],
 "metadata": {
  "kernelspec": {
   "display_name": "Python 3",
   "language": "python",
   "name": "python3"
  },
  "language_info": {
   "codemirror_mode": {
    "name": "ipython",
    "version": 3
   },
   "file_extension": ".py",
   "mimetype": "text/x-python",
   "name": "python",
   "nbconvert_exporter": "python",
   "pygments_lexer": "ipython3",
   "version": "3.6.8"
  }
 },
 "nbformat": 4,
 "nbformat_minor": 2
}
