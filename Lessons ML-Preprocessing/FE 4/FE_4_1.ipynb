{
 "cells": [
  {
   "cell_type": "code",
   "execution_count": 1,
   "metadata": {},
   "outputs": [],
   "source": [
    "# Common imports\n",
    "import pandas as pd\n",
    "import numpy as np\n",
    "import statsmodels.api as sm\n",
    "import statsmodels.formula.api as smf\n",
    "\n",
    "# to make this notebook's output stable across runs\n",
    "np.random.seed(42)\n",
    "\n",
    "# To plot pretty figures\n",
    "import matplotlib\n",
    "import matplotlib.pyplot as plt\n",
    "from mpl_toolkits.mplot3d import axes3d\n",
    "%matplotlib inline\n",
    "\n",
    "plt.rcParams['axes.labelsize'] = 14\n",
    "plt.rcParams['xtick.labelsize'] = 12\n",
    "plt.rcParams['ytick.labelsize'] = 12\n",
    "plt.rcParams['figure.figsize'] = (10, 5)"
   ]
  },
  {
   "cell_type": "markdown",
   "metadata": {},
   "source": [
    "# Список литературы\n",
    "\n",
    "1. \"Hands-On Machine Learning with Scikit-Learn and TensorFlow: Concepts, Tools, and Techniques to Build Intelligent Systems\", Géron, A., 2017, *O'Reilly Media*\n",
    "2. \"An Introduction to Statistical Learning: With Applications in R.\", Gareth James, Daniela Witten, Trevor Hastie, and Robert Tibshirani, 2014, *Springer Publishing Company, Incorporated*\n",
    "3. [Sparse matrix](https://en.wikipedia.org/wiki/Sparse_matrix)\n",
    "4. \"Scaling to Very Very Large Corpora for Natural Language Disambiguation\", Michele Banko and Eric Brill, 2001, *Microsoft Research*"
   ]
  },
  {
   "cell_type": "markdown",
   "metadata": {},
   "source": [
    "# Разреженные матрицы"
   ]
  },
  {
   "cell_type": "markdown",
   "metadata": {},
   "source": [
    "**Разреженная матрица** - матрица, в которой большая часть элементов нули. "
   ]
  },
  {
   "cell_type": "code",
   "execution_count": 2,
   "metadata": {},
   "outputs": [
    {
     "data": {
      "text/plain": [
       "<matplotlib.image.AxesImage at 0x7f532e3475c0>"
      ]
     },
     "execution_count": 2,
     "metadata": {},
     "output_type": "execute_result"
    },
    {
     "data": {
      "image/png": "[encoded data removed]",
      "text/plain": [
       "<Figure size 432x288 with 1 Axes>"
      ]
     },
     "metadata": {},
     "output_type": "display_data"
    }
   ],
   "source": [
    "from sklearn.preprocessing import binarize\n",
    "from scipy import sparse\n",
    "\n",
    "sm = binarize(sparse.rand(10, 10, density=0.1, random_state=42))\n",
    "plt.imshow(sm.todense(), cmap=matplotlib.cm.binary)"
   ]
  },
  {
   "cell_type": "code",
   "execution_count": 3,
   "metadata": {},
   "outputs": [
    {
     "name": "stdout",
     "output_type": "stream",
     "text": [
      "Density (плотность):  0.1\n",
      "Sparsity (разреженность):  0.9\n"
     ]
    }
   ],
   "source": [
    "density = sm.nnz / (sm.shape[0] * sm.shape[1])\n",
    "print(\"Density (плотность): \", density)\n",
    "print(\"Sparsity (разреженность): \", 1 - density)"
   ]
  },
  {
   "cell_type": "code",
   "execution_count": 4,
   "metadata": {},
   "outputs": [
    {
     "data": {
      "text/plain": [
       "matrix([[0., 0., 1., 0., 0., 0., 1., 0., 0., 0.],\n",
       "        [0., 0., 0., 0., 0., 1., 0., 1., 0., 0.],\n",
       "        [0., 0., 0., 0., 0., 0., 0., 0., 1., 1.],\n",
       "        [0., 0., 0., 0., 0., 0., 0., 0., 0., 0.],\n",
       "        [0., 1., 0., 0., 0., 0., 0., 1., 0., 0.],\n",
       "        [0., 0., 0., 0., 0., 0., 0., 0., 0., 0.],\n",
       "        [0., 0., 0., 0., 0., 0., 0., 0., 1., 0.],\n",
       "        [0., 0., 0., 0., 0., 0., 0., 0., 1., 0.],\n",
       "        [0., 0., 0., 0., 0., 0., 0., 0., 0., 0.],\n",
       "        [0., 0., 0., 0., 0., 0., 0., 0., 0., 0.]])"
      ]
     },
     "execution_count": 4,
     "metadata": {},
     "output_type": "execute_result"
    }
   ],
   "source": [
    "# плотное представление матрицы\n",
    "sm.todense()"
   ]
  },
  {
   "cell_type": "code",
   "execution_count": 5,
   "metadata": {},
   "outputs": [
    {
     "name": "stdout",
     "output_type": "stream",
     "text": [
      "Dense matrix memory usage: 800\n",
      "CSR matrix memory usage: 164\n"
     ]
    }
   ],
   "source": [
    "print(\"Dense matrix memory usage:\", sm.todense().nbytes)\n",
    "print(\"CSR matrix memory usage:\", sm.data.nbytes + sm.indices.nbytes + sm.indptr.nbytes)"
   ]
  },
  {
   "cell_type": "code",
   "execution_count": 6,
   "metadata": {},
   "outputs": [
    {
     "name": "stdout",
     "output_type": "stream",
     "text": [
      "Dense matrix memory usage (kB): 7812.5\n",
      "CSR matrix memory usage (kB): 15.62890625\n"
     ]
    }
   ],
   "source": [
    "big_sm = binarize(sparse.rand(1000, 1000, density=0.001, random_state=42))\n",
    "print(\"Dense matrix memory usage (kB):\", big_sm.todense().nbytes / 1024)\n",
    "print(\"CSR matrix memory usage (kB):\", (big_sm.data.nbytes + big_sm.indices.nbytes + big_sm.indptr.nbytes) / 1024)"
   ]
  },
  {
   "cell_type": "markdown",
   "metadata": {},
   "source": [
    "Для хранения плотной матрицы требуется объем памяти, пропорциональный $m \\times n$, где $m$ - количество строк, $n$ - количество столбцов (т.к. данные хранятся как список списков). Т.е. хранить большие матрицы дорого, а когда они более чем на $99\\%$ заполнены нулями, еще и невыгодно. Для компрессии таких матриц используют разреженные матрицы. К сожалению, за это приходится платить необходимостью адаптировать алгоритмы для работы с разреженными матрицами. \n",
    "\n",
    "Существующие форматы для хранения разреженных матриц: DOK, LIL, COO, CSR, CSC, ..."
   ]
  },
  {
   "cell_type": "markdown",
   "metadata": {},
   "source": [
    "## DOK, LIL, COO"
   ]
  },
  {
   "cell_type": "markdown",
   "metadata": {},
   "source": [
    "Эффективны: для быстрого создания и изменения матриц\n",
    "\n",
    "Не эффективны: для арифметических операций"
   ]
  },
  {
   "cell_type": "code",
   "execution_count": 7,
   "metadata": {},
   "outputs": [
    {
     "name": "stdout",
     "output_type": "stream",
     "text": [
      "Плотность: 0.09\n"
     ]
    },
    {
     "data": {
      "text/plain": [
       "array([[0., 1., 0., 0., 0., 0., 0., 0., 0., 0.],\n",
       "       [0., 1., 0., 0., 0., 0., 0., 0., 0., 0.],\n",
       "       [0., 0., 0., 0., 0., 0., 0., 0., 0., 0.],\n",
       "       [0., 0., 0., 1., 1., 0., 0., 0., 0., 0.],\n",
       "       [0., 0., 0., 1., 0., 0., 0., 0., 0., 0.],\n",
       "       [1., 0., 1., 0., 0., 1., 0., 0., 0., 0.],\n",
       "       [0., 0., 0., 0., 0., 0., 0., 0., 0., 1.],\n",
       "       [0., 0., 0., 0., 0., 0., 0., 0., 0., 0.],\n",
       "       [0., 0., 0., 0., 0., 0., 0., 0., 0., 0.],\n",
       "       [0., 0., 0., 0., 0., 0., 0., 0., 0., 0.]])"
      ]
     },
     "execution_count": 7,
     "metadata": {},
     "output_type": "execute_result"
    }
   ],
   "source": [
    "tm = binarize(np.random.rand(10, 10), threshold=0.9)\n",
    "print(\"Плотность:\", tm[tm > 0].size / (tm.shape[0] * tm.shape[1]))\n",
    "tm"
   ]
  },
  {
   "cell_type": "markdown",
   "metadata": {},
   "source": [
    "### Dictionary of keys (DOK)"
   ]
  },
  {
   "cell_type": "code",
   "execution_count": 8,
   "metadata": {},
   "outputs": [
    {
     "data": {
      "text/plain": [
       "<10x10 sparse matrix of type '<class 'numpy.float64'>'\n",
       "\twith 9 stored elements in Dictionary Of Keys format>"
      ]
     },
     "execution_count": 8,
     "metadata": {},
     "output_type": "execute_result"
    }
   ],
   "source": [
    "dok_sm = sparse.dok_matrix(tm, shape=tm.shape)\n",
    "dok_sm"
   ]
  },
  {
   "cell_type": "code",
   "execution_count": 9,
   "metadata": {},
   "outputs": [
    {
     "name": "stdout",
     "output_type": "stream",
     "text": [
      "Как в теории хранятся данные\n",
      "\n"
     ]
    },
    {
     "data": {
      "text/plain": [
       "{(0, 1): 1.0,\n",
       " (1, 1): 1.0,\n",
       " (3, 3): 1.0,\n",
       " (3, 4): 1.0,\n",
       " (4, 3): 1.0,\n",
       " (5, 0): 1.0,\n",
       " (5, 2): 1.0,\n",
       " (5, 5): 1.0,\n",
       " (6, 9): 1.0}"
      ]
     },
     "execution_count": 9,
     "metadata": {},
     "output_type": "execute_result"
    }
   ],
   "source": [
    "print(\"Как в теории хранятся данные\\n\")\n",
    "dict(dok_sm.items())"
   ]
  },
  {
   "cell_type": "markdown",
   "metadata": {},
   "source": [
    "### List of lists (LIL)"
   ]
  },
  {
   "cell_type": "code",
   "execution_count": 10,
   "metadata": {},
   "outputs": [
    {
     "data": {
      "text/plain": [
       "<10x10 sparse matrix of type '<class 'numpy.float64'>'\n",
       "\twith 9 stored elements in LInked List format>"
      ]
     },
     "execution_count": 10,
     "metadata": {},
     "output_type": "execute_result"
    }
   ],
   "source": [
    "lil_sm = sparse.lil_matrix(tm, shape=tm.shape)\n",
    "lil_sm"
   ]
  },
  {
   "cell_type": "code",
   "execution_count": 11,
   "metadata": {},
   "outputs": [
    {
     "name": "stdout",
     "output_type": "stream",
     "text": [
      "Как в теории хранятся данные\n",
      "\n",
      "row_id | данные\n",
      "--------------------------------------------------\n",
      "0      | [(1, 1.0)]\n",
      "1      | [(1, 1.0)]\n",
      "2      | []\n",
      "3      | [(3, 1.0), (4, 1.0)]\n",
      "4      | [(3, 1.0)]\n",
      "5      | [(0, 1.0), (2, 1.0), (5, 1.0)]\n",
      "6      | [(9, 1.0)]\n",
      "7      | []\n",
      "8      | []\n",
      "9      | []\n"
     ]
    }
   ],
   "source": [
    "print(\"Как в теории хранятся данные\\n\")\n",
    "fmt = \"%-6s | %s\"\n",
    "print(fmt % (\"row_id\", \"данные\"))\n",
    "print(\"-\" * 50)\n",
    "for row_id in range(lil_sm.shape[0]):\n",
    "    print(fmt % (\n",
    "        row_id, \n",
    "        list(zip(lil_sm.rows[row_id], lil_sm.data[row_id]))\n",
    "    ))"
   ]
  },
  {
   "cell_type": "markdown",
   "metadata": {},
   "source": [
    "### Coordinate list (COO)"
   ]
  },
  {
   "cell_type": "code",
   "execution_count": 12,
   "metadata": {},
   "outputs": [
    {
     "data": {
      "text/plain": [
       "<10x10 sparse matrix of type '<class 'numpy.float64'>'\n",
       "\twith 9 stored elements in COOrdinate format>"
      ]
     },
     "execution_count": 12,
     "metadata": {},
     "output_type": "execute_result"
    }
   ],
   "source": [
    "coo_sm = sparse.coo_matrix(tm, shape=tm.shape)\n",
    "coo_sm"
   ]
  },
  {
   "cell_type": "code",
   "execution_count": 13,
   "metadata": {},
   "outputs": [
    {
     "name": "stdout",
     "output_type": "stream",
     "text": [
      "Как в теории хранятся данные\n",
      "\n"
     ]
    },
    {
     "data": {
      "text/plain": [
       "[(0, 1, 1.0),\n",
       " (1, 1, 1.0),\n",
       " (3, 3, 1.0),\n",
       " (3, 4, 1.0),\n",
       " (4, 3, 1.0),\n",
       " (5, 0, 1.0),\n",
       " (5, 2, 1.0),\n",
       " (5, 5, 1.0),\n",
       " (6, 9, 1.0)]"
      ]
     },
     "execution_count": 13,
     "metadata": {},
     "output_type": "execute_result"
    }
   ],
   "source": [
    "print(\"Как в теории хранятся данные\\n\")\n",
    "[tpl for tpl in zip(coo_sm.row, coo_sm.col, coo_sm.data)]"
   ]
  },
  {
   "cell_type": "markdown",
   "metadata": {},
   "source": [
    "## CSR, CSC"
   ]
  },
  {
   "cell_type": "markdown",
   "metadata": {},
   "source": [
    "Эффективны: для арифметических операций\n",
    "\n",
    "Не эффективны: для быстрого создания и изменения матриц"
   ]
  },
  {
   "cell_type": "markdown",
   "metadata": {},
   "source": [
    "### Compressed sparse row (CSR)"
   ]
  },
  {
   "cell_type": "code",
   "execution_count": 14,
   "metadata": {},
   "outputs": [
    {
     "data": {
      "text/plain": [
       "<10x10 sparse matrix of type '<class 'numpy.float64'>'\n",
       "\twith 9 stored elements in Compressed Sparse Row format>"
      ]
     },
     "execution_count": 14,
     "metadata": {},
     "output_type": "execute_result"
    }
   ],
   "source": [
    "csr_sm = sparse.csr_matrix(tm, shape=tm.shape)\n",
    "csr_sm"
   ]
  },
  {
   "cell_type": "code",
   "execution_count": 15,
   "metadata": {},
   "outputs": [
    {
     "data": {
      "text/plain": [
       "array([[0., 1., 0., 0., 0., 0., 0., 0., 0., 0.],\n",
       "       [0., 1., 0., 0., 0., 0., 0., 0., 0., 0.],\n",
       "       [0., 0., 0., 0., 0., 0., 0., 0., 0., 0.],\n",
       "       [0., 0., 0., 1., 1., 0., 0., 0., 0., 0.],\n",
       "       [0., 0., 0., 1., 0., 0., 0., 0., 0., 0.],\n",
       "       [1., 0., 1., 0., 0., 1., 0., 0., 0., 0.],\n",
       "       [0., 0., 0., 0., 0., 0., 0., 0., 0., 1.],\n",
       "       [0., 0., 0., 0., 0., 0., 0., 0., 0., 0.],\n",
       "       [0., 0., 0., 0., 0., 0., 0., 0., 0., 0.],\n",
       "       [0., 0., 0., 0., 0., 0., 0., 0., 0., 0.]])"
      ]
     },
     "execution_count": 15,
     "metadata": {},
     "output_type": "execute_result"
    }
   ],
   "source": [
    "tm"
   ]
  },
  {
   "cell_type": "code",
   "execution_count": 16,
   "metadata": {},
   "outputs": [
    {
     "name": "stdout",
     "output_type": "stream",
     "text": [
      "A:  [1. 1. 1. 1. 1. 1. 1. 1. 1.]\n",
      "IA:  [0 1 2 2 4 5 8 9 9 9 9]\n",
      "JA:  [1 1 3 4 3 0 2 5 9]\n"
     ]
    }
   ],
   "source": [
    "print(\"A: \", csr_sm.data)\n",
    "print(\"IA: \", csr_sm.indptr)\n",
    "print(\"JA: \", csr_sm.indices)"
   ]
  },
  {
   "cell_type": "markdown",
   "metadata": {},
   "source": [
    "### Compressed sparse column (CSC)"
   ]
  },
  {
   "cell_type": "code",
   "execution_count": 17,
   "metadata": {},
   "outputs": [
    {
     "data": {
      "text/plain": [
       "<10x10 sparse matrix of type '<class 'numpy.float64'>'\n",
       "\twith 9 stored elements in Compressed Sparse Column format>"
      ]
     },
     "execution_count": 17,
     "metadata": {},
     "output_type": "execute_result"
    }
   ],
   "source": [
    "csc_sm = sparse.csc_matrix(tm, shape=tm.shape)\n",
    "csc_sm"
   ]
  },
  {
   "cell_type": "code",
   "execution_count": 18,
   "metadata": {},
   "outputs": [
    {
     "data": {
      "text/plain": [
       "array([[0., 1., 0., 0., 0., 0., 0., 0., 0., 0.],\n",
       "       [0., 1., 0., 0., 0., 0., 0., 0., 0., 0.],\n",
       "       [0., 0., 0., 0., 0., 0., 0., 0., 0., 0.],\n",
       "       [0., 0., 0., 1., 1., 0., 0., 0., 0., 0.],\n",
       "       [0., 0., 0., 1., 0., 0., 0., 0., 0., 0.],\n",
       "       [1., 0., 1., 0., 0., 1., 0., 0., 0., 0.],\n",
       "       [0., 0., 0., 0., 0., 0., 0., 0., 0., 1.],\n",
       "       [0., 0., 0., 0., 0., 0., 0., 0., 0., 0.],\n",
       "       [0., 0., 0., 0., 0., 0., 0., 0., 0., 0.],\n",
       "       [0., 0., 0., 0., 0., 0., 0., 0., 0., 0.]])"
      ]
     },
     "execution_count": 18,
     "metadata": {},
     "output_type": "execute_result"
    }
   ],
   "source": [
    "tm"
   ]
  },
  {
   "cell_type": "code",
   "execution_count": 19,
   "metadata": {},
   "outputs": [
    {
     "name": "stdout",
     "output_type": "stream",
     "text": [
      "A:  [1. 1. 1. 1. 1. 1. 1. 1. 1.]\n",
      "IA:  [0 1 3 4 6 7 8 8 8 8 9]\n",
      "JA:  [5 0 1 5 3 4 3 5 6]\n"
     ]
    }
   ],
   "source": [
    "print(\"A: \", csc_sm.data)\n",
    "print(\"IA: \", csc_sm.indptr)\n",
    "print(\"JA: \", csc_sm.indices)"
   ]
  },
  {
   "cell_type": "markdown",
   "metadata": {},
   "source": [
    "## Особенности scipy.sparse"
   ]
  },
  {
   "cell_type": "code",
   "execution_count": 20,
   "metadata": {},
   "outputs": [],
   "source": [
    "rows, cols = csr_sm.nonzero()"
   ]
  },
  {
   "cell_type": "code",
   "execution_count": 21,
   "metadata": {},
   "outputs": [
    {
     "name": "stdout",
     "output_type": "stream",
     "text": [
      "CPU times: user 100 µs, sys: 38 µs, total: 138 µs\n",
      "Wall time: 142 µs\n"
     ]
    }
   ],
   "source": [
    "%%time\n",
    "sm = sparse.lil_matrix(csc_sm.shape)\n",
    "for row_id, col_id in zip(rows, cols):\n",
    "    sm[row_id, col_id] = 1"
   ]
  },
  {
   "cell_type": "code",
   "execution_count": 22,
   "metadata": {},
   "outputs": [
    {
     "name": "stdout",
     "output_type": "stream",
     "text": [
      "CPU times: user 5.07 ms, sys: 388 µs, total: 5.45 ms\n",
      "Wall time: 127 ms\n"
     ]
    },
    {
     "name": "stderr",
     "output_type": "stream",
     "text": [
      "/home/pavel/anaconda3/lib/python3.6/site-packages/scipy/sparse/compressed.py:746: SparseEfficiencyWarning: Changing the sparsity structure of a csr_matrix is expensive. lil_matrix is more efficient.\n",
      "  SparseEfficiencyWarning)\n"
     ]
    }
   ],
   "source": [
    "%%time\n",
    "sm = sparse.csr_matrix(csc_sm.shape)\n",
    "for row_id, col_id in zip(rows, cols):\n",
    "    sm[row_id, col_id] = 1"
   ]
  },
  {
   "cell_type": "markdown",
   "metadata": {},
   "source": [
    "### но, ..."
   ]
  },
  {
   "cell_type": "code",
   "execution_count": 23,
   "metadata": {},
   "outputs": [
    {
     "name": "stdout",
     "output_type": "stream",
     "text": [
      "CPU times: user 228 µs, sys: 86 µs, total: 314 µs\n",
      "Wall time: 322 µs\n"
     ]
    }
   ],
   "source": [
    "%%time\n",
    "sm = sparse.lil_matrix(tm.shape)\n",
    "for row_id, col_id in zip(rows, cols):\n",
    "    sm[row_id, col_id] = 1\n",
    "_ = sm.tocsr()"
   ]
  },
  {
   "cell_type": "code",
   "execution_count": 24,
   "metadata": {},
   "outputs": [
    {
     "name": "stdout",
     "output_type": "stream",
     "text": [
      "CPU times: user 461 µs, sys: 0 ns, total: 461 µs\n",
      "Wall time: 377 µs\n"
     ]
    }
   ],
   "source": [
    "%%time\n",
    "_ = sparse.csr_matrix((np.ones(len(rows)), (rows, cols)), tm.shape)"
   ]
  },
  {
   "cell_type": "markdown",
   "metadata": {},
   "source": [
    "### а если данных больше, то ..."
   ]
  },
  {
   "cell_type": "code",
   "execution_count": 48,
   "metadata": {},
   "outputs": [],
   "source": [
    "sm = sparse.rand(1000, 1000, 0.01)\n",
    "shape = sm.shape\n",
    "rows, cols = sm.nonzero()\n",
    "data = sm.data"
   ]
  },
  {
   "cell_type": "code",
   "execution_count": 49,
   "metadata": {},
   "outputs": [
    {
     "name": "stdout",
     "output_type": "stream",
     "text": [
      "CPU times: user 72.2 ms, sys: 745 µs, total: 72.9 ms\n",
      "Wall time: 76.1 ms\n"
     ]
    }
   ],
   "source": [
    "%%time\n",
    "sm = sparse.lil_matrix(shape)\n",
    "for row_id, col_id, val in zip(rows, cols, data):\n",
    "    sm[row_id, col_id] = val\n",
    "_ = sm.tocsr()"
   ]
  },
  {
   "cell_type": "code",
   "execution_count": 50,
   "metadata": {},
   "outputs": [
    {
     "name": "stdout",
     "output_type": "stream",
     "text": [
      "CPU times: user 2.07 ms, sys: 1.2 ms, total: 3.27 ms\n",
      "Wall time: 2.03 ms\n"
     ]
    }
   ],
   "source": [
    "%%time\n",
    "_ = sparse.csr_matrix((data, (rows, cols)), shape)"
   ]
  },
  {
   "cell_type": "markdown",
   "metadata": {},
   "source": [
    "В примере с lil_matrix много времени тратится на итерацию по циклу и на поэлементное заполнение матрицы."
   ]
  },
  {
   "cell_type": "markdown",
   "metadata": {},
   "source": [
    "#### Подробнее в [3] и в документации к `scipy.sparse`"
   ]
  },
  {
   "cell_type": "code",
   "execution_count": 25,
   "metadata": {},
   "outputs": [],
   "source": [
    "import pickle"
   ]
  }
 ],
 "metadata": {
  "kernelspec": {
   "display_name": "Python 3",
   "language": "python",
   "name": "python3"
  },
  "language_info": {
   "codemirror_mode": {
    "name": "ipython",
    "version": 3
   },
   "file_extension": ".py",
   "mimetype": "text/x-python",
   "name": "python",
   "nbconvert_exporter": "python",
   "pygments_lexer": "ipython3",
   "version": "3.6.5"
  }
 },
 "nbformat": 4,
 "nbformat_minor": 2
}
