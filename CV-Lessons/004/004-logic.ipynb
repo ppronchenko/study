{
 "cells": [
  {
   "cell_type": "markdown",
   "metadata": {},
   "source": [
    "## Логическая операция AND"
   ]
  },
  {
   "cell_type": "code",
   "execution_count": 1,
   "metadata": {},
   "outputs": [],
   "source": [
    "import pandas as pd"
   ]
  },
  {
   "cell_type": "code",
   "execution_count": 25,
   "metadata": {
    "scrolled": false
   },
   "outputs": [
    {
     "name": "stdout",
     "output_type": "stream",
     "text": [
      "Input 1    Input 2    Linear Combination    Activation Output   Is Correct\n",
      "      0          0                  -1.5                    0          Yes\n",
      "      0          1                  -0.5                    0          Yes\n",
      "      1          0                  -0.5                    0          Yes\n",
      "      1          1                   0.5                    1          Yes\n"
     ]
    }
   ],
   "source": [
    "# TODO: подберите weight1, weight2, and bias\n",
    "# так, чтобы выполнялась операция AND \n",
    "# для входных данных [(0, 0), (0, 1), (1, 0), (1, 1)]\n",
    "weight1 =1\n",
    "weight2 =1\n",
    "bias = -1.5\n",
    "\n",
    "# уравнение гиперплоскости:\n",
    "# y(x) = - x * weight1 / weight2 - bias / weight2\n",
    "\n",
    "# входные данные и разметка\n",
    "test_inputs = [(0, 0), (0, 1), (1, 0), (1, 1)]\n",
    "correct_outputs = [False, False, False, True]\n",
    "outputs = []\n",
    "\n",
    "# вычисляем предсказания\n",
    "for test_input, correct_output in zip(test_inputs, correct_outputs):\n",
    "    linear_combination = weight1 * test_input[0] + weight2 * test_input[1] + bias\n",
    "    # результат линейной комбнации сравниваем с нулем\n",
    "    output = int(linear_combination >= 0)\n",
    "    is_correct_string = 'Yes' if output == correct_output else 'No'\n",
    "    outputs.append([test_input[0],\n",
    "                    test_input[1],\n",
    "                    linear_combination, \n",
    "                    output,\n",
    "                    is_correct_string])\n",
    "\n",
    "# выводим результат\n",
    "output_frame = pd.DataFrame(outputs, columns=['Input 1', \n",
    "                                              '  Input 2', \n",
    "                                              '  Linear Combination', \n",
    "                                              '  Activation Output', \n",
    "                                              '  Is Correct'])\n",
    "print(output_frame.to_string(index = False))"
   ]
  },
  {
   "cell_type": "code",
   "execution_count": 24,
   "metadata": {},
   "outputs": [],
   "source": [
    "weight1 = 1\n",
    "weight2 = 1\n",
    "bias = -1.5"
   ]
  },
  {
   "cell_type": "code",
   "execution_count": null,
   "metadata": {},
   "outputs": [],
   "source": [
    "x = [-2, 2]\n",
    "plt.plot([0,0,1,1], [0,1,0,1], 'o')\n",
    "plt.plot(x , list(map(y_func)))"
   ]
  },
  {
   "cell_type": "markdown",
   "metadata": {},
   "source": [
    "## Логическая операция NOT"
   ]
  },
  {
   "cell_type": "code",
   "execution_count": null,
   "metadata": {},
   "outputs": [],
   "source": [
    "# TODO: подберите weight1, weight2, and bias\n",
    "# так, чтобы выполнялась операция NOT \n",
    "# для входных данных [(0, 0), (0, 1), (1, 0), (1, 1)]\n",
    "weight1 = 0\n",
    "weight2 = 0\n",
    "bias = 0\n",
    "\n",
    "# уравнение гиперплоскости:\n",
    "# y(x) = - x * weight1 / weight2 - bias / weight2\n",
    "\n",
    "# входные данные и разметка\n",
    "test_inputs = [(0, 0), (0, 1), (1, 0), (1, 1)]\n",
    "correct_outputs = [True, False, True, False]\n",
    "outputs = []\n",
    "\n",
    "# вычисляем предсказания\n",
    "for test_input, correct_output in zip(test_inputs, correct_outputs):\n",
    "    linear_combination = weight1 * test_input[0] + weight2 * test_input[1] + bias\n",
    "    # результат линейной комбнации сравниваем с нулем\n",
    "    output = int(linear_combination >= 0)\n",
    "    is_correct_string = 'Yes' if output == correct_output else 'No'\n",
    "    outputs.append([test_input[0],\n",
    "                    test_input[1],\n",
    "                    linear_combination, \n",
    "                    output, \n",
    "                    is_correct_string])\n",
    "\n",
    "# выводим результат\n",
    "output_frame = pd.DataFrame(outputs, columns=['Input 1',\n",
    "                                              '  Input 2',\n",
    "                                              '  Linear Combination',\n",
    "                                              '  Activation Output', '  Is Correct'])\n",
    "print(output_frame.to_string(index=False))"
   ]
  }
 ],
 "metadata": {
  "kernelspec": {
   "display_name": "Python 3",
   "language": "python",
   "name": "python3"
  },
  "language_info": {
   "codemirror_mode": {
    "name": "ipython",
    "version": 3
   },
   "file_extension": ".py",
   "mimetype": "text/x-python",
   "name": "python",
   "nbconvert_exporter": "python",
   "pygments_lexer": "ipython3",
   "version": "3.6.5"
  }
 },
 "nbformat": 4,
 "nbformat_minor": 2
}
