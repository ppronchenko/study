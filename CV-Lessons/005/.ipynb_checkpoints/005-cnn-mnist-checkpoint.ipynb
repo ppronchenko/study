{
 "cells": [
  {
   "cell_type": "code",
   "execution_count": 1,
   "metadata": {
    "scrolled": true
   },
   "outputs": [
    {
     "name": "stderr",
     "output_type": "stream",
     "text": [
      "Using TensorFlow backend.\n"
     ]
    }
   ],
   "source": [
    "%matplotlib inline\n",
    "import cv2\n",
    "import keras\n",
    "import numpy as np\n",
    "import matplotlib.pyplot as plt"
   ]
  },
  {
   "cell_type": "code",
   "execution_count": 2,
   "metadata": {},
   "outputs": [],
   "source": [
    "#from tensorflow.contrib import keras\n",
    "import tensorflow as tf"
   ]
  },
  {
   "cell_type": "code",
   "execution_count": 3,
   "metadata": {},
   "outputs": [
    {
     "data": {
      "text/plain": [
       "'2.2.0'"
      ]
     },
     "execution_count": 3,
     "metadata": {},
     "output_type": "execute_result"
    }
   ],
   "source": [
    "keras.__version__"
   ]
  },
  {
   "cell_type": "code",
   "execution_count": 4,
   "metadata": {},
   "outputs": [
    {
     "data": {
      "text/plain": [
       "'1.11.0'"
      ]
     },
     "execution_count": 4,
     "metadata": {},
     "output_type": "execute_result"
    }
   ],
   "source": [
    "tf.__version__"
   ]
  },
  {
   "cell_type": "code",
   "execution_count": 5,
   "metadata": {},
   "outputs": [],
   "source": [
    "train = np.loadtxt('../002/data/digit/train.csv', delimiter=',', skiprows=1)\n",
    "test = np.loadtxt('../002/data/digit/test.csv', delimiter=',', skiprows=1)"
   ]
  },
  {
   "cell_type": "code",
   "execution_count": 6,
   "metadata": {},
   "outputs": [],
   "source": [
    "# сохраняем разметку в отдельную переменную\n",
    "train_label = train[:, 0]\n",
    "\n",
    "# приводим размерность к удобному для обаботки виду\n",
    "# добавляем размерность канала\n",
    "train_img = np.resize(train[:, 1:], (train.shape[0], 28, 28, 1))\n",
    "test_img = np.resize(test, (test.shape[0], 28, 28, 1))"
   ]
  },
  {
   "cell_type": "markdown",
   "metadata": {},
   "source": [
    "## Визуализируем исходные данные"
   ]
  },
  {
   "cell_type": "code",
   "execution_count": 7,
   "metadata": {},
   "outputs": [
    {
     "data": {
      "image/png": "[encoded data removed]",
      "text/plain": [
       "<Figure size 1440x720 with 5 Axes>"
      ]
     },
     "metadata": {},
     "output_type": "display_data"
    }
   ],
   "source": [
    "fig = plt.figure(figsize=(20, 10))\n",
    "for i, img in enumerate(train_img[0:5, :], 1):\n",
    "    subplot = fig.add_subplot(1, 7, i)\n",
    "    plt.imshow(img[:,:,0], cmap='gray');\n",
    "    subplot.set_title('%s' % train_label[i - 1]);"
   ]
  },
  {
   "cell_type": "markdown",
   "metadata": {},
   "source": [
    "## Разбиваем выборку на обучение и валидацию"
   ]
  },
  {
   "cell_type": "code",
   "execution_count": 8,
   "metadata": {},
   "outputs": [],
   "source": [
    "from sklearn.model_selection import train_test_split\n",
    "y_train, y_val, x_train, x_val = train_test_split(\n",
    "    train_label, train_img, test_size=0.2, random_state=42)"
   ]
  },
  {
   "cell_type": "markdown",
   "metadata": {},
   "source": [
    "## Собираем сверточную сеть для обучения"
   ]
  },
  {
   "cell_type": "code",
   "execution_count": 24,
   "metadata": {},
   "outputs": [
    {
     "data": {
      "text/plain": [
       "keras.layers.core.Dense"
      ]
     },
     "execution_count": 24,
     "metadata": {},
     "output_type": "execute_result"
    }
   ],
   "source": [
    "keras.layers.Dense"
   ]
  },
  {
   "cell_type": "code",
   "execution_count": 25,
   "metadata": {},
   "outputs": [],
   "source": [
    "glorot = keras.initializers.glorot_normal(seed=123455) # Алгоритм инициализации весов"
   ]
  },
  {
   "cell_type": "code",
   "execution_count": 30,
   "metadata": {},
   "outputs": [],
   "source": [
    "model = keras.models.Sequential()\n",
    "\n",
    "model.add(keras.layers.Conv2D(6, \n",
    "                              kernel_size=(5, 5), \n",
    "                              padding='same', \n",
    "                              activation='relu', #важно - по умолчанию не задано!\n",
    "                              input_shape=x_train.shape[1:], # В первом слое обязательно надо задать размер\n",
    "                              bias_initializer=glorot,\n",
    "                              kernel_initializer=glorot))\n",
    "\n",
    "model.add(keras.layers.MaxPool2D(pool_size=(2, 2), padding='valid'))\n",
    "\n",
    "\n",
    "model.add(keras.layers.Conv2D(16, \n",
    "                              kernel_size=(5, 5),\n",
    "                              padding='valid',\n",
    "                              activation='relu', \n",
    "                              bias_initializer=glorot,\n",
    "                              kernel_initializer=glorot))\n",
    "\n",
    "model.add(keras.layers.MaxPool2D(pool_size=(2, 2), padding='valid'))\n",
    "\n",
    "model.add(keras.layers.Flatten()) # Активации вытягиваем в один вектор\n",
    "\n",
    "model.add(keras.layers.Dense(84, activation='relu',\n",
    "                            bias_initializer=glorot,\n",
    "                             kernel_initializer=glorot))\n",
    "\n",
    "\n",
    "model.add(keras.layers.Dense(10, activation='softmax',\n",
    "                             bias_initializer=glorot,\n",
    "                             kernel_initializer=glorot))\n",
    "\n",
    "model.compile(optimizer='adam',\n",
    "              loss='categorical_crossentropy',\n",
    "              metrics=['accuracy'])"
   ]
  },
  {
   "cell_type": "markdown",
   "metadata": {},
   "source": [
    "## Выводим информацию о модели"
   ]
  },
  {
   "cell_type": "code",
   "execution_count": 31,
   "metadata": {
    "scrolled": true
   },
   "outputs": [
    {
     "name": "stdout",
     "output_type": "stream",
     "text": [
      "_________________________________________________________________\n",
      "Layer (type)                 Output Shape              Param #   \n",
      "=================================================================\n",
      "conv2d_5 (Conv2D)            (None, 28, 28, 6)         156       \n",
      "_________________________________________________________________\n",
      "max_pooling2d_5 (MaxPooling2 (None, 14, 14, 6)         0         \n",
      "_________________________________________________________________\n",
      "conv2d_6 (Conv2D)            (None, 10, 10, 16)        2416      \n",
      "_________________________________________________________________\n",
      "max_pooling2d_6 (MaxPooling2 (None, 5, 5, 16)          0         \n",
      "_________________________________________________________________\n",
      "flatten_3 (Flatten)          (None, 400)               0         \n",
      "_________________________________________________________________\n",
      "dense_4 (Dense)              (None, 84)                33684     \n",
      "_________________________________________________________________\n",
      "dense_5 (Dense)              (None, 10)                850       \n",
      "=================================================================\n",
      "Total params: 37,106\n",
      "Trainable params: 37,106\n",
      "Non-trainable params: 0\n",
      "_________________________________________________________________\n"
     ]
    }
   ],
   "source": [
    "model.summary()"
   ]
  },
  {
   "cell_type": "markdown",
   "metadata": {},
   "source": [
    "## One hot encoding разметки"
   ]
  },
  {
   "cell_type": "code",
   "execution_count": 32,
   "metadata": {},
   "outputs": [],
   "source": [
    "from keras.utils import np_utils\n",
    "y_train_labels = np_utils.to_categorical(y_train)"
   ]
  },
  {
   "cell_type": "markdown",
   "metadata": {},
   "source": [
    "## Запускаем обучение"
   ]
  },
  {
   "cell_type": "code",
   "execution_count": 33,
   "metadata": {},
   "outputs": [
    {
     "name": "stdout",
     "output_type": "stream",
     "text": [
      "Train on 26880 samples, validate on 6720 samples\n",
      "Epoch 1/3\n",
      "26880/26880 [==============================] - 11s 400us/step - loss: 1.8262 - acc: 0.8363 - val_loss: 0.1861 - val_acc: 0.9500\n",
      "Epoch 2/3\n",
      "26880/26880 [==============================] - 10s 389us/step - loss: 0.1223 - acc: 0.9649 - val_loss: 0.1247 - val_acc: 0.9638\n",
      "Epoch 3/3\n",
      "26880/26880 [==============================] - 10s 384us/step - loss: 0.0745 - acc: 0.9780 - val_loss: 0.1084 - val_acc: 0.9705\n"
     ]
    },
    {
     "data": {
      "text/plain": [
       "<keras.callbacks.History at 0x7f1e612d1860>"
      ]
     },
     "execution_count": 33,
     "metadata": {},
     "output_type": "execute_result"
    }
   ],
   "source": [
    "model.fit(x_train, y_train_labels,\n",
    "          batch_size=32, \n",
    "          epochs=3,\n",
    "          validation_split=0.2)"
   ]
  },
  {
   "cell_type": "code",
   "execution_count": 34,
   "metadata": {
    "scrolled": true
   },
   "outputs": [
    {
     "name": "stdout",
     "output_type": "stream",
     "text": [
      "Train on 26880 samples, validate on 6720 samples\n",
      "Epoch 1/3\n",
      "26880/26880 [==============================] - 10s 388us/step - loss: 0.0628 - acc: 0.9802 - val_loss: 0.1196 - val_acc: 0.9679\n",
      "Epoch 2/3\n",
      "26880/26880 [==============================] - 10s 387us/step - loss: 0.0528 - acc: 0.9833 - val_loss: 0.1592 - val_acc: 0.9625\n",
      "Epoch 3/3\n",
      "26880/26880 [==============================] - 10s 386us/step - loss: 0.0508 - acc: 0.9844 - val_loss: 0.1003 - val_acc: 0.9760\n"
     ]
    },
    {
     "data": {
      "text/plain": [
       "<keras.callbacks.History at 0x7f1e612d15f8>"
      ]
     },
     "execution_count": 34,
     "metadata": {},
     "output_type": "execute_result"
    }
   ],
   "source": [
    "model.fit(x_train, y_train_labels,\n",
    "          batch_size=32, \n",
    "          epochs=3,\n",
    "          validation_split=0.2)"
   ]
  },
  {
   "cell_type": "code",
   "execution_count": 19,
   "metadata": {},
   "outputs": [
    {
     "name": "stdout",
     "output_type": "stream",
     "text": [
      "Train on 26880 samples, validate on 6720 samples\n",
      "Epoch 1/3\n",
      "26880/26880 [==============================] - 10s 368us/step - loss: 0.0644 - acc: 0.9811 - val_loss: 0.1323 - val_acc: 0.9701\n",
      "Epoch 2/3\n",
      "26880/26880 [==============================] - 10s 376us/step - loss: 0.0614 - acc: 0.9823 - val_loss: 0.1596 - val_acc: 0.9690\n",
      "Epoch 3/3\n",
      "26880/26880 [==============================] - 10s 380us/step - loss: 0.0555 - acc: 0.9834 - val_loss: 0.1396 - val_acc: 0.9704\n"
     ]
    },
    {
     "data": {
      "text/plain": [
       "<keras.callbacks.History at 0x7f1e5e4fa5c0>"
      ]
     },
     "execution_count": 19,
     "metadata": {},
     "output_type": "execute_result"
    }
   ],
   "source": [
    "model.fit(x_train, y_train_labels,\n",
    "          batch_size=32, \n",
    "          epochs=3,\n",
    "          validation_split=0.2)"
   ]
  },
  {
   "cell_type": "markdown",
   "metadata": {},
   "source": [
    "## Предсказываем класс объекта"
   ]
  },
  {
   "cell_type": "code",
   "execution_count": 35,
   "metadata": {},
   "outputs": [],
   "source": [
    "pred_val = model.predict_classes(x_val)"
   ]
  },
  {
   "cell_type": "markdown",
   "metadata": {},
   "source": [
    "## Оцениваем качество решение на валидационной выборке"
   ]
  },
  {
   "cell_type": "code",
   "execution_count": 36,
   "metadata": {},
   "outputs": [
    {
     "name": "stdout",
     "output_type": "stream",
     "text": [
      "Accuracy: 0.9775\n"
     ]
    }
   ],
   "source": [
    "from sklearn.metrics import accuracy_score\n",
    "print('Accuracy: %s' % accuracy_score(y_val, pred_val))"
   ]
  },
  {
   "cell_type": "code",
   "execution_count": 37,
   "metadata": {},
   "outputs": [
    {
     "name": "stdout",
     "output_type": "stream",
     "text": [
      "             precision    recall  f1-score   support\n",
      "\n",
      "        0.0       0.98      1.00      0.99       816\n",
      "        1.0       1.00      0.97      0.98       909\n",
      "        2.0       0.97      0.97      0.97       846\n",
      "        3.0       0.96      0.99      0.97       937\n",
      "        4.0       0.99      0.98      0.98       839\n",
      "        5.0       0.99      0.95      0.97       702\n",
      "        6.0       0.99      0.98      0.98       785\n",
      "        7.0       0.97      0.99      0.98       893\n",
      "        8.0       0.96      0.98      0.97       835\n",
      "        9.0       0.98      0.97      0.97       838\n",
      "\n",
      "avg / total       0.98      0.98      0.98      8400\n",
      "\n"
     ]
    }
   ],
   "source": [
    "from sklearn.metrics import classification_report\n",
    "print(classification_report(y_val, pred_val))"
   ]
  },
  {
   "cell_type": "code",
   "execution_count": 38,
   "metadata": {},
   "outputs": [
    {
     "name": "stdout",
     "output_type": "stream",
     "text": [
      "[[812   0   2   0   0   0   2   0   0   0]\n",
      " [  0 879  11   0   0   0   1  13   2   3]\n",
      " [  2   0 821  11   3   0   0   3   6   0]\n",
      " [  0   0   2 928   0   3   0   2   2   0]\n",
      " [  1   0   0   1 824   0   3   2   0   8]\n",
      " [  2   0   1  14   1 670   0   1  11   2]\n",
      " [  7   0   2   0   2   3 766   0   5   0]\n",
      " [  0   0   4   3   1   0   0 881   1   3]\n",
      " [  0   0   6   8   1   0   0   2 816   2]\n",
      " [  3   0   1   5   4   0   0   6   5 814]]\n"
     ]
    }
   ],
   "source": [
    "from sklearn.metrics import confusion_matrix\n",
    "print(confusion_matrix(y_val, pred_val))"
   ]
  },
  {
   "cell_type": "markdown",
   "metadata": {},
   "source": [
    "## Предсказания на тестовыйх данных"
   ]
  },
  {
   "cell_type": "code",
   "execution_count": 39,
   "metadata": {},
   "outputs": [],
   "source": [
    "pred_test = model.predict_classes(test_img)"
   ]
  },
  {
   "cell_type": "markdown",
   "metadata": {},
   "source": [
    "## Визуализируем предсказания"
   ]
  },
  {
   "cell_type": "code",
   "execution_count": 40,
   "metadata": {},
   "outputs": [
    {
     "data": {
      "image/png": "[encoded data removed]",
      "text/plain": [
       "<Figure size 1440x720 with 5 Axes>"
      ]
     },
     "metadata": {},
     "output_type": "display_data"
    }
   ],
   "source": [
    "fig = plt.figure(figsize=(20, 10))\n",
    "for i, img in enumerate(test_img[0:5], 1):\n",
    "    subplot = fig.add_subplot(1, 7, i)\n",
    "    plt.imshow(img[:,:,0], cmap='gray');\n",
    "    subplot.set_title('%s' % pred_test[i - 1]);"
   ]
  },
  {
   "cell_type": "markdown",
   "metadata": {},
   "source": [
    "## Готовим файл для отправки"
   ]
  },
  {
   "cell_type": "code",
   "execution_count": 41,
   "metadata": {},
   "outputs": [],
   "source": [
    "with open('submit.txt', 'w') as dst:\n",
    "    dst.write('ImageId,Label\\n')\n",
    "    for i, p in enumerate(pred_test, 1):\n",
    "        dst.write('%s,%s\\n' % (i, p))"
   ]
  },
  {
   "cell_type": "code",
   "execution_count": null,
   "metadata": {},
   "outputs": [],
   "source": [
    "# Your submission scored 0.96814"
   ]
  }
 ],
 "metadata": {
  "kernelspec": {
   "display_name": "Python 3",
   "language": "python",
   "name": "python3"
  },
  "language_info": {
   "codemirror_mode": {
    "name": "ipython",
    "version": 3
   },
   "file_extension": ".py",
   "mimetype": "text/x-python",
   "name": "python",
   "nbconvert_exporter": "python",
   "pygments_lexer": "ipython3",
   "version": "3.6.5"
  }
 },
 "nbformat": 4,
 "nbformat_minor": 2
}
