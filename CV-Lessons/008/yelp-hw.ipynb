{
 "cells": [
  {
   "cell_type": "markdown",
   "metadata": {},
   "source": [
    "# Yelp Restaurant Photo Classification"
   ]
  },
  {
   "cell_type": "markdown",
   "metadata": {},
   "source": [
    "https://www.kaggle.com/c/yelp-restaurant-photo-classification"
   ]
  },
  {
   "cell_type": "code",
   "execution_count": 1,
   "metadata": {},
   "outputs": [],
   "source": [
    "import os\n",
    "import cv2\n",
    "import numpy as np\n",
    "import pandas as pd\n",
    "from tensorflow.contrib import keras\n",
    "\n",
    "preprocess_input = keras.applications.vgg16.preprocess_input\n",
    "VGG16 = keras.applications.VGG16"
   ]
  },
  {
   "cell_type": "markdown",
   "metadata": {},
   "source": [
    "## Загружаем разметку"
   ]
  },
  {
   "cell_type": "code",
   "execution_count": 2,
   "metadata": {},
   "outputs": [],
   "source": [
    "train_biz_df = pd.read_csv('train.csv')\n",
    "train_photos_df = pd.read_csv('train_photo_to_biz_ids.csv')\n",
    "train_df = train_photos_df.merge(train_biz_df)\n",
    "\n",
    "test_photos_df = pd.read_csv('test_photo_to_biz.csv')"
   ]
  },
  {
   "cell_type": "code",
   "execution_count": 3,
   "metadata": {},
   "outputs": [],
   "source": [
    "def get_image(path, img_id, img_size=(224, 224)):\n",
    "    img = cv2.imread(os.path.join(path, '%s.jpg' % img_id))[:,:,::-1]\n",
    "    img = preprocess_input(img.astype(np.float32))\n",
    "    return cv2.resize(img, img_size)\n",
    "\n",
    "def to_dense(labels):\n",
    "    result = [0] * 9\n",
    "    for i in labels:\n",
    "        result[i] = 1.\n",
    "    return result\n",
    "\n",
    "def train_generator(df, img_size=(224, 224), batch_size=32):\n",
    "    while True:\n",
    "        df = df.sample(frac=1).reset_index(drop=True)\n",
    "        for i in range(0, len(df) // batch_size * batch_size, batch_size):\n",
    "            X, y = [], []\n",
    "            for _, row in df[i:i + batch_size].iterrows():\n",
    "                X.append(get_image('train_photos', row['photo_id'], img_size))\n",
    "                y.append(to_dense(map(int, str(row['labels']).split())))\n",
    "            y = np.array(y)\n",
    "            yield np.array(X), [y[:, i] for i in range(9)]"
   ]
  },
  {
   "cell_type": "code",
   "execution_count": 4,
   "metadata": {},
   "outputs": [],
   "source": [
    "# TODO: build CNN model\n",
    "# TODO: train CNN model using train_generator"
   ]
  },
  {
   "cell_type": "markdown",
   "metadata": {},
   "source": [
    "## Получаем предсказания"
   ]
  },
  {
   "cell_type": "code",
   "execution_count": 7,
   "metadata": {},
   "outputs": [],
   "source": [
    "model.load_weights('yelp_weights.h5')"
   ]
  },
  {
   "cell_type": "code",
   "execution_count": 10,
   "metadata": {},
   "outputs": [],
   "source": [
    "class TestSequence(keras.utils.Sequence):\n",
    "    \"\"\" Класс для чтения батча \"\"\"\n",
    "    def __init__(self, df, batch_size):\n",
    "        self._df = df\n",
    "        self._batch_size = batch_size\n",
    "\n",
    "    def __len__(self):\n",
    "        return int(np.ceil(len(self._df) / float(self._batch_size)))\n",
    "\n",
    "    def __getitem__(self, idx):\n",
    "        result = []\n",
    "        sample = self._df[idx * self._batch_size:(idx + 1) * self._batch_size]\n",
    "        for _, row in sample.iterrows():\n",
    "            result.append(get_image('test_photos', row['photo_id']))\n",
    "        return np.array(result)"
   ]
  },
  {
   "cell_type": "code",
   "execution_count": 12,
   "metadata": {},
   "outputs": [],
   "source": [
    "# читаем данные параллельно в 4потока и применяем модель\n",
    "preds = model.predict_generator(\n",
    "    TestSequence(test_photos_df, batch_size=100), workers=4)"
   ]
  },
  {
   "cell_type": "code",
   "execution_count": 24,
   "metadata": {},
   "outputs": [],
   "source": [
    "test_photos_df['labels'] = [[float(preds[j][i]) for j in range(9)] \n",
    "                            for i in range(len(test_photos_df))]"
   ]
  },
  {
   "cell_type": "code",
   "execution_count": 29,
   "metadata": {},
   "outputs": [
    {
     "data": {
      "text/html": [
       "<div>\n",
       "<style scoped>\n",
       "    .dataframe tbody tr th:only-of-type {\n",
       "        vertical-align: middle;\n",
       "    }\n",
       "\n",
       "    .dataframe tbody tr th {\n",
       "        vertical-align: top;\n",
       "    }\n",
       "\n",
       "    .dataframe thead th {\n",
       "        text-align: right;\n",
       "    }\n",
       "</style>\n",
       "<table border=\"1\" class=\"dataframe\">\n",
       "  <thead>\n",
       "    <tr style=\"text-align: right;\">\n",
       "      <th></th>\n",
       "      <th>photo_id</th>\n",
       "      <th>business_id</th>\n",
       "      <th>labels</th>\n",
       "    </tr>\n",
       "  </thead>\n",
       "  <tbody>\n",
       "    <tr>\n",
       "      <th>0</th>\n",
       "      <td>317818</td>\n",
       "      <td>003sg</td>\n",
       "      <td>[0.15017016232, 0.720844268799, 0.786582291126...</td>\n",
       "    </tr>\n",
       "    <tr>\n",
       "      <th>1</th>\n",
       "      <td>30679</td>\n",
       "      <td>003sg</td>\n",
       "      <td>[0.358560830355, 0.313709139824, 0.35823640227...</td>\n",
       "    </tr>\n",
       "    <tr>\n",
       "      <th>2</th>\n",
       "      <td>455084</td>\n",
       "      <td>003sg</td>\n",
       "      <td>[0.306661188602, 0.248710289598, 0.37077081203...</td>\n",
       "    </tr>\n",
       "    <tr>\n",
       "      <th>3</th>\n",
       "      <td>371381</td>\n",
       "      <td>003sg</td>\n",
       "      <td>[0.0900943800807, 0.979245781898, 0.9886131286...</td>\n",
       "    </tr>\n",
       "    <tr>\n",
       "      <th>4</th>\n",
       "      <td>86224</td>\n",
       "      <td>003sg</td>\n",
       "      <td>[0.0362958088517, 0.917712509632, 0.9531230926...</td>\n",
       "    </tr>\n",
       "  </tbody>\n",
       "</table>\n",
       "</div>"
      ],
      "text/plain": [
       "   photo_id business_id                                             labels\n",
       "0    317818       003sg  [0.15017016232, 0.720844268799, 0.786582291126...\n",
       "1     30679       003sg  [0.358560830355, 0.313709139824, 0.35823640227...\n",
       "2    455084       003sg  [0.306661188602, 0.248710289598, 0.37077081203...\n",
       "3    371381       003sg  [0.0900943800807, 0.979245781898, 0.9886131286...\n",
       "4     86224       003sg  [0.0362958088517, 0.917712509632, 0.9531230926..."
      ]
     },
     "execution_count": 29,
     "metadata": {},
     "output_type": "execute_result"
    }
   ],
   "source": [
    "test_photos_df.head()"
   ]
  },
  {
   "cell_type": "code",
   "execution_count": 30,
   "metadata": {},
   "outputs": [],
   "source": [
    "business_df = test_photos_df.groupby('business_id')"
   ]
  },
  {
   "cell_type": "code",
   "execution_count": 61,
   "metadata": {},
   "outputs": [],
   "source": [
    "submission = []\n",
    "for k, labels in business_df['labels'].apply(list).iteritems():\n",
    "    labels = np.array(labels).mean(axis=0)\n",
    "    labels = np.where(labels > 0.5)[0]\n",
    "    submission.append((k, ' '.join(map(str, labels))))"
   ]
  },
  {
   "cell_type": "code",
   "execution_count": 70,
   "metadata": {},
   "outputs": [],
   "source": [
    "submission_df = pd.DataFrame(submission, columns=('business_id', 'labels'))\n",
    "submission_df.to_csv('submission.csv', index=False)\n",
    "# 0.70970"
   ]
  }
 ],
 "metadata": {
  "kernelspec": {
   "display_name": "Python 2",
   "language": "python",
   "name": "python2"
  },
  "language_info": {
   "codemirror_mode": {
    "name": "ipython",
    "version": 2
   },
   "file_extension": ".py",
   "mimetype": "text/x-python",
   "name": "python",
   "nbconvert_exporter": "python",
   "pygments_lexer": "ipython2",
   "version": "2.7.12"
  }
 },
 "nbformat": 4,
 "nbformat_minor": 2
}
