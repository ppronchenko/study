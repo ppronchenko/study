{
 "cells": [
  {
   "cell_type": "markdown",
   "metadata": {},
   "source": [
    "# Пример понижения размерности с помощью PCA"
   ]
  },
  {
   "cell_type": "code",
   "execution_count": 1,
   "metadata": {
    "collapsed": true
   },
   "outputs": [],
   "source": [
    "import numpy as np"
   ]
  },
  {
   "cell_type": "code",
   "execution_count": 2,
   "metadata": {
    "collapsed": true
   },
   "outputs": [],
   "source": [
    "train = np.loadtxt('../002/data/digit/train.csv', delimiter=',', skiprows=1)"
   ]
  },
  {
   "cell_type": "code",
   "execution_count": 3,
   "metadata": {
    "collapsed": true
   },
   "outputs": [],
   "source": [
    "# сохраняем разметку в отдельную переменную\n",
    "train_label = train[:, 0]\n",
    "# приводим размерность к удобному для обаботки виду\n",
    "train_img = np.reshape(train[:, 1:], (len(train[:, 1:]), 28, 28))"
   ]
  },
  {
   "cell_type": "code",
   "execution_count": 4,
   "metadata": {},
   "outputs": [
    {
     "data": {
      "image/png": "[encoded data removed]",
      "text/plain": [
       "<matplotlib.figure.Figure at 0x13ebbedd8>"
      ]
     },
     "metadata": {},
     "output_type": "display_data"
    }
   ],
   "source": [
    "%matplotlib inline\n",
    "from matplotlib import pyplot as plt\n",
    "fig = plt.figure(figsize=(20, 10))\n",
    "for i, img in enumerate(train_img[0:5], 1):\n",
    "    subplot = fig.add_subplot(1, 7, i)\n",
    "    plt.imshow(img, cmap='gray');\n",
    "    subplot.set_title('%s' % train_label[i - 1]);"
   ]
  },
  {
   "cell_type": "code",
   "execution_count": 5,
   "metadata": {},
   "outputs": [
    {
     "data": {
      "text/plain": [
       "42000"
      ]
     },
     "execution_count": 5,
     "metadata": {},
     "output_type": "execute_result"
    }
   ],
   "source": [
    "len(train_img)"
   ]
  },
  {
   "cell_type": "code",
   "execution_count": 10,
   "metadata": {},
   "outputs": [
    {
     "data": {
      "text/plain": [
       "784"
      ]
     },
     "execution_count": 10,
     "metadata": {},
     "output_type": "execute_result"
    }
   ],
   "source": [
    "28 * 28"
   ]
  },
  {
   "cell_type": "code",
   "execution_count": 47,
   "metadata": {
    "collapsed": true
   },
   "outputs": [],
   "source": [
    "choices = np.random.choice(train_img.shape[0], 10000)\n",
    "\n",
    "y = train_label[choices]\n",
    "X = train_img[choices].reshape(-1, 28 * 28).astype(np.float32)"
   ]
  },
  {
   "cell_type": "code",
   "execution_count": 48,
   "metadata": {
    "collapsed": true
   },
   "outputs": [],
   "source": [
    "# центрируем данные\n",
    "mean = X.mean(axis=0)\n",
    "X -= mean"
   ]
  },
  {
   "cell_type": "code",
   "execution_count": 49,
   "metadata": {
    "collapsed": true
   },
   "outputs": [],
   "source": [
    "# матрица ковариации признаков\n",
    "cov = np.dot(X.T, X) / X.shape[0]"
   ]
  },
  {
   "cell_type": "code",
   "execution_count": 50,
   "metadata": {},
   "outputs": [
    {
     "data": {
      "text/plain": [
       "(784, 784)"
      ]
     },
     "execution_count": 50,
     "metadata": {},
     "output_type": "execute_result"
    }
   ],
   "source": [
    "cov.shape"
   ]
  },
  {
   "cell_type": "code",
   "execution_count": null,
   "metadata": {
    "collapsed": true
   },
   "outputs": [],
   "source": []
  },
  {
   "cell_type": "code",
   "execution_count": 51,
   "metadata": {
    "collapsed": true
   },
   "outputs": [],
   "source": [
    "U, S, _ = np.linalg.svd(cov)\n",
    "# U - собсвенные вектора матрицы ковариации\n",
    "# S - собственные значения"
   ]
  },
  {
   "cell_type": "code",
   "execution_count": 52,
   "metadata": {},
   "outputs": [
    {
     "data": {
      "text/plain": [
       "(784,)"
      ]
     },
     "execution_count": 52,
     "metadata": {},
     "output_type": "execute_result"
    }
   ],
   "source": [
    "S.shape"
   ]
  },
  {
   "cell_type": "markdown",
   "metadata": {},
   "source": [
    "## Собственные числа"
   ]
  },
  {
   "cell_type": "code",
   "execution_count": 53,
   "metadata": {},
   "outputs": [
    {
     "name": "stdout",
     "output_type": "stream",
     "text": [
      "[001] 0.097\n",
      "[002] 0.168\n",
      "[003] 0.230\n",
      "[004] 0.283\n",
      "[005] 0.332\n"
     ]
    }
   ],
   "source": [
    "for i in range(5):\n",
    "    print('[%03d] %.3f' % (i + 1, np.sum(S[0:i + 1])/ np.sum(S)))"
   ]
  },
  {
   "cell_type": "code",
   "execution_count": 54,
   "metadata": {},
   "outputs": [
    {
     "data": {
      "text/plain": [
       "[<matplotlib.lines.Line2D at 0x111feae10>]"
      ]
     },
     "execution_count": 54,
     "metadata": {},
     "output_type": "execute_result"
    },
    {
     "data": {
      "image/png": "[encoded data removed]",
      "text/plain": [
       "<matplotlib.figure.Figure at 0x112d5c908>"
      ]
     },
     "metadata": {},
     "output_type": "display_data"
    }
   ],
   "source": [
    "plt.plot([np.sum(S[0:i + 1])/ np.sum(S) for i in range(S.shape[0])])"
   ]
  },
  {
   "cell_type": "markdown",
   "metadata": {},
   "source": [
    "## Понижаем размерность"
   ]
  },
  {
   "cell_type": "code",
   "execution_count": 55,
   "metadata": {
    "collapsed": true
   },
   "outputs": [],
   "source": [
    "n_comp = 100\n",
    "Xrot_reduced = np.dot(X, U[:, :n_comp])"
   ]
  },
  {
   "cell_type": "code",
   "execution_count": 56,
   "metadata": {},
   "outputs": [
    {
     "data": {
      "text/plain": [
       "(10000, 100)"
      ]
     },
     "execution_count": 56,
     "metadata": {},
     "output_type": "execute_result"
    }
   ],
   "source": [
    "Xrot_reduced.shape"
   ]
  },
  {
   "cell_type": "markdown",
   "metadata": {},
   "source": [
    "## Восстанавливаем изображение после понижения размерности"
   ]
  },
  {
   "cell_type": "code",
   "execution_count": 57,
   "metadata": {
    "collapsed": true
   },
   "outputs": [],
   "source": [
    "Xrot_restored = np.dot(Xrot_reduced, U[:,:n_comp].T)"
   ]
  },
  {
   "cell_type": "code",
   "execution_count": 60,
   "metadata": {},
   "outputs": [
    {
     "data": {
      "image/png": "[encoded data removed]",
      "text/plain": [
       "<matplotlib.figure.Figure at 0x110142a20>"
      ]
     },
     "metadata": {},
     "output_type": "display_data"
    }
   ],
   "source": [
    "from matplotlib import pyplot as plt\n",
    "fig = plt.figure(figsize=(20, 10))\n",
    "for i, img in enumerate(X[0:6], 1):\n",
    "    subplot = fig.add_subplot(1, 7, i)\n",
    "    img += mean\n",
    "    plt.imshow(img.reshape((28,28)), cmap='gray');"
   ]
  },
  {
   "cell_type": "code",
   "execution_count": 64,
   "metadata": {},
   "outputs": [
    {
     "data": {
      "image/png": "[encoded data removed]",
      "text/plain": [
       "<matplotlib.figure.Figure at 0x11202cc50>"
      ]
     },
     "metadata": {},
     "output_type": "display_data"
    }
   ],
   "source": [
    "from matplotlib import pyplot as plt\n",
    "fig = plt.figure(figsize=(20, 10))\n",
    "for i, img in enumerate(Xrot_restored[0:6], 1):\n",
    "    subplot = fig.add_subplot(1, 7, i)\n",
    "    img += mean\n",
    "    plt.title('%s' % y[i-1])\n",
    "    plt.imshow(img.reshape((28,28)), cmap='gray');"
   ]
  },
  {
   "cell_type": "markdown",
   "metadata": {},
   "source": [
    "## Визуализация собственных векторов"
   ]
  },
  {
   "cell_type": "code",
   "execution_count": 46,
   "metadata": {},
   "outputs": [
    {
     "data": {
      "image/png": "[encoded data removed]",
      "text/plain": [
       "<matplotlib.figure.Figure at 0x112da9e10>"
      ]
     },
     "metadata": {},
     "output_type": "display_data"
    }
   ],
   "source": [
    "fig = plt.figure(figsize=(20, 10))\n",
    "for i, img in enumerate(U.T[:5, :], 1):\n",
    "    subplot = fig.add_subplot(1, 5, i)\n",
    "    plt.imshow(img.reshape((28,28)), cmap='gray');"
   ]
  },
  {
   "cell_type": "code",
   "execution_count": 68,
   "metadata": {},
   "outputs": [],
   "source": [
    "from sklearn.linear_model import LogisticRegression\n",
    "logreg = LogisticRegression().fit(Xrot_reduced[:1000], y[:1000])"
   ]
  },
  {
   "cell_type": "code",
   "execution_count": 69,
   "metadata": {
    "collapsed": true
   },
   "outputs": [],
   "source": [
    "pred = logreg.predict(Xrot_reduced[:100])"
   ]
  },
  {
   "cell_type": "code",
   "execution_count": 70,
   "metadata": {},
   "outputs": [
    {
     "data": {
      "text/plain": [
       "array([ 7.,  9.,  1.,  0.,  7.,  0.,  4.,  6.,  2.,  9.,  7.,  0.,  4.,\n",
       "        9.,  2.,  1.,  8.,  6.,  8.,  1.,  4.,  9.,  9.,  2.,  9.,  8.,\n",
       "        5.,  8.,  8.,  1.,  3.,  4.,  7.,  6.,  5.,  6.,  2.,  7.,  4.,\n",
       "        0.,  1.,  7.,  6.,  4.,  7.,  7.,  1.,  7.,  9.,  7.,  6.,  7.,\n",
       "        6.,  1.,  4.,  3.,  3.,  4.,  0.,  5.,  2.,  8.,  2.,  4.,  2.,\n",
       "        9.,  6.,  3.,  3.,  5.,  9.,  0.,  5.,  6.,  1.,  6.,  6.,  6.,\n",
       "        2.,  8.,  5.,  1.,  7.,  9.,  9.,  9.,  3.,  5.,  8.,  9.,  9.,\n",
       "        1.,  1.,  0.,  8.,  5.,  0.,  3.,  8.,  1.])"
      ]
     },
     "execution_count": 70,
     "metadata": {},
     "output_type": "execute_result"
    }
   ],
   "source": [
    "pred[:100]"
   ]
  },
  {
   "cell_type": "code",
   "execution_count": 71,
   "metadata": {},
   "outputs": [
    {
     "data": {
      "text/plain": [
       "array([ 7.,  9.,  1.,  0.,  7.,  0.,  4.,  6.,  2.,  9.,  7.,  0.,  4.,\n",
       "        9.,  2.,  1.,  8.,  6.,  8.,  1.,  4.,  9.,  9.,  2.,  9.,  8.,\n",
       "        5.,  8.,  8.,  1.,  3.,  4.,  7.,  6.,  5.,  6.,  2.,  7.,  4.,\n",
       "        0.,  1.,  7.,  6.,  4.,  7.,  7.,  1.,  7.,  9.,  7.,  6.,  7.,\n",
       "        6.,  1.,  4.,  3.,  3.,  4.,  0.,  5.,  2.,  8.,  2.,  4.,  2.,\n",
       "        9.,  6.,  3.,  3.,  5.,  9.,  0.,  5.,  6.,  1.,  6.,  6.,  6.,\n",
       "        2.,  8.,  5.,  1.,  7.,  9.,  9.,  9.,  3.,  5.,  8.,  9.,  9.,\n",
       "        1.,  1.,  0.,  8.,  5.,  0.,  3.,  8.,  1.])"
      ]
     },
     "execution_count": 71,
     "metadata": {},
     "output_type": "execute_result"
    }
   ],
   "source": [
    "y[:100]"
   ]
  },
  {
   "cell_type": "code",
   "execution_count": 78,
   "metadata": {},
   "outputs": [
    {
     "data": {
      "text/plain": [
       "0"
      ]
     },
     "execution_count": 78,
     "metadata": {},
     "output_type": "execute_result"
    }
   ],
   "source": [
    "np.sum(np.nonzero(y[:100]-pred[:100]))"
   ]
  },
  {
   "cell_type": "code",
   "execution_count": null,
   "metadata": {
    "collapsed": true
   },
   "outputs": [],
   "source": []
  }
 ],
 "metadata": {
  "kernelspec": {
   "display_name": "Python 3",
   "language": "python",
   "name": "python3"
  },
  "language_info": {
   "codemirror_mode": {
    "name": "ipython",
    "version": 3
   },
   "file_extension": ".py",
   "mimetype": "text/x-python",
   "name": "python",
   "nbconvert_exporter": "python",
   "pygments_lexer": "ipython3",
   "version": "3.5.2"
  }
 },
 "nbformat": 4,
 "nbformat_minor": 2
}
