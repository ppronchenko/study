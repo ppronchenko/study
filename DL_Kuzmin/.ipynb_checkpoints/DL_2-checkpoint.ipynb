{
 "cells": [
  {
   "cell_type": "markdown",
   "metadata": {},
   "source": [
    "## Автоматическое дифференцирование"
   ]
  },
  {
   "cell_type": "code",
   "execution_count": 1,
   "metadata": {
    "ExecuteTime": {
     "end_time": "2019-11-06T12:28:34.900077Z",
     "start_time": "2019-11-06T12:28:34.399089Z"
    }
   },
   "outputs": [],
   "source": [
    "import torch\n",
    "from torch import autograd"
   ]
  },
  {
   "cell_type": "code",
   "execution_count": 2,
   "metadata": {
    "ExecuteTime": {
     "end_time": "2019-11-06T12:28:34.959876Z",
     "start_time": "2019-11-06T12:28:34.954576Z"
    }
   },
   "outputs": [
    {
     "name": "stdout",
     "output_type": "stream",
     "text": [
      "tensor([0., 1., 2., 3.])\n"
     ]
    }
   ],
   "source": [
    "x = torch.arange(4).type(torch.float)\n",
    "print(x)"
   ]
  },
  {
   "cell_type": "markdown",
   "metadata": {
    "ExecuteTime": {
     "end_time": "2019-11-06T11:20:01.003092Z",
     "start_time": "2019-11-06T11:20:00.998727Z"
    }
   },
   "source": [
    "## Присоединение градиента к `x`\n",
    "\n",
    "- Говорит системе, что мы хотим хранить градиент"
   ]
  },
  {
   "cell_type": "code",
   "execution_count": 3,
   "metadata": {
    "ExecuteTime": {
     "end_time": "2019-11-06T12:28:35.671645Z",
     "start_time": "2019-11-06T12:28:35.662681Z"
    }
   },
   "outputs": [
    {
     "data": {
      "text/plain": [
       "False"
      ]
     },
     "execution_count": 3,
     "metadata": {},
     "output_type": "execute_result"
    }
   ],
   "source": [
    "x.requires_grad"
   ]
  },
  {
   "cell_type": "code",
   "execution_count": 4,
   "metadata": {
    "ExecuteTime": {
     "end_time": "2019-11-06T12:28:35.852553Z",
     "start_time": "2019-11-06T12:28:35.849840Z"
    }
   },
   "outputs": [],
   "source": [
    "x = x.requires_grad_()"
   ]
  },
  {
   "cell_type": "code",
   "execution_count": 5,
   "metadata": {
    "ExecuteTime": {
     "end_time": "2019-11-06T12:28:36.057885Z",
     "start_time": "2019-11-06T12:28:36.053988Z"
    }
   },
   "outputs": [
    {
     "data": {
      "text/plain": [
       "True"
      ]
     },
     "execution_count": 5,
     "metadata": {},
     "output_type": "execute_result"
    }
   ],
   "source": [
    "x.requires_grad"
   ]
  },
  {
   "cell_type": "code",
   "execution_count": 6,
   "metadata": {
    "ExecuteTime": {
     "end_time": "2019-11-06T12:28:36.296476Z",
     "start_time": "2019-11-06T12:28:36.293864Z"
    }
   },
   "outputs": [],
   "source": [
    "x.grad"
   ]
  },
  {
   "cell_type": "markdown",
   "metadata": {},
   "source": [
    "## Forward\n",
    "\n",
    "вычислим \n",
    "\n",
    "$$y = 2\\mathbf{x}^{\\top}\\mathbf{x}$$"
   ]
  },
  {
   "cell_type": "code",
   "execution_count": 7,
   "metadata": {
    "ExecuteTime": {
     "end_time": "2019-11-06T12:28:36.769614Z",
     "start_time": "2019-11-06T12:28:36.697927Z"
    }
   },
   "outputs": [],
   "source": [
    "y = 2 * x.dot(x)"
   ]
  },
  {
   "cell_type": "code",
   "execution_count": 8,
   "metadata": {
    "ExecuteTime": {
     "end_time": "2019-11-06T12:28:36.898282Z",
     "start_time": "2019-11-06T12:28:36.893935Z"
    }
   },
   "outputs": [
    {
     "data": {
      "text/plain": [
       "tensor(28., grad_fn=<MulBackward0>)"
      ]
     },
     "execution_count": 8,
     "metadata": {},
     "output_type": "execute_result"
    }
   ],
   "source": [
    "y"
   ]
  },
  {
   "cell_type": "markdown",
   "metadata": {},
   "source": [
    "## Backward"
   ]
  },
  {
   "cell_type": "code",
   "execution_count": 9,
   "metadata": {
    "ExecuteTime": {
     "end_time": "2019-11-06T12:28:37.328415Z",
     "start_time": "2019-11-06T12:28:37.325308Z"
    }
   },
   "outputs": [],
   "source": [
    "y.backward()"
   ]
  },
  {
   "cell_type": "markdown",
   "metadata": {},
   "source": [
    "## Получение градиента\n",
    "\n",
    "$y = 2\\mathbf{x}^{\\top}\\mathbf{x}$, значит \n",
    "\n",
    "$$\\frac{\\partial y}{\\partial \\mathbf x} = 4\\mathbf{x}$$\n",
    "\n",
    "Проверим:"
   ]
  },
  {
   "cell_type": "code",
   "execution_count": 10,
   "metadata": {
    "ExecuteTime": {
     "end_time": "2019-11-06T12:28:37.687274Z",
     "start_time": "2019-11-06T12:28:37.682614Z"
    }
   },
   "outputs": [
    {
     "data": {
      "text/plain": [
       "tensor([ 0.,  4.,  8., 12.])"
      ]
     },
     "execution_count": 10,
     "metadata": {},
     "output_type": "execute_result"
    }
   ],
   "source": [
    "x.grad"
   ]
  },
  {
   "cell_type": "code",
   "execution_count": 11,
   "metadata": {
    "ExecuteTime": {
     "end_time": "2019-11-06T12:28:37.859164Z",
     "start_time": "2019-11-06T12:28:37.854157Z"
    }
   },
   "outputs": [
    {
     "data": {
      "text/plain": [
       "tensor([True, True, True, True])"
      ]
     },
     "execution_count": 11,
     "metadata": {},
     "output_type": "execute_result"
    }
   ],
   "source": [
    "4 * x == x.grad"
   ]
  },
  {
   "cell_type": "markdown",
   "metadata": {},
   "source": [
    "## no_grad\n",
    "\n",
    "функция no_grad позволяет отключить вычисление градиента для части кода"
   ]
  },
  {
   "cell_type": "code",
   "execution_count": 12,
   "metadata": {
    "ExecuteTime": {
     "end_time": "2019-11-06T12:28:38.455569Z",
     "start_time": "2019-11-06T12:28:38.449694Z"
    }
   },
   "outputs": [
    {
     "name": "stdout",
     "output_type": "stream",
     "text": [
      "<MulBackward0 object at 0x7f9af4a46630>\n",
      "None\n"
     ]
    }
   ],
   "source": [
    "y = 2 * x.dot(x)\n",
    "print(y.grad_fn)\n",
    "with torch.no_grad():\n",
    "    y = 2 * x.dot(x)\n",
    "    print(y.grad_fn)"
   ]
  },
  {
   "cell_type": "code",
   "execution_count": 13,
   "metadata": {
    "ExecuteTime": {
     "end_time": "2019-11-06T12:28:38.864256Z",
     "start_time": "2019-11-06T12:28:38.746593Z"
    }
   },
   "outputs": [
    {
     "name": "stdout",
     "output_type": "stream",
     "text": [
      "tensor([ 0.,  8., 16., 24.])\n"
     ]
    },
    {
     "ename": "RuntimeError",
     "evalue": "element 0 of tensors does not require grad and does not have a grad_fn",
     "output_type": "error",
     "traceback": [
      "\u001b[0;31m---------------------------------------------------------------------------\u001b[0m",
      "\u001b[0;31mRuntimeError\u001b[0m                              Traceback (most recent call last)",
      "\u001b[0;32m<ipython-input-13-6f34daf0d33a>\u001b[0m in \u001b[0;36m<module>\u001b[0;34m\u001b[0m\n\u001b[1;32m      4\u001b[0m \u001b[0;32mwith\u001b[0m \u001b[0mtorch\u001b[0m\u001b[0;34m.\u001b[0m\u001b[0mno_grad\u001b[0m\u001b[0;34m(\u001b[0m\u001b[0;34m)\u001b[0m\u001b[0;34m:\u001b[0m\u001b[0;34m\u001b[0m\u001b[0;34m\u001b[0m\u001b[0m\n\u001b[1;32m      5\u001b[0m     \u001b[0my\u001b[0m \u001b[0;34m=\u001b[0m \u001b[0;36m2\u001b[0m \u001b[0;34m*\u001b[0m \u001b[0mx\u001b[0m\u001b[0;34m.\u001b[0m\u001b[0mdot\u001b[0m\u001b[0;34m(\u001b[0m\u001b[0mx\u001b[0m\u001b[0;34m)\u001b[0m\u001b[0;34m\u001b[0m\u001b[0;34m\u001b[0m\u001b[0m\n\u001b[0;32m----> 6\u001b[0;31m     \u001b[0my\u001b[0m\u001b[0;34m.\u001b[0m\u001b[0mbackward\u001b[0m\u001b[0;34m(\u001b[0m\u001b[0;34m)\u001b[0m\u001b[0;34m\u001b[0m\u001b[0;34m\u001b[0m\u001b[0m\n\u001b[0m\u001b[1;32m      7\u001b[0m     \u001b[0mprint\u001b[0m\u001b[0;34m(\u001b[0m\u001b[0mx\u001b[0m\u001b[0;34m.\u001b[0m\u001b[0mgrad\u001b[0m\u001b[0;34m)\u001b[0m\u001b[0;34m\u001b[0m\u001b[0;34m\u001b[0m\u001b[0m\n",
      "\u001b[0;32m~/anaconda3/lib/python3.6/site-packages/torch/tensor.py\u001b[0m in \u001b[0;36mbackward\u001b[0;34m(self, gradient, retain_graph, create_graph)\u001b[0m\n\u001b[1;32m    164\u001b[0m                 \u001b[0mproducts\u001b[0m\u001b[0;34m.\u001b[0m \u001b[0mDefaults\u001b[0m \u001b[0mto\u001b[0m\u001b[0;31m \u001b[0m\u001b[0;31m`\u001b[0m\u001b[0;31m`\u001b[0m\u001b[0;32mFalse\u001b[0m\u001b[0;31m`\u001b[0m\u001b[0;31m`\u001b[0m\u001b[0;34m.\u001b[0m\u001b[0;34m\u001b[0m\u001b[0;34m\u001b[0m\u001b[0m\n\u001b[1;32m    165\u001b[0m         \"\"\"\n\u001b[0;32m--> 166\u001b[0;31m         \u001b[0mtorch\u001b[0m\u001b[0;34m.\u001b[0m\u001b[0mautograd\u001b[0m\u001b[0;34m.\u001b[0m\u001b[0mbackward\u001b[0m\u001b[0;34m(\u001b[0m\u001b[0mself\u001b[0m\u001b[0;34m,\u001b[0m \u001b[0mgradient\u001b[0m\u001b[0;34m,\u001b[0m \u001b[0mretain_graph\u001b[0m\u001b[0;34m,\u001b[0m \u001b[0mcreate_graph\u001b[0m\u001b[0;34m)\u001b[0m\u001b[0;34m\u001b[0m\u001b[0;34m\u001b[0m\u001b[0m\n\u001b[0m\u001b[1;32m    167\u001b[0m \u001b[0;34m\u001b[0m\u001b[0m\n\u001b[1;32m    168\u001b[0m     \u001b[0;32mdef\u001b[0m \u001b[0mregister_hook\u001b[0m\u001b[0;34m(\u001b[0m\u001b[0mself\u001b[0m\u001b[0;34m,\u001b[0m \u001b[0mhook\u001b[0m\u001b[0;34m)\u001b[0m\u001b[0;34m:\u001b[0m\u001b[0;34m\u001b[0m\u001b[0;34m\u001b[0m\u001b[0m\n",
      "\u001b[0;32m~/anaconda3/lib/python3.6/site-packages/torch/autograd/__init__.py\u001b[0m in \u001b[0;36mbackward\u001b[0;34m(tensors, grad_tensors, retain_graph, create_graph, grad_variables)\u001b[0m\n\u001b[1;32m     97\u001b[0m     Variable._execution_engine.run_backward(\n\u001b[1;32m     98\u001b[0m         \u001b[0mtensors\u001b[0m\u001b[0;34m,\u001b[0m \u001b[0mgrad_tensors\u001b[0m\u001b[0;34m,\u001b[0m \u001b[0mretain_graph\u001b[0m\u001b[0;34m,\u001b[0m \u001b[0mcreate_graph\u001b[0m\u001b[0;34m,\u001b[0m\u001b[0;34m\u001b[0m\u001b[0;34m\u001b[0m\u001b[0m\n\u001b[0;32m---> 99\u001b[0;31m         allow_unreachable=True)  # allow_unreachable flag\n\u001b[0m\u001b[1;32m    100\u001b[0m \u001b[0;34m\u001b[0m\u001b[0m\n\u001b[1;32m    101\u001b[0m \u001b[0;34m\u001b[0m\u001b[0m\n",
      "\u001b[0;31mRuntimeError\u001b[0m: element 0 of tensors does not require grad and does not have a grad_fn"
     ]
    }
   ],
   "source": [
    "y = 2 * x.dot(x)\n",
    "y.backward()\n",
    "print(x.grad)\n",
    "with torch.no_grad():\n",
    "    y = 2 * x.dot(x)\n",
    "    y.backward()\n",
    "    print(x.grad)"
   ]
  },
  {
   "cell_type": "markdown",
   "metadata": {},
   "source": [
    "## Гибкий граф"
   ]
  },
  {
   "cell_type": "code",
   "execution_count": 14,
   "metadata": {
    "ExecuteTime": {
     "end_time": "2019-11-06T12:28:39.549886Z",
     "start_time": "2019-11-06T12:28:39.545708Z"
    }
   },
   "outputs": [],
   "source": [
    "def f(a):\n",
    "    b = a * 2\n",
    "    while b.norm().item() < 1000:\n",
    "        b = b * 2\n",
    "    if b.sum().item() > 0:\n",
    "        c = b\n",
    "    else:\n",
    "        c = 100 * b\n",
    "    return c"
   ]
  },
  {
   "cell_type": "code",
   "execution_count": 15,
   "metadata": {
    "ExecuteTime": {
     "end_time": "2019-11-06T12:28:39.918932Z",
     "start_time": "2019-11-06T12:28:39.914266Z"
    }
   },
   "outputs": [],
   "source": [
    "a = torch.randn(1).requires_grad_()\n",
    "d = f(a)\n",
    "d.backward()"
   ]
  },
  {
   "cell_type": "code",
   "execution_count": 16,
   "metadata": {
    "ExecuteTime": {
     "end_time": "2019-11-06T12:28:40.278692Z",
     "start_time": "2019-11-06T12:28:40.272902Z"
    }
   },
   "outputs": [
    {
     "data": {
      "text/plain": [
       "tensor([-113245.0547], grad_fn=<MulBackward0>)"
      ]
     },
     "execution_count": 16,
     "metadata": {},
     "output_type": "execute_result"
    }
   ],
   "source": [
    "d"
   ]
  },
  {
   "cell_type": "code",
   "execution_count": 17,
   "metadata": {
    "ExecuteTime": {
     "end_time": "2019-11-06T12:28:40.451434Z",
     "start_time": "2019-11-06T12:28:40.445811Z"
    }
   },
   "outputs": [
    {
     "data": {
      "text/plain": [
       "tensor([-0.2765], requires_grad=True)"
      ]
     },
     "execution_count": 17,
     "metadata": {},
     "output_type": "execute_result"
    }
   ],
   "source": [
    "a"
   ]
  },
  {
   "cell_type": "markdown",
   "metadata": {},
   "source": [
    "## Практика\n",
    "\n",
    "1. Пусть $f(x) = \\sin(x) * x$. Постройте график $f(x)$ и $\\frac{df(x)}{dx}$ используя пакет autograd'а для расчета производных (т.е. нельзя выводить производную явно)"
   ]
  },
  {
   "cell_type": "markdown",
   "metadata": {},
   "source": [
    "## Линейная регрессия с нуля"
   ]
  },
  {
   "cell_type": "code",
   "execution_count": 18,
   "metadata": {
    "ExecuteTime": {
     "end_time": "2019-11-06T13:41:58.143546Z",
     "start_time": "2019-11-06T13:41:58.139013Z"
    }
   },
   "outputs": [],
   "source": [
    "%matplotlib inline\n",
    "from IPython import display\n",
    "from matplotlib import pyplot as plt\n",
    "import torch\n",
    "import random"
   ]
  },
  {
   "cell_type": "markdown",
   "metadata": {},
   "source": [
    "## Генерируем данные\n",
    "\n",
    "- Случайно генерируем $\\mathbf{X}\\in \\mathbb{R}^{1000 \\times 2}$\n",
    "- Выбираем значения весов (истинные): $\\mathbf{w} = [2, -3.4]^\\top$ и свободного члена $b = 4.2$\n",
    "- Генерируем метки по формле $\\mathbf{y}= \\mathbf{X} \\mathbf{w} + b + \\mathbf\\epsilon$\n",
    "  с шумом $\\epsilon$ нормально распределнным с мат ожиданием 0 и дисперсией 1"
   ]
  },
  {
   "cell_type": "code",
   "execution_count": 19,
   "metadata": {
    "ExecuteTime": {
     "end_time": "2019-11-06T13:41:58.582953Z",
     "start_time": "2019-11-06T13:41:58.578569Z"
    }
   },
   "outputs": [],
   "source": [
    "num_inputs = 2\n",
    "num_examples = 1000\n",
    "true_w = torch.tensor([2, -3.4])\n",
    "true_b = 4.2\n",
    "features = torch.randn((num_examples, num_inputs))\n",
    "labels = torch.mv(features, true_w) + true_b\n",
    "labels += torch.randn(labels.shape)"
   ]
  },
  {
   "cell_type": "markdown",
   "metadata": {},
   "source": [
    "## Визуализируем данные"
   ]
  },
  {
   "cell_type": "code",
   "execution_count": 20,
   "metadata": {
    "ExecuteTime": {
     "end_time": "2019-11-06T13:41:59.728821Z",
     "start_time": "2019-11-06T13:41:59.450748Z"
    }
   },
   "outputs": [
    {
     "data": {
      "image/png": "[encoded data removed]",
      "text/plain": [
       "<Figure size 864x288 with 3 Axes>"
      ]
     },
     "metadata": {
      "needs_background": "light"
     },
     "output_type": "display_data"
    }
   ],
   "source": [
    "plt.figure(figsize=(12, 4))\n",
    "plt.subplot(131)\n",
    "plt.scatter(features[:, 0], labels, 1)\n",
    "plt.subplot(132)\n",
    "plt.scatter(features[:, 1], labels, 1)\n",
    "plt.subplot(133)\n",
    "plt.scatter(features[:, 0], features[:, 1], 1)\n",
    "plt.show()"
   ]
  },
  {
   "cell_type": "markdown",
   "metadata": {},
   "source": [
    "## Чтение данных\n",
    "\n",
    "Итерируемся по датасету и возвращаем случаные `batch_size` примеров."
   ]
  },
  {
   "cell_type": "code",
   "execution_count": 21,
   "metadata": {
    "ExecuteTime": {
     "end_time": "2019-11-06T13:44:23.740404Z",
     "start_time": "2019-11-06T13:44:23.735805Z"
    }
   },
   "outputs": [],
   "source": [
    "def data_iter(batch_size, features, labels):\n",
    "    num_examples = len(features)\n",
    "    indices = list(range(num_examples))\n",
    "    # The examples are read at random, in no particular order\n",
    "    random.shuffle(indices)\n",
    "    for i in range(0, num_examples, batch_size):\n",
    "        j = indices[i: min(i + batch_size, num_examples)]\n",
    "        yield features[j, :], labels[j]"
   ]
  },
  {
   "cell_type": "markdown",
   "metadata": {},
   "source": [
    "## Выводим маленький батч"
   ]
  },
  {
   "cell_type": "code",
   "execution_count": 22,
   "metadata": {
    "ExecuteTime": {
     "end_time": "2019-11-06T13:44:24.381466Z",
     "start_time": "2019-11-06T13:44:24.374974Z"
    }
   },
   "outputs": [
    {
     "name": "stdout",
     "output_type": "stream",
     "text": [
      "tensor([[ 1.4605,  1.7162],\n",
      "        [ 0.1973, -0.4667],\n",
      "        [-1.4883,  0.7348],\n",
      "        [-0.8578,  0.7059],\n",
      "        [ 0.4749, -0.9435],\n",
      "        [-1.6809,  1.6478],\n",
      "        [-1.3035,  2.0144],\n",
      "        [-0.1366,  1.0651],\n",
      "        [ 0.5638, -2.2548],\n",
      "        [-0.0543, -0.7818]]) tensor([-0.3471,  5.8058, -2.4282, -0.3718,  9.8344, -3.7389, -5.0368,  0.2400,\n",
      "        14.8510,  7.1688])\n"
     ]
    }
   ],
   "source": [
    "batch_size = 10\n",
    "for X, y in data_iter(batch_size, features, labels):\n",
    "    print(X, y)\n",
    "    break"
   ]
  },
  {
   "cell_type": "markdown",
   "metadata": {},
   "source": [
    "### Создаем нашу модель для обучения"
   ]
  },
  {
   "cell_type": "code",
   "execution_count": 23,
   "metadata": {
    "ExecuteTime": {
     "end_time": "2019-11-06T13:44:35.605746Z",
     "start_time": "2019-11-06T13:44:35.602589Z"
    }
   },
   "outputs": [],
   "source": [
    "w = torch.randn((num_inputs))\n",
    "b = torch.zeros((1,))"
   ]
  },
  {
   "cell_type": "code",
   "execution_count": 24,
   "metadata": {
    "ExecuteTime": {
     "end_time": "2019-11-06T13:44:35.952828Z",
     "start_time": "2019-11-06T13:44:35.947688Z"
    }
   },
   "outputs": [
    {
     "data": {
      "text/plain": [
       "tensor([0.], requires_grad=True)"
      ]
     },
     "execution_count": 24,
     "metadata": {},
     "output_type": "execute_result"
    }
   ],
   "source": [
    "w.requires_grad_()\n",
    "b.requires_grad_()"
   ]
  },
  {
   "cell_type": "markdown",
   "metadata": {},
   "source": [
    "## Практика - реализуйте функции:\n",
    "- linreg - применение модели линейной регресии\n",
    "- squared_loss - MSE функция потерь\n",
    "- sgd - стохастический шаг градиентного спуска по массиву параметров\n",
    "\n",
    "и допишите код обучения линейной регрессии"
   ]
  },
  {
   "cell_type": "code",
   "execution_count": 25,
   "metadata": {
    "ExecuteTime": {
     "end_time": "2019-11-06T15:13:29.281855Z",
     "start_time": "2019-11-06T15:13:29.277830Z"
    }
   },
   "outputs": [
    {
     "ename": "SyntaxError",
     "evalue": "unexpected EOF while parsing (<ipython-input-25-7939740b6d00>, line 1)",
     "output_type": "error",
     "traceback": [
      "\u001b[0;36m  File \u001b[0;32m\"<ipython-input-25-7939740b6d00>\"\u001b[0;36m, line \u001b[0;32m1\u001b[0m\n\u001b[0;31m    def linreg(X, w, b):\u001b[0m\n\u001b[0m                        ^\u001b[0m\n\u001b[0;31mSyntaxError\u001b[0m\u001b[0;31m:\u001b[0m unexpected EOF while parsing\n"
     ]
    }
   ],
   "source": [
    "def linreg(X, w, b):"
   ]
  },
  {
   "cell_type": "markdown",
   "metadata": {},
   "source": [
    "### Обучение"
   ]
  },
  {
   "cell_type": "code",
   "execution_count": 441,
   "metadata": {
    "ExecuteTime": {
     "end_time": "2019-11-06T15:13:33.228353Z",
     "start_time": "2019-11-06T15:13:33.224154Z"
    }
   },
   "outputs": [
    {
     "ename": "SyntaxError",
     "evalue": "unexpected EOF while parsing (<ipython-input-441-21cd16d2aa85>, line 1)",
     "output_type": "error",
     "traceback": [
      "\u001b[0;36m  File \u001b[0;32m\"<ipython-input-441-21cd16d2aa85>\"\u001b[0;36m, line \u001b[0;32m1\u001b[0m\n\u001b[0;31m    def squared_loss(y_hat, y):\u001b[0m\n\u001b[0m                               ^\u001b[0m\n\u001b[0;31mSyntaxError\u001b[0m\u001b[0;31m:\u001b[0m unexpected EOF while parsing\n"
     ]
    }
   ],
   "source": [
    "def squared_loss(y_hat, y):"
   ]
  },
  {
   "cell_type": "code",
   "execution_count": 442,
   "metadata": {
    "ExecuteTime": {
     "end_time": "2019-11-06T15:13:37.923800Z",
     "start_time": "2019-11-06T15:13:37.919934Z"
    }
   },
   "outputs": [
    {
     "ename": "SyntaxError",
     "evalue": "unexpected EOF while parsing (<ipython-input-442-de3c8b4ab3d5>, line 1)",
     "output_type": "error",
     "traceback": [
      "\u001b[0;36m  File \u001b[0;32m\"<ipython-input-442-de3c8b4ab3d5>\"\u001b[0;36m, line \u001b[0;32m1\u001b[0m\n\u001b[0;31m    def sgd(params, lr, batch_size):\u001b[0m\n\u001b[0m                                    ^\u001b[0m\n\u001b[0;31mSyntaxError\u001b[0m\u001b[0;31m:\u001b[0m unexpected EOF while parsing\n"
     ]
    }
   ],
   "source": [
    "def sgd(params, lr, batch_size):"
   ]
  },
  {
   "cell_type": "code",
   "execution_count": 443,
   "metadata": {
    "ExecuteTime": {
     "end_time": "2019-11-06T15:14:17.300010Z",
     "start_time": "2019-11-06T15:14:17.288404Z"
    }
   },
   "outputs": [
    {
     "ename": "TypeError",
     "evalue": "'DataLoader' object is not callable",
     "output_type": "error",
     "traceback": [
      "\u001b[0;31m---------------------------------------------------------------------------\u001b[0m",
      "\u001b[0;31mTypeError\u001b[0m                                 Traceback (most recent call last)",
      "\u001b[0;32m<ipython-input-443-17ffafda6338>\u001b[0m in \u001b[0;36m<module>\u001b[0;34m\u001b[0m\n\u001b[1;32m      3\u001b[0m \u001b[0;34m\u001b[0m\u001b[0m\n\u001b[1;32m      4\u001b[0m \u001b[0;32mfor\u001b[0m \u001b[0mepoch\u001b[0m \u001b[0;32min\u001b[0m \u001b[0mrange\u001b[0m\u001b[0;34m(\u001b[0m\u001b[0mnum_epochs\u001b[0m\u001b[0;34m)\u001b[0m\u001b[0;34m:\u001b[0m\u001b[0;34m\u001b[0m\u001b[0;34m\u001b[0m\u001b[0m\n\u001b[0;32m----> 5\u001b[0;31m     \u001b[0;32mfor\u001b[0m \u001b[0mX\u001b[0m\u001b[0;34m,\u001b[0m \u001b[0my\u001b[0m \u001b[0;32min\u001b[0m \u001b[0mdata_iter\u001b[0m\u001b[0;34m(\u001b[0m\u001b[0mbatch_size\u001b[0m\u001b[0;34m,\u001b[0m \u001b[0mfeatures\u001b[0m\u001b[0;34m,\u001b[0m \u001b[0mlabels\u001b[0m\u001b[0;34m)\u001b[0m\u001b[0;34m:\u001b[0m\u001b[0;34m\u001b[0m\u001b[0;34m\u001b[0m\u001b[0m\n\u001b[0m\u001b[1;32m      6\u001b[0m         \u001b[0mw\u001b[0m \u001b[0;34m=\u001b[0m \u001b[0mw\u001b[0m\u001b[0;34m.\u001b[0m\u001b[0mdetach\u001b[0m\u001b[0;34m(\u001b[0m\u001b[0;34m)\u001b[0m\u001b[0;34m\u001b[0m\u001b[0;34m\u001b[0m\u001b[0m\n\u001b[1;32m      7\u001b[0m         \u001b[0mb\u001b[0m \u001b[0;34m=\u001b[0m \u001b[0mb\u001b[0m\u001b[0;34m.\u001b[0m\u001b[0mdetach\u001b[0m\u001b[0;34m(\u001b[0m\u001b[0;34m)\u001b[0m\u001b[0;34m\u001b[0m\u001b[0;34m\u001b[0m\u001b[0m\n",
      "\u001b[0;31mTypeError\u001b[0m: 'DataLoader' object is not callable"
     ]
    }
   ],
   "source": [
    "lr = 0.01  \n",
    "num_epochs = 10\n",
    "\n",
    "for epoch in range(num_epochs):\n",
    "    for X, y in data_iter(batch_size, features, labels):   \n",
    "        w = w.detach()\n",
    "        b = b.detach()\n",
    "        w.requires_grad_()\n",
    "        b.requires_grad_()\n",
    "        \n",
    "        #\n",
    "        # ТУТ КОД \n",
    "        #\n",
    "\n",
    "    train_l = squared_loss(linreg(features, w, b), labels)\n",
    "    print('epoch %d, loss %f' % (epoch + 1, train_l.mean().item()))"
   ]
  },
  {
   "cell_type": "markdown",
   "metadata": {},
   "source": [
    "## Оценка качества модели"
   ]
  },
  {
   "cell_type": "code",
   "execution_count": 321,
   "metadata": {
    "ExecuteTime": {
     "end_time": "2019-11-06T13:44:40.439545Z",
     "start_time": "2019-11-06T13:44:40.432550Z"
    }
   },
   "outputs": [
    {
     "name": "stdout",
     "output_type": "stream",
     "text": [
      "Error in estimating w tensor([ 0.0395, -0.0238], grad_fn=<SubBackward0>)\n",
      "Error in estimating b tensor([0.0167], grad_fn=<RsubBackward1>)\n",
      "tensor([ 1.9605, -3.3762], grad_fn=<CopySlices>)\n",
      "tensor([4.1833], grad_fn=<CopySlices>)\n"
     ]
    }
   ],
   "source": [
    "print('Error in estimating w', true_w - w.reshape(true_w.shape))\n",
    "print('Error in estimating b', true_b - b)\n",
    "print(w)\n",
    "print(b)"
   ]
  },
  {
   "cell_type": "markdown",
   "metadata": {
    "ExecuteTime": {
     "end_time": "2019-11-06T12:40:23.439886Z",
     "start_time": "2019-11-06T12:40:23.437308Z"
    }
   },
   "source": [
    "## Линейная регрессия на torch"
   ]
  },
  {
   "cell_type": "code",
   "execution_count": 391,
   "metadata": {
    "ExecuteTime": {
     "end_time": "2019-11-06T13:52:12.812804Z",
     "start_time": "2019-11-06T13:52:12.809805Z"
    }
   },
   "outputs": [],
   "source": [
    "from torch.utils.data import TensorDataset, DataLoader"
   ]
  },
  {
   "cell_type": "code",
   "execution_count": 392,
   "metadata": {
    "ExecuteTime": {
     "end_time": "2019-11-06T13:52:13.120962Z",
     "start_time": "2019-11-06T13:52:13.116472Z"
    }
   },
   "outputs": [],
   "source": [
    "num_inputs = 2\n",
    "num_examples = 1000\n",
    "true_w = torch.tensor([2, -3.4])\n",
    "true_b = 4.2\n",
    "features = torch.randn((num_examples, num_inputs))\n",
    "labels = torch.mv(features, true_w) + true_b\n",
    "labels += torch.randn(labels.shape)"
   ]
  },
  {
   "cell_type": "code",
   "execution_count": 393,
   "metadata": {
    "ExecuteTime": {
     "end_time": "2019-11-06T13:52:13.355499Z",
     "start_time": "2019-11-06T13:52:13.348636Z"
    },
    "scrolled": false
   },
   "outputs": [
    {
     "name": "stdout",
     "output_type": "stream",
     "text": [
      "tensor([[-1.2548, -1.0379],\n",
      "        [ 1.7299, -0.6894],\n",
      "        [-0.0449,  0.9779],\n",
      "        [ 1.7366,  2.4321],\n",
      "        [-2.4948,  1.2552],\n",
      "        [-0.0520,  1.1157],\n",
      "        [ 0.6848, -0.6399],\n",
      "        [ 0.7724, -0.8079],\n",
      "        [-0.4493,  0.5262],\n",
      "        [ 0.7553,  0.0686]]) tensor([ 5.5640,  9.8487,  0.2760, -0.5735, -4.9627,  0.6492, 10.2462,  8.5770,\n",
      "         2.3836,  4.6323])\n"
     ]
    }
   ],
   "source": [
    "batch_size = 10\n",
    "dataset = TensorDataset(features, labels)\n",
    "# Randomly reading mini-batches\n",
    "data_iter = DataLoader(dataset, batch_size, shuffle=True)\n",
    "\n",
    "# Read a batch to see how it works\n",
    "for X, y in data_iter:\n",
    "    print(X, y)\n",
    "    break"
   ]
  },
  {
   "cell_type": "code",
   "execution_count": 430,
   "metadata": {
    "ExecuteTime": {
     "end_time": "2019-11-06T15:01:54.637870Z",
     "start_time": "2019-11-06T15:01:54.634430Z"
    }
   },
   "outputs": [],
   "source": [
    "model = torch.nn.Sequential(torch.nn.Linear(2, 1))"
   ]
  },
  {
   "cell_type": "code",
   "execution_count": 425,
   "metadata": {
    "ExecuteTime": {
     "end_time": "2019-11-06T15:00:35.708316Z",
     "start_time": "2019-11-06T15:00:35.704362Z"
    },
    "scrolled": true
   },
   "outputs": [],
   "source": [
    "model[0].weight.data = true_w.clone().detach().requires_grad_(True).reshape((1, 2))\n",
    "model[0].bias.data = torch.tensor([true_b], requires_grad = True)"
   ]
  },
  {
   "cell_type": "code",
   "execution_count": 431,
   "metadata": {
    "ExecuteTime": {
     "end_time": "2019-11-06T15:01:56.233161Z",
     "start_time": "2019-11-06T15:01:56.230196Z"
    }
   },
   "outputs": [],
   "source": [
    "loss = torch.nn.MSELoss(reduction='mean')"
   ]
  },
  {
   "cell_type": "code",
   "execution_count": 433,
   "metadata": {
    "ExecuteTime": {
     "end_time": "2019-11-06T15:01:59.643238Z",
     "start_time": "2019-11-06T15:01:59.640268Z"
    }
   },
   "outputs": [],
   "source": [
    "trainer = torch.optim.SGD(model.parameters(), lr=0.001)"
   ]
  },
  {
   "cell_type": "code",
   "execution_count": 434,
   "metadata": {
    "ExecuteTime": {
     "end_time": "2019-11-06T15:02:03.375656Z",
     "start_time": "2019-11-06T15:02:00.252186Z"
    }
   },
   "outputs": [
    {
     "name": "stdout",
     "output_type": "stream",
     "text": [
      "epoch 1, loss: 23.584707\n",
      "w tensor([[ 0.3657, -0.1335]])\n",
      "b tensor([1.2592])\n",
      "epoch 2, loss: 16.003061\n",
      "w tensor([[ 0.6636, -0.7542]])\n",
      "b tensor([1.7906])\n",
      "epoch 3, loss: 10.963899\n",
      "w tensor([[ 0.9065, -1.2589]])\n",
      "b tensor([2.2259])\n",
      "epoch 4, loss: 7.622250\n",
      "w tensor([[ 1.1051, -1.6675]])\n",
      "b tensor([2.5820])\n",
      "epoch 5, loss: 5.401787\n",
      "w tensor([[ 1.2667, -1.9989]])\n",
      "b tensor([2.8741])\n",
      "epoch 6, loss: 3.923194\n",
      "w tensor([[ 1.3992, -2.2686]])\n",
      "b tensor([3.1139])\n",
      "epoch 7, loss: 2.943227\n",
      "w tensor([[ 1.5069, -2.4867]])\n",
      "b tensor([3.3101])\n",
      "epoch 8, loss: 2.291051\n",
      "w tensor([[ 1.5955, -2.6641]])\n",
      "b tensor([3.4707])\n",
      "epoch 9, loss: 1.857551\n",
      "w tensor([[ 1.6673, -2.8081]])\n",
      "b tensor([3.6026])\n",
      "epoch 10, loss: 1.570167\n",
      "w tensor([[ 1.7259, -2.9247]])\n",
      "b tensor([3.7103])\n",
      "epoch 11, loss: 1.378275\n",
      "w tensor([[ 1.7738, -3.0200]])\n",
      "b tensor([3.7988])\n",
      "epoch 12, loss: 1.251421\n",
      "w tensor([[ 1.8124, -3.0965]])\n",
      "b tensor([3.8715])\n",
      "epoch 13, loss: 1.166722\n",
      "w tensor([[ 1.8445, -3.1592]])\n",
      "b tensor([3.9308])\n",
      "epoch 14, loss: 1.110916\n",
      "w tensor([[ 1.8705, -3.2095]])\n",
      "b tensor([3.9789])\n",
      "epoch 15, loss: 1.073827\n",
      "w tensor([[ 1.8921, -3.2500]])\n",
      "b tensor([4.0183])\n",
      "epoch 16, loss: 1.048780\n",
      "w tensor([[ 1.9096, -3.2836]])\n",
      "b tensor([4.0509])\n",
      "epoch 17, loss: 1.031961\n",
      "w tensor([[ 1.9239, -3.3108]])\n",
      "b tensor([4.0784])\n",
      "epoch 18, loss: 1.020911\n",
      "w tensor([[ 1.9353, -3.3325]])\n",
      "b tensor([4.1009])\n",
      "epoch 19, loss: 1.013581\n",
      "w tensor([[ 1.9448, -3.3503]])\n",
      "b tensor([4.1190])\n",
      "epoch 20, loss: 1.008807\n",
      "w tensor([[ 1.9522, -3.3642]])\n",
      "b tensor([4.1337])\n",
      "epoch 21, loss: 1.005536\n",
      "w tensor([[ 1.9590, -3.3755]])\n",
      "b tensor([4.1461])\n",
      "epoch 22, loss: 1.003305\n",
      "w tensor([[ 1.9646, -3.3851]])\n",
      "b tensor([4.1566])\n",
      "epoch 23, loss: 1.001845\n",
      "w tensor([[ 1.9693, -3.3926]])\n",
      "b tensor([4.1651])\n",
      "epoch 24, loss: 1.000907\n",
      "w tensor([[ 1.9725, -3.3992]])\n",
      "b tensor([4.1715])\n",
      "epoch 25, loss: 1.000299\n",
      "w tensor([[ 1.9747, -3.4045]])\n",
      "b tensor([4.1767])\n",
      "epoch 26, loss: 0.999890\n",
      "w tensor([[ 1.9766, -3.4085]])\n",
      "b tensor([4.1812])\n",
      "epoch 27, loss: 0.999613\n",
      "w tensor([[ 1.9786, -3.4114]])\n",
      "b tensor([4.1852])\n",
      "epoch 28, loss: 0.999425\n",
      "w tensor([[ 1.9803, -3.4141]])\n",
      "b tensor([4.1882])\n",
      "epoch 29, loss: 0.999313\n",
      "w tensor([[ 1.9814, -3.4162]])\n",
      "b tensor([4.1903])\n",
      "epoch 30, loss: 0.999231\n",
      "w tensor([[ 1.9824, -3.4181]])\n",
      "b tensor([4.1921])\n",
      "epoch 31, loss: 0.999172\n",
      "w tensor([[ 1.9837, -3.4190]])\n",
      "b tensor([4.1943])\n",
      "epoch 32, loss: 0.999136\n",
      "w tensor([[ 1.9843, -3.4204]])\n",
      "b tensor([4.1954])\n",
      "epoch 33, loss: 0.999113\n",
      "w tensor([[ 1.9850, -3.4214]])\n",
      "b tensor([4.1962])\n",
      "epoch 34, loss: 0.999094\n",
      "w tensor([[ 1.9857, -3.4226]])\n",
      "b tensor([4.1968])\n",
      "epoch 35, loss: 0.999081\n",
      "w tensor([[ 1.9859, -3.4235]])\n",
      "b tensor([4.1977])\n",
      "epoch 36, loss: 0.999074\n",
      "w tensor([[ 1.9863, -3.4239]])\n",
      "b tensor([4.1983])\n",
      "epoch 37, loss: 0.999070\n",
      "w tensor([[ 1.9867, -3.4240]])\n",
      "b tensor([4.1989])\n",
      "epoch 38, loss: 0.999069\n",
      "w tensor([[ 1.9864, -3.4244]])\n",
      "b tensor([4.1991])\n",
      "epoch 39, loss: 0.999067\n",
      "w tensor([[ 1.9861, -3.4242]])\n",
      "b tensor([4.2001])\n",
      "epoch 40, loss: 0.999065\n",
      "w tensor([[ 1.9863, -3.4246]])\n",
      "b tensor([4.2003])\n",
      "epoch 41, loss: 0.999063\n",
      "w tensor([[ 1.9867, -3.4254]])\n",
      "b tensor([4.1999])\n",
      "epoch 42, loss: 0.999062\n",
      "w tensor([[ 1.9866, -3.4259]])\n",
      "b tensor([4.2005])\n",
      "epoch 43, loss: 0.999063\n",
      "w tensor([[ 1.9864, -3.4258]])\n",
      "b tensor([4.2009])\n",
      "epoch 44, loss: 0.999062\n",
      "w tensor([[ 1.9868, -3.4261]])\n",
      "b tensor([4.2012])\n",
      "epoch 45, loss: 0.999062\n",
      "w tensor([[ 1.9870, -3.4259]])\n",
      "b tensor([4.2012])\n",
      "epoch 46, loss: 0.999061\n",
      "w tensor([[ 1.9872, -3.4257]])\n",
      "b tensor([4.2011])\n",
      "epoch 47, loss: 0.999061\n",
      "w tensor([[ 1.9870, -3.4263]])\n",
      "b tensor([4.2010])\n",
      "epoch 48, loss: 0.999062\n",
      "w tensor([[ 1.9868, -3.4265]])\n",
      "b tensor([4.2017])\n",
      "epoch 49, loss: 0.999062\n",
      "w tensor([[ 1.9869, -3.4263]])\n",
      "b tensor([4.2017])\n",
      "epoch 50, loss: 0.999062\n",
      "w tensor([[ 1.9873, -3.4261]])\n",
      "b tensor([4.2019])\n",
      "epoch 51, loss: 0.999062\n",
      "w tensor([[ 1.9874, -3.4254]])\n",
      "b tensor([4.2017])\n",
      "epoch 52, loss: 0.999062\n",
      "w tensor([[ 1.9876, -3.4254]])\n",
      "b tensor([4.2014])\n",
      "epoch 53, loss: 0.999062\n",
      "w tensor([[ 1.9878, -3.4258]])\n",
      "b tensor([4.2018])\n",
      "epoch 54, loss: 0.999063\n",
      "w tensor([[ 1.9875, -3.4258]])\n",
      "b tensor([4.2020])\n",
      "epoch 55, loss: 0.999063\n",
      "w tensor([[ 1.9877, -3.4249]])\n",
      "b tensor([4.2016])\n",
      "epoch 56, loss: 0.999062\n",
      "w tensor([[ 1.9876, -3.4255]])\n",
      "b tensor([4.2016])\n",
      "epoch 57, loss: 0.999063\n",
      "w tensor([[ 1.9878, -3.4250]])\n",
      "b tensor([4.2018])\n",
      "epoch 58, loss: 0.999062\n",
      "w tensor([[ 1.9881, -3.4257]])\n",
      "b tensor([4.2018])\n",
      "epoch 59, loss: 0.999063\n",
      "w tensor([[ 1.9880, -3.4251]])\n",
      "b tensor([4.2018])\n",
      "epoch 60, loss: 0.999062\n",
      "w tensor([[ 1.9883, -3.4256]])\n",
      "b tensor([4.2016])\n",
      "epoch 61, loss: 0.999062\n",
      "w tensor([[ 1.9883, -3.4258]])\n",
      "b tensor([4.2006])\n",
      "epoch 62, loss: 0.999062\n",
      "w tensor([[ 1.9885, -3.4258]])\n",
      "b tensor([4.2009])\n",
      "epoch 63, loss: 0.999061\n",
      "w tensor([[ 1.9876, -3.4263]])\n",
      "b tensor([4.2012])\n",
      "epoch 64, loss: 0.999061\n",
      "w tensor([[ 1.9871, -3.4261]])\n",
      "b tensor([4.2010])\n",
      "epoch 65, loss: 0.999061\n",
      "w tensor([[ 1.9874, -3.4262]])\n",
      "b tensor([4.2011])\n",
      "epoch 66, loss: 0.999062\n",
      "w tensor([[ 1.9873, -3.4264]])\n",
      "b tensor([4.2016])\n",
      "epoch 67, loss: 0.999061\n",
      "w tensor([[ 1.9874, -3.4264]])\n",
      "b tensor([4.2013])\n",
      "epoch 68, loss: 0.999061\n",
      "w tensor([[ 1.9871, -3.4260]])\n",
      "b tensor([4.2012])\n",
      "epoch 69, loss: 0.999062\n",
      "w tensor([[ 1.9870, -3.4257]])\n",
      "b tensor([4.2014])\n",
      "epoch 70, loss: 0.999061\n",
      "w tensor([[ 1.9873, -3.4260]])\n",
      "b tensor([4.2013])\n",
      "epoch 71, loss: 0.999062\n",
      "w tensor([[ 1.9873, -3.4255]])\n",
      "b tensor([4.2014])\n",
      "epoch 72, loss: 0.999062\n",
      "w tensor([[ 1.9876, -3.4257]])\n",
      "b tensor([4.2017])\n",
      "epoch 73, loss: 0.999062\n",
      "w tensor([[ 1.9881, -3.4257]])\n",
      "b tensor([4.2016])\n",
      "epoch 74, loss: 0.999063\n",
      "w tensor([[ 1.9884, -3.4256]])\n",
      "b tensor([4.2019])\n",
      "epoch 75, loss: 0.999062\n",
      "w tensor([[ 1.9881, -3.4264]])\n",
      "b tensor([4.2016])\n",
      "epoch 76, loss: 0.999061\n",
      "w tensor([[ 1.9878, -3.4264]])\n",
      "b tensor([4.2013])\n",
      "epoch 77, loss: 0.999062\n",
      "w tensor([[ 1.9878, -3.4264]])\n",
      "b tensor([4.2016])\n",
      "epoch 78, loss: 0.999062\n",
      "w tensor([[ 1.9876, -3.4269]])\n",
      "b tensor([4.2016])\n",
      "epoch 79, loss: 0.999061\n",
      "w tensor([[ 1.9877, -3.4266]])\n",
      "b tensor([4.2011])\n",
      "epoch 80, loss: 0.999062\n",
      "w tensor([[ 1.9879, -3.4268]])\n",
      "b tensor([4.2011])\n",
      "epoch 81, loss: 0.999063\n",
      "w tensor([[ 1.9881, -3.4272]])\n",
      "b tensor([4.2015])\n",
      "epoch 82, loss: 0.999063\n",
      "w tensor([[ 1.9879, -3.4273]])\n",
      "b tensor([4.2010])\n",
      "epoch 83, loss: 0.999063\n",
      "w tensor([[ 1.9882, -3.4273]])\n",
      "b tensor([4.2008])\n",
      "epoch 84, loss: 0.999062\n",
      "w tensor([[ 1.9878, -3.4268]])\n",
      "b tensor([4.2016])\n",
      "epoch 85, loss: 0.999062\n",
      "w tensor([[ 1.9876, -3.4263]])\n",
      "b tensor([4.2017])\n",
      "epoch 86, loss: 0.999062\n",
      "w tensor([[ 1.9876, -3.4268]])\n",
      "b tensor([4.2016])\n",
      "epoch 87, loss: 0.999062\n",
      "w tensor([[ 1.9878, -3.4267]])\n",
      "b tensor([4.2013])\n",
      "epoch 88, loss: 0.999062\n",
      "w tensor([[ 1.9880, -3.4272]])\n",
      "b tensor([4.2010])\n",
      "epoch 89, loss: 0.999062\n",
      "w tensor([[ 1.9876, -3.4270]])\n",
      "b tensor([4.2006])\n",
      "epoch 90, loss: 0.999062\n",
      "w tensor([[ 1.9874, -3.4265]])\n",
      "b tensor([4.2000])\n",
      "epoch 91, loss: 0.999064\n",
      "w tensor([[ 1.9877, -3.4265]])\n",
      "b tensor([4.1993])\n",
      "epoch 92, loss: 0.999064\n",
      "w tensor([[ 1.9878, -3.4267]])\n",
      "b tensor([4.1993])\n",
      "epoch 93, loss: 0.999062\n",
      "w tensor([[ 1.9876, -3.4267]])\n",
      "b tensor([4.2001])\n",
      "epoch 94, loss: 0.999061\n",
      "w tensor([[ 1.9874, -3.4262]])\n",
      "b tensor([4.2008])\n",
      "epoch 95, loss: 0.999062\n",
      "w tensor([[ 1.9873, -3.4253]])\n",
      "b tensor([4.2002])\n",
      "epoch 96, loss: 0.999061\n",
      "w tensor([[ 1.9876, -3.4259]])\n",
      "b tensor([4.2004])\n",
      "epoch 97, loss: 0.999061\n",
      "w tensor([[ 1.9876, -3.4259]])\n",
      "b tensor([4.2005])\n",
      "epoch 98, loss: 0.999061\n",
      "w tensor([[ 1.9879, -3.4259]])\n",
      "b tensor([4.2005])\n",
      "epoch 99, loss: 0.999061\n",
      "w tensor([[ 1.9879, -3.4261]])\n",
      "b tensor([4.2007])\n",
      "epoch 100, loss: 0.999061\n",
      "w tensor([[ 1.9881, -3.4260]])\n",
      "b tensor([4.2006])\n"
     ]
    }
   ],
   "source": [
    "num_epochs = 100\n",
    "for epoch in range(1, num_epochs + 1):\n",
    "    for X, y in data_iter:\n",
    "        trainer.zero_grad()\n",
    "        l = loss(model.forward(X).reshape(-1), y)\n",
    "        l.backward()\n",
    "        trainer.step()\n",
    "    l = loss(model.forward(features).reshape(-1), labels)\n",
    "    print('epoch %d, loss: %f' % (epoch, l.item()))\n",
    "    print('w', model[0].weight.data)\n",
    "    print('b', model[0].bias.data)"
   ]
  },
  {
   "cell_type": "code",
   "execution_count": 435,
   "metadata": {
    "ExecuteTime": {
     "end_time": "2019-11-06T15:02:10.986551Z",
     "start_time": "2019-11-06T15:02:10.979650Z"
    }
   },
   "outputs": [
    {
     "name": "stdout",
     "output_type": "stream",
     "text": [
      "Error in estimating w tensor([[0.0119, 0.0260]])\n",
      "Error in estimating b tensor([-0.0006])\n"
     ]
    }
   ],
   "source": [
    "w = model[0].weight.data\n",
    "print('Error in estimating w', true_w.reshape(w.shape) - w)\n",
    "b = model[0].bias.data\n",
    "print('Error in estimating b', true_b - b)"
   ]
  },
  {
   "cell_type": "code",
   "execution_count": 436,
   "metadata": {
    "ExecuteTime": {
     "end_time": "2019-11-06T15:02:16.070126Z",
     "start_time": "2019-11-06T15:02:16.064827Z"
    }
   },
   "outputs": [
    {
     "data": {
      "text/plain": [
       "tensor([[ 1.9881, -3.4260]])"
      ]
     },
     "execution_count": 436,
     "metadata": {},
     "output_type": "execute_result"
    }
   ],
   "source": [
    "model[0].weight.data"
   ]
  },
  {
   "cell_type": "code",
   "execution_count": 437,
   "metadata": {
    "ExecuteTime": {
     "end_time": "2019-11-06T15:02:22.387394Z",
     "start_time": "2019-11-06T15:02:22.381962Z"
    }
   },
   "outputs": [
    {
     "data": {
      "text/plain": [
       "tensor([4.2006])"
      ]
     },
     "execution_count": 437,
     "metadata": {},
     "output_type": "execute_result"
    }
   ],
   "source": [
    "model[0].bias.data"
   ]
  },
  {
   "cell_type": "code",
   "execution_count": null,
   "metadata": {},
   "outputs": [],
   "source": []
  },
  {
   "cell_type": "code",
   "execution_count": null,
   "metadata": {},
   "outputs": [],
   "source": []
  }
 ],
 "metadata": {
  "kernelspec": {
   "display_name": "Python 3",
   "language": "python",
   "name": "python3"
  },
  "language_info": {
   "codemirror_mode": {
    "name": "ipython",
    "version": 3
   },
   "file_extension": ".py",
   "mimetype": "text/x-python",
   "name": "python",
   "nbconvert_exporter": "python",
   "pygments_lexer": "ipython3",
   "version": "3.6.8"
  }
 },
 "nbformat": 4,
 "nbformat_minor": 2
}
