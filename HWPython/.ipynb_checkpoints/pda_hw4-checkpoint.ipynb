{
 "cells": [
  {
   "cell_type": "markdown",
   "metadata": {},
   "source": [
    "Задание 1\n",
    "Напишите функцию date_range, которая возвращает список дней между датами start_date и end_date. Даты должны вводиться в формате YYYY-MM-DD."
   ]
  },
  {
   "cell_type": "code",
   "execution_count": 1,
   "metadata": {},
   "outputs": [],
   "source": [
    "from datetime import datetime\n",
    "from datetime import timedelta\n",
    "from datetime import date\n",
    "import calendar"
   ]
  },
  {
   "cell_type": "code",
   "execution_count": 2,
   "metadata": {},
   "outputs": [],
   "source": [
    "def date_range(start_date, end_date):\n",
    "    \"\"\"Функция возвращает список дней между датами. Даты в формате YYYY-MM-DD\"\"\"\n",
    "    list_of_days = []\n",
    "    start_date = datetime.strptime(start_date, '%Y-%m-%d')\n",
    "    end_date = datetime.strptime(end_date, '%Y-%m-%d')\n",
    "    i_date = start_date\n",
    "    while  i_date <= end_date:\n",
    "        list_of_days.append(i_date.strftime('%Y-%m-%d'))\n",
    "        i_date += timedelta(days=1)\n",
    "    return list_of_days"
   ]
  },
  {
   "cell_type": "code",
   "execution_count": 3,
   "metadata": {},
   "outputs": [
    {
     "data": {
      "text/plain": [
       "['2018-09-01',\n",
       " '2018-09-02',\n",
       " '2018-09-03',\n",
       " '2018-09-04',\n",
       " '2018-09-05',\n",
       " '2018-09-06',\n",
       " '2018-09-07',\n",
       " '2018-09-08',\n",
       " '2018-09-09',\n",
       " '2018-09-10',\n",
       " '2018-09-11',\n",
       " '2018-09-12']"
      ]
     },
     "execution_count": 3,
     "metadata": {},
     "output_type": "execute_result"
    }
   ],
   "source": [
    "date_range('2018-09-01', '2018-09-12')"
   ]
  },
  {
   "cell_type": "markdown",
   "metadata": {},
   "source": [
    "Задание 2\n",
    "Дополните функцию из первого задания проверкой на корректность дат. В случае неверного формата или если start_date > end_date должен возвращаться пустой список."
   ]
  },
  {
   "cell_type": "code",
   "execution_count": 4,
   "metadata": {},
   "outputs": [],
   "source": [
    "def date_range(start_date, end_date):\n",
    "    \"\"\"Функция возвращает список дней между датами. \n",
    "    Введите даты в формате YYYY-MM-DD\n",
    "    В случае некорретно введенных дат - возвращает пустой список.\n",
    "    \"\"\"\n",
    "    list_of_days = []\n",
    "    try:\n",
    "        start_date = datetime.strptime(start_date, '%Y-%m-%d')\n",
    "        end_date = datetime.strptime(end_date, '%Y-%m-%d')\n",
    "    except:\n",
    "        return []\n",
    "    if start_date > end_date:\n",
    "        return []\n",
    "    i_date = start_date\n",
    "    while  i_date <= end_date:\n",
    "        list_of_days.append(i_date.strftime('%Y-%m-%d'))\n",
    "        i_date += timedelta(days=1)\n",
    "    return list_of_days"
   ]
  },
  {
   "cell_type": "code",
   "execution_count": 5,
   "metadata": {},
   "outputs": [
    {
     "data": {
      "text/plain": [
       "[]"
      ]
     },
     "execution_count": 5,
     "metadata": {},
     "output_type": "execute_result"
    }
   ],
   "source": [
    "date_range('2018-09-14', '2018-09-12')"
   ]
  },
  {
   "cell_type": "code",
   "execution_count": 6,
   "metadata": {
    "scrolled": true
   },
   "outputs": [
    {
     "data": {
      "text/plain": [
       "[]"
      ]
     },
     "execution_count": 6,
     "metadata": {},
     "output_type": "execute_result"
    }
   ],
   "source": [
    "date_range('2018-0914', '2018-09-12')"
   ]
  },
  {
   "cell_type": "markdown",
   "metadata": {},
   "source": [
    "Задание 3\n",
    "Дан поток дат в формате YYYY-MM-DD, в которых встречаются некорректные значения:\n",
    "stream = ['2018-04-02', '2018-02-29', '2018-19-02']\n",
    "Напишите функцию, которая проверяет эти даты на корректность. Т. е. для каждой даты возвращает True (дата корректна) или False (некорректная дата)."
   ]
  },
  {
   "cell_type": "code",
   "execution_count": 7,
   "metadata": {},
   "outputs": [],
   "source": [
    "def chek_date (list_of_dates):\n",
    "    \"\"\"Функция проверяет даты на корректность. \n",
    "    На вход подается список дат в формате 'YYYY-MM-DD' на выходе список \n",
    "    значений True или False\n",
    "    \"\"\"\n",
    "    res = []\n",
    "    for i in list_of_dates:\n",
    "        try:\n",
    "            datetime.strptime(i, '%Y-%m-%d') \n",
    "            res.append(True) \n",
    "        except: \n",
    "            res.append(False)      \n",
    "    return res       "
   ]
  },
  {
   "cell_type": "code",
   "execution_count": 8,
   "metadata": {},
   "outputs": [],
   "source": [
    "stream =  ['2018-04-02', '2018-02-29', '2018-19-02'] "
   ]
  },
  {
   "cell_type": "code",
   "execution_count": 9,
   "metadata": {},
   "outputs": [
    {
     "data": {
      "text/plain": [
       "[True, False, False]"
      ]
     },
     "execution_count": 9,
     "metadata": {},
     "output_type": "execute_result"
    }
   ],
   "source": [
    "chek_date(stream)"
   ]
  },
  {
   "cell_type": "markdown",
   "metadata": {},
   "source": [
    "Задание 4\n",
    "Напишите функцию, которая возвращает список дат с 1 по вчерашний день текущего месяца. Если дан 1 день месяца, то возвращается список дней прошлого месяца."
   ]
  },
  {
   "cell_type": "code",
   "execution_count": 10,
   "metadata": {},
   "outputs": [],
   "source": [
    "def list_of_date_from_start_of_month():\n",
    "    \"\"\"Возвращает список дат с 1 по вчерашний день текущего месяца.\n",
    "    Если дан 1 день месяца, то возвращается список дней прошлого месяца\"\"\"\n",
    "    tod = date.today() #date(2018, 9, 1)\n",
    "    start_date = date(tod.year, tod.month, 1)\n",
    "    end_date = tod \n",
    "    list_of_days = []\n",
    "    if tod != start_date:\n",
    "        i_date = start_date\n",
    "    else:\n",
    "        i_date = date(start_date.year, start_date.month-1, 1)\n",
    "        days_in_month = calendar.monthrange(i_date.year, i_date.month)[1]\n",
    "        end_date = i_date + timedelta(days=days_in_month)\n",
    "    while i_date < end_date:\n",
    "        list_of_days.append(i_date)\n",
    "        i_date += timedelta(days=1)\n",
    "    return list_of_days          "
   ]
  },
  {
   "cell_type": "code",
   "execution_count": 11,
   "metadata": {},
   "outputs": [
    {
     "data": {
      "text/plain": [
       "[datetime.date(2018, 9, 1),\n",
       " datetime.date(2018, 9, 2),\n",
       " datetime.date(2018, 9, 3),\n",
       " datetime.date(2018, 9, 4),\n",
       " datetime.date(2018, 9, 5),\n",
       " datetime.date(2018, 9, 6),\n",
       " datetime.date(2018, 9, 7),\n",
       " datetime.date(2018, 9, 8),\n",
       " datetime.date(2018, 9, 9),\n",
       " datetime.date(2018, 9, 10),\n",
       " datetime.date(2018, 9, 11),\n",
       " datetime.date(2018, 9, 12),\n",
       " datetime.date(2018, 9, 13)]"
      ]
     },
     "execution_count": 11,
     "metadata": {},
     "output_type": "execute_result"
    }
   ],
   "source": [
    "list_of_date_from_start_of_month()"
   ]
  },
  {
   "cell_type": "markdown",
   "metadata": {},
   "source": [
    "Задание 5\n",
    "Напишите функцию, которая возвращает точную дату в формате YYYY-MM-DD по фразе:\n",
    "1. 'today' - сегодняшнюю дату\n",
    "2. 'last monday' -  прошлый понедельник\n",
    "3. 'last day' - Последний день текущего месяца"
   ]
  },
  {
   "cell_type": "code",
   "execution_count": 12,
   "metadata": {},
   "outputs": [],
   "source": [
    "def day_from_phrase(phrase):\n",
    "    \"\"\"возвращает точную дату в формате YYYY-MM-DD по фразе:\n",
    "    - 'today' - сегодняшнюю дату\n",
    "    - 'last monday' - прошлый понедельник\n",
    "    - 'last day' - Последний день текущего месяца\"\"\"\n",
    "    d = date.today()\n",
    "    if phrase == 'today':\n",
    "        d = d\n",
    "    elif phrase == 'last monday':\n",
    "        d = d + timedelta(days = (-6-d.isoweekday()))\n",
    "    elif phrase == 'last day':\n",
    "        c = calendar.Calendar(firstweekday=0)\n",
    "        z = c.monthdatescalendar(d.year, d.month)\n",
    "        d = z[-1][-1]\n",
    "    else:\n",
    "        d = (1900, 1, 1)\n",
    "    d = datetime.strftime(d, '%Y-%m-%d')\n",
    "    return d"
   ]
  },
  {
   "cell_type": "code",
   "execution_count": 13,
   "metadata": {},
   "outputs": [
    {
     "data": {
      "text/plain": [
       "'2018-09-14'"
      ]
     },
     "execution_count": 13,
     "metadata": {},
     "output_type": "execute_result"
    }
   ],
   "source": [
    "day_from_phrase('today')"
   ]
  },
  {
   "cell_type": "code",
   "execution_count": 14,
   "metadata": {},
   "outputs": [
    {
     "data": {
      "text/plain": [
       "'2018-09-03'"
      ]
     },
     "execution_count": 14,
     "metadata": {},
     "output_type": "execute_result"
    }
   ],
   "source": [
    "day_from_phrase('last monday')"
   ]
  },
  {
   "cell_type": "code",
   "execution_count": 15,
   "metadata": {},
   "outputs": [
    {
     "data": {
      "text/plain": [
       "'2018-09-30'"
      ]
     },
     "execution_count": 15,
     "metadata": {},
     "output_type": "execute_result"
    }
   ],
   "source": [
    "day_from_phrase('last day')"
   ]
  },
  {
   "cell_type": "markdown",
   "metadata": {},
   "source": [
    "Задание 6\n",
    "Напишите функцию, которая разбивает на недели с понедельника по воскресенье интервал дат между start_date и end_date. Считайте, что входные данные всегда корректны. В ответ должны входить только полные недели."
   ]
  },
  {
   "cell_type": "code",
   "execution_count": 16,
   "metadata": {},
   "outputs": [],
   "source": [
    "def interval_to_weeks (start_date, end_date):\n",
    "    \"\"\"Функция разбивает на полные недели с понедельника \n",
    "    по воскресенье интервал дат между start_date и end_date.\n",
    "    Введите данные в формате YYYY-MM-DD\"\"\"\n",
    "    start_date = datetime.strptime(start_date, '%Y-%m-%d')\n",
    "    end_date = datetime.strptime(end_date, '%Y-%m-%d')\n",
    "    if start_date.isoweekday() == 1:\n",
    "        start_date = start_date\n",
    "    else:\n",
    "        start_date = start_date + timedelta(days = (8-start_date.isoweekday()))\n",
    "    if end_date.isoweekday() == 7:\n",
    "        end_date = end_date \n",
    "    else:\n",
    "        end_date = end_date + timedelta(days = (-end_date.isoweekday()))\n",
    "    list_of_days = []\n",
    "    if start_date >= end_date:\n",
    "        list_of_days = []\n",
    "    else:\n",
    "        i_date = start_date\n",
    "        while i_date <= end_date:\n",
    "            list_of_days.append(i_date)\n",
    "            i_date += timedelta(days=1)\n",
    "    return list_of_days"
   ]
  },
  {
   "cell_type": "code",
   "execution_count": 17,
   "metadata": {
    "scrolled": true
   },
   "outputs": [
    {
     "data": {
      "text/plain": [
       "[datetime.datetime(2018, 9, 17, 0, 0),\n",
       " datetime.datetime(2018, 9, 18, 0, 0),\n",
       " datetime.datetime(2018, 9, 19, 0, 0),\n",
       " datetime.datetime(2018, 9, 20, 0, 0),\n",
       " datetime.datetime(2018, 9, 21, 0, 0),\n",
       " datetime.datetime(2018, 9, 22, 0, 0),\n",
       " datetime.datetime(2018, 9, 23, 0, 0)]"
      ]
     },
     "execution_count": 17,
     "metadata": {},
     "output_type": "execute_result"
    }
   ],
   "source": [
    "interval_to_weeks('2018-09-12', '2018-09-26')"
   ]
  },
  {
   "cell_type": "code",
   "execution_count": 18,
   "metadata": {},
   "outputs": [
    {
     "data": {
      "text/plain": [
       "[datetime.datetime(2018, 9, 17, 0, 0),\n",
       " datetime.datetime(2018, 9, 18, 0, 0),\n",
       " datetime.datetime(2018, 9, 19, 0, 0),\n",
       " datetime.datetime(2018, 9, 20, 0, 0),\n",
       " datetime.datetime(2018, 9, 21, 0, 0),\n",
       " datetime.datetime(2018, 9, 22, 0, 0),\n",
       " datetime.datetime(2018, 9, 23, 0, 0)]"
      ]
     },
     "execution_count": 18,
     "metadata": {},
     "output_type": "execute_result"
    }
   ],
   "source": [
    "interval_to_weeks('2018-09-17', '2018-09-23')"
   ]
  },
  {
   "cell_type": "code",
   "execution_count": null,
   "metadata": {},
   "outputs": [],
   "source": []
  },
  {
   "cell_type": "code",
   "execution_count": null,
   "metadata": {},
   "outputs": [],
   "source": []
  }
 ],
 "metadata": {
  "kernelspec": {
   "display_name": "Python 3",
   "language": "python",
   "name": "python3"
  },
  "language_info": {
   "codemirror_mode": {
    "name": "ipython",
    "version": 3
   },
   "file_extension": ".py",
   "mimetype": "text/x-python",
   "name": "python",
   "nbconvert_exporter": "python",
   "pygments_lexer": "ipython3",
   "version": "3.6.5"
  }
 },
 "nbformat": 4,
 "nbformat_minor": 2
}
