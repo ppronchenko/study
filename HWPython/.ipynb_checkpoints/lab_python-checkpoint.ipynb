{
 "cells": [
  {
   "cell_type": "markdown",
   "metadata": {},
   "source": [
    "#### Лабораторная работа. Пронченко Павел."
   ]
  },
  {
   "cell_type": "markdown",
   "metadata": {},
   "source": [
    "1.Дан произвольный список, содержащий только числа.Выведите результат сложения всех чисел больше 10. "
   ]
  },
  {
   "cell_type": "code",
   "execution_count": 1,
   "metadata": {},
   "outputs": [],
   "source": [
    "list_of_numbers = [5, 14, 87, 0.9, 15, 74, 61, 33]"
   ]
  },
  {
   "cell_type": "code",
   "execution_count": 2,
   "metadata": {},
   "outputs": [],
   "source": [
    "summ_of_list = sum([x for x in list_of_numbers if x > 10])"
   ]
  },
  {
   "cell_type": "code",
   "execution_count": 3,
   "metadata": {},
   "outputs": [
    {
     "data": {
      "text/plain": [
       "284"
      ]
     },
     "execution_count": 3,
     "metadata": {},
     "output_type": "execute_result"
    }
   ],
   "source": [
    "summ_of_list"
   ]
  },
  {
   "cell_type": "markdown",
   "metadata": {},
   "source": [
    "2.Пусть задан список, содержащий строки.Выведите все строки, заканчивающиеся буковой r."
   ]
  },
  {
   "cell_type": "code",
   "execution_count": 4,
   "metadata": {},
   "outputs": [],
   "source": [
    "list_of_str = ['111', 'bbbber', 'zzzz ', 'asdfsawr', 'teacher', 'actor', 'paleontologist', 'doctor', 'gardener']"
   ]
  },
  {
   "cell_type": "code",
   "execution_count": 5,
   "metadata": {},
   "outputs": [],
   "source": [
    "list_of_str_final_r = [x for x in list_of_str if x[-1]=='r']"
   ]
  },
  {
   "cell_type": "code",
   "execution_count": 6,
   "metadata": {},
   "outputs": [
    {
     "data": {
      "text/plain": [
       "['bbbber', 'asdfsawr', 'teacher', 'actor', 'doctor', 'gardener']"
      ]
     },
     "execution_count": 6,
     "metadata": {},
     "output_type": "execute_result"
    }
   ],
   "source": [
    "list_of_str_final_r"
   ]
  },
  {
   "cell_type": "markdown",
   "metadata": {},
   "source": [
    "3.Сгенерируйте и выведите cлучайную строку размером 6 символов, содержащую только цифры. Строка должна содержать хотя бы одну цифру 3."
   ]
  },
  {
   "cell_type": "code",
   "execution_count": 7,
   "metadata": {},
   "outputs": [
    {
     "name": "stdout",
     "output_type": "stream",
     "text": [
      "123894\n"
     ]
    }
   ],
   "source": [
    "from random import random\n",
    "\n",
    "j = 1\n",
    "while j == 1:\n",
    "    str_of_num = ''\n",
    "    for i in range(6):\n",
    "        str_of_num += str((int(random()*10)))    \n",
    "    if '3' in str_of_num:\n",
    "        j = 0\n",
    "        print(str_of_num)\n",
    "    else:\n",
    "        j = 1"
   ]
  },
  {
   "cell_type": "code",
   "execution_count": 8,
   "metadata": {},
   "outputs": [
    {
     "data": {
      "text/plain": [
       "'123894'"
      ]
     },
     "execution_count": 8,
     "metadata": {},
     "output_type": "execute_result"
    }
   ],
   "source": [
    "str_of_num"
   ]
  },
  {
   "cell_type": "markdown",
   "metadata": {},
   "source": [
    "4.Пусть дана строка произвольной длины. Выведите информацию о том,сколько в ней символов и сколько слов."
   ]
  },
  {
   "cell_type": "code",
   "execution_count": 9,
   "metadata": {},
   "outputs": [],
   "source": [
    "str_random_length = 'This is a random string'"
   ]
  },
  {
   "cell_type": "code",
   "execution_count": 10,
   "metadata": {},
   "outputs": [],
   "source": [
    "def count_words_and_chars(str_random_length):\n",
    "    words = str_random_length.split(' ')\n",
    "    q_words = len(words)\n",
    "    q_chars = len(str_random_length)\n",
    "    print('В строке \\\"'+str_random_length+'\\\" слов: '+str(q_words)+' символов: '+str(q_chars))"
   ]
  },
  {
   "cell_type": "code",
   "execution_count": 11,
   "metadata": {},
   "outputs": [
    {
     "name": "stdout",
     "output_type": "stream",
     "text": [
      "В строке \"This is a random string\" слов: 5 символов: 23\n"
     ]
    }
   ],
   "source": [
    "count_words_and_chars(str_random_length)"
   ]
  },
  {
   "cell_type": "markdown",
   "metadata": {},
   "source": [
    "5. Пусть дана матрица чисел размером NхN. Представьте данную матрицу ввиде списка. Выведите результат сложения всех элементов матрицы."
   ]
  },
  {
   "cell_type": "code",
   "execution_count": 12,
   "metadata": {},
   "outputs": [],
   "source": [
    "import numpy as np\n",
    "\n",
    "mat = np.matrix(\n",
    "[ \n",
    "[1, 2, 3],\n",
    "[6, 10, 16],\n",
    "[12, 7, 7]    \n",
    "]\n",
    "          )\n"
   ]
  },
  {
   "cell_type": "code",
   "execution_count": 13,
   "metadata": {},
   "outputs": [],
   "source": [
    "def matrix_to_list(mat):\n",
    "    \"\"\"Преобразует матрицу numpy в одномерный список\"\"\"\n",
    "    mat_row = mat.reshape(1,np.size(mat))\n",
    "    mat_list = []\n",
    "    for i in range(np.size(mat_row)):\n",
    "        mat_list.append(mat_row.item(i))\n",
    "    return mat_list"
   ]
  },
  {
   "cell_type": "code",
   "execution_count": 14,
   "metadata": {},
   "outputs": [
    {
     "data": {
      "text/plain": [
       "64"
      ]
     },
     "execution_count": 14,
     "metadata": {},
     "output_type": "execute_result"
    }
   ],
   "source": [
    "sum(matrix_to_list(mat))"
   ]
  },
  {
   "cell_type": "markdown",
   "metadata": {},
   "source": [
    "6.Пусть список студентов представлен в виде структуры [[No, ФИО, Возраст,Группа],[No, ФИО, Возраст, Группа],[No, ФИО, Возраст, Группа]]. Преобразуйте список в словарь вида: {No: [ФИО, Возраст, Группа], No:[....], No: [....]}"
   ]
  },
  {
   "cell_type": "code",
   "execution_count": 15,
   "metadata": {},
   "outputs": [],
   "source": [
    "students = [\n",
    " [16, 'Иванов Иван Иванович', 21, 'A'],\n",
    " [17, 'Петров Петр Петрович', 20, 'B'],\n",
    " [18, 'Сидоров Сидор Сидорович', 22, 'C'],   \n",
    "]"
   ]
  },
  {
   "cell_type": "code",
   "execution_count": 16,
   "metadata": {},
   "outputs": [],
   "source": [
    "def list_to_dict(llist):\n",
    "    \"\"\"Преобразует список в словарь\"\"\"\n",
    "    students_dict = {}\n",
    "    for i in llist:\n",
    "        first, *other = i\n",
    "        students_dict.setdefault(first, other)\n",
    "    return students_dict"
   ]
  },
  {
   "cell_type": "code",
   "execution_count": 17,
   "metadata": {},
   "outputs": [],
   "source": [
    "students_dict = list_to_dict(students)"
   ]
  },
  {
   "cell_type": "code",
   "execution_count": 19,
   "metadata": {},
   "outputs": [
    {
     "data": {
      "text/plain": [
       "{16: ['Иванов Иван Иванович', 21, 'A'],\n",
       " 17: ['Петров Петр Петрович', 20, 'B'],\n",
       " 18: ['Сидоров Сидор Сидорович', 22, 'C']}"
      ]
     },
     "execution_count": 19,
     "metadata": {},
     "output_type": "execute_result"
    }
   ],
   "source": [
    "students_dict"
   ]
  },
  {
   "cell_type": "markdown",
   "metadata": {},
   "source": [
    "7.Добавьте к задаче No6 для словаря возможность (без преобразования словаря обратно в список) изменить группу студента. Поиск по «ФИО» («ФИО» студента и новый номер группы необходимо ввести с клавиатуры)."
   ]
  },
  {
   "cell_type": "code",
   "execution_count": 20,
   "metadata": {},
   "outputs": [
    {
     "name": "stdout",
     "output_type": "stream",
     "text": [
      "Введите ФИО:Иванов Иван Иванович\n"
     ]
    }
   ],
   "source": [
    "fio = str(input('Введите ФИО:'))"
   ]
  },
  {
   "cell_type": "code",
   "execution_count": 22,
   "metadata": {},
   "outputs": [
    {
     "name": "stdout",
     "output_type": "stream",
     "text": [
      "Введите новую группу:C\n"
     ]
    }
   ],
   "source": [
    "group = str(input('Введите новую группу:'))"
   ]
  },
  {
   "cell_type": "code",
   "execution_count": 23,
   "metadata": {},
   "outputs": [],
   "source": [
    "def change_group(sdict, fio, group):\n",
    "    for key in sdict.keys():\n",
    "        if sdict[key][0] == fio:\n",
    "               sdict[key][2] = group\n",
    "    return sdict"
   ]
  },
  {
   "cell_type": "code",
   "execution_count": 24,
   "metadata": {},
   "outputs": [
    {
     "data": {
      "text/plain": [
       "{16: ['Иванов Иван Иванович', 21, 'C'],\n",
       " 17: ['Петров Петр Петрович', 20, 'B'],\n",
       " 18: ['Сидоров Сидор Сидорович', 22, 'C']}"
      ]
     },
     "execution_count": 24,
     "metadata": {},
     "output_type": "execute_result"
    }
   ],
   "source": [
    "change_group(students_dict, fio, group)"
   ]
  },
  {
   "cell_type": "markdown",
   "metadata": {},
   "source": [
    "8.*Дана некоторая директория (папка). Посчитайте количество файлов в данной директории (папке) и выведите на  экран."
   ]
  },
  {
   "cell_type": "code",
   "execution_count": 25,
   "metadata": {},
   "outputs": [],
   "source": [
    "import os\n",
    "directory = '/home/pavel/HomeWork/study/HWPython'\n",
    "\n",
    "def count_only_files(directory):\n",
    "    \"\"\"Подсчитывает количество файлов (директория это не файл) в папке, directory - строка, путь к директории\"\"\"\n",
    "    onlyfiles = next(os.walk(directory))[2]\n",
    "    return len(onlyfiles)"
   ]
  },
  {
   "cell_type": "code",
   "execution_count": 26,
   "metadata": {},
   "outputs": [
    {
     "data": {
      "text/plain": [
       "23"
      ]
     },
     "execution_count": 26,
     "metadata": {},
     "output_type": "execute_result"
    }
   ],
   "source": [
    "count_only_files(directory)"
   ]
  },
  {
   "cell_type": "code",
   "execution_count": null,
   "metadata": {},
   "outputs": [],
   "source": []
  }
 ],
 "metadata": {
  "kernelspec": {
   "display_name": "Python 3",
   "language": "python",
   "name": "python3"
  },
  "language_info": {
   "codemirror_mode": {
    "name": "ipython",
    "version": 3
   },
   "file_extension": ".py",
   "mimetype": "text/x-python",
   "name": "python",
   "nbconvert_exporter": "python",
   "pygments_lexer": "ipython3",
   "version": "3.6.5"
  }
 },
 "nbformat": 4,
 "nbformat_minor": 2
}
