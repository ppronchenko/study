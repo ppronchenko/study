{
 "cells": [
  {
   "cell_type": "markdown",
   "metadata": {},
   "source": [
    "## Rosbank ML Competition"
   ]
  },
  {
   "cell_type": "markdown",
   "metadata": {},
   "source": [
    "Ссылка на соревнование: https://boosters.pro/champ_15"
   ]
  },
  {
   "cell_type": "markdown",
   "metadata": {},
   "source": [
    "Росбанк – часть ведущей международной финансовой группы Societe Generale, банк включен ЦБ РФ в число 11 системно значимых кредитных организаций России. Инновации неотъемлемый процесс работы Росбанка, поэтому активно развивается направленный анализа больших данных."
   ]
  },
  {
   "cell_type": "markdown",
   "metadata": {},
   "source": [
    "- Данные\n",
    "\n",
    "Датасет, который содержит историю транзакций клиентов за 3 месяца льготного использования банковского продукта\n",
    "\n",
    "- Задача\n",
    "\n",
    "Задача бинарной классификации – прогноз оттока клиентов\n",
    "\n",
    "Колонка cl_id содержит вутренний id клиента. Для каждого уникальнго cl_id следует предсказать продолжит ли клиент пользоваться продуктом (target_flag). Значение 0 соответствует отказу, а значение 1 соответствует продолжению использования"
   ]
  },
  {
   "cell_type": "markdown",
   "metadata": {},
   "source": [
    "## Домашняя работа\n",
    "\n",
    "1. Наборы данных вида Transactions (несколько транзакций на одного клиента) трансформировать в таблицу, где cl_id будут уникальными (соответственно 4000 строк в train и 1000 строк в test\n",
    "2. Для каждого cl_id будет уникальное целевое событие target_flag, а также уникальный канал привлечения клиента channel_type (клиент привлекается лишь однажды и с самого начала его записи присваивается значение канала привлечения)\n",
    "3. При агрегации (*pandas.DataFrame.groupby*) по cl_id (или по связке cl_id, channel_type, target_flag) необходимо создавать производные фичи, идеи для таких фичей могут быть следующими:\n",
    "\n",
    "    - общая сумма транзакций по каждой из trx_category\n",
    "    - общая сумма транзакции по основным вылютам (напр. выделить рубли, доллары и евро - предположительно, это будут самые крупные категории)\n",
    "    - общая сумма транзакций по категориям MCC кодов (например, выбрать основные/популярные MCC коды). ВНИМАНИ! Некоторые MCC коды из train могут быть не представлены в test. Про MCC коды в целом: http://www.banki.ru/wikibank/mcc-kod/; Справочник MCC кодов: https://mcc-codes.ru/code; Про некоторые категории кэшбека Росбанка: https://mcc-codes.ru/card/rosbank-sverkh-plus;\n",
    "    - возможные агрегации по времени суток и дням недели - траты в выходные (праздники) или будни, в ночное время или в рабочее и т.д.\n",
    "4. **Обязательная часть**: провести первичный анализ данных - посмотреть распределения признаков, выделить самые популярные MCC, помотреть активность клиентов по дням недели/времени, какие категории транзакции (trx_category) наиболее популярны и т.д. Получить инсайты, которые в дальнейшем помогут вам правильно подготовить фичи\n",
    "5. **Дополнительная часть**: с отобранными фичами и полученными компонентами обучить модель (тип алгоритма на свой вкус, можно начать с линейной) и померить качество на локальном тестовом наборе данных (локальная валидация), который создается в этом ноутбуке. **Метрика оценки качества - ROC AUC**(https://en.wikipedia.org/wiki/Receiver_operating_characteristic)\n",
    "6. Задания принимаются в виде ноутбука с кодов/картинками выполненной обязательной части + указанием места в leaderboard при решении дополнительной\n",
    "\n",
    "При возникновении вопросов и для отправки домашнего задания - egsachko@gmail.com или http://fb.com/sachkoe\n",
    "    "
   ]
  },
  {
   "cell_type": "code",
   "execution_count": 1,
   "metadata": {},
   "outputs": [
    {
     "name": "stderr",
     "output_type": "stream",
     "text": [
      "/home/pavel/anaconda3/lib/python3.6/site-packages/sklearn/cross_validation.py:41: DeprecationWarning: This module was deprecated in version 0.18 in favor of the model_selection module into which all the refactored classes and functions are moved. Also note that the interface of the new CV iterators are different from that of this module. This module will be removed in 0.20.\n",
      "  \"This module will be removed in 0.20.\", DeprecationWarning)\n"
     ]
    }
   ],
   "source": [
    "import pandas as pd\n",
    "import numpy as np\n",
    "import matplotlib.pyplot as plt\n",
    "%matplotlib inline\n",
    "import datetime\n",
    "import seaborn as sns\n",
    "import xgboost\n",
    "from sklearn.cross_validation import train_test_split\n",
    "from sklearn.metrics import roc_auc_score, roc_curve"
   ]
  },
  {
   "cell_type": "code",
   "execution_count": 2,
   "metadata": {},
   "outputs": [
    {
     "data": {
      "text/html": [
       "<div>\n",
       "<style scoped>\n",
       "    .dataframe tbody tr th:only-of-type {\n",
       "        vertical-align: middle;\n",
       "    }\n",
       "\n",
       "    .dataframe tbody tr th {\n",
       "        vertical-align: top;\n",
       "    }\n",
       "\n",
       "    .dataframe thead th {\n",
       "        text-align: right;\n",
       "    }\n",
       "</style>\n",
       "<table border=\"1\" class=\"dataframe\">\n",
       "  <thead>\n",
       "    <tr style=\"text-align: right;\">\n",
       "      <th></th>\n",
       "      <th>PERIOD</th>\n",
       "      <th>cl_id</th>\n",
       "      <th>MCC</th>\n",
       "      <th>channel_type</th>\n",
       "      <th>currency</th>\n",
       "      <th>TRDATETIME</th>\n",
       "      <th>amount</th>\n",
       "      <th>trx_category</th>\n",
       "      <th>target_flag</th>\n",
       "      <th>target_sum</th>\n",
       "    </tr>\n",
       "  </thead>\n",
       "  <tbody>\n",
       "    <tr>\n",
       "      <th>0</th>\n",
       "      <td>01/10/2017</td>\n",
       "      <td>0</td>\n",
       "      <td>5200</td>\n",
       "      <td>NaN</td>\n",
       "      <td>810</td>\n",
       "      <td>21OCT17:00:00:00</td>\n",
       "      <td>5023.0</td>\n",
       "      <td>POS</td>\n",
       "      <td>0</td>\n",
       "      <td>0.0</td>\n",
       "    </tr>\n",
       "    <tr>\n",
       "      <th>1</th>\n",
       "      <td>01/10/2017</td>\n",
       "      <td>0</td>\n",
       "      <td>6011</td>\n",
       "      <td>NaN</td>\n",
       "      <td>810</td>\n",
       "      <td>12OCT17:12:24:07</td>\n",
       "      <td>20000.0</td>\n",
       "      <td>DEPOSIT</td>\n",
       "      <td>0</td>\n",
       "      <td>0.0</td>\n",
       "    </tr>\n",
       "    <tr>\n",
       "      <th>2</th>\n",
       "      <td>01/12/2017</td>\n",
       "      <td>0</td>\n",
       "      <td>5921</td>\n",
       "      <td>NaN</td>\n",
       "      <td>810</td>\n",
       "      <td>05DEC17:00:00:00</td>\n",
       "      <td>767.0</td>\n",
       "      <td>POS</td>\n",
       "      <td>0</td>\n",
       "      <td>0.0</td>\n",
       "    </tr>\n",
       "    <tr>\n",
       "      <th>3</th>\n",
       "      <td>01/10/2017</td>\n",
       "      <td>0</td>\n",
       "      <td>5411</td>\n",
       "      <td>NaN</td>\n",
       "      <td>810</td>\n",
       "      <td>21OCT17:00:00:00</td>\n",
       "      <td>2031.0</td>\n",
       "      <td>POS</td>\n",
       "      <td>0</td>\n",
       "      <td>0.0</td>\n",
       "    </tr>\n",
       "    <tr>\n",
       "      <th>4</th>\n",
       "      <td>01/10/2017</td>\n",
       "      <td>0</td>\n",
       "      <td>6012</td>\n",
       "      <td>NaN</td>\n",
       "      <td>810</td>\n",
       "      <td>24OCT17:13:14:24</td>\n",
       "      <td>36562.0</td>\n",
       "      <td>C2C_OUT</td>\n",
       "      <td>0</td>\n",
       "      <td>0.0</td>\n",
       "    </tr>\n",
       "  </tbody>\n",
       "</table>\n",
       "</div>"
      ],
      "text/plain": [
       "       PERIOD  cl_id   MCC channel_type  currency        TRDATETIME   amount  \\\n",
       "0  01/10/2017      0  5200          NaN       810  21OCT17:00:00:00   5023.0   \n",
       "1  01/10/2017      0  6011          NaN       810  12OCT17:12:24:07  20000.0   \n",
       "2  01/12/2017      0  5921          NaN       810  05DEC17:00:00:00    767.0   \n",
       "3  01/10/2017      0  5411          NaN       810  21OCT17:00:00:00   2031.0   \n",
       "4  01/10/2017      0  6012          NaN       810  24OCT17:13:14:24  36562.0   \n",
       "\n",
       "  trx_category  target_flag  target_sum  \n",
       "0          POS            0         0.0  \n",
       "1      DEPOSIT            0         0.0  \n",
       "2          POS            0         0.0  \n",
       "3          POS            0         0.0  \n",
       "4      C2C_OUT            0         0.0  "
      ]
     },
     "execution_count": 2,
     "metadata": {},
     "output_type": "execute_result"
    }
   ],
   "source": [
    "raw_df = pd.read_csv('rosbank_train.csv')\n",
    "raw_df.head(5)\n",
    "# target_sum - можно выкинуть, переменная участвует в другой задаче"
   ]
  },
  {
   "cell_type": "code",
   "execution_count": 3,
   "metadata": {},
   "outputs": [],
   "source": [
    "cor_cols = [x for x in raw_df.columns if 'target_sum' not in x]\n",
    "raw_df = raw_df.loc[:, cor_cols]"
   ]
  },
  {
   "cell_type": "code",
   "execution_count": 4,
   "metadata": {},
   "outputs": [
    {
     "name": "stdout",
     "output_type": "stream",
     "text": [
      "<class 'pandas.core.frame.DataFrame'>\n",
      "RangeIndex: 490513 entries, 0 to 490512\n",
      "Data columns (total 9 columns):\n",
      "PERIOD          490513 non-null object\n",
      "cl_id           490513 non-null int64\n",
      "MCC             490513 non-null int64\n",
      "channel_type    487603 non-null object\n",
      "currency        490513 non-null int64\n",
      "TRDATETIME      490513 non-null object\n",
      "amount          490513 non-null float64\n",
      "trx_category    490513 non-null object\n",
      "target_flag     490513 non-null int64\n",
      "dtypes: float64(1), int64(4), object(4)\n",
      "memory usage: 33.7+ MB\n"
     ]
    }
   ],
   "source": [
    "raw_df.info()"
   ]
  },
  {
   "cell_type": "code",
   "execution_count": 5,
   "metadata": {},
   "outputs": [
    {
     "data": {
      "text/plain": [
       "810    477644\n",
       "978      5536\n",
       "840      1921\n",
       "933       561\n",
       "985       423\n",
       "Name: currency, dtype: int64"
      ]
     },
     "execution_count": 5,
     "metadata": {},
     "output_type": "execute_result"
    }
   ],
   "source": [
    "raw_df.currency.value_counts().head()"
   ]
  },
  {
   "cell_type": "code",
   "execution_count": 6,
   "metadata": {},
   "outputs": [
    {
     "data": {
      "text/plain": [
       "[810, 978, 840]"
      ]
     },
     "execution_count": 6,
     "metadata": {},
     "output_type": "execute_result"
    }
   ],
   "source": [
    "# основных валюты - три: рубль, евро, доллар США. Нужно перевести amount в рубли и зафильтровать дата фрейм\n",
    "currency_list = raw_df.currency.value_counts().head(3).index.tolist()\n",
    "currency_list"
   ]
  },
  {
   "cell_type": "code",
   "execution_count": 7,
   "metadata": {},
   "outputs": [],
   "source": [
    "def currency_recode (row):\n",
    "    if row['currency'] == 810:\n",
    "        res = row['amount']\n",
    "    elif row['currency'] == 978:\n",
    "        res = row['amount']*75.38\n",
    "    elif row['currency'] == 840:\n",
    "        res = row['amount']*65.45\n",
    "    else:\n",
    "        res = 0\n",
    "    return res"
   ]
  },
  {
   "cell_type": "code",
   "execution_count": 8,
   "metadata": {},
   "outputs": [
    {
     "data": {
      "text/html": [
       "<div>\n",
       "<style scoped>\n",
       "    .dataframe tbody tr th:only-of-type {\n",
       "        vertical-align: middle;\n",
       "    }\n",
       "\n",
       "    .dataframe tbody tr th {\n",
       "        vertical-align: top;\n",
       "    }\n",
       "\n",
       "    .dataframe thead th {\n",
       "        text-align: right;\n",
       "    }\n",
       "</style>\n",
       "<table border=\"1\" class=\"dataframe\">\n",
       "  <thead>\n",
       "    <tr style=\"text-align: right;\">\n",
       "      <th></th>\n",
       "      <th>PERIOD</th>\n",
       "      <th>cl_id</th>\n",
       "      <th>MCC</th>\n",
       "      <th>channel_type</th>\n",
       "      <th>currency</th>\n",
       "      <th>TRDATETIME</th>\n",
       "      <th>amount</th>\n",
       "      <th>trx_category</th>\n",
       "      <th>target_flag</th>\n",
       "    </tr>\n",
       "  </thead>\n",
       "  <tbody>\n",
       "    <tr>\n",
       "      <th>0</th>\n",
       "      <td>01/10/2017</td>\n",
       "      <td>0</td>\n",
       "      <td>5200</td>\n",
       "      <td>NaN</td>\n",
       "      <td>810</td>\n",
       "      <td>21OCT17:00:00:00</td>\n",
       "      <td>5023.0</td>\n",
       "      <td>POS</td>\n",
       "      <td>0</td>\n",
       "    </tr>\n",
       "    <tr>\n",
       "      <th>1</th>\n",
       "      <td>01/10/2017</td>\n",
       "      <td>0</td>\n",
       "      <td>6011</td>\n",
       "      <td>NaN</td>\n",
       "      <td>810</td>\n",
       "      <td>12OCT17:12:24:07</td>\n",
       "      <td>20000.0</td>\n",
       "      <td>DEPOSIT</td>\n",
       "      <td>0</td>\n",
       "    </tr>\n",
       "    <tr>\n",
       "      <th>2</th>\n",
       "      <td>01/12/2017</td>\n",
       "      <td>0</td>\n",
       "      <td>5921</td>\n",
       "      <td>NaN</td>\n",
       "      <td>810</td>\n",
       "      <td>05DEC17:00:00:00</td>\n",
       "      <td>767.0</td>\n",
       "      <td>POS</td>\n",
       "      <td>0</td>\n",
       "    </tr>\n",
       "    <tr>\n",
       "      <th>3</th>\n",
       "      <td>01/10/2017</td>\n",
       "      <td>0</td>\n",
       "      <td>5411</td>\n",
       "      <td>NaN</td>\n",
       "      <td>810</td>\n",
       "      <td>21OCT17:00:00:00</td>\n",
       "      <td>2031.0</td>\n",
       "      <td>POS</td>\n",
       "      <td>0</td>\n",
       "    </tr>\n",
       "    <tr>\n",
       "      <th>4</th>\n",
       "      <td>01/10/2017</td>\n",
       "      <td>0</td>\n",
       "      <td>6012</td>\n",
       "      <td>NaN</td>\n",
       "      <td>810</td>\n",
       "      <td>24OCT17:13:14:24</td>\n",
       "      <td>36562.0</td>\n",
       "      <td>C2C_OUT</td>\n",
       "      <td>0</td>\n",
       "    </tr>\n",
       "  </tbody>\n",
       "</table>\n",
       "</div>"
      ],
      "text/plain": [
       "       PERIOD  cl_id   MCC channel_type  currency        TRDATETIME   amount  \\\n",
       "0  01/10/2017      0  5200          NaN       810  21OCT17:00:00:00   5023.0   \n",
       "1  01/10/2017      0  6011          NaN       810  12OCT17:12:24:07  20000.0   \n",
       "2  01/12/2017      0  5921          NaN       810  05DEC17:00:00:00    767.0   \n",
       "3  01/10/2017      0  5411          NaN       810  21OCT17:00:00:00   2031.0   \n",
       "4  01/10/2017      0  6012          NaN       810  24OCT17:13:14:24  36562.0   \n",
       "\n",
       "  trx_category  target_flag  \n",
       "0          POS            0  \n",
       "1      DEPOSIT            0  \n",
       "2          POS            0  \n",
       "3          POS            0  \n",
       "4      C2C_OUT            0  "
      ]
     },
     "execution_count": 8,
     "metadata": {},
     "output_type": "execute_result"
    }
   ],
   "source": [
    "raw_df = raw_df[raw_df['currency'].isin(currency_list)]\n",
    "raw_df.head()"
   ]
  },
  {
   "cell_type": "code",
   "execution_count": 9,
   "metadata": {},
   "outputs": [],
   "source": [
    "raw_df['amount_corr'] = raw_df.apply(currency_recode, axis=1)"
   ]
  },
  {
   "cell_type": "code",
   "execution_count": 10,
   "metadata": {},
   "outputs": [],
   "source": [
    "cor_cols = [x for x in raw_df.columns if x != 'amount' and x != 'currency']"
   ]
  },
  {
   "cell_type": "code",
   "execution_count": 11,
   "metadata": {},
   "outputs": [],
   "source": [
    "raw_df = raw_df.loc[: , cor_cols]"
   ]
  },
  {
   "cell_type": "code",
   "execution_count": 12,
   "metadata": {},
   "outputs": [],
   "source": [
    "raw_df['amount'] = raw_df['amount_corr'] "
   ]
  },
  {
   "cell_type": "code",
   "execution_count": 13,
   "metadata": {},
   "outputs": [],
   "source": [
    "cor_cols = [x for x in raw_df.columns if x != 'amount_corr']"
   ]
  },
  {
   "cell_type": "code",
   "execution_count": 14,
   "metadata": {},
   "outputs": [],
   "source": [
    "raw_df = raw_df.loc[: , cor_cols]"
   ]
  },
  {
   "cell_type": "code",
   "execution_count": 15,
   "metadata": {},
   "outputs": [],
   "source": [
    "# развернуть платежи по категориям\n",
    "categories = raw_df.trx_category.value_counts().head(7).index.tolist()\n",
    "raw_df = raw_df[raw_df['trx_category'].isin(categories)]"
   ]
  },
  {
   "cell_type": "code",
   "execution_count": 16,
   "metadata": {},
   "outputs": [
    {
     "data": {
      "text/plain": [
       "type1    294174\n",
       "type2    171113\n",
       "type5      5483\n",
       "type4      4393\n",
       "type3      3184\n",
       "na         2876\n",
       "Name: channel_type, dtype: int64"
      ]
     },
     "execution_count": 16,
     "metadata": {},
     "output_type": "execute_result"
    }
   ],
   "source": [
    "raw_df.channel_type.fillna('na').value_counts()"
   ]
  },
  {
   "cell_type": "code",
   "execution_count": 17,
   "metadata": {},
   "outputs": [
    {
     "data": {
      "text/html": [
       "<div>\n",
       "<style scoped>\n",
       "    .dataframe tbody tr th:only-of-type {\n",
       "        vertical-align: middle;\n",
       "    }\n",
       "\n",
       "    .dataframe tbody tr th {\n",
       "        vertical-align: top;\n",
       "    }\n",
       "\n",
       "    .dataframe thead th {\n",
       "        text-align: right;\n",
       "    }\n",
       "</style>\n",
       "<table border=\"1\" class=\"dataframe\">\n",
       "  <thead>\n",
       "    <tr style=\"text-align: right;\">\n",
       "      <th></th>\n",
       "      <th>cl_id</th>\n",
       "      <th>MCC</th>\n",
       "      <th>target_flag</th>\n",
       "      <th>amount</th>\n",
       "    </tr>\n",
       "  </thead>\n",
       "  <tbody>\n",
       "    <tr>\n",
       "      <th>count</th>\n",
       "      <td>481223.000000</td>\n",
       "      <td>481223.000000</td>\n",
       "      <td>481223.000000</td>\n",
       "      <td>4.812230e+05</td>\n",
       "    </tr>\n",
       "    <tr>\n",
       "      <th>mean</th>\n",
       "      <td>4812.465495</td>\n",
       "      <td>5702.090216</td>\n",
       "      <td>0.651311</td>\n",
       "      <td>5.383300e+03</td>\n",
       "    </tr>\n",
       "    <tr>\n",
       "      <th>std</th>\n",
       "      <td>2988.390541</td>\n",
       "      <td>658.603045</td>\n",
       "      <td>0.476556</td>\n",
       "      <td>1.901241e+04</td>\n",
       "    </tr>\n",
       "    <tr>\n",
       "      <th>min</th>\n",
       "      <td>0.000000</td>\n",
       "      <td>742.000000</td>\n",
       "      <td>0.000000</td>\n",
       "      <td>1.300000e-01</td>\n",
       "    </tr>\n",
       "    <tr>\n",
       "      <th>25%</th>\n",
       "      <td>2196.000000</td>\n",
       "      <td>5411.000000</td>\n",
       "      <td>0.000000</td>\n",
       "      <td>2.410000e+02</td>\n",
       "    </tr>\n",
       "    <tr>\n",
       "      <th>50%</th>\n",
       "      <td>4601.000000</td>\n",
       "      <td>5661.000000</td>\n",
       "      <td>1.000000</td>\n",
       "      <td>6.655000e+02</td>\n",
       "    </tr>\n",
       "    <tr>\n",
       "      <th>75%</th>\n",
       "      <td>7400.000000</td>\n",
       "      <td>5941.000000</td>\n",
       "      <td>1.000000</td>\n",
       "      <td>2.300000e+03</td>\n",
       "    </tr>\n",
       "    <tr>\n",
       "      <th>max</th>\n",
       "      <td>10215.000000</td>\n",
       "      <td>9405.000000</td>\n",
       "      <td>1.000000</td>\n",
       "      <td>1.300000e+06</td>\n",
       "    </tr>\n",
       "  </tbody>\n",
       "</table>\n",
       "</div>"
      ],
      "text/plain": [
       "               cl_id            MCC    target_flag        amount\n",
       "count  481223.000000  481223.000000  481223.000000  4.812230e+05\n",
       "mean     4812.465495    5702.090216       0.651311  5.383300e+03\n",
       "std      2988.390541     658.603045       0.476556  1.901241e+04\n",
       "min         0.000000     742.000000       0.000000  1.300000e-01\n",
       "25%      2196.000000    5411.000000       0.000000  2.410000e+02\n",
       "50%      4601.000000    5661.000000       1.000000  6.655000e+02\n",
       "75%      7400.000000    5941.000000       1.000000  2.300000e+03\n",
       "max     10215.000000    9405.000000       1.000000  1.300000e+06"
      ]
     },
     "execution_count": 17,
     "metadata": {},
     "output_type": "execute_result"
    }
   ],
   "source": [
    "raw_df.describe()"
   ]
  },
  {
   "cell_type": "code",
   "execution_count": 18,
   "metadata": {},
   "outputs": [
    {
     "name": "stdout",
     "output_type": "stream",
     "text": [
      "Total clients:  4999\n"
     ]
    }
   ],
   "source": [
    "print(\"Total clients: \", len(raw_df.cl_id.unique()))"
   ]
  },
  {
   "cell_type": "markdown",
   "metadata": {},
   "source": [
    "Всего 5000 клиентов, случайным образом возьмем 1000 клиентов для тестирования"
   ]
  },
  {
   "cell_type": "code",
   "execution_count": 19,
   "metadata": {},
   "outputs": [],
   "source": [
    "\"\"\"\n",
    "Варианты фич\n",
    "1. Считать средние, медианы \n",
    "2. по MCC\n",
    "3. средние траты в среднем, смотреть по дню, времени суток\n",
    "4. динамика трат от недели в недели\n",
    "5. валюта группировка\n",
    "\n",
    "\"\"\"\n",
    "\n",
    "raw_df_grouped_channel = raw_df[\n",
    "    ['cl_id', 'amount', 'channel_type']\n",
    "].groupby(['cl_id', 'channel_type']).agg(['sum', 'count'])\n",
    "\n",
    "# aggregated_dataset = raw_df_grouped.unstack().fillna(0)\n",
    "aggregated_dataset = raw_df_grouped_channel.unstack().fillna(0).reset_index()"
   ]
  },
  {
   "cell_type": "code",
   "execution_count": 20,
   "metadata": {},
   "outputs": [],
   "source": [
    "# Строим функции для построения фич по дням недели и по часам дня\n",
    "\n",
    "def transaction_by_day_count(dataset):\n",
    "    dataset['day_of_transaction'] = dataset['TRDATETIME'].apply( lambda x: (datetime.datetime.strptime(x, '%d%b%y:%H:%M:%S')).strftime('%w') ) \n",
    "    tmp_df = dataset.groupby(['cl_id','day_of_transaction'])['day_of_transaction'].size().unstack().fillna(0).reset_index()\n",
    "    old_columns = [old_col for old_col in tmp_df.columns.tolist() if old_col in dataset['day_of_transaction'].unique()]\n",
    "    tmp_df.rename(columns={old_col: 'day_' + old_col for old_col in old_columns}, inplace=True)\n",
    "    return tmp_df\n",
    "    \n",
    "    \n",
    "\n",
    "def transaction_by_hour_count(dataset):\n",
    "    dataset['hour_of_transaction'] = dataset['TRDATETIME'].apply( lambda x: (datetime.datetime.strptime(x, '%d%b%y:%H:%M:%S')).strftime('%H') ) \n",
    "    tmp_df = dataset.groupby(['cl_id','hour_of_transaction'])['hour_of_transaction'].size().unstack().fillna(0).reset_index()\n",
    "    old_columns = [old_col for old_col in tmp_df.columns.tolist() if old_col in dataset['hour_of_transaction'].unique()]\n",
    "    tmp_df.rename(columns={old_col: 'count_hour_' + old_col for old_col in old_columns}, inplace=True)\n",
    "    return tmp_df\n",
    "    \n",
    "def transaction_by_day_sum(dataset):\n",
    "    dataset['day_of_transaction'] = dataset['TRDATETIME'].apply( lambda x: (datetime.datetime.strptime(x, '%d%b%y:%H:%M:%S')).strftime('%w') ) \n",
    "    tmp_df = dataset.groupby(['cl_id','day_of_transaction'])['amount'].sum().unstack().fillna(0).reset_index()\n",
    "    old_columns = [old_col for old_col in tmp_df.columns.tolist() if old_col in dataset['day_of_transaction'].unique()]\n",
    "    tmp_df.rename(columns={old_col: 'sum_day_' + old_col for old_col in old_columns}, inplace=True)\n",
    "    return tmp_df\n",
    "\n",
    "def transaction_by_hour_sum(dataset):\n",
    "    dataset['hour_of_transaction'] = dataset['TRDATETIME'].apply( lambda x: (datetime.datetime.strptime(x, '%d%b%y:%H:%M:%S')).strftime('%H') ) \n",
    "    tmp_df = dataset.groupby(['cl_id','hour_of_transaction'])['amount'].sum().unstack().fillna(0).reset_index()\n",
    "    old_columns = [old_col for old_col in tmp_df.columns.tolist() if old_col in dataset['hour_of_transaction'].unique()]\n",
    "    tmp_df.rename(columns={old_col: 'amount_hour_' + old_col for old_col in old_columns}, inplace=True)\n",
    "    return tmp_df"
   ]
  },
  {
   "cell_type": "code",
   "execution_count": 21,
   "metadata": {},
   "outputs": [
    {
     "data": {
      "text/plain": [
       "array([[<matplotlib.axes._subplots.AxesSubplot object at 0x7f9541551898>,\n",
       "        <matplotlib.axes._subplots.AxesSubplot object at 0x7f954209d630>,\n",
       "        <matplotlib.axes._subplots.AxesSubplot object at 0x7f9542049cc0>],\n",
       "       [<matplotlib.axes._subplots.AxesSubplot object at 0x7f954207b390>,\n",
       "        <matplotlib.axes._subplots.AxesSubplot object at 0x7f9542021a20>,\n",
       "        <matplotlib.axes._subplots.AxesSubplot object at 0x7f9542021a58>],\n",
       "       [<matplotlib.axes._subplots.AxesSubplot object at 0x7f9541ffb780>,\n",
       "        <matplotlib.axes._subplots.AxesSubplot object at 0x7f9541fa3e10>,\n",
       "        <matplotlib.axes._subplots.AxesSubplot object at 0x7f9541f544e0>]],\n",
       "      dtype=object)"
      ]
     },
     "execution_count": 21,
     "metadata": {},
     "output_type": "execute_result"
    },
    {
     "data": {
      "image/png": "[encoded data removed]",
      "text/plain": [
       "<Figure size 1440x1080 with 9 Axes>"
      ]
     },
     "metadata": {},
     "output_type": "display_data"
    }
   ],
   "source": [
    "by_day_gr_count = transaction_by_day_count(raw_df)\n",
    "by_day_gr_count.hist(bins=50, figsize=(20,15))"
   ]
  },
  {
   "cell_type": "code",
   "execution_count": 22,
   "metadata": {},
   "outputs": [],
   "source": [
    "by_hour_gr_count = transaction_by_hour_count(raw_df)"
   ]
  },
  {
   "cell_type": "code",
   "execution_count": 23,
   "metadata": {},
   "outputs": [],
   "source": [
    "by_hour_gr_sum = transaction_by_hour_sum(raw_df)"
   ]
  },
  {
   "cell_type": "code",
   "execution_count": 24,
   "metadata": {},
   "outputs": [],
   "source": [
    "by_day_gr_sum = transaction_by_day_sum(raw_df)"
   ]
  },
  {
   "cell_type": "code",
   "execution_count": 25,
   "metadata": {},
   "outputs": [],
   "source": [
    "days = [x for x in by_day_gr_count.columns.tolist() if x not in ['cl_id']]\n",
    "days_data = by_day_gr_count.loc[:, days].sum().reset_index()"
   ]
  },
  {
   "cell_type": "code",
   "execution_count": 26,
   "metadata": {},
   "outputs": [
    {
     "data": {
      "text/plain": [
       "<matplotlib.axes._subplots.AxesSubplot at 0x7f95419acc88>"
      ]
     },
     "execution_count": 26,
     "metadata": {},
     "output_type": "execute_result"
    },
    {
     "data": {
      "image/png": "[encoded data removed]",
      "text/plain": [
       "<Figure size 576x360 with 1 Axes>"
      ]
     },
     "metadata": {},
     "output_type": "display_data"
    }
   ],
   "source": [
    "%config InlineBackend.figure_format = 'png'\n",
    "f, ax = plt.subplots(figsize=(8, 5))\n",
    "sns.set_color_codes(\"pastel\")\n",
    "sns.barplot(x=\"day_of_transaction\", y=0, data=days_data,\n",
    "            label=\"day_of_transaction\", color=\"b\")"
   ]
  },
  {
   "cell_type": "code",
   "execution_count": 27,
   "metadata": {},
   "outputs": [],
   "source": [
    "days = [x for x in by_day_gr_sum.columns.tolist() if x not in ['cl_id']]\n",
    "days_data = by_day_gr_sum.loc[:, days].sum().reset_index()"
   ]
  },
  {
   "cell_type": "code",
   "execution_count": 28,
   "metadata": {},
   "outputs": [
    {
     "data": {
      "text/plain": [
       "<matplotlib.axes._subplots.AxesSubplot at 0x7f95394304a8>"
      ]
     },
     "execution_count": 28,
     "metadata": {},
     "output_type": "execute_result"
    },
    {
     "data": {
      "image/png": "[encoded data removed]",
      "text/plain": [
       "<Figure size 576x360 with 1 Axes>"
      ]
     },
     "metadata": {},
     "output_type": "display_data"
    }
   ],
   "source": [
    "f, ax = plt.subplots(figsize=(8, 5))\n",
    "sns.set_color_codes(\"pastel\")\n",
    "sns.barplot(x=\"day_of_transaction\", y=0, data=days_data,\n",
    "            label=\"day_of_transaction\", color=\"b\")"
   ]
  },
  {
   "cell_type": "code",
   "execution_count": 29,
   "metadata": {},
   "outputs": [],
   "source": [
    "hours = [x for x in by_hour_gr_count.columns.tolist() if x not in ['cl_id']]\n",
    "hours_data = by_hour_gr_count.loc[:, hours].sum().reset_index()"
   ]
  },
  {
   "cell_type": "code",
   "execution_count": 30,
   "metadata": {},
   "outputs": [
    {
     "data": {
      "text/plain": [
       "<matplotlib.axes._subplots.AxesSubplot at 0x7f95419652b0>"
      ]
     },
     "execution_count": 30,
     "metadata": {},
     "output_type": "execute_result"
    },
    {
     "data": {
      "image/png": "[encoded data removed]",
      "text/plain": [
       "<Figure size 1080x360 with 1 Axes>"
      ]
     },
     "metadata": {},
     "output_type": "display_data"
    }
   ],
   "source": [
    "f, ax = plt.subplots(figsize=(15, 5))\n",
    "sns.barplot(x=\"hour_of_transaction\", y=0, data=hours_data,\n",
    "            label=\"hour_of_transaction\", color=\"b\")"
   ]
  },
  {
   "cell_type": "code",
   "execution_count": 31,
   "metadata": {},
   "outputs": [],
   "source": [
    "hours = [x for x in by_hour_gr_sum.columns.tolist() if x not in ['cl_id']]\n",
    "hours_data = by_hour_gr_sum.loc[:, hours].sum().reset_index()"
   ]
  },
  {
   "cell_type": "code",
   "execution_count": 32,
   "metadata": {},
   "outputs": [
    {
     "data": {
      "text/plain": [
       "<matplotlib.axes._subplots.AxesSubplot at 0x7f95418607b8>"
      ]
     },
     "execution_count": 32,
     "metadata": {},
     "output_type": "execute_result"
    },
    {
     "data": {
      "image/png": "[encoded data removed]",
      "text/plain": [
       "<Figure size 1080x360 with 1 Axes>"
      ]
     },
     "metadata": {},
     "output_type": "display_data"
    }
   ],
   "source": [
    "f, ax = plt.subplots(figsize=(15, 5))\n",
    "sns.barplot(x=\"hour_of_transaction\", y=0, data=hours_data,\n",
    "            label=\"hour_of_transaction\", color=\"b\")"
   ]
  },
  {
   "cell_type": "code",
   "execution_count": 33,
   "metadata": {},
   "outputs": [],
   "source": [
    "import sqlite3"
   ]
  },
  {
   "cell_type": "code",
   "execution_count": 34,
   "metadata": {},
   "outputs": [],
   "source": [
    "conn = sqlite3.connect('transactions.db')"
   ]
  },
  {
   "cell_type": "code",
   "execution_count": 35,
   "metadata": {},
   "outputs": [],
   "source": [
    "raw_df.to_sql('test_trans', if_exists = 'replace', con = conn)"
   ]
  },
  {
   "cell_type": "code",
   "execution_count": 36,
   "metadata": {},
   "outputs": [],
   "source": [
    "check = pd.io.sql.read_sql(\"\"\"\n",
    "select * from test_trans limit 100\n",
    "\"\"\", conn\n",
    ")"
   ]
  },
  {
   "cell_type": "code",
   "execution_count": 37,
   "metadata": {},
   "outputs": [
    {
     "data": {
      "text/plain": [
       "5411    120733\n",
       "6011     53879\n",
       "5814     41126\n",
       "5812     29162\n",
       "5499     26946\n",
       "Name: MCC, dtype: int64"
      ]
     },
     "execution_count": 37,
     "metadata": {},
     "output_type": "execute_result"
    }
   ],
   "source": [
    "raw_df.MCC.value_counts().head()"
   ]
  },
  {
   "cell_type": "code",
   "execution_count": 38,
   "metadata": {},
   "outputs": [
    {
     "name": "stdout",
     "output_type": "stream",
     "text": [
      "sum (case when MCC = 5411 then amount else 0 end) as MCC_5411,\n",
      "sum (case when MCC = 6011 then amount else 0 end) as MCC_6011,\n",
      "sum (case when MCC = 5814 then amount else 0 end) as MCC_5814,\n",
      "sum (case when MCC = 5812 then amount else 0 end) as MCC_5812,\n",
      "sum (case when MCC = 5499 then amount else 0 end) as MCC_5499,\n",
      "sum (case when MCC = 5541 then amount else 0 end) as MCC_5541,\n",
      "sum (case when MCC = 5912 then amount else 0 end) as MCC_5912,\n",
      "sum (case when MCC = 5999 then amount else 0 end) as MCC_5999,\n",
      "sum (case when MCC = 6012 then amount else 0 end) as MCC_6012,\n",
      "sum (case when MCC = 5921 then amount else 0 end) as MCC_5921,\n",
      "sum (case when MCC = 5331 then amount else 0 end) as MCC_5331,\n",
      "sum (case when MCC = 4829 then amount else 0 end) as MCC_4829,\n",
      "sum (case when MCC = 5211 then amount else 0 end) as MCC_5211,\n",
      "sum (case when MCC = 4121 then amount else 0 end) as MCC_4121,\n",
      "sum (case when MCC = 5691 then amount else 0 end) as MCC_5691,\n",
      "sum (case when MCC = 5261 then amount else 0 end) as MCC_5261,\n",
      "sum (case when MCC = 4111 then amount else 0 end) as MCC_4111,\n",
      "sum (case when MCC = 5977 then amount else 0 end) as MCC_5977,\n",
      "sum (case when MCC = 5200 then amount else 0 end) as MCC_5200,\n",
      "sum (case when MCC = 5732 then amount else 0 end) as MCC_5732,\n"
     ]
    }
   ],
   "source": [
    "MCC_list = raw_df.MCC.value_counts().head(20).index.tolist()\n",
    "for MCC_code in MCC_list: \n",
    "    print (\n",
    "        'sum (case when MCC = {0} then amount else 0 end) as MCC_{1},'.format(MCC_code, MCC_code)\n",
    "    )"
   ]
  },
  {
   "cell_type": "code",
   "execution_count": 39,
   "metadata": {},
   "outputs": [
    {
     "name": "stdout",
     "output_type": "stream",
     "text": [
      "avg (case when MCC = 5411 then amount else 0 end) as MCC_5411_avg,\n",
      "avg (case when MCC = 6011 then amount else 0 end) as MCC_6011_avg,\n",
      "avg (case when MCC = 5814 then amount else 0 end) as MCC_5814_avg,\n",
      "avg (case when MCC = 5812 then amount else 0 end) as MCC_5812_avg,\n",
      "avg (case when MCC = 5499 then amount else 0 end) as MCC_5499_avg,\n",
      "avg (case when MCC = 5541 then amount else 0 end) as MCC_5541_avg,\n",
      "avg (case when MCC = 5912 then amount else 0 end) as MCC_5912_avg,\n",
      "avg (case when MCC = 5999 then amount else 0 end) as MCC_5999_avg,\n",
      "avg (case when MCC = 6012 then amount else 0 end) as MCC_6012_avg,\n",
      "avg (case when MCC = 5921 then amount else 0 end) as MCC_5921_avg,\n",
      "avg (case when MCC = 5331 then amount else 0 end) as MCC_5331_avg,\n",
      "avg (case when MCC = 4829 then amount else 0 end) as MCC_4829_avg,\n",
      "avg (case when MCC = 5211 then amount else 0 end) as MCC_5211_avg,\n",
      "avg (case when MCC = 4121 then amount else 0 end) as MCC_4121_avg,\n",
      "avg (case when MCC = 5691 then amount else 0 end) as MCC_5691_avg,\n",
      "avg (case when MCC = 5261 then amount else 0 end) as MCC_5261_avg,\n",
      "avg (case when MCC = 4111 then amount else 0 end) as MCC_4111_avg,\n",
      "avg (case when MCC = 5977 then amount else 0 end) as MCC_5977_avg,\n",
      "avg (case when MCC = 5200 then amount else 0 end) as MCC_5200_avg,\n",
      "avg (case when MCC = 5732 then amount else 0 end) as MCC_5732_avg,\n"
     ]
    }
   ],
   "source": [
    "MCC_list = raw_df.MCC.value_counts().head(20).index.tolist()\n",
    "for MCC_code in MCC_list: \n",
    "    print (\n",
    "        'avg (case when MCC = {0} then amount else 0 end) as MCC_{1}_avg,'.format(MCC_code, MCC_code)\n",
    "    )"
   ]
  },
  {
   "cell_type": "code",
   "execution_count": 40,
   "metadata": {},
   "outputs": [
    {
     "name": "stdout",
     "output_type": "stream",
     "text": [
      "sum (case when trx_category = 'POS' then amount else 0 end) as category_POS,\n",
      "sum (case when trx_category = 'DEPOSIT' then amount else 0 end) as category_DEPOSIT,\n",
      "sum (case when trx_category = 'WD_ATM_ROS' then amount else 0 end) as category_WD_ATM_ROS,\n",
      "sum (case when trx_category = 'WD_ATM_PARTNER' then amount else 0 end) as category_WD_ATM_PARTNER,\n",
      "sum (case when trx_category = 'C2C_IN' then amount else 0 end) as category_C2C_IN,\n",
      "sum (case when trx_category = 'WD_ATM_OTHER' then amount else 0 end) as category_WD_ATM_OTHER,\n",
      "sum (case when trx_category = 'C2C_OUT' then amount else 0 end) as category_C2C_OUT,\n",
      "avg (case when trx_category = 'POS' then amount else 0 end) as category_POS_avg,\n",
      "avg (case when trx_category = 'DEPOSIT' then amount else 0 end) as category_DEPOSIT_avg,\n",
      "avg (case when trx_category = 'WD_ATM_ROS' then amount else 0 end) as category_WD_ATM_ROS_avg,\n",
      "avg (case when trx_category = 'WD_ATM_PARTNER' then amount else 0 end) as category_WD_ATM_PARTNER_avg,\n",
      "avg (case when trx_category = 'C2C_IN' then amount else 0 end) as category_C2C_IN_avg,\n",
      "avg (case when trx_category = 'WD_ATM_OTHER' then amount else 0 end) as category_WD_ATM_OTHER_avg,\n",
      "avg (case when trx_category = 'C2C_OUT' then amount else 0 end) as category_C2C_OUT_avg,\n"
     ]
    }
   ],
   "source": [
    "categories_list = raw_df.trx_category.value_counts().head(7).index.tolist()\n",
    "for category in categories_list: \n",
    "    print (\n",
    "        'sum (case when trx_category = \\'{0}\\' then amount else 0 end) as category_{1},'.format(category, category)\n",
    "    )\n",
    "for category in categories_list: \n",
    "    print (\n",
    "        'avg (case when trx_category = \\'{0}\\' then amount else 0 end) as category_{1}_avg,'.format(category, category)\n",
    "    )"
   ]
  },
  {
   "cell_type": "code",
   "execution_count": 41,
   "metadata": {},
   "outputs": [],
   "source": [
    "datamart_MCC_category =pd.io.sql.read_sql(\"\"\"\n",
    "select \n",
    "    cl_id,\n",
    "    target_flag,\n",
    "    channel_type,\n",
    "    sum (case when MCC = 5411 then amount else 0 end) as MCC_5411,\n",
    "    sum (case when MCC = 6011 then amount else 0 end) as MCC_6011,\n",
    "    sum (case when MCC = 5814 then amount else 0 end) as MCC_5814,\n",
    "    sum (case when MCC = 5812 then amount else 0 end) as MCC_5812,\n",
    "    sum (case when MCC = 5499 then amount else 0 end) as MCC_5499,\n",
    "    sum (case when MCC = 5541 then amount else 0 end) as MCC_5541,\n",
    "    sum (case when MCC = 5912 then amount else 0 end) as MCC_5912,\n",
    "    sum (case when MCC = 5999 then amount else 0 end) as MCC_5999,\n",
    "    sum (case when MCC = 6012 then amount else 0 end) as MCC_6012,\n",
    "    sum (case when MCC = 5921 then amount else 0 end) as MCC_5921,\n",
    "    sum (case when MCC = 5331 then amount else 0 end) as MCC_5331,\n",
    "    sum (case when MCC = 4121 then amount else 0 end) as MCC_4121,\n",
    "    sum (case when MCC = 5211 then amount else 0 end) as MCC_5211,\n",
    "    sum (case when MCC = 4829 then amount else 0 end) as MCC_4829,\n",
    "    sum (case when MCC = 5691 then amount else 0 end) as MCC_5691,\n",
    "    sum (case when MCC = 5261 then amount else 0 end) as MCC_5261,\n",
    "    sum (case when MCC = 4111 then amount else 0 end) as MCC_4111,\n",
    "    sum (case when MCC = 5977 then amount else 0 end) as MCC_5977,\n",
    "    sum (case when MCC = 5200 then amount else 0 end) as MCC_5200,\n",
    "    sum (case when MCC = 5732 then amount else 0 end) as MCC_5732,\n",
    "/*------ avg ------- */\n",
    "    avg (case when MCC = 5411 then amount else 0 end) as MCC_5411_avg,\n",
    "    avg (case when MCC = 6011 then amount else 0 end) as MCC_6011_avg,\n",
    "    avg (case when MCC = 5814 then amount else 0 end) as MCC_5814_avg,\n",
    "    avg (case when MCC = 5812 then amount else 0 end) as MCC_5812_avg,\n",
    "    avg (case when MCC = 5499 then amount else 0 end) as MCC_5499_avg,\n",
    "    avg (case when MCC = 5541 then amount else 0 end) as MCC_5541_avg,\n",
    "    avg (case when MCC = 5912 then amount else 0 end) as MCC_5912_avg,\n",
    "    avg (case when MCC = 5999 then amount else 0 end) as MCC_5999_avg,\n",
    "    avg (case when MCC = 6012 then amount else 0 end) as MCC_6012_avg,\n",
    "    avg (case when MCC = 5921 then amount else 0 end) as MCC_5921_avg,\n",
    "    avg (case when MCC = 5331 then amount else 0 end) as MCC_5331_avg,\n",
    "    avg (case when MCC = 4121 then amount else 0 end) as MCC_4121_avg,\n",
    "    avg (case when MCC = 5211 then amount else 0 end) as MCC_5211_avg,\n",
    "    avg (case when MCC = 4829 then amount else 0 end) as MCC_4829_avg,\n",
    "    avg (case when MCC = 5691 then amount else 0 end) as MCC_5691_avg,\n",
    "    avg (case when MCC = 5261 then amount else 0 end) as MCC_5261_avg,\n",
    "    avg (case when MCC = 4111 then amount else 0 end) as MCC_4111_avg,\n",
    "    avg (case when MCC = 5977 then amount else 0 end) as MCC_5977_avg,\n",
    "    avg (case when MCC = 5200 then amount else 0 end) as MCC_5200_avg,\n",
    "    avg (case when MCC = 5732 then amount else 0 end) as MCC_5732_avg,\n",
    "    sum (case when trx_category = 'POS' then amount else 0 end) as category_POS,\n",
    "    sum (case when trx_category = 'DEPOSIT' then amount else 0 end) as category_DEPOSIT,\n",
    "    sum (case when trx_category = 'WD_ATM_ROS' then amount else 0 end) as category_WD_ATM_ROS,\n",
    "    sum (case when trx_category = 'WD_ATM_PARTNER' then amount else 0 end) as category_WD_ATM_PARTNER,\n",
    "    sum (case when trx_category = 'C2C_IN' then amount else 0 end) as category_C2C_IN,\n",
    "    sum (case when trx_category = 'WD_ATM_OTHER' then amount else 0 end) as category_WD_ATM_OTHER,\n",
    "    sum (case when trx_category = 'C2C_OUT' then amount else 0 end) as category_C2C_OUT,\n",
    "    avg (case when trx_category = 'POS' then amount else 0 end) as category_POS_avg,\n",
    "    avg (case when trx_category = 'DEPOSIT' then amount else 0 end) as category_DEPOSIT_avg,\n",
    "    avg (case when trx_category = 'WD_ATM_ROS' then amount else 0 end) as category_WD_ATM_ROS_avg,\n",
    "    avg (case when trx_category = 'WD_ATM_PARTNER' then amount else 0 end) as category_WD_ATM_PARTNER_avg,\n",
    "    avg (case when trx_category = 'C2C_IN' then amount else 0 end) as category_C2C_IN_avg,\n",
    "    avg (case when trx_category = 'WD_ATM_OTHER' then amount else 0 end) as category_WD_ATM_OTHER_avg,\n",
    "    avg (case when trx_category = 'C2C_OUT' then amount else 0 end) as category_C2C_OUT_avg\n",
    "from test_trans \n",
    "group by 1, 2, 3\n",
    "order by 1\n",
    "\"\"\", conn\n",
    ")"
   ]
  },
  {
   "cell_type": "code",
   "execution_count": 42,
   "metadata": {},
   "outputs": [
    {
     "data": {
      "text/html": [
       "<div>\n",
       "<style scoped>\n",
       "    .dataframe tbody tr th:only-of-type {\n",
       "        vertical-align: middle;\n",
       "    }\n",
       "\n",
       "    .dataframe tbody tr th {\n",
       "        vertical-align: top;\n",
       "    }\n",
       "\n",
       "    .dataframe thead th {\n",
       "        text-align: right;\n",
       "    }\n",
       "</style>\n",
       "<table border=\"1\" class=\"dataframe\">\n",
       "  <thead>\n",
       "    <tr style=\"text-align: right;\">\n",
       "      <th>hour_of_transaction</th>\n",
       "      <th>cl_id</th>\n",
       "      <th>count_hour_00</th>\n",
       "      <th>count_hour_01</th>\n",
       "      <th>count_hour_02</th>\n",
       "      <th>count_hour_03</th>\n",
       "      <th>count_hour_04</th>\n",
       "      <th>count_hour_05</th>\n",
       "      <th>count_hour_06</th>\n",
       "      <th>count_hour_07</th>\n",
       "      <th>count_hour_08</th>\n",
       "      <th>...</th>\n",
       "      <th>count_hour_14</th>\n",
       "      <th>count_hour_15</th>\n",
       "      <th>count_hour_16</th>\n",
       "      <th>count_hour_17</th>\n",
       "      <th>count_hour_18</th>\n",
       "      <th>count_hour_19</th>\n",
       "      <th>count_hour_20</th>\n",
       "      <th>count_hour_21</th>\n",
       "      <th>count_hour_22</th>\n",
       "      <th>count_hour_23</th>\n",
       "    </tr>\n",
       "  </thead>\n",
       "  <tbody>\n",
       "    <tr>\n",
       "      <th>0</th>\n",
       "      <td>0</td>\n",
       "      <td>3.0</td>\n",
       "      <td>0.0</td>\n",
       "      <td>0.0</td>\n",
       "      <td>0.0</td>\n",
       "      <td>0.0</td>\n",
       "      <td>0.0</td>\n",
       "      <td>0.0</td>\n",
       "      <td>0.0</td>\n",
       "      <td>0.0</td>\n",
       "      <td>...</td>\n",
       "      <td>0.0</td>\n",
       "      <td>0.0</td>\n",
       "      <td>0.0</td>\n",
       "      <td>0.0</td>\n",
       "      <td>0.0</td>\n",
       "      <td>0.0</td>\n",
       "      <td>0.0</td>\n",
       "      <td>0.0</td>\n",
       "      <td>0.0</td>\n",
       "      <td>0.0</td>\n",
       "    </tr>\n",
       "    <tr>\n",
       "      <th>1</th>\n",
       "      <td>1</td>\n",
       "      <td>101.0</td>\n",
       "      <td>0.0</td>\n",
       "      <td>0.0</td>\n",
       "      <td>0.0</td>\n",
       "      <td>0.0</td>\n",
       "      <td>0.0</td>\n",
       "      <td>0.0</td>\n",
       "      <td>0.0</td>\n",
       "      <td>0.0</td>\n",
       "      <td>...</td>\n",
       "      <td>0.0</td>\n",
       "      <td>0.0</td>\n",
       "      <td>0.0</td>\n",
       "      <td>0.0</td>\n",
       "      <td>0.0</td>\n",
       "      <td>2.0</td>\n",
       "      <td>1.0</td>\n",
       "      <td>0.0</td>\n",
       "      <td>0.0</td>\n",
       "      <td>0.0</td>\n",
       "    </tr>\n",
       "    <tr>\n",
       "      <th>2</th>\n",
       "      <td>5</td>\n",
       "      <td>119.0</td>\n",
       "      <td>0.0</td>\n",
       "      <td>0.0</td>\n",
       "      <td>0.0</td>\n",
       "      <td>0.0</td>\n",
       "      <td>0.0</td>\n",
       "      <td>0.0</td>\n",
       "      <td>0.0</td>\n",
       "      <td>0.0</td>\n",
       "      <td>...</td>\n",
       "      <td>1.0</td>\n",
       "      <td>1.0</td>\n",
       "      <td>1.0</td>\n",
       "      <td>4.0</td>\n",
       "      <td>5.0</td>\n",
       "      <td>2.0</td>\n",
       "      <td>0.0</td>\n",
       "      <td>0.0</td>\n",
       "      <td>0.0</td>\n",
       "      <td>0.0</td>\n",
       "    </tr>\n",
       "    <tr>\n",
       "      <th>3</th>\n",
       "      <td>9</td>\n",
       "      <td>7.0</td>\n",
       "      <td>1.0</td>\n",
       "      <td>6.0</td>\n",
       "      <td>1.0</td>\n",
       "      <td>0.0</td>\n",
       "      <td>0.0</td>\n",
       "      <td>0.0</td>\n",
       "      <td>0.0</td>\n",
       "      <td>0.0</td>\n",
       "      <td>...</td>\n",
       "      <td>0.0</td>\n",
       "      <td>3.0</td>\n",
       "      <td>2.0</td>\n",
       "      <td>1.0</td>\n",
       "      <td>2.0</td>\n",
       "      <td>0.0</td>\n",
       "      <td>1.0</td>\n",
       "      <td>1.0</td>\n",
       "      <td>0.0</td>\n",
       "      <td>3.0</td>\n",
       "    </tr>\n",
       "    <tr>\n",
       "      <th>4</th>\n",
       "      <td>10</td>\n",
       "      <td>299.0</td>\n",
       "      <td>3.0</td>\n",
       "      <td>6.0</td>\n",
       "      <td>8.0</td>\n",
       "      <td>14.0</td>\n",
       "      <td>9.0</td>\n",
       "      <td>18.0</td>\n",
       "      <td>17.0</td>\n",
       "      <td>12.0</td>\n",
       "      <td>...</td>\n",
       "      <td>6.0</td>\n",
       "      <td>3.0</td>\n",
       "      <td>3.0</td>\n",
       "      <td>4.0</td>\n",
       "      <td>0.0</td>\n",
       "      <td>0.0</td>\n",
       "      <td>1.0</td>\n",
       "      <td>0.0</td>\n",
       "      <td>0.0</td>\n",
       "      <td>0.0</td>\n",
       "    </tr>\n",
       "  </tbody>\n",
       "</table>\n",
       "<p>5 rows × 25 columns</p>\n",
       "</div>"
      ],
      "text/plain": [
       "hour_of_transaction  cl_id  count_hour_00  count_hour_01  count_hour_02  \\\n",
       "0                        0            3.0            0.0            0.0   \n",
       "1                        1          101.0            0.0            0.0   \n",
       "2                        5          119.0            0.0            0.0   \n",
       "3                        9            7.0            1.0            6.0   \n",
       "4                       10          299.0            3.0            6.0   \n",
       "\n",
       "hour_of_transaction  count_hour_03  count_hour_04  count_hour_05  \\\n",
       "0                              0.0            0.0            0.0   \n",
       "1                              0.0            0.0            0.0   \n",
       "2                              0.0            0.0            0.0   \n",
       "3                              1.0            0.0            0.0   \n",
       "4                              8.0           14.0            9.0   \n",
       "\n",
       "hour_of_transaction  count_hour_06  count_hour_07  count_hour_08  \\\n",
       "0                              0.0            0.0            0.0   \n",
       "1                              0.0            0.0            0.0   \n",
       "2                              0.0            0.0            0.0   \n",
       "3                              0.0            0.0            0.0   \n",
       "4                             18.0           17.0           12.0   \n",
       "\n",
       "hour_of_transaction      ...        count_hour_14  count_hour_15  \\\n",
       "0                        ...                  0.0            0.0   \n",
       "1                        ...                  0.0            0.0   \n",
       "2                        ...                  1.0            1.0   \n",
       "3                        ...                  0.0            3.0   \n",
       "4                        ...                  6.0            3.0   \n",
       "\n",
       "hour_of_transaction  count_hour_16  count_hour_17  count_hour_18  \\\n",
       "0                              0.0            0.0            0.0   \n",
       "1                              0.0            0.0            0.0   \n",
       "2                              1.0            4.0            5.0   \n",
       "3                              2.0            1.0            2.0   \n",
       "4                              3.0            4.0            0.0   \n",
       "\n",
       "hour_of_transaction  count_hour_19  count_hour_20  count_hour_21  \\\n",
       "0                              0.0            0.0            0.0   \n",
       "1                              2.0            1.0            0.0   \n",
       "2                              2.0            0.0            0.0   \n",
       "3                              0.0            1.0            1.0   \n",
       "4                              0.0            1.0            0.0   \n",
       "\n",
       "hour_of_transaction  count_hour_22  count_hour_23  \n",
       "0                              0.0            0.0  \n",
       "1                              0.0            0.0  \n",
       "2                              0.0            0.0  \n",
       "3                              0.0            3.0  \n",
       "4                              0.0            0.0  \n",
       "\n",
       "[5 rows x 25 columns]"
      ]
     },
     "execution_count": 42,
     "metadata": {},
     "output_type": "execute_result"
    }
   ],
   "source": [
    "by_hour_gr_count.head()"
   ]
  },
  {
   "cell_type": "code",
   "execution_count": 43,
   "metadata": {},
   "outputs": [],
   "source": [
    "def group_midnight_count(row):\n",
    "        return row.count_hour_00\n",
    "def group_night_count(row):\n",
    "        return row.count_hour_01+row.count_hour_02+row.count_hour_03+row.count_hour_04+row.count_hour_05+row.count_hour_06+row.count_hour_07\n",
    "def group_morning_count(row):\n",
    "        return row.count_hour_08+row.count_hour_09+row.count_hour_10+row.count_hour_11\n",
    "def group_day_count(row):\n",
    "        return row.count_hour_12+row.count_hour_13+row.count_hour_14+row.count_hour_13+row.count_hour_14+row.count_hour_15+row.count_hour_16+row.count_hour_17\n",
    "def group_evening_count(row):\n",
    "        return row.count_hour_18+row.count_hour_19+row.count_hour_20+row.count_hour_21+row.count_hour_22+row.count_hour_23"
   ]
  },
  {
   "cell_type": "code",
   "execution_count": 44,
   "metadata": {},
   "outputs": [],
   "source": [
    "def group_midnight_amount(row):\n",
    "        return row.amount_hour_00\n",
    "def group_night_amount(row):\n",
    "        return row.amount_hour_01+row.amount_hour_02+row.amount_hour_03+row.amount_hour_04+row.amount_hour_05+row.amount_hour_06+row.amount_hour_07\n",
    "def group_morning_amount(row):\n",
    "        return row.amount_hour_08+row.amount_hour_09+row.amount_hour_10+row.amount_hour_11\n",
    "def group_day_amount(row):\n",
    "        return row.amount_hour_12+row.amount_hour_13+row.amount_hour_14+row.amount_hour_13+row.amount_hour_14+row.amount_hour_15+row.amount_hour_16+row.amount_hour_17\n",
    "def group_evening_amount(row):\n",
    "        return row.amount_hour_18+row.amount_hour_19+row.amount_hour_20+row.amount_hour_21+row.amount_hour_22+row.amount_hour_23"
   ]
  },
  {
   "cell_type": "code",
   "execution_count": 45,
   "metadata": {},
   "outputs": [],
   "source": [
    "by_hour_gr_count['midnight_count'] = by_hour_gr_count.apply(group_midnight_count, axis = 1)\n",
    "by_hour_gr_count['night_count'] = by_hour_gr_count.apply(group_night_count, axis = 1)\n",
    "by_hour_gr_count['morning_count'] = by_hour_gr_count.apply(group_morning_count, axis = 1)\n",
    "by_hour_gr_count['day_count'] = by_hour_gr_count.apply(group_day_count, axis = 1)\n",
    "by_hour_gr_count['evening_count'] = by_hour_gr_count.apply(group_evening_count, axis = 1)"
   ]
  },
  {
   "cell_type": "code",
   "execution_count": 46,
   "metadata": {},
   "outputs": [],
   "source": [
    "by_hour_gr_sum['midnight_amount'] = by_hour_gr_sum.apply(group_midnight_amount, axis = 1)\n",
    "by_hour_gr_sum['night_amount'] = by_hour_gr_sum.apply(group_night_amount, axis = 1)\n",
    "by_hour_gr_sum['morning_amount'] = by_hour_gr_sum.apply(group_morning_amount, axis = 1)\n",
    "by_hour_gr_sum['day_amount'] = by_hour_gr_sum.apply(group_day_amount, axis = 1)\n",
    "by_hour_gr_sum['evening_amount'] = by_hour_gr_sum.apply(group_evening_amount, axis = 1)"
   ]
  },
  {
   "cell_type": "code",
   "execution_count": 47,
   "metadata": {},
   "outputs": [
    {
     "data": {
      "text/html": [
       "<div>\n",
       "<style scoped>\n",
       "    .dataframe tbody tr th:only-of-type {\n",
       "        vertical-align: middle;\n",
       "    }\n",
       "\n",
       "    .dataframe tbody tr th {\n",
       "        vertical-align: top;\n",
       "    }\n",
       "\n",
       "    .dataframe thead th {\n",
       "        text-align: right;\n",
       "    }\n",
       "</style>\n",
       "<table border=\"1\" class=\"dataframe\">\n",
       "  <thead>\n",
       "    <tr style=\"text-align: right;\">\n",
       "      <th>day_of_transaction</th>\n",
       "      <th>cl_id</th>\n",
       "      <th>sum_day_0</th>\n",
       "      <th>sum_day_1</th>\n",
       "      <th>sum_day_2</th>\n",
       "      <th>sum_day_3</th>\n",
       "      <th>sum_day_4</th>\n",
       "      <th>sum_day_5</th>\n",
       "      <th>sum_day_6</th>\n",
       "    </tr>\n",
       "  </thead>\n",
       "  <tbody>\n",
       "    <tr>\n",
       "      <th>0</th>\n",
       "      <td>0</td>\n",
       "      <td>0.000</td>\n",
       "      <td>0.000</td>\n",
       "      <td>37329.0000</td>\n",
       "      <td>0.000</td>\n",
       "      <td>20000.0000</td>\n",
       "      <td>0.0000</td>\n",
       "      <td>7054.0000</td>\n",
       "    </tr>\n",
       "    <tr>\n",
       "      <th>1</th>\n",
       "      <td>1</td>\n",
       "      <td>107811.220</td>\n",
       "      <td>24146.624</td>\n",
       "      <td>72663.6478</td>\n",
       "      <td>9400.618</td>\n",
       "      <td>14769.3784</td>\n",
       "      <td>21083.7674</td>\n",
       "      <td>83522.3902</td>\n",
       "    </tr>\n",
       "    <tr>\n",
       "      <th>2</th>\n",
       "      <td>5</td>\n",
       "      <td>55804.756</td>\n",
       "      <td>36018.810</td>\n",
       "      <td>168912.8100</td>\n",
       "      <td>45179.360</td>\n",
       "      <td>101601.7500</td>\n",
       "      <td>64274.6800</td>\n",
       "      <td>62999.4094</td>\n",
       "    </tr>\n",
       "    <tr>\n",
       "      <th>3</th>\n",
       "      <td>9</td>\n",
       "      <td>2306.090</td>\n",
       "      <td>385400.000</td>\n",
       "      <td>152659.0000</td>\n",
       "      <td>10500.000</td>\n",
       "      <td>210350.0000</td>\n",
       "      <td>87500.0000</td>\n",
       "      <td>600.0000</td>\n",
       "    </tr>\n",
       "    <tr>\n",
       "      <th>4</th>\n",
       "      <td>10</td>\n",
       "      <td>382397.790</td>\n",
       "      <td>42844.640</td>\n",
       "      <td>99454.1700</td>\n",
       "      <td>40553.220</td>\n",
       "      <td>61346.6200</td>\n",
       "      <td>48418.0400</td>\n",
       "      <td>411634.5300</td>\n",
       "    </tr>\n",
       "  </tbody>\n",
       "</table>\n",
       "</div>"
      ],
      "text/plain": [
       "day_of_transaction  cl_id   sum_day_0   sum_day_1    sum_day_2  sum_day_3  \\\n",
       "0                       0       0.000       0.000   37329.0000      0.000   \n",
       "1                       1  107811.220   24146.624   72663.6478   9400.618   \n",
       "2                       5   55804.756   36018.810  168912.8100  45179.360   \n",
       "3                       9    2306.090  385400.000  152659.0000  10500.000   \n",
       "4                      10  382397.790   42844.640   99454.1700  40553.220   \n",
       "\n",
       "day_of_transaction    sum_day_4   sum_day_5    sum_day_6  \n",
       "0                    20000.0000      0.0000    7054.0000  \n",
       "1                    14769.3784  21083.7674   83522.3902  \n",
       "2                   101601.7500  64274.6800   62999.4094  \n",
       "3                   210350.0000  87500.0000     600.0000  \n",
       "4                    61346.6200  48418.0400  411634.5300  "
      ]
     },
     "execution_count": 47,
     "metadata": {},
     "output_type": "execute_result"
    }
   ],
   "source": [
    "by_day_gr_sum.head()"
   ]
  },
  {
   "cell_type": "code",
   "execution_count": 48,
   "metadata": {},
   "outputs": [],
   "source": [
    "def group_weekends_count(row):\n",
    "        return row.day_0+row.day_6\n",
    "def group_workdays_count(row):\n",
    "        return row.day_1+row.day_2+row.day_3+row.day_4+row.day_5\n",
    "def group_weekends_sum(row):\n",
    "        return row.sum_day_0+row.sum_day_6\n",
    "def group_workdays_sum(row):\n",
    "        return row.sum_day_1+row.sum_day_2+row.sum_day_3+row.sum_day_4+row.sum_day_5"
   ]
  },
  {
   "cell_type": "code",
   "execution_count": 49,
   "metadata": {},
   "outputs": [],
   "source": [
    "by_day_gr_count['weekends_count'] = by_day_gr_count.apply(group_weekends_count, axis=1)\n",
    "by_day_gr_count['workdays_count'] = by_day_gr_count.apply(group_workdays_count, axis=1)"
   ]
  },
  {
   "cell_type": "code",
   "execution_count": 50,
   "metadata": {},
   "outputs": [],
   "source": [
    "by_day_gr_sum['weekends_sum'] = by_day_gr_sum.apply(group_weekends_sum, axis=1)\n",
    "by_day_gr_sum['workdays_sum'] = by_day_gr_sum.apply(group_workdays_sum, axis=1)"
   ]
  },
  {
   "cell_type": "code",
   "execution_count": 51,
   "metadata": {},
   "outputs": [],
   "source": [
    "by_day_gr_count = by_day_gr_count.loc[:, ['cl_id','weekends_count', 'workdays_count']]"
   ]
  },
  {
   "cell_type": "code",
   "execution_count": 52,
   "metadata": {},
   "outputs": [],
   "source": [
    "by_day_gr_sum = by_day_gr_sum.loc[:, ['cl_id','weekends_sum', 'workdays_sum']]"
   ]
  },
  {
   "cell_type": "code",
   "execution_count": 53,
   "metadata": {},
   "outputs": [],
   "source": [
    "by_hour_gr_count = by_hour_gr_count.loc[:, ['cl_id','midnight_count', 'night_count', 'morning_count', 'day_count', 'evening_count']]"
   ]
  },
  {
   "cell_type": "code",
   "execution_count": 54,
   "metadata": {},
   "outputs": [],
   "source": [
    "by_hour_gr_sum = by_hour_gr_sum.loc[:, ['cl_id','midnight_amount', 'night_amount', 'morning_amount', 'day_amount', 'evening_amount']]"
   ]
  },
  {
   "cell_type": "code",
   "execution_count": 55,
   "metadata": {},
   "outputs": [],
   "source": [
    "df = datamart_MCC_category.merge(by_day_gr_count, how='left', on = 'cl_id')"
   ]
  },
  {
   "cell_type": "code",
   "execution_count": 56,
   "metadata": {},
   "outputs": [],
   "source": [
    "df = df.fillna('na')"
   ]
  },
  {
   "cell_type": "code",
   "execution_count": 57,
   "metadata": {},
   "outputs": [],
   "source": [
    "df = df.merge(by_day_gr_sum, how='left', on = 'cl_id')"
   ]
  },
  {
   "cell_type": "code",
   "execution_count": 58,
   "metadata": {},
   "outputs": [],
   "source": [
    "df = df.merge(by_hour_gr_count, how='left', on = 'cl_id')"
   ]
  },
  {
   "cell_type": "code",
   "execution_count": 59,
   "metadata": {},
   "outputs": [
    {
     "data": {
      "text/html": [
       "<div>\n",
       "<style scoped>\n",
       "    .dataframe tbody tr th:only-of-type {\n",
       "        vertical-align: middle;\n",
       "    }\n",
       "\n",
       "    .dataframe tbody tr th {\n",
       "        vertical-align: top;\n",
       "    }\n",
       "\n",
       "    .dataframe thead th {\n",
       "        text-align: right;\n",
       "    }\n",
       "</style>\n",
       "<table border=\"1\" class=\"dataframe\">\n",
       "  <thead>\n",
       "    <tr style=\"text-align: right;\">\n",
       "      <th></th>\n",
       "      <th>cl_id</th>\n",
       "      <th>target_flag</th>\n",
       "      <th>channel_type</th>\n",
       "      <th>MCC_5411</th>\n",
       "      <th>MCC_6011</th>\n",
       "      <th>MCC_5814</th>\n",
       "      <th>MCC_5812</th>\n",
       "      <th>MCC_5499</th>\n",
       "      <th>MCC_5541</th>\n",
       "      <th>MCC_5912</th>\n",
       "      <th>...</th>\n",
       "      <th>midnight_count</th>\n",
       "      <th>night_count</th>\n",
       "      <th>morning_count</th>\n",
       "      <th>day_count</th>\n",
       "      <th>evening_count</th>\n",
       "      <th>midnight_amount</th>\n",
       "      <th>night_amount</th>\n",
       "      <th>morning_amount</th>\n",
       "      <th>day_amount</th>\n",
       "      <th>evening_amount</th>\n",
       "    </tr>\n",
       "  </thead>\n",
       "  <tbody>\n",
       "    <tr>\n",
       "      <th>0</th>\n",
       "      <td>0</td>\n",
       "      <td>0</td>\n",
       "      <td>na</td>\n",
       "      <td>2031.0000</td>\n",
       "      <td>20000.0</td>\n",
       "      <td>0.00</td>\n",
       "      <td>0.0000</td>\n",
       "      <td>0.000</td>\n",
       "      <td>0.00</td>\n",
       "      <td>0.00</td>\n",
       "      <td>...</td>\n",
       "      <td>3.0</td>\n",
       "      <td>0.0</td>\n",
       "      <td>0.0</td>\n",
       "      <td>3.0</td>\n",
       "      <td>0.0</td>\n",
       "      <td>7821.0000</td>\n",
       "      <td>0.00</td>\n",
       "      <td>0.0</td>\n",
       "      <td>93124.00</td>\n",
       "      <td>0.00</td>\n",
       "    </tr>\n",
       "    <tr>\n",
       "      <th>1</th>\n",
       "      <td>1</td>\n",
       "      <td>0</td>\n",
       "      <td>na</td>\n",
       "      <td>20246.6376</td>\n",
       "      <td>145000.0</td>\n",
       "      <td>82441.17</td>\n",
       "      <td>39180.6738</td>\n",
       "      <td>1221.724</td>\n",
       "      <td>0.00</td>\n",
       "      <td>2441.00</td>\n",
       "      <td>...</td>\n",
       "      <td>101.0</td>\n",
       "      <td>0.0</td>\n",
       "      <td>0.0</td>\n",
       "      <td>0.0</td>\n",
       "      <td>3.0</td>\n",
       "      <td>188397.6458</td>\n",
       "      <td>0.00</td>\n",
       "      <td>0.0</td>\n",
       "      <td>0.00</td>\n",
       "      <td>145000.00</td>\n",
       "    </tr>\n",
       "    <tr>\n",
       "      <th>2</th>\n",
       "      <td>5</td>\n",
       "      <td>1</td>\n",
       "      <td>na</td>\n",
       "      <td>46877.9294</td>\n",
       "      <td>208000.0</td>\n",
       "      <td>247.00</td>\n",
       "      <td>3309.0000</td>\n",
       "      <td>7196.700</td>\n",
       "      <td>0.00</td>\n",
       "      <td>1804.00</td>\n",
       "      <td>...</td>\n",
       "      <td>119.0</td>\n",
       "      <td>0.0</td>\n",
       "      <td>2.0</td>\n",
       "      <td>12.0</td>\n",
       "      <td>7.0</td>\n",
       "      <td>338291.5754</td>\n",
       "      <td>0.00</td>\n",
       "      <td>7000.0</td>\n",
       "      <td>116000.00</td>\n",
       "      <td>86000.00</td>\n",
       "    </tr>\n",
       "    <tr>\n",
       "      <th>3</th>\n",
       "      <td>9</td>\n",
       "      <td>0</td>\n",
       "      <td>na</td>\n",
       "      <td>39.0000</td>\n",
       "      <td>540000.0</td>\n",
       "      <td>0.00</td>\n",
       "      <td>0.0000</td>\n",
       "      <td>0.000</td>\n",
       "      <td>0.00</td>\n",
       "      <td>0.00</td>\n",
       "      <td>...</td>\n",
       "      <td>7.0</td>\n",
       "      <td>8.0</td>\n",
       "      <td>8.0</td>\n",
       "      <td>10.0</td>\n",
       "      <td>7.0</td>\n",
       "      <td>402409.0000</td>\n",
       "      <td>800.00</td>\n",
       "      <td>180900.0</td>\n",
       "      <td>261100.00</td>\n",
       "      <td>4406.09</td>\n",
       "    </tr>\n",
       "    <tr>\n",
       "      <th>4</th>\n",
       "      <td>10</td>\n",
       "      <td>0</td>\n",
       "      <td>na</td>\n",
       "      <td>53920.3600</td>\n",
       "      <td>854000.0</td>\n",
       "      <td>2010.00</td>\n",
       "      <td>319.0000</td>\n",
       "      <td>13225.020</td>\n",
       "      <td>15755.93</td>\n",
       "      <td>12972.95</td>\n",
       "      <td>...</td>\n",
       "      <td>299.0</td>\n",
       "      <td>75.0</td>\n",
       "      <td>35.0</td>\n",
       "      <td>63.0</td>\n",
       "      <td>1.0</td>\n",
       "      <td>198587.8800</td>\n",
       "      <td>107923.47</td>\n",
       "      <td>380380.0</td>\n",
       "      <td>422287.66</td>\n",
       "      <td>100.00</td>\n",
       "    </tr>\n",
       "  </tbody>\n",
       "</table>\n",
       "<p>5 rows × 71 columns</p>\n",
       "</div>"
      ],
      "text/plain": [
       "   cl_id  target_flag channel_type    MCC_5411  MCC_6011  MCC_5814  \\\n",
       "0      0            0           na   2031.0000   20000.0      0.00   \n",
       "1      1            0           na  20246.6376  145000.0  82441.17   \n",
       "2      5            1           na  46877.9294  208000.0    247.00   \n",
       "3      9            0           na     39.0000  540000.0      0.00   \n",
       "4     10            0           na  53920.3600  854000.0   2010.00   \n",
       "\n",
       "     MCC_5812   MCC_5499  MCC_5541  MCC_5912       ...        midnight_count  \\\n",
       "0      0.0000      0.000      0.00      0.00       ...                   3.0   \n",
       "1  39180.6738   1221.724      0.00   2441.00       ...                 101.0   \n",
       "2   3309.0000   7196.700      0.00   1804.00       ...                 119.0   \n",
       "3      0.0000      0.000      0.00      0.00       ...                   7.0   \n",
       "4    319.0000  13225.020  15755.93  12972.95       ...                 299.0   \n",
       "\n",
       "   night_count  morning_count  day_count  evening_count  midnight_amount  \\\n",
       "0          0.0            0.0        3.0            0.0        7821.0000   \n",
       "1          0.0            0.0        0.0            3.0      188397.6458   \n",
       "2          0.0            2.0       12.0            7.0      338291.5754   \n",
       "3          8.0            8.0       10.0            7.0      402409.0000   \n",
       "4         75.0           35.0       63.0            1.0      198587.8800   \n",
       "\n",
       "   night_amount  morning_amount  day_amount  evening_amount  \n",
       "0          0.00             0.0    93124.00            0.00  \n",
       "1          0.00             0.0        0.00       145000.00  \n",
       "2          0.00          7000.0   116000.00        86000.00  \n",
       "3        800.00        180900.0   261100.00         4406.09  \n",
       "4     107923.47        380380.0   422287.66          100.00  \n",
       "\n",
       "[5 rows x 71 columns]"
      ]
     },
     "execution_count": 59,
     "metadata": {},
     "output_type": "execute_result"
    }
   ],
   "source": [
    "df = df.merge(by_hour_gr_sum, how='left', on = 'cl_id')\n",
    "df.head()"
   ]
  },
  {
   "cell_type": "code",
   "execution_count": 60,
   "metadata": {},
   "outputs": [
    {
     "data": {
      "text/plain": [
       "target_flag                    1.000000\n",
       "midnight_count                 0.242665\n",
       "workdays_count                 0.239306\n",
       "weekends_count                 0.224254\n",
       "category_POS                   0.190951\n",
       "MCC_5814                       0.170083\n",
       "MCC_5812                       0.141029\n",
       "MCC_5411                       0.127866\n",
       "weekends_sum                   0.122178\n",
       "MCC_5691                       0.109226\n",
       "category_WD_ATM_OTHER          0.100509\n",
       "midnight_amount                0.094084\n",
       "day_count                      0.091459\n",
       "night_count                    0.079881\n",
       "MCC_5912                       0.075937\n",
       "MCC_5814_avg                   0.074115\n",
       "MCC_5541                       0.072848\n",
       "MCC_4121                       0.069082\n",
       "MCC_5999                       0.067046\n",
       "MCC_5921                       0.062054\n",
       "workdays_sum                   0.061681\n",
       "morning_count                  0.057060\n",
       "evening_count                  0.052346\n",
       "MCC_5499                       0.050740\n",
       "day_amount                     0.050111\n",
       "MCC_4111                       0.049550\n",
       "MCC_4121_avg                   0.048697\n",
       "category_C2C_OUT               0.046998\n",
       "MCC_4829                       0.040789\n",
       "MCC_5921_avg                   0.037125\n",
       "                                 ...   \n",
       "MCC_5691_avg                   0.012262\n",
       "MCC_6012                       0.011981\n",
       "morning_amount                 0.011036\n",
       "MCC_5211_avg                   0.008241\n",
       "category_C2C_IN                0.006694\n",
       "MCC_4111_avg                   0.005482\n",
       "MCC_5977                       0.004547\n",
       "MCC_5732                       0.001363\n",
       "MCC_5411_avg                  -0.001282\n",
       "MCC_5541_avg                  -0.005824\n",
       "MCC_5912_avg                  -0.013397\n",
       "MCC_5499_avg                  -0.013847\n",
       "MCC_5261_avg                  -0.017698\n",
       "category_C2C_OUT_avg          -0.018347\n",
       "MCC_5732_avg                  -0.019693\n",
       "MCC_4829_avg                  -0.019851\n",
       "MCC_5999_avg                  -0.025529\n",
       "category_WD_ATM_PARTNER       -0.025757\n",
       "MCC_5977_avg                  -0.025916\n",
       "category_POS_avg              -0.030404\n",
       "MCC_5331_avg                  -0.030738\n",
       "MCC_5200                      -0.032277\n",
       "category_C2C_IN_avg           -0.034776\n",
       "MCC_5200_avg                  -0.035066\n",
       "MCC_6012_avg                  -0.068109\n",
       "category_DEPOSIT_avg          -0.068437\n",
       "category_WD_ATM_ROS_avg       -0.076575\n",
       "category_WD_ATM_PARTNER_avg   -0.128000\n",
       "MCC_6011_avg                  -0.147478\n",
       "cl_id                         -0.393316\n",
       "Name: target_flag, Length: 70, dtype: float64"
      ]
     },
     "execution_count": 60,
     "metadata": {},
     "output_type": "execute_result"
    }
   ],
   "source": [
    "corr_matrix = df.corr()\n",
    "corr_matrix['target_flag'].sort_values(ascending=False) "
   ]
  },
  {
   "cell_type": "code",
   "execution_count": 61,
   "metadata": {},
   "outputs": [],
   "source": [
    "def get_one_hot(df, cols):\n",
    "    \"\"\"\n",
    "    @param df pandas DataFrame\n",
    "    @param cols a list of columns to encode \n",
    "    @return a DataFrame with one-hot encoding\n",
    "    \"\"\"\n",
    "    for each in cols:\n",
    "        dummies = pd.get_dummies(df[each], prefix=each, drop_first=False)\n",
    "        df = pd.concat([df, dummies], axis=1)\n",
    "    return df"
   ]
  },
  {
   "cell_type": "code",
   "execution_count": 62,
   "metadata": {},
   "outputs": [],
   "source": [
    "df = get_one_hot(df, ['channel_type'])"
   ]
  },
  {
   "cell_type": "code",
   "execution_count": 63,
   "metadata": {},
   "outputs": [],
   "source": [
    "df.drop(columns=['channel_type'], inplace = True)"
   ]
  },
  {
   "cell_type": "code",
   "execution_count": 64,
   "metadata": {},
   "outputs": [],
   "source": [
    "cl_ids_test = np.random.choice(df.cl_id.unique(), size=1000, replace=False)\n",
    "cl_ids_test_set = set(cl_ids_test)"
   ]
  },
  {
   "cell_type": "code",
   "execution_count": 65,
   "metadata": {},
   "outputs": [
    {
     "name": "stdout",
     "output_type": "stream",
     "text": [
      "Total clients in train dataset:  3999\n",
      "Total transactions in test dataset:  1000\n"
     ]
    },
    {
     "data": {
      "text/html": [
       "<div>\n",
       "<style scoped>\n",
       "    .dataframe tbody tr th:only-of-type {\n",
       "        vertical-align: middle;\n",
       "    }\n",
       "\n",
       "    .dataframe tbody tr th {\n",
       "        vertical-align: top;\n",
       "    }\n",
       "\n",
       "    .dataframe thead th {\n",
       "        text-align: right;\n",
       "    }\n",
       "</style>\n",
       "<table border=\"1\" class=\"dataframe\">\n",
       "  <thead>\n",
       "    <tr style=\"text-align: right;\">\n",
       "      <th></th>\n",
       "      <th>cl_id</th>\n",
       "      <th>target_flag</th>\n",
       "      <th>MCC_5411</th>\n",
       "      <th>MCC_6011</th>\n",
       "      <th>MCC_5814</th>\n",
       "      <th>MCC_5812</th>\n",
       "      <th>MCC_5499</th>\n",
       "      <th>MCC_5541</th>\n",
       "      <th>MCC_5912</th>\n",
       "      <th>MCC_5999</th>\n",
       "      <th>...</th>\n",
       "      <th>night_amount</th>\n",
       "      <th>morning_amount</th>\n",
       "      <th>day_amount</th>\n",
       "      <th>evening_amount</th>\n",
       "      <th>channel_type_na</th>\n",
       "      <th>channel_type_type1</th>\n",
       "      <th>channel_type_type2</th>\n",
       "      <th>channel_type_type3</th>\n",
       "      <th>channel_type_type4</th>\n",
       "      <th>channel_type_type5</th>\n",
       "    </tr>\n",
       "  </thead>\n",
       "  <tbody>\n",
       "    <tr>\n",
       "      <th>1</th>\n",
       "      <td>1</td>\n",
       "      <td>0</td>\n",
       "      <td>20246.6376</td>\n",
       "      <td>145000.0</td>\n",
       "      <td>82441.17</td>\n",
       "      <td>39180.6738</td>\n",
       "      <td>1221.724</td>\n",
       "      <td>0.00</td>\n",
       "      <td>2441.00</td>\n",
       "      <td>675.00</td>\n",
       "      <td>...</td>\n",
       "      <td>0.0</td>\n",
       "      <td>0.0</td>\n",
       "      <td>0.0</td>\n",
       "      <td>145000.00</td>\n",
       "      <td>1</td>\n",
       "      <td>0</td>\n",
       "      <td>0</td>\n",
       "      <td>0</td>\n",
       "      <td>0</td>\n",
       "      <td>0</td>\n",
       "    </tr>\n",
       "    <tr>\n",
       "      <th>3</th>\n",
       "      <td>9</td>\n",
       "      <td>0</td>\n",
       "      <td>39.0000</td>\n",
       "      <td>540000.0</td>\n",
       "      <td>0.00</td>\n",
       "      <td>0.0000</td>\n",
       "      <td>0.000</td>\n",
       "      <td>0.00</td>\n",
       "      <td>0.00</td>\n",
       "      <td>11906.09</td>\n",
       "      <td>...</td>\n",
       "      <td>800.0</td>\n",
       "      <td>180900.0</td>\n",
       "      <td>261100.0</td>\n",
       "      <td>4406.09</td>\n",
       "      <td>1</td>\n",
       "      <td>0</td>\n",
       "      <td>0</td>\n",
       "      <td>0</td>\n",
       "      <td>0</td>\n",
       "      <td>0</td>\n",
       "    </tr>\n",
       "    <tr>\n",
       "      <th>5</th>\n",
       "      <td>11</td>\n",
       "      <td>0</td>\n",
       "      <td>31084.6200</td>\n",
       "      <td>182000.0</td>\n",
       "      <td>5653.00</td>\n",
       "      <td>14046.2000</td>\n",
       "      <td>1804.258</td>\n",
       "      <td>5672.70</td>\n",
       "      <td>2888.89</td>\n",
       "      <td>1779.50</td>\n",
       "      <td>...</td>\n",
       "      <td>0.0</td>\n",
       "      <td>0.0</td>\n",
       "      <td>192000.0</td>\n",
       "      <td>30000.00</td>\n",
       "      <td>1</td>\n",
       "      <td>0</td>\n",
       "      <td>0</td>\n",
       "      <td>0</td>\n",
       "      <td>0</td>\n",
       "      <td>0</td>\n",
       "    </tr>\n",
       "    <tr>\n",
       "      <th>6</th>\n",
       "      <td>14</td>\n",
       "      <td>1</td>\n",
       "      <td>20408.9600</td>\n",
       "      <td>37000.0</td>\n",
       "      <td>23894.06</td>\n",
       "      <td>5659.0000</td>\n",
       "      <td>827.000</td>\n",
       "      <td>979.65</td>\n",
       "      <td>2994.00</td>\n",
       "      <td>1479.00</td>\n",
       "      <td>...</td>\n",
       "      <td>0.0</td>\n",
       "      <td>37000.0</td>\n",
       "      <td>288000.0</td>\n",
       "      <td>8700.00</td>\n",
       "      <td>1</td>\n",
       "      <td>0</td>\n",
       "      <td>0</td>\n",
       "      <td>0</td>\n",
       "      <td>0</td>\n",
       "      <td>0</td>\n",
       "    </tr>\n",
       "    <tr>\n",
       "      <th>7</th>\n",
       "      <td>20</td>\n",
       "      <td>0</td>\n",
       "      <td>9834.4300</td>\n",
       "      <td>215000.0</td>\n",
       "      <td>0.00</td>\n",
       "      <td>3023.3300</td>\n",
       "      <td>1247.730</td>\n",
       "      <td>19283.74</td>\n",
       "      <td>1840.00</td>\n",
       "      <td>719.60</td>\n",
       "      <td>...</td>\n",
       "      <td>0.0</td>\n",
       "      <td>60000.0</td>\n",
       "      <td>235000.0</td>\n",
       "      <td>0.00</td>\n",
       "      <td>1</td>\n",
       "      <td>0</td>\n",
       "      <td>0</td>\n",
       "      <td>0</td>\n",
       "      <td>0</td>\n",
       "      <td>0</td>\n",
       "    </tr>\n",
       "  </tbody>\n",
       "</table>\n",
       "<p>5 rows × 76 columns</p>\n",
       "</div>"
      ],
      "text/plain": [
       "   cl_id  target_flag    MCC_5411  MCC_6011  MCC_5814    MCC_5812  MCC_5499  \\\n",
       "1      1            0  20246.6376  145000.0  82441.17  39180.6738  1221.724   \n",
       "3      9            0     39.0000  540000.0      0.00      0.0000     0.000   \n",
       "5     11            0  31084.6200  182000.0   5653.00  14046.2000  1804.258   \n",
       "6     14            1  20408.9600   37000.0  23894.06   5659.0000   827.000   \n",
       "7     20            0   9834.4300  215000.0      0.00   3023.3300  1247.730   \n",
       "\n",
       "   MCC_5541  MCC_5912  MCC_5999         ...          night_amount  \\\n",
       "1      0.00   2441.00    675.00         ...                   0.0   \n",
       "3      0.00      0.00  11906.09         ...                 800.0   \n",
       "5   5672.70   2888.89   1779.50         ...                   0.0   \n",
       "6    979.65   2994.00   1479.00         ...                   0.0   \n",
       "7  19283.74   1840.00    719.60         ...                   0.0   \n",
       "\n",
       "   morning_amount  day_amount  evening_amount  channel_type_na  \\\n",
       "1             0.0         0.0       145000.00                1   \n",
       "3        180900.0    261100.0         4406.09                1   \n",
       "5             0.0    192000.0        30000.00                1   \n",
       "6         37000.0    288000.0         8700.00                1   \n",
       "7         60000.0    235000.0            0.00                1   \n",
       "\n",
       "   channel_type_type1  channel_type_type2  channel_type_type3  \\\n",
       "1                   0                   0                   0   \n",
       "3                   0                   0                   0   \n",
       "5                   0                   0                   0   \n",
       "6                   0                   0                   0   \n",
       "7                   0                   0                   0   \n",
       "\n",
       "   channel_type_type4  channel_type_type5  \n",
       "1                   0                   0  \n",
       "3                   0                   0  \n",
       "5                   0                   0  \n",
       "6                   0                   0  \n",
       "7                   0                   0  \n",
       "\n",
       "[5 rows x 76 columns]"
      ]
     },
     "execution_count": 65,
     "metadata": {},
     "output_type": "execute_result"
    }
   ],
   "source": [
    "# create transactions dataset for train\n",
    "df_train = df[~df.cl_id.isin(cl_ids_test)].copy()\n",
    "print(\"Total clients in train dataset: \", len(df_train))\n",
    "# create transactions dataset for test\n",
    "df_test = df[df.cl_id.isin(cl_ids_test)].copy()\n",
    "print(\"Total transactions in test dataset: \", len(df_test))\n",
    "df_train.head()"
   ]
  },
  {
   "cell_type": "code",
   "execution_count": 66,
   "metadata": {},
   "outputs": [],
   "source": [
    "train_columns = [\n",
    "    col for col in df_train.columns.tolist()\n",
    "    if col not in set(\n",
    "        [\n",
    "            'target_flag'\n",
    "        ]\n",
    "    )\n",
    "]\n",
    "x_train = df_train[train_columns]\n",
    "y_train = df_train['target_flag']\n",
    "x_test = df_test[train_columns]\n",
    "y_test = df_test['target_flag']"
   ]
  },
  {
   "cell_type": "code",
   "execution_count": 67,
   "metadata": {},
   "outputs": [],
   "source": [
    "xgb = xgboost.XGBClassifier(max_depth=5, n_jobs=-1)\n",
    "xgb.fit(x_train, y_train)\n",
    "y_train_predict = xgb.predict_proba(x_train)[:, 1]\n",
    "y_test_predict = xgb.predict_proba(x_test)[:, 1]"
   ]
  },
  {
   "cell_type": "code",
   "execution_count": 68,
   "metadata": {},
   "outputs": [
    {
     "name": "stdout",
     "output_type": "stream",
     "text": [
      "Train:  0.9603\n",
      "Test:  0.8131\n"
     ]
    }
   ],
   "source": [
    "roc_auc_train = np.round(roc_auc_score(y_train, y_train_predict), 4)\n",
    "roc_auc_test = np.round(roc_auc_score(y_test, y_test_predict), 4)\n",
    "print(\"Train: \", roc_auc_train)\n",
    "print(\"Test: \", roc_auc_test)"
   ]
  },
  {
   "cell_type": "code",
   "execution_count": null,
   "metadata": {},
   "outputs": [],
   "source": []
  }
 ],
 "metadata": {
  "kernelspec": {
   "display_name": "Python 3",
   "language": "python",
   "name": "python3"
  },
  "language_info": {
   "codemirror_mode": {
    "name": "ipython",
    "version": 3
   },
   "file_extension": ".py",
   "mimetype": "text/x-python",
   "name": "python",
   "nbconvert_exporter": "python",
   "pygments_lexer": "ipython3",
   "version": "3.6.5"
  }
 },
 "nbformat": 4,
 "nbformat_minor": 2
}
