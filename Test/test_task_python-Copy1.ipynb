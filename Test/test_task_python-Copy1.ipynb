{
 "cells": [
  {
   "cell_type": "code",
   "execution_count": 1,
   "metadata": {},
   "outputs": [],
   "source": [
    "%matplotlib inline\n",
    "import pandas as pd\n",
    "import seaborn as sns\n",
    "from datetime import datetime\n",
    "from datetime import timedelta"
   ]
  },
  {
   "cell_type": "markdown",
   "metadata": {},
   "source": [
    "Вводные\n",
    "\n",
    "Водитель может находиться в 4 возможных статусах:\n",
    "    * free -- доступен для нового заказа\n",
    "    * enroute -- едет на заказ\n",
    "    * ontrip -- выполняет заказ\n",
    "    * busy -- недоступен для нового заказа\n",
    "\n",
    "Возможные переходы из одного состояние в другое определены как:\n",
    "    * free -> [free, enroute, busy]\n",
    "    * enroute -> [free, ontrip]\n",
    "    * ontrip -> [free]\n",
    "    * busy -> [free]\n",
    "\n",
    "Почему переходы определяются таким образом:\n",
    "1. Из состояния free можно перейти в\n",
    "    * free -- если водитель ушел в офлайн и заново вышел на линию, тогда подряд будет две записи со статусом free\n",
    "    * enroute -- если водитель принял заказ, то переходит в статус enroute и едет к клиенту\n",
    "    * busy -- если водитель нажал кнопку \"Занят\" в таксометре (пошел на обед и т.д.)\n",
    "2. Из состояния enroute можно перейти в \n",
    "    * free -- если клиент или водитель отменил заказ\n",
    "    * ontrip -- если водитель приехал к клиенту и начал выполнять заказ\n",
    "3. Из состояния ontrip можно перейти только в free (после выполнения заказа)\n",
    "4. Из состояния busy можно перейти только в free\n",
    "\n",
    "Эффективность на поездке -- это время с клиентом в машине (ontrip), деленное на сумму длительностей всех статусов, связанных с поездкой (sum(free) + enroute + ontrip), где sum(free) -- время простоя.\n",
    "\n",
    "Время простоя -- это сумма всех статусов free, предшествующих поездке. Суммируются все статусы free, идущие подряд, а также те, которые были прерваны короткими статусами busy или enroute (короткий статус == меньше какого-то TIMEOUT'а).\n",
    "\n",
    "Имеется набор данных со статусами водителей, по которому необходимо построить зависимость длительности поездки от эффективности.\n",
    "    * driver_id -- id водителя\n",
    "    * status -- один из статусов\n",
    "    * dttm -- время начала статуса\n",
    "\n",
    "Примечания:\n",
    "    * Поездка считается только при наличии статуса ontrip\n",
    "    * Тесты написаны для python 2"
   ]
  },
  {
   "cell_type": "markdown",
   "metadata": {},
   "source": [
    "    1. Написать функцию-генератор, которая будет отдавать соседние элементы в цикле. Функция понадобится для итерирования по записям водителя и проверки соседних статусов по условиям. Не забудьте проверить, что тесты проходят без ошибок (см. test_neighbors)."
   ]
  },
  {
   "cell_type": "code",
   "execution_count": 2,
   "metadata": {},
   "outputs": [],
   "source": [
    "from itertools import tee, islice, chain\n",
    "\n",
    "def neighbors(iterable):\n",
    "    # Write generator function which yields \n",
    "    # previous, current and next values in iterable list.\n",
    "    # ... type your code here ...\n",
    "    for i in range(len(list(iterable))):\n",
    "        if i == 0:\n",
    "            prv, cur, nxt = [None, iterable[0], iterable[1]]\n",
    "        elif i == (len(list(iterable))-1):\n",
    "            prv, cur, nxt = [iterable[i-1], iterable[i] , None]\n",
    "        else:    \n",
    "            prv, cur, nxt = [iterable[i-1], iterable[i] , iterable[i+1]]\n",
    "        yield prv, cur, nxt"
   ]
  },
  {
   "cell_type": "code",
   "execution_count": 3,
   "metadata": {},
   "outputs": [
    {
     "name": "stdout",
     "output_type": "stream",
     "text": [
      "(None, 0, 1)\n",
      "(0, 1, 2)\n",
      "(1, 2, None)\n"
     ]
    }
   ],
   "source": [
    "iterable = range(3)\n",
    "for i in range(len(list(iterable))):\n",
    "        \n",
    "        if i == 0:\n",
    "            prv, cur, nxt = [None, iterable[0], iterable[1]]\n",
    "        elif i == (len(list(iterable))-1):\n",
    "            prv, cur, nxt = [iterable[i-1], iterable[i] , None]\n",
    "        else:    \n",
    "            prv, cur, nxt = [iterable[i-1], iterable[i] , iterable[i+1]]\n",
    "        print (prv,cur, nxt)"
   ]
  },
  {
   "cell_type": "code",
   "execution_count": 4,
   "metadata": {},
   "outputs": [
    {
     "name": "stdout",
     "output_type": "stream",
     "text": [
      "(None, 0, 1)\n",
      "(0, 1, 2)\n",
      "(1, 2, None)\n"
     ]
    }
   ],
   "source": [
    "for i in neighbors(iterable):\n",
    "    print(i)"
   ]
  },
  {
   "cell_type": "code",
   "execution_count": 5,
   "metadata": {},
   "outputs": [],
   "source": [
    "# Check if test passes\n",
    "def test_neighbors():\n",
    "    test_neighbors = neighbors( range(2) )\n",
    "    assert test_neighbors.next() == (None, 0, 1)\n",
    "\n",
    "test_neighbors()"
   ]
  },
  {
   "cell_type": "markdown",
   "metadata": {},
   "source": [
    "    2. Сгруппировать данные на уровне водителя таким образом, чтобы в одной строке находились все его записи со статусами и началом статуса списком:"
   ]
  },
  {
   "cell_type": "markdown",
   "metadata": {},
   "source": [
    "Формат исходной таблицы:\n",
    "<table>\n",
    "<tr><td>driver_id</td><td>status</td><td>dttm</td></tr>\n",
    "<tr><td>9f8f9bf3ee8f4874873288c246bd2d05</td><td>free</td><td>2018-02-04 00:19</td></tr>\n",
    "<tr><td>9f8f9bf3ee8f4874873288c246bd2d05</td><td>busy</td><td>2018-02-04 01:03</td></tr>\n",
    "<tr><td>8f174ffd446c456eaf3cca0915d0368d</td><td>free</td><td>2018-02-03 15:43</td></tr>\n",
    "<tr><td>8f174ffd446c456eaf3cca0915d0368d</td><td>enroute</td><td>2018-02-03 17:02</td></tr>\n",
    "<tr><td>...</td><td>...</td><td>...</td></tr>\n",
    "</table>"
   ]
  },
  {
   "cell_type": "markdown",
   "metadata": {},
   "source": [
    "Формат сгруппированной таблицы:\n",
    "<table>\n",
    "<tr><td>driver_id</td><td>driver_info</td></tr>\n",
    "<tr><td>9f8f9bf3ee8f4874873288c246bd2d05</td><td>[(\"free\", 2018-02-04 00:19), (\"busy\", 2018-02-04 01:03)]</td></tr>\n",
    "<tr><td>8f174ffd446c456eaf3cca0915d0368d</td><td>[(\"free\", 2018-02-03 15:43), (\"enroute\", 2018-02-03 17:02) ...]</td></tr>\n",
    "</table>"
   ]
  },
  {
   "cell_type": "code",
   "execution_count": 6,
   "metadata": {},
   "outputs": [],
   "source": [
    "df = pd.read_csv(\"dataset.csv\", parse_dates=[\"dttm\"])\n",
    "drivers_list = df.driver_id.unique()"
   ]
  },
  {
   "cell_type": "code",
   "execution_count": 7,
   "metadata": {},
   "outputs": [],
   "source": [
    "big_list = []\n",
    "for i in drivers_list:\n",
    "  \n",
    "    df1 = df[df['driver_id'] == i]\n",
    "    \n",
    "    list1 = []\n",
    "    for j in df1.values:\n",
    "        list1.append((j[0], j[2]))\n",
    "    big_list.append([i, list1])"
   ]
  },
  {
   "cell_type": "code",
   "execution_count": 8,
   "metadata": {},
   "outputs": [],
   "source": [
    "df_grouped = pd.DataFrame(big_list, columns=['driver_id', 'driver_info'])"
   ]
  },
  {
   "cell_type": "code",
   "execution_count": 9,
   "metadata": {},
   "outputs": [
    {
     "data": {
      "text/html": [
       "<div>\n",
       "<style scoped>\n",
       "    .dataframe tbody tr th:only-of-type {\n",
       "        vertical-align: middle;\n",
       "    }\n",
       "\n",
       "    .dataframe tbody tr th {\n",
       "        vertical-align: top;\n",
       "    }\n",
       "\n",
       "    .dataframe thead th {\n",
       "        text-align: right;\n",
       "    }\n",
       "</style>\n",
       "<table border=\"1\" class=\"dataframe\">\n",
       "  <thead>\n",
       "    <tr style=\"text-align: right;\">\n",
       "      <th></th>\n",
       "      <th>driver_id</th>\n",
       "      <th>driver_info</th>\n",
       "    </tr>\n",
       "  </thead>\n",
       "  <tbody>\n",
       "    <tr>\n",
       "      <th>0</th>\n",
       "      <td>8f174ffd446c456eaf3cca0915d0368d</td>\n",
       "      <td>[(free, 2018-02-18 20:51:22.620339), (enroute,...</td>\n",
       "    </tr>\n",
       "    <tr>\n",
       "      <th>1</th>\n",
       "      <td>dc66190e523943f5a83bdd393587439c</td>\n",
       "      <td>[(free, 2018-02-18 20:02:47.620339), (enroute,...</td>\n",
       "    </tr>\n",
       "    <tr>\n",
       "      <th>2</th>\n",
       "      <td>17833e71aa58494ea0cb0a53be840c4e</td>\n",
       "      <td>[(free, 2018-02-18 20:19:26.620339), (enroute,...</td>\n",
       "    </tr>\n",
       "    <tr>\n",
       "      <th>3</th>\n",
       "      <td>63f6aaaf48844d1e83e9fc78716c601e</td>\n",
       "      <td>[(free, 2018-02-18 20:52:11.620339), (enroute,...</td>\n",
       "    </tr>\n",
       "    <tr>\n",
       "      <th>4</th>\n",
       "      <td>78938964fed443cf85879cbf71c6ea56</td>\n",
       "      <td>[(free, 2018-02-18 20:08:57.620339), (busy, 20...</td>\n",
       "    </tr>\n",
       "  </tbody>\n",
       "</table>\n",
       "</div>"
      ],
      "text/plain": [
       "                          driver_id  \\\n",
       "0  8f174ffd446c456eaf3cca0915d0368d   \n",
       "1  dc66190e523943f5a83bdd393587439c   \n",
       "2  17833e71aa58494ea0cb0a53be840c4e   \n",
       "3  63f6aaaf48844d1e83e9fc78716c601e   \n",
       "4  78938964fed443cf85879cbf71c6ea56   \n",
       "\n",
       "                                         driver_info  \n",
       "0  [(free, 2018-02-18 20:51:22.620339), (enroute,...  \n",
       "1  [(free, 2018-02-18 20:02:47.620339), (enroute,...  \n",
       "2  [(free, 2018-02-18 20:19:26.620339), (enroute,...  \n",
       "3  [(free, 2018-02-18 20:52:11.620339), (enroute,...  \n",
       "4  [(free, 2018-02-18 20:08:57.620339), (busy, 20...  "
      ]
     },
     "execution_count": 9,
     "metadata": {},
     "output_type": "execute_result"
    }
   ],
   "source": [
    "df_grouped.head()"
   ]
  },
  {
   "cell_type": "markdown",
   "metadata": {},
   "source": [
    "    3. Используя функцию neighbors, написать функцию, которая для каждой записи в списке driver_info посчитает ее длительность."
   ]
  },
  {
   "cell_type": "code",
   "execution_count": 10,
   "metadata": {},
   "outputs": [],
   "source": [
    "def calc_status_duration(driver_info):\n",
    "    driver_info_updated = []\n",
    "    for i, j, k in neighbors(driver_info):\n",
    "        if k == None:\n",
    "            delta = None \n",
    "        else:\n",
    "            delta = (k[1]- j[1])\n",
    "            delta = delta.seconds\n",
    "              \n",
    "        driver_info_updated.append ( (j[0], j[1], delta))\n",
    "        \n",
    "    return driver_info_updated"
   ]
  },
  {
   "cell_type": "code",
   "execution_count": 11,
   "metadata": {},
   "outputs": [],
   "source": [
    "sample_driver_info = [(\"free\", datetime(2018, 4, 2, 0, 19)), \n",
    "                      (\"busy\", datetime(2018, 4, 2, 1, 3)),\n",
    "                      (\"busy\", datetime(2018, 4, 2, 1, 4)), ]"
   ]
  },
  {
   "cell_type": "code",
   "execution_count": 12,
   "metadata": {},
   "outputs": [
    {
     "name": "stdout",
     "output_type": "stream",
     "text": [
      "(None, ('free', datetime.datetime(2018, 4, 2, 0, 19)), ('busy', datetime.datetime(2018, 4, 2, 1, 3)))\n",
      "(('free', datetime.datetime(2018, 4, 2, 0, 19)), ('busy', datetime.datetime(2018, 4, 2, 1, 3)), ('busy', datetime.datetime(2018, 4, 2, 1, 4)))\n",
      "(('busy', datetime.datetime(2018, 4, 2, 1, 3)), ('busy', datetime.datetime(2018, 4, 2, 1, 4)), None)\n"
     ]
    }
   ],
   "source": [
    "for i, j, k in neighbors(sample_driver_info):\n",
    "    print(i,j,k)"
   ]
  },
  {
   "cell_type": "code",
   "execution_count": 13,
   "metadata": {
    "scrolled": true
   },
   "outputs": [
    {
     "data": {
      "text/plain": [
       "[('free', datetime.datetime(2018, 4, 2, 0, 19), 2640),\n",
       " ('busy', datetime.datetime(2018, 4, 2, 1, 3), 60),\n",
       " ('busy', datetime.datetime(2018, 4, 2, 1, 4), None)]"
      ]
     },
     "execution_count": 13,
     "metadata": {},
     "output_type": "execute_result"
    }
   ],
   "source": [
    "calc_status_duration(sample_driver_info)"
   ]
  },
  {
   "cell_type": "code",
   "execution_count": 14,
   "metadata": {},
   "outputs": [],
   "source": [
    "# Check if test passes\n",
    "def test_calc_status_duration():\n",
    "    sample_driver_info = [(\"free\", datetime(2018, 4, 2, 0, 19)), \n",
    "                          (\"busy\", datetime(2018, 4, 2, 1, 3)),]\n",
    "    sample_driver_info_updated = [('free', datetime(2018, 4, 2, 0, 19), 2640.0),\n",
    "                                  ('busy', datetime(2018, 4, 2, 1, 3), None),]\n",
    "    assert calc_status_duration(sample_driver_info) == sample_driver_info_updated\n",
    "\n",
    "test_calc_status_duration()"
   ]
  },
  {
   "cell_type": "code",
   "execution_count": 15,
   "metadata": {
    "scrolled": false
   },
   "outputs": [],
   "source": [
    "df_grouped[\"driver_info\"] = df_grouped.driver_info.apply(calc_status_duration)"
   ]
  },
  {
   "cell_type": "code",
   "execution_count": 19,
   "metadata": {},
   "outputs": [
    {
     "data": {
      "text/plain": [
       "[('free', Timestamp('2018-02-18 20:51:22.620339'), 1470),\n",
       " ('enroute', Timestamp('2018-02-18 21:15:52.620339'), 5596),\n",
       " ('free', Timestamp('2018-02-18 22:49:08.620339'), 1289),\n",
       " ('busy', Timestamp('2018-02-18 23:10:37.620339'), 5306),\n",
       " ('free', Timestamp('2018-02-19 00:39:03.620339'), 1859),\n",
       " ('enroute', Timestamp('2018-02-19 01:10:02.620339'), 362),\n",
       " ('free', Timestamp('2018-02-19 01:16:04.620339'), 1499),\n",
       " ('busy', Timestamp('2018-02-19 01:41:03.620339'), 1213),\n",
       " ('free', Timestamp('2018-02-19 02:01:16.620339'), 5189),\n",
       " ('enroute', Timestamp('2018-02-19 03:27:45.620339'), 2199),\n",
       " ('free', Timestamp('2018-02-19 04:04:24.620339'), 1350),\n",
       " ('enroute', Timestamp('2018-02-19 04:26:54.620339'), 5515),\n",
       " ('ontrip', Timestamp('2018-02-19 05:58:49.620339'), 1664),\n",
       " ('free', Timestamp('2018-02-19 06:26:33.620339'), 96),\n",
       " ('busy', Timestamp('2018-02-19 06:28:09.620339'), 1123),\n",
       " ('free', Timestamp('2018-02-19 06:46:52.620339'), 4409),\n",
       " ('busy', Timestamp('2018-02-19 08:00:21.620339'), 1011),\n",
       " ('free', Timestamp('2018-02-19 08:17:12.620339'), 2828),\n",
       " ('enroute', Timestamp('2018-02-19 09:04:20.620339'), 517),\n",
       " ('ontrip', Timestamp('2018-02-19 09:12:57.620339'), 3408),\n",
       " ('free', Timestamp('2018-02-19 10:09:45.620339'), 961),\n",
       " ('busy', Timestamp('2018-02-19 10:25:46.620339'), 1074),\n",
       " ('free', Timestamp('2018-02-19 10:43:40.620339'), 137),\n",
       " ('enroute', Timestamp('2018-02-19 10:45:57.620339'), 4104),\n",
       " ('free', Timestamp('2018-02-19 11:54:21.620339'), 2224),\n",
       " ('enroute', Timestamp('2018-02-19 12:31:25.620339'), 1507),\n",
       " ('free', Timestamp('2018-02-19 12:56:32.620339'), 2982),\n",
       " ('enroute', Timestamp('2018-02-19 13:46:14.620339'), 3479),\n",
       " ('free', Timestamp('2018-02-19 14:44:13.620339'), 2518),\n",
       " ('enroute', Timestamp('2018-02-19 15:26:11.620339'), 5429),\n",
       " ('ontrip', Timestamp('2018-02-19 16:56:40.620339'), 5909),\n",
       " ('free', Timestamp('2018-02-19 18:35:09.620339'), 3035),\n",
       " ('enroute', Timestamp('2018-02-19 19:25:44.620339'), 997),\n",
       " ('ontrip', Timestamp('2018-02-19 19:42:21.620339'), 113),\n",
       " ('free', Timestamp('2018-02-19 19:44:14.620339'), 2610),\n",
       " ('busy', Timestamp('2018-02-19 20:27:44.620339'), 5427),\n",
       " ('free', Timestamp('2018-02-19 21:58:11.620339'), 2509),\n",
       " ('enroute', Timestamp('2018-02-19 22:40:00.620339'), 3109),\n",
       " ('ontrip', Timestamp('2018-02-19 23:31:49.620339'), 1987),\n",
       " ('free', Timestamp('2018-02-20 00:04:56.620339'), 4141),\n",
       " ('enroute', Timestamp('2018-02-20 01:13:57.620339'), 4500),\n",
       " ('free', Timestamp('2018-02-20 02:28:57.620339'), 3148),\n",
       " ('enroute', Timestamp('2018-02-20 03:21:25.620339'), 1406),\n",
       " ('free', Timestamp('2018-02-20 03:44:51.620339'), 4246),\n",
       " ('busy', Timestamp('2018-02-20 04:55:37.620339'), 5609),\n",
       " ('free', Timestamp('2018-02-20 06:29:06.620339'), 5363),\n",
       " ('busy', Timestamp('2018-02-20 07:58:29.620339'), 5406),\n",
       " ('free', Timestamp('2018-02-20 09:28:35.620339'), 1870),\n",
       " ('enroute', Timestamp('2018-02-20 09:59:45.620339'), 3087),\n",
       " ('free', Timestamp('2018-02-20 10:51:12.620339'), 20),\n",
       " ('enroute', Timestamp('2018-02-20 10:51:32.620339'), 4953),\n",
       " ('free', Timestamp('2018-02-20 12:14:05.620339'), 3228),\n",
       " ('busy', Timestamp('2018-02-20 13:07:53.620339'), 749),\n",
       " ('free', Timestamp('2018-02-20 13:20:22.620339'), 5010),\n",
       " ('enroute', Timestamp('2018-02-20 14:43:52.620339'), 808),\n",
       " ('ontrip', Timestamp('2018-02-20 14:57:20.620339'), 580),\n",
       " ('free', Timestamp('2018-02-20 15:07:00.620339'), 3587),\n",
       " ('enroute', Timestamp('2018-02-20 16:06:47.620339'), 1423),\n",
       " ('free', Timestamp('2018-02-20 16:30:30.620339'), 1339),\n",
       " ('busy', Timestamp('2018-02-20 16:52:49.620339'), 862),\n",
       " ('free', Timestamp('2018-02-20 17:07:11.620339'), 556),\n",
       " ('busy', Timestamp('2018-02-20 17:16:27.620339'), 3820),\n",
       " ('free', Timestamp('2018-02-20 18:20:07.620339'), 718),\n",
       " ('enroute', Timestamp('2018-02-20 18:32:05.620339'), 1683),\n",
       " ('free', Timestamp('2018-02-20 19:00:08.620339'), 340),\n",
       " ('busy', Timestamp('2018-02-20 19:05:48.620339'), 1714),\n",
       " ('free', Timestamp('2018-02-20 19:34:22.620339'), 2234),\n",
       " ('busy', Timestamp('2018-02-20 20:11:36.620339'), 5740),\n",
       " ('free', Timestamp('2018-02-20 21:47:16.620339'), 985),\n",
       " ('enroute', Timestamp('2018-02-20 22:03:41.620339'), 5864),\n",
       " ('free', Timestamp('2018-02-20 23:41:25.620339'), 5782),\n",
       " ('enroute', Timestamp('2018-02-21 01:17:47.620339'), 803),\n",
       " ('free', Timestamp('2018-02-21 01:31:10.620339'), 2148),\n",
       " ('busy', Timestamp('2018-02-21 02:06:58.620339'), 791),\n",
       " ('free', Timestamp('2018-02-21 02:20:09.620339'), 3422),\n",
       " ('enroute', Timestamp('2018-02-21 03:17:11.620339'), 1844),\n",
       " ('ontrip', Timestamp('2018-02-21 03:47:55.620339'), 983),\n",
       " ('free', Timestamp('2018-02-21 04:04:18.620339'), 2725),\n",
       " ('busy', Timestamp('2018-02-21 04:49:43.620339'), 2250),\n",
       " ('free', Timestamp('2018-02-21 05:27:13.620339'), 2548),\n",
       " ('enroute', Timestamp('2018-02-21 06:09:41.620339'), 2461),\n",
       " ('ontrip', Timestamp('2018-02-21 06:50:42.620339'), 844),\n",
       " ('free', Timestamp('2018-02-21 07:04:46.620339'), 5823),\n",
       " ('busy', Timestamp('2018-02-21 08:41:49.620339'), 1377),\n",
       " ('free', Timestamp('2018-02-21 09:04:46.620339'), 3255),\n",
       " ('busy', Timestamp('2018-02-21 09:59:01.620339'), 3995),\n",
       " ('free', Timestamp('2018-02-21 11:05:36.620339'), 1143),\n",
       " ('enroute', Timestamp('2018-02-21 11:24:39.620339'), 965),\n",
       " ('ontrip', Timestamp('2018-02-21 11:40:44.620339'), 2982),\n",
       " ('free', Timestamp('2018-02-21 12:30:26.620339'), 2140),\n",
       " ('busy', Timestamp('2018-02-21 13:06:06.620339'), 3558),\n",
       " ('free', Timestamp('2018-02-21 14:05:24.620339'), 676),\n",
       " ('busy', Timestamp('2018-02-21 14:16:40.620339'), 5387),\n",
       " ('free', Timestamp('2018-02-21 15:46:27.620339'), 4711),\n",
       " ('busy', Timestamp('2018-02-21 17:04:58.620339'), 660),\n",
       " ('free', Timestamp('2018-02-21 17:15:58.620339'), 5721),\n",
       " ('busy', Timestamp('2018-02-21 18:51:19.620339'), 1769),\n",
       " ('free', Timestamp('2018-02-21 19:20:48.620339'), 3593),\n",
       " ('busy', Timestamp('2018-02-21 20:20:41.620339'), 3884),\n",
       " ('free', Timestamp('2018-02-21 21:25:25.620339'), 4808),\n",
       " ('busy', Timestamp('2018-02-21 22:45:33.620339'), 4244),\n",
       " ('free', Timestamp('2018-02-21 23:56:17.620339'), 3396),\n",
       " ('enroute', Timestamp('2018-02-22 00:52:53.620339'), 456),\n",
       " ('ontrip', Timestamp('2018-02-22 01:00:29.620339'), 475),\n",
       " ('free', Timestamp('2018-02-22 01:08:24.620339'), 1743),\n",
       " ('enroute', Timestamp('2018-02-22 01:37:27.620339'), 4480),\n",
       " ('ontrip', Timestamp('2018-02-22 02:52:07.620339'), 1210),\n",
       " ('free', Timestamp('2018-02-22 03:12:17.620339'), 2364),\n",
       " ('enroute', Timestamp('2018-02-22 03:51:41.620339'), 5145),\n",
       " ('free', Timestamp('2018-02-22 05:17:26.620339'), 891),\n",
       " ('enroute', Timestamp('2018-02-22 05:32:17.620339'), 1960),\n",
       " ('ontrip', Timestamp('2018-02-22 06:04:57.620339'), 15),\n",
       " ('free', Timestamp('2018-02-22 06:05:12.620339'), 798),\n",
       " ('busy', Timestamp('2018-02-22 06:18:30.620339'), 815),\n",
       " ('free', Timestamp('2018-02-22 06:32:05.620339'), 1049),\n",
       " ('enroute', Timestamp('2018-02-22 06:49:34.620339'), 2195),\n",
       " ('ontrip', Timestamp('2018-02-22 07:26:09.620339'), 5527),\n",
       " ('free', Timestamp('2018-02-22 08:58:16.620339'), 1643),\n",
       " ('enroute', Timestamp('2018-02-22 09:25:39.620339'), 3314),\n",
       " ('ontrip', Timestamp('2018-02-22 10:20:53.620339'), 1968),\n",
       " ('free', Timestamp('2018-02-22 10:53:41.620339'), 427),\n",
       " ('enroute', Timestamp('2018-02-22 11:00:48.620339'), 261),\n",
       " ('ontrip', Timestamp('2018-02-22 11:05:09.620339'), 1198),\n",
       " ('free', Timestamp('2018-02-22 11:25:07.620339'), 204),\n",
       " ('enroute', Timestamp('2018-02-22 11:28:31.620339'), 2035),\n",
       " ('free', Timestamp('2018-02-22 12:02:26.620339'), 3001),\n",
       " ('enroute', Timestamp('2018-02-22 12:52:27.620339'), 2072),\n",
       " ('ontrip', Timestamp('2018-02-22 13:26:59.620339'), 4662),\n",
       " ('free', Timestamp('2018-02-22 14:44:41.620339'), 3755),\n",
       " ('enroute', Timestamp('2018-02-22 15:47:16.620339'), 4297),\n",
       " ('free', Timestamp('2018-02-22 16:58:53.620339'), 2763),\n",
       " ('enroute', Timestamp('2018-02-22 17:44:56.620339'), 4038),\n",
       " ('ontrip', Timestamp('2018-02-22 18:52:14.620339'), 5835),\n",
       " ('free', Timestamp('2018-02-22 20:29:29.620339'), 2285),\n",
       " ('busy', Timestamp('2018-02-22 21:07:34.620339'), 5198),\n",
       " ('free', Timestamp('2018-02-22 22:34:12.620339'), 945),\n",
       " ('enroute', Timestamp('2018-02-22 22:49:57.620339'), 5484),\n",
       " ('free', Timestamp('2018-02-23 00:21:21.620339'), 711),\n",
       " ('busy', Timestamp('2018-02-23 00:33:12.620339'), 4784),\n",
       " ('free', Timestamp('2018-02-23 01:52:56.620339'), 1684),\n",
       " ('busy', Timestamp('2018-02-23 02:21:00.620339'), 542),\n",
       " ('free', Timestamp('2018-02-23 02:30:02.620339'), 2138),\n",
       " ('busy', Timestamp('2018-02-23 03:05:40.620339'), 1141),\n",
       " ('free', Timestamp('2018-02-23 03:24:41.620339'), 506),\n",
       " ('enroute', Timestamp('2018-02-23 03:33:07.620339'), 2508),\n",
       " ('free', Timestamp('2018-02-23 04:14:55.620339'), 2916),\n",
       " ('enroute', Timestamp('2018-02-23 05:03:31.620339'), 3128),\n",
       " ('free', Timestamp('2018-02-23 05:55:39.620339'), 675),\n",
       " ('busy', Timestamp('2018-02-23 06:06:54.620339'), 12),\n",
       " ('free', Timestamp('2018-02-23 06:07:06.620339'), 3370),\n",
       " ('enroute', Timestamp('2018-02-23 07:03:16.620339'), 5261),\n",
       " ('free', Timestamp('2018-02-23 08:30:57.620339'), 3237),\n",
       " ('enroute', Timestamp('2018-02-23 09:24:54.620339'), 4461),\n",
       " ('free', Timestamp('2018-02-23 10:39:15.620339'), 2954),\n",
       " ('enroute', Timestamp('2018-02-23 11:28:29.620339'), 2913),\n",
       " ('free', Timestamp('2018-02-23 12:17:02.620339'), 2013),\n",
       " ('busy', Timestamp('2018-02-23 12:50:35.620339'), 5805),\n",
       " ('free', Timestamp('2018-02-23 14:27:20.620339'), 5875),\n",
       " ('busy', Timestamp('2018-02-23 16:05:15.620339'), 2451),\n",
       " ('free', Timestamp('2018-02-23 16:46:06.620339'), 3495),\n",
       " ('busy', Timestamp('2018-02-23 17:44:21.620339'), 1966),\n",
       " ('free', Timestamp('2018-02-23 18:17:07.620339'), 4231),\n",
       " ('busy', Timestamp('2018-02-23 19:27:38.620339'), 3691),\n",
       " ('free', Timestamp('2018-02-23 20:29:09.620339'), 5492),\n",
       " ('enroute', Timestamp('2018-02-23 22:00:41.620339'), 3889),\n",
       " ('ontrip', Timestamp('2018-02-23 23:05:30.620339'), 4565),\n",
       " ('free', Timestamp('2018-02-24 00:21:35.620339'), 4430),\n",
       " ('busy', Timestamp('2018-02-24 01:35:25.620339'), 1588),\n",
       " ('free', Timestamp('2018-02-24 02:01:53.620339'), 1171),\n",
       " ('enroute', Timestamp('2018-02-24 02:21:24.620339'), 46),\n",
       " ('ontrip', Timestamp('2018-02-24 02:22:10.620339'), 3301),\n",
       " ('free', Timestamp('2018-02-24 03:17:11.620339'), 367),\n",
       " ('busy', Timestamp('2018-02-24 03:23:18.620339'), 2033),\n",
       " ('free', Timestamp('2018-02-24 03:57:11.620339'), 4578),\n",
       " ('enroute', Timestamp('2018-02-24 05:13:29.620339'), 5512),\n",
       " ('free', Timestamp('2018-02-24 06:45:21.620339'), 4987),\n",
       " ('enroute', Timestamp('2018-02-24 08:08:28.620339'), 4410),\n",
       " ('free', Timestamp('2018-02-24 09:21:58.620339'), 4016),\n",
       " ('enroute', Timestamp('2018-02-24 10:28:54.620339'), 2925),\n",
       " ('free', Timestamp('2018-02-24 11:17:39.620339'), 2492),\n",
       " ('busy', Timestamp('2018-02-24 11:59:11.620339'), 2226),\n",
       " ('free', Timestamp('2018-02-24 12:36:17.620339'), 4236),\n",
       " ('enroute', Timestamp('2018-02-24 13:46:53.620339'), 5269),\n",
       " ('ontrip', Timestamp('2018-02-24 15:14:42.620339'), 4365),\n",
       " ('free', Timestamp('2018-02-24 16:27:27.620339'), 1396),\n",
       " ('enroute', Timestamp('2018-02-24 16:50:43.620339'), 5751),\n",
       " ('ontrip', Timestamp('2018-02-24 18:26:34.620339'), 4394),\n",
       " ('free', Timestamp('2018-02-24 19:39:48.620339'), 3910),\n",
       " ('enroute', Timestamp('2018-02-24 20:44:58.620339'), 2951),\n",
       " ('ontrip', Timestamp('2018-02-24 21:34:09.620339'), 971),\n",
       " ('free', Timestamp('2018-02-24 21:50:20.620339'), 3619),\n",
       " ('enroute', Timestamp('2018-02-24 22:50:39.620339'), 4342),\n",
       " ('ontrip', Timestamp('2018-02-25 00:03:01.620339'), None)]"
      ]
     },
     "execution_count": 19,
     "metadata": {},
     "output_type": "execute_result"
    }
   ],
   "source": [
    "df_grouped.driver_info[0]"
   ]
  },
  {
   "cell_type": "markdown",
   "metadata": {},
   "source": [
    "    4. Используя функцию neighbors, написать функцию, которая сформирует из списка driver_info список поездок с информацией о длительности поездки и эффективности (duration_ontrip, efficiency)."
   ]
  },
  {
   "cell_type": "code",
   "execution_count": 21,
   "metadata": {},
   "outputs": [],
   "source": [
    "def ifnull(var, val):\n",
    "      if var is None:\n",
    "        return val\n",
    "      return var"
   ]
  },
  {
   "cell_type": "code",
   "execution_count": 167,
   "metadata": {},
   "outputs": [],
   "source": [
    "TIMEOUT = 1600\n",
    "\n",
    "def collapse_statuses(driver_info):\n",
    "    count_free = []\n",
    "    count_ontrip = []\n",
    "    count_enroute = []\n",
    "\n",
    "    for i, j, k in neighbors(driver_info):\n",
    "    \n",
    "        a = (\"\", 0, 0.)\n",
    "        i = ifnull(i, a)\n",
    "        k = ifnull(k, a)\n",
    "        j = ifnull(j, a)\n",
    "        \n",
    "        if i[0]== \"free\" and k[0]==\"free\" and j[2] <= TIMEOUT:\n",
    "       \n",
    "            count_free.append(i[2])\n",
    "            count_free.append(k[2])\n",
    "\n",
    "        elif i[0] == \"free\" and k[0]!=\"free\" and j[2]> TIMEOUT:\n",
    "\n",
    "            count_free.append(ifnull(i[2],0))\n",
    "        elif i[0] == \"ontrip\":\n",
    "            count_ontrip.append(i[2])\n",
    "        elif i[0] == \"enroute\" and j[0]!=\"free\":\n",
    "            count_enroute.append(i[2])\n",
    "\n",
    "    z = [(sum(count_ontrip), sum(count_ontrip)/(sum(count_free)+sum(count_enroute)+sum(count_ontrip)))]\n",
    "    return z"
   ]
  },
  {
   "cell_type": "code",
   "execution_count": 168,
   "metadata": {},
   "outputs": [],
   "source": [
    "sample_driver_info = [(\"free\", datetime(2018, 4, 2, 0, 19), 2640.0), \n",
    "                          (\"busy\", datetime(2018, 4, 2, 1, 3), 1660.0),\n",
    "                          (\"free\", datetime(2018, 4, 2, 1, 30, 40), 2050.0),\n",
    "                          (\"enroute\", datetime(2018, 4, 2, 2, 4, 50), 70.0),\n",
    "                          (\"free\", datetime(2018, 4, 2, 2, 6), 500.0),\n",
    "                          (\"enroute\", datetime(2018, 4, 2, 2, 14, 20), 520.0),\n",
    "                          (\"ontrip\", datetime(2018, 4, 2, 2, 23), 3060.0),\n",
    "                          (\"free\", datetime(2018, 4, 2, 3, 14), None)\n",
    "                         ]"
   ]
  },
  {
   "cell_type": "code",
   "execution_count": 169,
   "metadata": {},
   "outputs": [
    {
     "name": "stdout",
     "output_type": "stream",
     "text": [
      "('', 0.0, 'free', 2640.0, 'busy', 1660.0)\n",
      "('free', 2640.0, 'busy', 1660.0, 'free', 2050.0)\n",
      "('busy', 1660.0, 'free', 2050.0, 'enroute', 70.0)\n",
      "('free', 2050.0, 'enroute', 70.0, 'free', 500.0)\n",
      "1\n",
      "(2050.0, 500.0)\n",
      "('enroute', 70.0, 'free', 500.0, 'enroute', 520.0)\n",
      "('free', 500.0, 'enroute', 520.0, 'ontrip', 3060.0)\n",
      "('enroute', 520.0, 'ontrip', 3060.0, 'free', None)\n",
      "('ontrip', 3060.0, 'free', None, '', 0.0)\n",
      "[2050.0, 500.0]\n"
     ]
    }
   ],
   "source": [
    "count_free = []\n",
    "count_ontrip = []\n",
    "count_enroute = []\n",
    "\n",
    "for i, j, k in neighbors(sample_driver_info):\n",
    "    \n",
    "    a = (\"\", 0, 0.)\n",
    "    i = ifnull(i, a)\n",
    "    k = ifnull(k, a)\n",
    "    j = ifnull(j, a)\n",
    "    print(i[0], i[2], j[0],  j[2], k[0], k[2])\n",
    "    if i[0]== \"free\" and k[0]==\"free\" and j[2] <= TIMEOUT:\n",
    "        print(1)\n",
    "        count_free.append(i[2])\n",
    "        count_free.append(k[2])\n",
    "        print(i[2],k[2])\n",
    "    elif i[0] == \"free\" and k[0]!=\"free\" and j[2]> TIMEOUT:\n",
    "        print(2)\n",
    "        count_free.append(ifnull(i[2],0))\n",
    "    elif i[0] == \"ontrip\":\n",
    "        count_ontrip.append(i[2])\n",
    "    elif i[0] == \"enroute\" and j[0]!=\"free\":\n",
    "        count_enroute.append(i[2])\n",
    "print(count_free)\n",
    "z = [(sum(count_ontrip), sum(count_ontrip)/(sum(count_free)+sum(count_enroute)+sum(count_ontrip)))]"
   ]
  },
  {
   "cell_type": "code",
   "execution_count": 170,
   "metadata": {},
   "outputs": [
    {
     "data": {
      "text/plain": [
       "[(3060.0, 0.499184339314845)]"
      ]
     },
     "execution_count": 170,
     "metadata": {},
     "output_type": "execute_result"
    }
   ],
   "source": [
    "z"
   ]
  },
  {
   "cell_type": "code",
   "execution_count": 171,
   "metadata": {},
   "outputs": [],
   "source": [
    "# Check if test passes\n",
    "def test_collapse_statuses():\n",
    "    sample_driver_info = [(\"free\", datetime(2018, 4, 2, 0, 19), 2640.0), \n",
    "                          (\"busy\", datetime(2018, 4, 2, 1, 3), 1660.0),\n",
    "                          (\"free\", datetime(2018, 4, 2, 1, 30, 40), 2050.0),\n",
    "                          (\"enroute\", datetime(2018, 4, 2, 2, 4, 50), 70.0),\n",
    "                          (\"free\", datetime(2018, 4, 2, 2, 6), 500.0),\n",
    "                          (\"enroute\", datetime(2018, 4, 2, 2, 14, 20), 520.0),\n",
    "                          (\"ontrip\", datetime(2018, 4, 2, 2, 23), 3060.0),\n",
    "                          (\"free\", datetime(2018, 4, 2, 3, 14), None)\n",
    "                         ]\n",
    "    sample_driver_info_updated = [(3060.0, 3060.0 / (3060.0 + 520.0 + 500.0 + 2050.0))]\n",
    "    assert collapse_statuses(sample_driver_info) == sample_driver_info_updated\n",
    "\n",
    "test_collapse_statuses()"
   ]
  },
  {
   "cell_type": "code",
   "execution_count": 172,
   "metadata": {},
   "outputs": [
    {
     "ename": "IndexError",
     "evalue": "list index out of range",
     "output_type": "error",
     "traceback": [
      "\u001b[1;31m\u001b[0m",
      "\u001b[1;31mIndexError\u001b[0mTraceback (most recent call last)",
      "\u001b[1;32m<ipython-input-172-aa88084511d1>\u001b[0m in \u001b[0;36m<module>\u001b[1;34m()\u001b[0m\n\u001b[1;32m----> 1\u001b[1;33m \u001b[0mdf_grouped\u001b[0m\u001b[1;33m[\u001b[0m\u001b[1;34m\"driver_info\"\u001b[0m\u001b[1;33m]\u001b[0m \u001b[1;33m=\u001b[0m \u001b[0mdf_grouped\u001b[0m\u001b[1;33m.\u001b[0m\u001b[0mdriver_info\u001b[0m\u001b[1;33m.\u001b[0m\u001b[0mapply\u001b[0m\u001b[1;33m(\u001b[0m\u001b[0mcollapse_statuses\u001b[0m\u001b[1;33m)\u001b[0m\u001b[1;33m\u001b[0m\u001b[0m\n\u001b[0m",
      "\u001b[1;32mC:\\Users\\PPronchenko\\AppData\\Local\\Continuum\\anaconda2\\lib\\site-packages\\pandas\\core\\series.pyc\u001b[0m in \u001b[0;36mapply\u001b[1;34m(self, func, convert_dtype, args, **kwds)\u001b[0m\n\u001b[0;32m   3192\u001b[0m             \u001b[1;32melse\u001b[0m\u001b[1;33m:\u001b[0m\u001b[1;33m\u001b[0m\u001b[0m\n\u001b[0;32m   3193\u001b[0m                 \u001b[0mvalues\u001b[0m \u001b[1;33m=\u001b[0m \u001b[0mself\u001b[0m\u001b[1;33m.\u001b[0m\u001b[0mastype\u001b[0m\u001b[1;33m(\u001b[0m\u001b[0mobject\u001b[0m\u001b[1;33m)\u001b[0m\u001b[1;33m.\u001b[0m\u001b[0mvalues\u001b[0m\u001b[1;33m\u001b[0m\u001b[0m\n\u001b[1;32m-> 3194\u001b[1;33m                 \u001b[0mmapped\u001b[0m \u001b[1;33m=\u001b[0m \u001b[0mlib\u001b[0m\u001b[1;33m.\u001b[0m\u001b[0mmap_infer\u001b[0m\u001b[1;33m(\u001b[0m\u001b[0mvalues\u001b[0m\u001b[1;33m,\u001b[0m \u001b[0mf\u001b[0m\u001b[1;33m,\u001b[0m \u001b[0mconvert\u001b[0m\u001b[1;33m=\u001b[0m\u001b[0mconvert_dtype\u001b[0m\u001b[1;33m)\u001b[0m\u001b[1;33m\u001b[0m\u001b[0m\n\u001b[0m\u001b[0;32m   3195\u001b[0m \u001b[1;33m\u001b[0m\u001b[0m\n\u001b[0;32m   3196\u001b[0m         \u001b[1;32mif\u001b[0m \u001b[0mlen\u001b[0m\u001b[1;33m(\u001b[0m\u001b[0mmapped\u001b[0m\u001b[1;33m)\u001b[0m \u001b[1;32mand\u001b[0m \u001b[0misinstance\u001b[0m\u001b[1;33m(\u001b[0m\u001b[0mmapped\u001b[0m\u001b[1;33m[\u001b[0m\u001b[1;36m0\u001b[0m\u001b[1;33m]\u001b[0m\u001b[1;33m,\u001b[0m \u001b[0mSeries\u001b[0m\u001b[1;33m)\u001b[0m\u001b[1;33m:\u001b[0m\u001b[1;33m\u001b[0m\u001b[0m\n",
      "\u001b[1;32mpandas/_libs/src\\inference.pyx\u001b[0m in \u001b[0;36mpandas._libs.lib.map_infer\u001b[1;34m()\u001b[0m\n",
      "\u001b[1;32m<ipython-input-167-1c3304affb4a>\u001b[0m in \u001b[0;36mcollapse_statuses\u001b[1;34m(driver_info)\u001b[0m\n\u001b[0;32m      6\u001b[0m     \u001b[0mcount_enroute\u001b[0m \u001b[1;33m=\u001b[0m \u001b[1;33m[\u001b[0m\u001b[1;33m]\u001b[0m\u001b[1;33m\u001b[0m\u001b[0m\n\u001b[0;32m      7\u001b[0m \u001b[1;33m\u001b[0m\u001b[0m\n\u001b[1;32m----> 8\u001b[1;33m     \u001b[1;32mfor\u001b[0m \u001b[0mi\u001b[0m\u001b[1;33m,\u001b[0m \u001b[0mj\u001b[0m\u001b[1;33m,\u001b[0m \u001b[0mk\u001b[0m \u001b[1;32min\u001b[0m \u001b[0mneighbors\u001b[0m\u001b[1;33m(\u001b[0m\u001b[0mdriver_info\u001b[0m\u001b[1;33m)\u001b[0m\u001b[1;33m:\u001b[0m\u001b[1;33m\u001b[0m\u001b[0m\n\u001b[0m\u001b[0;32m      9\u001b[0m \u001b[1;33m\u001b[0m\u001b[0m\n\u001b[0;32m     10\u001b[0m         \u001b[0ma\u001b[0m \u001b[1;33m=\u001b[0m \u001b[1;33m(\u001b[0m\u001b[1;34m\"\"\u001b[0m\u001b[1;33m,\u001b[0m \u001b[1;36m0\u001b[0m\u001b[1;33m,\u001b[0m \u001b[1;36m0.\u001b[0m\u001b[1;33m)\u001b[0m\u001b[1;33m\u001b[0m\u001b[0m\n",
      "\u001b[1;32m<ipython-input-2-58aaebcd329f>\u001b[0m in \u001b[0;36mneighbors\u001b[1;34m(iterable)\u001b[0m\n\u001b[0;32m      7\u001b[0m     \u001b[1;32mfor\u001b[0m \u001b[0mi\u001b[0m \u001b[1;32min\u001b[0m \u001b[0mrange\u001b[0m\u001b[1;33m(\u001b[0m\u001b[0mlen\u001b[0m\u001b[1;33m(\u001b[0m\u001b[0mlist\u001b[0m\u001b[1;33m(\u001b[0m\u001b[0miterable\u001b[0m\u001b[1;33m)\u001b[0m\u001b[1;33m)\u001b[0m\u001b[1;33m)\u001b[0m\u001b[1;33m:\u001b[0m\u001b[1;33m\u001b[0m\u001b[0m\n\u001b[0;32m      8\u001b[0m         \u001b[1;32mif\u001b[0m \u001b[0mi\u001b[0m \u001b[1;33m==\u001b[0m \u001b[1;36m0\u001b[0m\u001b[1;33m:\u001b[0m\u001b[1;33m\u001b[0m\u001b[0m\n\u001b[1;32m----> 9\u001b[1;33m             \u001b[0mprv\u001b[0m\u001b[1;33m,\u001b[0m \u001b[0mcur\u001b[0m\u001b[1;33m,\u001b[0m \u001b[0mnxt\u001b[0m \u001b[1;33m=\u001b[0m \u001b[1;33m[\u001b[0m\u001b[0mNone\u001b[0m\u001b[1;33m,\u001b[0m \u001b[0miterable\u001b[0m\u001b[1;33m[\u001b[0m\u001b[1;36m0\u001b[0m\u001b[1;33m]\u001b[0m\u001b[1;33m,\u001b[0m \u001b[0miterable\u001b[0m\u001b[1;33m[\u001b[0m\u001b[1;36m1\u001b[0m\u001b[1;33m]\u001b[0m\u001b[1;33m]\u001b[0m\u001b[1;33m\u001b[0m\u001b[0m\n\u001b[0m\u001b[0;32m     10\u001b[0m         \u001b[1;32melif\u001b[0m \u001b[0mi\u001b[0m \u001b[1;33m==\u001b[0m \u001b[1;33m(\u001b[0m\u001b[0mlen\u001b[0m\u001b[1;33m(\u001b[0m\u001b[0mlist\u001b[0m\u001b[1;33m(\u001b[0m\u001b[0miterable\u001b[0m\u001b[1;33m)\u001b[0m\u001b[1;33m)\u001b[0m\u001b[1;33m-\u001b[0m\u001b[1;36m1\u001b[0m\u001b[1;33m)\u001b[0m\u001b[1;33m:\u001b[0m\u001b[1;33m\u001b[0m\u001b[0m\n\u001b[0;32m     11\u001b[0m             \u001b[0mprv\u001b[0m\u001b[1;33m,\u001b[0m \u001b[0mcur\u001b[0m\u001b[1;33m,\u001b[0m \u001b[0mnxt\u001b[0m \u001b[1;33m=\u001b[0m \u001b[1;33m[\u001b[0m\u001b[0miterable\u001b[0m\u001b[1;33m[\u001b[0m\u001b[0mi\u001b[0m\u001b[1;33m-\u001b[0m\u001b[1;36m1\u001b[0m\u001b[1;33m]\u001b[0m\u001b[1;33m,\u001b[0m \u001b[0miterable\u001b[0m\u001b[1;33m[\u001b[0m\u001b[0mi\u001b[0m\u001b[1;33m]\u001b[0m \u001b[1;33m,\u001b[0m \u001b[0mNone\u001b[0m\u001b[1;33m]\u001b[0m\u001b[1;33m\u001b[0m\u001b[0m\n",
      "\u001b[1;31mIndexError\u001b[0m: list index out of range"
     ]
    }
   ],
   "source": [
    "df_grouped[\"driver_info\"] = df_grouped.driver_info.apply(collapse_statuses)"
   ]
  },
  {
   "cell_type": "code",
   "execution_count": 173,
   "metadata": {},
   "outputs": [
    {
     "data": {
      "text/html": [
       "<div>\n",
       "<style scoped>\n",
       "    .dataframe tbody tr th:only-of-type {\n",
       "        vertical-align: middle;\n",
       "    }\n",
       "\n",
       "    .dataframe tbody tr th {\n",
       "        vertical-align: top;\n",
       "    }\n",
       "\n",
       "    .dataframe thead th {\n",
       "        text-align: right;\n",
       "    }\n",
       "</style>\n",
       "<table border=\"1\" class=\"dataframe\">\n",
       "  <thead>\n",
       "    <tr style=\"text-align: right;\">\n",
       "      <th></th>\n",
       "      <th>driver_id</th>\n",
       "      <th>driver_info</th>\n",
       "    </tr>\n",
       "  </thead>\n",
       "  <tbody>\n",
       "    <tr>\n",
       "      <th>0</th>\n",
       "      <td>8f174ffd446c456eaf3cca0915d0368d</td>\n",
       "      <td>[(3060.0, 0.499184339315)]</td>\n",
       "    </tr>\n",
       "    <tr>\n",
       "      <th>1</th>\n",
       "      <td>dc66190e523943f5a83bdd393587439c</td>\n",
       "      <td>[(3060.0, 0.499184339315)]</td>\n",
       "    </tr>\n",
       "    <tr>\n",
       "      <th>2</th>\n",
       "      <td>17833e71aa58494ea0cb0a53be840c4e</td>\n",
       "      <td>[(3060.0, 0.499184339315)]</td>\n",
       "    </tr>\n",
       "    <tr>\n",
       "      <th>3</th>\n",
       "      <td>63f6aaaf48844d1e83e9fc78716c601e</td>\n",
       "      <td>[(3060.0, 0.499184339315)]</td>\n",
       "    </tr>\n",
       "    <tr>\n",
       "      <th>4</th>\n",
       "      <td>78938964fed443cf85879cbf71c6ea56</td>\n",
       "      <td>[(3060.0, 0.499184339315)]</td>\n",
       "    </tr>\n",
       "  </tbody>\n",
       "</table>\n",
       "</div>"
      ],
      "text/plain": [
       "                          driver_id                 driver_info\n",
       "0  8f174ffd446c456eaf3cca0915d0368d  [(3060.0, 0.499184339315)]\n",
       "1  dc66190e523943f5a83bdd393587439c  [(3060.0, 0.499184339315)]\n",
       "2  17833e71aa58494ea0cb0a53be840c4e  [(3060.0, 0.499184339315)]\n",
       "3  63f6aaaf48844d1e83e9fc78716c601e  [(3060.0, 0.499184339315)]\n",
       "4  78938964fed443cf85879cbf71c6ea56  [(3060.0, 0.499184339315)]"
      ]
     },
     "execution_count": 173,
     "metadata": {},
     "output_type": "execute_result"
    }
   ],
   "source": [
    "df_grouped.head()"
   ]
  },
  {
   "cell_type": "markdown",
   "metadata": {},
   "source": [
    "    5. Нарисовать и проинтерпретировать зависимость между длительностью поездки и эффективностью.\n",
    "    Подсказка: требуется сделать обратное преобразование из таблицы со строками на уровне водителя в таблицу со строками на уровне поездки."
   ]
  },
  {
   "cell_type": "code",
   "execution_count": null,
   "metadata": {},
   "outputs": [],
   "source": []
  }
 ],
 "metadata": {
  "kernelspec": {
   "display_name": "Python 2",
   "language": "python",
   "name": "python2"
  },
  "language_info": {
   "codemirror_mode": {
    "name": "ipython",
    "version": 2
   },
   "file_extension": ".py",
   "mimetype": "text/x-python",
   "name": "python",
   "nbconvert_exporter": "python",
   "pygments_lexer": "ipython2",
   "version": "2.7.15"
  }
 },
 "nbformat": 4,
 "nbformat_minor": 2
}
