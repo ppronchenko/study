{
 "cells": [
  {
   "cell_type": "code",
   "execution_count": 1,
   "metadata": {},
   "outputs": [],
   "source": [
    "%matplotlib inline\n",
    "import pandas as pd\n",
    "import seaborn as sns\n",
    "from datetime import datetime\n",
    "from datetime import timedelta"
   ]
  },
  {
   "cell_type": "markdown",
   "metadata": {},
   "source": [
    "Вводные\n",
    "\n",
    "Водитель может находиться в 4 возможных статусах:\n",
    "    * free -- доступен для нового заказа\n",
    "    * enroute -- едет на заказ\n",
    "    * ontrip -- выполняет заказ\n",
    "    * busy -- недоступен для нового заказа\n",
    "\n",
    "Возможные переходы из одного состояние в другое определены как:\n",
    "    * free -> [free, enroute, busy]\n",
    "    * enroute -> [free, ontrip]\n",
    "    * ontrip -> [free]\n",
    "    * busy -> [free]\n",
    "\n",
    "Почему переходы определяются таким образом:\n",
    "1. Из состояния free можно перейти в\n",
    "    * free -- если водитель ушел в офлайн и заново вышел на линию, тогда подряд будет две записи со статусом free\n",
    "    * enroute -- если водитель принял заказ, то переходит в статус enroute и едет к клиенту\n",
    "    * busy -- если водитель нажал кнопку \"Занят\" в таксометре (пошел на обед и т.д.)\n",
    "2. Из состояния enroute можно перейти в \n",
    "    * free -- если клиент или водитель отменил заказ\n",
    "    * ontrip -- если водитель приехал к клиенту и начал выполнять заказ\n",
    "3. Из состояния ontrip можно перейти только в free (после выполнения заказа)\n",
    "4. Из состояния busy можно перейти только в free\n",
    "\n",
    "Эффективность на поездке -- это время с клиентом в машине (ontrip), деленное на сумму длительностей всех статусов, связанных с поездкой (sum(free) + enroute + ontrip), где sum(free) -- время простоя.\n",
    "\n",
    "Время простоя -- это сумма всех статусов free, предшествующих поездке. Суммируются все статусы free, идущие подряд, а также те, которые были прерваны короткими статусами busy или enroute (короткий статус == меньше какого-то TIMEOUT'а).\n",
    "\n",
    "Имеется набор данных со статусами водителей, по которому необходимо построить зависимость длительности поездки от эффективности.\n",
    "    * driver_id -- id водителя\n",
    "    * status -- один из статусов\n",
    "    * dttm -- время начала статуса\n",
    "\n",
    "Примечания:\n",
    "    * Поездка считается только при наличии статуса ontrip\n",
    "    * Тесты написаны для python 2"
   ]
  },
  {
   "cell_type": "markdown",
   "metadata": {},
   "source": [
    "    1. Написать функцию-генератор, которая будет отдавать соседние элементы в цикле. Функция понадобится для итерирования по записям водителя и проверки соседних статусов по условиям. Не забудьте проверить, что тесты проходят без ошибок (см. test_neighbors)."
   ]
  },
  {
   "cell_type": "code",
   "execution_count": 2,
   "metadata": {},
   "outputs": [],
   "source": [
    "from itertools import tee, islice, chain\n",
    "\n",
    "def neighbors(iterable):\n",
    "    # Write generator function which yields \n",
    "    # previous, current and next values in iterable list.\n",
    "    # ... type your code here ...\n",
    "    for i in range(len(list(iterable))):\n",
    "        if i == 0:\n",
    "            prv, cur, nxt = [None, iterable[0], iterable[1]]\n",
    "        elif i == (len(list(iterable))-1):\n",
    "            prv, cur, nxt = [iterable[i-1], iterable[i] , None]\n",
    "        else:    \n",
    "            prv, cur, nxt = [iterable[i-1], iterable[i] , iterable[i+1]]\n",
    "        yield prv, cur, nxt"
   ]
  },
  {
   "cell_type": "code",
   "execution_count": 3,
   "metadata": {},
   "outputs": [
    {
     "name": "stdout",
     "output_type": "stream",
     "text": [
      "None 0 1\n",
      "0 1 2\n",
      "1 2 None\n"
     ]
    }
   ],
   "source": [
    "iterable = range(3)\n",
    "for i in range(len(list(iterable))):\n",
    "        \n",
    "        if i == 0:\n",
    "            prv, cur, nxt = [None, iterable[0], iterable[1]]\n",
    "        elif i == (len(list(iterable))-1):\n",
    "            prv, cur, nxt = [iterable[i-1], iterable[i] , None]\n",
    "        else:    \n",
    "            prv, cur, nxt = [iterable[i-1], iterable[i] , iterable[i+1]]\n",
    "        print (prv,cur, nxt)"
   ]
  },
  {
   "cell_type": "code",
   "execution_count": 4,
   "metadata": {},
   "outputs": [
    {
     "name": "stdout",
     "output_type": "stream",
     "text": [
      "(None, 0, 1)\n",
      "(0, 1, 2)\n",
      "(1, 2, None)\n"
     ]
    }
   ],
   "source": [
    "for i in neighbors(iterable):\n",
    "    print(i)"
   ]
  },
  {
   "cell_type": "code",
   "execution_count": 5,
   "metadata": {},
   "outputs": [],
   "source": [
    "# Check if test passes\n",
    "def test_neighbors():\n",
    "    test_neighbors = neighbors( range(2) )\n",
    "    assert next(test_neighbors) == (None, 0, 1)\n",
    "\n",
    "test_neighbors()"
   ]
  },
  {
   "cell_type": "markdown",
   "metadata": {},
   "source": [
    "    2. Сгруппировать данные на уровне водителя таким образом, чтобы в одной строке находились все его записи со статусами и началом статуса списком:"
   ]
  },
  {
   "cell_type": "markdown",
   "metadata": {},
   "source": [
    "Формат исходной таблицы:\n",
    "<table>\n",
    "<tr><td>driver_id</td><td>status</td><td>dttm</td></tr>\n",
    "<tr><td>9f8f9bf3ee8f4874873288c246bd2d05</td><td>free</td><td>2018-02-04 00:19</td></tr>\n",
    "<tr><td>9f8f9bf3ee8f4874873288c246bd2d05</td><td>busy</td><td>2018-02-04 01:03</td></tr>\n",
    "<tr><td>8f174ffd446c456eaf3cca0915d0368d</td><td>free</td><td>2018-02-03 15:43</td></tr>\n",
    "<tr><td>8f174ffd446c456eaf3cca0915d0368d</td><td>enroute</td><td>2018-02-03 17:02</td></tr>\n",
    "<tr><td>...</td><td>...</td><td>...</td></tr>\n",
    "</table>"
   ]
  },
  {
   "cell_type": "markdown",
   "metadata": {},
   "source": [
    "Формат сгруппированной таблицы:\n",
    "<table>\n",
    "<tr><td>driver_id</td><td>driver_info</td></tr>\n",
    "<tr><td>9f8f9bf3ee8f4874873288c246bd2d05</td><td>[(\"free\", 2018-02-04 00:19), (\"busy\", 2018-02-04 01:03)]</td></tr>\n",
    "<tr><td>8f174ffd446c456eaf3cca0915d0368d</td><td>[(\"free\", 2018-02-03 15:43), (\"enroute\", 2018-02-03 17:02) ...]</td></tr>\n",
    "</table>"
   ]
  },
  {
   "cell_type": "code",
   "execution_count": 6,
   "metadata": {},
   "outputs": [],
   "source": [
    "df = pd.read_csv(\"dataset.csv\", parse_dates=[\"dttm\"])\n",
    "drivers_list = df.driver_id.unique()"
   ]
  },
  {
   "cell_type": "code",
   "execution_count": 7,
   "metadata": {},
   "outputs": [],
   "source": [
    "big_list = []\n",
    "for i in drivers_list:\n",
    "  \n",
    "    df1 = df[df['driver_id'] == i]\n",
    "    \n",
    "    list1 = []\n",
    "    for j in df1.values:\n",
    "        list1.append((j[0], j[2]))\n",
    "    big_list.append([i, list1])"
   ]
  },
  {
   "cell_type": "code",
   "execution_count": 8,
   "metadata": {},
   "outputs": [],
   "source": [
    "df_grouped = pd.DataFrame(big_list, columns=['driver_id', 'driver_info'])"
   ]
  },
  {
   "cell_type": "code",
   "execution_count": 9,
   "metadata": {},
   "outputs": [
    {
     "data": {
      "text/html": [
       "<div>\n",
       "<style scoped>\n",
       "    .dataframe tbody tr th:only-of-type {\n",
       "        vertical-align: middle;\n",
       "    }\n",
       "\n",
       "    .dataframe tbody tr th {\n",
       "        vertical-align: top;\n",
       "    }\n",
       "\n",
       "    .dataframe thead th {\n",
       "        text-align: right;\n",
       "    }\n",
       "</style>\n",
       "<table border=\"1\" class=\"dataframe\">\n",
       "  <thead>\n",
       "    <tr style=\"text-align: right;\">\n",
       "      <th></th>\n",
       "      <th>driver_id</th>\n",
       "      <th>driver_info</th>\n",
       "    </tr>\n",
       "  </thead>\n",
       "  <tbody>\n",
       "    <tr>\n",
       "      <th>0</th>\n",
       "      <td>8f174ffd446c456eaf3cca0915d0368d</td>\n",
       "      <td>[(free, 2018-02-18 20:51:22.620339), (enroute,...</td>\n",
       "    </tr>\n",
       "    <tr>\n",
       "      <th>1</th>\n",
       "      <td>dc66190e523943f5a83bdd393587439c</td>\n",
       "      <td>[(free, 2018-02-18 20:02:47.620339), (enroute,...</td>\n",
       "    </tr>\n",
       "    <tr>\n",
       "      <th>2</th>\n",
       "      <td>17833e71aa58494ea0cb0a53be840c4e</td>\n",
       "      <td>[(free, 2018-02-18 20:19:26.620339), (enroute,...</td>\n",
       "    </tr>\n",
       "    <tr>\n",
       "      <th>3</th>\n",
       "      <td>63f6aaaf48844d1e83e9fc78716c601e</td>\n",
       "      <td>[(free, 2018-02-18 20:52:11.620339), (enroute,...</td>\n",
       "    </tr>\n",
       "    <tr>\n",
       "      <th>4</th>\n",
       "      <td>78938964fed443cf85879cbf71c6ea56</td>\n",
       "      <td>[(free, 2018-02-18 20:08:57.620339), (busy, 20...</td>\n",
       "    </tr>\n",
       "  </tbody>\n",
       "</table>\n",
       "</div>"
      ],
      "text/plain": [
       "                          driver_id  \\\n",
       "0  8f174ffd446c456eaf3cca0915d0368d   \n",
       "1  dc66190e523943f5a83bdd393587439c   \n",
       "2  17833e71aa58494ea0cb0a53be840c4e   \n",
       "3  63f6aaaf48844d1e83e9fc78716c601e   \n",
       "4  78938964fed443cf85879cbf71c6ea56   \n",
       "\n",
       "                                         driver_info  \n",
       "0  [(free, 2018-02-18 20:51:22.620339), (enroute,...  \n",
       "1  [(free, 2018-02-18 20:02:47.620339), (enroute,...  \n",
       "2  [(free, 2018-02-18 20:19:26.620339), (enroute,...  \n",
       "3  [(free, 2018-02-18 20:52:11.620339), (enroute,...  \n",
       "4  [(free, 2018-02-18 20:08:57.620339), (busy, 20...  "
      ]
     },
     "execution_count": 9,
     "metadata": {},
     "output_type": "execute_result"
    }
   ],
   "source": [
    "df_grouped.head()"
   ]
  },
  {
   "cell_type": "markdown",
   "metadata": {},
   "source": [
    "    3. Используя функцию neighbors, написать функцию, которая для каждой записи в списке driver_info посчитает ее длительность."
   ]
  },
  {
   "cell_type": "code",
   "execution_count": 10,
   "metadata": {},
   "outputs": [],
   "source": [
    "def calc_status_duration(driver_info):\n",
    "    driver_info_updated = []\n",
    "    for i, j, k in neighbors(driver_info):\n",
    "        if k == None:\n",
    "            delta = None \n",
    "        else:\n",
    "            delta = (k[1]- j[1])\n",
    "            delta = delta.seconds\n",
    "              \n",
    "        driver_info_updated.append ( (j[0], j[1], delta))\n",
    "        \n",
    "    return driver_info_updated"
   ]
  },
  {
   "cell_type": "code",
   "execution_count": 11,
   "metadata": {},
   "outputs": [],
   "source": [
    "sample_driver_info = [(\"free\", datetime(2018, 4, 2, 0, 19)), \n",
    "                      (\"busy\", datetime(2018, 4, 2, 1, 3)),\n",
    "                      (\"busy\", datetime(2018, 4, 2, 1, 4)), ]"
   ]
  },
  {
   "cell_type": "code",
   "execution_count": 12,
   "metadata": {},
   "outputs": [
    {
     "name": "stdout",
     "output_type": "stream",
     "text": [
      "None ('free', datetime.datetime(2018, 4, 2, 0, 19)) ('busy', datetime.datetime(2018, 4, 2, 1, 3))\n",
      "('free', datetime.datetime(2018, 4, 2, 0, 19)) ('busy', datetime.datetime(2018, 4, 2, 1, 3)) ('busy', datetime.datetime(2018, 4, 2, 1, 4))\n",
      "('busy', datetime.datetime(2018, 4, 2, 1, 3)) ('busy', datetime.datetime(2018, 4, 2, 1, 4)) None\n"
     ]
    }
   ],
   "source": [
    "for i, j, k in neighbors(sample_driver_info):\n",
    "    print(i,j,k)"
   ]
  },
  {
   "cell_type": "code",
   "execution_count": 13,
   "metadata": {
    "scrolled": true
   },
   "outputs": [
    {
     "data": {
      "text/plain": [
       "[('free', datetime.datetime(2018, 4, 2, 0, 19), 2640),\n",
       " ('busy', datetime.datetime(2018, 4, 2, 1, 3), 60),\n",
       " ('busy', datetime.datetime(2018, 4, 2, 1, 4), None)]"
      ]
     },
     "execution_count": 13,
     "metadata": {},
     "output_type": "execute_result"
    }
   ],
   "source": [
    "calc_status_duration(sample_driver_info)"
   ]
  },
  {
   "cell_type": "code",
   "execution_count": 14,
   "metadata": {},
   "outputs": [],
   "source": [
    "# Check if test passes\n",
    "def test_calc_status_duration():\n",
    "    sample_driver_info = [(\"free\", datetime(2018, 4, 2, 0, 19)), \n",
    "                          (\"busy\", datetime(2018, 4, 2, 1, 3)),]\n",
    "    sample_driver_info_updated = [('free', datetime(2018, 4, 2, 0, 19), 2640.0),\n",
    "                                  ('busy', datetime(2018, 4, 2, 1, 3), None),]\n",
    "    assert calc_status_duration(sample_driver_info) == sample_driver_info_updated\n",
    "\n",
    "test_calc_status_duration()"
   ]
  },
  {
   "cell_type": "code",
   "execution_count": 15,
   "metadata": {
    "scrolled": false
   },
   "outputs": [],
   "source": [
    "df_grouped[\"driver_info\"] = df_grouped.driver_info.apply(calc_status_duration)"
   ]
  },
  {
   "cell_type": "code",
   "execution_count": 16,
   "metadata": {},
   "outputs": [
    {
     "data": {
      "text/html": [
       "<div>\n",
       "<style scoped>\n",
       "    .dataframe tbody tr th:only-of-type {\n",
       "        vertical-align: middle;\n",
       "    }\n",
       "\n",
       "    .dataframe tbody tr th {\n",
       "        vertical-align: top;\n",
       "    }\n",
       "\n",
       "    .dataframe thead th {\n",
       "        text-align: right;\n",
       "    }\n",
       "</style>\n",
       "<table border=\"1\" class=\"dataframe\">\n",
       "  <thead>\n",
       "    <tr style=\"text-align: right;\">\n",
       "      <th></th>\n",
       "      <th>driver_id</th>\n",
       "      <th>driver_info</th>\n",
       "    </tr>\n",
       "  </thead>\n",
       "  <tbody>\n",
       "    <tr>\n",
       "      <th>0</th>\n",
       "      <td>8f174ffd446c456eaf3cca0915d0368d</td>\n",
       "      <td>[(free, 2018-02-18 20:51:22.620339, 1470), (en...</td>\n",
       "    </tr>\n",
       "    <tr>\n",
       "      <th>1</th>\n",
       "      <td>dc66190e523943f5a83bdd393587439c</td>\n",
       "      <td>[(free, 2018-02-18 20:02:47.620339, 5126), (en...</td>\n",
       "    </tr>\n",
       "    <tr>\n",
       "      <th>2</th>\n",
       "      <td>17833e71aa58494ea0cb0a53be840c4e</td>\n",
       "      <td>[(free, 2018-02-18 20:19:26.620339, 4884), (en...</td>\n",
       "    </tr>\n",
       "    <tr>\n",
       "      <th>3</th>\n",
       "      <td>63f6aaaf48844d1e83e9fc78716c601e</td>\n",
       "      <td>[(free, 2018-02-18 20:52:11.620339, 700), (enr...</td>\n",
       "    </tr>\n",
       "    <tr>\n",
       "      <th>4</th>\n",
       "      <td>78938964fed443cf85879cbf71c6ea56</td>\n",
       "      <td>[(free, 2018-02-18 20:08:57.620339, 674), (bus...</td>\n",
       "    </tr>\n",
       "  </tbody>\n",
       "</table>\n",
       "</div>"
      ],
      "text/plain": [
       "                          driver_id  \\\n",
       "0  8f174ffd446c456eaf3cca0915d0368d   \n",
       "1  dc66190e523943f5a83bdd393587439c   \n",
       "2  17833e71aa58494ea0cb0a53be840c4e   \n",
       "3  63f6aaaf48844d1e83e9fc78716c601e   \n",
       "4  78938964fed443cf85879cbf71c6ea56   \n",
       "\n",
       "                                         driver_info  \n",
       "0  [(free, 2018-02-18 20:51:22.620339, 1470), (en...  \n",
       "1  [(free, 2018-02-18 20:02:47.620339, 5126), (en...  \n",
       "2  [(free, 2018-02-18 20:19:26.620339, 4884), (en...  \n",
       "3  [(free, 2018-02-18 20:52:11.620339, 700), (enr...  \n",
       "4  [(free, 2018-02-18 20:08:57.620339, 674), (bus...  "
      ]
     },
     "execution_count": 16,
     "metadata": {},
     "output_type": "execute_result"
    }
   ],
   "source": [
    "df_grouped.head()"
   ]
  },
  {
   "cell_type": "code",
   "execution_count": 17,
   "metadata": {},
   "outputs": [
    {
     "data": {
      "text/plain": [
       "array([list([('free', Timestamp('2018-02-18 20:52:11.620339'), 700), ('enroute', Timestamp('2018-02-18 21:03:51.620339'), 1808), ('free', Timestamp('2018-02-18 21:33:59.620339'), None)])],\n",
       "      dtype=object)"
      ]
     },
     "execution_count": 17,
     "metadata": {},
     "output_type": "execute_result"
    }
   ],
   "source": [
    "df_grouped[df_grouped[\"driver_id\"] == '63f6aaaf48844d1e83e9fc78716c601e'].driver_info.values"
   ]
  },
  {
   "cell_type": "markdown",
   "metadata": {},
   "source": [
    "    4. Используя функцию neighbors, написать функцию, которая сформирует из списка driver_info список поездок с информацией о длительности поездки и эффективности (duration_ontrip, efficiency)."
   ]
  },
  {
   "cell_type": "code",
   "execution_count": 18,
   "metadata": {},
   "outputs": [],
   "source": [
    "def ifnull(var, val):\n",
    "      if var is None:\n",
    "        return val\n",
    "      return var"
   ]
  },
  {
   "cell_type": "code",
   "execution_count": 19,
   "metadata": {},
   "outputs": [],
   "source": [
    "TIMEOUT = 1600\n",
    "\n",
    "def collapse_statuses(driver_info):\n",
    "    count_free = []\n",
    "    count_ontrip = []\n",
    "    count_enroute = []\n",
    "\n",
    "    for i, j, k in neighbors(driver_info):\n",
    "    \n",
    "        a = (\"\", 0, 0.)\n",
    "        i = ifnull(i, a)\n",
    "        k = ifnull(k, a)\n",
    "        j = ifnull(j, a)\n",
    "        \n",
    "        if i[0]== \"free\" and k[0]==\"free\" and j[2] <= TIMEOUT:\n",
    "       \n",
    "            count_free.append(i[2])\n",
    "            count_free.append(k[2])\n",
    "\n",
    "        elif i[0] == \"free\" and k[0]!=\"free\" and ifnull(j[2], 0)> TIMEOUT:\n",
    "\n",
    "            count_free.append(ifnull(i[2],0))\n",
    "        elif i[0] == \"ontrip\":\n",
    "            count_ontrip.append(i[2])\n",
    "        elif i[0] == \"enroute\" and j[0]!=\"free\":\n",
    "            count_enroute.append(i[2])\n",
    "    try:\n",
    "        z = [(sum(count_ontrip), sum(count_ontrip)/(sum(count_free)+sum(count_enroute)+sum(count_ontrip)))]\n",
    "    except:\n",
    "        z = 0\n",
    "    return z"
   ]
  },
  {
   "cell_type": "code",
   "execution_count": 20,
   "metadata": {},
   "outputs": [],
   "source": [
    "# Check if test passes\n",
    "def test_collapse_statuses():\n",
    "    sample_driver_info = [(\"free\", datetime(2018, 4, 2, 0, 19), 2640.0), \n",
    "                          (\"busy\", datetime(2018, 4, 2, 1, 3), 1660.0),\n",
    "                          (\"free\", datetime(2018, 4, 2, 1, 30, 40), 2050.0),\n",
    "                          (\"enroute\", datetime(2018, 4, 2, 2, 4, 50), 70.0),\n",
    "                          (\"free\", datetime(2018, 4, 2, 2, 6), 500.0),\n",
    "                          (\"enroute\", datetime(2018, 4, 2, 2, 14, 20), 520.0),\n",
    "                          (\"ontrip\", datetime(2018, 4, 2, 2, 23), 3060.0),\n",
    "                          (\"free\", datetime(2018, 4, 2, 3, 14), None)\n",
    "                         ]\n",
    "    sample_driver_info_updated = [(3060.0, 3060.0 / (3060.0 + 520.0 + 500.0 + 2050.0))]\n",
    "    assert collapse_statuses(sample_driver_info) == sample_driver_info_updated\n",
    "\n",
    "test_collapse_statuses()"
   ]
  },
  {
   "cell_type": "code",
   "execution_count": 21,
   "metadata": {},
   "outputs": [],
   "source": [
    "df_grouped[\"driver_info\"] = df_grouped.driver_info.apply(collapse_statuses)"
   ]
  },
  {
   "cell_type": "code",
   "execution_count": 22,
   "metadata": {},
   "outputs": [
    {
     "data": {
      "text/html": [
       "<div>\n",
       "<style scoped>\n",
       "    .dataframe tbody tr th:only-of-type {\n",
       "        vertical-align: middle;\n",
       "    }\n",
       "\n",
       "    .dataframe tbody tr th {\n",
       "        vertical-align: top;\n",
       "    }\n",
       "\n",
       "    .dataframe thead th {\n",
       "        text-align: right;\n",
       "    }\n",
       "</style>\n",
       "<table border=\"1\" class=\"dataframe\">\n",
       "  <thead>\n",
       "    <tr style=\"text-align: right;\">\n",
       "      <th></th>\n",
       "      <th>driver_id</th>\n",
       "      <th>driver_info</th>\n",
       "    </tr>\n",
       "  </thead>\n",
       "  <tbody>\n",
       "    <tr>\n",
       "      <th>0</th>\n",
       "      <td>8f174ffd446c456eaf3cca0915d0368d</td>\n",
       "      <td>[(56956, 0.21637433565450614)]</td>\n",
       "    </tr>\n",
       "    <tr>\n",
       "      <th>1</th>\n",
       "      <td>dc66190e523943f5a83bdd393587439c</td>\n",
       "      <td>[(61849, 0.247798424641618)]</td>\n",
       "    </tr>\n",
       "    <tr>\n",
       "      <th>2</th>\n",
       "      <td>17833e71aa58494ea0cb0a53be840c4e</td>\n",
       "      <td>[(14247, 0.24621526337619246)]</td>\n",
       "    </tr>\n",
       "    <tr>\n",
       "      <th>3</th>\n",
       "      <td>63f6aaaf48844d1e83e9fc78716c601e</td>\n",
       "      <td>0</td>\n",
       "    </tr>\n",
       "    <tr>\n",
       "      <th>4</th>\n",
       "      <td>78938964fed443cf85879cbf71c6ea56</td>\n",
       "      <td>[(38899, 0.21691295377237496)]</td>\n",
       "    </tr>\n",
       "  </tbody>\n",
       "</table>\n",
       "</div>"
      ],
      "text/plain": [
       "                          driver_id                     driver_info\n",
       "0  8f174ffd446c456eaf3cca0915d0368d  [(56956, 0.21637433565450614)]\n",
       "1  dc66190e523943f5a83bdd393587439c    [(61849, 0.247798424641618)]\n",
       "2  17833e71aa58494ea0cb0a53be840c4e  [(14247, 0.24621526337619246)]\n",
       "3  63f6aaaf48844d1e83e9fc78716c601e                               0\n",
       "4  78938964fed443cf85879cbf71c6ea56  [(38899, 0.21691295377237496)]"
      ]
     },
     "execution_count": 22,
     "metadata": {},
     "output_type": "execute_result"
    }
   ],
   "source": [
    "df_grouped.head()"
   ]
  },
  {
   "cell_type": "markdown",
   "metadata": {},
   "source": [
    "    5. Нарисовать и проинтерпретировать зависимость между длительностью поездки и эффективностью.\n",
    "    Подсказка: требуется сделать обратное преобразование из таблицы со строками на уровне водителя в таблицу со строками на уровне поездки."
   ]
  },
  {
   "cell_type": "code",
   "execution_count": 23,
   "metadata": {},
   "outputs": [],
   "source": [
    "df1 = pd.merge(df, df_grouped, how='left', on = 'driver_id')"
   ]
  },
  {
   "cell_type": "code",
   "execution_count": 24,
   "metadata": {},
   "outputs": [],
   "source": [
    "df1 = df1[df1.status == 'ontrip']"
   ]
  },
  {
   "cell_type": "code",
   "execution_count": 81,
   "metadata": {},
   "outputs": [
    {
     "data": {
      "text/html": [
       "<div>\n",
       "<style scoped>\n",
       "    .dataframe tbody tr th:only-of-type {\n",
       "        vertical-align: middle;\n",
       "    }\n",
       "\n",
       "    .dataframe tbody tr th {\n",
       "        vertical-align: top;\n",
       "    }\n",
       "\n",
       "    .dataframe thead th {\n",
       "        text-align: right;\n",
       "    }\n",
       "</style>\n",
       "<table border=\"1\" class=\"dataframe\">\n",
       "  <thead>\n",
       "    <tr style=\"text-align: right;\">\n",
       "      <th></th>\n",
       "      <th>status</th>\n",
       "      <th>driver_id</th>\n",
       "      <th>dttm</th>\n",
       "      <th>driver_info</th>\n",
       "      <th>trip_time</th>\n",
       "      <th>efficency</th>\n",
       "    </tr>\n",
       "  </thead>\n",
       "  <tbody>\n",
       "    <tr>\n",
       "      <th>12</th>\n",
       "      <td>ontrip</td>\n",
       "      <td>8f174ffd446c456eaf3cca0915d0368d</td>\n",
       "      <td>2018-02-19 05:58:49.620339</td>\n",
       "      <td>[(56956, 0.21637433565450614)]</td>\n",
       "      <td>56956</td>\n",
       "      <td>0.216374</td>\n",
       "    </tr>\n",
       "    <tr>\n",
       "      <th>19</th>\n",
       "      <td>ontrip</td>\n",
       "      <td>8f174ffd446c456eaf3cca0915d0368d</td>\n",
       "      <td>2018-02-19 09:12:57.620339</td>\n",
       "      <td>[(56956, 0.21637433565450614)]</td>\n",
       "      <td>56956</td>\n",
       "      <td>0.216374</td>\n",
       "    </tr>\n",
       "    <tr>\n",
       "      <th>30</th>\n",
       "      <td>ontrip</td>\n",
       "      <td>8f174ffd446c456eaf3cca0915d0368d</td>\n",
       "      <td>2018-02-19 16:56:40.620339</td>\n",
       "      <td>[(56956, 0.21637433565450614)]</td>\n",
       "      <td>56956</td>\n",
       "      <td>0.216374</td>\n",
       "    </tr>\n",
       "    <tr>\n",
       "      <th>33</th>\n",
       "      <td>ontrip</td>\n",
       "      <td>8f174ffd446c456eaf3cca0915d0368d</td>\n",
       "      <td>2018-02-19 19:42:21.620339</td>\n",
       "      <td>[(56956, 0.21637433565450614)]</td>\n",
       "      <td>56956</td>\n",
       "      <td>0.216374</td>\n",
       "    </tr>\n",
       "    <tr>\n",
       "      <th>38</th>\n",
       "      <td>ontrip</td>\n",
       "      <td>8f174ffd446c456eaf3cca0915d0368d</td>\n",
       "      <td>2018-02-19 23:31:49.620339</td>\n",
       "      <td>[(56956, 0.21637433565450614)]</td>\n",
       "      <td>56956</td>\n",
       "      <td>0.216374</td>\n",
       "    </tr>\n",
       "  </tbody>\n",
       "</table>\n",
       "</div>"
      ],
      "text/plain": [
       "    status                         driver_id                       dttm  \\\n",
       "12  ontrip  8f174ffd446c456eaf3cca0915d0368d 2018-02-19 05:58:49.620339   \n",
       "19  ontrip  8f174ffd446c456eaf3cca0915d0368d 2018-02-19 09:12:57.620339   \n",
       "30  ontrip  8f174ffd446c456eaf3cca0915d0368d 2018-02-19 16:56:40.620339   \n",
       "33  ontrip  8f174ffd446c456eaf3cca0915d0368d 2018-02-19 19:42:21.620339   \n",
       "38  ontrip  8f174ffd446c456eaf3cca0915d0368d 2018-02-19 23:31:49.620339   \n",
       "\n",
       "                       driver_info  trip_time  efficency  \n",
       "12  [(56956, 0.21637433565450614)]      56956   0.216374  \n",
       "19  [(56956, 0.21637433565450614)]      56956   0.216374  \n",
       "30  [(56956, 0.21637433565450614)]      56956   0.216374  \n",
       "33  [(56956, 0.21637433565450614)]      56956   0.216374  \n",
       "38  [(56956, 0.21637433565450614)]      56956   0.216374  "
      ]
     },
     "execution_count": 81,
     "metadata": {},
     "output_type": "execute_result"
    }
   ],
   "source": [
    "df1.head()"
   ]
  },
  {
   "cell_type": "code",
   "execution_count": 26,
   "metadata": {},
   "outputs": [],
   "source": [
    "def split_time(row):\n",
    "    try:\n",
    "        res = row.driver_info[0][0]\n",
    "    except:\n",
    "        res = 0\n",
    "    return res"
   ]
  },
  {
   "cell_type": "code",
   "execution_count": 27,
   "metadata": {},
   "outputs": [],
   "source": [
    "def split_time2(row):\n",
    "    try:\n",
    "        res2 = row.driver_info[0][1]\n",
    "    except:\n",
    "        res2 = 0\n",
    "    return res2"
   ]
  },
  {
   "cell_type": "code",
   "execution_count": 28,
   "metadata": {},
   "outputs": [],
   "source": [
    "df1['trip_time'] = df1.apply(split_time, axis = 1)"
   ]
  },
  {
   "cell_type": "code",
   "execution_count": 29,
   "metadata": {},
   "outputs": [],
   "source": [
    "df1['efficency']= df1.apply(split_time2, axis = 1)"
   ]
  },
  {
   "cell_type": "code",
   "execution_count": 55,
   "metadata": {},
   "outputs": [],
   "source": [
    "df2 = pd.DataFrame(df1.groupby('driver_id')['driver_id'].count())"
   ]
  },
  {
   "cell_type": "code",
   "execution_count": 64,
   "metadata": {},
   "outputs": [],
   "source": [
    "df2.columns = ['CNT']"
   ]
  },
  {
   "cell_type": "code",
   "execution_count": 67,
   "metadata": {},
   "outputs": [],
   "source": [
    "df2 = df2.reset_index()"
   ]
  },
  {
   "cell_type": "code",
   "execution_count": 68,
   "metadata": {},
   "outputs": [],
   "source": [
    "df3 = df1.groupby('driver_id')['trip_time', 'efficency'].mean()"
   ]
  },
  {
   "cell_type": "code",
   "execution_count": 69,
   "metadata": {},
   "outputs": [],
   "source": [
    "df4 = pd.merge(df3, df2, how = 'left', on = 'driver_id')"
   ]
  },
  {
   "cell_type": "code",
   "execution_count": 71,
   "metadata": {},
   "outputs": [],
   "source": [
    "df4['avg_trip_time']  = df4['trip_time'] / df4['CNT']"
   ]
  },
  {
   "cell_type": "code",
   "execution_count": 76,
   "metadata": {},
   "outputs": [],
   "source": [
    "df5 = df4.loc[:, ['avg_trip_time', 'efficency']]"
   ]
  },
  {
   "cell_type": "code",
   "execution_count": 80,
   "metadata": {},
   "outputs": [
    {
     "name": "stderr",
     "output_type": "stream",
     "text": [
      "/home/pavel/anaconda3/lib/python3.6/site-packages/matplotlib/axes/_axes.py:6462: UserWarning: The 'normed' kwarg is deprecated, and has been replaced by the 'density' kwarg.\n",
      "  warnings.warn(\"The 'normed' kwarg is deprecated, and has been \"\n",
      "/home/pavel/anaconda3/lib/python3.6/site-packages/matplotlib/axes/_axes.py:6462: UserWarning: The 'normed' kwarg is deprecated, and has been replaced by the 'density' kwarg.\n",
      "  warnings.warn(\"The 'normed' kwarg is deprecated, and has been \"\n"
     ]
    },
    {
     "data": {
      "image/png": "[encoded data removed]",
      "text/plain": [
       "<Figure size 432x432 with 3 Axes>"
      ]
     },
     "metadata": {},
     "output_type": "display_data"
    }
   ],
   "source": [
    "sns.jointplot(x='avg_trip_time', y='efficency', \n",
    "              data=df5, kind='reg');"
   ]
  }
 ],
 "metadata": {
  "kernelspec": {
   "display_name": "Python 3",
   "language": "python",
   "name": "python3"
  },
  "language_info": {
   "codemirror_mode": {
    "name": "ipython",
    "version": 3
   },
   "file_extension": ".py",
   "mimetype": "text/x-python",
   "name": "python",
   "nbconvert_exporter": "python",
   "pygments_lexer": "ipython3",
   "version": "3.6.5"
  }
 },
 "nbformat": 4,
 "nbformat_minor": 2
}
