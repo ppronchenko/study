{
 "cells": [
  {
   "cell_type": "code",
   "execution_count": 1,
   "metadata": {},
   "outputs": [],
   "source": [
    "%matplotlib inline\n",
    "import pandas as pd\n",
    "import seaborn as sns\n",
    "from datetime import datetime\n",
    "from datetime import timedelta"
   ]
  },
  {
   "cell_type": "markdown",
   "metadata": {},
   "source": [
    "Вводные\n",
    "\n",
    "Водитель может находиться в 4 возможных статусах:\n",
    "    * free -- доступен для нового заказа\n",
    "    * enroute -- едет на заказ\n",
    "    * ontrip -- выполняет заказ\n",
    "    * busy -- недоступен для нового заказа\n",
    "\n",
    "Возможные переходы из одного состояние в другое определены как:\n",
    "    * free -> [free, enroute, busy]\n",
    "    * enroute -> [free, ontrip]\n",
    "    * ontrip -> [free]\n",
    "    * busy -> [free]\n",
    "\n",
    "Почему переходы определяются таким образом:\n",
    "1. Из состояния free можно перейти в\n",
    "    * free -- если водитель ушел в офлайн и заново вышел на линию, тогда подряд будет две записи со статусом free\n",
    "    * enroute -- если водитель принял заказ, то переходит в статус enroute и едет к клиенту\n",
    "    * busy -- если водитель нажал кнопку \"Занят\" в таксометре (пошел на обед и т.д.)\n",
    "2. Из состояния enroute можно перейти в \n",
    "    * free -- если клиент или водитель отменил заказ\n",
    "    * ontrip -- если водитель приехал к клиенту и начал выполнять заказ\n",
    "3. Из состояния ontrip можно перейти только в free (после выполнения заказа)\n",
    "4. Из состояния busy можно перейти только в free\n",
    "\n",
    "Эффективность на поездке -- это время с клиентом в машине (ontrip), деленное на сумму длительностей всех статусов, связанных с поездкой (sum(free) + enroute + ontrip), где sum(free) -- время простоя.\n",
    "\n",
    "Время простоя -- это сумма всех статусов free, предшествующих поездке. Суммируются все статусы free, идущие подряд, а также те, которые были прерваны короткими статусами busy или enroute (короткий статус == меньше какого-то TIMEOUT'а).\n",
    "\n",
    "Имеется набор данных со статусами водителей, по которому необходимо построить зависимость длительности поездки от эффективности.\n",
    "    * driver_id -- id водителя\n",
    "    * status -- один из статусов\n",
    "    * dttm -- время начала статуса\n",
    "\n",
    "Примечания:\n",
    "    * Поездка считается только при наличии статуса ontrip\n",
    "    * Тесты написаны для python 2"
   ]
  },
  {
   "cell_type": "markdown",
   "metadata": {},
   "source": [
    "    1. Написать функцию-генератор, которая будет отдавать соседние элементы в цикле. Функция понадобится для итерирования по записям водителя и проверки соседних статусов по условиям. Не забудьте проверить, что тесты проходят без ошибок (см. test_neighbors)."
   ]
  },
  {
   "cell_type": "code",
   "execution_count": 2,
   "metadata": {},
   "outputs": [],
   "source": [
    "from itertools import tee, islice, chain\n",
    "\n",
    "def neighbors(iterable):\n",
    "    # Write generator function which yields \n",
    "    # previous, current and next values in iterable list.\n",
    "    # ... type your code here ...\n",
    "    for i in range(len(list(iterable))):\n",
    "        if i-1 == 0:\n",
    "            prv, cur, nxt = [None, iterable[0], iterable[1]]\n",
    "        elif i == (len(list(iterable))-1):\n",
    "            prv, cur, nxt = [iterable[i-1], iterable[i] , None]\n",
    "        else:    \n",
    "            prv, cur, nxt = [iterable[i-1], iterable[i] , iterable[i+1]]\n",
    "    yield prv, cur, nxt"
   ]
  },
  {
   "cell_type": "code",
   "execution_count": 3,
   "metadata": {},
   "outputs": [],
   "source": [
    "# Check if test passes\n",
    "def test_neighbors():\n",
    "    test_neighbors = neighbors( range(2) )\n",
    "    assert test_neighbors.next() == (None, 0, 1)\n",
    "\n",
    "test_neighbors()"
   ]
  },
  {
   "cell_type": "markdown",
   "metadata": {},
   "source": [
    "    2. Сгруппировать данные на уровне водителя таким образом, чтобы в одной строке находились все его записи со статусами и началом статуса списком:"
   ]
  },
  {
   "cell_type": "markdown",
   "metadata": {},
   "source": [
    "Формат исходной таблицы:\n",
    "<table>\n",
    "<tr><td>driver_id</td><td>status</td><td>dttm</td></tr>\n",
    "<tr><td>9f8f9bf3ee8f4874873288c246bd2d05</td><td>free</td><td>2018-02-04 00:19</td></tr>\n",
    "<tr><td>9f8f9bf3ee8f4874873288c246bd2d05</td><td>busy</td><td>2018-02-04 01:03</td></tr>\n",
    "<tr><td>8f174ffd446c456eaf3cca0915d0368d</td><td>free</td><td>2018-02-03 15:43</td></tr>\n",
    "<tr><td>8f174ffd446c456eaf3cca0915d0368d</td><td>enroute</td><td>2018-02-03 17:02</td></tr>\n",
    "<tr><td>...</td><td>...</td><td>...</td></tr>\n",
    "</table>"
   ]
  },
  {
   "cell_type": "markdown",
   "metadata": {},
   "source": [
    "Формат сгруппированной таблицы:\n",
    "<table>\n",
    "<tr><td>driver_id</td><td>driver_info</td></tr>\n",
    "<tr><td>9f8f9bf3ee8f4874873288c246bd2d05</td><td>[(\"free\", 2018-02-04 00:19), (\"busy\", 2018-02-04 01:03)]</td></tr>\n",
    "<tr><td>8f174ffd446c456eaf3cca0915d0368d</td><td>[(\"free\", 2018-02-03 15:43), (\"enroute\", 2018-02-03 17:02) ...]</td></tr>\n",
    "</table>"
   ]
  },
  {
   "cell_type": "code",
   "execution_count": 4,
   "metadata": {},
   "outputs": [],
   "source": [
    "df = pd.read_csv(\"dataset.csv\", parse_dates=[\"dttm\"])\n",
    "drivers_list = df.driver_id.unique()"
   ]
  },
  {
   "cell_type": "code",
   "execution_count": 5,
   "metadata": {},
   "outputs": [],
   "source": [
    "big_list = []\n",
    "for i in drivers_list:\n",
    "  \n",
    "    df1 = df[df['driver_id'] == i]\n",
    "    \n",
    "    list1 = []\n",
    "    for j in df1.values:\n",
    "        list1.append((j[0], j[2]))\n",
    "    big_list.append([i, list1])"
   ]
  },
  {
   "cell_type": "code",
   "execution_count": 6,
   "metadata": {},
   "outputs": [],
   "source": [
    "df_grouped = pd.DataFrame(big_list, columns=['driver_id', 'driver_info'])"
   ]
  },
  {
   "cell_type": "code",
   "execution_count": 7,
   "metadata": {},
   "outputs": [
    {
     "data": {
      "text/html": [
       "<div>\n",
       "<style scoped>\n",
       "    .dataframe tbody tr th:only-of-type {\n",
       "        vertical-align: middle;\n",
       "    }\n",
       "\n",
       "    .dataframe tbody tr th {\n",
       "        vertical-align: top;\n",
       "    }\n",
       "\n",
       "    .dataframe thead th {\n",
       "        text-align: right;\n",
       "    }\n",
       "</style>\n",
       "<table border=\"1\" class=\"dataframe\">\n",
       "  <thead>\n",
       "    <tr style=\"text-align: right;\">\n",
       "      <th></th>\n",
       "      <th>driver_id</th>\n",
       "      <th>driver_info</th>\n",
       "    </tr>\n",
       "  </thead>\n",
       "  <tbody>\n",
       "    <tr>\n",
       "      <th>0</th>\n",
       "      <td>8f174ffd446c456eaf3cca0915d0368d</td>\n",
       "      <td>[(free, 2018-02-18 20:51:22.620339), (enroute,...</td>\n",
       "    </tr>\n",
       "    <tr>\n",
       "      <th>1</th>\n",
       "      <td>dc66190e523943f5a83bdd393587439c</td>\n",
       "      <td>[(free, 2018-02-18 20:02:47.620339), (enroute,...</td>\n",
       "    </tr>\n",
       "    <tr>\n",
       "      <th>2</th>\n",
       "      <td>17833e71aa58494ea0cb0a53be840c4e</td>\n",
       "      <td>[(free, 2018-02-18 20:19:26.620339), (enroute,...</td>\n",
       "    </tr>\n",
       "    <tr>\n",
       "      <th>3</th>\n",
       "      <td>63f6aaaf48844d1e83e9fc78716c601e</td>\n",
       "      <td>[(free, 2018-02-18 20:52:11.620339), (enroute,...</td>\n",
       "    </tr>\n",
       "    <tr>\n",
       "      <th>4</th>\n",
       "      <td>78938964fed443cf85879cbf71c6ea56</td>\n",
       "      <td>[(free, 2018-02-18 20:08:57.620339), (busy, 20...</td>\n",
       "    </tr>\n",
       "  </tbody>\n",
       "</table>\n",
       "</div>"
      ],
      "text/plain": [
       "                          driver_id  \\\n",
       "0  8f174ffd446c456eaf3cca0915d0368d   \n",
       "1  dc66190e523943f5a83bdd393587439c   \n",
       "2  17833e71aa58494ea0cb0a53be840c4e   \n",
       "3  63f6aaaf48844d1e83e9fc78716c601e   \n",
       "4  78938964fed443cf85879cbf71c6ea56   \n",
       "\n",
       "                                         driver_info  \n",
       "0  [(free, 2018-02-18 20:51:22.620339), (enroute,...  \n",
       "1  [(free, 2018-02-18 20:02:47.620339), (enroute,...  \n",
       "2  [(free, 2018-02-18 20:19:26.620339), (enroute,...  \n",
       "3  [(free, 2018-02-18 20:52:11.620339), (enroute,...  \n",
       "4  [(free, 2018-02-18 20:08:57.620339), (busy, 20...  "
      ]
     },
     "execution_count": 7,
     "metadata": {},
     "output_type": "execute_result"
    }
   ],
   "source": [
    "df_grouped.head()"
   ]
  },
  {
   "cell_type": "markdown",
   "metadata": {},
   "source": [
    "    3. Используя функцию neighbors, написать функцию, которая для каждой записи в списке driver_info посчитает ее длительность."
   ]
  },
  {
   "cell_type": "code",
   "execution_count": 12,
   "metadata": {},
   "outputs": [],
   "source": [
    "def calc_status_duration(driver_info):\n",
    "    driver_info_updated = []\n",
    "    for i, j, k in neighbors(driver_info):\n",
    "        delta = (j[1] - k[1])\n",
    "        driver_info_updated = [j, delta.seconds]\n",
    "    return driver_info_updated"
   ]
  },
  {
   "cell_type": "code",
   "execution_count": 13,
   "metadata": {},
   "outputs": [
    {
     "ename": "AssertionError",
     "evalue": "",
     "output_type": "error",
     "traceback": [
      "\u001b[1;31m\u001b[0m",
      "\u001b[1;31mAssertionError\u001b[0mTraceback (most recent call last)",
      "\u001b[1;32m<ipython-input-13-5b59041e4ac9>\u001b[0m in \u001b[0;36m<module>\u001b[1;34m()\u001b[0m\n\u001b[0;32m      7\u001b[0m     \u001b[1;32massert\u001b[0m \u001b[0mcalc_status_duration\u001b[0m\u001b[1;33m(\u001b[0m\u001b[0msample_driver_info\u001b[0m\u001b[1;33m)\u001b[0m \u001b[1;33m==\u001b[0m \u001b[0msample_driver_info_updated\u001b[0m\u001b[1;33m\u001b[0m\u001b[0m\n\u001b[0;32m      8\u001b[0m \u001b[1;33m\u001b[0m\u001b[0m\n\u001b[1;32m----> 9\u001b[1;33m \u001b[0mtest_calc_status_duration\u001b[0m\u001b[1;33m(\u001b[0m\u001b[1;33m)\u001b[0m\u001b[1;33m\u001b[0m\u001b[0m\n\u001b[0m",
      "\u001b[1;32m<ipython-input-13-5b59041e4ac9>\u001b[0m in \u001b[0;36mtest_calc_status_duration\u001b[1;34m()\u001b[0m\n\u001b[0;32m      5\u001b[0m     sample_driver_info_updated = [('free', datetime(2018, 4, 2, 0, 19), 2640.0),\n\u001b[0;32m      6\u001b[0m                                   ('busy', datetime(2018, 4, 2, 1, 3), None),]\n\u001b[1;32m----> 7\u001b[1;33m     \u001b[1;32massert\u001b[0m \u001b[0mcalc_status_duration\u001b[0m\u001b[1;33m(\u001b[0m\u001b[0msample_driver_info\u001b[0m\u001b[1;33m)\u001b[0m \u001b[1;33m==\u001b[0m \u001b[0msample_driver_info_updated\u001b[0m\u001b[1;33m\u001b[0m\u001b[0m\n\u001b[0m\u001b[0;32m      8\u001b[0m \u001b[1;33m\u001b[0m\u001b[0m\n\u001b[0;32m      9\u001b[0m \u001b[0mtest_calc_status_duration\u001b[0m\u001b[1;33m(\u001b[0m\u001b[1;33m)\u001b[0m\u001b[1;33m\u001b[0m\u001b[0m\n",
      "\u001b[1;31mAssertionError\u001b[0m: "
     ]
    }
   ],
   "source": [
    "# Check if test passes\n",
    "def test_calc_status_duration():\n",
    "    sample_driver_info = [(\"free\", datetime(2018, 4, 2, 0, 19)), \n",
    "                          (\"busy\", datetime(2018, 4, 2, 1, 3)),]\n",
    "    sample_driver_info_updated = [('free', datetime(2018, 4, 2, 0, 19), 2640.0),\n",
    "                                  ('busy', datetime(2018, 4, 2, 1, 3), None),]\n",
    "    assert calc_status_duration(sample_driver_info) == sample_driver_info_updated\n",
    "\n",
    "test_calc_status_duration()"
   ]
  },
  {
   "cell_type": "code",
   "execution_count": 14,
   "metadata": {
    "scrolled": true
   },
   "outputs": [
    {
     "ename": "TypeError",
     "evalue": "'NoneType' object has no attribute '__getitem__'",
     "output_type": "error",
     "traceback": [
      "\u001b[1;31m\u001b[0m",
      "\u001b[1;31mTypeError\u001b[0mTraceback (most recent call last)",
      "\u001b[1;32m<ipython-input-14-8feb0435182a>\u001b[0m in \u001b[0;36m<module>\u001b[1;34m()\u001b[0m\n\u001b[1;32m----> 1\u001b[1;33m \u001b[0mdf_grouped\u001b[0m\u001b[1;33m[\u001b[0m\u001b[1;34m\"driver_info_2\"\u001b[0m\u001b[1;33m]\u001b[0m \u001b[1;33m=\u001b[0m \u001b[0mdf_grouped\u001b[0m\u001b[1;33m.\u001b[0m\u001b[0mdriver_info\u001b[0m\u001b[1;33m.\u001b[0m\u001b[0mapply\u001b[0m\u001b[1;33m(\u001b[0m\u001b[0mcalc_status_duration\u001b[0m\u001b[1;33m)\u001b[0m\u001b[1;33m\u001b[0m\u001b[0m\n\u001b[0m",
      "\u001b[1;32mC:\\Users\\PPronchenko\\AppData\\Local\\Continuum\\anaconda2\\lib\\site-packages\\pandas\\core\\series.pyc\u001b[0m in \u001b[0;36mapply\u001b[1;34m(self, func, convert_dtype, args, **kwds)\u001b[0m\n\u001b[0;32m   3192\u001b[0m             \u001b[1;32melse\u001b[0m\u001b[1;33m:\u001b[0m\u001b[1;33m\u001b[0m\u001b[0m\n\u001b[0;32m   3193\u001b[0m                 \u001b[0mvalues\u001b[0m \u001b[1;33m=\u001b[0m \u001b[0mself\u001b[0m\u001b[1;33m.\u001b[0m\u001b[0mastype\u001b[0m\u001b[1;33m(\u001b[0m\u001b[0mobject\u001b[0m\u001b[1;33m)\u001b[0m\u001b[1;33m.\u001b[0m\u001b[0mvalues\u001b[0m\u001b[1;33m\u001b[0m\u001b[0m\n\u001b[1;32m-> 3194\u001b[1;33m                 \u001b[0mmapped\u001b[0m \u001b[1;33m=\u001b[0m \u001b[0mlib\u001b[0m\u001b[1;33m.\u001b[0m\u001b[0mmap_infer\u001b[0m\u001b[1;33m(\u001b[0m\u001b[0mvalues\u001b[0m\u001b[1;33m,\u001b[0m \u001b[0mf\u001b[0m\u001b[1;33m,\u001b[0m \u001b[0mconvert\u001b[0m\u001b[1;33m=\u001b[0m\u001b[0mconvert_dtype\u001b[0m\u001b[1;33m)\u001b[0m\u001b[1;33m\u001b[0m\u001b[0m\n\u001b[0m\u001b[0;32m   3195\u001b[0m \u001b[1;33m\u001b[0m\u001b[0m\n\u001b[0;32m   3196\u001b[0m         \u001b[1;32mif\u001b[0m \u001b[0mlen\u001b[0m\u001b[1;33m(\u001b[0m\u001b[0mmapped\u001b[0m\u001b[1;33m)\u001b[0m \u001b[1;32mand\u001b[0m \u001b[0misinstance\u001b[0m\u001b[1;33m(\u001b[0m\u001b[0mmapped\u001b[0m\u001b[1;33m[\u001b[0m\u001b[1;36m0\u001b[0m\u001b[1;33m]\u001b[0m\u001b[1;33m,\u001b[0m \u001b[0mSeries\u001b[0m\u001b[1;33m)\u001b[0m\u001b[1;33m:\u001b[0m\u001b[1;33m\u001b[0m\u001b[0m\n",
      "\u001b[1;32mpandas/_libs/src\\inference.pyx\u001b[0m in \u001b[0;36mpandas._libs.lib.map_infer\u001b[1;34m()\u001b[0m\n",
      "\u001b[1;32m<ipython-input-12-463b9f6c1f05>\u001b[0m in \u001b[0;36mcalc_status_duration\u001b[1;34m(driver_info)\u001b[0m\n\u001b[0;32m      2\u001b[0m     \u001b[0mdriver_info_updated\u001b[0m \u001b[1;33m=\u001b[0m \u001b[1;33m[\u001b[0m\u001b[1;33m]\u001b[0m\u001b[1;33m\u001b[0m\u001b[0m\n\u001b[0;32m      3\u001b[0m     \u001b[1;32mfor\u001b[0m \u001b[0mi\u001b[0m\u001b[1;33m,\u001b[0m \u001b[0mj\u001b[0m\u001b[1;33m,\u001b[0m \u001b[0mk\u001b[0m \u001b[1;32min\u001b[0m \u001b[0mneighbors\u001b[0m\u001b[1;33m(\u001b[0m\u001b[0mdriver_info\u001b[0m\u001b[1;33m)\u001b[0m\u001b[1;33m:\u001b[0m\u001b[1;33m\u001b[0m\u001b[0m\n\u001b[1;32m----> 4\u001b[1;33m         \u001b[0mdelta\u001b[0m \u001b[1;33m=\u001b[0m \u001b[1;33m(\u001b[0m\u001b[0mj\u001b[0m\u001b[1;33m[\u001b[0m\u001b[1;36m1\u001b[0m\u001b[1;33m]\u001b[0m \u001b[1;33m-\u001b[0m \u001b[0mk\u001b[0m\u001b[1;33m[\u001b[0m\u001b[1;36m1\u001b[0m\u001b[1;33m]\u001b[0m\u001b[1;33m)\u001b[0m\u001b[1;33m\u001b[0m\u001b[0m\n\u001b[0m\u001b[0;32m      5\u001b[0m         \u001b[0mdriver_info_updated\u001b[0m \u001b[1;33m=\u001b[0m \u001b[1;33m[\u001b[0m\u001b[0mj\u001b[0m\u001b[1;33m,\u001b[0m \u001b[0mdelta\u001b[0m\u001b[1;33m.\u001b[0m\u001b[0mseconds\u001b[0m\u001b[1;33m]\u001b[0m\u001b[1;33m\u001b[0m\u001b[0m\n\u001b[0;32m      6\u001b[0m     \u001b[1;32mreturn\u001b[0m \u001b[0mdriver_info_updated\u001b[0m\u001b[1;33m\u001b[0m\u001b[0m\n",
      "\u001b[1;31mTypeError\u001b[0m: 'NoneType' object has no attribute '__getitem__'"
     ]
    }
   ],
   "source": [
    "df_grouped[\"driver_info_2\"] = df_grouped.driver_info.apply(calc_status_duration)"
   ]
  },
  {
   "cell_type": "code",
   "execution_count": null,
   "metadata": {},
   "outputs": [],
   "source": [
    "df_grouped"
   ]
  },
  {
   "cell_type": "markdown",
   "metadata": {},
   "source": [
    "    4. Используя функцию neighbors, написать функцию, которая сформирует из списка driver_info список поездок с информацией о длительности поездки и эффективности (duration_ontrip, efficiency)."
   ]
  },
  {
   "cell_type": "code",
   "execution_count": null,
   "metadata": {},
   "outputs": [],
   "source": [
    "TIMEOUT = 1600\n",
    "\n",
    "def collapse_statuses(driver_info):\n",
    "    # Here define conditions under which the \"free\" state \n",
    "    # should be attributed to the trip.\n",
    "    # ... type your code here ..."
   ]
  },
  {
   "cell_type": "code",
   "execution_count": null,
   "metadata": {},
   "outputs": [],
   "source": [
    "# Check if test passes\n",
    "def test_collapse_statuses():\n",
    "    sample_driver_info = [(\"free\", datetime(2018, 4, 2, 0, 19), 2640.0), \n",
    "                          (\"busy\", datetime(2018, 4, 2, 1, 3), 1660.0),\n",
    "                          (\"free\", datetime(2018, 4, 2, 1, 30, 40), 2050.0),\n",
    "                          (\"enroute\", datetime(2018, 4, 2, 2, 4, 50), 70.0),\n",
    "                          (\"free\", datetime(2018, 4, 2, 2, 6), 500.0),\n",
    "                          (\"enroute\", datetime(2018, 4, 2, 2, 14, 20), 520.0),\n",
    "                          (\"ontrip\", datetime(2018, 4, 2, 2, 23), 3060.0),\n",
    "                          (\"free\", datetime(2018, 4, 2, 3, 14), None)\n",
    "                         ]\n",
    "    sample_driver_info_updated = [(3060.0, 3060.0 / (3060.0 + 520.0 + 500.0 + 2050.0))]\n",
    "    assert collapse_statuses(sample_driver_info) == sample_driver_info_updated\n",
    "\n",
    "test_collapse_statuses()"
   ]
  },
  {
   "cell_type": "code",
   "execution_count": null,
   "metadata": {},
   "outputs": [],
   "source": [
    "df[\"driver_info\"] = df.driver_info.apply(collapse_statuses)"
   ]
  },
  {
   "cell_type": "markdown",
   "metadata": {},
   "source": [
    "    5. Нарисовать и проинтерпретировать зависимость между длительностью поездки и эффективностью.\n",
    "    Подсказка: требуется сделать обратное преобразование из таблицы со строками на уровне водителя в таблицу со строками на уровне поездки."
   ]
  },
  {
   "cell_type": "code",
   "execution_count": null,
   "metadata": {},
   "outputs": [],
   "source": []
  }
 ],
 "metadata": {
  "kernelspec": {
   "display_name": "Python 2",
   "language": "python",
   "name": "python2"
  },
  "language_info": {
   "codemirror_mode": {
    "name": "ipython",
    "version": 2
   },
   "file_extension": ".py",
   "mimetype": "text/x-python",
   "name": "python",
   "nbconvert_exporter": "python",
   "pygments_lexer": "ipython2",
   "version": "2.7.15"
  }
 },
 "nbformat": 4,
 "nbformat_minor": 2
}
