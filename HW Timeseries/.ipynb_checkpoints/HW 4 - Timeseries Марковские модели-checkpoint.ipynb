{
 "cells": [
  {
   "cell_type": "markdown",
   "metadata": {},
   "source": [
    "#### ДЗ Марковские модели"
   ]
  },
  {
   "cell_type": "markdown",
   "metadata": {},
   "source": [
    "— Скачайте текст войны и мир (ссылка на github и гугл диск). Очистите его, оставив только русские буквы и символы пробела. Постройте матрицу переходных вероятностей. Посчитайте вероятность встретить строку из 4-х символов, которая начинается п, а кончается на р; Используя матрицу переходных вероятностей сгенерируйте слово, начинающееся с буквы “Б” и имеющее длину 8-мь символов\n",
    "— Выберите ряд и оцените его через HMM. Попробуйте “построить” (через среднее каждой компоненты) наивный прогноз ряда."
   ]
  },
  {
   "cell_type": "code",
   "execution_count": 1,
   "metadata": {},
   "outputs": [],
   "source": [
    "import numpy as np\n",
    "import re\n",
    "import matplotlib.pyplot as plt\n",
    "import seaborn as sns\n",
    "import pandas as pd\n",
    "%matplotlib inline\n",
    "sns.set()"
   ]
  },
  {
   "cell_type": "code",
   "execution_count": 2,
   "metadata": {},
   "outputs": [],
   "source": [
    "for i in range(1,5):\n",
    "    text = ''\n",
    "    with open('./data/tom_'+str(i)+'.txt', 'r') as f:\n",
    "        text = f.read().lower()\n",
    "        text += text"
   ]
  },
  {
   "cell_type": "code",
   "execution_count": 3,
   "metadata": {},
   "outputs": [],
   "source": [
    "text_ru = re.sub('[^а-я ]','', text)"
   ]
  },
  {
   "cell_type": "code",
   "execution_count": 4,
   "metadata": {
    "scrolled": true
   },
   "outputs": [
    {
     "data": {
      "text/plain": [
       "1307094"
      ]
     },
     "execution_count": 4,
     "metadata": {},
     "output_type": "execute_result"
    }
   ],
   "source": [
    "len(text_ru)"
   ]
  },
  {
   "cell_type": "code",
   "execution_count": 5,
   "metadata": {},
   "outputs": [],
   "source": [
    "# Построим матрицу переходных вероятностей"
   ]
  },
  {
   "cell_type": "code",
   "execution_count": 6,
   "metadata": {},
   "outputs": [],
   "source": [
    "RUSSIAN = 'абвгдеёжзийклмнопрстуфхцчшщъыьэюя '\n",
    "POS_RU = {l: i for i, l in enumerate(RUSSIAN)}"
   ]
  },
  {
   "cell_type": "code",
   "execution_count": 7,
   "metadata": {},
   "outputs": [],
   "source": [
    "probabilities_ru = np.zeros((len(RUSSIAN), len(RUSSIAN)))"
   ]
  },
  {
   "cell_type": "code",
   "execution_count": 8,
   "metadata": {},
   "outputs": [],
   "source": [
    "for cp, cn in zip(text_ru[:-1], text_ru[1:]):\n",
    "    probabilities_ru[POS_RU[cp], POS_RU[cn]] += 1"
   ]
  },
  {
   "cell_type": "code",
   "execution_count": 9,
   "metadata": {},
   "outputs": [
    {
     "name": "stderr",
     "output_type": "stream",
     "text": [
      "/home/pavel/anaconda3/lib/python3.6/site-packages/ipykernel_launcher.py:1: RuntimeWarning: invalid value encountered in true_divide\n",
      "  \"\"\"Entry point for launching an IPython kernel.\n"
     ]
    }
   ],
   "source": [
    "probabilities_ru = (probabilities_ru / probabilities_ru.sum(axis=1)[:, None])"
   ]
  },
  {
   "cell_type": "code",
   "execution_count": 10,
   "metadata": {},
   "outputs": [],
   "source": [
    "df_ru = pd.DataFrame(probabilities_ru, index=(c for c in RUSSIAN), columns=(c for c in RUSSIAN))"
   ]
  },
  {
   "cell_type": "code",
   "execution_count": 11,
   "metadata": {
    "scrolled": true
   },
   "outputs": [
    {
     "data": {
      "image/png": "[encoded data removed]",
      "text/plain": [
       "<Figure size 1008x576 with 2 Axes>"
      ]
     },
     "metadata": {
      "needs_background": "light"
     },
     "output_type": "display_data"
    }
   ],
   "source": [
    "plt.figure(figsize=(14,8))\n",
    "sns.heatmap(df_ru)\n",
    "plt.show()"
   ]
  },
  {
   "cell_type": "code",
   "execution_count": 12,
   "metadata": {},
   "outputs": [],
   "source": [
    "# Проверим вероятность найти строку мы"
   ]
  },
  {
   "cell_type": "code",
   "execution_count": 13,
   "metadata": {
    "scrolled": true
   },
   "outputs": [
    {
     "name": "stdout",
     "output_type": "stream",
     "text": [
      "0.0025163057729968587\n"
     ]
    }
   ],
   "source": [
    "string = \"мы\"\n",
    "proba = 1.0 / len(RUSSIAN)\n",
    "for cp, cn in zip(string[1:], string[:-1]):\n",
    "    proba *= probabilities_ru[POS_RU[cp], POS_RU[cn]]\n",
    "print(proba)"
   ]
  },
  {
   "cell_type": "code",
   "execution_count": 14,
   "metadata": {},
   "outputs": [],
   "source": [
    "# посчитаем вероятность встретить строку из 4-х символов, начинающуюся на п и заканчивающуюся на р"
   ]
  },
  {
   "cell_type": "code",
   "execution_count": 15,
   "metadata": {
    "scrolled": true
   },
   "outputs": [
    {
     "name": "stdout",
     "output_type": "stream",
     "text": [
      "0.000919655523696363\n"
     ]
    }
   ],
   "source": [
    "start = POS_RU['п']\n",
    "end = POS_RU['р']\n",
    "p = 0\n",
    "prior = 1. / len(RUSSIAN)\n",
    "for c in RUSSIAN:\n",
    "    for d in RUSSIAN:\n",
    "        proba = prior * probabilities_ru[start, POS_RU[c]] * probabilities_ru[POS_RU[c], POS_RU[d]]* probabilities_ru[POS_RU[d], end]\n",
    "        if proba > 0:\n",
    "            #print(''.join(['п', c, d, 'р']), proba)\n",
    "            p += proba\n",
    "print(p)"
   ]
  },
  {
   "cell_type": "code",
   "execution_count": 20,
   "metadata": {},
   "outputs": [],
   "source": [
    "# Сгенерируем слово, размером 8, начинующуюся с буквы б."
   ]
  },
  {
   "cell_type": "code",
   "execution_count": 21,
   "metadata": {},
   "outputs": [
    {
     "name": "stdout",
     "output_type": "stream",
     "text": [
      "би па бы\n"
     ]
    }
   ],
   "source": [
    "s = []\n",
    "start = 'б'\n",
    "s.append(start)\n",
    "length = 7\n",
    "for i in range(length):\n",
    "    index = POS_RU[s[i]]\n",
    "    next_char = np.random.choice(list(RUSSIAN), p=probabilities_ru[index])\n",
    "    s.append(next_char)\n",
    "\n",
    "print (''.join(s))"
   ]
  },
  {
   "cell_type": "markdown",
   "metadata": {},
   "source": [
    "###### Прогноз с использованием HMM"
   ]
  },
  {
   "cell_type": "code",
   "execution_count": 24,
   "metadata": {},
   "outputs": [],
   "source": [
    "from hmmlearn.hmm import GaussianHMM"
   ]
  },
  {
   "cell_type": "code",
   "execution_count": 31,
   "metadata": {},
   "outputs": [],
   "source": [
    "series = pd.read_csv(\"weekly-closings-of-the-dowjones-.csv\").iloc[:,1]"
   ]
  },
  {
   "cell_type": "code",
   "execution_count": 33,
   "metadata": {},
   "outputs": [],
   "source": [
    "values = series.values.reshape(-1,1)"
   ]
  },
  {
   "cell_type": "code",
   "execution_count": 40,
   "metadata": {},
   "outputs": [
    {
     "data": {
      "text/plain": [
       "162"
      ]
     },
     "execution_count": 40,
     "metadata": {},
     "output_type": "execute_result"
    }
   ],
   "source": [
    "len(values)"
   ]
  },
  {
   "cell_type": "code",
   "execution_count": 36,
   "metadata": {},
   "outputs": [
    {
     "name": "stdout",
     "output_type": "stream",
     "text": [
      "1 -894.2620483582117\n",
      "2 -820.6341453620589\n",
      "3 -786.8375332667551\n",
      "4 -752.0201472669238\n",
      "5 -737.1181370072733\n",
      "6 -729.5671112589506\n",
      "7 -713.7233991717259\n",
      "8 -702.1073061994974\n",
      "9 -690.9833067283263\n",
      "10 -682.1267008563286\n",
      "11 -682.0122706599453\n",
      "12 -674.6658425181973\n",
      "13 -661.9882973254136\n",
      "14 -650.5398071662314\n",
      "15 -640.3798032348406\n",
      "16 -628.4730520369841\n",
      "17 -624.2786530021177\n",
      "18 -613.7927354539027\n",
      "19 -616.0023134464495\n",
      "20 -603.8729557851492\n",
      "21 -602.1970206447822\n",
      "22 -596.6356484669146\n",
      "23 -597.5121109332025\n",
      "24 -574.5781862140045\n",
      "25 -573.8278106102529\n",
      "26 -565.1625070947082\n",
      "27 -558.5751048964329\n",
      "28 -543.6130424125394\n",
      "29 -535.9904124516997\n",
      "30 -543.68175303005\n",
      "31 -527.0662811559698\n",
      "32 -526.0202460779482\n",
      "33 -508.37283063771946\n",
      "34 -501.6231079469391\n",
      "35 -506.330145921453\n",
      "36 -498.680013954302\n",
      "37 -496.89159000308985\n",
      "38 -479.1308759465535\n",
      "39 -477.20128638390565\n",
      "40 -469.2368324357605\n",
      "41 -473.8356577959243\n",
      "42 -458.9095198298222\n",
      "43 -454.5252787633333\n",
      "44 -452.09555575336594\n"
     ]
    }
   ],
   "source": [
    "for n in range(1, 45):\n",
    "    model = GaussianHMM(n_components=n,\n",
    "                        covariance_type=\"diag\",\n",
    "                        n_iter=1000)\n",
    "    model.fit(values)\n",
    "    print (n, model.score(values))"
   ]
  },
  {
   "cell_type": "code",
   "execution_count": 42,
   "metadata": {
    "scrolled": true
   },
   "outputs": [
    {
     "data": {
      "text/plain": [
       "[<matplotlib.lines.Line2D at 0x7f96c6769390>]"
      ]
     },
     "execution_count": 42,
     "metadata": {},
     "output_type": "execute_result"
    },
    {
     "data": {
      "image/png": "[encoded data removed]",
      "text/plain": [
       "<Figure size 864x432 with 1 Axes>"
      ]
     },
     "metadata": {
      "needs_background": "light"
     },
     "output_type": "display_data"
    }
   ],
   "source": [
    "model = GaussianHMM(n_components=44,\n",
    "                        covariance_type=\"diag\",\n",
    "                        n_iter=1000)\n",
    "model.fit(values)\n",
    "labels = model.predict(values)\n",
    "means = np.zeros_like(values)\n",
    "for i in range(model.n_components):\n",
    "    means[labels == i] = model.means_[i]\n",
    "    \n",
    "plt.figure(figsize=(12, 6))\n",
    "plt.plot(values)\n",
    "plt.plot(means, linewidth=3)"
   ]
  },
  {
   "cell_type": "code",
   "execution_count": null,
   "metadata": {},
   "outputs": [],
   "source": [
    "# модель довольно хорошо апроксимирует исходный ряд данных"
   ]
  }
 ],
 "metadata": {
  "kernelspec": {
   "display_name": "Python 3",
   "language": "python",
   "name": "python3"
  },
  "language_info": {
   "codemirror_mode": {
    "name": "ipython",
    "version": 3
   },
   "file_extension": ".py",
   "mimetype": "text/x-python",
   "name": "python",
   "nbconvert_exporter": "python",
   "pygments_lexer": "ipython3",
   "version": "3.6.8"
  }
 },
 "nbformat": 4,
 "nbformat_minor": 2
}
