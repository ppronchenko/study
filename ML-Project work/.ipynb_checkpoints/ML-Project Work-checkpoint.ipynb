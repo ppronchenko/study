{
 "cells": [
  {
   "cell_type": "markdown",
   "metadata": {},
   "source": [
    "## Финальный проект по блоку машинное обучение"
   ]
  },
  {
   "cell_type": "raw",
   "metadata": {},
   "source": [
    "Загрузить данные \n",
    "Провести описательный анализ предложенных данных\n",
    "Провести анализ корреляции переменных, отобразить взаимосвязи между переменными\n",
    "Провести стратегию Feature Selection (попробовать как минимум два различных подхода)\n",
    "Шкалировать данные несколькими способами (нормализация, стандартизация). Какой подход лучше?\n",
    "Попробовать стратегию oversamling и сравнить ее с неизмененной моделью\n",
    "Попробовать стратегию undersampling и сравнить ее с неизмененной моделью\n",
    "Сделать кросс-валидацию тренировочных данных с использованием подхода K-fold (n_folds=10)\n",
    "Решить задачу бинарной классификации и предсказать удовлетворение клиентов банка (переменная TARGET)\n",
    "Рассчитать Feature Importances для переменных модели\n",
    "Проверить качество классификации с использованием следующих метрик: Accuracy, F1-Score, Precision, Recall\n",
    "Построить Confusion Matrix для ваших результатов\n",
    "Загрузить ipython notebook с результатами работы на github "
   ]
  },
  {
   "cell_type": "code",
   "execution_count": null,
   "metadata": {},
   "outputs": [],
   "source": [
    "import pandas as pd\n",
    "import numpy as np\n",
    "from matplotlib import pyplot as plt\n",
    "%matplotlib inline\n",
    "import seaborn as sns\n",
    "%config InlineBackend.figure_format = 'retina'\n",
    "from pylab import rcParams\n",
    "rcParams['figure.figsize'] = (14, 11)\n",
    "import warnings\n",
    "warnings.filterwarnings('ignore')\n",
    "from sklearn.preprocessing import StandardScaler\n",
    "from sklearn.preprocessing import normalize\n",
    "from sklearn.model_selection import KFold\n",
    "from sklearn.model_selection import cross_val_score\n",
    "from sklearn.cross_validation import train_test_split\n",
    "from sklearn.ensemble import RandomForestClassifier\n",
    "from sklearn.linear_model import LogisticRegression\n",
    "from sklearn.tree import DecisionTreeClassifier\n",
    "from sklearn.decomposition import PCA\n",
    "import xgboost \n",
    "from sklearn.svm import SVC\n",
    "from sklearn import metrics\n",
    "from sklearn.feature_selection import RFE\n",
    "from sklearn.model_selection import GridSearchCV\n",
    "from sklearn.metrics import classification_report\n",
    "from sklearn.feature_selection import SelectKBest\n",
    "from sklearn.feature_selection import f_regression\n",
    "from sklearn.preprocessing import MinMaxScaler"
   ]
  },
  {
   "cell_type": "code",
   "execution_count": null,
   "metadata": {},
   "outputs": [],
   "source": [
    "df_train = pd.read_csv('train.csv')"
   ]
  },
  {
   "cell_type": "code",
   "execution_count": null,
   "metadata": {},
   "outputs": [],
   "source": [
    "df_train.head()"
   ]
  },
  {
   "cell_type": "code",
   "execution_count": 4,
   "metadata": {
    "scrolled": false
   },
   "outputs": [
    {
     "name": "stdout",
     "output_type": "stream",
     "text": [
      "<class 'pandas.core.frame.DataFrame'>\n",
      "RangeIndex: 76020 entries, 0 to 76019\n",
      "Columns: 371 entries, ID to TARGET\n",
      "dtypes: float64(111), int64(260)\n",
      "memory usage: 215.2 MB\n"
     ]
    }
   ],
   "source": [
    "df_train.info()"
   ]
  },
  {
   "cell_type": "code",
   "execution_count": 5,
   "metadata": {},
   "outputs": [],
   "source": [
    "df_train = df_train.fillna(0)"
   ]
  },
  {
   "cell_type": "code",
   "execution_count": 6,
   "metadata": {},
   "outputs": [],
   "source": [
    "df_test = pd.read_csv('test.csv')"
   ]
  },
  {
   "cell_type": "code",
   "execution_count": 7,
   "metadata": {
    "scrolled": true
   },
   "outputs": [
    {
     "name": "stdout",
     "output_type": "stream",
     "text": [
      "<class 'pandas.core.frame.DataFrame'>\n",
      "RangeIndex: 75818 entries, 0 to 75817\n",
      "Columns: 370 entries, ID to var38\n",
      "dtypes: float64(110), int64(260)\n",
      "memory usage: 214.0 MB\n"
     ]
    }
   ],
   "source": [
    "df_test.info()"
   ]
  },
  {
   "cell_type": "code",
   "execution_count": 8,
   "metadata": {},
   "outputs": [],
   "source": [
    "df1 = df_train.iloc[:, 0:100]"
   ]
  },
  {
   "cell_type": "code",
   "execution_count": 9,
   "metadata": {},
   "outputs": [],
   "source": [
    "df2 = df_train.iloc[:, 101:200]"
   ]
  },
  {
   "cell_type": "code",
   "execution_count": 10,
   "metadata": {},
   "outputs": [],
   "source": [
    "df3 = df_train.iloc[:, 201:300]"
   ]
  },
  {
   "cell_type": "code",
   "execution_count": 11,
   "metadata": {},
   "outputs": [],
   "source": [
    "df4 = df_train.iloc[:, 300:371]"
   ]
  },
  {
   "cell_type": "code",
   "execution_count": 12,
   "metadata": {},
   "outputs": [
    {
     "name": "stdout",
     "output_type": "stream",
     "text": [
      "<class 'pandas.core.frame.DataFrame'>\n",
      "RangeIndex: 76020 entries, 0 to 76019\n",
      "Data columns (total 100 columns):\n",
      "ID                         76020 non-null int64\n",
      "var3                       76020 non-null int64\n",
      "var15                      76020 non-null int64\n",
      "imp_ent_var16_ult1         76020 non-null float64\n",
      "imp_op_var39_comer_ult1    76020 non-null float64\n",
      "imp_op_var39_comer_ult3    76020 non-null float64\n",
      "imp_op_var40_comer_ult1    76020 non-null float64\n",
      "imp_op_var40_comer_ult3    76020 non-null float64\n",
      "imp_op_var40_efect_ult1    76020 non-null float64\n",
      "imp_op_var40_efect_ult3    76020 non-null float64\n",
      "imp_op_var40_ult1          76020 non-null float64\n",
      "imp_op_var41_comer_ult1    76020 non-null float64\n",
      "imp_op_var41_comer_ult3    76020 non-null float64\n",
      "imp_op_var41_efect_ult1    76020 non-null float64\n",
      "imp_op_var41_efect_ult3    76020 non-null float64\n",
      "imp_op_var41_ult1          76020 non-null float64\n",
      "imp_op_var39_efect_ult1    76020 non-null float64\n",
      "imp_op_var39_efect_ult3    76020 non-null float64\n",
      "imp_op_var39_ult1          76020 non-null float64\n",
      "imp_sal_var16_ult1         76020 non-null float64\n",
      "ind_var1_0                 76020 non-null int64\n",
      "ind_var1                   76020 non-null int64\n",
      "ind_var2_0                 76020 non-null int64\n",
      "ind_var2                   76020 non-null int64\n",
      "ind_var5_0                 76020 non-null int64\n",
      "ind_var5                   76020 non-null int64\n",
      "ind_var6_0                 76020 non-null int64\n",
      "ind_var6                   76020 non-null int64\n",
      "ind_var8_0                 76020 non-null int64\n",
      "ind_var8                   76020 non-null int64\n",
      "ind_var12_0                76020 non-null int64\n",
      "ind_var12                  76020 non-null int64\n",
      "ind_var13_0                76020 non-null int64\n",
      "ind_var13_corto_0          76020 non-null int64\n",
      "ind_var13_corto            76020 non-null int64\n",
      "ind_var13_largo_0          76020 non-null int64\n",
      "ind_var13_largo            76020 non-null int64\n",
      "ind_var13_medio_0          76020 non-null int64\n",
      "ind_var13_medio            76020 non-null int64\n",
      "ind_var13                  76020 non-null int64\n",
      "ind_var14_0                76020 non-null int64\n",
      "ind_var14                  76020 non-null int64\n",
      "ind_var17_0                76020 non-null int64\n",
      "ind_var17                  76020 non-null int64\n",
      "ind_var18_0                76020 non-null int64\n",
      "ind_var18                  76020 non-null int64\n",
      "ind_var19                  76020 non-null int64\n",
      "ind_var20_0                76020 non-null int64\n",
      "ind_var20                  76020 non-null int64\n",
      "ind_var24_0                76020 non-null int64\n",
      "ind_var24                  76020 non-null int64\n",
      "ind_var25_cte              76020 non-null int64\n",
      "ind_var26_0                76020 non-null int64\n",
      "ind_var26_cte              76020 non-null int64\n",
      "ind_var26                  76020 non-null int64\n",
      "ind_var25_0                76020 non-null int64\n",
      "ind_var25                  76020 non-null int64\n",
      "ind_var27_0                76020 non-null int64\n",
      "ind_var28_0                76020 non-null int64\n",
      "ind_var28                  76020 non-null int64\n",
      "ind_var27                  76020 non-null int64\n",
      "ind_var29_0                76020 non-null int64\n",
      "ind_var29                  76020 non-null int64\n",
      "ind_var30_0                76020 non-null int64\n",
      "ind_var30                  76020 non-null int64\n",
      "ind_var31_0                76020 non-null int64\n",
      "ind_var31                  76020 non-null int64\n",
      "ind_var32_cte              76020 non-null int64\n",
      "ind_var32_0                76020 non-null int64\n",
      "ind_var32                  76020 non-null int64\n",
      "ind_var33_0                76020 non-null int64\n",
      "ind_var33                  76020 non-null int64\n",
      "ind_var34_0                76020 non-null int64\n",
      "ind_var34                  76020 non-null int64\n",
      "ind_var37_cte              76020 non-null int64\n",
      "ind_var37_0                76020 non-null int64\n",
      "ind_var37                  76020 non-null int64\n",
      "ind_var39_0                76020 non-null int64\n",
      "ind_var40_0                76020 non-null int64\n",
      "ind_var40                  76020 non-null int64\n",
      "ind_var41_0                76020 non-null int64\n",
      "ind_var41                  76020 non-null int64\n",
      "ind_var39                  76020 non-null int64\n",
      "ind_var44_0                76020 non-null int64\n",
      "ind_var44                  76020 non-null int64\n",
      "ind_var46_0                76020 non-null int64\n",
      "ind_var46                  76020 non-null int64\n",
      "num_var1_0                 76020 non-null int64\n",
      "num_var1                   76020 non-null int64\n",
      "num_var4                   76020 non-null int64\n",
      "num_var5_0                 76020 non-null int64\n",
      "num_var5                   76020 non-null int64\n",
      "num_var6_0                 76020 non-null int64\n",
      "num_var6                   76020 non-null int64\n",
      "num_var8_0                 76020 non-null int64\n",
      "num_var8                   76020 non-null int64\n",
      "num_var12_0                76020 non-null int64\n",
      "num_var12                  76020 non-null int64\n",
      "num_var13_0                76020 non-null int64\n",
      "num_var13_corto_0          76020 non-null int64\n",
      "dtypes: float64(17), int64(83)\n",
      "memory usage: 58.0 MB\n"
     ]
    }
   ],
   "source": [
    "df1.info()"
   ]
  },
  {
   "cell_type": "code",
   "execution_count": 13,
   "metadata": {
    "scrolled": true
   },
   "outputs": [
    {
     "data": {
      "text/html": [
       "<div>\n",
       "<style scoped>\n",
       "    .dataframe tbody tr th:only-of-type {\n",
       "        vertical-align: middle;\n",
       "    }\n",
       "\n",
       "    .dataframe tbody tr th {\n",
       "        vertical-align: top;\n",
       "    }\n",
       "\n",
       "    .dataframe thead th {\n",
       "        text-align: right;\n",
       "    }\n",
       "</style>\n",
       "<table border=\"1\" class=\"dataframe\">\n",
       "  <thead>\n",
       "    <tr style=\"text-align: right;\">\n",
       "      <th></th>\n",
       "      <th>ID</th>\n",
       "      <th>var3</th>\n",
       "      <th>var15</th>\n",
       "      <th>imp_ent_var16_ult1</th>\n",
       "      <th>imp_op_var39_comer_ult1</th>\n",
       "      <th>imp_op_var39_comer_ult3</th>\n",
       "      <th>imp_op_var40_comer_ult1</th>\n",
       "      <th>imp_op_var40_comer_ult3</th>\n",
       "      <th>imp_op_var40_efect_ult1</th>\n",
       "      <th>imp_op_var40_efect_ult3</th>\n",
       "      <th>...</th>\n",
       "      <th>num_var5_0</th>\n",
       "      <th>num_var5</th>\n",
       "      <th>num_var6_0</th>\n",
       "      <th>num_var6</th>\n",
       "      <th>num_var8_0</th>\n",
       "      <th>num_var8</th>\n",
       "      <th>num_var12_0</th>\n",
       "      <th>num_var12</th>\n",
       "      <th>num_var13_0</th>\n",
       "      <th>num_var13_corto_0</th>\n",
       "    </tr>\n",
       "  </thead>\n",
       "  <tbody>\n",
       "    <tr>\n",
       "      <th>count</th>\n",
       "      <td>76020.000000</td>\n",
       "      <td>76020.000000</td>\n",
       "      <td>76020.000000</td>\n",
       "      <td>76020.000000</td>\n",
       "      <td>76020.000000</td>\n",
       "      <td>76020.000000</td>\n",
       "      <td>76020.000000</td>\n",
       "      <td>76020.000000</td>\n",
       "      <td>76020.000000</td>\n",
       "      <td>76020.000000</td>\n",
       "      <td>...</td>\n",
       "      <td>76020.000000</td>\n",
       "      <td>76020.000000</td>\n",
       "      <td>76020.000000</td>\n",
       "      <td>76020.000000</td>\n",
       "      <td>76020.00000</td>\n",
       "      <td>76020.000000</td>\n",
       "      <td>76020.000000</td>\n",
       "      <td>76020.000000</td>\n",
       "      <td>76020.000000</td>\n",
       "      <td>76020.000000</td>\n",
       "    </tr>\n",
       "    <tr>\n",
       "      <th>mean</th>\n",
       "      <td>75964.050723</td>\n",
       "      <td>-1523.199277</td>\n",
       "      <td>33.212865</td>\n",
       "      <td>86.208265</td>\n",
       "      <td>72.363067</td>\n",
       "      <td>119.529632</td>\n",
       "      <td>3.559130</td>\n",
       "      <td>6.472698</td>\n",
       "      <td>0.412946</td>\n",
       "      <td>0.567352</td>\n",
       "      <td>...</td>\n",
       "      <td>2.894041</td>\n",
       "      <td>1.999171</td>\n",
       "      <td>0.000316</td>\n",
       "      <td>0.000079</td>\n",
       "      <td>0.09854</td>\n",
       "      <td>0.085793</td>\n",
       "      <td>0.211247</td>\n",
       "      <td>0.138003</td>\n",
       "      <td>0.167719</td>\n",
       "      <td>0.130308</td>\n",
       "    </tr>\n",
       "    <tr>\n",
       "      <th>std</th>\n",
       "      <td>43781.947379</td>\n",
       "      <td>39033.462364</td>\n",
       "      <td>12.956486</td>\n",
       "      <td>1614.757313</td>\n",
       "      <td>339.315831</td>\n",
       "      <td>546.266294</td>\n",
       "      <td>93.155749</td>\n",
       "      <td>153.737066</td>\n",
       "      <td>30.604864</td>\n",
       "      <td>36.513513</td>\n",
       "      <td>...</td>\n",
       "      <td>0.656479</td>\n",
       "      <td>1.431902</td>\n",
       "      <td>0.030774</td>\n",
       "      <td>0.015388</td>\n",
       "      <td>0.53493</td>\n",
       "      <td>0.500022</td>\n",
       "      <td>0.890236</td>\n",
       "      <td>0.637259</td>\n",
       "      <td>0.745822</td>\n",
       "      <td>0.618826</td>\n",
       "    </tr>\n",
       "    <tr>\n",
       "      <th>min</th>\n",
       "      <td>1.000000</td>\n",
       "      <td>-999999.000000</td>\n",
       "      <td>5.000000</td>\n",
       "      <td>0.000000</td>\n",
       "      <td>0.000000</td>\n",
       "      <td>0.000000</td>\n",
       "      <td>0.000000</td>\n",
       "      <td>0.000000</td>\n",
       "      <td>0.000000</td>\n",
       "      <td>0.000000</td>\n",
       "      <td>...</td>\n",
       "      <td>0.000000</td>\n",
       "      <td>0.000000</td>\n",
       "      <td>0.000000</td>\n",
       "      <td>0.000000</td>\n",
       "      <td>0.00000</td>\n",
       "      <td>0.000000</td>\n",
       "      <td>0.000000</td>\n",
       "      <td>0.000000</td>\n",
       "      <td>0.000000</td>\n",
       "      <td>0.000000</td>\n",
       "    </tr>\n",
       "    <tr>\n",
       "      <th>25%</th>\n",
       "      <td>38104.750000</td>\n",
       "      <td>2.000000</td>\n",
       "      <td>23.000000</td>\n",
       "      <td>0.000000</td>\n",
       "      <td>0.000000</td>\n",
       "      <td>0.000000</td>\n",
       "      <td>0.000000</td>\n",
       "      <td>0.000000</td>\n",
       "      <td>0.000000</td>\n",
       "      <td>0.000000</td>\n",
       "      <td>...</td>\n",
       "      <td>3.000000</td>\n",
       "      <td>0.000000</td>\n",
       "      <td>0.000000</td>\n",
       "      <td>0.000000</td>\n",
       "      <td>0.00000</td>\n",
       "      <td>0.000000</td>\n",
       "      <td>0.000000</td>\n",
       "      <td>0.000000</td>\n",
       "      <td>0.000000</td>\n",
       "      <td>0.000000</td>\n",
       "    </tr>\n",
       "    <tr>\n",
       "      <th>50%</th>\n",
       "      <td>76043.000000</td>\n",
       "      <td>2.000000</td>\n",
       "      <td>28.000000</td>\n",
       "      <td>0.000000</td>\n",
       "      <td>0.000000</td>\n",
       "      <td>0.000000</td>\n",
       "      <td>0.000000</td>\n",
       "      <td>0.000000</td>\n",
       "      <td>0.000000</td>\n",
       "      <td>0.000000</td>\n",
       "      <td>...</td>\n",
       "      <td>3.000000</td>\n",
       "      <td>3.000000</td>\n",
       "      <td>0.000000</td>\n",
       "      <td>0.000000</td>\n",
       "      <td>0.00000</td>\n",
       "      <td>0.000000</td>\n",
       "      <td>0.000000</td>\n",
       "      <td>0.000000</td>\n",
       "      <td>0.000000</td>\n",
       "      <td>0.000000</td>\n",
       "    </tr>\n",
       "    <tr>\n",
       "      <th>75%</th>\n",
       "      <td>113748.750000</td>\n",
       "      <td>2.000000</td>\n",
       "      <td>40.000000</td>\n",
       "      <td>0.000000</td>\n",
       "      <td>0.000000</td>\n",
       "      <td>0.000000</td>\n",
       "      <td>0.000000</td>\n",
       "      <td>0.000000</td>\n",
       "      <td>0.000000</td>\n",
       "      <td>0.000000</td>\n",
       "      <td>...</td>\n",
       "      <td>3.000000</td>\n",
       "      <td>3.000000</td>\n",
       "      <td>0.000000</td>\n",
       "      <td>0.000000</td>\n",
       "      <td>0.00000</td>\n",
       "      <td>0.000000</td>\n",
       "      <td>0.000000</td>\n",
       "      <td>0.000000</td>\n",
       "      <td>0.000000</td>\n",
       "      <td>0.000000</td>\n",
       "    </tr>\n",
       "    <tr>\n",
       "      <th>max</th>\n",
       "      <td>151838.000000</td>\n",
       "      <td>238.000000</td>\n",
       "      <td>105.000000</td>\n",
       "      <td>210000.000000</td>\n",
       "      <td>12888.030000</td>\n",
       "      <td>21024.810000</td>\n",
       "      <td>8237.820000</td>\n",
       "      <td>11073.570000</td>\n",
       "      <td>6600.000000</td>\n",
       "      <td>6600.000000</td>\n",
       "      <td>...</td>\n",
       "      <td>15.000000</td>\n",
       "      <td>15.000000</td>\n",
       "      <td>3.000000</td>\n",
       "      <td>3.000000</td>\n",
       "      <td>6.00000</td>\n",
       "      <td>3.000000</td>\n",
       "      <td>111.000000</td>\n",
       "      <td>15.000000</td>\n",
       "      <td>18.000000</td>\n",
       "      <td>6.000000</td>\n",
       "    </tr>\n",
       "  </tbody>\n",
       "</table>\n",
       "<p>8 rows × 100 columns</p>\n",
       "</div>"
      ],
      "text/plain": [
       "                  ID           var3         var15  imp_ent_var16_ult1  \\\n",
       "count   76020.000000   76020.000000  76020.000000        76020.000000   \n",
       "mean    75964.050723   -1523.199277     33.212865           86.208265   \n",
       "std     43781.947379   39033.462364     12.956486         1614.757313   \n",
       "min         1.000000 -999999.000000      5.000000            0.000000   \n",
       "25%     38104.750000       2.000000     23.000000            0.000000   \n",
       "50%     76043.000000       2.000000     28.000000            0.000000   \n",
       "75%    113748.750000       2.000000     40.000000            0.000000   \n",
       "max    151838.000000     238.000000    105.000000       210000.000000   \n",
       "\n",
       "       imp_op_var39_comer_ult1  imp_op_var39_comer_ult3  \\\n",
       "count             76020.000000             76020.000000   \n",
       "mean                 72.363067               119.529632   \n",
       "std                 339.315831               546.266294   \n",
       "min                   0.000000                 0.000000   \n",
       "25%                   0.000000                 0.000000   \n",
       "50%                   0.000000                 0.000000   \n",
       "75%                   0.000000                 0.000000   \n",
       "max               12888.030000             21024.810000   \n",
       "\n",
       "       imp_op_var40_comer_ult1  imp_op_var40_comer_ult3  \\\n",
       "count             76020.000000             76020.000000   \n",
       "mean                  3.559130                 6.472698   \n",
       "std                  93.155749               153.737066   \n",
       "min                   0.000000                 0.000000   \n",
       "25%                   0.000000                 0.000000   \n",
       "50%                   0.000000                 0.000000   \n",
       "75%                   0.000000                 0.000000   \n",
       "max                8237.820000             11073.570000   \n",
       "\n",
       "       imp_op_var40_efect_ult1  imp_op_var40_efect_ult3        ...          \\\n",
       "count             76020.000000             76020.000000        ...           \n",
       "mean                  0.412946                 0.567352        ...           \n",
       "std                  30.604864                36.513513        ...           \n",
       "min                   0.000000                 0.000000        ...           \n",
       "25%                   0.000000                 0.000000        ...           \n",
       "50%                   0.000000                 0.000000        ...           \n",
       "75%                   0.000000                 0.000000        ...           \n",
       "max                6600.000000              6600.000000        ...           \n",
       "\n",
       "         num_var5_0      num_var5    num_var6_0      num_var6   num_var8_0  \\\n",
       "count  76020.000000  76020.000000  76020.000000  76020.000000  76020.00000   \n",
       "mean       2.894041      1.999171      0.000316      0.000079      0.09854   \n",
       "std        0.656479      1.431902      0.030774      0.015388      0.53493   \n",
       "min        0.000000      0.000000      0.000000      0.000000      0.00000   \n",
       "25%        3.000000      0.000000      0.000000      0.000000      0.00000   \n",
       "50%        3.000000      3.000000      0.000000      0.000000      0.00000   \n",
       "75%        3.000000      3.000000      0.000000      0.000000      0.00000   \n",
       "max       15.000000     15.000000      3.000000      3.000000      6.00000   \n",
       "\n",
       "           num_var8   num_var12_0     num_var12   num_var13_0  \\\n",
       "count  76020.000000  76020.000000  76020.000000  76020.000000   \n",
       "mean       0.085793      0.211247      0.138003      0.167719   \n",
       "std        0.500022      0.890236      0.637259      0.745822   \n",
       "min        0.000000      0.000000      0.000000      0.000000   \n",
       "25%        0.000000      0.000000      0.000000      0.000000   \n",
       "50%        0.000000      0.000000      0.000000      0.000000   \n",
       "75%        0.000000      0.000000      0.000000      0.000000   \n",
       "max        3.000000    111.000000     15.000000     18.000000   \n",
       "\n",
       "       num_var13_corto_0  \n",
       "count       76020.000000  \n",
       "mean            0.130308  \n",
       "std             0.618826  \n",
       "min             0.000000  \n",
       "25%             0.000000  \n",
       "50%             0.000000  \n",
       "75%             0.000000  \n",
       "max             6.000000  \n",
       "\n",
       "[8 rows x 100 columns]"
      ]
     },
     "execution_count": 13,
     "metadata": {},
     "output_type": "execute_result"
    }
   ],
   "source": [
    "df1.describe()"
   ]
  },
  {
   "cell_type": "code",
   "execution_count": 14,
   "metadata": {},
   "outputs": [
    {
     "name": "stdout",
     "output_type": "stream",
     "text": [
      "<class 'pandas.core.frame.DataFrame'>\n",
      "RangeIndex: 76020 entries, 0 to 76019\n",
      "Data columns (total 99 columns):\n",
      "num_var13_largo_0            76020 non-null int64\n",
      "num_var13_largo              76020 non-null int64\n",
      "num_var13_medio_0            76020 non-null int64\n",
      "num_var13_medio              76020 non-null int64\n",
      "num_var13                    76020 non-null int64\n",
      "num_var14_0                  76020 non-null int64\n",
      "num_var14                    76020 non-null int64\n",
      "num_var17_0                  76020 non-null int64\n",
      "num_var17                    76020 non-null int64\n",
      "num_var18_0                  76020 non-null int64\n",
      "num_var18                    76020 non-null int64\n",
      "num_var20_0                  76020 non-null int64\n",
      "num_var20                    76020 non-null int64\n",
      "num_var24_0                  76020 non-null int64\n",
      "num_var24                    76020 non-null int64\n",
      "num_var26_0                  76020 non-null int64\n",
      "num_var26                    76020 non-null int64\n",
      "num_var25_0                  76020 non-null int64\n",
      "num_var25                    76020 non-null int64\n",
      "num_op_var40_hace2           76020 non-null int64\n",
      "num_op_var40_hace3           76020 non-null int64\n",
      "num_op_var40_ult1            76020 non-null int64\n",
      "num_op_var40_ult3            76020 non-null int64\n",
      "num_op_var41_hace2           76020 non-null int64\n",
      "num_op_var41_hace3           76020 non-null int64\n",
      "num_op_var41_ult1            76020 non-null int64\n",
      "num_op_var41_ult3            76020 non-null int64\n",
      "num_op_var39_hace2           76020 non-null int64\n",
      "num_op_var39_hace3           76020 non-null int64\n",
      "num_op_var39_ult1            76020 non-null int64\n",
      "num_op_var39_ult3            76020 non-null int64\n",
      "num_var27_0                  76020 non-null int64\n",
      "num_var28_0                  76020 non-null int64\n",
      "num_var28                    76020 non-null int64\n",
      "num_var27                    76020 non-null int64\n",
      "num_var29_0                  76020 non-null int64\n",
      "num_var29                    76020 non-null int64\n",
      "num_var30_0                  76020 non-null int64\n",
      "num_var30                    76020 non-null int64\n",
      "num_var31_0                  76020 non-null int64\n",
      "num_var31                    76020 non-null int64\n",
      "num_var32_0                  76020 non-null int64\n",
      "num_var32                    76020 non-null int64\n",
      "num_var33_0                  76020 non-null int64\n",
      "num_var33                    76020 non-null int64\n",
      "num_var34_0                  76020 non-null int64\n",
      "num_var34                    76020 non-null int64\n",
      "num_var35                    76020 non-null int64\n",
      "num_var37_med_ult2           76020 non-null int64\n",
      "num_var37_0                  76020 non-null int64\n",
      "num_var37                    76020 non-null int64\n",
      "num_var39_0                  76020 non-null int64\n",
      "num_var40_0                  76020 non-null int64\n",
      "num_var40                    76020 non-null int64\n",
      "num_var41_0                  76020 non-null int64\n",
      "num_var41                    76020 non-null int64\n",
      "num_var39                    76020 non-null int64\n",
      "num_var42_0                  76020 non-null int64\n",
      "num_var42                    76020 non-null int64\n",
      "num_var44_0                  76020 non-null int64\n",
      "num_var44                    76020 non-null int64\n",
      "num_var46_0                  76020 non-null int64\n",
      "num_var46                    76020 non-null int64\n",
      "saldo_var1                   76020 non-null float64\n",
      "saldo_var5                   76020 non-null float64\n",
      "saldo_var6                   76020 non-null float64\n",
      "saldo_var8                   76020 non-null float64\n",
      "saldo_var12                  76020 non-null float64\n",
      "saldo_var13_corto            76020 non-null float64\n",
      "saldo_var13_largo            76020 non-null float64\n",
      "saldo_var13_medio            76020 non-null int64\n",
      "saldo_var13                  76020 non-null float64\n",
      "saldo_var14                  76020 non-null float64\n",
      "saldo_var17                  76020 non-null float64\n",
      "saldo_var18                  76020 non-null int64\n",
      "saldo_var20                  76020 non-null float64\n",
      "saldo_var24                  76020 non-null float64\n",
      "saldo_var26                  76020 non-null float64\n",
      "saldo_var25                  76020 non-null float64\n",
      "saldo_var28                  76020 non-null int64\n",
      "saldo_var27                  76020 non-null int64\n",
      "saldo_var29                  76020 non-null float64\n",
      "saldo_var30                  76020 non-null float64\n",
      "saldo_var31                  76020 non-null float64\n",
      "saldo_var32                  76020 non-null float64\n",
      "saldo_var33                  76020 non-null float64\n",
      "saldo_var34                  76020 non-null int64\n",
      "saldo_var37                  76020 non-null float64\n",
      "saldo_var40                  76020 non-null float64\n",
      "saldo_var41                  76020 non-null int64\n",
      "saldo_var42                  76020 non-null float64\n",
      "saldo_var44                  76020 non-null float64\n",
      "saldo_var46                  76020 non-null int64\n",
      "var36                        76020 non-null int64\n",
      "delta_imp_amort_var18_1y3    76020 non-null int64\n",
      "delta_imp_amort_var34_1y3    76020 non-null int64\n",
      "delta_imp_aport_var13_1y3    76020 non-null float64\n",
      "delta_imp_aport_var17_1y3    76020 non-null float64\n",
      "delta_imp_aport_var33_1y3    76020 non-null float64\n",
      "dtypes: float64(26), int64(73)\n",
      "memory usage: 57.4 MB\n"
     ]
    }
   ],
   "source": [
    "df2.info()"
   ]
  },
  {
   "cell_type": "code",
   "execution_count": 15,
   "metadata": {
    "scrolled": true
   },
   "outputs": [
    {
     "data": {
      "text/html": [
       "<div>\n",
       "<style scoped>\n",
       "    .dataframe tbody tr th:only-of-type {\n",
       "        vertical-align: middle;\n",
       "    }\n",
       "\n",
       "    .dataframe tbody tr th {\n",
       "        vertical-align: top;\n",
       "    }\n",
       "\n",
       "    .dataframe thead th {\n",
       "        text-align: right;\n",
       "    }\n",
       "</style>\n",
       "<table border=\"1\" class=\"dataframe\">\n",
       "  <thead>\n",
       "    <tr style=\"text-align: right;\">\n",
       "      <th></th>\n",
       "      <th>num_var13_largo_0</th>\n",
       "      <th>num_var13_largo</th>\n",
       "      <th>num_var13_medio_0</th>\n",
       "      <th>num_var13_medio</th>\n",
       "      <th>num_var13</th>\n",
       "      <th>num_var14_0</th>\n",
       "      <th>num_var14</th>\n",
       "      <th>num_var17_0</th>\n",
       "      <th>num_var17</th>\n",
       "      <th>num_var18_0</th>\n",
       "      <th>...</th>\n",
       "      <th>saldo_var41</th>\n",
       "      <th>saldo_var42</th>\n",
       "      <th>saldo_var44</th>\n",
       "      <th>saldo_var46</th>\n",
       "      <th>var36</th>\n",
       "      <th>delta_imp_amort_var18_1y3</th>\n",
       "      <th>delta_imp_amort_var34_1y3</th>\n",
       "      <th>delta_imp_aport_var13_1y3</th>\n",
       "      <th>delta_imp_aport_var17_1y3</th>\n",
       "      <th>delta_imp_aport_var33_1y3</th>\n",
       "    </tr>\n",
       "  </thead>\n",
       "  <tbody>\n",
       "    <tr>\n",
       "      <th>count</th>\n",
       "      <td>76020.000000</td>\n",
       "      <td>76020.000000</td>\n",
       "      <td>76020.000000</td>\n",
       "      <td>76020.000000</td>\n",
       "      <td>76020.000000</td>\n",
       "      <td>76020.000000</td>\n",
       "      <td>76020.00000</td>\n",
       "      <td>76020.000000</td>\n",
       "      <td>76020.000000</td>\n",
       "      <td>76020.000000</td>\n",
       "      <td>...</td>\n",
       "      <td>76020.0</td>\n",
       "      <td>7.602000e+04</td>\n",
       "      <td>76020.000000</td>\n",
       "      <td>76020.0</td>\n",
       "      <td>76020.000000</td>\n",
       "      <td>7.602000e+04</td>\n",
       "      <td>7.602000e+04</td>\n",
       "      <td>7.602000e+04</td>\n",
       "      <td>7.602000e+04</td>\n",
       "      <td>7.602000e+04</td>\n",
       "    </tr>\n",
       "    <tr>\n",
       "      <th>mean</th>\n",
       "      <td>0.037332</td>\n",
       "      <td>0.035241</td>\n",
       "      <td>0.000079</td>\n",
       "      <td>0.000079</td>\n",
       "      <td>0.159826</td>\n",
       "      <td>0.072691</td>\n",
       "      <td>0.01614</td>\n",
       "      <td>0.011878</td>\n",
       "      <td>0.008879</td>\n",
       "      <td>0.000079</td>\n",
       "      <td>...</td>\n",
       "      <td>0.0</td>\n",
       "      <td>7.191725e+03</td>\n",
       "      <td>96.352738</td>\n",
       "      <td>0.0</td>\n",
       "      <td>40.449079</td>\n",
       "      <td>2.630887e+05</td>\n",
       "      <td>2.630887e+05</td>\n",
       "      <td>4.867140e+07</td>\n",
       "      <td>5.130229e+06</td>\n",
       "      <td>1.315443e+05</td>\n",
       "    </tr>\n",
       "    <tr>\n",
       "      <th>std</th>\n",
       "      <td>0.404822</td>\n",
       "      <td>0.381373</td>\n",
       "      <td>0.015388</td>\n",
       "      <td>0.015388</td>\n",
       "      <td>0.713022</td>\n",
       "      <td>0.610815</td>\n",
       "      <td>0.22426</td>\n",
       "      <td>0.362480</td>\n",
       "      <td>0.288768</td>\n",
       "      <td>0.015388</td>\n",
       "      <td>...</td>\n",
       "      <td>0.0</td>\n",
       "      <td>4.914531e+04</td>\n",
       "      <td>5218.428365</td>\n",
       "      <td>0.0</td>\n",
       "      <td>47.362719</td>\n",
       "      <td>5.129183e+07</td>\n",
       "      <td>5.129183e+07</td>\n",
       "      <td>6.959537e+08</td>\n",
       "      <td>2.264435e+08</td>\n",
       "      <td>3.626904e+07</td>\n",
       "    </tr>\n",
       "    <tr>\n",
       "      <th>min</th>\n",
       "      <td>0.000000</td>\n",
       "      <td>0.000000</td>\n",
       "      <td>0.000000</td>\n",
       "      <td>0.000000</td>\n",
       "      <td>0.000000</td>\n",
       "      <td>0.000000</td>\n",
       "      <td>0.00000</td>\n",
       "      <td>0.000000</td>\n",
       "      <td>0.000000</td>\n",
       "      <td>0.000000</td>\n",
       "      <td>...</td>\n",
       "      <td>0.0</td>\n",
       "      <td>-4.942260e+03</td>\n",
       "      <td>0.000000</td>\n",
       "      <td>0.0</td>\n",
       "      <td>0.000000</td>\n",
       "      <td>0.000000e+00</td>\n",
       "      <td>0.000000e+00</td>\n",
       "      <td>-1.000000e+00</td>\n",
       "      <td>-1.000000e+00</td>\n",
       "      <td>-1.000000e+00</td>\n",
       "    </tr>\n",
       "    <tr>\n",
       "      <th>25%</th>\n",
       "      <td>0.000000</td>\n",
       "      <td>0.000000</td>\n",
       "      <td>0.000000</td>\n",
       "      <td>0.000000</td>\n",
       "      <td>0.000000</td>\n",
       "      <td>0.000000</td>\n",
       "      <td>0.00000</td>\n",
       "      <td>0.000000</td>\n",
       "      <td>0.000000</td>\n",
       "      <td>0.000000</td>\n",
       "      <td>...</td>\n",
       "      <td>0.0</td>\n",
       "      <td>0.000000e+00</td>\n",
       "      <td>0.000000</td>\n",
       "      <td>0.0</td>\n",
       "      <td>2.000000</td>\n",
       "      <td>0.000000e+00</td>\n",
       "      <td>0.000000e+00</td>\n",
       "      <td>0.000000e+00</td>\n",
       "      <td>0.000000e+00</td>\n",
       "      <td>0.000000e+00</td>\n",
       "    </tr>\n",
       "    <tr>\n",
       "      <th>50%</th>\n",
       "      <td>0.000000</td>\n",
       "      <td>0.000000</td>\n",
       "      <td>0.000000</td>\n",
       "      <td>0.000000</td>\n",
       "      <td>0.000000</td>\n",
       "      <td>0.000000</td>\n",
       "      <td>0.00000</td>\n",
       "      <td>0.000000</td>\n",
       "      <td>0.000000</td>\n",
       "      <td>0.000000</td>\n",
       "      <td>...</td>\n",
       "      <td>0.0</td>\n",
       "      <td>3.000000e+00</td>\n",
       "      <td>0.000000</td>\n",
       "      <td>0.0</td>\n",
       "      <td>3.000000</td>\n",
       "      <td>0.000000e+00</td>\n",
       "      <td>0.000000e+00</td>\n",
       "      <td>0.000000e+00</td>\n",
       "      <td>0.000000e+00</td>\n",
       "      <td>0.000000e+00</td>\n",
       "    </tr>\n",
       "    <tr>\n",
       "      <th>75%</th>\n",
       "      <td>0.000000</td>\n",
       "      <td>0.000000</td>\n",
       "      <td>0.000000</td>\n",
       "      <td>0.000000</td>\n",
       "      <td>0.000000</td>\n",
       "      <td>0.000000</td>\n",
       "      <td>0.00000</td>\n",
       "      <td>0.000000</td>\n",
       "      <td>0.000000</td>\n",
       "      <td>0.000000</td>\n",
       "      <td>...</td>\n",
       "      <td>0.0</td>\n",
       "      <td>1.200000e+02</td>\n",
       "      <td>0.000000</td>\n",
       "      <td>0.0</td>\n",
       "      <td>99.000000</td>\n",
       "      <td>0.000000e+00</td>\n",
       "      <td>0.000000e+00</td>\n",
       "      <td>0.000000e+00</td>\n",
       "      <td>0.000000e+00</td>\n",
       "      <td>0.000000e+00</td>\n",
       "    </tr>\n",
       "    <tr>\n",
       "      <th>max</th>\n",
       "      <td>18.000000</td>\n",
       "      <td>18.000000</td>\n",
       "      <td>3.000000</td>\n",
       "      <td>3.000000</td>\n",
       "      <td>18.000000</td>\n",
       "      <td>111.000000</td>\n",
       "      <td>12.00000</td>\n",
       "      <td>36.000000</td>\n",
       "      <td>27.000000</td>\n",
       "      <td>3.000000</td>\n",
       "      <td>...</td>\n",
       "      <td>0.0</td>\n",
       "      <td>3.008077e+06</td>\n",
       "      <td>740006.610000</td>\n",
       "      <td>0.0</td>\n",
       "      <td>99.000000</td>\n",
       "      <td>1.000000e+10</td>\n",
       "      <td>1.000000e+10</td>\n",
       "      <td>1.000000e+10</td>\n",
       "      <td>1.000000e+10</td>\n",
       "      <td>1.000000e+10</td>\n",
       "    </tr>\n",
       "  </tbody>\n",
       "</table>\n",
       "<p>8 rows × 99 columns</p>\n",
       "</div>"
      ],
      "text/plain": [
       "       num_var13_largo_0  num_var13_largo  num_var13_medio_0  num_var13_medio  \\\n",
       "count       76020.000000     76020.000000       76020.000000     76020.000000   \n",
       "mean            0.037332         0.035241           0.000079         0.000079   \n",
       "std             0.404822         0.381373           0.015388         0.015388   \n",
       "min             0.000000         0.000000           0.000000         0.000000   \n",
       "25%             0.000000         0.000000           0.000000         0.000000   \n",
       "50%             0.000000         0.000000           0.000000         0.000000   \n",
       "75%             0.000000         0.000000           0.000000         0.000000   \n",
       "max            18.000000        18.000000           3.000000         3.000000   \n",
       "\n",
       "          num_var13   num_var14_0    num_var14   num_var17_0     num_var17  \\\n",
       "count  76020.000000  76020.000000  76020.00000  76020.000000  76020.000000   \n",
       "mean       0.159826      0.072691      0.01614      0.011878      0.008879   \n",
       "std        0.713022      0.610815      0.22426      0.362480      0.288768   \n",
       "min        0.000000      0.000000      0.00000      0.000000      0.000000   \n",
       "25%        0.000000      0.000000      0.00000      0.000000      0.000000   \n",
       "50%        0.000000      0.000000      0.00000      0.000000      0.000000   \n",
       "75%        0.000000      0.000000      0.00000      0.000000      0.000000   \n",
       "max       18.000000    111.000000     12.00000     36.000000     27.000000   \n",
       "\n",
       "        num_var18_0            ...              saldo_var41   saldo_var42  \\\n",
       "count  76020.000000            ...                  76020.0  7.602000e+04   \n",
       "mean       0.000079            ...                      0.0  7.191725e+03   \n",
       "std        0.015388            ...                      0.0  4.914531e+04   \n",
       "min        0.000000            ...                      0.0 -4.942260e+03   \n",
       "25%        0.000000            ...                      0.0  0.000000e+00   \n",
       "50%        0.000000            ...                      0.0  3.000000e+00   \n",
       "75%        0.000000            ...                      0.0  1.200000e+02   \n",
       "max        3.000000            ...                      0.0  3.008077e+06   \n",
       "\n",
       "         saldo_var44  saldo_var46         var36  delta_imp_amort_var18_1y3  \\\n",
       "count   76020.000000      76020.0  76020.000000               7.602000e+04   \n",
       "mean       96.352738          0.0     40.449079               2.630887e+05   \n",
       "std      5218.428365          0.0     47.362719               5.129183e+07   \n",
       "min         0.000000          0.0      0.000000               0.000000e+00   \n",
       "25%         0.000000          0.0      2.000000               0.000000e+00   \n",
       "50%         0.000000          0.0      3.000000               0.000000e+00   \n",
       "75%         0.000000          0.0     99.000000               0.000000e+00   \n",
       "max    740006.610000          0.0     99.000000               1.000000e+10   \n",
       "\n",
       "       delta_imp_amort_var34_1y3  delta_imp_aport_var13_1y3  \\\n",
       "count               7.602000e+04               7.602000e+04   \n",
       "mean                2.630887e+05               4.867140e+07   \n",
       "std                 5.129183e+07               6.959537e+08   \n",
       "min                 0.000000e+00              -1.000000e+00   \n",
       "25%                 0.000000e+00               0.000000e+00   \n",
       "50%                 0.000000e+00               0.000000e+00   \n",
       "75%                 0.000000e+00               0.000000e+00   \n",
       "max                 1.000000e+10               1.000000e+10   \n",
       "\n",
       "       delta_imp_aport_var17_1y3  delta_imp_aport_var33_1y3  \n",
       "count               7.602000e+04               7.602000e+04  \n",
       "mean                5.130229e+06               1.315443e+05  \n",
       "std                 2.264435e+08               3.626904e+07  \n",
       "min                -1.000000e+00              -1.000000e+00  \n",
       "25%                 0.000000e+00               0.000000e+00  \n",
       "50%                 0.000000e+00               0.000000e+00  \n",
       "75%                 0.000000e+00               0.000000e+00  \n",
       "max                 1.000000e+10               1.000000e+10  \n",
       "\n",
       "[8 rows x 99 columns]"
      ]
     },
     "execution_count": 15,
     "metadata": {},
     "output_type": "execute_result"
    }
   ],
   "source": [
    "df2.describe()"
   ]
  },
  {
   "cell_type": "code",
   "execution_count": 16,
   "metadata": {},
   "outputs": [
    {
     "name": "stdout",
     "output_type": "stream",
     "text": [
      "<class 'pandas.core.frame.DataFrame'>\n",
      "RangeIndex: 76020 entries, 0 to 76019\n",
      "Data columns (total 99 columns):\n",
      "delta_imp_reemb_var13_1y3        76020 non-null int64\n",
      "delta_imp_reemb_var17_1y3        76020 non-null int64\n",
      "delta_imp_reemb_var33_1y3        76020 non-null int64\n",
      "delta_imp_trasp_var17_in_1y3     76020 non-null int64\n",
      "delta_imp_trasp_var17_out_1y3    76020 non-null int64\n",
      "delta_imp_trasp_var33_in_1y3     76020 non-null int64\n",
      "delta_imp_trasp_var33_out_1y3    76020 non-null int64\n",
      "delta_imp_venta_var44_1y3        76020 non-null float64\n",
      "delta_num_aport_var13_1y3        76020 non-null float64\n",
      "delta_num_aport_var17_1y3        76020 non-null float64\n",
      "delta_num_aport_var33_1y3        76020 non-null float64\n",
      "delta_num_compra_var44_1y3       76020 non-null float64\n",
      "delta_num_reemb_var13_1y3        76020 non-null int64\n",
      "delta_num_reemb_var17_1y3        76020 non-null int64\n",
      "delta_num_reemb_var33_1y3        76020 non-null int64\n",
      "delta_num_trasp_var17_in_1y3     76020 non-null int64\n",
      "delta_num_trasp_var17_out_1y3    76020 non-null int64\n",
      "delta_num_trasp_var33_in_1y3     76020 non-null int64\n",
      "delta_num_trasp_var33_out_1y3    76020 non-null int64\n",
      "delta_num_venta_var44_1y3        76020 non-null float64\n",
      "imp_amort_var18_hace3            76020 non-null int64\n",
      "imp_amort_var18_ult1             76020 non-null float64\n",
      "imp_amort_var34_hace3            76020 non-null int64\n",
      "imp_amort_var34_ult1             76020 non-null float64\n",
      "imp_aport_var13_hace3            76020 non-null float64\n",
      "imp_aport_var13_ult1             76020 non-null float64\n",
      "imp_aport_var17_hace3            76020 non-null float64\n",
      "imp_aport_var17_ult1             76020 non-null float64\n",
      "imp_aport_var33_hace3            76020 non-null int64\n",
      "imp_aport_var33_ult1             76020 non-null int64\n",
      "imp_var7_emit_ult1               76020 non-null float64\n",
      "imp_var7_recib_ult1              76020 non-null float64\n",
      "imp_compra_var44_hace3           76020 non-null float64\n",
      "imp_compra_var44_ult1            76020 non-null float64\n",
      "imp_reemb_var13_hace3            76020 non-null int64\n",
      "imp_reemb_var13_ult1             76020 non-null float64\n",
      "imp_reemb_var17_hace3            76020 non-null float64\n",
      "imp_reemb_var17_ult1             76020 non-null float64\n",
      "imp_reemb_var33_hace3            76020 non-null int64\n",
      "imp_reemb_var33_ult1             76020 non-null int64\n",
      "imp_var43_emit_ult1              76020 non-null float64\n",
      "imp_trans_var37_ult1             76020 non-null float64\n",
      "imp_trasp_var17_in_hace3         76020 non-null float64\n",
      "imp_trasp_var17_in_ult1          76020 non-null float64\n",
      "imp_trasp_var17_out_hace3        76020 non-null int64\n",
      "imp_trasp_var17_out_ult1         76020 non-null float64\n",
      "imp_trasp_var33_in_hace3         76020 non-null float64\n",
      "imp_trasp_var33_in_ult1          76020 non-null float64\n",
      "imp_trasp_var33_out_hace3        76020 non-null int64\n",
      "imp_trasp_var33_out_ult1         76020 non-null int64\n",
      "imp_venta_var44_hace3            76020 non-null float64\n",
      "imp_venta_var44_ult1             76020 non-null float64\n",
      "ind_var7_emit_ult1               76020 non-null int64\n",
      "ind_var7_recib_ult1              76020 non-null int64\n",
      "ind_var10_ult1                   76020 non-null int64\n",
      "ind_var10cte_ult1                76020 non-null int64\n",
      "ind_var9_cte_ult1                76020 non-null int64\n",
      "ind_var9_ult1                    76020 non-null int64\n",
      "ind_var43_emit_ult1              76020 non-null int64\n",
      "ind_var43_recib_ult1             76020 non-null int64\n",
      "var21                            76020 non-null int64\n",
      "num_var2_0_ult1                  76020 non-null int64\n",
      "num_var2_ult1                    76020 non-null int64\n",
      "num_aport_var13_hace3            76020 non-null int64\n",
      "num_aport_var13_ult1             76020 non-null int64\n",
      "num_aport_var17_hace3            76020 non-null int64\n",
      "num_aport_var17_ult1             76020 non-null int64\n",
      "num_aport_var33_hace3            76020 non-null int64\n",
      "num_aport_var33_ult1             76020 non-null int64\n",
      "num_var7_emit_ult1               76020 non-null int64\n",
      "num_var7_recib_ult1              76020 non-null int64\n",
      "num_compra_var44_hace3           76020 non-null int64\n",
      "num_compra_var44_ult1            76020 non-null int64\n",
      "num_ent_var16_ult1               76020 non-null int64\n",
      "num_var22_hace2                  76020 non-null int64\n",
      "num_var22_hace3                  76020 non-null int64\n",
      "num_var22_ult1                   76020 non-null int64\n",
      "num_var22_ult3                   76020 non-null int64\n",
      "num_med_var22_ult3               76020 non-null int64\n",
      "num_med_var45_ult3               76020 non-null int64\n",
      "num_meses_var5_ult3              76020 non-null int64\n",
      "num_meses_var8_ult3              76020 non-null int64\n",
      "num_meses_var12_ult3             76020 non-null int64\n",
      "num_meses_var13_corto_ult3       76020 non-null int64\n",
      "num_meses_var13_largo_ult3       76020 non-null int64\n",
      "num_meses_var13_medio_ult3       76020 non-null int64\n",
      "num_meses_var17_ult3             76020 non-null int64\n",
      "num_meses_var29_ult3             76020 non-null int64\n",
      "num_meses_var33_ult3             76020 non-null int64\n",
      "num_meses_var39_vig_ult3         76020 non-null int64\n",
      "num_meses_var44_ult3             76020 non-null int64\n",
      "num_op_var39_comer_ult1          76020 non-null int64\n",
      "num_op_var39_comer_ult3          76020 non-null int64\n",
      "num_op_var40_comer_ult1          76020 non-null int64\n",
      "num_op_var40_comer_ult3          76020 non-null int64\n",
      "num_op_var40_efect_ult1          76020 non-null int64\n",
      "num_op_var40_efect_ult3          76020 non-null int64\n",
      "num_op_var41_comer_ult1          76020 non-null int64\n",
      "num_op_var41_comer_ult3          76020 non-null int64\n",
      "dtypes: float64(28), int64(71)\n",
      "memory usage: 57.4 MB\n"
     ]
    }
   ],
   "source": [
    "df3.info()"
   ]
  },
  {
   "cell_type": "code",
   "execution_count": 17,
   "metadata": {},
   "outputs": [
    {
     "data": {
      "text/html": [
       "<div>\n",
       "<style scoped>\n",
       "    .dataframe tbody tr th:only-of-type {\n",
       "        vertical-align: middle;\n",
       "    }\n",
       "\n",
       "    .dataframe tbody tr th {\n",
       "        vertical-align: top;\n",
       "    }\n",
       "\n",
       "    .dataframe thead th {\n",
       "        text-align: right;\n",
       "    }\n",
       "</style>\n",
       "<table border=\"1\" class=\"dataframe\">\n",
       "  <thead>\n",
       "    <tr style=\"text-align: right;\">\n",
       "      <th></th>\n",
       "      <th>delta_imp_reemb_var13_1y3</th>\n",
       "      <th>delta_imp_reemb_var17_1y3</th>\n",
       "      <th>delta_imp_reemb_var33_1y3</th>\n",
       "      <th>delta_imp_trasp_var17_in_1y3</th>\n",
       "      <th>delta_imp_trasp_var17_out_1y3</th>\n",
       "      <th>delta_imp_trasp_var33_in_1y3</th>\n",
       "      <th>delta_imp_trasp_var33_out_1y3</th>\n",
       "      <th>delta_imp_venta_var44_1y3</th>\n",
       "      <th>delta_num_aport_var13_1y3</th>\n",
       "      <th>delta_num_aport_var17_1y3</th>\n",
       "      <th>...</th>\n",
       "      <th>num_meses_var39_vig_ult3</th>\n",
       "      <th>num_meses_var44_ult3</th>\n",
       "      <th>num_op_var39_comer_ult1</th>\n",
       "      <th>num_op_var39_comer_ult3</th>\n",
       "      <th>num_op_var40_comer_ult1</th>\n",
       "      <th>num_op_var40_comer_ult3</th>\n",
       "      <th>num_op_var40_efect_ult1</th>\n",
       "      <th>num_op_var40_efect_ult3</th>\n",
       "      <th>num_op_var41_comer_ult1</th>\n",
       "      <th>num_op_var41_comer_ult3</th>\n",
       "    </tr>\n",
       "  </thead>\n",
       "  <tbody>\n",
       "    <tr>\n",
       "      <th>count</th>\n",
       "      <td>7.602000e+04</td>\n",
       "      <td>7.602000e+04</td>\n",
       "      <td>7.602000e+04</td>\n",
       "      <td>7.602000e+04</td>\n",
       "      <td>7.602000e+04</td>\n",
       "      <td>7.602000e+04</td>\n",
       "      <td>7.602000e+04</td>\n",
       "      <td>7.602000e+04</td>\n",
       "      <td>7.602000e+04</td>\n",
       "      <td>7.602000e+04</td>\n",
       "      <td>...</td>\n",
       "      <td>76020.000000</td>\n",
       "      <td>76020.000000</td>\n",
       "      <td>76020.000000</td>\n",
       "      <td>76020.000000</td>\n",
       "      <td>76020.000000</td>\n",
       "      <td>76020.000000</td>\n",
       "      <td>76020.000000</td>\n",
       "      <td>76020.000000</td>\n",
       "      <td>76020.000000</td>\n",
       "      <td>76020.000000</td>\n",
       "    </tr>\n",
       "    <tr>\n",
       "      <th>mean</th>\n",
       "      <td>4.998685e+06</td>\n",
       "      <td>2.630887e+06</td>\n",
       "      <td>1.315443e+05</td>\n",
       "      <td>5.261773e+05</td>\n",
       "      <td>5.261773e+05</td>\n",
       "      <td>6.577217e+05</td>\n",
       "      <td>1.315443e+05</td>\n",
       "      <td>5.524862e+06</td>\n",
       "      <td>4.867140e+07</td>\n",
       "      <td>5.130229e+06</td>\n",
       "      <td>...</td>\n",
       "      <td>1.592791</td>\n",
       "      <td>0.003578</td>\n",
       "      <td>2.194791</td>\n",
       "      <td>3.607064</td>\n",
       "      <td>0.074980</td>\n",
       "      <td>0.144830</td>\n",
       "      <td>0.002486</td>\n",
       "      <td>0.003670</td>\n",
       "      <td>2.119811</td>\n",
       "      <td>3.462234</td>\n",
       "    </tr>\n",
       "    <tr>\n",
       "      <th>std</th>\n",
       "      <td>2.235230e+08</td>\n",
       "      <td>1.621798e+08</td>\n",
       "      <td>3.626904e+07</td>\n",
       "      <td>7.253665e+07</td>\n",
       "      <td>7.253665e+07</td>\n",
       "      <td>8.109791e+07</td>\n",
       "      <td>3.626904e+07</td>\n",
       "      <td>2.349869e+08</td>\n",
       "      <td>6.959537e+08</td>\n",
       "      <td>2.264435e+08</td>\n",
       "      <td>...</td>\n",
       "      <td>0.719655</td>\n",
       "      <td>0.088174</td>\n",
       "      <td>9.131406</td>\n",
       "      <td>14.919726</td>\n",
       "      <td>2.089408</td>\n",
       "      <td>4.288145</td>\n",
       "      <td>0.147172</td>\n",
       "      <td>0.202068</td>\n",
       "      <td>8.799494</td>\n",
       "      <td>14.140650</td>\n",
       "    </tr>\n",
       "    <tr>\n",
       "      <th>min</th>\n",
       "      <td>0.000000e+00</td>\n",
       "      <td>-1.000000e+00</td>\n",
       "      <td>0.000000e+00</td>\n",
       "      <td>-1.000000e+00</td>\n",
       "      <td>0.000000e+00</td>\n",
       "      <td>-1.000000e+00</td>\n",
       "      <td>0.000000e+00</td>\n",
       "      <td>-1.000000e+00</td>\n",
       "      <td>-1.000000e+00</td>\n",
       "      <td>-1.000000e+00</td>\n",
       "      <td>...</td>\n",
       "      <td>0.000000</td>\n",
       "      <td>0.000000</td>\n",
       "      <td>0.000000</td>\n",
       "      <td>0.000000</td>\n",
       "      <td>0.000000</td>\n",
       "      <td>0.000000</td>\n",
       "      <td>0.000000</td>\n",
       "      <td>0.000000</td>\n",
       "      <td>0.000000</td>\n",
       "      <td>0.000000</td>\n",
       "    </tr>\n",
       "    <tr>\n",
       "      <th>25%</th>\n",
       "      <td>0.000000e+00</td>\n",
       "      <td>0.000000e+00</td>\n",
       "      <td>0.000000e+00</td>\n",
       "      <td>0.000000e+00</td>\n",
       "      <td>0.000000e+00</td>\n",
       "      <td>0.000000e+00</td>\n",
       "      <td>0.000000e+00</td>\n",
       "      <td>0.000000e+00</td>\n",
       "      <td>0.000000e+00</td>\n",
       "      <td>0.000000e+00</td>\n",
       "      <td>...</td>\n",
       "      <td>1.000000</td>\n",
       "      <td>0.000000</td>\n",
       "      <td>0.000000</td>\n",
       "      <td>0.000000</td>\n",
       "      <td>0.000000</td>\n",
       "      <td>0.000000</td>\n",
       "      <td>0.000000</td>\n",
       "      <td>0.000000</td>\n",
       "      <td>0.000000</td>\n",
       "      <td>0.000000</td>\n",
       "    </tr>\n",
       "    <tr>\n",
       "      <th>50%</th>\n",
       "      <td>0.000000e+00</td>\n",
       "      <td>0.000000e+00</td>\n",
       "      <td>0.000000e+00</td>\n",
       "      <td>0.000000e+00</td>\n",
       "      <td>0.000000e+00</td>\n",
       "      <td>0.000000e+00</td>\n",
       "      <td>0.000000e+00</td>\n",
       "      <td>0.000000e+00</td>\n",
       "      <td>0.000000e+00</td>\n",
       "      <td>0.000000e+00</td>\n",
       "      <td>...</td>\n",
       "      <td>2.000000</td>\n",
       "      <td>0.000000</td>\n",
       "      <td>0.000000</td>\n",
       "      <td>0.000000</td>\n",
       "      <td>0.000000</td>\n",
       "      <td>0.000000</td>\n",
       "      <td>0.000000</td>\n",
       "      <td>0.000000</td>\n",
       "      <td>0.000000</td>\n",
       "      <td>0.000000</td>\n",
       "    </tr>\n",
       "    <tr>\n",
       "      <th>75%</th>\n",
       "      <td>0.000000e+00</td>\n",
       "      <td>0.000000e+00</td>\n",
       "      <td>0.000000e+00</td>\n",
       "      <td>0.000000e+00</td>\n",
       "      <td>0.000000e+00</td>\n",
       "      <td>0.000000e+00</td>\n",
       "      <td>0.000000e+00</td>\n",
       "      <td>0.000000e+00</td>\n",
       "      <td>0.000000e+00</td>\n",
       "      <td>0.000000e+00</td>\n",
       "      <td>...</td>\n",
       "      <td>2.000000</td>\n",
       "      <td>0.000000</td>\n",
       "      <td>0.000000</td>\n",
       "      <td>0.000000</td>\n",
       "      <td>0.000000</td>\n",
       "      <td>0.000000</td>\n",
       "      <td>0.000000</td>\n",
       "      <td>0.000000</td>\n",
       "      <td>0.000000</td>\n",
       "      <td>0.000000</td>\n",
       "    </tr>\n",
       "    <tr>\n",
       "      <th>max</th>\n",
       "      <td>1.000000e+10</td>\n",
       "      <td>1.000000e+10</td>\n",
       "      <td>1.000000e+10</td>\n",
       "      <td>1.000000e+10</td>\n",
       "      <td>1.000000e+10</td>\n",
       "      <td>1.000000e+10</td>\n",
       "      <td>1.000000e+10</td>\n",
       "      <td>1.000000e+10</td>\n",
       "      <td>1.000000e+10</td>\n",
       "      <td>1.000000e+10</td>\n",
       "      <td>...</td>\n",
       "      <td>3.000000</td>\n",
       "      <td>3.000000</td>\n",
       "      <td>438.000000</td>\n",
       "      <td>600.000000</td>\n",
       "      <td>210.000000</td>\n",
       "      <td>582.000000</td>\n",
       "      <td>24.000000</td>\n",
       "      <td>24.000000</td>\n",
       "      <td>438.000000</td>\n",
       "      <td>438.000000</td>\n",
       "    </tr>\n",
       "  </tbody>\n",
       "</table>\n",
       "<p>8 rows × 99 columns</p>\n",
       "</div>"
      ],
      "text/plain": [
       "       delta_imp_reemb_var13_1y3  delta_imp_reemb_var17_1y3  \\\n",
       "count               7.602000e+04               7.602000e+04   \n",
       "mean                4.998685e+06               2.630887e+06   \n",
       "std                 2.235230e+08               1.621798e+08   \n",
       "min                 0.000000e+00              -1.000000e+00   \n",
       "25%                 0.000000e+00               0.000000e+00   \n",
       "50%                 0.000000e+00               0.000000e+00   \n",
       "75%                 0.000000e+00               0.000000e+00   \n",
       "max                 1.000000e+10               1.000000e+10   \n",
       "\n",
       "       delta_imp_reemb_var33_1y3  delta_imp_trasp_var17_in_1y3  \\\n",
       "count               7.602000e+04                  7.602000e+04   \n",
       "mean                1.315443e+05                  5.261773e+05   \n",
       "std                 3.626904e+07                  7.253665e+07   \n",
       "min                 0.000000e+00                 -1.000000e+00   \n",
       "25%                 0.000000e+00                  0.000000e+00   \n",
       "50%                 0.000000e+00                  0.000000e+00   \n",
       "75%                 0.000000e+00                  0.000000e+00   \n",
       "max                 1.000000e+10                  1.000000e+10   \n",
       "\n",
       "       delta_imp_trasp_var17_out_1y3  delta_imp_trasp_var33_in_1y3  \\\n",
       "count                   7.602000e+04                  7.602000e+04   \n",
       "mean                    5.261773e+05                  6.577217e+05   \n",
       "std                     7.253665e+07                  8.109791e+07   \n",
       "min                     0.000000e+00                 -1.000000e+00   \n",
       "25%                     0.000000e+00                  0.000000e+00   \n",
       "50%                     0.000000e+00                  0.000000e+00   \n",
       "75%                     0.000000e+00                  0.000000e+00   \n",
       "max                     1.000000e+10                  1.000000e+10   \n",
       "\n",
       "       delta_imp_trasp_var33_out_1y3  delta_imp_venta_var44_1y3  \\\n",
       "count                   7.602000e+04               7.602000e+04   \n",
       "mean                    1.315443e+05               5.524862e+06   \n",
       "std                     3.626904e+07               2.349869e+08   \n",
       "min                     0.000000e+00              -1.000000e+00   \n",
       "25%                     0.000000e+00               0.000000e+00   \n",
       "50%                     0.000000e+00               0.000000e+00   \n",
       "75%                     0.000000e+00               0.000000e+00   \n",
       "max                     1.000000e+10               1.000000e+10   \n",
       "\n",
       "       delta_num_aport_var13_1y3  delta_num_aport_var17_1y3  \\\n",
       "count               7.602000e+04               7.602000e+04   \n",
       "mean                4.867140e+07               5.130229e+06   \n",
       "std                 6.959537e+08               2.264435e+08   \n",
       "min                -1.000000e+00              -1.000000e+00   \n",
       "25%                 0.000000e+00               0.000000e+00   \n",
       "50%                 0.000000e+00               0.000000e+00   \n",
       "75%                 0.000000e+00               0.000000e+00   \n",
       "max                 1.000000e+10               1.000000e+10   \n",
       "\n",
       "                ...             num_meses_var39_vig_ult3  \\\n",
       "count           ...                         76020.000000   \n",
       "mean            ...                             1.592791   \n",
       "std             ...                             0.719655   \n",
       "min             ...                             0.000000   \n",
       "25%             ...                             1.000000   \n",
       "50%             ...                             2.000000   \n",
       "75%             ...                             2.000000   \n",
       "max             ...                             3.000000   \n",
       "\n",
       "       num_meses_var44_ult3  num_op_var39_comer_ult1  num_op_var39_comer_ult3  \\\n",
       "count          76020.000000             76020.000000             76020.000000   \n",
       "mean               0.003578                 2.194791                 3.607064   \n",
       "std                0.088174                 9.131406                14.919726   \n",
       "min                0.000000                 0.000000                 0.000000   \n",
       "25%                0.000000                 0.000000                 0.000000   \n",
       "50%                0.000000                 0.000000                 0.000000   \n",
       "75%                0.000000                 0.000000                 0.000000   \n",
       "max                3.000000               438.000000               600.000000   \n",
       "\n",
       "       num_op_var40_comer_ult1  num_op_var40_comer_ult3  \\\n",
       "count             76020.000000             76020.000000   \n",
       "mean                  0.074980                 0.144830   \n",
       "std                   2.089408                 4.288145   \n",
       "min                   0.000000                 0.000000   \n",
       "25%                   0.000000                 0.000000   \n",
       "50%                   0.000000                 0.000000   \n",
       "75%                   0.000000                 0.000000   \n",
       "max                 210.000000               582.000000   \n",
       "\n",
       "       num_op_var40_efect_ult1  num_op_var40_efect_ult3  \\\n",
       "count             76020.000000             76020.000000   \n",
       "mean                  0.002486                 0.003670   \n",
       "std                   0.147172                 0.202068   \n",
       "min                   0.000000                 0.000000   \n",
       "25%                   0.000000                 0.000000   \n",
       "50%                   0.000000                 0.000000   \n",
       "75%                   0.000000                 0.000000   \n",
       "max                  24.000000                24.000000   \n",
       "\n",
       "       num_op_var41_comer_ult1  num_op_var41_comer_ult3  \n",
       "count             76020.000000             76020.000000  \n",
       "mean                  2.119811                 3.462234  \n",
       "std                   8.799494                14.140650  \n",
       "min                   0.000000                 0.000000  \n",
       "25%                   0.000000                 0.000000  \n",
       "50%                   0.000000                 0.000000  \n",
       "75%                   0.000000                 0.000000  \n",
       "max                 438.000000               438.000000  \n",
       "\n",
       "[8 rows x 99 columns]"
      ]
     },
     "execution_count": 17,
     "metadata": {},
     "output_type": "execute_result"
    }
   ],
   "source": [
    "df3.describe()"
   ]
  },
  {
   "cell_type": "code",
   "execution_count": 18,
   "metadata": {},
   "outputs": [
    {
     "name": "stdout",
     "output_type": "stream",
     "text": [
      "<class 'pandas.core.frame.DataFrame'>\n",
      "RangeIndex: 76020 entries, 0 to 76019\n",
      "Data columns (total 71 columns):\n",
      "num_op_var41_efect_ult1          76020 non-null int64\n",
      "num_op_var41_efect_ult3          76020 non-null int64\n",
      "num_op_var39_efect_ult1          76020 non-null int64\n",
      "num_op_var39_efect_ult3          76020 non-null int64\n",
      "num_reemb_var13_hace3            76020 non-null int64\n",
      "num_reemb_var13_ult1             76020 non-null int64\n",
      "num_reemb_var17_hace3            76020 non-null int64\n",
      "num_reemb_var17_ult1             76020 non-null int64\n",
      "num_reemb_var33_hace3            76020 non-null int64\n",
      "num_reemb_var33_ult1             76020 non-null int64\n",
      "num_sal_var16_ult1               76020 non-null int64\n",
      "num_var43_emit_ult1              76020 non-null int64\n",
      "num_var43_recib_ult1             76020 non-null int64\n",
      "num_trasp_var11_ult1             76020 non-null int64\n",
      "num_trasp_var17_in_hace3         76020 non-null int64\n",
      "num_trasp_var17_in_ult1          76020 non-null int64\n",
      "num_trasp_var17_out_hace3        76020 non-null int64\n",
      "num_trasp_var17_out_ult1         76020 non-null int64\n",
      "num_trasp_var33_in_hace3         76020 non-null int64\n",
      "num_trasp_var33_in_ult1          76020 non-null int64\n",
      "num_trasp_var33_out_hace3        76020 non-null int64\n",
      "num_trasp_var33_out_ult1         76020 non-null int64\n",
      "num_venta_var44_hace3            76020 non-null int64\n",
      "num_venta_var44_ult1             76020 non-null int64\n",
      "num_var45_hace2                  76020 non-null int64\n",
      "num_var45_hace3                  76020 non-null int64\n",
      "num_var45_ult1                   76020 non-null int64\n",
      "num_var45_ult3                   76020 non-null int64\n",
      "saldo_var2_ult1                  76020 non-null int64\n",
      "saldo_medio_var5_hace2           76020 non-null float64\n",
      "saldo_medio_var5_hace3           76020 non-null float64\n",
      "saldo_medio_var5_ult1            76020 non-null float64\n",
      "saldo_medio_var5_ult3            76020 non-null float64\n",
      "saldo_medio_var8_hace2           76020 non-null float64\n",
      "saldo_medio_var8_hace3           76020 non-null float64\n",
      "saldo_medio_var8_ult1            76020 non-null float64\n",
      "saldo_medio_var8_ult3            76020 non-null float64\n",
      "saldo_medio_var12_hace2          76020 non-null float64\n",
      "saldo_medio_var12_hace3          76020 non-null float64\n",
      "saldo_medio_var12_ult1           76020 non-null float64\n",
      "saldo_medio_var12_ult3           76020 non-null float64\n",
      "saldo_medio_var13_corto_hace2    76020 non-null float64\n",
      "saldo_medio_var13_corto_hace3    76020 non-null float64\n",
      "saldo_medio_var13_corto_ult1     76020 non-null float64\n",
      "saldo_medio_var13_corto_ult3     76020 non-null float64\n",
      "saldo_medio_var13_largo_hace2    76020 non-null float64\n",
      "saldo_medio_var13_largo_hace3    76020 non-null float64\n",
      "saldo_medio_var13_largo_ult1     76020 non-null float64\n",
      "saldo_medio_var13_largo_ult3     76020 non-null float64\n",
      "saldo_medio_var13_medio_hace2    76020 non-null float64\n",
      "saldo_medio_var13_medio_hace3    76020 non-null int64\n",
      "saldo_medio_var13_medio_ult1     76020 non-null int64\n",
      "saldo_medio_var13_medio_ult3     76020 non-null float64\n",
      "saldo_medio_var17_hace2          76020 non-null float64\n",
      "saldo_medio_var17_hace3          76020 non-null float64\n",
      "saldo_medio_var17_ult1           76020 non-null float64\n",
      "saldo_medio_var17_ult3           76020 non-null float64\n",
      "saldo_medio_var29_hace2          76020 non-null float64\n",
      "saldo_medio_var29_hace3          76020 non-null float64\n",
      "saldo_medio_var29_ult1           76020 non-null float64\n",
      "saldo_medio_var29_ult3           76020 non-null float64\n",
      "saldo_medio_var33_hace2          76020 non-null float64\n",
      "saldo_medio_var33_hace3          76020 non-null float64\n",
      "saldo_medio_var33_ult1           76020 non-null float64\n",
      "saldo_medio_var33_ult3           76020 non-null float64\n",
      "saldo_medio_var44_hace2          76020 non-null float64\n",
      "saldo_medio_var44_hace3          76020 non-null float64\n",
      "saldo_medio_var44_ult1           76020 non-null float64\n",
      "saldo_medio_var44_ult3           76020 non-null float64\n",
      "var38                            76020 non-null float64\n",
      "TARGET                           76020 non-null int64\n",
      "dtypes: float64(39), int64(32)\n",
      "memory usage: 41.2 MB\n"
     ]
    }
   ],
   "source": [
    "df4.info()"
   ]
  },
  {
   "cell_type": "code",
   "execution_count": 19,
   "metadata": {},
   "outputs": [
    {
     "data": {
      "text/html": [
       "<div>\n",
       "<style scoped>\n",
       "    .dataframe tbody tr th:only-of-type {\n",
       "        vertical-align: middle;\n",
       "    }\n",
       "\n",
       "    .dataframe tbody tr th {\n",
       "        vertical-align: top;\n",
       "    }\n",
       "\n",
       "    .dataframe thead th {\n",
       "        text-align: right;\n",
       "    }\n",
       "</style>\n",
       "<table border=\"1\" class=\"dataframe\">\n",
       "  <thead>\n",
       "    <tr style=\"text-align: right;\">\n",
       "      <th></th>\n",
       "      <th>num_op_var41_efect_ult1</th>\n",
       "      <th>num_op_var41_efect_ult3</th>\n",
       "      <th>num_op_var39_efect_ult1</th>\n",
       "      <th>num_op_var39_efect_ult3</th>\n",
       "      <th>num_reemb_var13_hace3</th>\n",
       "      <th>num_reemb_var13_ult1</th>\n",
       "      <th>num_reemb_var17_hace3</th>\n",
       "      <th>num_reemb_var17_ult1</th>\n",
       "      <th>num_reemb_var33_hace3</th>\n",
       "      <th>num_reemb_var33_ult1</th>\n",
       "      <th>...</th>\n",
       "      <th>saldo_medio_var33_hace2</th>\n",
       "      <th>saldo_medio_var33_hace3</th>\n",
       "      <th>saldo_medio_var33_ult1</th>\n",
       "      <th>saldo_medio_var33_ult3</th>\n",
       "      <th>saldo_medio_var44_hace2</th>\n",
       "      <th>saldo_medio_var44_hace3</th>\n",
       "      <th>saldo_medio_var44_ult1</th>\n",
       "      <th>saldo_medio_var44_ult3</th>\n",
       "      <th>var38</th>\n",
       "      <th>TARGET</th>\n",
       "    </tr>\n",
       "  </thead>\n",
       "  <tbody>\n",
       "    <tr>\n",
       "      <th>count</th>\n",
       "      <td>76020.000000</td>\n",
       "      <td>76020.000000</td>\n",
       "      <td>76020.000000</td>\n",
       "      <td>76020.000000</td>\n",
       "      <td>76020.0</td>\n",
       "      <td>76020.000000</td>\n",
       "      <td>76020.000000</td>\n",
       "      <td>76020.000000</td>\n",
       "      <td>76020.0</td>\n",
       "      <td>76020.000000</td>\n",
       "      <td>...</td>\n",
       "      <td>76020.000000</td>\n",
       "      <td>76020.000000</td>\n",
       "      <td>76020.000000</td>\n",
       "      <td>76020.000000</td>\n",
       "      <td>76020.000000</td>\n",
       "      <td>76020.000000</td>\n",
       "      <td>76020.000000</td>\n",
       "      <td>76020.000000</td>\n",
       "      <td>7.602000e+04</td>\n",
       "      <td>76020.000000</td>\n",
       "    </tr>\n",
       "    <tr>\n",
       "      <th>mean</th>\n",
       "      <td>0.719416</td>\n",
       "      <td>1.212155</td>\n",
       "      <td>0.721902</td>\n",
       "      <td>1.215825</td>\n",
       "      <td>0.0</td>\n",
       "      <td>0.001500</td>\n",
       "      <td>0.000039</td>\n",
       "      <td>0.001184</td>\n",
       "      <td>0.0</td>\n",
       "      <td>0.000039</td>\n",
       "      <td>...</td>\n",
       "      <td>7.935824</td>\n",
       "      <td>1.365146</td>\n",
       "      <td>12.215580</td>\n",
       "      <td>8.784074</td>\n",
       "      <td>31.505324</td>\n",
       "      <td>1.858575</td>\n",
       "      <td>76.026165</td>\n",
       "      <td>56.614351</td>\n",
       "      <td>1.172358e+05</td>\n",
       "      <td>0.039569</td>\n",
       "    </tr>\n",
       "    <tr>\n",
       "      <th>std</th>\n",
       "      <td>3.210999</td>\n",
       "      <td>5.160396</td>\n",
       "      <td>3.226314</td>\n",
       "      <td>5.181092</td>\n",
       "      <td>0.0</td>\n",
       "      <td>0.067057</td>\n",
       "      <td>0.010881</td>\n",
       "      <td>0.098523</td>\n",
       "      <td>0.0</td>\n",
       "      <td>0.010881</td>\n",
       "      <td>...</td>\n",
       "      <td>455.887218</td>\n",
       "      <td>113.959637</td>\n",
       "      <td>783.207399</td>\n",
       "      <td>538.439211</td>\n",
       "      <td>2013.125393</td>\n",
       "      <td>147.786584</td>\n",
       "      <td>4040.337842</td>\n",
       "      <td>2852.579397</td>\n",
       "      <td>1.826646e+05</td>\n",
       "      <td>0.194945</td>\n",
       "    </tr>\n",
       "    <tr>\n",
       "      <th>min</th>\n",
       "      <td>0.000000</td>\n",
       "      <td>0.000000</td>\n",
       "      <td>0.000000</td>\n",
       "      <td>0.000000</td>\n",
       "      <td>0.0</td>\n",
       "      <td>0.000000</td>\n",
       "      <td>0.000000</td>\n",
       "      <td>0.000000</td>\n",
       "      <td>0.0</td>\n",
       "      <td>0.000000</td>\n",
       "      <td>...</td>\n",
       "      <td>0.000000</td>\n",
       "      <td>0.000000</td>\n",
       "      <td>0.000000</td>\n",
       "      <td>0.000000</td>\n",
       "      <td>0.000000</td>\n",
       "      <td>0.000000</td>\n",
       "      <td>0.000000</td>\n",
       "      <td>0.000000</td>\n",
       "      <td>5.163750e+03</td>\n",
       "      <td>0.000000</td>\n",
       "    </tr>\n",
       "    <tr>\n",
       "      <th>25%</th>\n",
       "      <td>0.000000</td>\n",
       "      <td>0.000000</td>\n",
       "      <td>0.000000</td>\n",
       "      <td>0.000000</td>\n",
       "      <td>0.0</td>\n",
       "      <td>0.000000</td>\n",
       "      <td>0.000000</td>\n",
       "      <td>0.000000</td>\n",
       "      <td>0.0</td>\n",
       "      <td>0.000000</td>\n",
       "      <td>...</td>\n",
       "      <td>0.000000</td>\n",
       "      <td>0.000000</td>\n",
       "      <td>0.000000</td>\n",
       "      <td>0.000000</td>\n",
       "      <td>0.000000</td>\n",
       "      <td>0.000000</td>\n",
       "      <td>0.000000</td>\n",
       "      <td>0.000000</td>\n",
       "      <td>6.787061e+04</td>\n",
       "      <td>0.000000</td>\n",
       "    </tr>\n",
       "    <tr>\n",
       "      <th>50%</th>\n",
       "      <td>0.000000</td>\n",
       "      <td>0.000000</td>\n",
       "      <td>0.000000</td>\n",
       "      <td>0.000000</td>\n",
       "      <td>0.0</td>\n",
       "      <td>0.000000</td>\n",
       "      <td>0.000000</td>\n",
       "      <td>0.000000</td>\n",
       "      <td>0.0</td>\n",
       "      <td>0.000000</td>\n",
       "      <td>...</td>\n",
       "      <td>0.000000</td>\n",
       "      <td>0.000000</td>\n",
       "      <td>0.000000</td>\n",
       "      <td>0.000000</td>\n",
       "      <td>0.000000</td>\n",
       "      <td>0.000000</td>\n",
       "      <td>0.000000</td>\n",
       "      <td>0.000000</td>\n",
       "      <td>1.064092e+05</td>\n",
       "      <td>0.000000</td>\n",
       "    </tr>\n",
       "    <tr>\n",
       "      <th>75%</th>\n",
       "      <td>0.000000</td>\n",
       "      <td>0.000000</td>\n",
       "      <td>0.000000</td>\n",
       "      <td>0.000000</td>\n",
       "      <td>0.0</td>\n",
       "      <td>0.000000</td>\n",
       "      <td>0.000000</td>\n",
       "      <td>0.000000</td>\n",
       "      <td>0.0</td>\n",
       "      <td>0.000000</td>\n",
       "      <td>...</td>\n",
       "      <td>0.000000</td>\n",
       "      <td>0.000000</td>\n",
       "      <td>0.000000</td>\n",
       "      <td>0.000000</td>\n",
       "      <td>0.000000</td>\n",
       "      <td>0.000000</td>\n",
       "      <td>0.000000</td>\n",
       "      <td>0.000000</td>\n",
       "      <td>1.187563e+05</td>\n",
       "      <td>0.000000</td>\n",
       "    </tr>\n",
       "    <tr>\n",
       "      <th>max</th>\n",
       "      <td>90.000000</td>\n",
       "      <td>156.000000</td>\n",
       "      <td>90.000000</td>\n",
       "      <td>156.000000</td>\n",
       "      <td>0.0</td>\n",
       "      <td>3.000000</td>\n",
       "      <td>3.000000</td>\n",
       "      <td>21.000000</td>\n",
       "      <td>0.0</td>\n",
       "      <td>3.000000</td>\n",
       "      <td>...</td>\n",
       "      <td>50003.880000</td>\n",
       "      <td>20385.720000</td>\n",
       "      <td>138831.630000</td>\n",
       "      <td>91778.730000</td>\n",
       "      <td>438329.220000</td>\n",
       "      <td>24650.010000</td>\n",
       "      <td>681462.900000</td>\n",
       "      <td>397884.300000</td>\n",
       "      <td>2.203474e+07</td>\n",
       "      <td>1.000000</td>\n",
       "    </tr>\n",
       "  </tbody>\n",
       "</table>\n",
       "<p>8 rows × 71 columns</p>\n",
       "</div>"
      ],
      "text/plain": [
       "       num_op_var41_efect_ult1  num_op_var41_efect_ult3  \\\n",
       "count             76020.000000             76020.000000   \n",
       "mean                  0.719416                 1.212155   \n",
       "std                   3.210999                 5.160396   \n",
       "min                   0.000000                 0.000000   \n",
       "25%                   0.000000                 0.000000   \n",
       "50%                   0.000000                 0.000000   \n",
       "75%                   0.000000                 0.000000   \n",
       "max                  90.000000               156.000000   \n",
       "\n",
       "       num_op_var39_efect_ult1  num_op_var39_efect_ult3  \\\n",
       "count             76020.000000             76020.000000   \n",
       "mean                  0.721902                 1.215825   \n",
       "std                   3.226314                 5.181092   \n",
       "min                   0.000000                 0.000000   \n",
       "25%                   0.000000                 0.000000   \n",
       "50%                   0.000000                 0.000000   \n",
       "75%                   0.000000                 0.000000   \n",
       "max                  90.000000               156.000000   \n",
       "\n",
       "       num_reemb_var13_hace3  num_reemb_var13_ult1  num_reemb_var17_hace3  \\\n",
       "count                76020.0          76020.000000           76020.000000   \n",
       "mean                     0.0              0.001500               0.000039   \n",
       "std                      0.0              0.067057               0.010881   \n",
       "min                      0.0              0.000000               0.000000   \n",
       "25%                      0.0              0.000000               0.000000   \n",
       "50%                      0.0              0.000000               0.000000   \n",
       "75%                      0.0              0.000000               0.000000   \n",
       "max                      0.0              3.000000               3.000000   \n",
       "\n",
       "       num_reemb_var17_ult1  num_reemb_var33_hace3  num_reemb_var33_ult1  \\\n",
       "count          76020.000000                76020.0          76020.000000   \n",
       "mean               0.001184                    0.0              0.000039   \n",
       "std                0.098523                    0.0              0.010881   \n",
       "min                0.000000                    0.0              0.000000   \n",
       "25%                0.000000                    0.0              0.000000   \n",
       "50%                0.000000                    0.0              0.000000   \n",
       "75%                0.000000                    0.0              0.000000   \n",
       "max               21.000000                    0.0              3.000000   \n",
       "\n",
       "           ...       saldo_medio_var33_hace2  saldo_medio_var33_hace3  \\\n",
       "count      ...                  76020.000000             76020.000000   \n",
       "mean       ...                      7.935824                 1.365146   \n",
       "std        ...                    455.887218               113.959637   \n",
       "min        ...                      0.000000                 0.000000   \n",
       "25%        ...                      0.000000                 0.000000   \n",
       "50%        ...                      0.000000                 0.000000   \n",
       "75%        ...                      0.000000                 0.000000   \n",
       "max        ...                  50003.880000             20385.720000   \n",
       "\n",
       "       saldo_medio_var33_ult1  saldo_medio_var33_ult3  \\\n",
       "count            76020.000000            76020.000000   \n",
       "mean                12.215580                8.784074   \n",
       "std                783.207399              538.439211   \n",
       "min                  0.000000                0.000000   \n",
       "25%                  0.000000                0.000000   \n",
       "50%                  0.000000                0.000000   \n",
       "75%                  0.000000                0.000000   \n",
       "max             138831.630000            91778.730000   \n",
       "\n",
       "       saldo_medio_var44_hace2  saldo_medio_var44_hace3  \\\n",
       "count             76020.000000             76020.000000   \n",
       "mean                 31.505324                 1.858575   \n",
       "std                2013.125393               147.786584   \n",
       "min                   0.000000                 0.000000   \n",
       "25%                   0.000000                 0.000000   \n",
       "50%                   0.000000                 0.000000   \n",
       "75%                   0.000000                 0.000000   \n",
       "max              438329.220000             24650.010000   \n",
       "\n",
       "       saldo_medio_var44_ult1  saldo_medio_var44_ult3         var38  \\\n",
       "count            76020.000000            76020.000000  7.602000e+04   \n",
       "mean                76.026165               56.614351  1.172358e+05   \n",
       "std               4040.337842             2852.579397  1.826646e+05   \n",
       "min                  0.000000                0.000000  5.163750e+03   \n",
       "25%                  0.000000                0.000000  6.787061e+04   \n",
       "50%                  0.000000                0.000000  1.064092e+05   \n",
       "75%                  0.000000                0.000000  1.187563e+05   \n",
       "max             681462.900000           397884.300000  2.203474e+07   \n",
       "\n",
       "             TARGET  \n",
       "count  76020.000000  \n",
       "mean       0.039569  \n",
       "std        0.194945  \n",
       "min        0.000000  \n",
       "25%        0.000000  \n",
       "50%        0.000000  \n",
       "75%        0.000000  \n",
       "max        1.000000  \n",
       "\n",
       "[8 rows x 71 columns]"
      ]
     },
     "execution_count": 19,
     "metadata": {},
     "output_type": "execute_result"
    }
   ],
   "source": [
    "df4.describe()"
   ]
  },
  {
   "cell_type": "code",
   "execution_count": 28,
   "metadata": {},
   "outputs": [],
   "source": [
    "corr_matrix = df_train.corr() "
   ]
  },
  {
   "cell_type": "code",
   "execution_count": 29,
   "metadata": {},
   "outputs": [],
   "source": [
    "corr =  corr_matrix['TARGET'].sort_values(ascending=False)"
   ]
  },
  {
   "cell_type": "code",
   "execution_count": 30,
   "metadata": {},
   "outputs": [],
   "source": [
    "corr1 = abs(corr[corr.isna()==False])"
   ]
  },
  {
   "cell_type": "code",
   "execution_count": 31,
   "metadata": {},
   "outputs": [],
   "source": [
    "columns_to_vizualize = corr1.head(20).index"
   ]
  },
  {
   "cell_type": "code",
   "execution_count": 32,
   "metadata": {},
   "outputs": [],
   "source": [
    "corr_matrix1 = df_train.loc[:, columns_to_vizualize].corr()"
   ]
  },
  {
   "cell_type": "code",
   "execution_count": 33,
   "metadata": {},
   "outputs": [
    {
     "data": {
      "text/plain": [
       "<matplotlib.axes._subplots.AxesSubplot at 0x7f6290956ba8>"
      ]
     },
     "execution_count": 33,
     "metadata": {},
     "output_type": "execute_result"
    },
    {
     "data": {
      "image/png": "[encoded data removed]",
      "text/plain": [
       "<Figure size 1296x1296 with 2 Axes>"
      ]
     },
     "metadata": {
      "image/png": {
       "height": 1132,
       "width": 1076
      }
     },
     "output_type": "display_data"
    }
   ],
   "source": [
    "f,ax = plt.subplots(figsize=(18, 18))\n",
    "sns.heatmap(corr_matrix1, annot=True, linewidths=.5, fmt= '.1f',ax=ax)"
   ]
  },
  {
   "cell_type": "code",
   "execution_count": 34,
   "metadata": {
    "scrolled": false
   },
   "outputs": [
    {
     "data": {
      "text/plain": [
       "0    73012\n",
       "1     3008\n",
       "Name: TARGET, dtype: int64"
      ]
     },
     "execution_count": 34,
     "metadata": {},
     "output_type": "execute_result"
    }
   ],
   "source": [
    "df_train.TARGET.value_counts()"
   ]
  },
  {
   "cell_type": "code",
   "execution_count": 35,
   "metadata": {},
   "outputs": [],
   "source": [
    "# Проверим на категориальные переменные"
   ]
  },
  {
   "cell_type": "code",
   "execution_count": 36,
   "metadata": {
    "scrolled": true
   },
   "outputs": [
    {
     "name": "stdout",
     "output_type": "stream",
     "text": [
      "Number of categorical features: 0\n",
      "Number of numerical features: 371\n"
     ]
    }
   ],
   "source": [
    "categorical_list = []\n",
    "numerical_list = []\n",
    "for i in df_train.columns.tolist():\n",
    "    if df_train[i].dtype=='object':\n",
    "        categorical_list.append(i)\n",
    "    else:\n",
    "        numerical_list.append(i)\n",
    "print('Number of categorical features:', str(len(categorical_list)))\n",
    "print('Number of numerical features:', str(len(numerical_list)))"
   ]
  },
  {
   "cell_type": "code",
   "execution_count": 37,
   "metadata": {},
   "outputs": [],
   "source": [
    "# Заполним пропуски медианой"
   ]
  },
  {
   "cell_type": "code",
   "execution_count": 38,
   "metadata": {},
   "outputs": [],
   "source": [
    "from sklearn.preprocessing import Imputer\n",
    "df_train[numerical_list] = Imputer(strategy='median').fit_transform(df_train[numerical_list])"
   ]
  },
  {
   "cell_type": "code",
   "execution_count": 39,
   "metadata": {},
   "outputs": [],
   "source": [
    "X= df_train.drop(['TARGET', 'ID'], axis= 1)"
   ]
  },
  {
   "cell_type": "code",
   "execution_count": 40,
   "metadata": {},
   "outputs": [],
   "source": [
    "y = df_train.TARGET\n",
    "col = X.columns"
   ]
  },
  {
   "cell_type": "code",
   "execution_count": 41,
   "metadata": {
    "scrolled": true
   },
   "outputs": [
    {
     "data": {
      "text/plain": [
       "StandardScaler(copy=True, with_mean=True, with_std=True)"
      ]
     },
     "execution_count": 41,
     "metadata": {},
     "output_type": "execute_result"
    }
   ],
   "source": [
    "scaler = StandardScaler()\n",
    "scaler.fit(X)"
   ]
  },
  {
   "cell_type": "code",
   "execution_count": 42,
   "metadata": {},
   "outputs": [],
   "source": [
    "X_scaled = pd.DataFrame(scaler.transform(X), columns = col)"
   ]
  },
  {
   "cell_type": "code",
   "execution_count": 43,
   "metadata": {},
   "outputs": [],
   "source": [
    "X_norm = pd.DataFrame(MinMaxScaler().fit_transform(X), columns = col)"
   ]
  },
  {
   "cell_type": "code",
   "execution_count": 44,
   "metadata": {},
   "outputs": [],
   "source": [
    "num_folds = 10\n",
    "seed = 7"
   ]
  },
  {
   "cell_type": "code",
   "execution_count": 45,
   "metadata": {},
   "outputs": [],
   "source": [
    "# выберем модель RandomForestClassifier и проверим на ней какая стратегия - \n",
    "#нормализация или стандартизация дает более высокое качество"
   ]
  },
  {
   "cell_type": "code",
   "execution_count": 46,
   "metadata": {
    "scrolled": true
   },
   "outputs": [],
   "source": [
    "kfold = KFold(n_splits=num_folds, random_state=seed)"
   ]
  },
  {
   "cell_type": "code",
   "execution_count": 47,
   "metadata": {},
   "outputs": [
    {
     "name": "stdout",
     "output_type": "stream",
     "text": [
      "Accuracy: 95.343% (0.259%)\n"
     ]
    }
   ],
   "source": [
    "rfc = RandomForestClassifier()\n",
    "results = cross_val_score(rfc, X_scaled, y, cv=kfold, n_jobs=4)\n",
    "print(\"Accuracy: %.3f%% (%.3f%%)\" % (results.mean()*100.0, results.std()*100.0\n",
    "))"
   ]
  },
  {
   "cell_type": "code",
   "execution_count": 48,
   "metadata": {},
   "outputs": [
    {
     "name": "stdout",
     "output_type": "stream",
     "text": [
      "Accuracy: 95.403% (0.238%)\n"
     ]
    }
   ],
   "source": [
    "results = cross_val_score(rfc, X_norm, y, cv=kfold, n_jobs=4)\n",
    "print(\"Accuracy: %.3f%% (%.3f%%)\" % (results.mean()*100.0, results.std()*100.0\n",
    "))"
   ]
  },
  {
   "cell_type": "code",
   "execution_count": 49,
   "metadata": {},
   "outputs": [],
   "source": [
    "# Качество  выше на нормализованных данных"
   ]
  },
  {
   "cell_type": "code",
   "execution_count": 50,
   "metadata": {},
   "outputs": [],
   "source": [
    "# Попробуем стратегию oversampling"
   ]
  },
  {
   "cell_type": "code",
   "execution_count": 51,
   "metadata": {},
   "outputs": [],
   "source": [
    "data2 = pd.concat([y,X_norm],axis=1)"
   ]
  },
  {
   "cell_type": "code",
   "execution_count": 52,
   "metadata": {},
   "outputs": [
    {
     "data": {
      "text/plain": [
       "0.0    73012\n",
       "1.0     3008\n",
       "Name: TARGET, dtype: int64"
      ]
     },
     "execution_count": 52,
     "metadata": {},
     "output_type": "execute_result"
    }
   ],
   "source": [
    "data2.TARGET.value_counts()"
   ]
  },
  {
   "cell_type": "code",
   "execution_count": 53,
   "metadata": {},
   "outputs": [
    {
     "data": {
      "text/plain": [
       "73012"
      ]
     },
     "execution_count": 53,
     "metadata": {},
     "output_type": "execute_result"
    }
   ],
   "source": [
    "max_size = data2['TARGET'].value_counts().max()\n",
    "max_size"
   ]
  },
  {
   "cell_type": "code",
   "execution_count": 54,
   "metadata": {},
   "outputs": [],
   "source": [
    "lst = [data2]\n",
    "for class_index, group in data2.groupby('TARGET'):\n",
    "    lst.append(group.sample(max_size-len(group), replace=True))\n",
    "data2_new = pd.concat(lst)"
   ]
  },
  {
   "cell_type": "code",
   "execution_count": 55,
   "metadata": {
    "scrolled": true
   },
   "outputs": [
    {
     "data": {
      "text/plain": [
       "1.0    73012\n",
       "0.0    73012\n",
       "Name: TARGET, dtype: int64"
      ]
     },
     "execution_count": 55,
     "metadata": {},
     "output_type": "execute_result"
    }
   ],
   "source": [
    "data2_new.TARGET.value_counts()"
   ]
  },
  {
   "cell_type": "code",
   "execution_count": 56,
   "metadata": {},
   "outputs": [],
   "source": [
    "y_over = data2_new.TARGET\n",
    "X_norm_over = data2_new.drop('TARGET', axis = 1)"
   ]
  },
  {
   "cell_type": "code",
   "execution_count": 57,
   "metadata": {
    "scrolled": false
   },
   "outputs": [
    {
     "name": "stdout",
     "output_type": "stream",
     "text": [
      "Accuracy: 95.869% (0.355%)\n"
     ]
    }
   ],
   "source": [
    "results = cross_val_score(rfc, X_norm_over, y_over, cv=kfold, n_jobs=4)\n",
    "print(\"Accuracy: %.3f%% (%.3f%%)\" % (results.mean()*100.0, results.std()*100.0\n",
    "))"
   ]
  },
  {
   "cell_type": "code",
   "execution_count": 58,
   "metadata": {},
   "outputs": [],
   "source": [
    "# оверсемплинг не на много ухудшил качество модели\n",
    "# пробуем андерсемплинг"
   ]
  },
  {
   "cell_type": "code",
   "execution_count": 59,
   "metadata": {},
   "outputs": [],
   "source": [
    "data2 = pd.concat([y,X_norm],axis=1)"
   ]
  },
  {
   "cell_type": "code",
   "execution_count": 60,
   "metadata": {},
   "outputs": [
    {
     "data": {
      "text/plain": [
       "0.0    73012\n",
       "1.0     3008\n",
       "Name: TARGET, dtype: int64"
      ]
     },
     "execution_count": 60,
     "metadata": {},
     "output_type": "execute_result"
    }
   ],
   "source": [
    "data2.TARGET.value_counts()"
   ]
  },
  {
   "cell_type": "code",
   "execution_count": 61,
   "metadata": {},
   "outputs": [],
   "source": [
    "count_class_0, count_class_1 = data2.TARGET.value_counts()\n",
    "df_class_0 = data2[data2['TARGET'] == 0]\n",
    "df_class_1 = data2[data2['TARGET'] == 1]"
   ]
  },
  {
   "cell_type": "code",
   "execution_count": 62,
   "metadata": {
    "scrolled": true
   },
   "outputs": [
    {
     "name": "stdout",
     "output_type": "stream",
     "text": [
      "Random under-sampling:\n",
      "1.0    3008\n",
      "0.0    3008\n",
      "Name: TARGET, dtype: int64\n"
     ]
    },
    {
     "data": {
      "image/png": "[encoded data removed]",
      "text/plain": [
       "<Figure size 432x288 with 1 Axes>"
      ]
     },
     "metadata": {
      "image/png": {
       "height": 270,
       "width": 383
      }
     },
     "output_type": "display_data"
    }
   ],
   "source": [
    "df_class_0_under = df_class_0.sample(count_class_1)\n",
    "df_under = pd.concat([df_class_0_under, df_class_1], axis=0)\n",
    "\n",
    "print('Random under-sampling:')\n",
    "print(df_under.TARGET.value_counts())\n",
    "\n",
    "df_under.TARGET.value_counts().plot(kind='bar', title='Count (target)');"
   ]
  },
  {
   "cell_type": "code",
   "execution_count": 63,
   "metadata": {},
   "outputs": [],
   "source": [
    "y_under = df_under.TARGET\n",
    "X_norm_under = df_under.drop('TARGET', axis = 1)"
   ]
  },
  {
   "cell_type": "code",
   "execution_count": 64,
   "metadata": {},
   "outputs": [
    {
     "name": "stdout",
     "output_type": "stream",
     "text": [
      "Accuracy: 66.204% (5.626%)\n"
     ]
    }
   ],
   "source": [
    "results = cross_val_score(rfc, X_norm_under, y_under, cv=kfold, n_jobs=4)\n",
    "print(\"Accuracy: %.3f%% (%.3f%%)\" % (results.mean()*100.0, results.std()*100.0\n",
    "))"
   ]
  },
  {
   "cell_type": "code",
   "execution_count": 65,
   "metadata": {},
   "outputs": [],
   "source": [
    "#стратегия андерсемплинга сильно ухудшает качество модели, выбираем оверсемплинг для сбалансированности классов"
   ]
  },
  {
   "cell_type": "code",
   "execution_count": 66,
   "metadata": {},
   "outputs": [],
   "source": [
    "# отберем фичи через коэффициент корреляции Пирсона"
   ]
  },
  {
   "cell_type": "code",
   "execution_count": 67,
   "metadata": {},
   "outputs": [],
   "source": [
    "feature_name = X.columns.tolist()\n",
    "def cor_selector(X, y, n_features):\n",
    "    cor_list = []\n",
    "    # calculate the correlation with y for each feature\n",
    "    for i in X.columns.tolist():\n",
    "        cor = np.corrcoef(X[i], y)[0, 1]\n",
    "        cor_list.append(cor)\n",
    "    # replace NaN with 0\n",
    "    cor_list = [0 if np.isnan(i) else i for i in cor_list]\n",
    "    # feature name\n",
    "    cor_feature = X.iloc[:,np.argsort(np.abs(cor_list))[-n_features:]].columns.tolist()\n",
    "    # feature selection? 0 for not select, 1 for select\n",
    "    cor_support = [True if i in cor_feature else False for i in feature_name]\n",
    "    return cor_support, cor_feature"
   ]
  },
  {
   "cell_type": "code",
   "execution_count": 68,
   "metadata": {},
   "outputs": [
    {
     "name": "stdout",
     "output_type": "stream",
     "text": [
      "30 selected features\n"
     ]
    }
   ],
   "source": [
    "cor_support, cor_feature = cor_selector(X, y, 30)\n",
    "print(str(len(cor_feature)), 'selected features')"
   ]
  },
  {
   "cell_type": "code",
   "execution_count": 69,
   "metadata": {
    "scrolled": true
   },
   "outputs": [
    {
     "data": {
      "text/plain": [
       "['ind_var24',\n",
       " 'ind_var5_0',\n",
       " 'num_var30_0',\n",
       " 'num_var12',\n",
       " 'ind_var41_0',\n",
       " 'num_var13_corto_0',\n",
       " 'ind_var12',\n",
       " 'ind_var13_corto_0',\n",
       " 'num_meses_var13_corto_ult3',\n",
       " 'num_var13_corto',\n",
       " 'ind_var13_corto',\n",
       " 'ind_var39_0',\n",
       " 'saldo_var30',\n",
       " 'num_var13_0',\n",
       " 'ind_var12_0',\n",
       " 'num_var13',\n",
       " 'ind_var13_0',\n",
       " 'ind_var13',\n",
       " 'num_var8_0',\n",
       " 'ind_var8_0',\n",
       " 'num_var35',\n",
       " 'num_var4',\n",
       " 'var15',\n",
       " 'var36',\n",
       " 'num_var5',\n",
       " 'ind_var5',\n",
       " 'num_var42',\n",
       " 'num_var30',\n",
       " 'num_meses_var5_ult3',\n",
       " 'ind_var30']"
      ]
     },
     "execution_count": 69,
     "metadata": {},
     "output_type": "execute_result"
    }
   ],
   "source": [
    "cor_feature"
   ]
  },
  {
   "cell_type": "code",
   "execution_count": 70,
   "metadata": {},
   "outputs": [],
   "source": [
    "X_norm_FE_Pearson = X_norm_over.loc[:, cor_feature]"
   ]
  },
  {
   "cell_type": "code",
   "execution_count": 71,
   "metadata": {},
   "outputs": [
    {
     "name": "stdout",
     "output_type": "stream",
     "text": [
      "Accuracy: 84.305% (1.866%)\n"
     ]
    }
   ],
   "source": [
    "results = cross_val_score(rfc, X_norm_FE_Pearson, y_over, cv=kfold, n_jobs=4)\n",
    "print(\"Accuracy: %.3f%% (%.3f%%)\" % (results.mean()*100.0, results.std()*100.0\n",
    "))"
   ]
  },
  {
   "cell_type": "code",
   "execution_count": 72,
   "metadata": {},
   "outputs": [],
   "source": [
    "#Оставим 30 лучших фичей по F-value"
   ]
  },
  {
   "cell_type": "code",
   "execution_count": 73,
   "metadata": {},
   "outputs": [],
   "source": [
    "select = SelectKBest(f_regression, k=30)"
   ]
  },
  {
   "cell_type": "code",
   "execution_count": 74,
   "metadata": {},
   "outputs": [],
   "source": [
    "X_norm_FE_f_reg = select.fit_transform(X_norm_over,y_over)"
   ]
  },
  {
   "cell_type": "code",
   "execution_count": 75,
   "metadata": {},
   "outputs": [
    {
     "data": {
      "text/plain": [
       "(146024, 30)"
      ]
     },
     "execution_count": 75,
     "metadata": {},
     "output_type": "execute_result"
    }
   ],
   "source": [
    "X_norm_FE_f_reg.shape"
   ]
  },
  {
   "cell_type": "code",
   "execution_count": 76,
   "metadata": {
    "scrolled": true
   },
   "outputs": [
    {
     "name": "stdout",
     "output_type": "stream",
     "text": [
      "Index(['var15', 'ind_var5', 'ind_var8_0', 'ind_var12_0', 'ind_var12',\n",
      "       'ind_var13_0', 'ind_var13_corto_0', 'ind_var13_corto', 'ind_var13',\n",
      "       'ind_var24', 'ind_var30', 'num_var4', 'num_var5', 'num_var8_0',\n",
      "       'num_var12', 'num_var13_0', 'num_var13_corto_0', 'num_var13_corto',\n",
      "       'num_var13', 'num_var24_0', 'num_var24', 'num_var30', 'num_var35',\n",
      "       'num_var42', 'saldo_var13', 'saldo_var30', 'var36',\n",
      "       'num_meses_var5_ult3', 'num_meses_var12_ult3',\n",
      "       'num_meses_var13_corto_ult3'],\n",
      "      dtype='object')\n"
     ]
    }
   ],
   "source": [
    "#получим список отобранных фич\n",
    "print(col[select.get_support()])"
   ]
  },
  {
   "cell_type": "code",
   "execution_count": 77,
   "metadata": {},
   "outputs": [],
   "source": [
    "X_norm_FE_f_reg = pd.DataFrame(X_norm_FE_f_reg, columns = col[select.get_support()])"
   ]
  },
  {
   "cell_type": "code",
   "execution_count": 78,
   "metadata": {
    "scrolled": false
   },
   "outputs": [
    {
     "name": "stdout",
     "output_type": "stream",
     "text": [
      "Accuracy: 84.495% (1.240%)\n"
     ]
    }
   ],
   "source": [
    "results = cross_val_score(rfc, X_norm_FE_f_reg, y_over, cv=kfold, n_jobs=4)\n",
    "print(\"Accuracy: %.3f%% (%.3f%%)\" % (results.mean()*100.0, results.std()*100.0\n",
    "))"
   ]
  },
  {
   "cell_type": "code",
   "execution_count": 79,
   "metadata": {},
   "outputs": [],
   "source": [
    "# Выберем фичи используя стратегию хи квадрат"
   ]
  },
  {
   "cell_type": "code",
   "execution_count": 80,
   "metadata": {},
   "outputs": [
    {
     "data": {
      "text/plain": [
       "SelectKBest(k=30, score_func=<function chi2 at 0x7f629680be18>)"
      ]
     },
     "execution_count": 80,
     "metadata": {},
     "output_type": "execute_result"
    }
   ],
   "source": [
    "from sklearn.feature_selection import SelectKBest\n",
    "from sklearn.feature_selection import chi2\n",
    "chi_selector = SelectKBest(chi2, k=30)\n",
    "chi_selector.fit(X_norm, y)"
   ]
  },
  {
   "cell_type": "code",
   "execution_count": 81,
   "metadata": {},
   "outputs": [
    {
     "name": "stdout",
     "output_type": "stream",
     "text": [
      "30 selected features\n"
     ]
    }
   ],
   "source": [
    "chi_support = chi_selector.get_support()\n",
    "chi_feature = X.loc[:,chi_support].columns.tolist()\n",
    "print(str(len(chi_feature)), 'selected features')"
   ]
  },
  {
   "cell_type": "code",
   "execution_count": 95,
   "metadata": {},
   "outputs": [],
   "source": [
    "X_norm_FE_chi = X_norm_over.loc[:, chi_feature]"
   ]
  },
  {
   "cell_type": "code",
   "execution_count": 96,
   "metadata": {},
   "outputs": [
    {
     "name": "stdout",
     "output_type": "stream",
     "text": [
      "Accuracy: 76.592% (1.978%)\n"
     ]
    }
   ],
   "source": [
    "results = cross_val_score(rfc, X_norm_FE_chi, y_over, cv=kfold, n_jobs=4)\n",
    "print(\"Accuracy: %.3f%% (%.3f%%)\" % (results.mean()*100.0, results.std()*100.0\n",
    "))"
   ]
  },
  {
   "cell_type": "code",
   "execution_count": 84,
   "metadata": {},
   "outputs": [],
   "source": [
    "# Используем стратегию  recursive feature elimination - оставим 30 фичей"
   ]
  },
  {
   "cell_type": "code",
   "execution_count": 114,
   "metadata": {},
   "outputs": [],
   "source": [
    "estimator = LogisticRegression()"
   ]
  },
  {
   "cell_type": "code",
   "execution_count": 115,
   "metadata": {},
   "outputs": [],
   "source": [
    "rfe = RFE(estimator, 30, step = 10) "
   ]
  },
  {
   "cell_type": "code",
   "execution_count": 116,
   "metadata": {},
   "outputs": [],
   "source": [
    "selector = rfe.fit(X_norm_over,y_over)"
   ]
  },
  {
   "cell_type": "code",
   "execution_count": 117,
   "metadata": {},
   "outputs": [
    {
     "name": "stdout",
     "output_type": "stream",
     "text": [
      "Index(['var15', 'imp_op_var39_comer_ult3', 'imp_op_var41_comer_ult1',\n",
      "       'imp_op_var41_comer_ult3', 'imp_op_var41_ult1',\n",
      "       'imp_op_var39_efect_ult1', 'imp_op_var39_ult1', 'ind_var13',\n",
      "       'ind_var33_0', 'num_var42', 'saldo_var5', 'saldo_var12', 'saldo_var30',\n",
      "       'saldo_var42', 'imp_var43_emit_ult1', 'num_aport_var13_hace3',\n",
      "       'num_ent_var16_ult1', 'num_var22_ult1', 'num_var22_ult3',\n",
      "       'num_meses_var13_largo_ult3', 'num_meses_var17_ult3',\n",
      "       'num_op_var40_efect_ult3', 'num_reemb_var17_ult1',\n",
      "       'num_var43_recib_ult1', 'saldo_medio_var5_hace2',\n",
      "       'saldo_medio_var5_ult1', 'saldo_medio_var8_hace2',\n",
      "       'saldo_medio_var12_hace3', 'saldo_medio_var12_ult3', 'var38'],\n",
      "      dtype='object')\n"
     ]
    }
   ],
   "source": [
    "print(col[selector.support_])"
   ]
  },
  {
   "cell_type": "code",
   "execution_count": 118,
   "metadata": {},
   "outputs": [],
   "source": [
    "X_norm_FE_RFE = selector.transform(X_norm_over)"
   ]
  },
  {
   "cell_type": "code",
   "execution_count": 119,
   "metadata": {},
   "outputs": [
    {
     "data": {
      "text/plain": [
       "(146024, 30)"
      ]
     },
     "execution_count": 119,
     "metadata": {},
     "output_type": "execute_result"
    }
   ],
   "source": [
    "X_norm_FE_RFE.shape"
   ]
  },
  {
   "cell_type": "code",
   "execution_count": 120,
   "metadata": {},
   "outputs": [],
   "source": [
    "X_norm_FE_RFE = pd.DataFrame(X_norm_FE_RFE, columns = col[selector.support_])"
   ]
  },
  {
   "cell_type": "code",
   "execution_count": 121,
   "metadata": {
    "scrolled": true
   },
   "outputs": [
    {
     "name": "stdout",
     "output_type": "stream",
     "text": [
      "Accuracy: 96.133% (1.681%)\n"
     ]
    }
   ],
   "source": [
    "results = cross_val_score(rfc, X_norm_FE_RFE, y_over, cv=kfold, n_jobs=4)\n",
    "print(\"Accuracy: %.3f%% (%.3f%%)\" % (results.mean()*100.0, results.std()*100.0\n",
    "))"
   ]
  },
  {
   "cell_type": "code",
   "execution_count": null,
   "metadata": {},
   "outputs": [],
   "source": [
    "#Стратегия recursive feature elimination позволила улучшить качество модели при кросс-валидации \n",
    "#даже при отборе только 30 фичей"
   ]
  },
  {
   "cell_type": "code",
   "execution_count": 100,
   "metadata": {},
   "outputs": [
    {
     "data": {
      "text/plain": [
       "SelectFromModel(estimator=RandomForestClassifier(bootstrap=True, class_weight=None, criterion='gini',\n",
       "            max_depth=None, max_features='auto', max_leaf_nodes=None,\n",
       "            min_impurity_decrease=0.0, min_impurity_split=None,\n",
       "            min_samples_leaf=1, min_samples_split=2,\n",
       "            min_weight_fraction_leaf=0.0, n_estimators=30, n_jobs=1,\n",
       "            oob_score=False, random_state=None, verbose=0,\n",
       "            warm_start=False),\n",
       "        norm_order=1, prefit=False, threshold='1.25*median')"
      ]
     },
     "execution_count": 100,
     "metadata": {},
     "output_type": "execute_result"
    }
   ],
   "source": [
    "from sklearn.feature_selection import SelectFromModel\n",
    "\n",
    "embeded_rf_selector = SelectFromModel(RandomForestClassifier(n_estimators=30), threshold='1.25*median')\n",
    "embeded_rf_selector.fit(X_norm_over, y_over)"
   ]
  },
  {
   "cell_type": "code",
   "execution_count": 104,
   "metadata": {},
   "outputs": [
    {
     "name": "stdout",
     "output_type": "stream",
     "text": [
      "178 selected features\n"
     ]
    }
   ],
   "source": [
    "embeded_rf_support = embeded_rf_selector.get_support()\n",
    "embeded_rf_feature = X_norm_over.loc[:,embeded_rf_support].columns.tolist()\n",
    "X_norm_FE_SelectRF = X_norm_over.loc[:,embeded_rf_support]\n",
    "print(str(len(embeded_rf_feature)), 'selected features')"
   ]
  },
  {
   "cell_type": "code",
   "execution_count": 105,
   "metadata": {
    "scrolled": true
   },
   "outputs": [
    {
     "name": "stdout",
     "output_type": "stream",
     "text": [
      "Accuracy: 95.853% (0.478%)\n"
     ]
    }
   ],
   "source": [
    "results = cross_val_score(rfc, X_norm_FE_SelectRF, y_over, cv=kfold, n_jobs=4)\n",
    "print(\"Accuracy: %.3f%% (%.3f%%)\" % (results.mean()*100.0, results.std()*100.0\n",
    "))"
   ]
  },
  {
   "cell_type": "code",
   "execution_count": null,
   "metadata": {},
   "outputs": [],
   "source": [
    "#Стратегия отбора фич встроенными методами (Wrappers) показала что фичей должно быть больше чем 30, \n",
    "#пробуем автоматический подбор количества фичей"
   ]
  },
  {
   "cell_type": "code",
   "execution_count": 123,
   "metadata": {},
   "outputs": [],
   "source": [
    "from sklearn.feature_selection import RFECV\n",
    "\n",
    "estimator = RandomForestClassifier()\n",
    "selector = RFECV(estimator, step=20, cv=5, n_jobs=4)\n",
    "selector = selector.fit(X_norm_over, y_over)"
   ]
  },
  {
   "cell_type": "code",
   "execution_count": 125,
   "metadata": {},
   "outputs": [
    {
     "name": "stdout",
     "output_type": "stream",
     "text": [
      "29 selected features\n"
     ]
    }
   ],
   "source": [
    "embeded_rf_support = selector.get_support()\n",
    "embeded_rf_feature = X_norm_over.loc[:,embeded_rf_support].columns.tolist()\n",
    "X_norm_FE_RFECV = X_norm_over.loc[:,embeded_rf_support]\n",
    "print(str(len(embeded_rf_feature)), 'selected features')"
   ]
  },
  {
   "cell_type": "code",
   "execution_count": 94,
   "metadata": {},
   "outputs": [],
   "source": [
    "#Попробуем разные модели только для отобранных нормализованных фичей"
   ]
  },
  {
   "cell_type": "code",
   "execution_count": 129,
   "metadata": {},
   "outputs": [
    {
     "name": "stdout",
     "output_type": "stream",
     "text": [
      "Accuracy: 96.734% (1.105%)\n"
     ]
    }
   ],
   "source": [
    "results = cross_val_score(rfc, X_norm_FE_RFECV, y_over, cv=kfold, n_jobs=4)\n",
    "print(\"Accuracy: %.3f%% (%.3f%%)\" % (results.mean()*100.0, results.std()*100.0\n",
    "))"
   ]
  },
  {
   "cell_type": "code",
   "execution_count": 126,
   "metadata": {
    "scrolled": true
   },
   "outputs": [
    {
     "name": "stderr",
     "output_type": "stream",
     "text": [
      "/home/pavel/anaconda3/lib/python3.6/site-packages/sklearn/preprocessing/label.py:151: DeprecationWarning: The truth value of an empty array is ambiguous. Returning False, but in future this will result in an error. Use `array.size > 0` to check that an array is not empty.\n",
      "  if diff:\n",
      "/home/pavel/anaconda3/lib/python3.6/site-packages/sklearn/preprocessing/label.py:151: DeprecationWarning: The truth value of an empty array is ambiguous. Returning False, but in future this will result in an error. Use `array.size > 0` to check that an array is not empty.\n",
      "  if diff:\n",
      "/home/pavel/anaconda3/lib/python3.6/site-packages/sklearn/preprocessing/label.py:151: DeprecationWarning: The truth value of an empty array is ambiguous. Returning False, but in future this will result in an error. Use `array.size > 0` to check that an array is not empty.\n",
      "  if diff:\n",
      "/home/pavel/anaconda3/lib/python3.6/site-packages/sklearn/preprocessing/label.py:151: DeprecationWarning: The truth value of an empty array is ambiguous. Returning False, but in future this will result in an error. Use `array.size > 0` to check that an array is not empty.\n",
      "  if diff:\n",
      "/home/pavel/anaconda3/lib/python3.6/site-packages/sklearn/preprocessing/label.py:151: DeprecationWarning: The truth value of an empty array is ambiguous. Returning False, but in future this will result in an error. Use `array.size > 0` to check that an array is not empty.\n",
      "  if diff:\n",
      "/home/pavel/anaconda3/lib/python3.6/site-packages/sklearn/preprocessing/label.py:151: DeprecationWarning: The truth value of an empty array is ambiguous. Returning False, but in future this will result in an error. Use `array.size > 0` to check that an array is not empty.\n",
      "  if diff:\n",
      "/home/pavel/anaconda3/lib/python3.6/site-packages/sklearn/preprocessing/label.py:151: DeprecationWarning: The truth value of an empty array is ambiguous. Returning False, but in future this will result in an error. Use `array.size > 0` to check that an array is not empty.\n",
      "  if diff:\n",
      "/home/pavel/anaconda3/lib/python3.6/site-packages/sklearn/preprocessing/label.py:151: DeprecationWarning: The truth value of an empty array is ambiguous. Returning False, but in future this will result in an error. Use `array.size > 0` to check that an array is not empty.\n",
      "  if diff:\n",
      "/home/pavel/anaconda3/lib/python3.6/site-packages/sklearn/preprocessing/label.py:151: DeprecationWarning: The truth value of an empty array is ambiguous. Returning False, but in future this will result in an error. Use `array.size > 0` to check that an array is not empty.\n",
      "  if diff:\n"
     ]
    },
    {
     "name": "stdout",
     "output_type": "stream",
     "text": [
      "Accuracy: 77.288% (1.251%)\n"
     ]
    },
    {
     "name": "stderr",
     "output_type": "stream",
     "text": [
      "/home/pavel/anaconda3/lib/python3.6/site-packages/sklearn/preprocessing/label.py:151: DeprecationWarning: The truth value of an empty array is ambiguous. Returning False, but in future this will result in an error. Use `array.size > 0` to check that an array is not empty.\n",
      "  if diff:\n"
     ]
    }
   ],
   "source": [
    "xgb = xgboost.XGBClassifier(max_depth=5, random_seed = 42, n_jobs=4)\n",
    "results = cross_val_score(xgb, X_norm_FE_RFECV, y_over, cv=kfold)\n",
    "print(\"Accuracy: %.3f%% (%.3f%%)\" % (results.mean()*100.0, results.std()*100.0\n",
    "))"
   ]
  },
  {
   "cell_type": "code",
   "execution_count": 128,
   "metadata": {},
   "outputs": [
    {
     "name": "stdout",
     "output_type": "stream",
     "text": [
      "Accuracy: 66.080% (3.095%)\n"
     ]
    }
   ],
   "source": [
    "LogReg = LogisticRegression()\n",
    "results = cross_val_score(LogReg, X_norm_FE_RFECV, y_over, cv=kfold, n_jobs=4)\n",
    "print(\"Accuracy: %.3f%% (%.3f%%)\" % (results.mean()*100.0, results.std()*100.0\n",
    "))"
   ]
  },
  {
   "cell_type": "code",
   "execution_count": 127,
   "metadata": {},
   "outputs": [
    {
     "name": "stdout",
     "output_type": "stream",
     "text": [
      "Accuracy: 96.401% (2.087%)\n"
     ]
    }
   ],
   "source": [
    "destree = DecisionTreeClassifier()\n",
    "results = cross_val_score(destree, X_norm_FE_RFECV, y_over, cv=kfold, n_jobs=4)\n",
    "print(\"Accuracy: %.3f%% (%.3f%%)\" % (results.mean()*100.0, results.std()*100.0\n",
    "))"
   ]
  },
  {
   "cell_type": "code",
   "execution_count": null,
   "metadata": {},
   "outputs": [],
   "source": [
    "#Наилучшее качество предсказания по крос-валидации дал RandomForestClassifier. Остановимся на этой модели."
   ]
  },
  {
   "cell_type": "code",
   "execution_count": 133,
   "metadata": {},
   "outputs": [],
   "source": [
    "X_train, X_test, y_train, y_test = train_test_split(X_norm_FE_RFECV, y_over, test_size=0.2, random_state=7)"
   ]
  },
  {
   "cell_type": "code",
   "execution_count": 134,
   "metadata": {},
   "outputs": [],
   "source": [
    "grid = {\n",
    "    'criterion': ['gini', 'entropy'],\n",
    "    'n_estimators': [10, 30, 50, 70, 100],\n",
    "    'max_depth': [1,3,5,7,9, None],\n",
    "}\n",
    "grid_lr = GridSearchCV(RandomForestClassifier(), grid, scoring='accuracy', cv=5, n_jobs=4)"
   ]
  },
  {
   "cell_type": "code",
   "execution_count": 135,
   "metadata": {},
   "outputs": [
    {
     "data": {
      "text/plain": [
       "GridSearchCV(cv=5, error_score='raise',\n",
       "       estimator=RandomForestClassifier(bootstrap=True, class_weight=None, criterion='gini',\n",
       "            max_depth=None, max_features='auto', max_leaf_nodes=None,\n",
       "            min_impurity_decrease=0.0, min_impurity_split=None,\n",
       "            min_samples_leaf=1, min_samples_split=2,\n",
       "            min_weight_fraction_leaf=0.0, n_estimators=10, n_jobs=1,\n",
       "            oob_score=False, random_state=None, verbose=0,\n",
       "            warm_start=False),\n",
       "       fit_params=None, iid=True, n_jobs=4,\n",
       "       param_grid={'criterion': ['gini', 'entropy'], 'n_estimators': [10, 30, 50, 70, 100], 'max_depth': [1, 3, 5, 7, 9, None]},\n",
       "       pre_dispatch='2*n_jobs', refit=True, return_train_score='warn',\n",
       "       scoring='accuracy', verbose=0)"
      ]
     },
     "execution_count": 135,
     "metadata": {},
     "output_type": "execute_result"
    }
   ],
   "source": [
    "grid_lr.fit(X_train, y_train)"
   ]
  },
  {
   "cell_type": "code",
   "execution_count": 136,
   "metadata": {
    "scrolled": true
   },
   "outputs": [
    {
     "data": {
      "text/plain": [
       "0.9701418433645211"
      ]
     },
     "execution_count": 136,
     "metadata": {},
     "output_type": "execute_result"
    }
   ],
   "source": [
    "grid_lr.best_score_"
   ]
  },
  {
   "cell_type": "code",
   "execution_count": 137,
   "metadata": {},
   "outputs": [
    {
     "data": {
      "text/plain": [
       "{'criterion': 'gini', 'max_depth': None, 'n_estimators': 100}"
      ]
     },
     "execution_count": 137,
     "metadata": {},
     "output_type": "execute_result"
    }
   ],
   "source": [
    "grid_lr.best_params_"
   ]
  },
  {
   "cell_type": "code",
   "execution_count": 138,
   "metadata": {},
   "outputs": [],
   "source": [
    "model = grid_lr.best_estimator_"
   ]
  },
  {
   "cell_type": "code",
   "execution_count": 139,
   "metadata": {},
   "outputs": [],
   "source": [
    "# Посмотрим на важность признаков в модели:"
   ]
  },
  {
   "cell_type": "code",
   "execution_count": 140,
   "metadata": {},
   "outputs": [],
   "source": [
    "def takeSecond(elem):\n",
    "    return elem[1]"
   ]
  },
  {
   "cell_type": "code",
   "execution_count": 141,
   "metadata": {
    "scrolled": true
   },
   "outputs": [
    {
     "name": "stdout",
     "output_type": "stream",
     "text": [
      "('var38', 0.22730652551306804)\n",
      "('var15', 0.22447576737459546)\n",
      "('saldo_medio_var5_ult3', 0.05090670670805128)\n",
      "('saldo_var30', 0.04930033796432784)\n",
      "('saldo_var5', 0.036964393413321035)\n",
      "('saldo_medio_var5_hace3', 0.03340516416923265)\n",
      "('saldo_medio_var5_ult1', 0.03256958168922855)\n",
      "('saldo_medio_var5_hace2', 0.03142191463000944)\n",
      "('num_var30', 0.029593214691195406)\n",
      "('saldo_var42', 0.028224547345851277)\n",
      "('num_var45_ult3', 0.024067890055769724)\n",
      "('num_var4', 0.020008245088258513)\n",
      "('num_var22_ult3', 0.01975063497399194)\n",
      "('var36', 0.018938181477379256)\n",
      "('num_var45_hace3', 0.01770962533959246)\n",
      "('num_var45_hace2', 0.01648499901658451)\n",
      "('num_meses_var39_vig_ult3', 0.015514937679998215)\n",
      "('num_var45_ult1', 0.012834770140452255)\n",
      "('num_var22_hace2', 0.012132240123233601)\n",
      "('num_var22_hace3', 0.011409695539651632)\n",
      "('num_med_var45_ult3', 0.01116280536375517)\n",
      "('imp_op_var39_ult1', 0.011057974818597206)\n",
      "('imp_op_var41_ult1', 0.010109119547726865)\n",
      "('imp_op_var41_efect_ult3', 0.010058140768009746)\n",
      "('imp_op_var41_comer_ult3', 0.009594650406360204)\n",
      "('num_var22_ult1', 0.009492522255151797)\n",
      "('num_op_var39_ult3', 0.009098566968115477)\n",
      "('imp_op_var39_efect_ult3', 0.009001410313624635)\n",
      "('num_var42_0', 0.0074054366248658835)\n"
     ]
    }
   ],
   "source": [
    "for i in sorted(zip(X_train.columns, model.feature_importances_),  key = takeSecond, reverse = True):\n",
    "    print (i)"
   ]
  },
  {
   "cell_type": "code",
   "execution_count": 142,
   "metadata": {},
   "outputs": [],
   "source": [
    "predicted = model.predict(X_test)"
   ]
  },
  {
   "cell_type": "code",
   "execution_count": 143,
   "metadata": {},
   "outputs": [
    {
     "name": "stdout",
     "output_type": "stream",
     "text": [
      "             precision    recall  f1-score   support\n",
      "\n",
      "        0.0       0.99      0.96      0.97     14624\n",
      "        1.0       0.96      0.99      0.97     14581\n",
      "\n",
      "avg / total       0.97      0.97      0.97     29205\n",
      "\n"
     ]
    }
   ],
   "source": [
    "report = classification_report(y_test, predicted)\n",
    "print(report)"
   ]
  },
  {
   "cell_type": "code",
   "execution_count": 144,
   "metadata": {},
   "outputs": [
    {
     "data": {
      "text/plain": [
       "0.9722992638246876"
      ]
     },
     "execution_count": 144,
     "metadata": {},
     "output_type": "execute_result"
    }
   ],
   "source": [
    "metrics.accuracy_score(y_test, predicted)"
   ]
  },
  {
   "cell_type": "code",
   "execution_count": 145,
   "metadata": {
    "scrolled": true
   },
   "outputs": [
    {
     "data": {
      "text/plain": [
       "array([[14011,   613],\n",
       "       [  196, 14385]])"
      ]
     },
     "execution_count": 145,
     "metadata": {},
     "output_type": "execute_result"
    }
   ],
   "source": [
    "metrics.confusion_matrix(y_test, predicted)"
   ]
  },
  {
   "cell_type": "code",
   "execution_count": null,
   "metadata": {},
   "outputs": [],
   "source": [
    "# Проверим даст ли улучшение качества сокращение размерности пространства признаков методом главных компонент"
   ]
  },
  {
   "cell_type": "code",
   "execution_count": 146,
   "metadata": {},
   "outputs": [
    {
     "data": {
      "text/plain": [
       "Text(0,0.5,'explained_variance_ratio_')"
      ]
     },
     "execution_count": 146,
     "metadata": {},
     "output_type": "execute_result"
    },
    {
     "data": {
      "image/png": "[encoded data removed]",
      "text/plain": [
       "<Figure size 432x288 with 1 Axes>"
      ]
     },
     "metadata": {
      "image/png": {
       "height": 263,
       "width": 387
      }
     },
     "output_type": "display_data"
    }
   ],
   "source": [
    "pca = PCA().fit(X_norm_over)\n",
    "\n",
    "cum_evr = np.cumsum(pca.explained_variance_ratio_)\n",
    "xs = np.arange(cum_evr.size) + 1\n",
    "plt.plot(xs, cum_evr, linewidth=2)\n",
    "plt.grid()\n",
    "plt.xlabel('n_components')\n",
    "plt.ylabel('explained_variance_ratio_')"
   ]
  },
  {
   "cell_type": "code",
   "execution_count": 163,
   "metadata": {},
   "outputs": [],
   "source": [
    "pca = PCA(n_components=45)\n",
    "X_pca = pca.fit_transform(X_norm_over)\n",
    "X_pca = pd.DataFrame(X_pca)"
   ]
  },
  {
   "cell_type": "code",
   "execution_count": 157,
   "metadata": {},
   "outputs": [],
   "source": [
    "X_train, X_test, y_train, y_test = train_test_split(X_pca, y_over, test_size=0.2, random_state=7)"
   ]
  },
  {
   "cell_type": "code",
   "execution_count": 158,
   "metadata": {},
   "outputs": [],
   "source": [
    "model = RandomForestClassifier(criterion= 'gini', max_depth= None, n_estimators= 100)"
   ]
  },
  {
   "cell_type": "code",
   "execution_count": 159,
   "metadata": {},
   "outputs": [
    {
     "data": {
      "text/plain": [
       "RandomForestClassifier(bootstrap=True, class_weight=None, criterion='gini',\n",
       "            max_depth=None, max_features='auto', max_leaf_nodes=None,\n",
       "            min_impurity_decrease=0.0, min_impurity_split=None,\n",
       "            min_samples_leaf=1, min_samples_split=2,\n",
       "            min_weight_fraction_leaf=0.0, n_estimators=100, n_jobs=1,\n",
       "            oob_score=False, random_state=None, verbose=0,\n",
       "            warm_start=False)"
      ]
     },
     "execution_count": 159,
     "metadata": {},
     "output_type": "execute_result"
    }
   ],
   "source": [
    "model.fit(X_train, y_train)"
   ]
  },
  {
   "cell_type": "code",
   "execution_count": 160,
   "metadata": {},
   "outputs": [],
   "source": [
    "predicted = model.predict(X_test)"
   ]
  },
  {
   "cell_type": "code",
   "execution_count": 161,
   "metadata": {},
   "outputs": [
    {
     "name": "stdout",
     "output_type": "stream",
     "text": [
      "             precision    recall  f1-score   support\n",
      "\n",
      "        0.0       0.97      0.94      0.96     14624\n",
      "        1.0       0.94      0.97      0.96     14581\n",
      "\n",
      "avg / total       0.96      0.96      0.96     29205\n",
      "\n"
     ]
    }
   ],
   "source": [
    "report = classification_report(y_test, predicted)\n",
    "print(report)"
   ]
  },
  {
   "cell_type": "code",
   "execution_count": 162,
   "metadata": {},
   "outputs": [
    {
     "data": {
      "text/plain": [
       "0.9564800547851395"
      ]
     },
     "execution_count": 162,
     "metadata": {},
     "output_type": "execute_result"
    }
   ],
   "source": [
    "metrics.accuracy_score(y_test, predicted)"
   ]
  },
  {
   "cell_type": "code",
   "execution_count": null,
   "metadata": {},
   "outputs": [],
   "source": [
    "#Качество модели не улучшилось"
   ]
  }
 ],
 "metadata": {
  "kernelspec": {
   "display_name": "Python 3",
   "language": "python",
   "name": "python3"
  },
  "language_info": {
   "codemirror_mode": {
    "name": "ipython",
    "version": 3
   },
   "file_extension": ".py",
   "mimetype": "text/x-python",
   "name": "python",
   "nbconvert_exporter": "python",
   "pygments_lexer": "ipython3",
   "version": "3.6.5"
  }
 },
 "nbformat": 4,
 "nbformat_minor": 2
}
