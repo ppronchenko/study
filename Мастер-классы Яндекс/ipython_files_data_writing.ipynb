{
 "cells": [
  {
   "cell_type": "markdown",
   "metadata": {},
   "source": [
    "# Запись в файл "
   ]
  },
  {
   "cell_type": "code",
   "execution_count": 1,
   "metadata": {},
   "outputs": [],
   "source": [
    "#запись строки в файл, открытый в режиме 'w'\n",
    "file_obj = open('file_to_write_in.txt', 'w')\n",
    "string = 'строка для записи в файл\\n'\n",
    "file_obj.write(string)\n",
    "file_obj.close()"
   ]
  },
  {
   "cell_type": "code",
   "execution_count": 2,
   "metadata": {},
   "outputs": [
    {
     "name": "stdout",
     "output_type": "stream",
     "text": [
      "строка для записи в файл\r\n"
     ]
    }
   ],
   "source": [
    "!cat file_to_write_in.txt"
   ]
  },
  {
   "cell_type": "code",
   "execution_count": 3,
   "metadata": {},
   "outputs": [
    {
     "name": "stdout",
     "output_type": "stream",
     "text": [
      "строка для записи в файл\r\n"
     ]
    }
   ],
   "source": [
    "#аналог предыдущей команды для пользователей windows\n",
    "!more file_to_write_in.txt"
   ]
  },
  {
   "cell_type": "code",
   "execution_count": 4,
   "metadata": {},
   "outputs": [],
   "source": [
    "#запись строки в файл, открытый в режиме 'w'\n",
    "file_obj = open('file_to_write_in.txt', 'w')\n",
    "second_string = 'вторая строка для записи в файл\\n'\n",
    "file_obj.write(second_string)\n",
    "file_obj.close()"
   ]
  },
  {
   "cell_type": "code",
   "execution_count": 5,
   "metadata": {},
   "outputs": [
    {
     "name": "stdout",
     "output_type": "stream",
     "text": [
      "вторая строка для записи в файл\r\n"
     ]
    }
   ],
   "source": [
    "!cat file_to_write_in.txt"
   ]
  },
  {
   "cell_type": "code",
   "execution_count": 6,
   "metadata": {},
   "outputs": [
    {
     "name": "stdout",
     "output_type": "stream",
     "text": [
      "вторая строка для записи в файл\r\n"
     ]
    }
   ],
   "source": [
    "#аналог для пользователей windows\n",
    "!more file_to_write_in.txt"
   ]
  },
  {
   "cell_type": "code",
   "execution_count": 7,
   "metadata": {},
   "outputs": [],
   "source": [
    "#запись строки в файл, открытый в режиме 'a'\n",
    "file_obj = open('file_to_write_in.txt', 'a')\n",
    "second_string = 'третья строка для записи в файл\\n'\n",
    "file_obj.write(second_string)\n",
    "file_obj.close()"
   ]
  },
  {
   "cell_type": "code",
   "execution_count": 8,
   "metadata": {},
   "outputs": [],
   "source": [
    "#создание списка чисел от 1 до 10\n",
    "digits = range(1,11)"
   ]
  },
  {
   "cell_type": "code",
   "execution_count": 9,
   "metadata": {},
   "outputs": [
    {
     "data": {
      "text/plain": [
       "range(1, 11)"
      ]
     },
     "execution_count": 9,
     "metadata": {},
     "output_type": "execute_result"
    }
   ],
   "source": [
    "digits"
   ]
  },
  {
   "cell_type": "code",
   "execution_count": 10,
   "metadata": {},
   "outputs": [],
   "source": [
    "#запись в файл списка строк с помощью функции writelines\n",
    "file_obj = open('second_file_for_write_in.txt', 'w')\n",
    "file_obj.writelines(digit + '\\n' for digit in map(str, digits))\n",
    "file_obj.close()"
   ]
  },
  {
   "cell_type": "code",
   "execution_count": 12,
   "metadata": {},
   "outputs": [
    {
     "ename": "SyntaxError",
     "evalue": "invalid syntax (<ipython-input-12-29f738ab78e8>, line 3)",
     "output_type": "error",
     "traceback": [
      "\u001b[0;36m  File \u001b[0;32m\"<ipython-input-12-29f738ab78e8>\"\u001b[0;36m, line \u001b[0;32m3\u001b[0m\n\u001b[0;31m    print file_obj.read()\u001b[0m\n\u001b[0m                 ^\u001b[0m\n\u001b[0;31mSyntaxError\u001b[0m\u001b[0;31m:\u001b[0m invalid syntax\n"
     ]
    }
   ],
   "source": [
    "#вывод на экран содержимого файла\n",
    "with open('second_file_for_write_in.txt', 'r') as file_obj:\n",
    "     print file_obj.read()"
   ]
  },
  {
   "cell_type": "code",
   "execution_count": null,
   "metadata": {},
   "outputs": [],
   "source": []
  }
 ],
 "metadata": {
  "kernelspec": {
   "display_name": "Python 3",
   "language": "python",
   "name": "python3"
  },
  "language_info": {
   "codemirror_mode": {
    "name": "ipython",
    "version": 3
   },
   "file_extension": ".py",
   "mimetype": "text/x-python",
   "name": "python",
   "nbconvert_exporter": "python",
   "pygments_lexer": "ipython3",
   "version": "3.6.5"
  }
 },
 "nbformat": 4,
 "nbformat_minor": 1
}
