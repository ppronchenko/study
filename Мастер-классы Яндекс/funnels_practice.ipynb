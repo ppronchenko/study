{
 "cells": [
  {
   "cell_type": "markdown",
   "metadata": {},
   "source": [
    "# Fun with funnels\n",
    "\n",
    "### Установка \n",
    "\n",
    "В первую очередь нам понадобится ClickHouse.\n",
    "ClickHouse можно установить на Linux и MAC (подробно про установку написано в документации https://clickhouse.yandex/).\n",
    "\n",
    "Также удобно запустить CH в Docker'e: первая команда поднимает clickhouse-server на порту 8123, а вторая - позволяет подключиться к консольному ClickHouse клиенту.\n",
    "```\n",
    "docker run -d --name clickhouse-server --publish=8123:8123 --publish=9000:9000 yandex/clickhouse-server\n",
    "docker run -it --rm --link clickhouse-server:9000 yandex/clickhouse-client --host clickhouse-server\n",
    "```\n",
    "\n",
    "Из библиотек для python нам понадобятся:\n",
    "* `requests`\n",
    "* `plotly`\n",
    "* `pandas`\n",
    "\n",
    "Данные можно скачать тут - https://yadi.sk/d/xv6iNs5Tkh1G8A\n",
    "\n",
    "###  Функции для интеграции с ClickHouse\n",
    "\n",
    "Напишем функции для интеграции с ClickHouse: первая функция просто возвращает результат из DataBase, вторая же преобразует его в pandas DataFrame.\n",
    "\n",
    "Также напишем сразу удобную функцию для загрузки данных."
   ]
  },
  {
   "cell_type": "code",
   "execution_count": 6,
   "metadata": {},
   "outputs": [
    {
     "ename": "NameError",
     "evalue": "name 'reload' is not defined",
     "output_type": "error",
     "traceback": [
      "\u001b[0;31m---------------------------------------------------------------------------\u001b[0m",
      "\u001b[0;31mNameError\u001b[0m                                 Traceback (most recent call last)",
      "\u001b[0;32m<ipython-input-6-5510cc0ef35d>\u001b[0m in \u001b[0;36m<module>\u001b[0;34m()\u001b[0m\n\u001b[1;32m      7\u001b[0m \u001b[0;32mimport\u001b[0m \u001b[0msys\u001b[0m\u001b[0;34m\u001b[0m\u001b[0m\n\u001b[1;32m      8\u001b[0m \u001b[0mstdin\u001b[0m\u001b[0;34m,\u001b[0m \u001b[0mstdout\u001b[0m\u001b[0;34m,\u001b[0m \u001b[0mstderr\u001b[0m \u001b[0;34m=\u001b[0m \u001b[0msys\u001b[0m\u001b[0;34m.\u001b[0m\u001b[0mstdin\u001b[0m\u001b[0;34m,\u001b[0m \u001b[0msys\u001b[0m\u001b[0;34m.\u001b[0m\u001b[0mstdout\u001b[0m\u001b[0;34m,\u001b[0m \u001b[0msys\u001b[0m\u001b[0;34m.\u001b[0m\u001b[0mstderr\u001b[0m\u001b[0;34m\u001b[0m\u001b[0m\n\u001b[0;32m----> 9\u001b[0;31m \u001b[0mreload\u001b[0m\u001b[0;34m(\u001b[0m\u001b[0msys\u001b[0m\u001b[0;34m)\u001b[0m\u001b[0;34m\u001b[0m\u001b[0m\n\u001b[0m\u001b[1;32m     10\u001b[0m \u001b[0msys\u001b[0m\u001b[0;34m.\u001b[0m\u001b[0mstdin\u001b[0m\u001b[0;34m,\u001b[0m \u001b[0msys\u001b[0m\u001b[0;34m.\u001b[0m\u001b[0mstdout\u001b[0m\u001b[0;34m,\u001b[0m \u001b[0msys\u001b[0m\u001b[0;34m.\u001b[0m\u001b[0mstderr\u001b[0m \u001b[0;34m=\u001b[0m \u001b[0mstdin\u001b[0m\u001b[0;34m,\u001b[0m \u001b[0mstdout\u001b[0m\u001b[0;34m,\u001b[0m \u001b[0mstderr\u001b[0m\u001b[0;34m\u001b[0m\u001b[0m\n\u001b[1;32m     11\u001b[0m \u001b[0msys\u001b[0m\u001b[0;34m.\u001b[0m\u001b[0msetdefaultencoding\u001b[0m\u001b[0;34m(\u001b[0m\u001b[0;34m'utf8'\u001b[0m\u001b[0;34m)\u001b[0m\u001b[0;34m\u001b[0m\u001b[0m\n",
      "\u001b[0;31mNameError\u001b[0m: name 'reload' is not defined"
     ]
    }
   ],
   "source": [
    "HOST = 'http://localhost:8123'\n",
    "import requests\n",
    "import pandas as pd\n",
    "import io \n",
    "pd.set_option('display.max_colwidth', 1000)\n",
    "\n",
    "import sys\n",
    "stdin, stdout, stderr = sys.stdin, sys.stdout, sys.stderr\n",
    "reload(sys)\n",
    "sys.stdin, sys.stdout, sys.stderr = stdin, stdout, stderr\n",
    "sys.setdefaultencoding('utf8')"
   ]
  },
  {
   "cell_type": "code",
   "execution_count": 5,
   "metadata": {},
   "outputs": [
    {
     "ename": "SyntaxError",
     "evalue": "invalid syntax (<ipython-input-5-37bb0877108c>, line 7)",
     "output_type": "error",
     "traceback": [
      "\u001b[0;36m  File \u001b[0;32m\"<ipython-input-5-37bb0877108c>\"\u001b[0;36m, line \u001b[0;32m7\u001b[0m\n\u001b[0;31m    raise ValueError, r.text\u001b[0m\n\u001b[0m                    ^\u001b[0m\n\u001b[0;31mSyntaxError\u001b[0m\u001b[0;31m:\u001b[0m invalid syntax\n"
     ]
    }
   ],
   "source": [
    "\n",
    "def get_clickhouse_data(query, host = HOST, connection_timeout = 1500):\n",
    "    r = requests.post(host, params = {'query': query}, timeout = connection_timeout)\n",
    "    if r.status_code == 200:\n",
    "        return r.text\n",
    "    else:\n",
    "        raise ValueError, r.text\n",
    "        \n",
    "def get_clickhouse_df(query, host = HOST, connection_timeout = 1500):\n",
    "    data = get_clickhouse_data(query, host, connection_timeout) \n",
    "    df = pd.read_csv(StringIO.StringIO(data), sep = '\\t')\n",
    "    return df\n",
    "\n",
    "def upload(table, content, host=HOST):\n",
    "    content = content.encode('utf-8')\n",
    "    query_dict = {\n",
    "             'query': 'INSERT INTO ' + table + ' FORMAT TabSeparatedWithNames '\n",
    "        }\n",
    "    r = requests.post(host, data=content, params=query_dict)\n",
    "    result = r.text\n",
    "    if r.status_code == 200:\n",
    "        return result\n",
    "    else:\n",
    "        raise ValueError(r.text)"
   ]
  },
  {
   "cell_type": "markdown",
   "metadata": {},
   "source": [
    "### Загружаем данные"
   ]
  },
  {
   "cell_type": "code",
   "execution_count": 2,
   "metadata": {},
   "outputs": [
    {
     "ename": "NameError",
     "evalue": "name 'pd' is not defined",
     "output_type": "error",
     "traceback": [
      "\u001b[0;31m---------------------------------------------------------------------------\u001b[0m",
      "\u001b[0;31mNameError\u001b[0m                                 Traceback (most recent call last)",
      "\u001b[0;32m<ipython-input-2-41e1e8aafd5d>\u001b[0m in \u001b[0;36m<module>\u001b[0;34m()\u001b[0m\n\u001b[0;32m----> 1\u001b[0;31m \u001b[0mdf\u001b[0m \u001b[0;34m=\u001b[0m \u001b[0mpd\u001b[0m\u001b[0;34m.\u001b[0m\u001b[0mread_csv\u001b[0m\u001b[0;34m(\u001b[0m\u001b[0;34m'web_data.csv'\u001b[0m\u001b[0;34m,\u001b[0m \u001b[0msep\u001b[0m \u001b[0;34m=\u001b[0m \u001b[0;34m'\\t'\u001b[0m\u001b[0;34m,\u001b[0m \u001b[0mdtype\u001b[0m \u001b[0;34m=\u001b[0m \u001b[0mstr\u001b[0m\u001b[0;34m)\u001b[0m\u001b[0;34m\u001b[0m\u001b[0m\n\u001b[0m\u001b[1;32m      2\u001b[0m \u001b[0mdf\u001b[0m\u001b[0;34m.\u001b[0m\u001b[0mhead\u001b[0m\u001b[0;34m(\u001b[0m\u001b[0;34m)\u001b[0m\u001b[0;34m\u001b[0m\u001b[0m\n",
      "\u001b[0;31mNameError\u001b[0m: name 'pd' is not defined"
     ]
    }
   ],
   "source": [
    "df = pd.read_csv('web_data.csv', sep = '\\t', dtype = str)\n",
    "df.head()"
   ]
  },
  {
   "cell_type": "code",
   "execution_count": 3,
   "metadata": {},
   "outputs": [
    {
     "data": {
      "text/plain": [
       "(6369907, 7)"
      ]
     },
     "execution_count": 3,
     "metadata": {},
     "output_type": "execute_result"
    }
   ],
   "source": [
    "df.shape"
   ]
  },
  {
   "cell_type": "code",
   "execution_count": 6,
   "metadata": {},
   "outputs": [
    {
     "data": {
      "text/plain": [
       "u''"
      ]
     },
     "execution_count": 6,
     "metadata": {},
     "output_type": "execute_result"
    }
   ],
   "source": [
    "q = 'drop table if exists visits'\n",
    "get_clickhouse_data(q)\n",
    "\n",
    "q = '''\n",
    "create table visits (\n",
    "    ClientID UInt64,\n",
    "    EventTime DateTime,\n",
    "    EventDate Date,\n",
    "    Browser String,\n",
    "    DeviceCategory String,\n",
    "    TraficSource String,\n",
    "    URL String\n",
    ") ENGINE = MergeTree(EventDate, intHash32(ClientID), (EventDate, intHash32(ClientID)), 8192)\n",
    "'''\n",
    "\n",
    "get_clickhouse_data(q)"
   ]
  },
  {
   "cell_type": "code",
   "execution_count": 7,
   "metadata": {},
   "outputs": [
    {
     "name": "stdout",
     "output_type": "stream",
     "text": [
      "CPU times: user 29.4 s, sys: 6.2 s, total: 35.6 s\n",
      "Wall time: 52.3 s\n"
     ]
    },
    {
     "data": {
      "text/plain": [
       "u''"
      ]
     },
     "execution_count": 7,
     "metadata": {},
     "output_type": "execute_result"
    }
   ],
   "source": [
    "%%time\n",
    "upload(\n",
    "    'visits',\n",
    "    df[['ClientID', 'EventTime', 'EventDate', 'Browser', 'DeviceCategory', 'TraficSource', 'URL']]\\\n",
    "    .to_csv(index = False, sep = '\\t'))"
   ]
  },
  {
   "cell_type": "markdown",
   "metadata": {},
   "source": [
    "### Разминка: простые запросы"
   ]
  },
  {
   "cell_type": "code",
   "execution_count": 11,
   "metadata": {},
   "outputs": [
    {
     "data": {
      "text/html": [
       "<div>\n",
       "<style scoped>\n",
       "    .dataframe tbody tr th:only-of-type {\n",
       "        vertical-align: middle;\n",
       "    }\n",
       "\n",
       "    .dataframe tbody tr th {\n",
       "        vertical-align: top;\n",
       "    }\n",
       "\n",
       "    .dataframe thead th {\n",
       "        text-align: right;\n",
       "    }\n",
       "</style>\n",
       "<table border=\"1\" class=\"dataframe\">\n",
       "  <thead>\n",
       "    <tr style=\"text-align: right;\">\n",
       "      <th></th>\n",
       "      <th>URL</th>\n",
       "      <th>users</th>\n",
       "      <th>hits</th>\n",
       "    </tr>\n",
       "  </thead>\n",
       "  <tbody>\n",
       "    <tr>\n",
       "      <th>0</th>\n",
       "      <td>supermarket.ru/product</td>\n",
       "      <td>723755</td>\n",
       "      <td>2261197</td>\n",
       "    </tr>\n",
       "    <tr>\n",
       "      <th>1</th>\n",
       "      <td>supermarket.ru/catalog</td>\n",
       "      <td>537645</td>\n",
       "      <td>1964040</td>\n",
       "    </tr>\n",
       "    <tr>\n",
       "      <th>2</th>\n",
       "      <td>supermarket.ru/main</td>\n",
       "      <td>455987</td>\n",
       "      <td>866494</td>\n",
       "    </tr>\n",
       "    <tr>\n",
       "      <th>3</th>\n",
       "      <td>supermarket.ru/promo</td>\n",
       "      <td>175554</td>\n",
       "      <td>326333</td>\n",
       "    </tr>\n",
       "    <tr>\n",
       "      <th>4</th>\n",
       "      <td>supermarket.ru/search</td>\n",
       "      <td>161922</td>\n",
       "      <td>412294</td>\n",
       "    </tr>\n",
       "    <tr>\n",
       "      <th>5</th>\n",
       "      <td>supermarket.ru/promo_action_1</td>\n",
       "      <td>45337</td>\n",
       "      <td>65111</td>\n",
       "    </tr>\n",
       "    <tr>\n",
       "      <th>6</th>\n",
       "      <td>supermarket.ru/shops</td>\n",
       "      <td>45005</td>\n",
       "      <td>81199</td>\n",
       "    </tr>\n",
       "    <tr>\n",
       "      <th>7</th>\n",
       "      <td>supermarket.ru/blog</td>\n",
       "      <td>34857</td>\n",
       "      <td>49515</td>\n",
       "    </tr>\n",
       "    <tr>\n",
       "      <th>8</th>\n",
       "      <td>supermarket.ru/cards</td>\n",
       "      <td>25138</td>\n",
       "      <td>94732</td>\n",
       "    </tr>\n",
       "    <tr>\n",
       "      <th>9</th>\n",
       "      <td>supermarket.ru/basket</td>\n",
       "      <td>23118</td>\n",
       "      <td>86181</td>\n",
       "    </tr>\n",
       "    <tr>\n",
       "      <th>10</th>\n",
       "      <td>supermarket.ru/user_profile</td>\n",
       "      <td>19664</td>\n",
       "      <td>75085</td>\n",
       "    </tr>\n",
       "    <tr>\n",
       "      <th>11</th>\n",
       "      <td>supermarket.ru/compare</td>\n",
       "      <td>10879</td>\n",
       "      <td>28456</td>\n",
       "    </tr>\n",
       "    <tr>\n",
       "      <th>12</th>\n",
       "      <td>supermarket.ru/finish_order</td>\n",
       "      <td>6286</td>\n",
       "      <td>8984</td>\n",
       "    </tr>\n",
       "    <tr>\n",
       "      <th>13</th>\n",
       "      <td>supermarket.ru/brands</td>\n",
       "      <td>4870</td>\n",
       "      <td>16213</td>\n",
       "    </tr>\n",
       "    <tr>\n",
       "      <th>14</th>\n",
       "      <td>supermarket.ru/promo_action_1_rules</td>\n",
       "      <td>4719</td>\n",
       "      <td>5741</td>\n",
       "    </tr>\n",
       "    <tr>\n",
       "      <th>15</th>\n",
       "      <td>supermarket.ru/info</td>\n",
       "      <td>3809</td>\n",
       "      <td>5169</td>\n",
       "    </tr>\n",
       "    <tr>\n",
       "      <th>16</th>\n",
       "      <td>supermarket.ru/promo_action_2</td>\n",
       "      <td>3551</td>\n",
       "      <td>4407</td>\n",
       "    </tr>\n",
       "    <tr>\n",
       "      <th>17</th>\n",
       "      <td>supermarket.ru/finish_reserve</td>\n",
       "      <td>2676</td>\n",
       "      <td>3698</td>\n",
       "    </tr>\n",
       "    <tr>\n",
       "      <th>18</th>\n",
       "      <td>supermarket.ru/favorites</td>\n",
       "      <td>2541</td>\n",
       "      <td>6025</td>\n",
       "    </tr>\n",
       "    <tr>\n",
       "      <th>19</th>\n",
       "      <td>supermarket.ru/feedback</td>\n",
       "      <td>2437</td>\n",
       "      <td>3567</td>\n",
       "    </tr>\n",
       "    <tr>\n",
       "      <th>20</th>\n",
       "      <td>supermarket.ru/football_promo</td>\n",
       "      <td>1214</td>\n",
       "      <td>2713</td>\n",
       "    </tr>\n",
       "    <tr>\n",
       "      <th>21</th>\n",
       "      <td>supermarket.ru/gift-cards</td>\n",
       "      <td>1044</td>\n",
       "      <td>1533</td>\n",
       "    </tr>\n",
       "    <tr>\n",
       "      <th>22</th>\n",
       "      <td>supermarket.ru/recent</td>\n",
       "      <td>469</td>\n",
       "      <td>598</td>\n",
       "    </tr>\n",
       "    <tr>\n",
       "      <th>23</th>\n",
       "      <td>supermarket.ru/preoder_iphone</td>\n",
       "      <td>393</td>\n",
       "      <td>473</td>\n",
       "    </tr>\n",
       "    <tr>\n",
       "      <th>24</th>\n",
       "      <td>supermarket.ru/promo_action_3</td>\n",
       "      <td>90</td>\n",
       "      <td>149</td>\n",
       "    </tr>\n",
       "  </tbody>\n",
       "</table>\n",
       "</div>"
      ],
      "text/plain": [
       "                                    URL   users     hits\n",
       "0                supermarket.ru/product  723755  2261197\n",
       "1                supermarket.ru/catalog  537645  1964040\n",
       "2                   supermarket.ru/main  455987   866494\n",
       "3                  supermarket.ru/promo  175554   326333\n",
       "4                 supermarket.ru/search  161922   412294\n",
       "5         supermarket.ru/promo_action_1   45337    65111\n",
       "6                  supermarket.ru/shops   45005    81199\n",
       "7                   supermarket.ru/blog   34857    49515\n",
       "8                  supermarket.ru/cards   25138    94732\n",
       "9                 supermarket.ru/basket   23118    86181\n",
       "10          supermarket.ru/user_profile   19664    75085\n",
       "11               supermarket.ru/compare   10879    28456\n",
       "12          supermarket.ru/finish_order    6286     8984\n",
       "13                supermarket.ru/brands    4870    16213\n",
       "14  supermarket.ru/promo_action_1_rules    4719     5741\n",
       "15                  supermarket.ru/info    3809     5169\n",
       "16        supermarket.ru/promo_action_2    3551     4407\n",
       "17        supermarket.ru/finish_reserve    2676     3698\n",
       "18             supermarket.ru/favorites    2541     6025\n",
       "19              supermarket.ru/feedback    2437     3567\n",
       "20        supermarket.ru/football_promo    1214     2713\n",
       "21            supermarket.ru/gift-cards    1044     1533\n",
       "22                supermarket.ru/recent     469      598\n",
       "23        supermarket.ru/preoder_iphone     393      473\n",
       "24        supermarket.ru/promo_action_3      90      149"
      ]
     },
     "execution_count": 11,
     "metadata": {},
     "output_type": "execute_result"
    }
   ],
   "source": [
    "q = '''\n",
    "SELECT\n",
    "    URL,\n",
    "    uniq(ClientID) as users,\n",
    "    count() as hits\n",
    "FROM visits\n",
    "GROUP BY URL\n",
    "ORDER BY users DESC\n",
    "FORMAT TabSeparatedWithNames\n",
    "'''\n",
    "\n",
    "get_clickhouse_df(q)"
   ]
  },
  {
   "cell_type": "code",
   "execution_count": 12,
   "metadata": {},
   "outputs": [
    {
     "data": {
      "text/html": [
       "<div>\n",
       "<style scoped>\n",
       "    .dataframe tbody tr th:only-of-type {\n",
       "        vertical-align: middle;\n",
       "    }\n",
       "\n",
       "    .dataframe tbody tr th {\n",
       "        vertical-align: top;\n",
       "    }\n",
       "\n",
       "    .dataframe thead th {\n",
       "        text-align: right;\n",
       "    }\n",
       "</style>\n",
       "<table border=\"1\" class=\"dataframe\">\n",
       "  <thead>\n",
       "    <tr style=\"text-align: right;\">\n",
       "      <th></th>\n",
       "      <th>ClientID</th>\n",
       "      <th>path</th>\n",
       "      <th>path_lim</th>\n",
       "    </tr>\n",
       "  </thead>\n",
       "  <tbody>\n",
       "    <tr>\n",
       "      <th>0</th>\n",
       "      <td>1464279176664798753</td>\n",
       "      <td>['supermarket.ru/main','supermarket.ru/catalog','supermarket.ru/product','supermarket.ru/finish_reserve','supermarket.ru/catalog','supermarket.ru/product','supermarket.ru/product','supermarket.ru/product']</td>\n",
       "      <td>['supermarket.ru/main','supermarket.ru/catalog','supermarket.ru/product','supermarket.ru/finish_reserve','supermarket.ru/catalog']</td>\n",
       "    </tr>\n",
       "    <tr>\n",
       "      <th>1</th>\n",
       "      <td>146446839869868089</td>\n",
       "      <td>['supermarket.ru/catalog','supermarket.ru/catalog','supermarket.ru/product','supermarket.ru/catalog']</td>\n",
       "      <td>['supermarket.ru/catalog','supermarket.ru/catalog','supermarket.ru/product','supermarket.ru/catalog']</td>\n",
       "    </tr>\n",
       "    <tr>\n",
       "      <th>2</th>\n",
       "      <td>1469184715541189697</td>\n",
       "      <td>['supermarket.ru/main','supermarket.ru/main','supermarket.ru/promo_action_1','supermarket.ru/main','supermarket.ru/search','supermarket.ru/product','supermarket.ru/product']</td>\n",
       "      <td>['supermarket.ru/main','supermarket.ru/main','supermarket.ru/promo_action_1','supermarket.ru/main','supermarket.ru/search']</td>\n",
       "    </tr>\n",
       "    <tr>\n",
       "      <th>3</th>\n",
       "      <td>1468981110571788812</td>\n",
       "      <td>['supermarket.ru/catalog']</td>\n",
       "      <td>['supermarket.ru/catalog']</td>\n",
       "    </tr>\n",
       "    <tr>\n",
       "      <th>4</th>\n",
       "      <td>1469025223567819473</td>\n",
       "      <td>['supermarket.ru/main','supermarket.ru/search','supermarket.ru/product','supermarket.ru/search','supermarket.ru/product','supermarket.ru/product','supermarket.ru/product','supermarket.ru/product','supermarket.ru/product','supermarket.ru/product','supermarket.ru/promo','supermarket.ru/search','supermarket.ru/product','supermarket.ru/catalog','supermarket.ru/catalog','supermarket.ru/product']</td>\n",
       "      <td>['supermarket.ru/main','supermarket.ru/search','supermarket.ru/product','supermarket.ru/search','supermarket.ru/product']</td>\n",
       "    </tr>\n",
       "    <tr>\n",
       "      <th>5</th>\n",
       "      <td>1468853245481263835</td>\n",
       "      <td>['supermarket.ru/catalog','supermarket.ru/product','supermarket.ru/catalog','supermarket.ru/product']</td>\n",
       "      <td>['supermarket.ru/catalog','supermarket.ru/product','supermarket.ru/catalog','supermarket.ru/product']</td>\n",
       "    </tr>\n",
       "    <tr>\n",
       "      <th>6</th>\n",
       "      <td>14677017851011543978</td>\n",
       "      <td>['supermarket.ru/product']</td>\n",
       "      <td>['supermarket.ru/product']</td>\n",
       "    </tr>\n",
       "    <tr>\n",
       "      <th>7</th>\n",
       "      <td>1461304408893575765</td>\n",
       "      <td>['supermarket.ru/main','supermarket.ru/catalog','supermarket.ru/product','supermarket.ru/catalog','supermarket.ru/product','supermarket.ru/catalog','supermarket.ru/catalog','supermarket.ru/catalog']</td>\n",
       "      <td>['supermarket.ru/main','supermarket.ru/catalog','supermarket.ru/product','supermarket.ru/catalog','supermarket.ru/product']</td>\n",
       "    </tr>\n",
       "    <tr>\n",
       "      <th>8</th>\n",
       "      <td>1469010509738994548</td>\n",
       "      <td>['supermarket.ru/main','supermarket.ru/catalog','supermarket.ru/catalog','supermarket.ru/catalog','supermarket.ru/product','supermarket.ru/product']</td>\n",
       "      <td>['supermarket.ru/main','supermarket.ru/catalog','supermarket.ru/catalog','supermarket.ru/catalog','supermarket.ru/product']</td>\n",
       "    </tr>\n",
       "    <tr>\n",
       "      <th>9</th>\n",
       "      <td>1469770190831702596</td>\n",
       "      <td>['supermarket.ru/main','supermarket.ru/catalog','supermarket.ru/catalog','supermarket.ru/product','supermarket.ru/catalog','supermarket.ru/product','supermarket.ru/catalog','supermarket.ru/product','supermarket.ru/product','supermarket.ru/product','supermarket.ru/product','supermarket.ru/catalog','supermarket.ru/product','supermarket.ru/catalog','supermarket.ru/catalog','supermarket.ru/product','supermarket.ru/catalog','supermarket.ru/product','supermarket.ru/catalog','supermarket.ru/product','supermarket.ru/product','supermarket.ru/catalog']</td>\n",
       "      <td>['supermarket.ru/main','supermarket.ru/catalog','supermarket.ru/catalog','supermarket.ru/product','supermarket.ru/catalog']</td>\n",
       "    </tr>\n",
       "  </tbody>\n",
       "</table>\n",
       "</div>"
      ],
      "text/plain": [
       "               ClientID  \\\n",
       "0   1464279176664798753   \n",
       "1    146446839869868089   \n",
       "2   1469184715541189697   \n",
       "3   1468981110571788812   \n",
       "4   1469025223567819473   \n",
       "5   1468853245481263835   \n",
       "6  14677017851011543978   \n",
       "7   1461304408893575765   \n",
       "8   1469010509738994548   \n",
       "9   1469770190831702596   \n",
       "\n",
       "                                                                                                                                                                                                                                                                                                                                                                                                                                                                                                                                                                   path  \\\n",
       "0                                                                                                                                                                                                                                                                                                                                                         ['supermarket.ru/main','supermarket.ru/catalog','supermarket.ru/product','supermarket.ru/finish_reserve','supermarket.ru/catalog','supermarket.ru/product','supermarket.ru/product','supermarket.ru/product']   \n",
       "1                                                                                                                                                                                                                                                                                                                                                                                                                                                                 ['supermarket.ru/catalog','supermarket.ru/catalog','supermarket.ru/product','supermarket.ru/catalog']   \n",
       "2                                                                                                                                                                                                                                                                                                                                                                                         ['supermarket.ru/main','supermarket.ru/main','supermarket.ru/promo_action_1','supermarket.ru/main','supermarket.ru/search','supermarket.ru/product','supermarket.ru/product']   \n",
       "3                                                                                                                                                                                                                                                                                                                                                                                                                                                                                                                                            ['supermarket.ru/catalog']   \n",
       "4                                                                                                                                                             ['supermarket.ru/main','supermarket.ru/search','supermarket.ru/product','supermarket.ru/search','supermarket.ru/product','supermarket.ru/product','supermarket.ru/product','supermarket.ru/product','supermarket.ru/product','supermarket.ru/product','supermarket.ru/promo','supermarket.ru/search','supermarket.ru/product','supermarket.ru/catalog','supermarket.ru/catalog','supermarket.ru/product']   \n",
       "5                                                                                                                                                                                                                                                                                                                                                                                                                                                                 ['supermarket.ru/catalog','supermarket.ru/product','supermarket.ru/catalog','supermarket.ru/product']   \n",
       "6                                                                                                                                                                                                                                                                                                                                                                                                                                                                                                                                            ['supermarket.ru/product']   \n",
       "7                                                                                                                                                                                                                                                                                                                                                                ['supermarket.ru/main','supermarket.ru/catalog','supermarket.ru/product','supermarket.ru/catalog','supermarket.ru/product','supermarket.ru/catalog','supermarket.ru/catalog','supermarket.ru/catalog']   \n",
       "8                                                                                                                                                                                                                                                                                                                                                                                                                  ['supermarket.ru/main','supermarket.ru/catalog','supermarket.ru/catalog','supermarket.ru/catalog','supermarket.ru/product','supermarket.ru/product']   \n",
       "9  ['supermarket.ru/main','supermarket.ru/catalog','supermarket.ru/catalog','supermarket.ru/product','supermarket.ru/catalog','supermarket.ru/product','supermarket.ru/catalog','supermarket.ru/product','supermarket.ru/product','supermarket.ru/product','supermarket.ru/product','supermarket.ru/catalog','supermarket.ru/product','supermarket.ru/catalog','supermarket.ru/catalog','supermarket.ru/product','supermarket.ru/catalog','supermarket.ru/product','supermarket.ru/catalog','supermarket.ru/product','supermarket.ru/product','supermarket.ru/catalog']   \n",
       "\n",
       "                                                                                                                             path_lim  \n",
       "0  ['supermarket.ru/main','supermarket.ru/catalog','supermarket.ru/product','supermarket.ru/finish_reserve','supermarket.ru/catalog']  \n",
       "1                               ['supermarket.ru/catalog','supermarket.ru/catalog','supermarket.ru/product','supermarket.ru/catalog']  \n",
       "2         ['supermarket.ru/main','supermarket.ru/main','supermarket.ru/promo_action_1','supermarket.ru/main','supermarket.ru/search']  \n",
       "3                                                                                                          ['supermarket.ru/catalog']  \n",
       "4           ['supermarket.ru/main','supermarket.ru/search','supermarket.ru/product','supermarket.ru/search','supermarket.ru/product']  \n",
       "5                               ['supermarket.ru/catalog','supermarket.ru/product','supermarket.ru/catalog','supermarket.ru/product']  \n",
       "6                                                                                                          ['supermarket.ru/product']  \n",
       "7         ['supermarket.ru/main','supermarket.ru/catalog','supermarket.ru/product','supermarket.ru/catalog','supermarket.ru/product']  \n",
       "8         ['supermarket.ru/main','supermarket.ru/catalog','supermarket.ru/catalog','supermarket.ru/catalog','supermarket.ru/product']  \n",
       "9         ['supermarket.ru/main','supermarket.ru/catalog','supermarket.ru/catalog','supermarket.ru/product','supermarket.ru/catalog']  "
      ]
     },
     "execution_count": 12,
     "metadata": {},
     "output_type": "execute_result"
    }
   ],
   "source": [
    "q = '''\n",
    "SELECT\n",
    "    ClientID,\n",
    "    groupArray(URL) as path,\n",
    "    arraySlice(groupArray(URL), 1, 5) as path_lim\n",
    "FROM\n",
    "    (SELECT * FROM visits ORDER BY ClientID, EventTime)\n",
    "GROUP BY ClientID\n",
    "LIMIT 10\n",
    "FORMAT TabSeparatedWithNames\n",
    "'''\n",
    "\n",
    "get_clickhouse_df(q)"
   ]
  },
  {
   "cell_type": "code",
   "execution_count": 13,
   "metadata": {},
   "outputs": [
    {
     "data": {
      "text/html": [
       "<div>\n",
       "<style scoped>\n",
       "    .dataframe tbody tr th:only-of-type {\n",
       "        vertical-align: middle;\n",
       "    }\n",
       "\n",
       "    .dataframe tbody tr th {\n",
       "        vertical-align: top;\n",
       "    }\n",
       "\n",
       "    .dataframe thead th {\n",
       "        text-align: right;\n",
       "    }\n",
       "</style>\n",
       "<table border=\"1\" class=\"dataframe\">\n",
       "  <thead>\n",
       "    <tr style=\"text-align: right;\">\n",
       "      <th></th>\n",
       "      <th>path_lim</th>\n",
       "      <th>users</th>\n",
       "    </tr>\n",
       "  </thead>\n",
       "  <tbody>\n",
       "    <tr>\n",
       "      <th>0</th>\n",
       "      <td>['supermarket.ru/product']</td>\n",
       "      <td>239251</td>\n",
       "    </tr>\n",
       "    <tr>\n",
       "      <th>1</th>\n",
       "      <td>['supermarket.ru/catalog']</td>\n",
       "      <td>89892</td>\n",
       "    </tr>\n",
       "    <tr>\n",
       "      <th>2</th>\n",
       "      <td>['supermarket.ru/promo']</td>\n",
       "      <td>49317</td>\n",
       "    </tr>\n",
       "    <tr>\n",
       "      <th>3</th>\n",
       "      <td>['supermarket.ru/product','supermarket.ru/product']</td>\n",
       "      <td>47269</td>\n",
       "    </tr>\n",
       "    <tr>\n",
       "      <th>4</th>\n",
       "      <td>['supermarket.ru/main']</td>\n",
       "      <td>30156</td>\n",
       "    </tr>\n",
       "    <tr>\n",
       "      <th>5</th>\n",
       "      <td>['supermarket.ru/main','supermarket.ru/catalog']</td>\n",
       "      <td>20251</td>\n",
       "    </tr>\n",
       "    <tr>\n",
       "      <th>6</th>\n",
       "      <td>['supermarket.ru/catalog','supermarket.ru/catalog']</td>\n",
       "      <td>19953</td>\n",
       "    </tr>\n",
       "    <tr>\n",
       "      <th>7</th>\n",
       "      <td>['supermarket.ru/product','supermarket.ru/product','supermarket.ru/product']</td>\n",
       "      <td>15781</td>\n",
       "    </tr>\n",
       "    <tr>\n",
       "      <th>8</th>\n",
       "      <td>['supermarket.ru/main','supermarket.ru/search']</td>\n",
       "      <td>14456</td>\n",
       "    </tr>\n",
       "    <tr>\n",
       "      <th>9</th>\n",
       "      <td>['supermarket.ru/main','supermarket.ru/catalog','supermarket.ru/product','supermarket.ru/catalog','supermarket.ru/product']</td>\n",
       "      <td>13691</td>\n",
       "    </tr>\n",
       "  </tbody>\n",
       "</table>\n",
       "</div>"
      ],
      "text/plain": [
       "                                                                                                                      path_lim  \\\n",
       "0                                                                                                   ['supermarket.ru/product']   \n",
       "1                                                                                                   ['supermarket.ru/catalog']   \n",
       "2                                                                                                     ['supermarket.ru/promo']   \n",
       "3                                                                          ['supermarket.ru/product','supermarket.ru/product']   \n",
       "4                                                                                                      ['supermarket.ru/main']   \n",
       "5                                                                             ['supermarket.ru/main','supermarket.ru/catalog']   \n",
       "6                                                                          ['supermarket.ru/catalog','supermarket.ru/catalog']   \n",
       "7                                                 ['supermarket.ru/product','supermarket.ru/product','supermarket.ru/product']   \n",
       "8                                                                              ['supermarket.ru/main','supermarket.ru/search']   \n",
       "9  ['supermarket.ru/main','supermarket.ru/catalog','supermarket.ru/product','supermarket.ru/catalog','supermarket.ru/product']   \n",
       "\n",
       "    users  \n",
       "0  239251  \n",
       "1   89892  \n",
       "2   49317  \n",
       "3   47269  \n",
       "4   30156  \n",
       "5   20251  \n",
       "6   19953  \n",
       "7   15781  \n",
       "8   14456  \n",
       "9   13691  "
      ]
     },
     "execution_count": 13,
     "metadata": {},
     "output_type": "execute_result"
    }
   ],
   "source": [
    "q = '''\n",
    "SELECT\n",
    "    path_lim,\n",
    "    count() as users\n",
    "FROM\n",
    "    (SELECT\n",
    "        ClientID,\n",
    "        arraySlice(groupArray(URL), 1, 5) as path_lim\n",
    "    FROM\n",
    "        (SELECT * FROM visits ORDER BY ClientID, EventTime)\n",
    "    GROUP BY ClientID)\n",
    "GROUP BY path_lim\n",
    "ORDER BY users desc\n",
    "LIMIT 10\n",
    "FORMAT TabSeparatedWithNames\n",
    "'''\n",
    "\n",
    "get_clickhouse_df(q)"
   ]
  },
  {
   "cell_type": "markdown",
   "metadata": {},
   "source": [
    "## Расчет funnels"
   ]
  },
  {
   "cell_type": "markdown",
   "metadata": {},
   "source": [
    "#### Подход в лоб"
   ]
  },
  {
   "cell_type": "code",
   "execution_count": 14,
   "metadata": {},
   "outputs": [
    {
     "data": {
      "text/html": [
       "<div>\n",
       "<style scoped>\n",
       "    .dataframe tbody tr th:only-of-type {\n",
       "        vertical-align: middle;\n",
       "    }\n",
       "\n",
       "    .dataframe tbody tr th {\n",
       "        vertical-align: top;\n",
       "    }\n",
       "\n",
       "    .dataframe thead th {\n",
       "        text-align: right;\n",
       "    }\n",
       "</style>\n",
       "<table border=\"1\" class=\"dataframe\">\n",
       "  <thead>\n",
       "    <tr style=\"text-align: right;\">\n",
       "      <th></th>\n",
       "      <th>ClientID</th>\n",
       "      <th>step1_achieved</th>\n",
       "      <th>step2_achieved</th>\n",
       "      <th>step3_achieved</th>\n",
       "    </tr>\n",
       "  </thead>\n",
       "  <tbody>\n",
       "    <tr>\n",
       "      <th>0</th>\n",
       "      <td>1469465276765527839</td>\n",
       "      <td>0</td>\n",
       "      <td>0</td>\n",
       "      <td>0</td>\n",
       "    </tr>\n",
       "    <tr>\n",
       "      <th>1</th>\n",
       "      <td>146830716081902312</td>\n",
       "      <td>0</td>\n",
       "      <td>0</td>\n",
       "      <td>0</td>\n",
       "    </tr>\n",
       "    <tr>\n",
       "      <th>2</th>\n",
       "      <td>146902420610673921</td>\n",
       "      <td>0</td>\n",
       "      <td>0</td>\n",
       "      <td>0</td>\n",
       "    </tr>\n",
       "    <tr>\n",
       "      <th>3</th>\n",
       "      <td>1469978444925864701</td>\n",
       "      <td>0</td>\n",
       "      <td>0</td>\n",
       "      <td>0</td>\n",
       "    </tr>\n",
       "    <tr>\n",
       "      <th>4</th>\n",
       "      <td>1469193894524341385</td>\n",
       "      <td>1</td>\n",
       "      <td>0</td>\n",
       "      <td>0</td>\n",
       "    </tr>\n",
       "    <tr>\n",
       "      <th>5</th>\n",
       "      <td>146784048029663783</td>\n",
       "      <td>0</td>\n",
       "      <td>0</td>\n",
       "      <td>0</td>\n",
       "    </tr>\n",
       "    <tr>\n",
       "      <th>6</th>\n",
       "      <td>1468438934442042316</td>\n",
       "      <td>1</td>\n",
       "      <td>1</td>\n",
       "      <td>0</td>\n",
       "    </tr>\n",
       "    <tr>\n",
       "      <th>7</th>\n",
       "      <td>1469191895881108706</td>\n",
       "      <td>0</td>\n",
       "      <td>0</td>\n",
       "      <td>0</td>\n",
       "    </tr>\n",
       "    <tr>\n",
       "      <th>8</th>\n",
       "      <td>1469346109660689512</td>\n",
       "      <td>0</td>\n",
       "      <td>0</td>\n",
       "      <td>0</td>\n",
       "    </tr>\n",
       "    <tr>\n",
       "      <th>9</th>\n",
       "      <td>1460911046620105027</td>\n",
       "      <td>0</td>\n",
       "      <td>0</td>\n",
       "      <td>0</td>\n",
       "    </tr>\n",
       "  </tbody>\n",
       "</table>\n",
       "</div>"
      ],
      "text/plain": [
       "              ClientID  step1_achieved  step2_achieved  step3_achieved\n",
       "0  1469465276765527839               0               0               0\n",
       "1   146830716081902312               0               0               0\n",
       "2   146902420610673921               0               0               0\n",
       "3  1469978444925864701               0               0               0\n",
       "4  1469193894524341385               1               0               0\n",
       "5   146784048029663783               0               0               0\n",
       "6  1468438934442042316               1               1               0\n",
       "7  1469191895881108706               0               0               0\n",
       "8  1469346109660689512               0               0               0\n",
       "9  1460911046620105027               0               0               0"
      ]
     },
     "execution_count": 14,
     "metadata": {},
     "output_type": "execute_result"
    }
   ],
   "source": [
    "q = '''\n",
    "SELECT\n",
    "    ClientID,\n",
    "    max(URL = 'supermarket.ru/main') as step1_achieved,\n",
    "    sequenceMatch('(?1).*(?2)')(EventTime, URL = 'supermarket.ru/main', \n",
    "      URL = 'supermarket.ru/catalog') as step2_achieved,\n",
    "    sequenceMatch('(?1).*(?2).*(?3)')(EventTime, URL = 'supermarket.ru/main', \n",
    "      URL = 'supermarket.ru/catalog', URL = 'supermarket.ru/product') as step3_achieved\n",
    "FROM visits\n",
    "GROUP BY ClientID\n",
    "LIMIT 10\n",
    "FORMAT TabSeparatedWithNames\n",
    "'''\n",
    "\n",
    "get_clickhouse_df(q)"
   ]
  },
  {
   "cell_type": "code",
   "execution_count": 15,
   "metadata": {
    "collapsed": true
   },
   "outputs": [],
   "source": [
    "q = '''\n",
    "SELECT\n",
    "    sum(step1_achieved) as step1,\n",
    "    sum(step2_achieved) as step2,\n",
    "    sum(step3_achieved) as step3\n",
    "    --round(100.*step2/step1, 2) as step2_to_1,\n",
    "    --round(100.*step3/step1, 2) as step3_to_1\n",
    "FROM\n",
    "    (SELECT\n",
    "        ClientID,\n",
    "        max(URL = 'supermarket.ru/main') as step1_achieved,\n",
    "        sequenceMatch('(?1).*(?2)')(EventTime, URL = 'supermarket.ru/main', \n",
    "          URL = 'supermarket.ru/catalog') as step2_achieved,\n",
    "        sequenceMatch('(?1).*(?2).*(?3)')(EventTime, URL = 'supermarket.ru/main', \n",
    "          URL = 'supermarket.ru/catalog', URL = 'supermarket.ru/product') as step3_achieved\n",
    "    FROM visits\n",
    "    GROUP BY ClientID)\n",
    "FORMAT TabSeparatedWithNames\n",
    "'''\n",
    "\n",
    "fdf = get_clickhouse_df(q)"
   ]
  },
  {
   "cell_type": "code",
   "execution_count": 16,
   "metadata": {},
   "outputs": [
    {
     "data": {
      "text/html": [
       "<div>\n",
       "<style scoped>\n",
       "    .dataframe tbody tr th:only-of-type {\n",
       "        vertical-align: middle;\n",
       "    }\n",
       "\n",
       "    .dataframe tbody tr th {\n",
       "        vertical-align: top;\n",
       "    }\n",
       "\n",
       "    .dataframe thead th {\n",
       "        text-align: right;\n",
       "    }\n",
       "</style>\n",
       "<table border=\"1\" class=\"dataframe\">\n",
       "  <thead>\n",
       "    <tr style=\"text-align: right;\">\n",
       "      <th></th>\n",
       "      <th>step1</th>\n",
       "      <th>step2</th>\n",
       "      <th>step3</th>\n",
       "    </tr>\n",
       "  </thead>\n",
       "  <tbody>\n",
       "    <tr>\n",
       "      <th>0</th>\n",
       "      <td>452714</td>\n",
       "      <td>285886</td>\n",
       "      <td>193191</td>\n",
       "    </tr>\n",
       "  </tbody>\n",
       "</table>\n",
       "</div>"
      ],
      "text/plain": [
       "    step1   step2   step3\n",
       "0  452714  285886  193191"
      ]
     },
     "execution_count": 16,
     "metadata": {},
     "output_type": "execute_result"
    }
   ],
   "source": [
    "fdf"
   ]
  },
  {
   "cell_type": "markdown",
   "metadata": {},
   "source": [
    "Визуализируем"
   ]
  },
  {
   "cell_type": "code",
   "execution_count": 17,
   "metadata": {},
   "outputs": [
    {
     "data": {
      "text/html": [
       "<script>requirejs.config({paths: { 'plotly': ['https://cdn.plot.ly/plotly-latest.min']},});if(!window.Plotly) {{require(['plotly'],function(plotly) {window.Plotly=plotly;});}}</script>"
      ],
      "text/vnd.plotly.v1+html": [
       "<script>requirejs.config({paths: { 'plotly': ['https://cdn.plot.ly/plotly-latest.min']},});if(!window.Plotly) {{require(['plotly'],function(plotly) {window.Plotly=plotly;});}}</script>"
      ]
     },
     "metadata": {},
     "output_type": "display_data"
    }
   ],
   "source": [
    "from plotly.offline import init_notebook_mode, iplot\n",
    "import plotly\n",
    "import plotly.graph_objs as go\n",
    "\n",
    "init_notebook_mode(connected=True)"
   ]
  },
  {
   "cell_type": "code",
   "execution_count": 18,
   "metadata": {
    "collapsed": true
   },
   "outputs": [],
   "source": [
    "colors = colors = ['#d54936', '#faca34', '#437cba', '#8bc34a', '#795548', '#309688', '#000000', '#40bcd4', '#9e9e9e', '#3ca9f4']\n",
    "phases = ['Step %d' % i for i in range(1, 4)]\n",
    "values = fdf.iloc[0].values"
   ]
  },
  {
   "cell_type": "code",
   "execution_count": 19,
   "metadata": {
    "collapsed": true
   },
   "outputs": [],
   "source": [
    "def plot_funnel(phases, values):\n",
    "    n_phase = len(phases)\n",
    "    plot_width = 500.\n",
    "\n",
    "    # height of a section and difference between sections \n",
    "    section_h = 100\n",
    "    section_d = 10\n",
    "\n",
    "    # multiplication factor to calculate the width of other sections\n",
    "    unit_width = plot_width / max(values)\n",
    "\n",
    "    # width of each funnel section relative to the plot width\n",
    "    phase_w = [int(value * unit_width) for value in values]\n",
    "    print phase_w\n",
    "\n",
    "    # plot height based on the number of sections and the gap in between them\n",
    "    height = section_h * n_phase + section_d * (n_phase - 1)\n",
    "    \n",
    "    # list containing all the plot shapes\n",
    "    shapes = []\n",
    "\n",
    "    # list containing the Y-axis location for each section's name and value text\n",
    "    label_y = []\n",
    "\n",
    "    for i in range(n_phase):\n",
    "            if (i == n_phase-1):\n",
    "                    points = [phase_w[i] / 2, height, phase_w[i] / 2, height - section_h]\n",
    "            else:\n",
    "                    points = [phase_w[i] / 2, height, phase_w[i+1] / 2, height - section_h]\n",
    "\n",
    "            path = 'M {0} {1} L {2} {3} L -{2} {3} L -{0} {1} Z'.format(*points)\n",
    "\n",
    "            shape = {\n",
    "                    'type': 'path',\n",
    "                    'path': path,\n",
    "                    'fillcolor': colors[i],\n",
    "                    'line': {\n",
    "                        'width': 1,\n",
    "                        'color': colors[i]\n",
    "                    }\n",
    "            }\n",
    "            shapes.append(shape)\n",
    "\n",
    "            # Y-axis location for this section's details (text)\n",
    "            label_y.append(height - (section_h / 2))\n",
    "\n",
    "            height = height - (section_h + section_d)\n",
    "\n",
    "    # For phase names\n",
    "    label_trace = go.Scatter(\n",
    "        x=[-350]*n_phase,\n",
    "        y=label_y,\n",
    "        mode='text',\n",
    "        text=phases,\n",
    "        textfont=dict(\n",
    "            color='rgb(40,40,40)',\n",
    "            size=15\n",
    "        )\n",
    "    )\n",
    "\n",
    "    # For phase values\n",
    "    value_trace = go.Scatter(\n",
    "        x=[350]*n_phase,\n",
    "        y=label_y,\n",
    "        mode='text',\n",
    "        text=values,\n",
    "        textfont=dict(\n",
    "            color='rgb(40,40,40)',\n",
    "            size=15\n",
    "        )\n",
    "    )\n",
    "\n",
    "    data = [label_trace, value_trace]\n",
    "\n",
    "    layout = go.Layout(\n",
    "        title=\"<b>Funnel Chart</b>\",\n",
    "        titlefont=dict(\n",
    "            size=20,\n",
    "            color='rgb(0,0,0)'\n",
    "        ),\n",
    "        shapes=shapes,\n",
    "        height=560,\n",
    "        width=800,\n",
    "        showlegend=False,\n",
    "        paper_bgcolor='rgba(255,255,255,1)',\n",
    "        plot_bgcolor='rgba(255,255,255,1)',\n",
    "        xaxis=dict(\n",
    "            showticklabels=False,\n",
    "            zeroline=False,\n",
    "            showgrid=False,\n",
    "            range=[-450, 450]\n",
    "        ),\n",
    "        yaxis=dict(\n",
    "            showticklabels=False,\n",
    "            zeroline=False,\n",
    "            showgrid=False\n",
    "        )\n",
    "    )\n",
    "\n",
    "    fig = go.Figure(data=data, layout=layout)\n",
    "    iplot(fig, show_link=False)"
   ]
  },
  {
   "cell_type": "code",
   "execution_count": 20,
   "metadata": {},
   "outputs": [
    {
     "name": "stdout",
     "output_type": "stream",
     "text": [
      "[500, 315, 213]\n"
     ]
    },
    {
     "data": {
      "application/vnd.plotly.v1+json": {
       "data": [
        {
         "mode": "text",
         "text": [
          "Step 1",
          "Step 2",
          "Step 3"
         ],
         "textfont": {
          "color": "rgb(40,40,40)",
          "size": 15
         },
         "type": "scatter",
         "x": [
          -350,
          -350,
          -350
         ],
         "y": [
          270,
          160,
          50
         ]
        },
        {
         "mode": "text",
         "text": [
          452714,
          285886,
          193191
         ],
         "textfont": {
          "color": "rgb(40,40,40)",
          "size": 15
         },
         "type": "scatter",
         "x": [
          350,
          350,
          350
         ],
         "y": [
          270,
          160,
          50
         ]
        }
       ],
       "layout": {
        "height": 560,
        "paper_bgcolor": "rgba(255,255,255,1)",
        "plot_bgcolor": "rgba(255,255,255,1)",
        "shapes": [
         {
          "fillcolor": "#d54936",
          "line": {
           "color": "#d54936",
           "width": 1
          },
          "path": "M 250 320 L 157 220 L -157 220 L -250 320 Z",
          "type": "path"
         },
         {
          "fillcolor": "#faca34",
          "line": {
           "color": "#faca34",
           "width": 1
          },
          "path": "M 157 210 L 106 110 L -106 110 L -157 210 Z",
          "type": "path"
         },
         {
          "fillcolor": "#437cba",
          "line": {
           "color": "#437cba",
           "width": 1
          },
          "path": "M 106 100 L 106 0 L -106 0 L -106 100 Z",
          "type": "path"
         }
        ],
        "showlegend": false,
        "title": "<b>Funnel Chart</b>",
        "titlefont": {
         "color": "rgb(0,0,0)",
         "size": 20
        },
        "width": 800,
        "xaxis": {
         "range": [
          -450,
          450
         ],
         "showgrid": false,
         "showticklabels": false,
         "zeroline": false
        },
        "yaxis": {
         "showgrid": false,
         "showticklabels": false,
         "zeroline": false
        }
       }
      },
      "text/html": [
       "<div id=\"2c1adab7-dc18-4bfb-96d3-dc790d918687\" style=\"height: 560px; width: 800px;\" class=\"plotly-graph-div\"></div><script type=\"text/javascript\">require([\"plotly\"], function(Plotly) { window.PLOTLYENV=window.PLOTLYENV || {};window.PLOTLYENV.BASE_URL=\"https://plot.ly\";Plotly.newPlot(\"2c1adab7-dc18-4bfb-96d3-dc790d918687\", [{\"textfont\": {\"color\": \"rgb(40,40,40)\", \"size\": 15}, \"text\": [\"Step 1\", \"Step 2\", \"Step 3\"], \"mode\": \"text\", \"y\": [270, 160, 50], \"x\": [-350, -350, -350], \"type\": \"scatter\"}, {\"textfont\": {\"color\": \"rgb(40,40,40)\", \"size\": 15}, \"text\": [452714, 285886, 193191], \"mode\": \"text\", \"y\": [270, 160, 50], \"x\": [350, 350, 350], \"type\": \"scatter\"}], {\"showlegend\": false, \"yaxis\": {\"zeroline\": false, \"showticklabels\": false, \"showgrid\": false}, \"paper_bgcolor\": \"rgba(255,255,255,1)\", \"plot_bgcolor\": \"rgba(255,255,255,1)\", \"title\": \"<b>Funnel Chart</b>\", \"height\": 560, \"shapes\": [{\"path\": \"M 250 320 L 157 220 L -157 220 L -250 320 Z\", \"line\": {\"color\": \"#d54936\", \"width\": 1}, \"type\": \"path\", \"fillcolor\": \"#d54936\"}, {\"path\": \"M 157 210 L 106 110 L -106 110 L -157 210 Z\", \"line\": {\"color\": \"#faca34\", \"width\": 1}, \"type\": \"path\", \"fillcolor\": \"#faca34\"}, {\"path\": \"M 106 100 L 106 0 L -106 0 L -106 100 Z\", \"line\": {\"color\": \"#437cba\", \"width\": 1}, \"type\": \"path\", \"fillcolor\": \"#437cba\"}], \"width\": 800, \"titlefont\": {\"color\": \"rgb(0,0,0)\", \"size\": 20}, \"xaxis\": {\"zeroline\": false, \"range\": [-450, 450], \"showticklabels\": false, \"showgrid\": false}}, {\"linkText\": \"Export to plot.ly\", \"showLink\": false})});</script>"
      ],
      "text/vnd.plotly.v1+html": [
       "<div id=\"2c1adab7-dc18-4bfb-96d3-dc790d918687\" style=\"height: 560px; width: 800px;\" class=\"plotly-graph-div\"></div><script type=\"text/javascript\">require([\"plotly\"], function(Plotly) { window.PLOTLYENV=window.PLOTLYENV || {};window.PLOTLYENV.BASE_URL=\"https://plot.ly\";Plotly.newPlot(\"2c1adab7-dc18-4bfb-96d3-dc790d918687\", [{\"textfont\": {\"color\": \"rgb(40,40,40)\", \"size\": 15}, \"text\": [\"Step 1\", \"Step 2\", \"Step 3\"], \"mode\": \"text\", \"y\": [270, 160, 50], \"x\": [-350, -350, -350], \"type\": \"scatter\"}, {\"textfont\": {\"color\": \"rgb(40,40,40)\", \"size\": 15}, \"text\": [452714, 285886, 193191], \"mode\": \"text\", \"y\": [270, 160, 50], \"x\": [350, 350, 350], \"type\": \"scatter\"}], {\"showlegend\": false, \"yaxis\": {\"zeroline\": false, \"showticklabels\": false, \"showgrid\": false}, \"paper_bgcolor\": \"rgba(255,255,255,1)\", \"plot_bgcolor\": \"rgba(255,255,255,1)\", \"title\": \"<b>Funnel Chart</b>\", \"height\": 560, \"shapes\": [{\"path\": \"M 250 320 L 157 220 L -157 220 L -250 320 Z\", \"line\": {\"color\": \"#d54936\", \"width\": 1}, \"type\": \"path\", \"fillcolor\": \"#d54936\"}, {\"path\": \"M 157 210 L 106 110 L -106 110 L -157 210 Z\", \"line\": {\"color\": \"#faca34\", \"width\": 1}, \"type\": \"path\", \"fillcolor\": \"#faca34\"}, {\"path\": \"M 106 100 L 106 0 L -106 0 L -106 100 Z\", \"line\": {\"color\": \"#437cba\", \"width\": 1}, \"type\": \"path\", \"fillcolor\": \"#437cba\"}], \"width\": 800, \"titlefont\": {\"color\": \"rgb(0,0,0)\", \"size\": 20}, \"xaxis\": {\"zeroline\": false, \"range\": [-450, 450], \"showticklabels\": false, \"showgrid\": false}}, {\"linkText\": \"Export to plot.ly\", \"showLink\": false})});</script>"
      ]
     },
     "metadata": {},
     "output_type": "display_data"
    }
   ],
   "source": [
    "plot_funnel(phases, values)"
   ]
  },
  {
   "cell_type": "markdown",
   "metadata": {},
   "source": [
    "### Добавим еще один шаг"
   ]
  },
  {
   "cell_type": "code",
   "execution_count": 21,
   "metadata": {},
   "outputs": [
    {
     "ename": "ValueError",
     "evalue": "Code: 160, e.displayText() = DB::Exception: Pattern application proves too difficult, exceeding max iterations (1000000), e.what() = DB::Exception\n",
     "output_type": "error",
     "traceback": [
      "\u001b[0;31m---------------------------------------------------------------------------\u001b[0m",
      "\u001b[0;31mValueError\u001b[0m                                Traceback (most recent call last)",
      "\u001b[0;32m<ipython-input-21-ea0a75ab68c0>\u001b[0m in \u001b[0;36m<module>\u001b[0;34m()\u001b[0m\n\u001b[1;32m     21\u001b[0m '''\n\u001b[1;32m     22\u001b[0m \u001b[0;34m\u001b[0m\u001b[0m\n\u001b[0;32m---> 23\u001b[0;31m \u001b[0mfdf\u001b[0m \u001b[0;34m=\u001b[0m \u001b[0mget_clickhouse_df\u001b[0m\u001b[0;34m(\u001b[0m\u001b[0mq\u001b[0m\u001b[0;34m)\u001b[0m\u001b[0;34m\u001b[0m\u001b[0m\n\u001b[0m",
      "\u001b[0;32m<ipython-input-1-1dad9a55ecde>\u001b[0m in \u001b[0;36mget_clickhouse_df\u001b[0;34m(query, host, connection_timeout)\u001b[0m\n\u001b[1;32m     20\u001b[0m \u001b[0;34m\u001b[0m\u001b[0m\n\u001b[1;32m     21\u001b[0m \u001b[0;32mdef\u001b[0m \u001b[0mget_clickhouse_df\u001b[0m\u001b[0;34m(\u001b[0m\u001b[0mquery\u001b[0m\u001b[0;34m,\u001b[0m \u001b[0mhost\u001b[0m \u001b[0;34m=\u001b[0m \u001b[0mHOST\u001b[0m\u001b[0;34m,\u001b[0m \u001b[0mconnection_timeout\u001b[0m \u001b[0;34m=\u001b[0m \u001b[0;36m1500\u001b[0m\u001b[0;34m)\u001b[0m\u001b[0;34m:\u001b[0m\u001b[0;34m\u001b[0m\u001b[0m\n\u001b[0;32m---> 22\u001b[0;31m     \u001b[0mdata\u001b[0m \u001b[0;34m=\u001b[0m \u001b[0mget_clickhouse_data\u001b[0m\u001b[0;34m(\u001b[0m\u001b[0mquery\u001b[0m\u001b[0;34m,\u001b[0m \u001b[0mhost\u001b[0m\u001b[0;34m,\u001b[0m \u001b[0mconnection_timeout\u001b[0m\u001b[0;34m)\u001b[0m\u001b[0;34m\u001b[0m\u001b[0m\n\u001b[0m\u001b[1;32m     23\u001b[0m     \u001b[0mdf\u001b[0m \u001b[0;34m=\u001b[0m \u001b[0mpd\u001b[0m\u001b[0;34m.\u001b[0m\u001b[0mread_csv\u001b[0m\u001b[0;34m(\u001b[0m\u001b[0mStringIO\u001b[0m\u001b[0;34m.\u001b[0m\u001b[0mStringIO\u001b[0m\u001b[0;34m(\u001b[0m\u001b[0mdata\u001b[0m\u001b[0;34m)\u001b[0m\u001b[0;34m,\u001b[0m \u001b[0msep\u001b[0m \u001b[0;34m=\u001b[0m \u001b[0;34m'\\t'\u001b[0m\u001b[0;34m)\u001b[0m\u001b[0;34m\u001b[0m\u001b[0m\n\u001b[1;32m     24\u001b[0m     \u001b[0;32mreturn\u001b[0m \u001b[0mdf\u001b[0m\u001b[0;34m\u001b[0m\u001b[0m\n",
      "\u001b[0;32m<ipython-input-1-1dad9a55ecde>\u001b[0m in \u001b[0;36mget_clickhouse_data\u001b[0;34m(query, host, connection_timeout)\u001b[0m\n\u001b[1;32m     17\u001b[0m         \u001b[0;32mreturn\u001b[0m \u001b[0mr\u001b[0m\u001b[0;34m.\u001b[0m\u001b[0mtext\u001b[0m\u001b[0;34m\u001b[0m\u001b[0m\n\u001b[1;32m     18\u001b[0m     \u001b[0;32melse\u001b[0m\u001b[0;34m:\u001b[0m\u001b[0;34m\u001b[0m\u001b[0m\n\u001b[0;32m---> 19\u001b[0;31m         \u001b[0;32mraise\u001b[0m \u001b[0mValueError\u001b[0m\u001b[0;34m,\u001b[0m \u001b[0mr\u001b[0m\u001b[0;34m.\u001b[0m\u001b[0mtext\u001b[0m\u001b[0;34m\u001b[0m\u001b[0m\n\u001b[0m\u001b[1;32m     20\u001b[0m \u001b[0;34m\u001b[0m\u001b[0m\n\u001b[1;32m     21\u001b[0m \u001b[0;32mdef\u001b[0m \u001b[0mget_clickhouse_df\u001b[0m\u001b[0;34m(\u001b[0m\u001b[0mquery\u001b[0m\u001b[0;34m,\u001b[0m \u001b[0mhost\u001b[0m \u001b[0;34m=\u001b[0m \u001b[0mHOST\u001b[0m\u001b[0;34m,\u001b[0m \u001b[0mconnection_timeout\u001b[0m \u001b[0;34m=\u001b[0m \u001b[0;36m1500\u001b[0m\u001b[0;34m)\u001b[0m\u001b[0;34m:\u001b[0m\u001b[0;34m\u001b[0m\u001b[0m\n",
      "\u001b[0;31mValueError\u001b[0m: Code: 160, e.displayText() = DB::Exception: Pattern application proves too difficult, exceeding max iterations (1000000), e.what() = DB::Exception\n"
     ]
    }
   ],
   "source": [
    "q = '''\n",
    "SELECT\n",
    "    sum(step1_achieved) as step1,\n",
    "    sum(step2_achieved) as step2,\n",
    "    sum(step3_achieved) as step3,\n",
    "    sum(step4_achieved) as step4\n",
    "FROM\n",
    "    (SELECT\n",
    "        ClientID,\n",
    "        max(URL = 'supermarket.ru/main') as step1_achieved,\n",
    "        sequenceMatch('(?1).*(?2)')(EventTime, URL = 'supermarket.ru/main', \n",
    "          URL = 'supermarket.ru/catalog') as step2_achieved,\n",
    "        sequenceMatch('(?1).*(?2).*(?3)')(EventTime, URL = 'supermarket.ru/main', \n",
    "          URL = 'supermarket.ru/catalog', URL = 'supermarket.ru/product') as step3_achieved,\n",
    "        sequenceMatch('(?1).*(?2).*(?3).*(?4)')(EventTime, URL = 'supermarket.ru/main', \n",
    "          URL = 'supermarket.ru/catalog', URL = 'supermarket.ru/product', \n",
    "          URL = 'supermarket.ru/basket') as step4_achieved\n",
    "    FROM visits\n",
    "    GROUP BY ClientID)\n",
    "FORMAT TabSeparatedWithNames\n",
    "'''\n",
    "\n",
    "fdf = get_clickhouse_df(q)"
   ]
  },
  {
   "cell_type": "markdown",
   "metadata": {},
   "source": [
    "### Упростим обработку событий"
   ]
  },
  {
   "cell_type": "code",
   "execution_count": 22,
   "metadata": {},
   "outputs": [
    {
     "data": {
      "text/html": [
       "<div>\n",
       "<style scoped>\n",
       "    .dataframe tbody tr th:only-of-type {\n",
       "        vertical-align: middle;\n",
       "    }\n",
       "\n",
       "    .dataframe tbody tr th {\n",
       "        vertical-align: top;\n",
       "    }\n",
       "\n",
       "    .dataframe thead th {\n",
       "        text-align: right;\n",
       "    }\n",
       "</style>\n",
       "<table border=\"1\" class=\"dataframe\">\n",
       "  <thead>\n",
       "    <tr style=\"text-align: right;\">\n",
       "      <th></th>\n",
       "      <th>ClientID</th>\n",
       "      <th>times</th>\n",
       "      <th>urls</th>\n",
       "      <th>index</th>\n",
       "    </tr>\n",
       "  </thead>\n",
       "  <tbody>\n",
       "    <tr>\n",
       "      <th>0</th>\n",
       "      <td>1464279176664798753</td>\n",
       "      <td>['2016-07-04 16:53:54','2016-07-04 16:54:33','2016-07-04 16:55:36','2016-07-04 16:57:05','2016-07-04 16:57:23','2016-07-04 17:46:06','2016-07-05 19:38:31','2016-07-05 19:38:53']</td>\n",
       "      <td>['supermarket.ru/main','supermarket.ru/catalog','supermarket.ru/product','supermarket.ru/finish_reserve','supermarket.ru/catalog','supermarket.ru/product','supermarket.ru/product','supermarket.ru/product']</td>\n",
       "      <td>[1,2,3,4,5,6,7,8]</td>\n",
       "    </tr>\n",
       "    <tr>\n",
       "      <th>1</th>\n",
       "      <td>146446839869868089</td>\n",
       "      <td>['2016-07-05 16:31:33','2016-07-05 16:34:07','2016-07-05 16:34:39','2016-07-05 16:35:37']</td>\n",
       "      <td>['supermarket.ru/catalog','supermarket.ru/catalog','supermarket.ru/product','supermarket.ru/catalog']</td>\n",
       "      <td>[1,2,3,4]</td>\n",
       "    </tr>\n",
       "    <tr>\n",
       "      <th>2</th>\n",
       "      <td>1469184715541189697</td>\n",
       "      <td>['2016-07-22 13:51:59','2016-07-22 13:52:58','2016-07-22 13:53:41','2016-07-22 13:54:14','2016-07-22 13:55:11','2016-07-22 13:55:45','2016-07-22 13:57:30']</td>\n",
       "      <td>['supermarket.ru/main','supermarket.ru/main','supermarket.ru/promo_action_1','supermarket.ru/main','supermarket.ru/search','supermarket.ru/product','supermarket.ru/product']</td>\n",
       "      <td>[1,2,3,4,5,6,7]</td>\n",
       "    </tr>\n",
       "  </tbody>\n",
       "</table>\n",
       "</div>"
      ],
      "text/plain": [
       "              ClientID  \\\n",
       "0  1464279176664798753   \n",
       "1   146446839869868089   \n",
       "2  1469184715541189697   \n",
       "\n",
       "                                                                                                                                                                               times  \\\n",
       "0  ['2016-07-04 16:53:54','2016-07-04 16:54:33','2016-07-04 16:55:36','2016-07-04 16:57:05','2016-07-04 16:57:23','2016-07-04 17:46:06','2016-07-05 19:38:31','2016-07-05 19:38:53']   \n",
       "1                                                                                          ['2016-07-05 16:31:33','2016-07-05 16:34:07','2016-07-05 16:34:39','2016-07-05 16:35:37']   \n",
       "2                        ['2016-07-22 13:51:59','2016-07-22 13:52:58','2016-07-22 13:53:41','2016-07-22 13:54:14','2016-07-22 13:55:11','2016-07-22 13:55:45','2016-07-22 13:57:30']   \n",
       "\n",
       "                                                                                                                                                                                                            urls  \\\n",
       "0  ['supermarket.ru/main','supermarket.ru/catalog','supermarket.ru/product','supermarket.ru/finish_reserve','supermarket.ru/catalog','supermarket.ru/product','supermarket.ru/product','supermarket.ru/product']   \n",
       "1                                                                                                          ['supermarket.ru/catalog','supermarket.ru/catalog','supermarket.ru/product','supermarket.ru/catalog']   \n",
       "2                                  ['supermarket.ru/main','supermarket.ru/main','supermarket.ru/promo_action_1','supermarket.ru/main','supermarket.ru/search','supermarket.ru/product','supermarket.ru/product']   \n",
       "\n",
       "               index  \n",
       "0  [1,2,3,4,5,6,7,8]  \n",
       "1          [1,2,3,4]  \n",
       "2    [1,2,3,4,5,6,7]  "
      ]
     },
     "execution_count": 22,
     "metadata": {},
     "output_type": "execute_result"
    }
   ],
   "source": [
    "q = '''\n",
    "SELECT\n",
    "    ClientID,\n",
    "    groupArray(EventTime) as times,\n",
    "    groupArray(URL) as urls,\n",
    "    arrayEnumerate(urls) as index\n",
    "FROM\n",
    "    (SELECT * FROM visits ORDER BY ClientID, EventTime)\n",
    "GROUP BY ClientID\n",
    "LIMIT 3\n",
    "FORMAT TabSeparatedWithNames\n",
    "'''\n",
    "\n",
    "get_clickhouse_df(q)"
   ]
  },
  {
   "cell_type": "code",
   "execution_count": 23,
   "metadata": {},
   "outputs": [
    {
     "data": {
      "text/html": [
       "<div>\n",
       "<style scoped>\n",
       "    .dataframe tbody tr th:only-of-type {\n",
       "        vertical-align: middle;\n",
       "    }\n",
       "\n",
       "    .dataframe tbody tr th {\n",
       "        vertical-align: top;\n",
       "    }\n",
       "\n",
       "    .dataframe thead th {\n",
       "        text-align: right;\n",
       "    }\n",
       "</style>\n",
       "<table border=\"1\" class=\"dataframe\">\n",
       "  <thead>\n",
       "    <tr style=\"text-align: right;\">\n",
       "      <th></th>\n",
       "      <th>ClientID</th>\n",
       "      <th>times</th>\n",
       "      <th>urls</th>\n",
       "      <th>indexes</th>\n",
       "      <th>filt_urls</th>\n",
       "      <th>filt_times</th>\n",
       "    </tr>\n",
       "  </thead>\n",
       "  <tbody>\n",
       "    <tr>\n",
       "      <th>0</th>\n",
       "      <td>1468821574632687631</td>\n",
       "      <td>['2016-07-18 08:48:01','2016-07-18 08:48:40','2016-07-18 08:48:57','2016-07-18 08:51:36','2016-07-18 08:52:03','2016-07-18 08:55:11','2016-07-18 08:55:34']</td>\n",
       "      <td>['supermarket.ru/catalog','supermarket.ru/catalog','supermarket.ru/catalog','supermarket.ru/catalog','supermarket.ru/catalog','supermarket.ru/catalog','supermarket.ru/catalog']</td>\n",
       "      <td>[1,2,3,4,5,6,7]</td>\n",
       "      <td>['supermarket.ru/catalog']</td>\n",
       "      <td>['2016-07-18 08:48:01']</td>\n",
       "    </tr>\n",
       "    <tr>\n",
       "      <th>1</th>\n",
       "      <td>1468839784453828719</td>\n",
       "      <td>['2016-07-18 14:03:06','2016-07-18 14:21:14','2016-07-18 16:31:26','2016-07-18 16:32:24']</td>\n",
       "      <td>['supermarket.ru/main','supermarket.ru/main','supermarket.ru/main','supermarket.ru/catalog']</td>\n",
       "      <td>[1,2,3,4]</td>\n",
       "      <td>['supermarket.ru/main','supermarket.ru/catalog']</td>\n",
       "      <td>['2016-07-18 14:03:06','2016-07-18 16:32:24']</td>\n",
       "    </tr>\n",
       "    <tr>\n",
       "      <th>2</th>\n",
       "      <td>1470060064805210536</td>\n",
       "      <td>['2016-08-01 17:01:03','2016-08-01 17:01:17','2016-08-01 17:01:27']</td>\n",
       "      <td>['supermarket.ru/main','supermarket.ru/search','supermarket.ru/product']</td>\n",
       "      <td>[1,2,3]</td>\n",
       "      <td>['supermarket.ru/main','supermarket.ru/search','supermarket.ru/product']</td>\n",
       "      <td>['2016-08-01 17:01:03','2016-08-01 17:01:17','2016-08-01 17:01:27']</td>\n",
       "    </tr>\n",
       "  </tbody>\n",
       "</table>\n",
       "</div>"
      ],
      "text/plain": [
       "              ClientID  \\\n",
       "0  1468821574632687631   \n",
       "1  1468839784453828719   \n",
       "2  1470060064805210536   \n",
       "\n",
       "                                                                                                                                                         times  \\\n",
       "0  ['2016-07-18 08:48:01','2016-07-18 08:48:40','2016-07-18 08:48:57','2016-07-18 08:51:36','2016-07-18 08:52:03','2016-07-18 08:55:11','2016-07-18 08:55:34']   \n",
       "1                                                                    ['2016-07-18 14:03:06','2016-07-18 14:21:14','2016-07-18 16:31:26','2016-07-18 16:32:24']   \n",
       "2                                                                                          ['2016-08-01 17:01:03','2016-08-01 17:01:17','2016-08-01 17:01:27']   \n",
       "\n",
       "                                                                                                                                                                               urls  \\\n",
       "0  ['supermarket.ru/catalog','supermarket.ru/catalog','supermarket.ru/catalog','supermarket.ru/catalog','supermarket.ru/catalog','supermarket.ru/catalog','supermarket.ru/catalog']   \n",
       "1                                                                                      ['supermarket.ru/main','supermarket.ru/main','supermarket.ru/main','supermarket.ru/catalog']   \n",
       "2                                                                                                          ['supermarket.ru/main','supermarket.ru/search','supermarket.ru/product']   \n",
       "\n",
       "           indexes  \\\n",
       "0  [1,2,3,4,5,6,7]   \n",
       "1        [1,2,3,4]   \n",
       "2          [1,2,3]   \n",
       "\n",
       "                                                                  filt_urls  \\\n",
       "0                                                ['supermarket.ru/catalog']   \n",
       "1                          ['supermarket.ru/main','supermarket.ru/catalog']   \n",
       "2  ['supermarket.ru/main','supermarket.ru/search','supermarket.ru/product']   \n",
       "\n",
       "                                                            filt_times  \n",
       "0                                              ['2016-07-18 08:48:01']  \n",
       "1                        ['2016-07-18 14:03:06','2016-07-18 16:32:24']  \n",
       "2  ['2016-08-01 17:01:03','2016-08-01 17:01:17','2016-08-01 17:01:27']  "
      ]
     },
     "execution_count": 23,
     "metadata": {},
     "output_type": "execute_result"
    }
   ],
   "source": [
    "q = '''\n",
    "SELECT\n",
    "    ClientID,\n",
    "    groupArray(EventTime) as times,\n",
    "    groupArray(URL) as urls,\n",
    "    arrayEnumerate(urls) as indexes,\n",
    "    arrayFilter(url, index -> (index = 1) or (urls[index] != urls[index - 1]), urls, indexes) as filt_urls,\n",
    "    arrayFilter(time, index -> (index = 1) or (urls[index] != urls[index - 1]), times, indexes) as filt_times\n",
    "FROM\n",
    "    (SELECT * FROM visits SAMPLE 1/5 ORDER BY ClientID, EventTime)\n",
    "GROUP BY ClientID\n",
    "LIMIT 3\n",
    "FORMAT TabSeparatedWithNames\n",
    "'''\n",
    "\n",
    "get_clickhouse_df(q)"
   ]
  },
  {
   "cell_type": "code",
   "execution_count": 24,
   "metadata": {},
   "outputs": [
    {
     "data": {
      "text/html": [
       "<div>\n",
       "<style scoped>\n",
       "    .dataframe tbody tr th:only-of-type {\n",
       "        vertical-align: middle;\n",
       "    }\n",
       "\n",
       "    .dataframe tbody tr th {\n",
       "        vertical-align: top;\n",
       "    }\n",
       "\n",
       "    .dataframe thead th {\n",
       "        text-align: right;\n",
       "    }\n",
       "</style>\n",
       "<table border=\"1\" class=\"dataframe\">\n",
       "  <thead>\n",
       "    <tr style=\"text-align: right;\">\n",
       "      <th></th>\n",
       "      <th>ClientID</th>\n",
       "      <th>URL</th>\n",
       "      <th>EventTime</th>\n",
       "    </tr>\n",
       "  </thead>\n",
       "  <tbody>\n",
       "    <tr>\n",
       "      <th>0</th>\n",
       "      <td>1468821574632687631</td>\n",
       "      <td>supermarket.ru/catalog</td>\n",
       "      <td>2016-07-18 08:48:01</td>\n",
       "    </tr>\n",
       "    <tr>\n",
       "      <th>1</th>\n",
       "      <td>1468839784453828719</td>\n",
       "      <td>supermarket.ru/main</td>\n",
       "      <td>2016-07-18 14:03:06</td>\n",
       "    </tr>\n",
       "    <tr>\n",
       "      <th>2</th>\n",
       "      <td>1468839784453828719</td>\n",
       "      <td>supermarket.ru/catalog</td>\n",
       "      <td>2016-07-18 16:32:24</td>\n",
       "    </tr>\n",
       "    <tr>\n",
       "      <th>3</th>\n",
       "      <td>1470060064805210536</td>\n",
       "      <td>supermarket.ru/main</td>\n",
       "      <td>2016-08-01 17:01:03</td>\n",
       "    </tr>\n",
       "    <tr>\n",
       "      <th>4</th>\n",
       "      <td>1470060064805210536</td>\n",
       "      <td>supermarket.ru/search</td>\n",
       "      <td>2016-08-01 17:01:17</td>\n",
       "    </tr>\n",
       "    <tr>\n",
       "      <th>5</th>\n",
       "      <td>1470060064805210536</td>\n",
       "      <td>supermarket.ru/product</td>\n",
       "      <td>2016-08-01 17:01:27</td>\n",
       "    </tr>\n",
       "  </tbody>\n",
       "</table>\n",
       "</div>"
      ],
      "text/plain": [
       "              ClientID                     URL            EventTime\n",
       "0  1468821574632687631  supermarket.ru/catalog  2016-07-18 08:48:01\n",
       "1  1468839784453828719     supermarket.ru/main  2016-07-18 14:03:06\n",
       "2  1468839784453828719  supermarket.ru/catalog  2016-07-18 16:32:24\n",
       "3  1470060064805210536     supermarket.ru/main  2016-08-01 17:01:03\n",
       "4  1470060064805210536   supermarket.ru/search  2016-08-01 17:01:17\n",
       "5  1470060064805210536  supermarket.ru/product  2016-08-01 17:01:27"
      ]
     },
     "execution_count": 24,
     "metadata": {},
     "output_type": "execute_result"
    }
   ],
   "source": [
    "q = '''\n",
    "SELECT\n",
    "    ClientID,\n",
    "    URL,\n",
    "    EventTime\n",
    "FROM\n",
    "    (SELECT\n",
    "        ClientID,\n",
    "        groupArray(EventTime) as times,\n",
    "        groupArray(URL) as urls,\n",
    "        arrayEnumerate(urls) as indexes,\n",
    "        arrayFilter(url, index -> (index = 1) or (urls[index] != urls[index - 1]), urls, indexes) as filt_urls,\n",
    "        arrayFilter(time, index -> (index = 1) or (urls[index] != urls[index - 1]), times, indexes) as filt_times\n",
    "    FROM\n",
    "        (SELECT * FROM visits SAMPLE 1/5 ORDER BY ClientID, EventTime)\n",
    "    GROUP BY ClientID\n",
    "    LIMIT 3)\n",
    "ARRAY JOIN filt_urls as URL, filt_times as EventTime\n",
    "FORMAT TabSeparatedWithNames\n",
    "'''\n",
    "\n",
    "get_clickhouse_df(q)"
   ]
  },
  {
   "cell_type": "code",
   "execution_count": 25,
   "metadata": {},
   "outputs": [
    {
     "name": "stdout",
     "output_type": "stream",
     "text": [
      "CPU times: user 6.4 ms, sys: 2.37 ms, total: 8.77 ms\n",
      "Wall time: 3.9 s\n"
     ]
    }
   ],
   "source": [
    "%%time\n",
    "q = '''\n",
    "SELECT\n",
    "    5*sum(step1_achieved) as step1,\n",
    "    5*sum(step2_achieved) as step2,\n",
    "    5*sum(step3_achieved) as step3,\n",
    "    5*sum(step4_achieved) as step4\n",
    "FROM\n",
    "    (SELECT\n",
    "        ClientID,\n",
    "        max(URL = 'supermarket.ru/main') as step1_achieved,\n",
    "        sequenceMatch('(?1).*(?2)')(EventTime, URL = 'supermarket.ru/main', \n",
    "          URL = 'supermarket.ru/catalog') as step2_achieved,\n",
    "        sequenceMatch('(?1).*(?2).*(?3)')(EventTime, URL = 'supermarket.ru/main', \n",
    "          URL = 'supermarket.ru/catalog', URL = 'supermarket.ru/product') as step3_achieved,\n",
    "        sequenceMatch('(?1).*(?2).*(?3).*(?4)')(EventTime, URL = 'supermarket.ru/main', \n",
    "          URL = 'supermarket.ru/catalog', URL = 'supermarket.ru/product', \n",
    "          URL = 'supermarket.ru/basket') as step4_achieved\n",
    "    FROM\n",
    "        (SELECT\n",
    "            ClientID,\n",
    "            groupArray(EventTime) as times,\n",
    "            groupArray(URL) as urls,\n",
    "            arrayEnumerate(urls) as indexes,\n",
    "            arrayFilter(url, index -> (index = 1) or (urls[index] != urls[index - 1]), urls, indexes) as filt_urls,\n",
    "            arrayFilter(time, index -> (index = 1) or (urls[index] != urls[index - 1]), times, indexes) as filt_times\n",
    "        FROM\n",
    "            (SELECT * FROM visits SAMPLE 1/5 ORDER BY ClientID, EventTime)\n",
    "        GROUP BY ClientID)\n",
    "    ARRAY JOIN filt_urls as URL, filt_times as EventTime\n",
    "    GROUP BY ClientID)\n",
    "FORMAT TabSeparatedWithNames\n",
    "'''\n",
    "\n",
    "fdf = get_clickhouse_df(q)"
   ]
  },
  {
   "cell_type": "code",
   "execution_count": 26,
   "metadata": {},
   "outputs": [
    {
     "name": "stdout",
     "output_type": "stream",
     "text": [
      "[500, 315, 212, 10]\n"
     ]
    },
    {
     "data": {
      "application/vnd.plotly.v1+json": {
       "data": [
        {
         "mode": "text",
         "text": [
          "Step 1",
          "Step 2",
          "Step 3",
          "Step 4"
         ],
         "textfont": {
          "color": "rgb(40,40,40)",
          "size": 15
         },
         "type": "scatter",
         "x": [
          -350,
          -350,
          -350,
          -350
         ],
         "y": [
          380,
          270,
          160,
          50
         ]
        },
        {
         "mode": "text",
         "text": [
          454315,
          286320,
          193480,
          9205
         ],
         "textfont": {
          "color": "rgb(40,40,40)",
          "size": 15
         },
         "type": "scatter",
         "x": [
          350,
          350,
          350,
          350
         ],
         "y": [
          380,
          270,
          160,
          50
         ]
        }
       ],
       "layout": {
        "height": 560,
        "paper_bgcolor": "rgba(255,255,255,1)",
        "plot_bgcolor": "rgba(255,255,255,1)",
        "shapes": [
         {
          "fillcolor": "#d54936",
          "line": {
           "color": "#d54936",
           "width": 1
          },
          "path": "M 250 430 L 157 330 L -157 330 L -250 430 Z",
          "type": "path"
         },
         {
          "fillcolor": "#faca34",
          "line": {
           "color": "#faca34",
           "width": 1
          },
          "path": "M 157 320 L 106 220 L -106 220 L -157 320 Z",
          "type": "path"
         },
         {
          "fillcolor": "#437cba",
          "line": {
           "color": "#437cba",
           "width": 1
          },
          "path": "M 106 210 L 5 110 L -5 110 L -106 210 Z",
          "type": "path"
         },
         {
          "fillcolor": "#8bc34a",
          "line": {
           "color": "#8bc34a",
           "width": 1
          },
          "path": "M 5 100 L 5 0 L -5 0 L -5 100 Z",
          "type": "path"
         }
        ],
        "showlegend": false,
        "title": "<b>Funnel Chart</b>",
        "titlefont": {
         "color": "rgb(0,0,0)",
         "size": 20
        },
        "width": 800,
        "xaxis": {
         "range": [
          -450,
          450
         ],
         "showgrid": false,
         "showticklabels": false,
         "zeroline": false
        },
        "yaxis": {
         "showgrid": false,
         "showticklabels": false,
         "zeroline": false
        }
       }
      },
      "text/html": [
       "<div id=\"34c29c0b-07f6-410a-bf31-1b075cbf3504\" style=\"height: 560px; width: 800px;\" class=\"plotly-graph-div\"></div><script type=\"text/javascript\">require([\"plotly\"], function(Plotly) { window.PLOTLYENV=window.PLOTLYENV || {};window.PLOTLYENV.BASE_URL=\"https://plot.ly\";Plotly.newPlot(\"34c29c0b-07f6-410a-bf31-1b075cbf3504\", [{\"textfont\": {\"color\": \"rgb(40,40,40)\", \"size\": 15}, \"text\": [\"Step 1\", \"Step 2\", \"Step 3\", \"Step 4\"], \"mode\": \"text\", \"y\": [380, 270, 160, 50], \"x\": [-350, -350, -350, -350], \"type\": \"scatter\"}, {\"textfont\": {\"color\": \"rgb(40,40,40)\", \"size\": 15}, \"text\": [454315, 286320, 193480, 9205], \"mode\": \"text\", \"y\": [380, 270, 160, 50], \"x\": [350, 350, 350, 350], \"type\": \"scatter\"}], {\"showlegend\": false, \"yaxis\": {\"zeroline\": false, \"showticklabels\": false, \"showgrid\": false}, \"paper_bgcolor\": \"rgba(255,255,255,1)\", \"plot_bgcolor\": \"rgba(255,255,255,1)\", \"title\": \"<b>Funnel Chart</b>\", \"height\": 560, \"shapes\": [{\"path\": \"M 250 430 L 157 330 L -157 330 L -250 430 Z\", \"line\": {\"color\": \"#d54936\", \"width\": 1}, \"type\": \"path\", \"fillcolor\": \"#d54936\"}, {\"path\": \"M 157 320 L 106 220 L -106 220 L -157 320 Z\", \"line\": {\"color\": \"#faca34\", \"width\": 1}, \"type\": \"path\", \"fillcolor\": \"#faca34\"}, {\"path\": \"M 106 210 L 5 110 L -5 110 L -106 210 Z\", \"line\": {\"color\": \"#437cba\", \"width\": 1}, \"type\": \"path\", \"fillcolor\": \"#437cba\"}, {\"path\": \"M 5 100 L 5 0 L -5 0 L -5 100 Z\", \"line\": {\"color\": \"#8bc34a\", \"width\": 1}, \"type\": \"path\", \"fillcolor\": \"#8bc34a\"}], \"width\": 800, \"titlefont\": {\"color\": \"rgb(0,0,0)\", \"size\": 20}, \"xaxis\": {\"zeroline\": false, \"range\": [-450, 450], \"showticklabels\": false, \"showgrid\": false}}, {\"linkText\": \"Export to plot.ly\", \"showLink\": false})});</script>"
      ],
      "text/vnd.plotly.v1+html": [
       "<div id=\"34c29c0b-07f6-410a-bf31-1b075cbf3504\" style=\"height: 560px; width: 800px;\" class=\"plotly-graph-div\"></div><script type=\"text/javascript\">require([\"plotly\"], function(Plotly) { window.PLOTLYENV=window.PLOTLYENV || {};window.PLOTLYENV.BASE_URL=\"https://plot.ly\";Plotly.newPlot(\"34c29c0b-07f6-410a-bf31-1b075cbf3504\", [{\"textfont\": {\"color\": \"rgb(40,40,40)\", \"size\": 15}, \"text\": [\"Step 1\", \"Step 2\", \"Step 3\", \"Step 4\"], \"mode\": \"text\", \"y\": [380, 270, 160, 50], \"x\": [-350, -350, -350, -350], \"type\": \"scatter\"}, {\"textfont\": {\"color\": \"rgb(40,40,40)\", \"size\": 15}, \"text\": [454315, 286320, 193480, 9205], \"mode\": \"text\", \"y\": [380, 270, 160, 50], \"x\": [350, 350, 350, 350], \"type\": \"scatter\"}], {\"showlegend\": false, \"yaxis\": {\"zeroline\": false, \"showticklabels\": false, \"showgrid\": false}, \"paper_bgcolor\": \"rgba(255,255,255,1)\", \"plot_bgcolor\": \"rgba(255,255,255,1)\", \"title\": \"<b>Funnel Chart</b>\", \"height\": 560, \"shapes\": [{\"path\": \"M 250 430 L 157 330 L -157 330 L -250 430 Z\", \"line\": {\"color\": \"#d54936\", \"width\": 1}, \"type\": \"path\", \"fillcolor\": \"#d54936\"}, {\"path\": \"M 157 320 L 106 220 L -106 220 L -157 320 Z\", \"line\": {\"color\": \"#faca34\", \"width\": 1}, \"type\": \"path\", \"fillcolor\": \"#faca34\"}, {\"path\": \"M 106 210 L 5 110 L -5 110 L -106 210 Z\", \"line\": {\"color\": \"#437cba\", \"width\": 1}, \"type\": \"path\", \"fillcolor\": \"#437cba\"}, {\"path\": \"M 5 100 L 5 0 L -5 0 L -5 100 Z\", \"line\": {\"color\": \"#8bc34a\", \"width\": 1}, \"type\": \"path\", \"fillcolor\": \"#8bc34a\"}], \"width\": 800, \"titlefont\": {\"color\": \"rgb(0,0,0)\", \"size\": 20}, \"xaxis\": {\"zeroline\": false, \"range\": [-450, 450], \"showticklabels\": false, \"showgrid\": false}}, {\"linkText\": \"Export to plot.ly\", \"showLink\": false})});</script>"
      ]
     },
     "metadata": {},
     "output_type": "display_data"
    }
   ],
   "source": [
    "phases = ['Step %d' % i for i in range(1, 5)]\n",
    "values = fdf.iloc[0].values\n",
    "\n",
    "plot_funnel(phases, values)"
   ]
  },
  {
   "cell_type": "markdown",
   "metadata": {},
   "source": [
    "### Добавим еще шагов"
   ]
  },
  {
   "cell_type": "code",
   "execution_count": 27,
   "metadata": {},
   "outputs": [
    {
     "ename": "ValueError",
     "evalue": "Code: 160, e.displayText() = DB::Exception: Pattern application proves too difficult, exceeding max iterations (1000000), e.what() = DB::Exception\n",
     "output_type": "error",
     "traceback": [
      "\u001b[0;31m---------------------------------------------------------------------------\u001b[0m",
      "\u001b[0;31mValueError\u001b[0m                                Traceback (most recent call last)",
      "\u001b[0;32m<ipython-input-27-ebc21200f2dc>\u001b[0m in \u001b[0;36m<module>\u001b[0;34m()\u001b[0m\n\u001b[0;32m----> 1\u001b[0;31m \u001b[0mget_ipython\u001b[0m\u001b[0;34m(\u001b[0m\u001b[0;34m)\u001b[0m\u001b[0;34m.\u001b[0m\u001b[0mrun_cell_magic\u001b[0m\u001b[0;34m(\u001b[0m\u001b[0;34mu'time'\u001b[0m\u001b[0;34m,\u001b[0m \u001b[0;34mu''\u001b[0m\u001b[0;34m,\u001b[0m \u001b[0;34mu\"q = '''\\nSELECT\\n    5*sum(step1_achieved) as step1,\\n    5*sum(step2_achieved) as step2,\\n    5*sum(step3_achieved) as step3,\\n    5*sum(step4_achieved) as step4,\\n    5*sum(step5_achieved) as step5,\\n    5*sum(step6_achieved) as step6\\nFROM\\n    (SELECT\\n        ClientID,\\n        max(URL = 'supermarket.ru/main') as step1_achieved,\\n        sequenceMatch('(?1).*(?2)')(EventTime, URL = 'supermarket.ru/main', \\n          URL = 'supermarket.ru/catalog') as step2_achieved,\\n        sequenceMatch('(?1).*(?2).*(?3)')(EventTime, URL = 'supermarket.ru/main', \\n          URL = 'supermarket.ru/catalog', URL = 'supermarket.ru/product') as step3_achieved,\\n        sequenceMatch('(?1).*(?2).*(?3).*(?4)')(EventTime, URL = 'supermarket.ru/main', \\n          URL = 'supermarket.ru/catalog', URL = 'supermarket.ru/product', \\n          URL = 'supermarket.ru/basket') as step4_achieved,\\n        sequenceMatch('(?1).*(?2).*(?3).*(?4).*(?5)')(EventTime, URL = 'supermarket.ru/main', \\n          URL = 'supermarket.ru/catalog', URL = 'supermarket.ru/product', \\n          URL = 'supermarket.ru/basket', URL = 'supermarket.ru/finish_order') as step5_achieved,\\n        sequenceMatch('(?1).*(?2).*(?3).*(?4).*(?5).*(?6)')(EventTime, URL = 'supermarket.ru/main', \\n          URL = 'supermarket.ru/catalog', URL = 'supermarket.ru/product', \\n          URL = 'supermarket.ru/basket', URL = 'supermarket.ru/finish_order', URL = 'supermarket.ru/user_profile') as step6_achieved\\n    FROM\\n        (SELECT\\n            ClientID,\\n            groupArray(EventTime) as times,\\n            groupArray(URL) as urls,\\n            arrayEnumerate(urls) as indexes,\\n            arrayFilter(url, index -> (index = 1) or (urls[index] != urls[index - 1]), urls, indexes) as filt_urls,\\n            arrayFilter(time, index -> (index = 1) or (urls[index] != urls[index - 1]), times, indexes) as filt_times\\n        FROM\\n            (SELECT * FROM visits SAMPLE 1/5 ORDER BY ClientID, EventTime)\\n        GROUP BY ClientID)\\n    ARRAY JOIN filt_urls as URL, filt_times as EventTime\\n    GROUP BY ClientID)\\nFORMAT TabSeparatedWithNames\\n'''\\n\\nfdf = get_clickhouse_df(q)\"\u001b[0m\u001b[0;34m)\u001b[0m\u001b[0;34m\u001b[0m\u001b[0m\n\u001b[0m",
      "\u001b[0;32m/Users/miptgirl/anaconda/lib/python2.7/site-packages/IPython/core/interactiveshell.pyc\u001b[0m in \u001b[0;36mrun_cell_magic\u001b[0;34m(self, magic_name, line, cell)\u001b[0m\n\u001b[1;32m   2113\u001b[0m             \u001b[0mmagic_arg_s\u001b[0m \u001b[0;34m=\u001b[0m \u001b[0mself\u001b[0m\u001b[0;34m.\u001b[0m\u001b[0mvar_expand\u001b[0m\u001b[0;34m(\u001b[0m\u001b[0mline\u001b[0m\u001b[0;34m,\u001b[0m \u001b[0mstack_depth\u001b[0m\u001b[0;34m)\u001b[0m\u001b[0;34m\u001b[0m\u001b[0m\n\u001b[1;32m   2114\u001b[0m             \u001b[0;32mwith\u001b[0m \u001b[0mself\u001b[0m\u001b[0;34m.\u001b[0m\u001b[0mbuiltin_trap\u001b[0m\u001b[0;34m:\u001b[0m\u001b[0;34m\u001b[0m\u001b[0m\n\u001b[0;32m-> 2115\u001b[0;31m                 \u001b[0mresult\u001b[0m \u001b[0;34m=\u001b[0m \u001b[0mfn\u001b[0m\u001b[0;34m(\u001b[0m\u001b[0mmagic_arg_s\u001b[0m\u001b[0;34m,\u001b[0m \u001b[0mcell\u001b[0m\u001b[0;34m)\u001b[0m\u001b[0;34m\u001b[0m\u001b[0m\n\u001b[0m\u001b[1;32m   2116\u001b[0m             \u001b[0;32mreturn\u001b[0m \u001b[0mresult\u001b[0m\u001b[0;34m\u001b[0m\u001b[0m\n\u001b[1;32m   2117\u001b[0m \u001b[0;34m\u001b[0m\u001b[0m\n",
      "\u001b[0;32m<decorator-gen-59>\u001b[0m in \u001b[0;36mtime\u001b[0;34m(self, line, cell, local_ns)\u001b[0m\n",
      "\u001b[0;32m/Users/miptgirl/anaconda/lib/python2.7/site-packages/IPython/core/magic.pyc\u001b[0m in \u001b[0;36m<lambda>\u001b[0;34m(f, *a, **k)\u001b[0m\n\u001b[1;32m    186\u001b[0m     \u001b[0;31m# but it's overkill for just that one bit of state.\u001b[0m\u001b[0;34m\u001b[0m\u001b[0;34m\u001b[0m\u001b[0m\n\u001b[1;32m    187\u001b[0m     \u001b[0;32mdef\u001b[0m \u001b[0mmagic_deco\u001b[0m\u001b[0;34m(\u001b[0m\u001b[0marg\u001b[0m\u001b[0;34m)\u001b[0m\u001b[0;34m:\u001b[0m\u001b[0;34m\u001b[0m\u001b[0m\n\u001b[0;32m--> 188\u001b[0;31m         \u001b[0mcall\u001b[0m \u001b[0;34m=\u001b[0m \u001b[0;32mlambda\u001b[0m \u001b[0mf\u001b[0m\u001b[0;34m,\u001b[0m \u001b[0;34m*\u001b[0m\u001b[0ma\u001b[0m\u001b[0;34m,\u001b[0m \u001b[0;34m**\u001b[0m\u001b[0mk\u001b[0m\u001b[0;34m:\u001b[0m \u001b[0mf\u001b[0m\u001b[0;34m(\u001b[0m\u001b[0;34m*\u001b[0m\u001b[0ma\u001b[0m\u001b[0;34m,\u001b[0m \u001b[0;34m**\u001b[0m\u001b[0mk\u001b[0m\u001b[0;34m)\u001b[0m\u001b[0;34m\u001b[0m\u001b[0m\n\u001b[0m\u001b[1;32m    189\u001b[0m \u001b[0;34m\u001b[0m\u001b[0m\n\u001b[1;32m    190\u001b[0m         \u001b[0;32mif\u001b[0m \u001b[0mcallable\u001b[0m\u001b[0;34m(\u001b[0m\u001b[0marg\u001b[0m\u001b[0;34m)\u001b[0m\u001b[0;34m:\u001b[0m\u001b[0;34m\u001b[0m\u001b[0m\n",
      "\u001b[0;32m/Users/miptgirl/anaconda/lib/python2.7/site-packages/IPython/core/magics/execution.pyc\u001b[0m in \u001b[0;36mtime\u001b[0;34m(self, line, cell, local_ns)\u001b[0m\n\u001b[1;32m   1178\u001b[0m         \u001b[0;32melse\u001b[0m\u001b[0;34m:\u001b[0m\u001b[0;34m\u001b[0m\u001b[0m\n\u001b[1;32m   1179\u001b[0m             \u001b[0mst\u001b[0m \u001b[0;34m=\u001b[0m \u001b[0mclock2\u001b[0m\u001b[0;34m(\u001b[0m\u001b[0;34m)\u001b[0m\u001b[0;34m\u001b[0m\u001b[0m\n\u001b[0;32m-> 1180\u001b[0;31m             \u001b[0;32mexec\u001b[0m\u001b[0;34m(\u001b[0m\u001b[0mcode\u001b[0m\u001b[0;34m,\u001b[0m \u001b[0mglob\u001b[0m\u001b[0;34m,\u001b[0m \u001b[0mlocal_ns\u001b[0m\u001b[0;34m)\u001b[0m\u001b[0;34m\u001b[0m\u001b[0m\n\u001b[0m\u001b[1;32m   1181\u001b[0m             \u001b[0mend\u001b[0m \u001b[0;34m=\u001b[0m \u001b[0mclock2\u001b[0m\u001b[0;34m(\u001b[0m\u001b[0;34m)\u001b[0m\u001b[0;34m\u001b[0m\u001b[0m\n\u001b[1;32m   1182\u001b[0m             \u001b[0mout\u001b[0m \u001b[0;34m=\u001b[0m \u001b[0mNone\u001b[0m\u001b[0;34m\u001b[0m\u001b[0m\n",
      "\u001b[0;32m<timed exec>\u001b[0m in \u001b[0;36m<module>\u001b[0;34m()\u001b[0m\n",
      "\u001b[0;32m<ipython-input-1-1dad9a55ecde>\u001b[0m in \u001b[0;36mget_clickhouse_df\u001b[0;34m(query, host, connection_timeout)\u001b[0m\n\u001b[1;32m     20\u001b[0m \u001b[0;34m\u001b[0m\u001b[0m\n\u001b[1;32m     21\u001b[0m \u001b[0;32mdef\u001b[0m \u001b[0mget_clickhouse_df\u001b[0m\u001b[0;34m(\u001b[0m\u001b[0mquery\u001b[0m\u001b[0;34m,\u001b[0m \u001b[0mhost\u001b[0m \u001b[0;34m=\u001b[0m \u001b[0mHOST\u001b[0m\u001b[0;34m,\u001b[0m \u001b[0mconnection_timeout\u001b[0m \u001b[0;34m=\u001b[0m \u001b[0;36m1500\u001b[0m\u001b[0;34m)\u001b[0m\u001b[0;34m:\u001b[0m\u001b[0;34m\u001b[0m\u001b[0m\n\u001b[0;32m---> 22\u001b[0;31m     \u001b[0mdata\u001b[0m \u001b[0;34m=\u001b[0m \u001b[0mget_clickhouse_data\u001b[0m\u001b[0;34m(\u001b[0m\u001b[0mquery\u001b[0m\u001b[0;34m,\u001b[0m \u001b[0mhost\u001b[0m\u001b[0;34m,\u001b[0m \u001b[0mconnection_timeout\u001b[0m\u001b[0;34m)\u001b[0m\u001b[0;34m\u001b[0m\u001b[0m\n\u001b[0m\u001b[1;32m     23\u001b[0m     \u001b[0mdf\u001b[0m \u001b[0;34m=\u001b[0m \u001b[0mpd\u001b[0m\u001b[0;34m.\u001b[0m\u001b[0mread_csv\u001b[0m\u001b[0;34m(\u001b[0m\u001b[0mStringIO\u001b[0m\u001b[0;34m.\u001b[0m\u001b[0mStringIO\u001b[0m\u001b[0;34m(\u001b[0m\u001b[0mdata\u001b[0m\u001b[0;34m)\u001b[0m\u001b[0;34m,\u001b[0m \u001b[0msep\u001b[0m \u001b[0;34m=\u001b[0m \u001b[0;34m'\\t'\u001b[0m\u001b[0;34m)\u001b[0m\u001b[0;34m\u001b[0m\u001b[0m\n\u001b[1;32m     24\u001b[0m     \u001b[0;32mreturn\u001b[0m \u001b[0mdf\u001b[0m\u001b[0;34m\u001b[0m\u001b[0m\n",
      "\u001b[0;32m<ipython-input-1-1dad9a55ecde>\u001b[0m in \u001b[0;36mget_clickhouse_data\u001b[0;34m(query, host, connection_timeout)\u001b[0m\n\u001b[1;32m     17\u001b[0m         \u001b[0;32mreturn\u001b[0m \u001b[0mr\u001b[0m\u001b[0;34m.\u001b[0m\u001b[0mtext\u001b[0m\u001b[0;34m\u001b[0m\u001b[0m\n\u001b[1;32m     18\u001b[0m     \u001b[0;32melse\u001b[0m\u001b[0;34m:\u001b[0m\u001b[0;34m\u001b[0m\u001b[0m\n\u001b[0;32m---> 19\u001b[0;31m         \u001b[0;32mraise\u001b[0m \u001b[0mValueError\u001b[0m\u001b[0;34m,\u001b[0m \u001b[0mr\u001b[0m\u001b[0;34m.\u001b[0m\u001b[0mtext\u001b[0m\u001b[0;34m\u001b[0m\u001b[0m\n\u001b[0m\u001b[1;32m     20\u001b[0m \u001b[0;34m\u001b[0m\u001b[0m\n\u001b[1;32m     21\u001b[0m \u001b[0;32mdef\u001b[0m \u001b[0mget_clickhouse_df\u001b[0m\u001b[0;34m(\u001b[0m\u001b[0mquery\u001b[0m\u001b[0;34m,\u001b[0m \u001b[0mhost\u001b[0m \u001b[0;34m=\u001b[0m \u001b[0mHOST\u001b[0m\u001b[0;34m,\u001b[0m \u001b[0mconnection_timeout\u001b[0m \u001b[0;34m=\u001b[0m \u001b[0;36m1500\u001b[0m\u001b[0;34m)\u001b[0m\u001b[0;34m:\u001b[0m\u001b[0;34m\u001b[0m\u001b[0m\n",
      "\u001b[0;31mValueError\u001b[0m: Code: 160, e.displayText() = DB::Exception: Pattern application proves too difficult, exceeding max iterations (1000000), e.what() = DB::Exception\n"
     ]
    }
   ],
   "source": [
    "%%time\n",
    "q = '''\n",
    "SELECT\n",
    "    5*sum(step1_achieved) as step1,\n",
    "    5*sum(step2_achieved) as step2,\n",
    "    5*sum(step3_achieved) as step3,\n",
    "    5*sum(step4_achieved) as step4,\n",
    "    5*sum(step5_achieved) as step5,\n",
    "    5*sum(step6_achieved) as step6\n",
    "FROM\n",
    "    (SELECT\n",
    "        ClientID,\n",
    "        max(URL = 'supermarket.ru/main') as step1_achieved,\n",
    "        sequenceMatch('(?1).*(?2)')(EventTime, URL = 'supermarket.ru/main', \n",
    "          URL = 'supermarket.ru/catalog') as step2_achieved,\n",
    "        sequenceMatch('(?1).*(?2).*(?3)')(EventTime, URL = 'supermarket.ru/main', \n",
    "          URL = 'supermarket.ru/catalog', URL = 'supermarket.ru/product') as step3_achieved,\n",
    "        sequenceMatch('(?1).*(?2).*(?3).*(?4)')(EventTime, URL = 'supermarket.ru/main', \n",
    "          URL = 'supermarket.ru/catalog', URL = 'supermarket.ru/product', \n",
    "          URL = 'supermarket.ru/basket') as step4_achieved,\n",
    "        sequenceMatch('(?1).*(?2).*(?3).*(?4).*(?5)')(EventTime, URL = 'supermarket.ru/main', \n",
    "          URL = 'supermarket.ru/catalog', URL = 'supermarket.ru/product', \n",
    "          URL = 'supermarket.ru/basket', URL = 'supermarket.ru/finish_order') as step5_achieved,\n",
    "        sequenceMatch('(?1).*(?2).*(?3).*(?4).*(?5).*(?6)')(EventTime, URL = 'supermarket.ru/main', \n",
    "          URL = 'supermarket.ru/catalog', URL = 'supermarket.ru/product', \n",
    "          URL = 'supermarket.ru/basket', URL = 'supermarket.ru/finish_order', URL = 'supermarket.ru/user_profile') as step6_achieved\n",
    "    FROM\n",
    "        (SELECT\n",
    "            ClientID,\n",
    "            groupArray(EventTime) as times,\n",
    "            groupArray(URL) as urls,\n",
    "            arrayEnumerate(urls) as indexes,\n",
    "            arrayFilter(url, index -> (index = 1) or (urls[index] != urls[index - 1]), urls, indexes) as filt_urls,\n",
    "            arrayFilter(time, index -> (index = 1) or (urls[index] != urls[index - 1]), times, indexes) as filt_times\n",
    "        FROM\n",
    "            (SELECT * FROM visits SAMPLE 1/5 ORDER BY ClientID, EventTime)\n",
    "        GROUP BY ClientID)\n",
    "    ARRAY JOIN filt_urls as URL, filt_times as EventTime\n",
    "    GROUP BY ClientID)\n",
    "FORMAT TabSeparatedWithNames\n",
    "'''\n",
    "\n",
    "fdf = get_clickhouse_df(q)"
   ]
  },
  {
   "cell_type": "markdown",
   "metadata": {},
   "source": [
    "## Пойдем другим путем"
   ]
  },
  {
   "cell_type": "code",
   "execution_count": 28,
   "metadata": {},
   "outputs": [
    {
     "data": {
      "text/html": [
       "<div>\n",
       "<style scoped>\n",
       "    .dataframe tbody tr th:only-of-type {\n",
       "        vertical-align: middle;\n",
       "    }\n",
       "\n",
       "    .dataframe tbody tr th {\n",
       "        vertical-align: top;\n",
       "    }\n",
       "\n",
       "    .dataframe thead th {\n",
       "        text-align: right;\n",
       "    }\n",
       "</style>\n",
       "<table border=\"1\" class=\"dataframe\">\n",
       "  <thead>\n",
       "    <tr style=\"text-align: right;\">\n",
       "      <th></th>\n",
       "      <th>ClientID</th>\n",
       "      <th>times</th>\n",
       "      <th>urls</th>\n",
       "      <th>step1_time</th>\n",
       "    </tr>\n",
       "  </thead>\n",
       "  <tbody>\n",
       "    <tr>\n",
       "      <th>0</th>\n",
       "      <td>1464279176664798753</td>\n",
       "      <td>[1467651234,1467651273,1467651336,1467651425,1467651443,1467654366,1467747511,1467747533]</td>\n",
       "      <td>['supermarket.ru/main','supermarket.ru/catalog','supermarket.ru/product','supermarket.ru/finish_reserve','supermarket.ru/catalog','supermarket.ru/product','supermarket.ru/product','supermarket.ru/product']</td>\n",
       "      <td>1467651234</td>\n",
       "    </tr>\n",
       "    <tr>\n",
       "      <th>1</th>\n",
       "      <td>146446839869868089</td>\n",
       "      <td>[1467736293,1467736447,1467736479,1467736537]</td>\n",
       "      <td>['supermarket.ru/catalog','supermarket.ru/catalog','supermarket.ru/product','supermarket.ru/catalog']</td>\n",
       "      <td>0</td>\n",
       "    </tr>\n",
       "    <tr>\n",
       "      <th>2</th>\n",
       "      <td>1469184715541189697</td>\n",
       "      <td>[1469195519,1469195578,1469195621,1469195654,1469195711,1469195745,1469195850]</td>\n",
       "      <td>['supermarket.ru/main','supermarket.ru/main','supermarket.ru/promo_action_1','supermarket.ru/main','supermarket.ru/search','supermarket.ru/product','supermarket.ru/product']</td>\n",
       "      <td>1469195519</td>\n",
       "    </tr>\n",
       "    <tr>\n",
       "      <th>3</th>\n",
       "      <td>1468981110571788812</td>\n",
       "      <td>[1468995858]</td>\n",
       "      <td>['supermarket.ru/catalog']</td>\n",
       "      <td>0</td>\n",
       "    </tr>\n",
       "    <tr>\n",
       "      <th>4</th>\n",
       "      <td>1469025223567819473</td>\n",
       "      <td>[1469036023,1469036035,1469036063,1469036094,1469036120,1469036136,1469036148,1469036190,1469036515,1469036660,1469036798,1469036815,1469036827,1469037142,1469037147,1469037168]</td>\n",
       "      <td>['supermarket.ru/main','supermarket.ru/search','supermarket.ru/product','supermarket.ru/search','supermarket.ru/product','supermarket.ru/product','supermarket.ru/product','supermarket.ru/product','supermarket.ru/product','supermarket.ru/product','supermarket.ru/promo','supermarket.ru/search','supermarket.ru/product','supermarket.ru/catalog','supermarket.ru/catalog','supermarket.ru/product']</td>\n",
       "      <td>1469036023</td>\n",
       "    </tr>\n",
       "  </tbody>\n",
       "</table>\n",
       "</div>"
      ],
      "text/plain": [
       "              ClientID  \\\n",
       "0  1464279176664798753   \n",
       "1   146446839869868089   \n",
       "2  1469184715541189697   \n",
       "3  1468981110571788812   \n",
       "4  1469025223567819473   \n",
       "\n",
       "                                                                                                                                                                               times  \\\n",
       "0                                                                                          [1467651234,1467651273,1467651336,1467651425,1467651443,1467654366,1467747511,1467747533]   \n",
       "1                                                                                                                                      [1467736293,1467736447,1467736479,1467736537]   \n",
       "2                                                                                                     [1469195519,1469195578,1469195621,1469195654,1469195711,1469195745,1469195850]   \n",
       "3                                                                                                                                                                       [1468995858]   \n",
       "4  [1469036023,1469036035,1469036063,1469036094,1469036120,1469036136,1469036148,1469036190,1469036515,1469036660,1469036798,1469036815,1469036827,1469037142,1469037147,1469037168]   \n",
       "\n",
       "                                                                                                                                                                                                                                                                                                                                                                                                        urls  \\\n",
       "0                                                                                                                                                                                              ['supermarket.ru/main','supermarket.ru/catalog','supermarket.ru/product','supermarket.ru/finish_reserve','supermarket.ru/catalog','supermarket.ru/product','supermarket.ru/product','supermarket.ru/product']   \n",
       "1                                                                                                                                                                                                                                                                                                      ['supermarket.ru/catalog','supermarket.ru/catalog','supermarket.ru/product','supermarket.ru/catalog']   \n",
       "2                                                                                                                                                                                                                              ['supermarket.ru/main','supermarket.ru/main','supermarket.ru/promo_action_1','supermarket.ru/main','supermarket.ru/search','supermarket.ru/product','supermarket.ru/product']   \n",
       "3                                                                                                                                                                                                                                                                                                                                                                                 ['supermarket.ru/catalog']   \n",
       "4  ['supermarket.ru/main','supermarket.ru/search','supermarket.ru/product','supermarket.ru/search','supermarket.ru/product','supermarket.ru/product','supermarket.ru/product','supermarket.ru/product','supermarket.ru/product','supermarket.ru/product','supermarket.ru/promo','supermarket.ru/search','supermarket.ru/product','supermarket.ru/catalog','supermarket.ru/catalog','supermarket.ru/product']   \n",
       "\n",
       "   step1_time  \n",
       "0  1467651234  \n",
       "1           0  \n",
       "2  1469195519  \n",
       "3           0  \n",
       "4  1469036023  "
      ]
     },
     "execution_count": 28,
     "metadata": {},
     "output_type": "execute_result"
    }
   ],
   "source": [
    "q = '''\n",
    "SELECT\n",
    "    ClientID,\n",
    "    groupArray(cast(EventTime as UInt64)) as times,\n",
    "    groupArray(URL) as urls,\n",
    "    arrayFilter(time, url -> url = 'supermarket.ru/main', times, urls)[1] as step1_time\n",
    "FROM\n",
    "    (SELECT * FROM visits ORDER BY ClientID, EventTime)\n",
    "GROUP BY ClientID\n",
    "LIMIT 5\n",
    "FORMAT TabSeparatedWithNames\n",
    "'''\n",
    "\n",
    "get_clickhouse_df(q)"
   ]
  },
  {
   "cell_type": "code",
   "execution_count": 29,
   "metadata": {},
   "outputs": [
    {
     "data": {
      "text/html": [
       "<div>\n",
       "<style scoped>\n",
       "    .dataframe tbody tr th:only-of-type {\n",
       "        vertical-align: middle;\n",
       "    }\n",
       "\n",
       "    .dataframe tbody tr th {\n",
       "        vertical-align: top;\n",
       "    }\n",
       "\n",
       "    .dataframe thead th {\n",
       "        text-align: right;\n",
       "    }\n",
       "</style>\n",
       "<table border=\"1\" class=\"dataframe\">\n",
       "  <thead>\n",
       "    <tr style=\"text-align: right;\">\n",
       "      <th></th>\n",
       "      <th>ClientID</th>\n",
       "      <th>times</th>\n",
       "      <th>urls</th>\n",
       "      <th>step1_time</th>\n",
       "      <th>step2_time</th>\n",
       "    </tr>\n",
       "  </thead>\n",
       "  <tbody>\n",
       "    <tr>\n",
       "      <th>0</th>\n",
       "      <td>1464279176664798753</td>\n",
       "      <td>[1467651234,1467651273,1467651336,1467651425,1467651443,1467654366,1467747511,1467747533]</td>\n",
       "      <td>['supermarket.ru/main','supermarket.ru/catalog','supermarket.ru/product','supermarket.ru/finish_reserve','supermarket.ru/catalog','supermarket.ru/product','supermarket.ru/product','supermarket.ru/product']</td>\n",
       "      <td>1467651234</td>\n",
       "      <td>1467651273</td>\n",
       "    </tr>\n",
       "    <tr>\n",
       "      <th>1</th>\n",
       "      <td>146446839869868089</td>\n",
       "      <td>[1467736293,1467736447,1467736479,1467736537]</td>\n",
       "      <td>['supermarket.ru/catalog','supermarket.ru/catalog','supermarket.ru/product','supermarket.ru/catalog']</td>\n",
       "      <td>0</td>\n",
       "      <td>0</td>\n",
       "    </tr>\n",
       "    <tr>\n",
       "      <th>2</th>\n",
       "      <td>1469184715541189697</td>\n",
       "      <td>[1469195519,1469195578,1469195621,1469195654,1469195711,1469195745,1469195850]</td>\n",
       "      <td>['supermarket.ru/main','supermarket.ru/main','supermarket.ru/promo_action_1','supermarket.ru/main','supermarket.ru/search','supermarket.ru/product','supermarket.ru/product']</td>\n",
       "      <td>1469195519</td>\n",
       "      <td>0</td>\n",
       "    </tr>\n",
       "    <tr>\n",
       "      <th>3</th>\n",
       "      <td>1468981110571788812</td>\n",
       "      <td>[1468995858]</td>\n",
       "      <td>['supermarket.ru/catalog']</td>\n",
       "      <td>0</td>\n",
       "      <td>0</td>\n",
       "    </tr>\n",
       "    <tr>\n",
       "      <th>4</th>\n",
       "      <td>1469025223567819473</td>\n",
       "      <td>[1469036023,1469036035,1469036063,1469036094,1469036120,1469036136,1469036148,1469036190,1469036515,1469036660,1469036798,1469036815,1469036827,1469037142,1469037147,1469037168]</td>\n",
       "      <td>['supermarket.ru/main','supermarket.ru/search','supermarket.ru/product','supermarket.ru/search','supermarket.ru/product','supermarket.ru/product','supermarket.ru/product','supermarket.ru/product','supermarket.ru/product','supermarket.ru/product','supermarket.ru/promo','supermarket.ru/search','supermarket.ru/product','supermarket.ru/catalog','supermarket.ru/catalog','supermarket.ru/product']</td>\n",
       "      <td>1469036023</td>\n",
       "      <td>1469037142</td>\n",
       "    </tr>\n",
       "  </tbody>\n",
       "</table>\n",
       "</div>"
      ],
      "text/plain": [
       "              ClientID  \\\n",
       "0  1464279176664798753   \n",
       "1   146446839869868089   \n",
       "2  1469184715541189697   \n",
       "3  1468981110571788812   \n",
       "4  1469025223567819473   \n",
       "\n",
       "                                                                                                                                                                               times  \\\n",
       "0                                                                                          [1467651234,1467651273,1467651336,1467651425,1467651443,1467654366,1467747511,1467747533]   \n",
       "1                                                                                                                                      [1467736293,1467736447,1467736479,1467736537]   \n",
       "2                                                                                                     [1469195519,1469195578,1469195621,1469195654,1469195711,1469195745,1469195850]   \n",
       "3                                                                                                                                                                       [1468995858]   \n",
       "4  [1469036023,1469036035,1469036063,1469036094,1469036120,1469036136,1469036148,1469036190,1469036515,1469036660,1469036798,1469036815,1469036827,1469037142,1469037147,1469037168]   \n",
       "\n",
       "                                                                                                                                                                                                                                                                                                                                                                                                        urls  \\\n",
       "0                                                                                                                                                                                              ['supermarket.ru/main','supermarket.ru/catalog','supermarket.ru/product','supermarket.ru/finish_reserve','supermarket.ru/catalog','supermarket.ru/product','supermarket.ru/product','supermarket.ru/product']   \n",
       "1                                                                                                                                                                                                                                                                                                      ['supermarket.ru/catalog','supermarket.ru/catalog','supermarket.ru/product','supermarket.ru/catalog']   \n",
       "2                                                                                                                                                                                                                              ['supermarket.ru/main','supermarket.ru/main','supermarket.ru/promo_action_1','supermarket.ru/main','supermarket.ru/search','supermarket.ru/product','supermarket.ru/product']   \n",
       "3                                                                                                                                                                                                                                                                                                                                                                                 ['supermarket.ru/catalog']   \n",
       "4  ['supermarket.ru/main','supermarket.ru/search','supermarket.ru/product','supermarket.ru/search','supermarket.ru/product','supermarket.ru/product','supermarket.ru/product','supermarket.ru/product','supermarket.ru/product','supermarket.ru/product','supermarket.ru/promo','supermarket.ru/search','supermarket.ru/product','supermarket.ru/catalog','supermarket.ru/catalog','supermarket.ru/product']   \n",
       "\n",
       "   step1_time  step2_time  \n",
       "0  1467651234  1467651273  \n",
       "1           0           0  \n",
       "2  1469195519           0  \n",
       "3           0           0  \n",
       "4  1469036023  1469037142  "
      ]
     },
     "execution_count": 29,
     "metadata": {},
     "output_type": "execute_result"
    }
   ],
   "source": [
    "q = '''\n",
    "SELECT\n",
    "    ClientID,\n",
    "    groupArray(cast(EventTime as UInt64)) as times,\n",
    "    groupArray(URL) as urls,\n",
    "    arrayFilter(time, url -> url = 'supermarket.ru/main', times, urls)[1] as step1_time,\n",
    "    arrayFilter(time, url -> url = 'supermarket.ru/catalog' and step1_time != 0 and time >= step1_time, times, urls)[1] as step2_time\n",
    "FROM\n",
    "    (SELECT * FROM visits ORDER BY ClientID, EventTime)\n",
    "GROUP BY ClientID\n",
    "LIMIT 5\n",
    "FORMAT TabSeparatedWithNames\n",
    "'''\n",
    "\n",
    "get_clickhouse_df(q)"
   ]
  },
  {
   "cell_type": "code",
   "execution_count": 32,
   "metadata": {},
   "outputs": [],
   "source": [
    "q = '''\n",
    "SELECT\n",
    "    5*countIf(step1_time != 0) as step1,\n",
    "    5*countIf(step2_time != 0) as step2,\n",
    "    5*countIf(step3_time != 0) as step3,\n",
    "    5*countIf(step4_time != 0) as step4,\n",
    "    5*countIf(step5_time != 0) as step5,\n",
    "    5*countIf(step6_time != 0) as step6\n",
    "FROM\n",
    "    (SELECT\n",
    "        ClientID,\n",
    "        groupArray(cast(EventTime as UInt64)) as times,\n",
    "        groupArray(URL) as urls,\n",
    "        arrayFilter(time, url -> url = 'supermarket.ru/main', times, urls)[1] as step1_time,\n",
    "        arrayFilter(time, url -> url = 'supermarket.ru/catalog' and step1_time != 0 and time >= step1_time, times, urls)[1] as step2_time,\n",
    "        arrayFilter(time, url -> url = 'supermarket.ru/product' and step2_time != 0 and time >= step2_time, times, urls)[1] as step3_time,\n",
    "        arrayFilter(time, url -> url = 'supermarket.ru/basket' and step3_time != 0 and time >= step3_time, times, urls)[1] as step4_time,\n",
    "        arrayFilter(time, url -> url = 'supermarket.ru/finish_order' and step4_time != 0 and time >= step4_time, times, urls)[1] as step5_time,\n",
    "        arrayFilter(time, url -> url = 'supermarket.ru/user_profile' and step5_time != 0 and time >= step5_time, times, urls)[1] as step6_time\n",
    "    FROM\n",
    "        (SELECT * FROM visits SAMPLE 1/5 ORDER BY ClientID, EventTime)\n",
    "    GROUP BY ClientID)\n",
    "FORMAT TabSeparatedWithNames\n",
    "'''\n",
    "\n",
    "fdf = get_clickhouse_df(q)"
   ]
  },
  {
   "cell_type": "code",
   "execution_count": 33,
   "metadata": {},
   "outputs": [
    {
     "name": "stdout",
     "output_type": "stream",
     "text": [
      "[500, 315, 212, 10, 2, 0]\n"
     ]
    },
    {
     "data": {
      "application/vnd.plotly.v1+json": {
       "data": [
        {
         "mode": "text",
         "text": [
          "Step 1",
          "Step 2",
          "Step 3",
          "Step 4",
          "Step 5"
         ],
         "textfont": {
          "color": "rgb(40,40,40)",
          "size": 15
         },
         "type": "scatter",
         "x": [
          -350,
          -350,
          -350,
          -350,
          -350
         ],
         "y": [
          490,
          380,
          270,
          160,
          50
         ]
        },
        {
         "mode": "text",
         "text": [
          454315,
          286325,
          193480,
          9205,
          2625,
          880
         ],
         "textfont": {
          "color": "rgb(40,40,40)",
          "size": 15
         },
         "type": "scatter",
         "x": [
          350,
          350,
          350,
          350,
          350
         ],
         "y": [
          490,
          380,
          270,
          160,
          50
         ]
        }
       ],
       "layout": {
        "height": 560,
        "paper_bgcolor": "rgba(255,255,255,1)",
        "plot_bgcolor": "rgba(255,255,255,1)",
        "shapes": [
         {
          "fillcolor": "#d54936",
          "line": {
           "color": "#d54936",
           "width": 1
          },
          "path": "M 250 540 L 157 440 L -157 440 L -250 540 Z",
          "type": "path"
         },
         {
          "fillcolor": "#faca34",
          "line": {
           "color": "#faca34",
           "width": 1
          },
          "path": "M 157 430 L 106 330 L -106 330 L -157 430 Z",
          "type": "path"
         },
         {
          "fillcolor": "#437cba",
          "line": {
           "color": "#437cba",
           "width": 1
          },
          "path": "M 106 320 L 5 220 L -5 220 L -106 320 Z",
          "type": "path"
         },
         {
          "fillcolor": "#8bc34a",
          "line": {
           "color": "#8bc34a",
           "width": 1
          },
          "path": "M 5 210 L 1 110 L -1 110 L -5 210 Z",
          "type": "path"
         },
         {
          "fillcolor": "#795548",
          "line": {
           "color": "#795548",
           "width": 1
          },
          "path": "M 1 100 L 1 0 L -1 0 L -1 100 Z",
          "type": "path"
         }
        ],
        "showlegend": false,
        "title": "<b>Funnel Chart</b>",
        "titlefont": {
         "color": "rgb(0,0,0)",
         "size": 20
        },
        "width": 800,
        "xaxis": {
         "range": [
          -450,
          450
         ],
         "showgrid": false,
         "showticklabels": false,
         "zeroline": false
        },
        "yaxis": {
         "showgrid": false,
         "showticklabels": false,
         "zeroline": false
        }
       }
      },
      "text/html": [
       "<div id=\"418eebb1-ab44-4b92-988a-8aa83734f3da\" style=\"height: 560px; width: 800px;\" class=\"plotly-graph-div\"></div><script type=\"text/javascript\">require([\"plotly\"], function(Plotly) { window.PLOTLYENV=window.PLOTLYENV || {};window.PLOTLYENV.BASE_URL=\"https://plot.ly\";Plotly.newPlot(\"418eebb1-ab44-4b92-988a-8aa83734f3da\", [{\"textfont\": {\"color\": \"rgb(40,40,40)\", \"size\": 15}, \"text\": [\"Step 1\", \"Step 2\", \"Step 3\", \"Step 4\", \"Step 5\"], \"mode\": \"text\", \"y\": [490, 380, 270, 160, 50], \"x\": [-350, -350, -350, -350, -350], \"type\": \"scatter\"}, {\"textfont\": {\"color\": \"rgb(40,40,40)\", \"size\": 15}, \"text\": [454315, 286325, 193480, 9205, 2625, 880], \"mode\": \"text\", \"y\": [490, 380, 270, 160, 50], \"x\": [350, 350, 350, 350, 350], \"type\": \"scatter\"}], {\"showlegend\": false, \"yaxis\": {\"zeroline\": false, \"showticklabels\": false, \"showgrid\": false}, \"paper_bgcolor\": \"rgba(255,255,255,1)\", \"plot_bgcolor\": \"rgba(255,255,255,1)\", \"title\": \"<b>Funnel Chart</b>\", \"height\": 560, \"shapes\": [{\"path\": \"M 250 540 L 157 440 L -157 440 L -250 540 Z\", \"line\": {\"color\": \"#d54936\", \"width\": 1}, \"type\": \"path\", \"fillcolor\": \"#d54936\"}, {\"path\": \"M 157 430 L 106 330 L -106 330 L -157 430 Z\", \"line\": {\"color\": \"#faca34\", \"width\": 1}, \"type\": \"path\", \"fillcolor\": \"#faca34\"}, {\"path\": \"M 106 320 L 5 220 L -5 220 L -106 320 Z\", \"line\": {\"color\": \"#437cba\", \"width\": 1}, \"type\": \"path\", \"fillcolor\": \"#437cba\"}, {\"path\": \"M 5 210 L 1 110 L -1 110 L -5 210 Z\", \"line\": {\"color\": \"#8bc34a\", \"width\": 1}, \"type\": \"path\", \"fillcolor\": \"#8bc34a\"}, {\"path\": \"M 1 100 L 1 0 L -1 0 L -1 100 Z\", \"line\": {\"color\": \"#795548\", \"width\": 1}, \"type\": \"path\", \"fillcolor\": \"#795548\"}], \"width\": 800, \"titlefont\": {\"color\": \"rgb(0,0,0)\", \"size\": 20}, \"xaxis\": {\"zeroline\": false, \"range\": [-450, 450], \"showticklabels\": false, \"showgrid\": false}}, {\"linkText\": \"Export to plot.ly\", \"showLink\": false})});</script>"
      ],
      "text/vnd.plotly.v1+html": [
       "<div id=\"418eebb1-ab44-4b92-988a-8aa83734f3da\" style=\"height: 560px; width: 800px;\" class=\"plotly-graph-div\"></div><script type=\"text/javascript\">require([\"plotly\"], function(Plotly) { window.PLOTLYENV=window.PLOTLYENV || {};window.PLOTLYENV.BASE_URL=\"https://plot.ly\";Plotly.newPlot(\"418eebb1-ab44-4b92-988a-8aa83734f3da\", [{\"textfont\": {\"color\": \"rgb(40,40,40)\", \"size\": 15}, \"text\": [\"Step 1\", \"Step 2\", \"Step 3\", \"Step 4\", \"Step 5\"], \"mode\": \"text\", \"y\": [490, 380, 270, 160, 50], \"x\": [-350, -350, -350, -350, -350], \"type\": \"scatter\"}, {\"textfont\": {\"color\": \"rgb(40,40,40)\", \"size\": 15}, \"text\": [454315, 286325, 193480, 9205, 2625, 880], \"mode\": \"text\", \"y\": [490, 380, 270, 160, 50], \"x\": [350, 350, 350, 350, 350], \"type\": \"scatter\"}], {\"showlegend\": false, \"yaxis\": {\"zeroline\": false, \"showticklabels\": false, \"showgrid\": false}, \"paper_bgcolor\": \"rgba(255,255,255,1)\", \"plot_bgcolor\": \"rgba(255,255,255,1)\", \"title\": \"<b>Funnel Chart</b>\", \"height\": 560, \"shapes\": [{\"path\": \"M 250 540 L 157 440 L -157 440 L -250 540 Z\", \"line\": {\"color\": \"#d54936\", \"width\": 1}, \"type\": \"path\", \"fillcolor\": \"#d54936\"}, {\"path\": \"M 157 430 L 106 330 L -106 330 L -157 430 Z\", \"line\": {\"color\": \"#faca34\", \"width\": 1}, \"type\": \"path\", \"fillcolor\": \"#faca34\"}, {\"path\": \"M 106 320 L 5 220 L -5 220 L -106 320 Z\", \"line\": {\"color\": \"#437cba\", \"width\": 1}, \"type\": \"path\", \"fillcolor\": \"#437cba\"}, {\"path\": \"M 5 210 L 1 110 L -1 110 L -5 210 Z\", \"line\": {\"color\": \"#8bc34a\", \"width\": 1}, \"type\": \"path\", \"fillcolor\": \"#8bc34a\"}, {\"path\": \"M 1 100 L 1 0 L -1 0 L -1 100 Z\", \"line\": {\"color\": \"#795548\", \"width\": 1}, \"type\": \"path\", \"fillcolor\": \"#795548\"}], \"width\": 800, \"titlefont\": {\"color\": \"rgb(0,0,0)\", \"size\": 20}, \"xaxis\": {\"zeroline\": false, \"range\": [-450, 450], \"showticklabels\": false, \"showgrid\": false}}, {\"linkText\": \"Export to plot.ly\", \"showLink\": false})});</script>"
      ]
     },
     "metadata": {},
     "output_type": "display_data"
    }
   ],
   "source": [
    "phases = ['Step %d' % i for i in range(1, 6)]\n",
    "values = fdf.iloc[0].values\n",
    "\n",
    "plot_funnel(phases, values)"
   ]
  },
  {
   "cell_type": "code",
   "execution_count": null,
   "metadata": {
    "collapsed": true
   },
   "outputs": [],
   "source": []
  }
 ],
 "metadata": {
  "kernelspec": {
   "display_name": "Python 3",
   "language": "python",
   "name": "python3"
  },
  "language_info": {
   "codemirror_mode": {
    "name": "ipython",
    "version": 3
   },
   "file_extension": ".py",
   "mimetype": "text/x-python",
   "name": "python",
   "nbconvert_exporter": "python",
   "pygments_lexer": "ipython3",
   "version": "3.6.5"
  }
 },
 "nbformat": 4,
 "nbformat_minor": 2
}
