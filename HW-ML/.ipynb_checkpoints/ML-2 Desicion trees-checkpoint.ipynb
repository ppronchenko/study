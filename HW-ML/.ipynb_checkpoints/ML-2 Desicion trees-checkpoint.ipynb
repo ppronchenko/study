{
 "cells": [
  {
   "cell_type": "markdown",
   "metadata": {},
   "source": [
    "# Домашнее задание к занятию 2.1: Деревья решений. Классификация"
   ]
  },
  {
   "cell_type": "markdown",
   "metadata": {},
   "source": [
    "## Обзор прошедшего занятия"
   ]
  },
  {
   "cell_type": "markdown",
   "metadata": {},
   "source": [
    "Что мы делали в классе:\n",
    "\n",
    "**Задание 1**\n",
    "* строили деревья\n",
    "* критерии информативности которых написали даже сами\n",
    "* визуализировали границы принятия решений в 2d\n",
    "* и рисовали сами деревья\n",
    "\n",
    "\n",
    "**Задание 2**\n",
    "* приняли участие в соревновании на Kaggle, переварив кучу текстовых фичей в численные, проведя кросс-валидацию и сделав сабмит\n",
    "\n",
    "\n",
    "**Задание 3**\n",
    "* построили руками несколько метрик качества бинарной классификации\n",
    "\n",
    "\n",
    "**Задание 4**\n",
    "* использовали их для оценки классификации разделения статей Ведомостей по топикам"
   ]
  },
  {
   "cell_type": "markdown",
   "metadata": {},
   "source": [
    "*дополнительно было много приятных ништяков. Например, облако слов, мультипоточность в целях парсинга, удобный инструмент для нахождения правильной css разметки, сохранение моделей в статичные файлы, разделение строк на слова и лемматизация этих слов*"
   ]
  },
  {
   "cell_type": "markdown",
   "metadata": {},
   "source": [
    "## Домашнее задание"
   ]
  },
  {
   "cell_type": "markdown",
   "metadata": {},
   "source": [
    "**Lvl 1:**\n",
    "\n",
    "* взять подготовленные раннее данные из задачи **Titanic**, обучиться на них с помощью дерева решений и кросс-валидации и сделать сабмит\n",
    "* кросс-валидацию желательно сделать сразу по нескольким фичам ( параметр *grid* в *GridSearchCV* )\n",
    "* определить самые важные фичи\n",
    "* вывести дерево решений (можете попробовать установить pydot и webgraphviz для отрисовки деревьев внутри ноутбука)\n",
    "\n",
    "**Результат:** скрины нового сабмита на Kaggle и построенного дерева"
   ]
  },
  {
   "cell_type": "code",
   "execution_count": 1,
   "metadata": {},
   "outputs": [],
   "source": [
    "import numpy as np\n",
    "import pandas as pd"
   ]
  },
  {
   "cell_type": "code",
   "execution_count": 2,
   "metadata": {},
   "outputs": [],
   "source": [
    "from matplotlib import pyplot as plt\n",
    "%matplotlib inline\n",
    "import seaborn as sns\n",
    "\n",
    "%config InlineBackend.figure_format = 'retina'\n",
    "from pylab import rcParams\n",
    "rcParams['figure.figsize'] = (9, 6)"
   ]
  },
  {
   "cell_type": "code",
   "execution_count": 3,
   "metadata": {},
   "outputs": [],
   "source": [
    "train = pd.read_csv('titanic/train.csv')\n",
    "test = pd.read_csv('titanic/test.csv')"
   ]
  },
  {
   "cell_type": "code",
   "execution_count": 4,
   "metadata": {
    "scrolled": true
   },
   "outputs": [
    {
     "data": {
      "text/html": [
       "<div>\n",
       "<style scoped>\n",
       "    .dataframe tbody tr th:only-of-type {\n",
       "        vertical-align: middle;\n",
       "    }\n",
       "\n",
       "    .dataframe tbody tr th {\n",
       "        vertical-align: top;\n",
       "    }\n",
       "\n",
       "    .dataframe thead th {\n",
       "        text-align: right;\n",
       "    }\n",
       "</style>\n",
       "<table border=\"1\" class=\"dataframe\">\n",
       "  <thead>\n",
       "    <tr style=\"text-align: right;\">\n",
       "      <th></th>\n",
       "      <th>PassengerId</th>\n",
       "      <th>Survived</th>\n",
       "      <th>Pclass</th>\n",
       "      <th>Name</th>\n",
       "      <th>Sex</th>\n",
       "      <th>Age</th>\n",
       "      <th>SibSp</th>\n",
       "      <th>Parch</th>\n",
       "      <th>Ticket</th>\n",
       "      <th>Fare</th>\n",
       "      <th>Cabin</th>\n",
       "      <th>Embarked</th>\n",
       "    </tr>\n",
       "  </thead>\n",
       "  <tbody>\n",
       "    <tr>\n",
       "      <th>0</th>\n",
       "      <td>1</td>\n",
       "      <td>0</td>\n",
       "      <td>3</td>\n",
       "      <td>Braund, Mr. Owen Harris</td>\n",
       "      <td>male</td>\n",
       "      <td>22.0</td>\n",
       "      <td>1</td>\n",
       "      <td>0</td>\n",
       "      <td>A/5 21171</td>\n",
       "      <td>7.2500</td>\n",
       "      <td>NaN</td>\n",
       "      <td>S</td>\n",
       "    </tr>\n",
       "    <tr>\n",
       "      <th>1</th>\n",
       "      <td>2</td>\n",
       "      <td>1</td>\n",
       "      <td>1</td>\n",
       "      <td>Cumings, Mrs. John Bradley (Florence Briggs Th...</td>\n",
       "      <td>female</td>\n",
       "      <td>38.0</td>\n",
       "      <td>1</td>\n",
       "      <td>0</td>\n",
       "      <td>PC 17599</td>\n",
       "      <td>71.2833</td>\n",
       "      <td>C85</td>\n",
       "      <td>C</td>\n",
       "    </tr>\n",
       "    <tr>\n",
       "      <th>2</th>\n",
       "      <td>3</td>\n",
       "      <td>1</td>\n",
       "      <td>3</td>\n",
       "      <td>Heikkinen, Miss. Laina</td>\n",
       "      <td>female</td>\n",
       "      <td>26.0</td>\n",
       "      <td>0</td>\n",
       "      <td>0</td>\n",
       "      <td>STON/O2. 3101282</td>\n",
       "      <td>7.9250</td>\n",
       "      <td>NaN</td>\n",
       "      <td>S</td>\n",
       "    </tr>\n",
       "    <tr>\n",
       "      <th>3</th>\n",
       "      <td>4</td>\n",
       "      <td>1</td>\n",
       "      <td>1</td>\n",
       "      <td>Futrelle, Mrs. Jacques Heath (Lily May Peel)</td>\n",
       "      <td>female</td>\n",
       "      <td>35.0</td>\n",
       "      <td>1</td>\n",
       "      <td>0</td>\n",
       "      <td>113803</td>\n",
       "      <td>53.1000</td>\n",
       "      <td>C123</td>\n",
       "      <td>S</td>\n",
       "    </tr>\n",
       "    <tr>\n",
       "      <th>4</th>\n",
       "      <td>5</td>\n",
       "      <td>0</td>\n",
       "      <td>3</td>\n",
       "      <td>Allen, Mr. William Henry</td>\n",
       "      <td>male</td>\n",
       "      <td>35.0</td>\n",
       "      <td>0</td>\n",
       "      <td>0</td>\n",
       "      <td>373450</td>\n",
       "      <td>8.0500</td>\n",
       "      <td>NaN</td>\n",
       "      <td>S</td>\n",
       "    </tr>\n",
       "  </tbody>\n",
       "</table>\n",
       "</div>"
      ],
      "text/plain": [
       "   PassengerId  Survived  Pclass  \\\n",
       "0            1         0       3   \n",
       "1            2         1       1   \n",
       "2            3         1       3   \n",
       "3            4         1       1   \n",
       "4            5         0       3   \n",
       "\n",
       "                                                Name     Sex   Age  SibSp  \\\n",
       "0                            Braund, Mr. Owen Harris    male  22.0      1   \n",
       "1  Cumings, Mrs. John Bradley (Florence Briggs Th...  female  38.0      1   \n",
       "2                             Heikkinen, Miss. Laina  female  26.0      0   \n",
       "3       Futrelle, Mrs. Jacques Heath (Lily May Peel)  female  35.0      1   \n",
       "4                           Allen, Mr. William Henry    male  35.0      0   \n",
       "\n",
       "   Parch            Ticket     Fare Cabin Embarked  \n",
       "0      0         A/5 21171   7.2500   NaN        S  \n",
       "1      0          PC 17599  71.2833   C85        C  \n",
       "2      0  STON/O2. 3101282   7.9250   NaN        S  \n",
       "3      0            113803  53.1000  C123        S  \n",
       "4      0            373450   8.0500   NaN        S  "
      ]
     },
     "execution_count": 4,
     "metadata": {},
     "output_type": "execute_result"
    }
   ],
   "source": [
    "train.head()"
   ]
  },
  {
   "cell_type": "code",
   "execution_count": 5,
   "metadata": {},
   "outputs": [
    {
     "data": {
      "text/html": [
       "<div>\n",
       "<style scoped>\n",
       "    .dataframe tbody tr th:only-of-type {\n",
       "        vertical-align: middle;\n",
       "    }\n",
       "\n",
       "    .dataframe tbody tr th {\n",
       "        vertical-align: top;\n",
       "    }\n",
       "\n",
       "    .dataframe thead th {\n",
       "        text-align: right;\n",
       "    }\n",
       "</style>\n",
       "<table border=\"1\" class=\"dataframe\">\n",
       "  <thead>\n",
       "    <tr style=\"text-align: right;\">\n",
       "      <th></th>\n",
       "      <th>PassengerId</th>\n",
       "      <th>Pclass</th>\n",
       "      <th>Name</th>\n",
       "      <th>Sex</th>\n",
       "      <th>Age</th>\n",
       "      <th>SibSp</th>\n",
       "      <th>Parch</th>\n",
       "      <th>Ticket</th>\n",
       "      <th>Fare</th>\n",
       "      <th>Cabin</th>\n",
       "      <th>Embarked</th>\n",
       "    </tr>\n",
       "  </thead>\n",
       "  <tbody>\n",
       "    <tr>\n",
       "      <th>0</th>\n",
       "      <td>892</td>\n",
       "      <td>3</td>\n",
       "      <td>Kelly, Mr. James</td>\n",
       "      <td>male</td>\n",
       "      <td>34.5</td>\n",
       "      <td>0</td>\n",
       "      <td>0</td>\n",
       "      <td>330911</td>\n",
       "      <td>7.8292</td>\n",
       "      <td>NaN</td>\n",
       "      <td>Q</td>\n",
       "    </tr>\n",
       "    <tr>\n",
       "      <th>1</th>\n",
       "      <td>893</td>\n",
       "      <td>3</td>\n",
       "      <td>Wilkes, Mrs. James (Ellen Needs)</td>\n",
       "      <td>female</td>\n",
       "      <td>47.0</td>\n",
       "      <td>1</td>\n",
       "      <td>0</td>\n",
       "      <td>363272</td>\n",
       "      <td>7.0000</td>\n",
       "      <td>NaN</td>\n",
       "      <td>S</td>\n",
       "    </tr>\n",
       "    <tr>\n",
       "      <th>2</th>\n",
       "      <td>894</td>\n",
       "      <td>2</td>\n",
       "      <td>Myles, Mr. Thomas Francis</td>\n",
       "      <td>male</td>\n",
       "      <td>62.0</td>\n",
       "      <td>0</td>\n",
       "      <td>0</td>\n",
       "      <td>240276</td>\n",
       "      <td>9.6875</td>\n",
       "      <td>NaN</td>\n",
       "      <td>Q</td>\n",
       "    </tr>\n",
       "    <tr>\n",
       "      <th>3</th>\n",
       "      <td>895</td>\n",
       "      <td>3</td>\n",
       "      <td>Wirz, Mr. Albert</td>\n",
       "      <td>male</td>\n",
       "      <td>27.0</td>\n",
       "      <td>0</td>\n",
       "      <td>0</td>\n",
       "      <td>315154</td>\n",
       "      <td>8.6625</td>\n",
       "      <td>NaN</td>\n",
       "      <td>S</td>\n",
       "    </tr>\n",
       "    <tr>\n",
       "      <th>4</th>\n",
       "      <td>896</td>\n",
       "      <td>3</td>\n",
       "      <td>Hirvonen, Mrs. Alexander (Helga E Lindqvist)</td>\n",
       "      <td>female</td>\n",
       "      <td>22.0</td>\n",
       "      <td>1</td>\n",
       "      <td>1</td>\n",
       "      <td>3101298</td>\n",
       "      <td>12.2875</td>\n",
       "      <td>NaN</td>\n",
       "      <td>S</td>\n",
       "    </tr>\n",
       "  </tbody>\n",
       "</table>\n",
       "</div>"
      ],
      "text/plain": [
       "   PassengerId  Pclass                                          Name     Sex  \\\n",
       "0          892       3                              Kelly, Mr. James    male   \n",
       "1          893       3              Wilkes, Mrs. James (Ellen Needs)  female   \n",
       "2          894       2                     Myles, Mr. Thomas Francis    male   \n",
       "3          895       3                              Wirz, Mr. Albert    male   \n",
       "4          896       3  Hirvonen, Mrs. Alexander (Helga E Lindqvist)  female   \n",
       "\n",
       "    Age  SibSp  Parch   Ticket     Fare Cabin Embarked  \n",
       "0  34.5      0      0   330911   7.8292   NaN        Q  \n",
       "1  47.0      1      0   363272   7.0000   NaN        S  \n",
       "2  62.0      0      0   240276   9.6875   NaN        Q  \n",
       "3  27.0      0      0   315154   8.6625   NaN        S  \n",
       "4  22.0      1      1  3101298  12.2875   NaN        S  "
      ]
     },
     "execution_count": 5,
     "metadata": {},
     "output_type": "execute_result"
    }
   ],
   "source": [
    "test.head()"
   ]
  },
  {
   "cell_type": "code",
   "execution_count": 6,
   "metadata": {},
   "outputs": [
    {
     "data": {
      "text/plain": [
       "Index(['PassengerId', 'Survived', 'Pclass', 'Name', 'Sex', 'Age', 'SibSp',\n",
       "       'Parch', 'Ticket', 'Fare', 'Cabin', 'Embarked'],\n",
       "      dtype='object')"
      ]
     },
     "execution_count": 6,
     "metadata": {},
     "output_type": "execute_result"
    }
   ],
   "source": [
    "train.columns"
   ]
  },
  {
   "cell_type": "code",
   "execution_count": 7,
   "metadata": {
    "scrolled": true
   },
   "outputs": [
    {
     "data": {
      "text/plain": [
       "Sex     Pclass\n",
       "female  3         0.458599\n",
       "        1         0.299363\n",
       "        2         0.242038\n",
       "male    3         0.601386\n",
       "        1         0.211438\n",
       "        2         0.187175\n",
       "Name: Pclass, dtype: float64"
      ]
     },
     "execution_count": 7,
     "metadata": {},
     "output_type": "execute_result"
    }
   ],
   "source": [
    "train.groupby('Sex')['Pclass'].value_counts(normalize=True)"
   ]
  },
  {
   "cell_type": "markdown",
   "metadata": {},
   "source": [
    "### Фичи"
   ]
  },
  {
   "cell_type": "markdown",
   "metadata": {},
   "source": [
    "чтобы одинаковым образом обработать train и test и не дублировать все операции 2 раза, соединим эти два набора данных в один, не забыв при этом:\n",
    "1. выкинуть целевую переменную из train\n",
    "2. проверить на соответствие набора признаков друг другу\n",
    "3. добавить флаг того, является ли объект тестовым или нет"
   ]
  },
  {
   "cell_type": "code",
   "execution_count": 8,
   "metadata": {},
   "outputs": [],
   "source": [
    "y_train = train.Survived\n",
    "train.drop('Survived', axis=1, inplace=True)"
   ]
  },
  {
   "cell_type": "code",
   "execution_count": 9,
   "metadata": {},
   "outputs": [
    {
     "data": {
      "text/plain": [
       "array([ True,  True,  True,  True,  True,  True,  True,  True,  True,\n",
       "        True,  True])"
      ]
     },
     "execution_count": 9,
     "metadata": {},
     "output_type": "execute_result"
    }
   ],
   "source": [
    "train.columns == test.columns"
   ]
  },
  {
   "cell_type": "code",
   "execution_count": 10,
   "metadata": {},
   "outputs": [],
   "source": [
    "train['is_test'] = 0\n",
    "test['is_test'] = 1"
   ]
  },
  {
   "cell_type": "code",
   "execution_count": 11,
   "metadata": {},
   "outputs": [],
   "source": [
    "df = pd.concat([train, test])"
   ]
  },
  {
   "cell_type": "code",
   "execution_count": 12,
   "metadata": {},
   "outputs": [],
   "source": [
    "df[\"isMale\"] = df.Sex.replace({\"male\": 1, \"female\":0})\n",
    "df.drop([\"Sex\", \"Cabin\", \"Ticket\", \"Name\", \"PassengerId\"], axis=1, inplace=True)"
   ]
  },
  {
   "cell_type": "code",
   "execution_count": 13,
   "metadata": {},
   "outputs": [
    {
     "data": {
      "text/plain": [
       "3    709\n",
       "1    323\n",
       "2    277\n",
       "Name: Pclass, dtype: int64"
      ]
     },
     "execution_count": 13,
     "metadata": {},
     "output_type": "execute_result"
    }
   ],
   "source": [
    "df.Pclass.value_counts()"
   ]
  },
  {
   "cell_type": "code",
   "execution_count": 14,
   "metadata": {},
   "outputs": [],
   "source": [
    "df_dummies = pd.get_dummies(df, columns=['Pclass', 'Embarked'])"
   ]
  },
  {
   "cell_type": "code",
   "execution_count": 15,
   "metadata": {},
   "outputs": [],
   "source": [
    "X_train = df_dummies[df_dummies.is_test==0].drop('is_test', axis=1)\n",
    "X_test = df_dummies[df_dummies.is_test==1].drop('is_test', axis=1)"
   ]
  },
  {
   "cell_type": "code",
   "execution_count": 16,
   "metadata": {},
   "outputs": [],
   "source": [
    "columns = X_train.columns"
   ]
  },
  {
   "cell_type": "code",
   "execution_count": 17,
   "metadata": {
    "scrolled": true
   },
   "outputs": [
    {
     "data": {
      "text/html": [
       "<div>\n",
       "<style scoped>\n",
       "    .dataframe tbody tr th:only-of-type {\n",
       "        vertical-align: middle;\n",
       "    }\n",
       "\n",
       "    .dataframe tbody tr th {\n",
       "        vertical-align: top;\n",
       "    }\n",
       "\n",
       "    .dataframe thead th {\n",
       "        text-align: right;\n",
       "    }\n",
       "</style>\n",
       "<table border=\"1\" class=\"dataframe\">\n",
       "  <thead>\n",
       "    <tr style=\"text-align: right;\">\n",
       "      <th></th>\n",
       "      <th>Age</th>\n",
       "      <th>SibSp</th>\n",
       "      <th>Parch</th>\n",
       "      <th>Fare</th>\n",
       "      <th>isMale</th>\n",
       "      <th>Pclass_1</th>\n",
       "      <th>Pclass_2</th>\n",
       "      <th>Pclass_3</th>\n",
       "      <th>Embarked_C</th>\n",
       "      <th>Embarked_Q</th>\n",
       "      <th>Embarked_S</th>\n",
       "    </tr>\n",
       "  </thead>\n",
       "  <tbody>\n",
       "    <tr>\n",
       "      <th>0</th>\n",
       "      <td>22.0</td>\n",
       "      <td>1</td>\n",
       "      <td>0</td>\n",
       "      <td>7.2500</td>\n",
       "      <td>1</td>\n",
       "      <td>0</td>\n",
       "      <td>0</td>\n",
       "      <td>1</td>\n",
       "      <td>0</td>\n",
       "      <td>0</td>\n",
       "      <td>1</td>\n",
       "    </tr>\n",
       "    <tr>\n",
       "      <th>1</th>\n",
       "      <td>38.0</td>\n",
       "      <td>1</td>\n",
       "      <td>0</td>\n",
       "      <td>71.2833</td>\n",
       "      <td>0</td>\n",
       "      <td>1</td>\n",
       "      <td>0</td>\n",
       "      <td>0</td>\n",
       "      <td>1</td>\n",
       "      <td>0</td>\n",
       "      <td>0</td>\n",
       "    </tr>\n",
       "    <tr>\n",
       "      <th>2</th>\n",
       "      <td>26.0</td>\n",
       "      <td>0</td>\n",
       "      <td>0</td>\n",
       "      <td>7.9250</td>\n",
       "      <td>0</td>\n",
       "      <td>0</td>\n",
       "      <td>0</td>\n",
       "      <td>1</td>\n",
       "      <td>0</td>\n",
       "      <td>0</td>\n",
       "      <td>1</td>\n",
       "    </tr>\n",
       "    <tr>\n",
       "      <th>3</th>\n",
       "      <td>35.0</td>\n",
       "      <td>1</td>\n",
       "      <td>0</td>\n",
       "      <td>53.1000</td>\n",
       "      <td>0</td>\n",
       "      <td>1</td>\n",
       "      <td>0</td>\n",
       "      <td>0</td>\n",
       "      <td>0</td>\n",
       "      <td>0</td>\n",
       "      <td>1</td>\n",
       "    </tr>\n",
       "    <tr>\n",
       "      <th>4</th>\n",
       "      <td>35.0</td>\n",
       "      <td>0</td>\n",
       "      <td>0</td>\n",
       "      <td>8.0500</td>\n",
       "      <td>1</td>\n",
       "      <td>0</td>\n",
       "      <td>0</td>\n",
       "      <td>1</td>\n",
       "      <td>0</td>\n",
       "      <td>0</td>\n",
       "      <td>1</td>\n",
       "    </tr>\n",
       "    <tr>\n",
       "      <th>5</th>\n",
       "      <td>NaN</td>\n",
       "      <td>0</td>\n",
       "      <td>0</td>\n",
       "      <td>8.4583</td>\n",
       "      <td>1</td>\n",
       "      <td>0</td>\n",
       "      <td>0</td>\n",
       "      <td>1</td>\n",
       "      <td>0</td>\n",
       "      <td>1</td>\n",
       "      <td>0</td>\n",
       "    </tr>\n",
       "    <tr>\n",
       "      <th>6</th>\n",
       "      <td>54.0</td>\n",
       "      <td>0</td>\n",
       "      <td>0</td>\n",
       "      <td>51.8625</td>\n",
       "      <td>1</td>\n",
       "      <td>1</td>\n",
       "      <td>0</td>\n",
       "      <td>0</td>\n",
       "      <td>0</td>\n",
       "      <td>0</td>\n",
       "      <td>1</td>\n",
       "    </tr>\n",
       "    <tr>\n",
       "      <th>7</th>\n",
       "      <td>2.0</td>\n",
       "      <td>3</td>\n",
       "      <td>1</td>\n",
       "      <td>21.0750</td>\n",
       "      <td>1</td>\n",
       "      <td>0</td>\n",
       "      <td>0</td>\n",
       "      <td>1</td>\n",
       "      <td>0</td>\n",
       "      <td>0</td>\n",
       "      <td>1</td>\n",
       "    </tr>\n",
       "    <tr>\n",
       "      <th>8</th>\n",
       "      <td>27.0</td>\n",
       "      <td>0</td>\n",
       "      <td>2</td>\n",
       "      <td>11.1333</td>\n",
       "      <td>0</td>\n",
       "      <td>0</td>\n",
       "      <td>0</td>\n",
       "      <td>1</td>\n",
       "      <td>0</td>\n",
       "      <td>0</td>\n",
       "      <td>1</td>\n",
       "    </tr>\n",
       "    <tr>\n",
       "      <th>9</th>\n",
       "      <td>14.0</td>\n",
       "      <td>1</td>\n",
       "      <td>0</td>\n",
       "      <td>30.0708</td>\n",
       "      <td>0</td>\n",
       "      <td>0</td>\n",
       "      <td>1</td>\n",
       "      <td>0</td>\n",
       "      <td>1</td>\n",
       "      <td>0</td>\n",
       "      <td>0</td>\n",
       "    </tr>\n",
       "  </tbody>\n",
       "</table>\n",
       "</div>"
      ],
      "text/plain": [
       "    Age  SibSp  Parch     Fare  isMale  Pclass_1  Pclass_2  Pclass_3  \\\n",
       "0  22.0      1      0   7.2500       1         0         0         1   \n",
       "1  38.0      1      0  71.2833       0         1         0         0   \n",
       "2  26.0      0      0   7.9250       0         0         0         1   \n",
       "3  35.0      1      0  53.1000       0         1         0         0   \n",
       "4  35.0      0      0   8.0500       1         0         0         1   \n",
       "5   NaN      0      0   8.4583       1         0         0         1   \n",
       "6  54.0      0      0  51.8625       1         1         0         0   \n",
       "7   2.0      3      1  21.0750       1         0         0         1   \n",
       "8  27.0      0      2  11.1333       0         0         0         1   \n",
       "9  14.0      1      0  30.0708       0         0         1         0   \n",
       "\n",
       "   Embarked_C  Embarked_Q  Embarked_S  \n",
       "0           0           0           1  \n",
       "1           1           0           0  \n",
       "2           0           0           1  \n",
       "3           0           0           1  \n",
       "4           0           0           1  \n",
       "5           0           1           0  \n",
       "6           0           0           1  \n",
       "7           0           0           1  \n",
       "8           0           0           1  \n",
       "9           1           0           0  "
      ]
     },
     "execution_count": 17,
     "metadata": {},
     "output_type": "execute_result"
    }
   ],
   "source": [
    "X_train.head(10)"
   ]
  },
  {
   "cell_type": "markdown",
   "metadata": {},
   "source": [
    "Заполнение пустых значений"
   ]
  },
  {
   "cell_type": "code",
   "execution_count": 18,
   "metadata": {},
   "outputs": [],
   "source": [
    "from sklearn.preprocessing import Imputer"
   ]
  },
  {
   "cell_type": "code",
   "execution_count": 19,
   "metadata": {},
   "outputs": [],
   "source": [
    "imputer = Imputer(missing_values='NaN', strategy='mean', axis=0, verbose=0, copy=True)"
   ]
  },
  {
   "cell_type": "code",
   "execution_count": 20,
   "metadata": {
    "scrolled": true
   },
   "outputs": [
    {
     "data": {
      "text/plain": [
       "Imputer(axis=0, copy=True, missing_values='NaN', strategy='mean', verbose=0)"
      ]
     },
     "execution_count": 20,
     "metadata": {},
     "output_type": "execute_result"
    }
   ],
   "source": [
    "imputer.fit(X_train)"
   ]
  },
  {
   "cell_type": "code",
   "execution_count": 21,
   "metadata": {},
   "outputs": [],
   "source": [
    "X_train_imputed = imputer.transform(X_train)\n",
    "X_train_imputed = pd.DataFrame(X_train_imputed, columns=columns)"
   ]
  },
  {
   "cell_type": "code",
   "execution_count": 22,
   "metadata": {
    "scrolled": true
   },
   "outputs": [
    {
     "data": {
      "text/html": [
       "<div>\n",
       "<style scoped>\n",
       "    .dataframe tbody tr th:only-of-type {\n",
       "        vertical-align: middle;\n",
       "    }\n",
       "\n",
       "    .dataframe tbody tr th {\n",
       "        vertical-align: top;\n",
       "    }\n",
       "\n",
       "    .dataframe thead th {\n",
       "        text-align: right;\n",
       "    }\n",
       "</style>\n",
       "<table border=\"1\" class=\"dataframe\">\n",
       "  <thead>\n",
       "    <tr style=\"text-align: right;\">\n",
       "      <th></th>\n",
       "      <th>Age</th>\n",
       "      <th>SibSp</th>\n",
       "      <th>Parch</th>\n",
       "      <th>Fare</th>\n",
       "      <th>isMale</th>\n",
       "      <th>Pclass_1</th>\n",
       "      <th>Pclass_2</th>\n",
       "      <th>Pclass_3</th>\n",
       "      <th>Embarked_C</th>\n",
       "      <th>Embarked_Q</th>\n",
       "      <th>Embarked_S</th>\n",
       "    </tr>\n",
       "  </thead>\n",
       "  <tbody>\n",
       "    <tr>\n",
       "      <th>0</th>\n",
       "      <td>22.000000</td>\n",
       "      <td>1.0</td>\n",
       "      <td>0.0</td>\n",
       "      <td>7.2500</td>\n",
       "      <td>1.0</td>\n",
       "      <td>0.0</td>\n",
       "      <td>0.0</td>\n",
       "      <td>1.0</td>\n",
       "      <td>0.0</td>\n",
       "      <td>0.0</td>\n",
       "      <td>1.0</td>\n",
       "    </tr>\n",
       "    <tr>\n",
       "      <th>1</th>\n",
       "      <td>38.000000</td>\n",
       "      <td>1.0</td>\n",
       "      <td>0.0</td>\n",
       "      <td>71.2833</td>\n",
       "      <td>0.0</td>\n",
       "      <td>1.0</td>\n",
       "      <td>0.0</td>\n",
       "      <td>0.0</td>\n",
       "      <td>1.0</td>\n",
       "      <td>0.0</td>\n",
       "      <td>0.0</td>\n",
       "    </tr>\n",
       "    <tr>\n",
       "      <th>2</th>\n",
       "      <td>26.000000</td>\n",
       "      <td>0.0</td>\n",
       "      <td>0.0</td>\n",
       "      <td>7.9250</td>\n",
       "      <td>0.0</td>\n",
       "      <td>0.0</td>\n",
       "      <td>0.0</td>\n",
       "      <td>1.0</td>\n",
       "      <td>0.0</td>\n",
       "      <td>0.0</td>\n",
       "      <td>1.0</td>\n",
       "    </tr>\n",
       "    <tr>\n",
       "      <th>3</th>\n",
       "      <td>35.000000</td>\n",
       "      <td>1.0</td>\n",
       "      <td>0.0</td>\n",
       "      <td>53.1000</td>\n",
       "      <td>0.0</td>\n",
       "      <td>1.0</td>\n",
       "      <td>0.0</td>\n",
       "      <td>0.0</td>\n",
       "      <td>0.0</td>\n",
       "      <td>0.0</td>\n",
       "      <td>1.0</td>\n",
       "    </tr>\n",
       "    <tr>\n",
       "      <th>4</th>\n",
       "      <td>35.000000</td>\n",
       "      <td>0.0</td>\n",
       "      <td>0.0</td>\n",
       "      <td>8.0500</td>\n",
       "      <td>1.0</td>\n",
       "      <td>0.0</td>\n",
       "      <td>0.0</td>\n",
       "      <td>1.0</td>\n",
       "      <td>0.0</td>\n",
       "      <td>0.0</td>\n",
       "      <td>1.0</td>\n",
       "    </tr>\n",
       "    <tr>\n",
       "      <th>5</th>\n",
       "      <td>29.699118</td>\n",
       "      <td>0.0</td>\n",
       "      <td>0.0</td>\n",
       "      <td>8.4583</td>\n",
       "      <td>1.0</td>\n",
       "      <td>0.0</td>\n",
       "      <td>0.0</td>\n",
       "      <td>1.0</td>\n",
       "      <td>0.0</td>\n",
       "      <td>1.0</td>\n",
       "      <td>0.0</td>\n",
       "    </tr>\n",
       "    <tr>\n",
       "      <th>6</th>\n",
       "      <td>54.000000</td>\n",
       "      <td>0.0</td>\n",
       "      <td>0.0</td>\n",
       "      <td>51.8625</td>\n",
       "      <td>1.0</td>\n",
       "      <td>1.0</td>\n",
       "      <td>0.0</td>\n",
       "      <td>0.0</td>\n",
       "      <td>0.0</td>\n",
       "      <td>0.0</td>\n",
       "      <td>1.0</td>\n",
       "    </tr>\n",
       "    <tr>\n",
       "      <th>7</th>\n",
       "      <td>2.000000</td>\n",
       "      <td>3.0</td>\n",
       "      <td>1.0</td>\n",
       "      <td>21.0750</td>\n",
       "      <td>1.0</td>\n",
       "      <td>0.0</td>\n",
       "      <td>0.0</td>\n",
       "      <td>1.0</td>\n",
       "      <td>0.0</td>\n",
       "      <td>0.0</td>\n",
       "      <td>1.0</td>\n",
       "    </tr>\n",
       "    <tr>\n",
       "      <th>8</th>\n",
       "      <td>27.000000</td>\n",
       "      <td>0.0</td>\n",
       "      <td>2.0</td>\n",
       "      <td>11.1333</td>\n",
       "      <td>0.0</td>\n",
       "      <td>0.0</td>\n",
       "      <td>0.0</td>\n",
       "      <td>1.0</td>\n",
       "      <td>0.0</td>\n",
       "      <td>0.0</td>\n",
       "      <td>1.0</td>\n",
       "    </tr>\n",
       "    <tr>\n",
       "      <th>9</th>\n",
       "      <td>14.000000</td>\n",
       "      <td>1.0</td>\n",
       "      <td>0.0</td>\n",
       "      <td>30.0708</td>\n",
       "      <td>0.0</td>\n",
       "      <td>0.0</td>\n",
       "      <td>1.0</td>\n",
       "      <td>0.0</td>\n",
       "      <td>1.0</td>\n",
       "      <td>0.0</td>\n",
       "      <td>0.0</td>\n",
       "    </tr>\n",
       "  </tbody>\n",
       "</table>\n",
       "</div>"
      ],
      "text/plain": [
       "         Age  SibSp  Parch     Fare  isMale  Pclass_1  Pclass_2  Pclass_3  \\\n",
       "0  22.000000    1.0    0.0   7.2500     1.0       0.0       0.0       1.0   \n",
       "1  38.000000    1.0    0.0  71.2833     0.0       1.0       0.0       0.0   \n",
       "2  26.000000    0.0    0.0   7.9250     0.0       0.0       0.0       1.0   \n",
       "3  35.000000    1.0    0.0  53.1000     0.0       1.0       0.0       0.0   \n",
       "4  35.000000    0.0    0.0   8.0500     1.0       0.0       0.0       1.0   \n",
       "5  29.699118    0.0    0.0   8.4583     1.0       0.0       0.0       1.0   \n",
       "6  54.000000    0.0    0.0  51.8625     1.0       1.0       0.0       0.0   \n",
       "7   2.000000    3.0    1.0  21.0750     1.0       0.0       0.0       1.0   \n",
       "8  27.000000    0.0    2.0  11.1333     0.0       0.0       0.0       1.0   \n",
       "9  14.000000    1.0    0.0  30.0708     0.0       0.0       1.0       0.0   \n",
       "\n",
       "   Embarked_C  Embarked_Q  Embarked_S  \n",
       "0         0.0         0.0         1.0  \n",
       "1         1.0         0.0         0.0  \n",
       "2         0.0         0.0         1.0  \n",
       "3         0.0         0.0         1.0  \n",
       "4         0.0         0.0         1.0  \n",
       "5         0.0         1.0         0.0  \n",
       "6         0.0         0.0         1.0  \n",
       "7         0.0         0.0         1.0  \n",
       "8         0.0         0.0         1.0  \n",
       "9         1.0         0.0         0.0  "
      ]
     },
     "execution_count": 22,
     "metadata": {},
     "output_type": "execute_result"
    }
   ],
   "source": [
    "X_train_imputed.head(10)"
   ]
  },
  {
   "cell_type": "code",
   "execution_count": 23,
   "metadata": {},
   "outputs": [],
   "source": [
    "from sklearn.preprocessing import StandardScaler"
   ]
  },
  {
   "cell_type": "code",
   "execution_count": 24,
   "metadata": {},
   "outputs": [],
   "source": [
    "scaler = StandardScaler()"
   ]
  },
  {
   "cell_type": "code",
   "execution_count": 25,
   "metadata": {},
   "outputs": [
    {
     "data": {
      "text/plain": [
       "StandardScaler(copy=True, with_mean=True, with_std=True)"
      ]
     },
     "execution_count": 25,
     "metadata": {},
     "output_type": "execute_result"
    }
   ],
   "source": [
    "scaler.fit(X_train_imputed)"
   ]
  },
  {
   "cell_type": "code",
   "execution_count": 26,
   "metadata": {},
   "outputs": [],
   "source": [
    "X_train_imputed_scaled = scaler.transform(X_train_imputed)\n",
    "X_train_imputed_scaled = pd.DataFrame(X_train_imputed_scaled, columns=columns)"
   ]
  },
  {
   "cell_type": "code",
   "execution_count": 27,
   "metadata": {},
   "outputs": [
    {
     "data": {
      "text/html": [
       "<div>\n",
       "<style scoped>\n",
       "    .dataframe tbody tr th:only-of-type {\n",
       "        vertical-align: middle;\n",
       "    }\n",
       "\n",
       "    .dataframe tbody tr th {\n",
       "        vertical-align: top;\n",
       "    }\n",
       "\n",
       "    .dataframe thead th {\n",
       "        text-align: right;\n",
       "    }\n",
       "</style>\n",
       "<table border=\"1\" class=\"dataframe\">\n",
       "  <thead>\n",
       "    <tr style=\"text-align: right;\">\n",
       "      <th></th>\n",
       "      <th>Age</th>\n",
       "      <th>SibSp</th>\n",
       "      <th>Parch</th>\n",
       "      <th>Fare</th>\n",
       "      <th>isMale</th>\n",
       "      <th>Pclass_1</th>\n",
       "      <th>Pclass_2</th>\n",
       "      <th>Pclass_3</th>\n",
       "      <th>Embarked_C</th>\n",
       "      <th>Embarked_Q</th>\n",
       "      <th>Embarked_S</th>\n",
       "    </tr>\n",
       "  </thead>\n",
       "  <tbody>\n",
       "    <tr>\n",
       "      <th>0</th>\n",
       "      <td>-0.592481</td>\n",
       "      <td>0.432793</td>\n",
       "      <td>-0.473674</td>\n",
       "      <td>-0.502445</td>\n",
       "      <td>0.737695</td>\n",
       "      <td>-0.565685</td>\n",
       "      <td>-0.510152</td>\n",
       "      <td>0.902587</td>\n",
       "      <td>-0.482043</td>\n",
       "      <td>-0.307562</td>\n",
       "      <td>0.619306</td>\n",
       "    </tr>\n",
       "    <tr>\n",
       "      <th>1</th>\n",
       "      <td>0.638789</td>\n",
       "      <td>0.432793</td>\n",
       "      <td>-0.473674</td>\n",
       "      <td>0.786845</td>\n",
       "      <td>-1.355574</td>\n",
       "      <td>1.767767</td>\n",
       "      <td>-0.510152</td>\n",
       "      <td>-1.107926</td>\n",
       "      <td>2.074505</td>\n",
       "      <td>-0.307562</td>\n",
       "      <td>-1.614710</td>\n",
       "    </tr>\n",
       "    <tr>\n",
       "      <th>2</th>\n",
       "      <td>-0.284663</td>\n",
       "      <td>-0.474545</td>\n",
       "      <td>-0.473674</td>\n",
       "      <td>-0.488854</td>\n",
       "      <td>-1.355574</td>\n",
       "      <td>-0.565685</td>\n",
       "      <td>-0.510152</td>\n",
       "      <td>0.902587</td>\n",
       "      <td>-0.482043</td>\n",
       "      <td>-0.307562</td>\n",
       "      <td>0.619306</td>\n",
       "    </tr>\n",
       "    <tr>\n",
       "      <th>3</th>\n",
       "      <td>0.407926</td>\n",
       "      <td>0.432793</td>\n",
       "      <td>-0.473674</td>\n",
       "      <td>0.420730</td>\n",
       "      <td>-1.355574</td>\n",
       "      <td>1.767767</td>\n",
       "      <td>-0.510152</td>\n",
       "      <td>-1.107926</td>\n",
       "      <td>-0.482043</td>\n",
       "      <td>-0.307562</td>\n",
       "      <td>0.619306</td>\n",
       "    </tr>\n",
       "    <tr>\n",
       "      <th>4</th>\n",
       "      <td>0.407926</td>\n",
       "      <td>-0.474545</td>\n",
       "      <td>-0.473674</td>\n",
       "      <td>-0.486337</td>\n",
       "      <td>0.737695</td>\n",
       "      <td>-0.565685</td>\n",
       "      <td>-0.510152</td>\n",
       "      <td>0.902587</td>\n",
       "      <td>-0.482043</td>\n",
       "      <td>-0.307562</td>\n",
       "      <td>0.619306</td>\n",
       "    </tr>\n",
       "    <tr>\n",
       "      <th>5</th>\n",
       "      <td>0.000000</td>\n",
       "      <td>-0.474545</td>\n",
       "      <td>-0.473674</td>\n",
       "      <td>-0.478116</td>\n",
       "      <td>0.737695</td>\n",
       "      <td>-0.565685</td>\n",
       "      <td>-0.510152</td>\n",
       "      <td>0.902587</td>\n",
       "      <td>-0.482043</td>\n",
       "      <td>3.251373</td>\n",
       "      <td>-1.614710</td>\n",
       "    </tr>\n",
       "    <tr>\n",
       "      <th>6</th>\n",
       "      <td>1.870059</td>\n",
       "      <td>-0.474545</td>\n",
       "      <td>-0.473674</td>\n",
       "      <td>0.395814</td>\n",
       "      <td>0.737695</td>\n",
       "      <td>1.767767</td>\n",
       "      <td>-0.510152</td>\n",
       "      <td>-1.107926</td>\n",
       "      <td>-0.482043</td>\n",
       "      <td>-0.307562</td>\n",
       "      <td>0.619306</td>\n",
       "    </tr>\n",
       "    <tr>\n",
       "      <th>7</th>\n",
       "      <td>-2.131568</td>\n",
       "      <td>2.247470</td>\n",
       "      <td>0.767630</td>\n",
       "      <td>-0.224083</td>\n",
       "      <td>0.737695</td>\n",
       "      <td>-0.565685</td>\n",
       "      <td>-0.510152</td>\n",
       "      <td>0.902587</td>\n",
       "      <td>-0.482043</td>\n",
       "      <td>-0.307562</td>\n",
       "      <td>0.619306</td>\n",
       "    </tr>\n",
       "    <tr>\n",
       "      <th>8</th>\n",
       "      <td>-0.207709</td>\n",
       "      <td>-0.474545</td>\n",
       "      <td>2.008933</td>\n",
       "      <td>-0.424256</td>\n",
       "      <td>-1.355574</td>\n",
       "      <td>-0.565685</td>\n",
       "      <td>-0.510152</td>\n",
       "      <td>0.902587</td>\n",
       "      <td>-0.482043</td>\n",
       "      <td>-0.307562</td>\n",
       "      <td>0.619306</td>\n",
       "    </tr>\n",
       "    <tr>\n",
       "      <th>9</th>\n",
       "      <td>-1.208115</td>\n",
       "      <td>0.432793</td>\n",
       "      <td>-0.473674</td>\n",
       "      <td>-0.042956</td>\n",
       "      <td>-1.355574</td>\n",
       "      <td>-0.565685</td>\n",
       "      <td>1.960202</td>\n",
       "      <td>-1.107926</td>\n",
       "      <td>2.074505</td>\n",
       "      <td>-0.307562</td>\n",
       "      <td>-1.614710</td>\n",
       "    </tr>\n",
       "  </tbody>\n",
       "</table>\n",
       "</div>"
      ],
      "text/plain": [
       "        Age     SibSp     Parch      Fare    isMale  Pclass_1  Pclass_2  \\\n",
       "0 -0.592481  0.432793 -0.473674 -0.502445  0.737695 -0.565685 -0.510152   \n",
       "1  0.638789  0.432793 -0.473674  0.786845 -1.355574  1.767767 -0.510152   \n",
       "2 -0.284663 -0.474545 -0.473674 -0.488854 -1.355574 -0.565685 -0.510152   \n",
       "3  0.407926  0.432793 -0.473674  0.420730 -1.355574  1.767767 -0.510152   \n",
       "4  0.407926 -0.474545 -0.473674 -0.486337  0.737695 -0.565685 -0.510152   \n",
       "5  0.000000 -0.474545 -0.473674 -0.478116  0.737695 -0.565685 -0.510152   \n",
       "6  1.870059 -0.474545 -0.473674  0.395814  0.737695  1.767767 -0.510152   \n",
       "7 -2.131568  2.247470  0.767630 -0.224083  0.737695 -0.565685 -0.510152   \n",
       "8 -0.207709 -0.474545  2.008933 -0.424256 -1.355574 -0.565685 -0.510152   \n",
       "9 -1.208115  0.432793 -0.473674 -0.042956 -1.355574 -0.565685  1.960202   \n",
       "\n",
       "   Pclass_3  Embarked_C  Embarked_Q  Embarked_S  \n",
       "0  0.902587   -0.482043   -0.307562    0.619306  \n",
       "1 -1.107926    2.074505   -0.307562   -1.614710  \n",
       "2  0.902587   -0.482043   -0.307562    0.619306  \n",
       "3 -1.107926   -0.482043   -0.307562    0.619306  \n",
       "4  0.902587   -0.482043   -0.307562    0.619306  \n",
       "5  0.902587   -0.482043    3.251373   -1.614710  \n",
       "6 -1.107926   -0.482043   -0.307562    0.619306  \n",
       "7  0.902587   -0.482043   -0.307562    0.619306  \n",
       "8  0.902587   -0.482043   -0.307562    0.619306  \n",
       "9 -1.107926    2.074505   -0.307562   -1.614710  "
      ]
     },
     "execution_count": 27,
     "metadata": {},
     "output_type": "execute_result"
    }
   ],
   "source": [
    "X_train_imputed_scaled.head(10)"
   ]
  },
  {
   "cell_type": "code",
   "execution_count": 28,
   "metadata": {},
   "outputs": [],
   "source": [
    "X_test_imputed_scaled = scaler.transform(imputer.transform(X_test))"
   ]
  },
  {
   "cell_type": "code",
   "execution_count": 29,
   "metadata": {},
   "outputs": [],
   "source": [
    "from sklearn.model_selection import train_test_split"
   ]
  },
  {
   "cell_type": "code",
   "execution_count": 30,
   "metadata": {},
   "outputs": [],
   "source": [
    "X_train_fin, X_val, y_train_fin, y_val = train_test_split(X_train_imputed_scaled, y_train, test_size=0.2)"
   ]
  },
  {
   "cell_type": "code",
   "execution_count": 31,
   "metadata": {},
   "outputs": [],
   "source": [
    "from sklearn.model_selection import GridSearchCV\n",
    "from sklearn.tree import DecisionTreeClassifier"
   ]
  },
  {
   "cell_type": "code",
   "execution_count": 32,
   "metadata": {},
   "outputs": [],
   "source": [
    "max_deep = np.linspace(1,10,10)\n",
    "min_samples_leaf= [0.3,.5, 1, 2, 3, 4, 5, 7, 10]\n",
    "criterion = ['gini','entropy']"
   ]
  },
  {
   "cell_type": "code",
   "execution_count": 33,
   "metadata": {},
   "outputs": [],
   "source": [
    "grid = {'max_depth': max_deep,\n",
    "        'criterion': criterion,\n",
    "        'min_samples_leaf': min_samples_leaf\n",
    "       }\n",
    "gridsearch = GridSearchCV(DecisionTreeClassifier(), grid, scoring='accuracy', cv=5)"
   ]
  },
  {
   "cell_type": "code",
   "execution_count": 34,
   "metadata": {
    "scrolled": true
   },
   "outputs": [
    {
     "name": "stdout",
     "output_type": "stream",
     "text": [
      "CPU times: user 2.6 s, sys: 0 ns, total: 2.6 s\n",
      "Wall time: 2.6 s\n"
     ]
    },
    {
     "data": {
      "text/plain": [
       "GridSearchCV(cv=5, error_score='raise',\n",
       "       estimator=DecisionTreeClassifier(class_weight=None, criterion='gini', max_depth=None,\n",
       "            max_features=None, max_leaf_nodes=None,\n",
       "            min_impurity_decrease=0.0, min_impurity_split=None,\n",
       "            min_samples_leaf=1, min_samples_split=2,\n",
       "            min_weight_fraction_leaf=0.0, presort=False, random_state=None,\n",
       "            splitter='best'),\n",
       "       fit_params=None, iid=True, n_jobs=1,\n",
       "       param_grid={'max_depth': array([ 1.,  2.,  3.,  4.,  5.,  6.,  7.,  8.,  9., 10.]), 'criterion': ['gini', 'entropy'], 'min_samples_leaf': [0.3, 0.5, 1, 2, 3, 4, 5, 7, 10]},\n",
       "       pre_dispatch='2*n_jobs', refit=True, return_train_score='warn',\n",
       "       scoring='accuracy', verbose=0)"
      ]
     },
     "execution_count": 34,
     "metadata": {},
     "output_type": "execute_result"
    }
   ],
   "source": [
    "%%time\n",
    "gridsearch.fit(X_train_fin, y_train_fin)"
   ]
  },
  {
   "cell_type": "code",
   "execution_count": 35,
   "metadata": {
    "scrolled": true
   },
   "outputs": [
    {
     "name": "stderr",
     "output_type": "stream",
     "text": [
      "/home/pavel/anaconda3/lib/python3.6/site-packages/sklearn/model_selection/_search.py:761: DeprecationWarning: The grid_scores_ attribute was deprecated in version 0.18 in favor of the more elaborate cv_results_ attribute. The grid_scores_ attribute will not be available from 0.20\n",
      "  DeprecationWarning)\n"
     ]
    },
    {
     "data": {
      "text/plain": [
       "[mean: 0.82444, std: 0.01779, params: {'criterion': 'entropy', 'max_depth': 4.0, 'min_samples_leaf': 5},\n",
       " mean: 0.82303, std: 0.01221, params: {'criterion': 'entropy', 'max_depth': 5.0, 'min_samples_leaf': 5},\n",
       " mean: 0.82303, std: 0.02321, params: {'criterion': 'entropy', 'max_depth': 8.0, 'min_samples_leaf': 7},\n",
       " mean: 0.82163, std: 0.02267, params: {'criterion': 'entropy', 'max_depth': 4.0, 'min_samples_leaf': 1},\n",
       " mean: 0.82163, std: 0.01873, params: {'criterion': 'entropy', 'max_depth': 4.0, 'min_samples_leaf': 4},\n",
       " mean: 0.82022, std: 0.02077, params: {'criterion': 'entropy', 'max_depth': 4.0, 'min_samples_leaf': 2},\n",
       " mean: 0.82022, std: 0.02017, params: {'criterion': 'entropy', 'max_depth': 7.0, 'min_samples_leaf': 5},\n",
       " mean: 0.81882, std: 0.02021, params: {'criterion': 'entropy', 'max_depth': 4.0, 'min_samples_leaf': 3},\n",
       " mean: 0.81882, std: 0.02059, params: {'criterion': 'entropy', 'max_depth': 7.0, 'min_samples_leaf': 7},\n",
       " mean: 0.81882, std: 0.02423, params: {'criterion': 'entropy', 'max_depth': 8.0, 'min_samples_leaf': 5},\n",
       " mean: 0.81601, std: 0.03134, params: {'criterion': 'gini', 'max_depth': 6.0, 'min_samples_leaf': 4},\n",
       " mean: 0.81601, std: 0.01617, params: {'criterion': 'entropy', 'max_depth': 9.0, 'min_samples_leaf': 7},\n",
       " mean: 0.81461, std: 0.02816, params: {'criterion': 'gini', 'max_depth': 3.0, 'min_samples_leaf': 3},\n",
       " mean: 0.81461, std: 0.02816, params: {'criterion': 'gini', 'max_depth': 3.0, 'min_samples_leaf': 4},\n",
       " mean: 0.81461, std: 0.02816, params: {'criterion': 'gini', 'max_depth': 3.0, 'min_samples_leaf': 5},\n",
       " mean: 0.81461, std: 0.02157, params: {'criterion': 'entropy', 'max_depth': 5.0, 'min_samples_leaf': 1},\n",
       " mean: 0.81461, std: 0.02127, params: {'criterion': 'entropy', 'max_depth': 5.0, 'min_samples_leaf': 2},\n",
       " mean: 0.81461, std: 0.01733, params: {'criterion': 'entropy', 'max_depth': 5.0, 'min_samples_leaf': 4},\n",
       " mean: 0.81320, std: 0.03055, params: {'criterion': 'gini', 'max_depth': 3.0, 'min_samples_leaf': 1},\n",
       " mean: 0.81320, std: 0.03055, params: {'criterion': 'gini', 'max_depth': 3.0, 'min_samples_leaf': 2},\n",
       " mean: 0.81320, std: 0.02665, params: {'criterion': 'gini', 'max_depth': 3.0, 'min_samples_leaf': 7},\n",
       " mean: 0.81320, std: 0.01136, params: {'criterion': 'entropy', 'max_depth': 6.0, 'min_samples_leaf': 5},\n",
       " mean: 0.81320, std: 0.02232, params: {'criterion': 'entropy', 'max_depth': 8.0, 'min_samples_leaf': 4},\n",
       " mean: 0.81180, std: 0.02455, params: {'criterion': 'gini', 'max_depth': 5.0, 'min_samples_leaf': 5},\n",
       " mean: 0.81180, std: 0.01629, params: {'criterion': 'entropy', 'max_depth': 5.0, 'min_samples_leaf': 3},\n",
       " mean: 0.81180, std: 0.01408, params: {'criterion': 'entropy', 'max_depth': 5.0, 'min_samples_leaf': 7},\n",
       " mean: 0.81180, std: 0.01836, params: {'criterion': 'entropy', 'max_depth': 7.0, 'min_samples_leaf': 4},\n",
       " mean: 0.81180, std: 0.01477, params: {'criterion': 'entropy', 'max_depth': 10.0, 'min_samples_leaf': 7},\n",
       " mean: 0.81039, std: 0.02521, params: {'criterion': 'gini', 'max_depth': 6.0, 'min_samples_leaf': 1},\n",
       " mean: 0.81039, std: 0.02385, params: {'criterion': 'gini', 'max_depth': 6.0, 'min_samples_leaf': 3},\n",
       " mean: 0.81039, std: 0.02536, params: {'criterion': 'gini', 'max_depth': 6.0, 'min_samples_leaf': 5},\n",
       " mean: 0.81039, std: 0.02906, params: {'criterion': 'entropy', 'max_depth': 3.0, 'min_samples_leaf': 3},\n",
       " mean: 0.81039, std: 0.02906, params: {'criterion': 'entropy', 'max_depth': 3.0, 'min_samples_leaf': 4},\n",
       " mean: 0.81039, std: 0.02906, params: {'criterion': 'entropy', 'max_depth': 3.0, 'min_samples_leaf': 5},\n",
       " mean: 0.80899, std: 0.03054, params: {'criterion': 'entropy', 'max_depth': 3.0, 'min_samples_leaf': 1},\n",
       " mean: 0.80899, std: 0.03054, params: {'criterion': 'entropy', 'max_depth': 3.0, 'min_samples_leaf': 2},\n",
       " mean: 0.80899, std: 0.02738, params: {'criterion': 'entropy', 'max_depth': 3.0, 'min_samples_leaf': 7},\n",
       " mean: 0.80899, std: 0.01400, params: {'criterion': 'entropy', 'max_depth': 6.0, 'min_samples_leaf': 7},\n",
       " mean: 0.80899, std: 0.03012, params: {'criterion': 'entropy', 'max_depth': 9.0, 'min_samples_leaf': 5},\n",
       " mean: 0.80758, std: 0.02599, params: {'criterion': 'gini', 'max_depth': 3.0, 'min_samples_leaf': 10},\n",
       " mean: 0.80758, std: 0.02377, params: {'criterion': 'gini', 'max_depth': 6.0, 'min_samples_leaf': 2},\n",
       " mean: 0.80758, std: 0.01214, params: {'criterion': 'entropy', 'max_depth': 6.0, 'min_samples_leaf': 2},\n",
       " mean: 0.80758, std: 0.00746, params: {'criterion': 'entropy', 'max_depth': 6.0, 'min_samples_leaf': 4},\n",
       " mean: 0.80618, std: 0.02421, params: {'criterion': 'gini', 'max_depth': 7.0, 'min_samples_leaf': 5},\n",
       " mean: 0.80618, std: 0.01895, params: {'criterion': 'entropy', 'max_depth': 7.0, 'min_samples_leaf': 3},\n",
       " mean: 0.80618, std: 0.01647, params: {'criterion': 'entropy', 'max_depth': 9.0, 'min_samples_leaf': 2},\n",
       " mean: 0.80618, std: 0.03526, params: {'criterion': 'entropy', 'max_depth': 10.0, 'min_samples_leaf': 5},\n",
       " mean: 0.80478, std: 0.02523, params: {'criterion': 'gini', 'max_depth': 4.0, 'min_samples_leaf': 5},\n",
       " mean: 0.80478, std: 0.02737, params: {'criterion': 'gini', 'max_depth': 5.0, 'min_samples_leaf': 4},\n",
       " mean: 0.80478, std: 0.02558, params: {'criterion': 'entropy', 'max_depth': 3.0, 'min_samples_leaf': 10},\n",
       " mean: 0.80478, std: 0.01240, params: {'criterion': 'entropy', 'max_depth': 6.0, 'min_samples_leaf': 1},\n",
       " mean: 0.80478, std: 0.00769, params: {'criterion': 'entropy', 'max_depth': 6.0, 'min_samples_leaf': 3},\n",
       " mean: 0.80478, std: 0.01377, params: {'criterion': 'entropy', 'max_depth': 8.0, 'min_samples_leaf': 3},\n",
       " mean: 0.80337, std: 0.03245, params: {'criterion': 'gini', 'max_depth': 7.0, 'min_samples_leaf': 4},\n",
       " mean: 0.80337, std: 0.01071, params: {'criterion': 'entropy', 'max_depth': 9.0, 'min_samples_leaf': 3},\n",
       " mean: 0.80197, std: 0.02550, params: {'criterion': 'gini', 'max_depth': 4.0, 'min_samples_leaf': 1},\n",
       " mean: 0.80197, std: 0.03188, params: {'criterion': 'gini', 'max_depth': 5.0, 'min_samples_leaf': 1},\n",
       " mean: 0.80197, std: 0.02993, params: {'criterion': 'gini', 'max_depth': 7.0, 'min_samples_leaf': 3},\n",
       " mean: 0.80197, std: 0.02626, params: {'criterion': 'entropy', 'max_depth': 4.0, 'min_samples_leaf': 7},\n",
       " mean: 0.80197, std: 0.02161, params: {'criterion': 'entropy', 'max_depth': 7.0, 'min_samples_leaf': 1},\n",
       " mean: 0.80197, std: 0.01709, params: {'criterion': 'entropy', 'max_depth': 8.0, 'min_samples_leaf': 2},\n",
       " mean: 0.80197, std: 0.01615, params: {'criterion': 'entropy', 'max_depth': 9.0, 'min_samples_leaf': 1},\n",
       " mean: 0.80056, std: 0.02694, params: {'criterion': 'gini', 'max_depth': 4.0, 'min_samples_leaf': 2},\n",
       " mean: 0.80056, std: 0.02339, params: {'criterion': 'gini', 'max_depth': 4.0, 'min_samples_leaf': 3},\n",
       " mean: 0.80056, std: 0.02613, params: {'criterion': 'gini', 'max_depth': 5.0, 'min_samples_leaf': 3},\n",
       " mean: 0.80056, std: 0.03660, params: {'criterion': 'gini', 'max_depth': 6.0, 'min_samples_leaf': 7},\n",
       " mean: 0.80056, std: 0.02289, params: {'criterion': 'entropy', 'max_depth': 7.0, 'min_samples_leaf': 2},\n",
       " mean: 0.80056, std: 0.02590, params: {'criterion': 'entropy', 'max_depth': 8.0, 'min_samples_leaf': 10},\n",
       " mean: 0.80056, std: 0.01641, params: {'criterion': 'entropy', 'max_depth': 10.0, 'min_samples_leaf': 3},\n",
       " mean: 0.80056, std: 0.01782, params: {'criterion': 'entropy', 'max_depth': 10.0, 'min_samples_leaf': 4},\n",
       " mean: 0.79916, std: 0.02343, params: {'criterion': 'gini', 'max_depth': 4.0, 'min_samples_leaf': 4},\n",
       " mean: 0.79916, std: 0.02791, params: {'criterion': 'gini', 'max_depth': 5.0, 'min_samples_leaf': 2},\n",
       " mean: 0.79916, std: 0.02957, params: {'criterion': 'gini', 'max_depth': 9.0, 'min_samples_leaf': 3},\n",
       " mean: 0.79916, std: 0.02267, params: {'criterion': 'gini', 'max_depth': 9.0, 'min_samples_leaf': 5},\n",
       " mean: 0.79916, std: 0.03291, params: {'criterion': 'gini', 'max_depth': 10.0, 'min_samples_leaf': 5},\n",
       " mean: 0.79916, std: 0.02381, params: {'criterion': 'entropy', 'max_depth': 10.0, 'min_samples_leaf': 2},\n",
       " mean: 0.79775, std: 0.02701, params: {'criterion': 'gini', 'max_depth': 8.0, 'min_samples_leaf': 2},\n",
       " mean: 0.79775, std: 0.03244, params: {'criterion': 'gini', 'max_depth': 10.0, 'min_samples_leaf': 7},\n",
       " mean: 0.79775, std: 0.01242, params: {'criterion': 'entropy', 'max_depth': 8.0, 'min_samples_leaf': 1},\n",
       " mean: 0.79775, std: 0.01755, params: {'criterion': 'entropy', 'max_depth': 9.0, 'min_samples_leaf': 4},\n",
       " mean: 0.79635, std: 0.02823, params: {'criterion': 'gini', 'max_depth': 1.0, 'min_samples_leaf': 0.3},\n",
       " mean: 0.79635, std: 0.02823, params: {'criterion': 'gini', 'max_depth': 1.0, 'min_samples_leaf': 1},\n",
       " mean: 0.79635, std: 0.02823, params: {'criterion': 'gini', 'max_depth': 1.0, 'min_samples_leaf': 2},\n",
       " mean: 0.79635, std: 0.02823, params: {'criterion': 'gini', 'max_depth': 1.0, 'min_samples_leaf': 3},\n",
       " mean: 0.79635, std: 0.02823, params: {'criterion': 'gini', 'max_depth': 1.0, 'min_samples_leaf': 4},\n",
       " mean: 0.79635, std: 0.02823, params: {'criterion': 'gini', 'max_depth': 1.0, 'min_samples_leaf': 5},\n",
       " mean: 0.79635, std: 0.02823, params: {'criterion': 'gini', 'max_depth': 1.0, 'min_samples_leaf': 7},\n",
       " mean: 0.79635, std: 0.02823, params: {'criterion': 'gini', 'max_depth': 1.0, 'min_samples_leaf': 10},\n",
       " mean: 0.79635, std: 0.02823, params: {'criterion': 'gini', 'max_depth': 2.0, 'min_samples_leaf': 0.3},\n",
       " mean: 0.79635, std: 0.02823, params: {'criterion': 'gini', 'max_depth': 3.0, 'min_samples_leaf': 0.3},\n",
       " mean: 0.79635, std: 0.02823, params: {'criterion': 'gini', 'max_depth': 4.0, 'min_samples_leaf': 0.3},\n",
       " mean: 0.79635, std: 0.02823, params: {'criterion': 'gini', 'max_depth': 5.0, 'min_samples_leaf': 0.3},\n",
       " mean: 0.79635, std: 0.02823, params: {'criterion': 'gini', 'max_depth': 6.0, 'min_samples_leaf': 0.3},\n",
       " mean: 0.79635, std: 0.02823, params: {'criterion': 'gini', 'max_depth': 7.0, 'min_samples_leaf': 0.3},\n",
       " mean: 0.79635, std: 0.03080, params: {'criterion': 'gini', 'max_depth': 7.0, 'min_samples_leaf': 7},\n",
       " mean: 0.79635, std: 0.02823, params: {'criterion': 'gini', 'max_depth': 8.0, 'min_samples_leaf': 0.3},\n",
       " mean: 0.79635, std: 0.03058, params: {'criterion': 'gini', 'max_depth': 8.0, 'min_samples_leaf': 7},\n",
       " mean: 0.79635, std: 0.02823, params: {'criterion': 'gini', 'max_depth': 9.0, 'min_samples_leaf': 0.3},\n",
       " mean: 0.79635, std: 0.02823, params: {'criterion': 'gini', 'max_depth': 10.0, 'min_samples_leaf': 0.3},\n",
       " mean: 0.79635, std: 0.02823, params: {'criterion': 'entropy', 'max_depth': 1.0, 'min_samples_leaf': 0.3},\n",
       " mean: 0.79635, std: 0.02823, params: {'criterion': 'entropy', 'max_depth': 1.0, 'min_samples_leaf': 1},\n",
       " mean: 0.79635, std: 0.02823, params: {'criterion': 'entropy', 'max_depth': 1.0, 'min_samples_leaf': 2},\n",
       " mean: 0.79635, std: 0.02823, params: {'criterion': 'entropy', 'max_depth': 1.0, 'min_samples_leaf': 3},\n",
       " mean: 0.79635, std: 0.02823, params: {'criterion': 'entropy', 'max_depth': 1.0, 'min_samples_leaf': 4},\n",
       " mean: 0.79635, std: 0.02823, params: {'criterion': 'entropy', 'max_depth': 1.0, 'min_samples_leaf': 5},\n",
       " mean: 0.79635, std: 0.02823, params: {'criterion': 'entropy', 'max_depth': 1.0, 'min_samples_leaf': 7},\n",
       " mean: 0.79635, std: 0.02823, params: {'criterion': 'entropy', 'max_depth': 1.0, 'min_samples_leaf': 10},\n",
       " mean: 0.79635, std: 0.02823, params: {'criterion': 'entropy', 'max_depth': 2.0, 'min_samples_leaf': 0.3},\n",
       " mean: 0.79635, std: 0.02823, params: {'criterion': 'entropy', 'max_depth': 3.0, 'min_samples_leaf': 0.3},\n",
       " mean: 0.79635, std: 0.02823, params: {'criterion': 'entropy', 'max_depth': 4.0, 'min_samples_leaf': 0.3},\n",
       " mean: 0.79635, std: 0.02823, params: {'criterion': 'entropy', 'max_depth': 5.0, 'min_samples_leaf': 0.3},\n",
       " mean: 0.79635, std: 0.01913, params: {'criterion': 'entropy', 'max_depth': 5.0, 'min_samples_leaf': 10},\n",
       " mean: 0.79635, std: 0.02823, params: {'criterion': 'entropy', 'max_depth': 6.0, 'min_samples_leaf': 0.3},\n",
       " mean: 0.79635, std: 0.02823, params: {'criterion': 'entropy', 'max_depth': 7.0, 'min_samples_leaf': 0.3},\n",
       " mean: 0.79635, std: 0.02823, params: {'criterion': 'entropy', 'max_depth': 8.0, 'min_samples_leaf': 0.3},\n",
       " mean: 0.79635, std: 0.02823, params: {'criterion': 'entropy', 'max_depth': 9.0, 'min_samples_leaf': 0.3},\n",
       " mean: 0.79635, std: 0.02823, params: {'criterion': 'entropy', 'max_depth': 10.0, 'min_samples_leaf': 0.3},\n",
       " mean: 0.79494, std: 0.02884, params: {'criterion': 'gini', 'max_depth': 5.0, 'min_samples_leaf': 7},\n",
       " mean: 0.79494, std: 0.02873, params: {'criterion': 'gini', 'max_depth': 9.0, 'min_samples_leaf': 2},\n",
       " mean: 0.79494, std: 0.02179, params: {'criterion': 'entropy', 'max_depth': 6.0, 'min_samples_leaf': 10},\n",
       " mean: 0.79494, std: 0.01223, params: {'criterion': 'entropy', 'max_depth': 10.0, 'min_samples_leaf': 1},\n",
       " mean: 0.79354, std: 0.02421, params: {'criterion': 'gini', 'max_depth': 7.0, 'min_samples_leaf': 2},\n",
       " mean: 0.79354, std: 0.02893, params: {'criterion': 'gini', 'max_depth': 7.0, 'min_samples_leaf': 10},\n",
       " mean: 0.79354, std: 0.02289, params: {'criterion': 'gini', 'max_depth': 8.0, 'min_samples_leaf': 3},\n",
       " mean: 0.79354, std: 0.01935, params: {'criterion': 'gini', 'max_depth': 8.0, 'min_samples_leaf': 5},\n",
       " mean: 0.79354, std: 0.03186, params: {'criterion': 'gini', 'max_depth': 9.0, 'min_samples_leaf': 4},\n",
       " mean: 0.79354, std: 0.02882, params: {'criterion': 'gini', 'max_depth': 9.0, 'min_samples_leaf': 7},\n",
       " mean: 0.79354, std: 0.03615, params: {'criterion': 'gini', 'max_depth': 10.0, 'min_samples_leaf': 4},\n",
       " mean: 0.79354, std: 0.02289, params: {'criterion': 'entropy', 'max_depth': 7.0, 'min_samples_leaf': 10},\n",
       " mean: 0.79213, std: 0.02849, params: {'criterion': 'gini', 'max_depth': 8.0, 'min_samples_leaf': 10},\n",
       " mean: 0.79073, std: 0.02830, params: {'criterion': 'gini', 'max_depth': 6.0, 'min_samples_leaf': 10},\n",
       " mean: 0.79073, std: 0.02500, params: {'criterion': 'gini', 'max_depth': 7.0, 'min_samples_leaf': 1},\n",
       " mean: 0.79073, std: 0.03246, params: {'criterion': 'gini', 'max_depth': 8.0, 'min_samples_leaf': 4},\n",
       " mean: 0.79073, std: 0.02830, params: {'criterion': 'gini', 'max_depth': 9.0, 'min_samples_leaf': 10},\n",
       " mean: 0.79073, std: 0.02830, params: {'criterion': 'gini', 'max_depth': 10.0, 'min_samples_leaf': 10},\n",
       " mean: 0.79073, std: 0.02249, params: {'criterion': 'entropy', 'max_depth': 4.0, 'min_samples_leaf': 10},\n",
       " mean: 0.79073, std: 0.02244, params: {'criterion': 'entropy', 'max_depth': 9.0, 'min_samples_leaf': 10},\n",
       " mean: 0.79073, std: 0.02244, params: {'criterion': 'entropy', 'max_depth': 10.0, 'min_samples_leaf': 10},\n",
       " mean: 0.78652, std: 0.03180, params: {'criterion': 'gini', 'max_depth': 4.0, 'min_samples_leaf': 7},\n",
       " mean: 0.78652, std: 0.02581, params: {'criterion': 'gini', 'max_depth': 5.0, 'min_samples_leaf': 10},\n",
       " mean: 0.78511, std: 0.03075, params: {'criterion': 'gini', 'max_depth': 9.0, 'min_samples_leaf': 1},\n",
       " mean: 0.78371, std: 0.03836, params: {'criterion': 'gini', 'max_depth': 8.0, 'min_samples_leaf': 1},\n",
       " mean: 0.78371, std: 0.03549, params: {'criterion': 'gini', 'max_depth': 10.0, 'min_samples_leaf': 3},\n",
       " mean: 0.77949, std: 0.02652, params: {'criterion': 'gini', 'max_depth': 4.0, 'min_samples_leaf': 10},\n",
       " mean: 0.77669, std: 0.03001, params: {'criterion': 'gini', 'max_depth': 10.0, 'min_samples_leaf': 2},\n",
       " mean: 0.77528, std: 0.02018, params: {'criterion': 'gini', 'max_depth': 2.0, 'min_samples_leaf': 1},\n",
       " mean: 0.77528, std: 0.02018, params: {'criterion': 'gini', 'max_depth': 2.0, 'min_samples_leaf': 2},\n",
       " mean: 0.77528, std: 0.02018, params: {'criterion': 'gini', 'max_depth': 2.0, 'min_samples_leaf': 3},\n",
       " mean: 0.77528, std: 0.02018, params: {'criterion': 'gini', 'max_depth': 2.0, 'min_samples_leaf': 4},\n",
       " mean: 0.77528, std: 0.02018, params: {'criterion': 'gini', 'max_depth': 2.0, 'min_samples_leaf': 5},\n",
       " mean: 0.77528, std: 0.02018, params: {'criterion': 'gini', 'max_depth': 2.0, 'min_samples_leaf': 7},\n",
       " mean: 0.77528, std: 0.02018, params: {'criterion': 'gini', 'max_depth': 2.0, 'min_samples_leaf': 10},\n",
       " mean: 0.77528, std: 0.02018, params: {'criterion': 'entropy', 'max_depth': 2.0, 'min_samples_leaf': 1},\n",
       " mean: 0.77528, std: 0.02018, params: {'criterion': 'entropy', 'max_depth': 2.0, 'min_samples_leaf': 2},\n",
       " mean: 0.77528, std: 0.02018, params: {'criterion': 'entropy', 'max_depth': 2.0, 'min_samples_leaf': 3},\n",
       " mean: 0.77528, std: 0.02018, params: {'criterion': 'entropy', 'max_depth': 2.0, 'min_samples_leaf': 4},\n",
       " mean: 0.77528, std: 0.02018, params: {'criterion': 'entropy', 'max_depth': 2.0, 'min_samples_leaf': 5},\n",
       " mean: 0.77528, std: 0.02018, params: {'criterion': 'entropy', 'max_depth': 2.0, 'min_samples_leaf': 7},\n",
       " mean: 0.77528, std: 0.02018, params: {'criterion': 'entropy', 'max_depth': 2.0, 'min_samples_leaf': 10},\n",
       " mean: 0.77247, std: 0.03564, params: {'criterion': 'gini', 'max_depth': 10.0, 'min_samples_leaf': 1},\n",
       " mean: 0.62640, std: 0.01531, params: {'criterion': 'gini', 'max_depth': 1.0, 'min_samples_leaf': 0.5},\n",
       " mean: 0.62640, std: 0.01531, params: {'criterion': 'gini', 'max_depth': 2.0, 'min_samples_leaf': 0.5},\n",
       " mean: 0.62640, std: 0.01531, params: {'criterion': 'gini', 'max_depth': 3.0, 'min_samples_leaf': 0.5},\n",
       " mean: 0.62640, std: 0.01531, params: {'criterion': 'gini', 'max_depth': 4.0, 'min_samples_leaf': 0.5},\n",
       " mean: 0.62640, std: 0.01531, params: {'criterion': 'gini', 'max_depth': 5.0, 'min_samples_leaf': 0.5},\n",
       " mean: 0.62640, std: 0.01531, params: {'criterion': 'gini', 'max_depth': 6.0, 'min_samples_leaf': 0.5},\n",
       " mean: 0.62640, std: 0.01531, params: {'criterion': 'gini', 'max_depth': 7.0, 'min_samples_leaf': 0.5},\n",
       " mean: 0.62640, std: 0.01531, params: {'criterion': 'gini', 'max_depth': 8.0, 'min_samples_leaf': 0.5},\n",
       " mean: 0.62640, std: 0.01531, params: {'criterion': 'gini', 'max_depth': 9.0, 'min_samples_leaf': 0.5},\n",
       " mean: 0.62640, std: 0.01531, params: {'criterion': 'gini', 'max_depth': 10.0, 'min_samples_leaf': 0.5},\n",
       " mean: 0.62640, std: 0.01531, params: {'criterion': 'entropy', 'max_depth': 1.0, 'min_samples_leaf': 0.5},\n",
       " mean: 0.62640, std: 0.01531, params: {'criterion': 'entropy', 'max_depth': 2.0, 'min_samples_leaf': 0.5},\n",
       " mean: 0.62640, std: 0.01531, params: {'criterion': 'entropy', 'max_depth': 3.0, 'min_samples_leaf': 0.5},\n",
       " mean: 0.62640, std: 0.01531, params: {'criterion': 'entropy', 'max_depth': 4.0, 'min_samples_leaf': 0.5},\n",
       " mean: 0.62640, std: 0.01531, params: {'criterion': 'entropy', 'max_depth': 5.0, 'min_samples_leaf': 0.5},\n",
       " mean: 0.62640, std: 0.01531, params: {'criterion': 'entropy', 'max_depth': 6.0, 'min_samples_leaf': 0.5},\n",
       " mean: 0.62640, std: 0.01531, params: {'criterion': 'entropy', 'max_depth': 7.0, 'min_samples_leaf': 0.5},\n",
       " mean: 0.62640, std: 0.01531, params: {'criterion': 'entropy', 'max_depth': 8.0, 'min_samples_leaf': 0.5},\n",
       " mean: 0.62640, std: 0.01531, params: {'criterion': 'entropy', 'max_depth': 9.0, 'min_samples_leaf': 0.5},\n",
       " mean: 0.62640, std: 0.01531, params: {'criterion': 'entropy', 'max_depth': 10.0, 'min_samples_leaf': 0.5}]"
      ]
     },
     "execution_count": 35,
     "metadata": {},
     "output_type": "execute_result"
    }
   ],
   "source": [
    "sorted(gridsearch.grid_scores_, key = lambda x: -x.mean_validation_score)"
   ]
  },
  {
   "cell_type": "code",
   "execution_count": 36,
   "metadata": {},
   "outputs": [
    {
     "data": {
      "text/plain": [
       "{'criterion': 'entropy', 'max_depth': 4.0, 'min_samples_leaf': 5}"
      ]
     },
     "execution_count": 36,
     "metadata": {},
     "output_type": "execute_result"
    }
   ],
   "source": [
    "gridsearch.best_params_"
   ]
  },
  {
   "cell_type": "code",
   "execution_count": 37,
   "metadata": {},
   "outputs": [],
   "source": [
    "best_creterion= gridsearch.best_params_['criterion']"
   ]
  },
  {
   "cell_type": "code",
   "execution_count": 38,
   "metadata": {},
   "outputs": [],
   "source": [
    "best_max_depth= gridsearch.best_params_['max_depth']"
   ]
  },
  {
   "cell_type": "code",
   "execution_count": 39,
   "metadata": {},
   "outputs": [],
   "source": [
    "best_min_samples_leaf = gridsearch.best_params_['min_samples_leaf']"
   ]
  },
  {
   "cell_type": "code",
   "execution_count": 40,
   "metadata": {},
   "outputs": [],
   "source": [
    "from sklearn.metrics import accuracy_score"
   ]
  },
  {
   "cell_type": "code",
   "execution_count": 41,
   "metadata": {},
   "outputs": [],
   "source": [
    "clf = DecisionTreeClassifier(criterion= best_creterion, max_depth=best_max_depth, min_samples_leaf= best_min_samples_leaf)"
   ]
  },
  {
   "cell_type": "code",
   "execution_count": 42,
   "metadata": {
    "scrolled": true
   },
   "outputs": [
    {
     "data": {
      "text/plain": [
       "DecisionTreeClassifier(class_weight=None, criterion='entropy', max_depth=4.0,\n",
       "            max_features=None, max_leaf_nodes=None,\n",
       "            min_impurity_decrease=0.0, min_impurity_split=None,\n",
       "            min_samples_leaf=5, min_samples_split=2,\n",
       "            min_weight_fraction_leaf=0.0, presort=False, random_state=None,\n",
       "            splitter='best')"
      ]
     },
     "execution_count": 42,
     "metadata": {},
     "output_type": "execute_result"
    }
   ],
   "source": [
    "clf.fit(X_train_fin, y_train_fin)"
   ]
  },
  {
   "cell_type": "code",
   "execution_count": 43,
   "metadata": {},
   "outputs": [],
   "source": [
    "y_val_pred = clf.predict(X_val)"
   ]
  },
  {
   "cell_type": "code",
   "execution_count": 44,
   "metadata": {},
   "outputs": [
    {
     "data": {
      "text/plain": [
       "0.8212290502793296"
      ]
     },
     "execution_count": 44,
     "metadata": {},
     "output_type": "execute_result"
    }
   ],
   "source": [
    "accuracy_score(y_val, y_val_pred)"
   ]
  },
  {
   "cell_type": "code",
   "execution_count": 45,
   "metadata": {
    "scrolled": false
   },
   "outputs": [
    {
     "data": {
      "text/plain": [
       "DecisionTreeClassifier(class_weight=None, criterion='entropy', max_depth=4.0,\n",
       "            max_features=None, max_leaf_nodes=None,\n",
       "            min_impurity_decrease=0.0, min_impurity_split=None,\n",
       "            min_samples_leaf=5, min_samples_split=2,\n",
       "            min_weight_fraction_leaf=0.0, presort=False, random_state=None,\n",
       "            splitter='best')"
      ]
     },
     "execution_count": 45,
     "metadata": {},
     "output_type": "execute_result"
    }
   ],
   "source": [
    "clf.fit(X_train_imputed_scaled, y_train)"
   ]
  },
  {
   "cell_type": "markdown",
   "metadata": {},
   "source": [
    "##### Выведем важность фичей"
   ]
  },
  {
   "cell_type": "code",
   "execution_count": 46,
   "metadata": {},
   "outputs": [
    {
     "data": {
      "text/plain": [
       "([<matplotlib.axis.YTick at 0x7f883d6d4f98>,\n",
       "  <matplotlib.axis.YTick at 0x7f883d6d48d0>,\n",
       "  <matplotlib.axis.YTick at 0x7f883d67b828>,\n",
       "  <matplotlib.axis.YTick at 0x7f883d69da20>,\n",
       "  <matplotlib.axis.YTick at 0x7f883d69def0>,\n",
       "  <matplotlib.axis.YTick at 0x7f883d6af438>,\n",
       "  <matplotlib.axis.YTick at 0x7f883d6af940>,\n",
       "  <matplotlib.axis.YTick at 0x7f883d6afe48>,\n",
       "  <matplotlib.axis.YTick at 0x7f883d6b7390>,\n",
       "  <matplotlib.axis.YTick at 0x7f883d6b7898>,\n",
       "  <matplotlib.axis.YTick at 0x7f883d6b7da0>],\n",
       " <a list of 11 Text yticklabel objects>)"
      ]
     },
     "execution_count": 46,
     "metadata": {},
     "output_type": "execute_result"
    },
    {
     "data": {
      "image/png": "[encoded data removed]",
      "text/plain": [
       "<Figure size 432x288 with 1 Axes>"
      ]
     },
     "metadata": {
      "image/png": {
       "height": 250,
       "width": 422
      }
     },
     "output_type": "display_data"
    }
   ],
   "source": [
    "plt.barh(np.arange(len(clf.feature_importances_)), clf.feature_importances_)\n",
    "plt.yticks(np.arange(len(X_train_imputed_scaled.columns)),X_train_imputed_scaled.columns)"
   ]
  },
  {
   "cell_type": "markdown",
   "metadata": {},
   "source": [
    "Финальное предсказание и сабмит"
   ]
  },
  {
   "cell_type": "code",
   "execution_count": 47,
   "metadata": {
    "scrolled": true
   },
   "outputs": [
    {
     "data": {
      "text/plain": [
       "array([[0.90985915, 0.09014085],\n",
       "       [0.85714286, 0.14285714],\n",
       "       [0.90985915, 0.09014085],\n",
       "       [0.90985915, 0.09014085],\n",
       "       [0.38181818, 0.61818182],\n",
       "       [0.90985915, 0.09014085],\n",
       "       [0.38181818, 0.61818182],\n",
       "       [0.64393939, 0.35606061],\n",
       "       [0.38181818, 0.61818182],\n",
       "       [0.90985915, 0.09014085]])"
      ]
     },
     "execution_count": 47,
     "metadata": {},
     "output_type": "execute_result"
    }
   ],
   "source": [
    "clf.predict_proba(X_test_imputed_scaled)[:10]"
   ]
  },
  {
   "cell_type": "code",
   "execution_count": 48,
   "metadata": {
    "scrolled": true
   },
   "outputs": [
    {
     "data": {
      "text/plain": [
       "array([0, 0, 0, 0, 1, 0, 1, 0, 1, 0, 0, 0, 1, 0, 1, 1, 0, 0, 1, 0, 0, 1,\n",
       "       1, 0, 1, 0, 1, 0, 0, 0, 0, 0, 1, 0, 0, 0, 1, 1, 0, 0, 0, 0, 0, 1,\n",
       "       1, 0, 0, 0, 1, 1, 0, 0, 1, 1, 0, 0, 0, 0, 0, 1, 0, 0, 0, 1, 1, 1,\n",
       "       1, 0, 0, 1, 1, 0, 1, 0, 1, 0, 0, 1, 0, 1, 1, 0, 0, 0, 0, 0, 1, 1,\n",
       "       1, 1, 1, 0, 1, 0, 0, 0, 1, 0, 1, 0, 1, 0, 0, 0, 1, 0, 0, 0, 0, 0,\n",
       "       0, 1, 1, 1, 1, 0, 0, 1, 0, 1, 1, 0, 1, 0, 0, 1, 0, 1, 0, 0, 0, 0,\n",
       "       0, 0, 0, 0, 0, 0, 1, 0, 0, 1, 0, 0, 0, 0, 0, 0, 0, 0, 1, 0, 0, 1,\n",
       "       0, 0, 1, 1, 0, 1, 1, 1, 1, 0, 0, 1, 0, 0, 1, 1, 0, 0, 0, 0, 0, 1,\n",
       "       1, 0, 1, 1, 0, 0, 1, 0, 1, 0, 1, 0, 0, 0, 0, 0, 1, 0, 1, 0, 1, 1,\n",
       "       0, 1, 1, 1, 0, 1, 0, 0, 1, 0, 1, 0, 0, 0, 0, 1, 0, 0, 1, 0, 1, 0,\n",
       "       1, 0, 1, 0, 1, 1, 0, 1, 0, 0, 0, 1, 0, 0, 0, 0, 0, 0, 1, 1, 1, 1,\n",
       "       0, 0, 0, 0, 1, 0, 1, 1, 1, 0, 0, 0, 0, 0, 0, 0, 1, 0, 0, 0, 1, 1,\n",
       "       0, 0, 0, 0, 1, 0, 0, 0, 1, 1, 0, 1, 0, 0, 0, 0, 1, 1, 1, 1, 1, 0,\n",
       "       0, 0, 0, 0, 0, 1, 0, 0, 0, 0, 1, 0, 0, 0, 0, 0, 0, 0, 1, 1, 0, 1,\n",
       "       0, 0, 0, 0, 0, 0, 1, 1, 0, 0, 0, 0, 0, 0, 0, 0, 1, 0, 1, 0, 0, 0,\n",
       "       1, 0, 0, 1, 0, 0, 0, 0, 0, 0, 0, 0, 0, 1, 0, 1, 0, 0, 0, 1, 1, 0,\n",
       "       0, 0, 1, 0, 1, 0, 0, 1, 0, 1, 1, 0, 1, 0, 0, 0, 1, 0, 0, 1, 0, 0,\n",
       "       1, 1, 1, 0, 0, 0, 0, 0, 1, 1, 0, 1, 0, 0, 0, 1, 0, 1, 1, 0, 0, 1,\n",
       "       0, 1, 0, 0, 1, 0, 1, 0, 0, 0, 0, 0, 1, 1, 1, 1, 1, 0, 1, 0, 0, 0])"
      ]
     },
     "execution_count": 48,
     "metadata": {},
     "output_type": "execute_result"
    }
   ],
   "source": [
    "predictions = clf.predict(X_test_imputed_scaled)\n",
    "predictions"
   ]
  },
  {
   "cell_type": "code",
   "execution_count": 49,
   "metadata": {},
   "outputs": [],
   "source": [
    "submussion = 'PassengerId,Survived\\n'\n",
    "submussion += \"\\n\".join([\"{},{}\".format(pid, prediction) for pid, prediction in zip(test.PassengerId, predictions)])"
   ]
  },
  {
   "cell_type": "code",
   "execution_count": 50,
   "metadata": {},
   "outputs": [],
   "source": [
    "with open('submission.txt', 'w') as file:\n",
    "    file.write(submussion)"
   ]
  },
  {
   "cell_type": "code",
   "execution_count": 51,
   "metadata": {
    "scrolled": false
   },
   "outputs": [
    {
     "data": {
      "image/svg+xml": [
       "<?xml version=\"1.0\" encoding=\"UTF-8\" standalone=\"no\"?>\n",
       "<!DOCTYPE svg PUBLIC \"-//W3C//DTD SVG 1.1//EN\"\n",
       " \"http://www.w3.org/Graphics/SVG/1.1/DTD/svg11.dtd\">\n",
       "<!-- Generated by graphviz version 2.40.1 (20161225.0304)\n",
       " -->\n",
       "<!-- Title: Tree Pages: 1 -->\n",
       "<svg width=\"1888pt\" height=\"477pt\"\n",
       " viewBox=\"0.00 0.00 1888.00 477.00\" xmlns=\"http://www.w3.org/2000/svg\" xmlns:xlink=\"http://www.w3.org/1999/xlink\">\n",
       "<g id=\"graph0\" class=\"graph\" transform=\"scale(1 1) rotate(0) translate(4 473)\">\n",
       "<title>Tree</title>\n",
       "<polygon fill=\"#ffffff\" stroke=\"transparent\" points=\"-4,4 -4,-473 1884,-473 1884,4 -4,4\"/>\n",
       "<!-- 0 -->\n",
       "<g id=\"node1\" class=\"node\">\n",
       "<title>0</title>\n",
       "<polygon fill=\"none\" stroke=\"#000000\" points=\"995.5,-469 876.5,-469 876.5,-401 995.5,-401 995.5,-469\"/>\n",
       "<text text-anchor=\"middle\" x=\"936\" y=\"-453.8\" font-family=\"Times,serif\" font-size=\"14.00\" fill=\"#000000\">X[4] &lt;= &#45;0.309</text>\n",
       "<text text-anchor=\"middle\" x=\"936\" y=\"-438.8\" font-family=\"Times,serif\" font-size=\"14.00\" fill=\"#000000\">entropy = 0.961</text>\n",
       "<text text-anchor=\"middle\" x=\"936\" y=\"-423.8\" font-family=\"Times,serif\" font-size=\"14.00\" fill=\"#000000\">samples = 891</text>\n",
       "<text text-anchor=\"middle\" x=\"936\" y=\"-408.8\" font-family=\"Times,serif\" font-size=\"14.00\" fill=\"#000000\">value = [549, 342]</text>\n",
       "</g>\n",
       "<!-- 1 -->\n",
       "<g id=\"node2\" class=\"node\">\n",
       "<title>1</title>\n",
       "<polygon fill=\"none\" stroke=\"#000000\" points=\"761,-365 649,-365 649,-297 761,-297 761,-365\"/>\n",
       "<text text-anchor=\"middle\" x=\"705\" y=\"-349.8\" font-family=\"Times,serif\" font-size=\"14.00\" fill=\"#000000\">X[7] &lt;= &#45;0.103</text>\n",
       "<text text-anchor=\"middle\" x=\"705\" y=\"-334.8\" font-family=\"Times,serif\" font-size=\"14.00\" fill=\"#000000\">entropy = 0.824</text>\n",
       "<text text-anchor=\"middle\" x=\"705\" y=\"-319.8\" font-family=\"Times,serif\" font-size=\"14.00\" fill=\"#000000\">samples = 314</text>\n",
       "<text text-anchor=\"middle\" x=\"705\" y=\"-304.8\" font-family=\"Times,serif\" font-size=\"14.00\" fill=\"#000000\">value = [81, 233]</text>\n",
       "</g>\n",
       "<!-- 0&#45;&gt;1 -->\n",
       "<g id=\"edge1\" class=\"edge\">\n",
       "<title>0&#45;&gt;1</title>\n",
       "<path fill=\"none\" stroke=\"#000000\" d=\"M876.2113,-408.0822C843.8304,-393.5037 803.7673,-375.4667 770.5384,-360.5065\"/>\n",
       "<polygon fill=\"#000000\" stroke=\"#000000\" points=\"771.9148,-357.2878 761.3595,-356.374 769.0411,-363.6708 771.9148,-357.2878\"/>\n",
       "<text text-anchor=\"middle\" x=\"770.2216\" y=\"-376.0505\" font-family=\"Times,serif\" font-size=\"14.00\" fill=\"#000000\">True</text>\n",
       "</g>\n",
       "<!-- 16 -->\n",
       "<g id=\"node17\" class=\"node\">\n",
       "<title>16</title>\n",
       "<polygon fill=\"none\" stroke=\"#000000\" points=\"1226.5,-365 1107.5,-365 1107.5,-297 1226.5,-297 1226.5,-365\"/>\n",
       "<text text-anchor=\"middle\" x=\"1167\" y=\"-349.8\" font-family=\"Times,serif\" font-size=\"14.00\" fill=\"#000000\">X[3] &lt;= &#45;0.12</text>\n",
       "<text text-anchor=\"middle\" x=\"1167\" y=\"-334.8\" font-family=\"Times,serif\" font-size=\"14.00\" fill=\"#000000\">entropy = 0.699</text>\n",
       "<text text-anchor=\"middle\" x=\"1167\" y=\"-319.8\" font-family=\"Times,serif\" font-size=\"14.00\" fill=\"#000000\">samples = 577</text>\n",
       "<text text-anchor=\"middle\" x=\"1167\" y=\"-304.8\" font-family=\"Times,serif\" font-size=\"14.00\" fill=\"#000000\">value = [468, 109]</text>\n",
       "</g>\n",
       "<!-- 0&#45;&gt;16 -->\n",
       "<g id=\"edge16\" class=\"edge\">\n",
       "<title>0&#45;&gt;16</title>\n",
       "<path fill=\"none\" stroke=\"#000000\" d=\"M995.7887,-408.0822C1027.0579,-394.0042 1065.4908,-376.7011 1098.0154,-362.058\"/>\n",
       "<polygon fill=\"#000000\" stroke=\"#000000\" points=\"1099.7803,-365.1018 1107.4619,-357.805 1096.9066,-358.7189 1099.7803,-365.1018\"/>\n",
       "<text text-anchor=\"middle\" x=\"1098.5998\" y=\"-377.4816\" font-family=\"Times,serif\" font-size=\"14.00\" fill=\"#000000\">False</text>\n",
       "</g>\n",
       "<!-- 2 -->\n",
       "<g id=\"node3\" class=\"node\">\n",
       "<title>2</title>\n",
       "<polygon fill=\"none\" stroke=\"#000000\" points=\"395.5,-261 290.5,-261 290.5,-193 395.5,-193 395.5,-261\"/>\n",
       "<text text-anchor=\"middle\" x=\"343\" y=\"-245.8\" font-family=\"Times,serif\" font-size=\"14.00\" fill=\"#000000\">X[3] &lt;= &#45;0.067</text>\n",
       "<text text-anchor=\"middle\" x=\"343\" y=\"-230.8\" font-family=\"Times,serif\" font-size=\"14.00\" fill=\"#000000\">entropy = 0.299</text>\n",
       "<text text-anchor=\"middle\" x=\"343\" y=\"-215.8\" font-family=\"Times,serif\" font-size=\"14.00\" fill=\"#000000\">samples = 170</text>\n",
       "<text text-anchor=\"middle\" x=\"343\" y=\"-200.8\" font-family=\"Times,serif\" font-size=\"14.00\" fill=\"#000000\">value = [9, 161]</text>\n",
       "</g>\n",
       "<!-- 1&#45;&gt;2 -->\n",
       "<g id=\"edge2\" class=\"edge\">\n",
       "<title>1&#45;&gt;2</title>\n",
       "<path fill=\"none\" stroke=\"#000000\" d=\"M648.8347,-314.8641C582.9642,-295.94 474.0864,-264.6602 405.5684,-244.9755\"/>\n",
       "<polygon fill=\"#000000\" stroke=\"#000000\" points=\"406.3397,-241.5555 395.762,-242.1581 404.4067,-248.2834 406.3397,-241.5555\"/>\n",
       "</g>\n",
       "<!-- 9 -->\n",
       "<g id=\"node10\" class=\"node\">\n",
       "<title>9</title>\n",
       "<polygon fill=\"none\" stroke=\"#000000\" points=\"757.5,-261 652.5,-261 652.5,-193 757.5,-193 757.5,-261\"/>\n",
       "<text text-anchor=\"middle\" x=\"705\" y=\"-245.8\" font-family=\"Times,serif\" font-size=\"14.00\" fill=\"#000000\">X[3] &lt;= &#45;0.178</text>\n",
       "<text text-anchor=\"middle\" x=\"705\" y=\"-230.8\" font-family=\"Times,serif\" font-size=\"14.00\" fill=\"#000000\">entropy = 1.0</text>\n",
       "<text text-anchor=\"middle\" x=\"705\" y=\"-215.8\" font-family=\"Times,serif\" font-size=\"14.00\" fill=\"#000000\">samples = 144</text>\n",
       "<text text-anchor=\"middle\" x=\"705\" y=\"-200.8\" font-family=\"Times,serif\" font-size=\"14.00\" fill=\"#000000\">value = [72, 72]</text>\n",
       "</g>\n",
       "<!-- 1&#45;&gt;9 -->\n",
       "<g id=\"edge9\" class=\"edge\">\n",
       "<title>1&#45;&gt;9</title>\n",
       "<path fill=\"none\" stroke=\"#000000\" d=\"M705,-296.9465C705,-288.776 705,-279.9318 705,-271.3697\"/>\n",
       "<polygon fill=\"#000000\" stroke=\"#000000\" points=\"708.5001,-271.13 705,-261.13 701.5001,-271.13 708.5001,-271.13\"/>\n",
       "</g>\n",
       "<!-- 3 -->\n",
       "<g id=\"node4\" class=\"node\">\n",
       "<title>3</title>\n",
       "<polygon fill=\"none\" stroke=\"#000000\" points=\"217,-157 113,-157 113,-89 217,-89 217,-157\"/>\n",
       "<text text-anchor=\"middle\" x=\"165\" y=\"-141.8\" font-family=\"Times,serif\" font-size=\"14.00\" fill=\"#000000\">X[0] &lt;= &#45;0.477</text>\n",
       "<text text-anchor=\"middle\" x=\"165\" y=\"-126.8\" font-family=\"Times,serif\" font-size=\"14.00\" fill=\"#000000\">entropy = 0.469</text>\n",
       "<text text-anchor=\"middle\" x=\"165\" y=\"-111.8\" font-family=\"Times,serif\" font-size=\"14.00\" fill=\"#000000\">samples = 70</text>\n",
       "<text text-anchor=\"middle\" x=\"165\" y=\"-96.8\" font-family=\"Times,serif\" font-size=\"14.00\" fill=\"#000000\">value = [7, 63]</text>\n",
       "</g>\n",
       "<!-- 2&#45;&gt;3 -->\n",
       "<g id=\"edge3\" class=\"edge\">\n",
       "<title>2&#45;&gt;3</title>\n",
       "<path fill=\"none\" stroke=\"#000000\" d=\"M290.0761,-196.0782C269.9004,-184.2901 246.7473,-170.7625 225.8897,-158.576\"/>\n",
       "<polygon fill=\"#000000\" stroke=\"#000000\" points=\"227.5066,-155.4671 217.1067,-153.4444 223.9753,-161.5111 227.5066,-155.4671\"/>\n",
       "</g>\n",
       "<!-- 6 -->\n",
       "<g id=\"node7\" class=\"node\">\n",
       "<title>6</title>\n",
       "<polygon fill=\"none\" stroke=\"#000000\" points=\"395,-157 291,-157 291,-89 395,-89 395,-157\"/>\n",
       "<text text-anchor=\"middle\" x=\"343\" y=\"-141.8\" font-family=\"Times,serif\" font-size=\"14.00\" fill=\"#000000\">X[2] &lt;= 1.388</text>\n",
       "<text text-anchor=\"middle\" x=\"343\" y=\"-126.8\" font-family=\"Times,serif\" font-size=\"14.00\" fill=\"#000000\">entropy = 0.141</text>\n",
       "<text text-anchor=\"middle\" x=\"343\" y=\"-111.8\" font-family=\"Times,serif\" font-size=\"14.00\" fill=\"#000000\">samples = 100</text>\n",
       "<text text-anchor=\"middle\" x=\"343\" y=\"-96.8\" font-family=\"Times,serif\" font-size=\"14.00\" fill=\"#000000\">value = [2, 98]</text>\n",
       "</g>\n",
       "<!-- 2&#45;&gt;6 -->\n",
       "<g id=\"edge6\" class=\"edge\">\n",
       "<title>2&#45;&gt;6</title>\n",
       "<path fill=\"none\" stroke=\"#000000\" d=\"M343,-192.9465C343,-184.776 343,-175.9318 343,-167.3697\"/>\n",
       "<polygon fill=\"#000000\" stroke=\"#000000\" points=\"346.5001,-167.13 343,-157.13 339.5001,-167.13 346.5001,-167.13\"/>\n",
       "</g>\n",
       "<!-- 4 -->\n",
       "<g id=\"node5\" class=\"node\">\n",
       "<title>4</title>\n",
       "<polygon fill=\"none\" stroke=\"#000000\" points=\"98,-53 0,-53 0,0 98,0 98,-53\"/>\n",
       "<text text-anchor=\"middle\" x=\"49\" y=\"-37.8\" font-family=\"Times,serif\" font-size=\"14.00\" fill=\"#000000\">entropy = 0.0</text>\n",
       "<text text-anchor=\"middle\" x=\"49\" y=\"-22.8\" font-family=\"Times,serif\" font-size=\"14.00\" fill=\"#000000\">samples = 15</text>\n",
       "<text text-anchor=\"middle\" x=\"49\" y=\"-7.8\" font-family=\"Times,serif\" font-size=\"14.00\" fill=\"#000000\">value = [0, 15]</text>\n",
       "</g>\n",
       "<!-- 3&#45;&gt;4 -->\n",
       "<g id=\"edge4\" class=\"edge\">\n",
       "<title>3&#45;&gt;4</title>\n",
       "<path fill=\"none\" stroke=\"#000000\" d=\"M124.1027,-88.9777C112.6551,-79.4545 100.2313,-69.1191 88.8455,-59.6473\"/>\n",
       "<polygon fill=\"#000000\" stroke=\"#000000\" points=\"91.0797,-56.9532 81.1536,-53.2485 86.6029,-62.3345 91.0797,-56.9532\"/>\n",
       "</g>\n",
       "<!-- 5 -->\n",
       "<g id=\"node6\" class=\"node\">\n",
       "<title>5</title>\n",
       "<polygon fill=\"none\" stroke=\"#000000\" points=\"214,-53 116,-53 116,0 214,0 214,-53\"/>\n",
       "<text text-anchor=\"middle\" x=\"165\" y=\"-37.8\" font-family=\"Times,serif\" font-size=\"14.00\" fill=\"#000000\">entropy = 0.55</text>\n",
       "<text text-anchor=\"middle\" x=\"165\" y=\"-22.8\" font-family=\"Times,serif\" font-size=\"14.00\" fill=\"#000000\">samples = 55</text>\n",
       "<text text-anchor=\"middle\" x=\"165\" y=\"-7.8\" font-family=\"Times,serif\" font-size=\"14.00\" fill=\"#000000\">value = [7, 48]</text>\n",
       "</g>\n",
       "<!-- 3&#45;&gt;5 -->\n",
       "<g id=\"edge5\" class=\"edge\">\n",
       "<title>3&#45;&gt;5</title>\n",
       "<path fill=\"none\" stroke=\"#000000\" d=\"M165,-88.9777C165,-80.7364 165,-71.887 165,-63.5153\"/>\n",
       "<polygon fill=\"#000000\" stroke=\"#000000\" points=\"168.5001,-63.2484 165,-53.2485 161.5001,-63.2485 168.5001,-63.2484\"/>\n",
       "</g>\n",
       "<!-- 7 -->\n",
       "<g id=\"node8\" class=\"node\">\n",
       "<title>7</title>\n",
       "<polygon fill=\"none\" stroke=\"#000000\" points=\"330,-53 232,-53 232,0 330,0 330,-53\"/>\n",
       "<text text-anchor=\"middle\" x=\"281\" y=\"-37.8\" font-family=\"Times,serif\" font-size=\"14.00\" fill=\"#000000\">entropy = 0.0</text>\n",
       "<text text-anchor=\"middle\" x=\"281\" y=\"-22.8\" font-family=\"Times,serif\" font-size=\"14.00\" fill=\"#000000\">samples = 84</text>\n",
       "<text text-anchor=\"middle\" x=\"281\" y=\"-7.8\" font-family=\"Times,serif\" font-size=\"14.00\" fill=\"#000000\">value = [0, 84]</text>\n",
       "</g>\n",
       "<!-- 6&#45;&gt;7 -->\n",
       "<g id=\"edge7\" class=\"edge\">\n",
       "<title>6&#45;&gt;7</title>\n",
       "<path fill=\"none\" stroke=\"#000000\" d=\"M321.1411,-88.9777C315.4932,-80.187 309.4007,-70.7044 303.7104,-61.8477\"/>\n",
       "<polygon fill=\"#000000\" stroke=\"#000000\" points=\"306.5356,-59.7698 298.1856,-53.2485 300.6463,-63.5536 306.5356,-59.7698\"/>\n",
       "</g>\n",
       "<!-- 8 -->\n",
       "<g id=\"node9\" class=\"node\">\n",
       "<title>8</title>\n",
       "<polygon fill=\"none\" stroke=\"#000000\" points=\"452,-53 348,-53 348,0 452,0 452,-53\"/>\n",
       "<text text-anchor=\"middle\" x=\"400\" y=\"-37.8\" font-family=\"Times,serif\" font-size=\"14.00\" fill=\"#000000\">entropy = 0.544</text>\n",
       "<text text-anchor=\"middle\" x=\"400\" y=\"-22.8\" font-family=\"Times,serif\" font-size=\"14.00\" fill=\"#000000\">samples = 16</text>\n",
       "<text text-anchor=\"middle\" x=\"400\" y=\"-7.8\" font-family=\"Times,serif\" font-size=\"14.00\" fill=\"#000000\">value = [2, 14]</text>\n",
       "</g>\n",
       "<!-- 6&#45;&gt;8 -->\n",
       "<g id=\"edge8\" class=\"edge\">\n",
       "<title>6&#45;&gt;8</title>\n",
       "<path fill=\"none\" stroke=\"#000000\" d=\"M363.0961,-88.9777C368.2344,-80.2786 373.773,-70.9018 378.9575,-62.1247\"/>\n",
       "<polygon fill=\"#000000\" stroke=\"#000000\" points=\"382.1281,-63.6387 384.2004,-53.2485 376.101,-60.0786 382.1281,-63.6387\"/>\n",
       "</g>\n",
       "<!-- 10 -->\n",
       "<g id=\"node11\" class=\"node\">\n",
       "<title>10</title>\n",
       "<polygon fill=\"none\" stroke=\"#000000\" points=\"696.5,-157 591.5,-157 591.5,-89 696.5,-89 696.5,-157\"/>\n",
       "<text text-anchor=\"middle\" x=\"644\" y=\"-141.8\" font-family=\"Times,serif\" font-size=\"14.00\" fill=\"#000000\">X[0] &lt;= 0.523</text>\n",
       "<text text-anchor=\"middle\" x=\"644\" y=\"-126.8\" font-family=\"Times,serif\" font-size=\"14.00\" fill=\"#000000\">entropy = 0.977</text>\n",
       "<text text-anchor=\"middle\" x=\"644\" y=\"-111.8\" font-family=\"Times,serif\" font-size=\"14.00\" fill=\"#000000\">samples = 117</text>\n",
       "<text text-anchor=\"middle\" x=\"644\" y=\"-96.8\" font-family=\"Times,serif\" font-size=\"14.00\" fill=\"#000000\">value = [48, 69]</text>\n",
       "</g>\n",
       "<!-- 9&#45;&gt;10 -->\n",
       "<g id=\"edge10\" class=\"edge\">\n",
       "<title>9&#45;&gt;10</title>\n",
       "<path fill=\"none\" stroke=\"#000000\" d=\"M685.0263,-192.9465C679.9707,-184.3271 674.4753,-174.9579 669.1983,-165.9611\"/>\n",
       "<polygon fill=\"#000000\" stroke=\"#000000\" points=\"672.0969,-163.985 664.0186,-157.13 666.0589,-167.5265 672.0969,-163.985\"/>\n",
       "</g>\n",
       "<!-- 13 -->\n",
       "<g id=\"node14\" class=\"node\">\n",
       "<title>13</title>\n",
       "<polygon fill=\"none\" stroke=\"#000000\" points=\"819,-157 715,-157 715,-89 819,-89 819,-157\"/>\n",
       "<text text-anchor=\"middle\" x=\"767\" y=\"-141.8\" font-family=\"Times,serif\" font-size=\"14.00\" fill=\"#000000\">X[3] &lt;= 0.014</text>\n",
       "<text text-anchor=\"middle\" x=\"767\" y=\"-126.8\" font-family=\"Times,serif\" font-size=\"14.00\" fill=\"#000000\">entropy = 0.503</text>\n",
       "<text text-anchor=\"middle\" x=\"767\" y=\"-111.8\" font-family=\"Times,serif\" font-size=\"14.00\" fill=\"#000000\">samples = 27</text>\n",
       "<text text-anchor=\"middle\" x=\"767\" y=\"-96.8\" font-family=\"Times,serif\" font-size=\"14.00\" fill=\"#000000\">value = [24, 3]</text>\n",
       "</g>\n",
       "<!-- 9&#45;&gt;13 -->\n",
       "<g id=\"edge13\" class=\"edge\">\n",
       "<title>9&#45;&gt;13</title>\n",
       "<path fill=\"none\" stroke=\"#000000\" d=\"M725.3011,-192.9465C730.4396,-184.3271 736.0251,-174.9579 741.3886,-165.9611\"/>\n",
       "<polygon fill=\"#000000\" stroke=\"#000000\" points=\"744.5389,-167.5117 746.6533,-157.13 738.5263,-163.9272 744.5389,-167.5117\"/>\n",
       "</g>\n",
       "<!-- 11 -->\n",
       "<g id=\"node12\" class=\"node\">\n",
       "<title>11</title>\n",
       "<polygon fill=\"none\" stroke=\"#000000\" points=\"575.5,-53 470.5,-53 470.5,0 575.5,0 575.5,-53\"/>\n",
       "<text text-anchor=\"middle\" x=\"523\" y=\"-37.8\" font-family=\"Times,serif\" font-size=\"14.00\" fill=\"#000000\">entropy = 0.959</text>\n",
       "<text text-anchor=\"middle\" x=\"523\" y=\"-22.8\" font-family=\"Times,serif\" font-size=\"14.00\" fill=\"#000000\">samples = 110</text>\n",
       "<text text-anchor=\"middle\" x=\"523\" y=\"-7.8\" font-family=\"Times,serif\" font-size=\"14.00\" fill=\"#000000\">value = [42, 68]</text>\n",
       "</g>\n",
       "<!-- 10&#45;&gt;11 -->\n",
       "<g id=\"edge11\" class=\"edge\">\n",
       "<title>10&#45;&gt;11</title>\n",
       "<path fill=\"none\" stroke=\"#000000\" d=\"M601.3399,-88.9777C589.3989,-79.4545 576.4395,-69.1191 564.563,-59.6473\"/>\n",
       "<polygon fill=\"#000000\" stroke=\"#000000\" points=\"566.54,-56.7473 556.5395,-53.2485 562.1754,-62.22 566.54,-56.7473\"/>\n",
       "</g>\n",
       "<!-- 12 -->\n",
       "<g id=\"node13\" class=\"node\">\n",
       "<title>12</title>\n",
       "<polygon fill=\"none\" stroke=\"#000000\" points=\"698,-53 594,-53 594,0 698,0 698,-53\"/>\n",
       "<text text-anchor=\"middle\" x=\"646\" y=\"-37.8\" font-family=\"Times,serif\" font-size=\"14.00\" fill=\"#000000\">entropy = 0.592</text>\n",
       "<text text-anchor=\"middle\" x=\"646\" y=\"-22.8\" font-family=\"Times,serif\" font-size=\"14.00\" fill=\"#000000\">samples = 7</text>\n",
       "<text text-anchor=\"middle\" x=\"646\" y=\"-7.8\" font-family=\"Times,serif\" font-size=\"14.00\" fill=\"#000000\">value = [6, 1]</text>\n",
       "</g>\n",
       "<!-- 10&#45;&gt;12 -->\n",
       "<g id=\"edge12\" class=\"edge\">\n",
       "<title>10&#45;&gt;12</title>\n",
       "<path fill=\"none\" stroke=\"#000000\" d=\"M644.7051,-88.9777C644.8759,-80.7364 645.0593,-71.887 645.2328,-63.5153\"/>\n",
       "<polygon fill=\"#000000\" stroke=\"#000000\" points=\"648.7376,-63.3189 645.4456,-53.2485 641.7391,-63.1738 648.7376,-63.3189\"/>\n",
       "</g>\n",
       "<!-- 14 -->\n",
       "<g id=\"node15\" class=\"node\">\n",
       "<title>14</title>\n",
       "<polygon fill=\"none\" stroke=\"#000000\" points=\"814,-53 716,-53 716,0 814,0 814,-53\"/>\n",
       "<text text-anchor=\"middle\" x=\"765\" y=\"-37.8\" font-family=\"Times,serif\" font-size=\"14.00\" fill=\"#000000\">entropy = 0.65</text>\n",
       "<text text-anchor=\"middle\" x=\"765\" y=\"-22.8\" font-family=\"Times,serif\" font-size=\"14.00\" fill=\"#000000\">samples = 18</text>\n",
       "<text text-anchor=\"middle\" x=\"765\" y=\"-7.8\" font-family=\"Times,serif\" font-size=\"14.00\" fill=\"#000000\">value = [15, 3]</text>\n",
       "</g>\n",
       "<!-- 13&#45;&gt;14 -->\n",
       "<g id=\"edge14\" class=\"edge\">\n",
       "<title>13&#45;&gt;14</title>\n",
       "<path fill=\"none\" stroke=\"#000000\" d=\"M766.2949,-88.9777C766.1241,-80.7364 765.9407,-71.887 765.7672,-63.5153\"/>\n",
       "<polygon fill=\"#000000\" stroke=\"#000000\" points=\"769.2609,-63.1738 765.5544,-53.2485 762.2624,-63.3189 769.2609,-63.1738\"/>\n",
       "</g>\n",
       "<!-- 15 -->\n",
       "<g id=\"node16\" class=\"node\">\n",
       "<title>15</title>\n",
       "<polygon fill=\"none\" stroke=\"#000000\" points=\"924,-53 832,-53 832,0 924,0 924,-53\"/>\n",
       "<text text-anchor=\"middle\" x=\"878\" y=\"-37.8\" font-family=\"Times,serif\" font-size=\"14.00\" fill=\"#000000\">entropy = 0.0</text>\n",
       "<text text-anchor=\"middle\" x=\"878\" y=\"-22.8\" font-family=\"Times,serif\" font-size=\"14.00\" fill=\"#000000\">samples = 9</text>\n",
       "<text text-anchor=\"middle\" x=\"878\" y=\"-7.8\" font-family=\"Times,serif\" font-size=\"14.00\" fill=\"#000000\">value = [9, 0]</text>\n",
       "</g>\n",
       "<!-- 13&#45;&gt;15 -->\n",
       "<g id=\"edge15\" class=\"edge\">\n",
       "<title>13&#45;&gt;15</title>\n",
       "<path fill=\"none\" stroke=\"#000000\" d=\"M806.1344,-88.9777C816.9833,-79.546 828.7484,-69.3178 839.5574,-59.9208\"/>\n",
       "<polygon fill=\"#000000\" stroke=\"#000000\" points=\"841.9819,-62.4508 847.2323,-53.2485 837.3892,-57.1681 841.9819,-62.4508\"/>\n",
       "</g>\n",
       "<!-- 17 -->\n",
       "<g id=\"node18\" class=\"node\">\n",
       "<title>17</title>\n",
       "<polygon fill=\"none\" stroke=\"#000000\" points=\"1223,-261 1111,-261 1111,-193 1223,-193 1223,-261\"/>\n",
       "<text text-anchor=\"middle\" x=\"1167\" y=\"-245.8\" font-family=\"Times,serif\" font-size=\"14.00\" fill=\"#000000\">X[0] &lt;= &#45;1.247</text>\n",
       "<text text-anchor=\"middle\" x=\"1167\" y=\"-230.8\" font-family=\"Times,serif\" font-size=\"14.00\" fill=\"#000000\">entropy = 0.558</text>\n",
       "<text text-anchor=\"middle\" x=\"1167\" y=\"-215.8\" font-family=\"Times,serif\" font-size=\"14.00\" fill=\"#000000\">samples = 415</text>\n",
       "<text text-anchor=\"middle\" x=\"1167\" y=\"-200.8\" font-family=\"Times,serif\" font-size=\"14.00\" fill=\"#000000\">value = [361, 54]</text>\n",
       "</g>\n",
       "<!-- 16&#45;&gt;17 -->\n",
       "<g id=\"edge17\" class=\"edge\">\n",
       "<title>16&#45;&gt;17</title>\n",
       "<path fill=\"none\" stroke=\"#000000\" d=\"M1167,-296.9465C1167,-288.776 1167,-279.9318 1167,-271.3697\"/>\n",
       "<polygon fill=\"#000000\" stroke=\"#000000\" points=\"1170.5001,-271.13 1167,-261.13 1163.5001,-271.13 1170.5001,-271.13\"/>\n",
       "</g>\n",
       "<!-- 24 -->\n",
       "<g id=\"node25\" class=\"node\">\n",
       "<title>24</title>\n",
       "<polygon fill=\"none\" stroke=\"#000000\" points=\"1586,-261 1474,-261 1474,-193 1586,-193 1586,-261\"/>\n",
       "<text text-anchor=\"middle\" x=\"1530\" y=\"-245.8\" font-family=\"Times,serif\" font-size=\"14.00\" fill=\"#000000\">X[1] &lt;= 1.794</text>\n",
       "<text text-anchor=\"middle\" x=\"1530\" y=\"-230.8\" font-family=\"Times,serif\" font-size=\"14.00\" fill=\"#000000\">entropy = 0.924</text>\n",
       "<text text-anchor=\"middle\" x=\"1530\" y=\"-215.8\" font-family=\"Times,serif\" font-size=\"14.00\" fill=\"#000000\">samples = 162</text>\n",
       "<text text-anchor=\"middle\" x=\"1530\" y=\"-200.8\" font-family=\"Times,serif\" font-size=\"14.00\" fill=\"#000000\">value = [107, 55]</text>\n",
       "</g>\n",
       "<!-- 16&#45;&gt;24 -->\n",
       "<g id=\"edge24\" class=\"edge\">\n",
       "<title>16&#45;&gt;24</title>\n",
       "<path fill=\"none\" stroke=\"#000000\" d=\"M1226.5356,-313.943C1291.8124,-295.2411 1396.2633,-265.3157 1463.9989,-245.9094\"/>\n",
       "<polygon fill=\"#000000\" stroke=\"#000000\" points=\"1465.068,-249.244 1473.7172,-243.1251 1463.14,-242.5147 1465.068,-249.244\"/>\n",
       "</g>\n",
       "<!-- 18 -->\n",
       "<g id=\"node19\" class=\"node\">\n",
       "<title>18</title>\n",
       "<polygon fill=\"none\" stroke=\"#000000\" points=\"1156,-157 1052,-157 1052,-89 1156,-89 1156,-157\"/>\n",
       "<text text-anchor=\"middle\" x=\"1104\" y=\"-141.8\" font-family=\"Times,serif\" font-size=\"14.00\" fill=\"#000000\">X[3] &lt;= &#45;0.271</text>\n",
       "<text text-anchor=\"middle\" x=\"1104\" y=\"-126.8\" font-family=\"Times,serif\" font-size=\"14.00\" fill=\"#000000\">entropy = 0.567</text>\n",
       "<text text-anchor=\"middle\" x=\"1104\" y=\"-111.8\" font-family=\"Times,serif\" font-size=\"14.00\" fill=\"#000000\">samples = 15</text>\n",
       "<text text-anchor=\"middle\" x=\"1104\" y=\"-96.8\" font-family=\"Times,serif\" font-size=\"14.00\" fill=\"#000000\">value = [2, 13]</text>\n",
       "</g>\n",
       "<!-- 17&#45;&gt;18 -->\n",
       "<g id=\"edge18\" class=\"edge\">\n",
       "<title>17&#45;&gt;18</title>\n",
       "<path fill=\"none\" stroke=\"#000000\" d=\"M1146.3714,-192.9465C1141.1501,-184.3271 1135.4745,-174.9579 1130.0245,-165.9611\"/>\n",
       "<polygon fill=\"#000000\" stroke=\"#000000\" points=\"1132.8497,-163.8697 1124.6749,-157.13 1126.8626,-167.4965 1132.8497,-163.8697\"/>\n",
       "</g>\n",
       "<!-- 21 -->\n",
       "<g id=\"node22\" class=\"node\">\n",
       "<title>21</title>\n",
       "<polygon fill=\"none\" stroke=\"#000000\" points=\"1286,-157 1174,-157 1174,-89 1286,-89 1286,-157\"/>\n",
       "<text text-anchor=\"middle\" x=\"1230\" y=\"-141.8\" font-family=\"Times,serif\" font-size=\"14.00\" fill=\"#000000\">X[8] &lt;= 0.796</text>\n",
       "<text text-anchor=\"middle\" x=\"1230\" y=\"-126.8\" font-family=\"Times,serif\" font-size=\"14.00\" fill=\"#000000\">entropy = 0.477</text>\n",
       "<text text-anchor=\"middle\" x=\"1230\" y=\"-111.8\" font-family=\"Times,serif\" font-size=\"14.00\" fill=\"#000000\">samples = 400</text>\n",
       "<text text-anchor=\"middle\" x=\"1230\" y=\"-96.8\" font-family=\"Times,serif\" font-size=\"14.00\" fill=\"#000000\">value = [359, 41]</text>\n",
       "</g>\n",
       "<!-- 17&#45;&gt;21 -->\n",
       "<g id=\"edge21\" class=\"edge\">\n",
       "<title>17&#45;&gt;21</title>\n",
       "<path fill=\"none\" stroke=\"#000000\" d=\"M1187.6286,-192.9465C1192.8499,-184.3271 1198.5255,-174.9579 1203.9755,-165.9611\"/>\n",
       "<polygon fill=\"#000000\" stroke=\"#000000\" points=\"1207.1374,-167.4965 1209.3251,-157.13 1201.1503,-163.8697 1207.1374,-167.4965\"/>\n",
       "</g>\n",
       "<!-- 19 -->\n",
       "<g id=\"node20\" class=\"node\">\n",
       "<title>19</title>\n",
       "<polygon fill=\"none\" stroke=\"#000000\" points=\"1034,-53 942,-53 942,0 1034,0 1034,-53\"/>\n",
       "<text text-anchor=\"middle\" x=\"988\" y=\"-37.8\" font-family=\"Times,serif\" font-size=\"14.00\" fill=\"#000000\">entropy = 0.0</text>\n",
       "<text text-anchor=\"middle\" x=\"988\" y=\"-22.8\" font-family=\"Times,serif\" font-size=\"14.00\" fill=\"#000000\">samples = 9</text>\n",
       "<text text-anchor=\"middle\" x=\"988\" y=\"-7.8\" font-family=\"Times,serif\" font-size=\"14.00\" fill=\"#000000\">value = [0, 9]</text>\n",
       "</g>\n",
       "<!-- 18&#45;&gt;19 -->\n",
       "<g id=\"edge19\" class=\"edge\">\n",
       "<title>18&#45;&gt;19</title>\n",
       "<path fill=\"none\" stroke=\"#000000\" d=\"M1063.1027,-88.9777C1051.6551,-79.4545 1039.2313,-69.1191 1027.8455,-59.6473\"/>\n",
       "<polygon fill=\"#000000\" stroke=\"#000000\" points=\"1030.0797,-56.9532 1020.1536,-53.2485 1025.6029,-62.3345 1030.0797,-56.9532\"/>\n",
       "</g>\n",
       "<!-- 20 -->\n",
       "<g id=\"node21\" class=\"node\">\n",
       "<title>20</title>\n",
       "<polygon fill=\"none\" stroke=\"#000000\" points=\"1156,-53 1052,-53 1052,0 1156,0 1156,-53\"/>\n",
       "<text text-anchor=\"middle\" x=\"1104\" y=\"-37.8\" font-family=\"Times,serif\" font-size=\"14.00\" fill=\"#000000\">entropy = 0.918</text>\n",
       "<text text-anchor=\"middle\" x=\"1104\" y=\"-22.8\" font-family=\"Times,serif\" font-size=\"14.00\" fill=\"#000000\">samples = 6</text>\n",
       "<text text-anchor=\"middle\" x=\"1104\" y=\"-7.8\" font-family=\"Times,serif\" font-size=\"14.00\" fill=\"#000000\">value = [2, 4]</text>\n",
       "</g>\n",
       "<!-- 18&#45;&gt;20 -->\n",
       "<g id=\"edge20\" class=\"edge\">\n",
       "<title>18&#45;&gt;20</title>\n",
       "<path fill=\"none\" stroke=\"#000000\" d=\"M1104,-88.9777C1104,-80.7364 1104,-71.887 1104,-63.5153\"/>\n",
       "<polygon fill=\"#000000\" stroke=\"#000000\" points=\"1107.5001,-63.2484 1104,-53.2485 1100.5001,-63.2485 1107.5001,-63.2484\"/>\n",
       "</g>\n",
       "<!-- 22 -->\n",
       "<g id=\"node23\" class=\"node\">\n",
       "<title>22</title>\n",
       "<polygon fill=\"none\" stroke=\"#000000\" points=\"1286,-53 1174,-53 1174,0 1286,0 1286,-53\"/>\n",
       "<text text-anchor=\"middle\" x=\"1230\" y=\"-37.8\" font-family=\"Times,serif\" font-size=\"14.00\" fill=\"#000000\">entropy = 0.437</text>\n",
       "<text text-anchor=\"middle\" x=\"1230\" y=\"-22.8\" font-family=\"Times,serif\" font-size=\"14.00\" fill=\"#000000\">samples = 355</text>\n",
       "<text text-anchor=\"middle\" x=\"1230\" y=\"-7.8\" font-family=\"Times,serif\" font-size=\"14.00\" fill=\"#000000\">value = [323, 32]</text>\n",
       "</g>\n",
       "<!-- 21&#45;&gt;22 -->\n",
       "<g id=\"edge22\" class=\"edge\">\n",
       "<title>21&#45;&gt;22</title>\n",
       "<path fill=\"none\" stroke=\"#000000\" d=\"M1230,-88.9777C1230,-80.7364 1230,-71.887 1230,-63.5153\"/>\n",
       "<polygon fill=\"#000000\" stroke=\"#000000\" points=\"1233.5001,-63.2484 1230,-53.2485 1226.5001,-63.2485 1233.5001,-63.2484\"/>\n",
       "</g>\n",
       "<!-- 23 -->\n",
       "<g id=\"node24\" class=\"node\">\n",
       "<title>23</title>\n",
       "<polygon fill=\"none\" stroke=\"#000000\" points=\"1408,-53 1304,-53 1304,0 1408,0 1408,-53\"/>\n",
       "<text text-anchor=\"middle\" x=\"1356\" y=\"-37.8\" font-family=\"Times,serif\" font-size=\"14.00\" fill=\"#000000\">entropy = 0.722</text>\n",
       "<text text-anchor=\"middle\" x=\"1356\" y=\"-22.8\" font-family=\"Times,serif\" font-size=\"14.00\" fill=\"#000000\">samples = 45</text>\n",
       "<text text-anchor=\"middle\" x=\"1356\" y=\"-7.8\" font-family=\"Times,serif\" font-size=\"14.00\" fill=\"#000000\">value = [36, 9]</text>\n",
       "</g>\n",
       "<!-- 21&#45;&gt;23 -->\n",
       "<g id=\"edge23\" class=\"edge\">\n",
       "<title>21&#45;&gt;23</title>\n",
       "<path fill=\"none\" stroke=\"#000000\" d=\"M1274.4229,-88.9777C1286.977,-79.3629 1300.6119,-68.9203 1313.076,-59.3743\"/>\n",
       "<polygon fill=\"#000000\" stroke=\"#000000\" points=\"1315.2635,-62.1076 1321.0745,-53.2485 1311.0073,-56.5502 1315.2635,-62.1076\"/>\n",
       "</g>\n",
       "<!-- 25 -->\n",
       "<g id=\"node26\" class=\"node\">\n",
       "<title>25</title>\n",
       "<polygon fill=\"none\" stroke=\"#000000\" points=\"1582.5,-157 1477.5,-157 1477.5,-89 1582.5,-89 1582.5,-157\"/>\n",
       "<text text-anchor=\"middle\" x=\"1530\" y=\"-141.8\" font-family=\"Times,serif\" font-size=\"14.00\" fill=\"#000000\">X[0] &lt;= &#45;1.247</text>\n",
       "<text text-anchor=\"middle\" x=\"1530\" y=\"-126.8\" font-family=\"Times,serif\" font-size=\"14.00\" fill=\"#000000\">entropy = 0.964</text>\n",
       "<text text-anchor=\"middle\" x=\"1530\" y=\"-111.8\" font-family=\"Times,serif\" font-size=\"14.00\" fill=\"#000000\">samples = 139</text>\n",
       "<text text-anchor=\"middle\" x=\"1530\" y=\"-96.8\" font-family=\"Times,serif\" font-size=\"14.00\" fill=\"#000000\">value = [85, 54]</text>\n",
       "</g>\n",
       "<!-- 24&#45;&gt;25 -->\n",
       "<g id=\"edge25\" class=\"edge\">\n",
       "<title>24&#45;&gt;25</title>\n",
       "<path fill=\"none\" stroke=\"#000000\" d=\"M1530,-192.9465C1530,-184.776 1530,-175.9318 1530,-167.3697\"/>\n",
       "<polygon fill=\"#000000\" stroke=\"#000000\" points=\"1533.5001,-167.13 1530,-157.13 1526.5001,-167.13 1533.5001,-167.13\"/>\n",
       "</g>\n",
       "<!-- 28 -->\n",
       "<g id=\"node29\" class=\"node\">\n",
       "<title>28</title>\n",
       "<polygon fill=\"none\" stroke=\"#000000\" points=\"1764,-157 1660,-157 1660,-89 1764,-89 1764,-157\"/>\n",
       "<text text-anchor=\"middle\" x=\"1712\" y=\"-141.8\" font-family=\"Times,serif\" font-size=\"14.00\" fill=\"#000000\">X[0] &lt;= &#45;2.016</text>\n",
       "<text text-anchor=\"middle\" x=\"1712\" y=\"-126.8\" font-family=\"Times,serif\" font-size=\"14.00\" fill=\"#000000\">entropy = 0.258</text>\n",
       "<text text-anchor=\"middle\" x=\"1712\" y=\"-111.8\" font-family=\"Times,serif\" font-size=\"14.00\" fill=\"#000000\">samples = 23</text>\n",
       "<text text-anchor=\"middle\" x=\"1712\" y=\"-96.8\" font-family=\"Times,serif\" font-size=\"14.00\" fill=\"#000000\">value = [22, 1]</text>\n",
       "</g>\n",
       "<!-- 24&#45;&gt;28 -->\n",
       "<g id=\"edge28\" class=\"edge\">\n",
       "<title>24&#45;&gt;28</title>\n",
       "<path fill=\"none\" stroke=\"#000000\" d=\"M1586.0911,-194.948C1606.6537,-183.1979 1630.0193,-169.8461 1650.9919,-157.8618\"/>\n",
       "<polygon fill=\"#000000\" stroke=\"#000000\" points=\"1652.8726,-160.8183 1659.8185,-152.818 1649.3995,-154.7406 1652.8726,-160.8183\"/>\n",
       "</g>\n",
       "<!-- 26 -->\n",
       "<g id=\"node27\" class=\"node\">\n",
       "<title>26</title>\n",
       "<polygon fill=\"none\" stroke=\"#000000\" points=\"1518,-53 1426,-53 1426,0 1518,0 1518,-53\"/>\n",
       "<text text-anchor=\"middle\" x=\"1472\" y=\"-37.8\" font-family=\"Times,serif\" font-size=\"14.00\" fill=\"#000000\">entropy = 0.0</text>\n",
       "<text text-anchor=\"middle\" x=\"1472\" y=\"-22.8\" font-family=\"Times,serif\" font-size=\"14.00\" fill=\"#000000\">samples = 7</text>\n",
       "<text text-anchor=\"middle\" x=\"1472\" y=\"-7.8\" font-family=\"Times,serif\" font-size=\"14.00\" fill=\"#000000\">value = [0, 7]</text>\n",
       "</g>\n",
       "<!-- 25&#45;&gt;26 -->\n",
       "<g id=\"edge26\" class=\"edge\">\n",
       "<title>25&#45;&gt;26</title>\n",
       "<path fill=\"none\" stroke=\"#000000\" d=\"M1509.5514,-88.9777C1504.2678,-80.187 1498.5684,-70.7044 1493.2452,-61.8477\"/>\n",
       "<polygon fill=\"#000000\" stroke=\"#000000\" points=\"1496.2282,-60.0165 1488.0768,-53.2485 1490.2285,-63.6225 1496.2282,-60.0165\"/>\n",
       "</g>\n",
       "<!-- 27 -->\n",
       "<g id=\"node28\" class=\"node\">\n",
       "<title>27</title>\n",
       "<polygon fill=\"none\" stroke=\"#000000\" points=\"1641.5,-53 1536.5,-53 1536.5,0 1641.5,0 1641.5,-53\"/>\n",
       "<text text-anchor=\"middle\" x=\"1589\" y=\"-37.8\" font-family=\"Times,serif\" font-size=\"14.00\" fill=\"#000000\">entropy = 0.939</text>\n",
       "<text text-anchor=\"middle\" x=\"1589\" y=\"-22.8\" font-family=\"Times,serif\" font-size=\"14.00\" fill=\"#000000\">samples = 132</text>\n",
       "<text text-anchor=\"middle\" x=\"1589\" y=\"-7.8\" font-family=\"Times,serif\" font-size=\"14.00\" fill=\"#000000\">value = [85, 47]</text>\n",
       "</g>\n",
       "<!-- 25&#45;&gt;27 -->\n",
       "<g id=\"edge27\" class=\"edge\">\n",
       "<title>25&#45;&gt;27</title>\n",
       "<path fill=\"none\" stroke=\"#000000\" d=\"M1550.8012,-88.9777C1556.1758,-80.187 1561.9735,-70.7044 1567.3885,-61.8477\"/>\n",
       "<polygon fill=\"#000000\" stroke=\"#000000\" points=\"1570.4158,-63.6059 1572.646,-53.2485 1564.4436,-59.9545 1570.4158,-63.6059\"/>\n",
       "</g>\n",
       "<!-- 29 -->\n",
       "<g id=\"node30\" class=\"node\">\n",
       "<title>29</title>\n",
       "<polygon fill=\"none\" stroke=\"#000000\" points=\"1764,-53 1660,-53 1660,0 1764,0 1764,-53\"/>\n",
       "<text text-anchor=\"middle\" x=\"1712\" y=\"-37.8\" font-family=\"Times,serif\" font-size=\"14.00\" fill=\"#000000\">entropy = 0.722</text>\n",
       "<text text-anchor=\"middle\" x=\"1712\" y=\"-22.8\" font-family=\"Times,serif\" font-size=\"14.00\" fill=\"#000000\">samples = 5</text>\n",
       "<text text-anchor=\"middle\" x=\"1712\" y=\"-7.8\" font-family=\"Times,serif\" font-size=\"14.00\" fill=\"#000000\">value = [4, 1]</text>\n",
       "</g>\n",
       "<!-- 28&#45;&gt;29 -->\n",
       "<g id=\"edge29\" class=\"edge\">\n",
       "<title>28&#45;&gt;29</title>\n",
       "<path fill=\"none\" stroke=\"#000000\" d=\"M1712,-88.9777C1712,-80.7364 1712,-71.887 1712,-63.5153\"/>\n",
       "<polygon fill=\"#000000\" stroke=\"#000000\" points=\"1715.5001,-63.2484 1712,-53.2485 1708.5001,-63.2485 1715.5001,-63.2484\"/>\n",
       "</g>\n",
       "<!-- 30 -->\n",
       "<g id=\"node31\" class=\"node\">\n",
       "<title>30</title>\n",
       "<polygon fill=\"none\" stroke=\"#000000\" points=\"1880,-53 1782,-53 1782,0 1880,0 1880,-53\"/>\n",
       "<text text-anchor=\"middle\" x=\"1831\" y=\"-37.8\" font-family=\"Times,serif\" font-size=\"14.00\" fill=\"#000000\">entropy = 0.0</text>\n",
       "<text text-anchor=\"middle\" x=\"1831\" y=\"-22.8\" font-family=\"Times,serif\" font-size=\"14.00\" fill=\"#000000\">samples = 18</text>\n",
       "<text text-anchor=\"middle\" x=\"1831\" y=\"-7.8\" font-family=\"Times,serif\" font-size=\"14.00\" fill=\"#000000\">value = [18, 0]</text>\n",
       "</g>\n",
       "<!-- 28&#45;&gt;30 -->\n",
       "<g id=\"edge30\" class=\"edge\">\n",
       "<title>28&#45;&gt;30</title>\n",
       "<path fill=\"none\" stroke=\"#000000\" d=\"M1753.9549,-88.9777C1765.6986,-79.4545 1778.4438,-69.1191 1790.124,-59.6473\"/>\n",
       "<polygon fill=\"#000000\" stroke=\"#000000\" points=\"1792.4522,-62.2656 1798.0148,-53.2485 1788.0432,-56.8286 1792.4522,-62.2656\"/>\n",
       "</g>\n",
       "</g>\n",
       "</svg>\n"
      ],
      "text/plain": [
       "<graphviz.files.Source at 0x7f883b63c780>"
      ]
     },
     "execution_count": 51,
     "metadata": {},
     "output_type": "execute_result"
    }
   ],
   "source": [
    "import graphviz\n",
    "from sklearn import tree\n",
    "dot_data = tree.export_graphviz(clf, out_file=None) \n",
    "graph = graphviz.Source(dot_data) \n",
    "graph"
   ]
  },
  {
   "cell_type": "code",
   "execution_count": 52,
   "metadata": {},
   "outputs": [],
   "source": [
    "tree.export_graphviz(clf, out_file='tree.dot') "
   ]
  },
  {
   "cell_type": "markdown",
   "metadata": {},
   "source": [
    "**Lvl 2:** (опционально)\n",
    "\n",
    "* С помощью функций sklearn.metrics.auc, precision, recall составить функцию для расчёта ROC-AUC, ROC-PRC\n",
    "* Придумать себе интересную задачу на основе данных из интернета =) Спарсить ещё какой-нибудь сайт (не Ведомости) и решить задачу классификации. Делать свои проекты - круто. Если будут - кидайте мне =) [@NikitaKuznetsov](http://t.me/NikitaKuznesov)"
   ]
  },
  {
   "cell_type": "code",
   "execution_count": 53,
   "metadata": {},
   "outputs": [],
   "source": [
    "from sklearn import metrics"
   ]
  },
  {
   "cell_type": "code",
   "execution_count": 54,
   "metadata": {},
   "outputs": [],
   "source": [
    "def metrics_roc(y, y_pred):\n",
    "    accuracy= metrics.accuracy_score(y, y_pred)\n",
    "    recall = metrics.recall_score(y, y_pred)\n",
    "    precision = metrics.precision_score(y, y_pred)\n",
    "    cf_mtrx = metrics.confusion_matrix(y, y_pred)\n",
    "    TPR = [0, recall, 1]\n",
    "    pr_metrics = [0, precision, 1]\n",
    "    FPR = cf_mtrx[0][1]/(cf_mtrx[0][1]+cf_mtrx[1][1])\n",
    "    FPR = [0, FPR, 1]\n",
    "    ROC_AUC = metrics.auc(FPR, TPR)\n",
    "    ROC_PRC = metrics.auc(pr_metrics, TPR)\n",
    "    return ROC_AUC, ROC_PRC"
   ]
  },
  {
   "cell_type": "code",
   "execution_count": 55,
   "metadata": {},
   "outputs": [],
   "source": [
    "ROC_AUC, ROC_PRC = metrics_roc(y_val, y_val_pred)"
   ]
  },
  {
   "cell_type": "code",
   "execution_count": 56,
   "metadata": {},
   "outputs": [
    {
     "name": "stdout",
     "output_type": "stream",
     "text": [
      "ROC_PRC 0.451933\n"
     ]
    }
   ],
   "source": [
    "print('ROC_PRC {:f}'.format(ROC_PRC))"
   ]
  },
  {
   "cell_type": "code",
   "execution_count": 57,
   "metadata": {},
   "outputs": [
    {
     "name": "stdout",
     "output_type": "stream",
     "text": [
      "ROC_AUC 0.745037\n"
     ]
    }
   ],
   "source": [
    "print('ROC_AUC {:f}'.format(ROC_AUC))"
   ]
  }
 ],
 "metadata": {
  "kernelspec": {
   "display_name": "Python 3",
   "language": "python",
   "name": "python3"
  },
  "language_info": {
   "codemirror_mode": {
    "name": "ipython",
    "version": 3
   },
   "file_extension": ".py",
   "mimetype": "text/x-python",
   "name": "python",
   "nbconvert_exporter": "python",
   "pygments_lexer": "ipython3",
   "version": "3.6.5"
  }
 },
 "nbformat": 4,
 "nbformat_minor": 2
}
