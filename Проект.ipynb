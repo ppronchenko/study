{
 "cells": [
  {
   "cell_type": "code",
   "execution_count": 1,
   "metadata": {},
   "outputs": [
    {
     "name": "stderr",
     "output_type": "stream",
     "text": [
      "/home/pavel/.local/lib/python3.6/site-packages/psycopg2/__init__.py:144: UserWarning: The psycopg2 wheel package will be renamed from release 2.8; in order to keep installing from binary please use \"pip install psycopg2-binary\" instead. For details see: <http://initd.org/psycopg/docs/install.html#binary-install-from-pypi>.\n",
      "  \"\"\")\n"
     ]
    }
   ],
   "source": [
    "import os\n",
    "import psycopg2\n",
    "import psycopg2.extensions\n",
    "import logging\n",
    "import pandas as pd\n",
    "import numpy as np"
   ]
  },
  {
   "cell_type": "code",
   "execution_count": 2,
   "metadata": {},
   "outputs": [],
   "source": [
    "logging.basicConfig(format='%(asctime)s : %(levelname)s : %(message)s', level=logging.INFO)\n",
    "logger = logging.getLogger(__name__)"
   ]
  },
  {
   "cell_type": "code",
   "execution_count": 3,
   "metadata": {},
   "outputs": [
    {
     "name": "stderr",
     "output_type": "stream",
     "text": [
      "2018-08-27 11:01:49,757 : INFO : Создаём подключёние к Postgres\n"
     ]
    }
   ],
   "source": [
    "logger.info(\"Создаём подключёние к Postgres\")\n",
    "params = {\n",
    "    \"host\": '/var/run/postgresql',\n",
    "    \"port\": '5432',\n",
    "    \"user\": 'pavel'\n",
    "}\n",
    "conn = psycopg2.connect(**params)"
   ]
  },
  {
   "cell_type": "code",
   "execution_count": 4,
   "metadata": {},
   "outputs": [],
   "source": [
    "psycopg2.extensions.register_type(\n",
    "    psycopg2.extensions.UNICODE,\n",
    "    conn\n",
    ")\n",
    "conn.set_isolation_level(\n",
    "    psycopg2.extensions.ISOLATION_LEVEL_AUTOCOMMIT\n",
    ")\n",
    "cursor = conn.cursor()"
   ]
  },
  {
   "cell_type": "code",
   "execution_count": 5,
   "metadata": {},
   "outputs": [],
   "source": [
    "user_item_query_config = {\n",
    "    \"MIN_USERS_FOR_ITEM\": 10,\n",
    "    \"MIN_ITEMS_FOR_USER\": 3,\n",
    "    \"MAX_ITEMS_FOR_USER\": 50,\n",
    "    \"MAX_ROW_NUMBER\": 100000\n",
    "}\n",
    "sql_str = (\n",
    "        \"\"\"\n",
    "          SELECT * FROM sales limit 100000;\n",
    "        \"\"\" % user_item_query_config\n",
    ")"
   ]
  },
  {
   "cell_type": "code",
   "execution_count": 6,
   "metadata": {},
   "outputs": [
    {
     "name": "stderr",
     "output_type": "stream",
     "text": [
      "2018-08-27 11:01:50,892 : INFO : Данные по продажам загружены из Postgres\n"
     ]
    }
   ],
   "source": [
    "cursor.execute(sql_str)\n",
    "ui_data = [a for a in cursor.fetchall()]\n",
    "conn.commit()\n",
    "logger.info(\"Данные по продажам загружены из Postgres\")"
   ]
  },
  {
   "cell_type": "code",
   "execution_count": 7,
   "metadata": {},
   "outputs": [],
   "source": [
    "sales = pd.DataFrame(ui_data)"
   ]
  },
  {
   "cell_type": "code",
   "execution_count": 8,
   "metadata": {},
   "outputs": [],
   "source": [
    "sales.columns = ['OPER_DATE', 'CODE_OFFICE', 'TP', 'DOC_NUMBER', 'ITEM_ARTICLE', 'QTY', 'AMOUNT_AUTO_DISCOUNT', 'AMOUNT_RUR', 'PAYMENT_FORM', 'KEY_DISCOUNT']"
   ]
  },
  {
   "cell_type": "code",
   "execution_count": 9,
   "metadata": {},
   "outputs": [
    {
     "data": {
      "text/html": [
       "<div>\n",
       "<style scoped>\n",
       "    .dataframe tbody tr th:only-of-type {\n",
       "        vertical-align: middle;\n",
       "    }\n",
       "\n",
       "    .dataframe tbody tr th {\n",
       "        vertical-align: top;\n",
       "    }\n",
       "\n",
       "    .dataframe thead th {\n",
       "        text-align: right;\n",
       "    }\n",
       "</style>\n",
       "<table border=\"1\" class=\"dataframe\">\n",
       "  <thead>\n",
       "    <tr style=\"text-align: right;\">\n",
       "      <th></th>\n",
       "      <th>OPER_DATE</th>\n",
       "      <th>CODE_OFFICE</th>\n",
       "      <th>TP</th>\n",
       "      <th>DOC_NUMBER</th>\n",
       "      <th>ITEM_ARTICLE</th>\n",
       "      <th>QTY</th>\n",
       "      <th>AMOUNT_AUTO_DISCOUNT</th>\n",
       "      <th>AMOUNT_RUR</th>\n",
       "      <th>PAYMENT_FORM</th>\n",
       "      <th>KEY_DISCOUNT</th>\n",
       "    </tr>\n",
       "  </thead>\n",
       "  <tbody>\n",
       "    <tr>\n",
       "      <th>0</th>\n",
       "      <td>2017-07-04 08:06:00</td>\n",
       "      <td>127015</td>\n",
       "      <td>I</td>\n",
       "      <td>1127015015336</td>\n",
       "      <td>PB</td>\n",
       "      <td>1</td>\n",
       "      <td>None</td>\n",
       "      <td>500</td>\n",
       "      <td>Наличная</td>\n",
       "      <td>1.0</td>\n",
       "    </tr>\n",
       "    <tr>\n",
       "      <th>1</th>\n",
       "      <td>2017-07-04 08:08:00</td>\n",
       "      <td>723044</td>\n",
       "      <td>I</td>\n",
       "      <td>1723044009845</td>\n",
       "      <td>0970083944</td>\n",
       "      <td>1</td>\n",
       "      <td>None</td>\n",
       "      <td>200</td>\n",
       "      <td>Наличная</td>\n",
       "      <td>1.0</td>\n",
       "    </tr>\n",
       "    <tr>\n",
       "      <th>2</th>\n",
       "      <td>2017-07-04 08:07:00</td>\n",
       "      <td>672039</td>\n",
       "      <td>I</td>\n",
       "      <td>1672039003109</td>\n",
       "      <td>0970025152</td>\n",
       "      <td>1</td>\n",
       "      <td>None</td>\n",
       "      <td>300</td>\n",
       "      <td>Наличная</td>\n",
       "      <td>1.0</td>\n",
       "    </tr>\n",
       "    <tr>\n",
       "      <th>3</th>\n",
       "      <td>2017-07-04 08:06:00</td>\n",
       "      <td>723025</td>\n",
       "      <td>I</td>\n",
       "      <td>1723025003564</td>\n",
       "      <td>K2</td>\n",
       "      <td>1</td>\n",
       "      <td>None</td>\n",
       "      <td>15000</td>\n",
       "      <td>Наличная</td>\n",
       "      <td>NaN</td>\n",
       "    </tr>\n",
       "    <tr>\n",
       "      <th>4</th>\n",
       "      <td>2017-07-04 19:29:00</td>\n",
       "      <td>478216</td>\n",
       "      <td>I</td>\n",
       "      <td>1478216002736</td>\n",
       "      <td>0970096274</td>\n",
       "      <td>1</td>\n",
       "      <td>None</td>\n",
       "      <td>200</td>\n",
       "      <td>Наличная</td>\n",
       "      <td>1.0</td>\n",
       "    </tr>\n",
       "  </tbody>\n",
       "</table>\n",
       "</div>"
      ],
      "text/plain": [
       "            OPER_DATE CODE_OFFICE TP     DOC_NUMBER ITEM_ARTICLE  QTY  \\\n",
       "0 2017-07-04 08:06:00      127015  I  1127015015336           PB    1   \n",
       "1 2017-07-04 08:08:00      723044  I  1723044009845   0970083944    1   \n",
       "2 2017-07-04 08:07:00      672039  I  1672039003109   0970025152    1   \n",
       "3 2017-07-04 08:06:00      723025  I  1723025003564           K2    1   \n",
       "4 2017-07-04 19:29:00      478216  I  1478216002736   0970096274    1   \n",
       "\n",
       "  AMOUNT_AUTO_DISCOUNT AMOUNT_RUR PAYMENT_FORM  KEY_DISCOUNT  \n",
       "0                 None        500     Наличная           1.0  \n",
       "1                 None        200     Наличная           1.0  \n",
       "2                 None        300     Наличная           1.0  \n",
       "3                 None      15000     Наличная           NaN  \n",
       "4                 None        200     Наличная           1.0  "
      ]
     },
     "execution_count": 9,
     "metadata": {},
     "output_type": "execute_result"
    }
   ],
   "source": [
    "sales.head()"
   ]
  },
  {
   "cell_type": "code",
   "execution_count": 10,
   "metadata": {},
   "outputs": [],
   "source": [
    "user_item_query_config = {\n",
    "    \"MIN_USERS_FOR_ITEM\": 10,\n",
    "    \"MIN_ITEMS_FOR_USER\": 3,\n",
    "    \"MAX_ITEMS_FOR_USER\": 50,\n",
    "    \"MAX_ROW_NUMBER\": 100000\n",
    "}\n",
    "sql_str = (\n",
    "        \"\"\"\n",
    "          SELECT * FROM items limit 100000;\n",
    "        \"\"\" % user_item_query_config\n",
    ")"
   ]
  },
  {
   "cell_type": "code",
   "execution_count": 11,
   "metadata": {},
   "outputs": [
    {
     "name": "stderr",
     "output_type": "stream",
     "text": [
      "2018-08-27 11:01:52,170 : INFO : Данные по артикулам загружены из Postgres\n"
     ]
    }
   ],
   "source": [
    "cursor.execute(sql_str)\n",
    "ui_data = [a for a in cursor.fetchall()]\n",
    "conn.commit()\n",
    "logger.info(\"Данные по артикулам загружены из Postgres\")"
   ]
  },
  {
   "cell_type": "code",
   "execution_count": 12,
   "metadata": {},
   "outputs": [],
   "source": [
    "items = pd.DataFrame(ui_data)"
   ]
  },
  {
   "cell_type": "code",
   "execution_count": 13,
   "metadata": {},
   "outputs": [],
   "source": [
    "items.columns = ['ITEM_ARTICLE','ITEM_NAME','ITEM_CATEGORY', 'ITEM_SUBCATEGORY','ITEM_MARK','VIEW_ITEM','MOD_NO_COLOR']"
   ]
  },
  {
   "cell_type": "code",
   "execution_count": 14,
   "metadata": {},
   "outputs": [
    {
     "data": {
      "text/html": [
       "<div>\n",
       "<style scoped>\n",
       "    .dataframe tbody tr th:only-of-type {\n",
       "        vertical-align: middle;\n",
       "    }\n",
       "\n",
       "    .dataframe tbody tr th {\n",
       "        vertical-align: top;\n",
       "    }\n",
       "\n",
       "    .dataframe thead th {\n",
       "        text-align: right;\n",
       "    }\n",
       "</style>\n",
       "<table border=\"1\" class=\"dataframe\">\n",
       "  <thead>\n",
       "    <tr style=\"text-align: right;\">\n",
       "      <th></th>\n",
       "      <th>ITEM_ARTICLE</th>\n",
       "      <th>ITEM_NAME</th>\n",
       "      <th>ITEM_CATEGORY</th>\n",
       "      <th>ITEM_SUBCATEGORY</th>\n",
       "      <th>ITEM_MARK</th>\n",
       "      <th>VIEW_ITEM</th>\n",
       "      <th>MOD_NO_COLOR</th>\n",
       "    </tr>\n",
       "  </thead>\n",
       "  <tbody>\n",
       "    <tr>\n",
       "      <th>0</th>\n",
       "      <td>0105001240</td>\n",
       "      <td>Чех.UCHUN7BB беж-син. Untamo</td>\n",
       "      <td>Accessories</td>\n",
       "      <td>Чехол</td>\n",
       "      <td>Untamo</td>\n",
       "      <td>Товары без серий</td>\n",
       "      <td>Чехол UCHUN7BB беж-син. Untamo</td>\n",
       "    </tr>\n",
       "    <tr>\n",
       "      <th>1</th>\n",
       "      <td>0105001250</td>\n",
       "      <td>Чех.UCHUN7GL серо-салат.Untamo</td>\n",
       "      <td>Accessories</td>\n",
       "      <td>Чехол</td>\n",
       "      <td>Untamo</td>\n",
       "      <td>Товары без серий</td>\n",
       "      <td>Чехол UCHUN7GL серо-салат.Untamo</td>\n",
       "    </tr>\n",
       "    <tr>\n",
       "      <th>2</th>\n",
       "      <td>0105001260</td>\n",
       "      <td>Чех. UACBTABBL черн. Untamo</td>\n",
       "      <td>Accessories</td>\n",
       "      <td>Чехол</td>\n",
       "      <td>Untamo</td>\n",
       "      <td>Товары без серий</td>\n",
       "      <td>Чехол  UACBTABBL черн. Untamo</td>\n",
       "    </tr>\n",
       "    <tr>\n",
       "      <th>3</th>\n",
       "      <td>0105001270</td>\n",
       "      <td>Чех.CPC_AP_I5_BLACK APEXTO</td>\n",
       "      <td>Accessories</td>\n",
       "      <td>Чехол</td>\n",
       "      <td>Lone</td>\n",
       "      <td>Товары без серий</td>\n",
       "      <td>Чех.CPC_AP_I5_BLACK APEXTO</td>\n",
       "    </tr>\n",
       "    <tr>\n",
       "      <th>4</th>\n",
       "      <td>0201000490</td>\n",
       "      <td>Р/т Motorola V100 GSM</td>\n",
       "      <td>Phones</td>\n",
       "      <td>FEATUREPHONES</td>\n",
       "      <td>Motorola</td>\n",
       "      <td>Товары без серий</td>\n",
       "      <td>Motorola V100</td>\n",
       "    </tr>\n",
       "  </tbody>\n",
       "</table>\n",
       "</div>"
      ],
      "text/plain": [
       "  ITEM_ARTICLE                       ITEM_NAME ITEM_CATEGORY ITEM_SUBCATEGORY  \\\n",
       "0   0105001240    Чех.UCHUN7BB беж-син. Untamo   Accessories            Чехол   \n",
       "1   0105001250  Чех.UCHUN7GL серо-салат.Untamo   Accessories            Чехол   \n",
       "2   0105001260     Чех. UACBTABBL черн. Untamo   Accessories            Чехол   \n",
       "3   0105001270      Чех.CPC_AP_I5_BLACK APEXTO   Accessories            Чехол   \n",
       "4   0201000490           Р/т Motorola V100 GSM        Phones    FEATUREPHONES   \n",
       "\n",
       "  ITEM_MARK         VIEW_ITEM                      MOD_NO_COLOR  \n",
       "0    Untamo  Товары без серий    Чехол UCHUN7BB беж-син. Untamo  \n",
       "1    Untamo  Товары без серий  Чехол UCHUN7GL серо-салат.Untamo  \n",
       "2    Untamo  Товары без серий     Чехол  UACBTABBL черн. Untamo  \n",
       "3      Lone  Товары без серий        Чех.CPC_AP_I5_BLACK APEXTO  \n",
       "4  Motorola  Товары без серий                     Motorola V100  "
      ]
     },
     "execution_count": 14,
     "metadata": {},
     "output_type": "execute_result"
    }
   ],
   "source": [
    "items.head()"
   ]
  },
  {
   "cell_type": "code",
   "execution_count": 15,
   "metadata": {},
   "outputs": [],
   "source": [
    "user_item_query_config = {\n",
    "    \"MIN_USERS_FOR_ITEM\": 10,\n",
    "    \"MIN_ITEMS_FOR_USER\": 3,\n",
    "    \"MAX_ITEMS_FOR_USER\": 50,\n",
    "    \"MAX_ROW_NUMBER\": 100000\n",
    "}\n",
    "sql_str = (\n",
    "        \"\"\"\n",
    "          SELECT * FROM shops limit 100000;\n",
    "        \"\"\" % user_item_query_config\n",
    ")"
   ]
  },
  {
   "cell_type": "code",
   "execution_count": 16,
   "metadata": {},
   "outputs": [
    {
     "name": "stderr",
     "output_type": "stream",
     "text": [
      "2018-08-27 11:01:53,548 : INFO : Данные по справочнику ТТ из Postgres\n"
     ]
    }
   ],
   "source": [
    "cursor.execute(sql_str)\n",
    "ui_data = [a for a in cursor.fetchall()]\n",
    "conn.commit()\n",
    "logger.info(\"Данные по справочнику ТТ из Postgres\")"
   ]
  },
  {
   "cell_type": "code",
   "execution_count": 17,
   "metadata": {},
   "outputs": [],
   "source": [
    "shops = pd.DataFrame(ui_data)"
   ]
  },
  {
   "cell_type": "code",
   "execution_count": 18,
   "metadata": {},
   "outputs": [],
   "source": [
    "shops.columns = ['MARKET_CODE', 'SHOP', 'CODE_POINTS_SALE', 'CODE_OFFICE', 'SHEDULE_NAME', 'TIME_ZONE']"
   ]
  },
  {
   "cell_type": "code",
   "execution_count": 19,
   "metadata": {
    "scrolled": false
   },
   "outputs": [
    {
     "data": {
      "text/html": [
       "<div>\n",
       "<style scoped>\n",
       "    .dataframe tbody tr th:only-of-type {\n",
       "        vertical-align: middle;\n",
       "    }\n",
       "\n",
       "    .dataframe tbody tr th {\n",
       "        vertical-align: top;\n",
       "    }\n",
       "\n",
       "    .dataframe thead th {\n",
       "        text-align: right;\n",
       "    }\n",
       "</style>\n",
       "<table border=\"1\" class=\"dataframe\">\n",
       "  <thead>\n",
       "    <tr style=\"text-align: right;\">\n",
       "      <th></th>\n",
       "      <th>MARKET_CODE</th>\n",
       "      <th>SHOP</th>\n",
       "      <th>CODE_POINTS_SALE</th>\n",
       "      <th>CODE_OFFICE</th>\n",
       "      <th>SHEDULE_NAME</th>\n",
       "      <th>TIME_ZONE</th>\n",
       "    </tr>\n",
       "  </thead>\n",
       "  <tbody>\n",
       "    <tr>\n",
       "      <th>0</th>\n",
       "      <td>SPB</td>\n",
       "      <td>ЦКЗ (Измайловский) Внешние сотрудники</td>\n",
       "      <td>41816</td>\n",
       "      <td>478161</td>\n",
       "      <td>None</td>\n",
       "      <td>None</td>\n",
       "    </tr>\n",
       "    <tr>\n",
       "      <th>1</th>\n",
       "      <td>VIP</td>\n",
       "      <td>Москва, Грекова д.8</td>\n",
       "      <td>056000</td>\n",
       "      <td>277004</td>\n",
       "      <td>График ежедневно 8:00 - 22:00</td>\n",
       "      <td>GMT+03:00</td>\n",
       "    </tr>\n",
       "    <tr>\n",
       "      <th>2</th>\n",
       "      <td>YAK</td>\n",
       "      <td>Республика Саха (Якутия), п. Хандыга,ул, П. Ал...</td>\n",
       "      <td>7M42000</td>\n",
       "      <td>114042</td>\n",
       "      <td>None</td>\n",
       "      <td>None</td>\n",
       "    </tr>\n",
       "    <tr>\n",
       "      <th>3</th>\n",
       "      <td>CHT</td>\n",
       "      <td>672038 Чита г Шилова ул. 100 стр. 2</td>\n",
       "      <td>7K71000</td>\n",
       "      <td>175029</td>\n",
       "      <td>None</td>\n",
       "      <td>None</td>\n",
       "    </tr>\n",
       "    <tr>\n",
       "      <th>4</th>\n",
       "      <td>BUR</td>\n",
       "      <td>670033 Улан-Удэ г Жердева ул 104 б</td>\n",
       "      <td>7K69000</td>\n",
       "      <td>432083</td>\n",
       "      <td>None</td>\n",
       "      <td>GMT+08:00</td>\n",
       "    </tr>\n",
       "  </tbody>\n",
       "</table>\n",
       "</div>"
      ],
      "text/plain": [
       "  MARKET_CODE                                               SHOP  \\\n",
       "0         SPB              ЦКЗ (Измайловский) Внешние сотрудники   \n",
       "1         VIP                                Москва, Грекова д.8   \n",
       "2         YAK  Республика Саха (Якутия), п. Хандыга,ул, П. Ал...   \n",
       "3         CHT                672038 Чита г Шилова ул. 100 стр. 2   \n",
       "4         BUR                 670033 Улан-Удэ г Жердева ул 104 б   \n",
       "\n",
       "  CODE_POINTS_SALE CODE_OFFICE                   SHEDULE_NAME  TIME_ZONE  \n",
       "0            41816      478161                           None       None  \n",
       "1           056000      277004  График ежедневно 8:00 - 22:00  GMT+03:00  \n",
       "2          7M42000      114042                           None       None  \n",
       "3          7K71000      175029                           None       None  \n",
       "4          7K69000      432083                           None  GMT+08:00  "
      ]
     },
     "execution_count": 19,
     "metadata": {},
     "output_type": "execute_result"
    }
   ],
   "source": [
    "shops.head()"
   ]
  },
  {
   "cell_type": "code",
   "execution_count": 20,
   "metadata": {},
   "outputs": [],
   "source": [
    "user_item_query_config = {\n",
    "    \"MIN_USERS_FOR_ITEM\": 10,\n",
    "    \"MIN_ITEMS_FOR_USER\": 3,\n",
    "    \"MAX_ITEMS_FOR_USER\": 50,\n",
    "    \"MAX_ROW_NUMBER\": 100000\n",
    "}\n",
    "sql_str = (\n",
    "        \"\"\"\n",
    "          SELECT * FROM retail_offices limit 100000;\n",
    "        \"\"\" % user_item_query_config\n",
    ")"
   ]
  },
  {
   "cell_type": "code",
   "execution_count": 21,
   "metadata": {},
   "outputs": [
    {
     "name": "stderr",
     "output_type": "stream",
     "text": [
      "2018-08-27 11:01:54,721 : INFO : Данные по справочнику ТТ из Postgres\n"
     ]
    }
   ],
   "source": [
    "cursor.execute(sql_str)\n",
    "ui_data = [a for a in cursor.fetchall()]\n",
    "conn.commit()\n",
    "logger.info(\"Данные по справочнику ТТ из Postgres\")"
   ]
  },
  {
   "cell_type": "code",
   "execution_count": 22,
   "metadata": {},
   "outputs": [],
   "source": [
    "retail_offices =  pd.DataFrame(ui_data)"
   ]
  },
  {
   "cell_type": "code",
   "execution_count": 23,
   "metadata": {},
   "outputs": [],
   "source": [
    "retail_offices.columns = ['YM', 'CODE_POINTS_SALE', 'REGION', 'BRANCHNAME', 'BRANCH_ADRR', 'STATUS']"
   ]
  },
  {
   "cell_type": "code",
   "execution_count": 24,
   "metadata": {
    "scrolled": true
   },
   "outputs": [
    {
     "data": {
      "text/html": [
       "<div>\n",
       "<style scoped>\n",
       "    .dataframe tbody tr th:only-of-type {\n",
       "        vertical-align: middle;\n",
       "    }\n",
       "\n",
       "    .dataframe tbody tr th {\n",
       "        vertical-align: top;\n",
       "    }\n",
       "\n",
       "    .dataframe thead th {\n",
       "        text-align: right;\n",
       "    }\n",
       "</style>\n",
       "<table border=\"1\" class=\"dataframe\">\n",
       "  <thead>\n",
       "    <tr style=\"text-align: right;\">\n",
       "      <th></th>\n",
       "      <th>YM</th>\n",
       "      <th>CODE_POINTS_SALE</th>\n",
       "      <th>REGION</th>\n",
       "      <th>BRANCHNAME</th>\n",
       "      <th>BRANCH_ADRR</th>\n",
       "      <th>STATUS</th>\n",
       "    </tr>\n",
       "  </thead>\n",
       "  <tbody>\n",
       "    <tr>\n",
       "      <th>0</th>\n",
       "      <td>1707</td>\n",
       "      <td>006000</td>\n",
       "      <td>Б.Москва</td>\n",
       "      <td>Московский филиал</td>\n",
       "      <td>г. Москва, ул. 1-я Тверская-Ямская, д.2, стр.1...</td>\n",
       "      <td>Открыт</td>\n",
       "    </tr>\n",
       "    <tr>\n",
       "      <th>1</th>\n",
       "      <td>1707</td>\n",
       "      <td>055000</td>\n",
       "      <td>Б.Москва</td>\n",
       "      <td>Московский филиал</td>\n",
       "      <td>г. Москва, Зеленый пр-т д. 54А, ТЦ Меркурий 1 ...</td>\n",
       "      <td>Открыт</td>\n",
       "    </tr>\n",
       "    <tr>\n",
       "      <th>2</th>\n",
       "      <td>1707</td>\n",
       "      <td>056000</td>\n",
       "      <td>Б.Москва</td>\n",
       "      <td>Московский филиал</td>\n",
       "      <td>г. Москва, ул. Грекова д.8</td>\n",
       "      <td>Открыт</td>\n",
       "    </tr>\n",
       "    <tr>\n",
       "      <th>3</th>\n",
       "      <td>1707</td>\n",
       "      <td>057000</td>\n",
       "      <td>Б.Москва</td>\n",
       "      <td>Московский филиал</td>\n",
       "      <td>г. Москва, ул. Маршала Бирюзова д. 14</td>\n",
       "      <td>Открыт</td>\n",
       "    </tr>\n",
       "    <tr>\n",
       "      <th>4</th>\n",
       "      <td>1707</td>\n",
       "      <td>058000</td>\n",
       "      <td>Б.Москва</td>\n",
       "      <td>Московский филиал</td>\n",
       "      <td>г. Орехово-Зуево Привокзальная пл. д. 4</td>\n",
       "      <td>Открыт</td>\n",
       "    </tr>\n",
       "  </tbody>\n",
       "</table>\n",
       "</div>"
      ],
      "text/plain": [
       "     YM CODE_POINTS_SALE    REGION         BRANCHNAME  \\\n",
       "0  1707           006000  Б.Москва  Московский филиал   \n",
       "1  1707           055000  Б.Москва  Московский филиал   \n",
       "2  1707           056000  Б.Москва  Московский филиал   \n",
       "3  1707           057000  Б.Москва  Московский филиал   \n",
       "4  1707           058000  Б.Москва  Московский филиал   \n",
       "\n",
       "                                         BRANCH_ADRR  STATUS  \n",
       "0  г. Москва, ул. 1-я Тверская-Ямская, д.2, стр.1...  Открыт  \n",
       "1  г. Москва, Зеленый пр-т д. 54А, ТЦ Меркурий 1 ...  Открыт  \n",
       "2                         г. Москва, ул. Грекова д.8  Открыт  \n",
       "3              г. Москва, ул. Маршала Бирюзова д. 14  Открыт  \n",
       "4            г. Орехово-Зуево Привокзальная пл. д. 4  Открыт  "
      ]
     },
     "execution_count": 24,
     "metadata": {},
     "output_type": "execute_result"
    }
   ],
   "source": [
    "retail_offices.head()"
   ]
  },
  {
   "cell_type": "markdown",
   "metadata": {},
   "source": [
    "Реализация Запроса 9. Выгрузить самые дорогие проданные смартфоны в каждом регионе"
   ]
  },
  {
   "cell_type": "code",
   "execution_count": 25,
   "metadata": {},
   "outputs": [],
   "source": [
    "df = pd.merge(sales, items, how = 'left', on = 'ITEM_ARTICLE')"
   ]
  },
  {
   "cell_type": "code",
   "execution_count": 26,
   "metadata": {},
   "outputs": [],
   "source": [
    "df1 = df[df.ITEM_SUBCATEGORY == 'SMARTPHONES']"
   ]
  },
  {
   "cell_type": "code",
   "execution_count": 27,
   "metadata": {},
   "outputs": [],
   "source": [
    "df2 = df1[df1.TP == 'I']"
   ]
  },
  {
   "cell_type": "code",
   "execution_count": 28,
   "metadata": {},
   "outputs": [],
   "source": [
    "df3 = pd.merge(df2, shops, how = 'left', on = 'CODE_OFFICE')"
   ]
  },
  {
   "cell_type": "code",
   "execution_count": 29,
   "metadata": {},
   "outputs": [],
   "source": [
    "df4 = pd.merge(df3, retail_offices, on = 'CODE_POINTS_SALE')"
   ]
  },
  {
   "cell_type": "code",
   "execution_count": 30,
   "metadata": {},
   "outputs": [],
   "source": [
    "df5 = (df4.assign(rn=df4.sort_values(['AMOUNT_RUR'], ascending=False)\n",
    "                            .groupby(['REGION'])\n",
    "                            .cumcount() + 1)\n",
    "              .query('rn <= 1')\n",
    "             .sort_values(['AMOUNT_RUR','rn'], ascending=False) \n",
    "             )"
   ]
  },
  {
   "cell_type": "code",
   "execution_count": 31,
   "metadata": {},
   "outputs": [],
   "source": [
    "df6 = df5.loc[:, ['REGION','AMOUNT_RUR']]"
   ]
  },
  {
   "cell_type": "code",
   "execution_count": 32,
   "metadata": {},
   "outputs": [
    {
     "data": {
      "text/html": [
       "<div>\n",
       "<style scoped>\n",
       "    .dataframe tbody tr th:only-of-type {\n",
       "        vertical-align: middle;\n",
       "    }\n",
       "\n",
       "    .dataframe tbody tr th {\n",
       "        vertical-align: top;\n",
       "    }\n",
       "\n",
       "    .dataframe thead th {\n",
       "        text-align: right;\n",
       "    }\n",
       "</style>\n",
       "<table border=\"1\" class=\"dataframe\">\n",
       "  <thead>\n",
       "    <tr style=\"text-align: right;\">\n",
       "      <th></th>\n",
       "      <th>REGION</th>\n",
       "      <th>AMOUNT_RUR</th>\n",
       "    </tr>\n",
       "  </thead>\n",
       "  <tbody>\n",
       "    <tr>\n",
       "      <th>644</th>\n",
       "      <td>Сибирь</td>\n",
       "      <td>25990</td>\n",
       "    </tr>\n",
       "    <tr>\n",
       "      <th>1578</th>\n",
       "      <td>Б.Москва</td>\n",
       "      <td>21990</td>\n",
       "    </tr>\n",
       "    <tr>\n",
       "      <th>472</th>\n",
       "      <td>Волга</td>\n",
       "      <td>19990</td>\n",
       "    </tr>\n",
       "    <tr>\n",
       "      <th>391</th>\n",
       "      <td>Запад</td>\n",
       "      <td>18990</td>\n",
       "    </tr>\n",
       "    <tr>\n",
       "      <th>317</th>\n",
       "      <td>ДВ</td>\n",
       "      <td>16990</td>\n",
       "    </tr>\n",
       "  </tbody>\n",
       "</table>\n",
       "</div>"
      ],
      "text/plain": [
       "        REGION AMOUNT_RUR\n",
       "644     Сибирь      25990\n",
       "1578  Б.Москва      21990\n",
       "472      Волга      19990\n",
       "391      Запад      18990\n",
       "317         ДВ      16990"
      ]
     },
     "execution_count": 32,
     "metadata": {},
     "output_type": "execute_result"
    }
   ],
   "source": [
    "df6.head()"
   ]
  },
  {
   "cell_type": "markdown",
   "metadata": {},
   "source": [
    "Реализация Запроса 7. Вывести долю каждой позиции в сумме чека"
   ]
  },
  {
   "cell_type": "code",
   "execution_count": 33,
   "metadata": {},
   "outputs": [],
   "source": [
    "df = pd.merge(sales, items, how = 'left', on = 'ITEM_ARTICLE')"
   ]
  },
  {
   "cell_type": "code",
   "execution_count": 34,
   "metadata": {},
   "outputs": [],
   "source": [
    "df2 = df.loc[:, ['OPER_DATE', 'DOC_NUMBER', 'ITEM_ARTICLE', 'AMOUNT_RUR']]"
   ]
  },
  {
   "cell_type": "code",
   "execution_count": 35,
   "metadata": {},
   "outputs": [],
   "source": [
    "df3 = pd.DataFrame(df2.groupby('DOC_NUMBER')['AMOUNT_RUR'].sum())"
   ]
  },
  {
   "cell_type": "code",
   "execution_count": 36,
   "metadata": {},
   "outputs": [],
   "source": [
    "df4 = pd.merge(df2, df3, how = 'left', on = 'DOC_NUMBER')"
   ]
  },
  {
   "cell_type": "code",
   "execution_count": 37,
   "metadata": {},
   "outputs": [],
   "source": [
    "df4.columns = ['OPER_DATE', 'DOC_NUMBER', 'ITEM_ARTICLE', 'AMOUNT_RUR', 'Summ_Chek_RUR']"
   ]
  },
  {
   "cell_type": "code",
   "execution_count": 38,
   "metadata": {},
   "outputs": [],
   "source": [
    "df4['Share_of_item']= df4.Summ_Chek_RUR/df4.AMOUNT_RUR"
   ]
  },
  {
   "cell_type": "code",
   "execution_count": 39,
   "metadata": {},
   "outputs": [
    {
     "data": {
      "text/html": [
       "<div>\n",
       "<style scoped>\n",
       "    .dataframe tbody tr th:only-of-type {\n",
       "        vertical-align: middle;\n",
       "    }\n",
       "\n",
       "    .dataframe tbody tr th {\n",
       "        vertical-align: top;\n",
       "    }\n",
       "\n",
       "    .dataframe thead th {\n",
       "        text-align: right;\n",
       "    }\n",
       "</style>\n",
       "<table border=\"1\" class=\"dataframe\">\n",
       "  <thead>\n",
       "    <tr style=\"text-align: right;\">\n",
       "      <th></th>\n",
       "      <th>OPER_DATE</th>\n",
       "      <th>DOC_NUMBER</th>\n",
       "      <th>ITEM_ARTICLE</th>\n",
       "      <th>AMOUNT_RUR</th>\n",
       "      <th>Summ_Chek_RUR</th>\n",
       "      <th>Share_of_item</th>\n",
       "    </tr>\n",
       "  </thead>\n",
       "  <tbody>\n",
       "    <tr>\n",
       "      <th>0</th>\n",
       "      <td>2017-07-04 08:06:00</td>\n",
       "      <td>1127015015336</td>\n",
       "      <td>PB</td>\n",
       "      <td>500</td>\n",
       "      <td>500</td>\n",
       "      <td>1</td>\n",
       "    </tr>\n",
       "    <tr>\n",
       "      <th>1</th>\n",
       "      <td>2017-07-04 08:08:00</td>\n",
       "      <td>1723044009845</td>\n",
       "      <td>0970083944</td>\n",
       "      <td>200</td>\n",
       "      <td>200</td>\n",
       "      <td>1</td>\n",
       "    </tr>\n",
       "    <tr>\n",
       "      <th>2</th>\n",
       "      <td>2017-07-04 08:07:00</td>\n",
       "      <td>1672039003109</td>\n",
       "      <td>0970025152</td>\n",
       "      <td>300</td>\n",
       "      <td>300</td>\n",
       "      <td>1</td>\n",
       "    </tr>\n",
       "    <tr>\n",
       "      <th>3</th>\n",
       "      <td>2017-07-04 08:06:00</td>\n",
       "      <td>1723025003564</td>\n",
       "      <td>K2</td>\n",
       "      <td>15000</td>\n",
       "      <td>15000</td>\n",
       "      <td>1</td>\n",
       "    </tr>\n",
       "    <tr>\n",
       "      <th>4</th>\n",
       "      <td>2017-07-04 19:29:00</td>\n",
       "      <td>1478216002736</td>\n",
       "      <td>0970096274</td>\n",
       "      <td>200</td>\n",
       "      <td>200</td>\n",
       "      <td>1</td>\n",
       "    </tr>\n",
       "  </tbody>\n",
       "</table>\n",
       "</div>"
      ],
      "text/plain": [
       "            OPER_DATE     DOC_NUMBER ITEM_ARTICLE AMOUNT_RUR Summ_Chek_RUR  \\\n",
       "0 2017-07-04 08:06:00  1127015015336           PB        500           500   \n",
       "1 2017-07-04 08:08:00  1723044009845   0970083944        200           200   \n",
       "2 2017-07-04 08:07:00  1672039003109   0970025152        300           300   \n",
       "3 2017-07-04 08:06:00  1723025003564           K2      15000         15000   \n",
       "4 2017-07-04 19:29:00  1478216002736   0970096274        200           200   \n",
       "\n",
       "  Share_of_item  \n",
       "0             1  \n",
       "1             1  \n",
       "2             1  \n",
       "3             1  \n",
       "4             1  "
      ]
     },
     "execution_count": 39,
     "metadata": {},
     "output_type": "execute_result"
    }
   ],
   "source": [
    "df4.head()"
   ]
  },
  {
   "cell_type": "markdown",
   "metadata": {},
   "source": [
    "Выгрузка данных в .csv"
   ]
  },
  {
   "cell_type": "code",
   "execution_count": 40,
   "metadata": {},
   "outputs": [],
   "source": [
    "df4.to_csv('agg_date_from_postgres.csv', sep=',', header=True)"
   ]
  },
  {
   "cell_type": "markdown",
   "metadata": {},
   "source": [
    "Реализация Запроса 3. Выгрузить регионы с количеством точкек более 200."
   ]
  },
  {
   "cell_type": "code",
   "execution_count": 41,
   "metadata": {},
   "outputs": [],
   "source": [
    "df = shops[shops.CODE_POINTS_SALE != 'NaN']"
   ]
  },
  {
   "cell_type": "code",
   "execution_count": 42,
   "metadata": {},
   "outputs": [],
   "source": [
    "df1 = pd.merge(df, retail_offices, how = 'left', on = 'CODE_POINTS_SALE')"
   ]
  },
  {
   "cell_type": "code",
   "execution_count": 43,
   "metadata": {},
   "outputs": [],
   "source": [
    "df2 = df1.groupby(['REGION']).size()"
   ]
  },
  {
   "cell_type": "code",
   "execution_count": 44,
   "metadata": {},
   "outputs": [],
   "source": [
    "df3 = pd.DataFrame(df2)"
   ]
  },
  {
   "cell_type": "code",
   "execution_count": 45,
   "metadata": {},
   "outputs": [],
   "source": [
    "df4 = df3.rename(columns = {0: 'COUNT_TT'})"
   ]
  },
  {
   "cell_type": "code",
   "execution_count": 46,
   "metadata": {},
   "outputs": [],
   "source": [
    "df5 = df4.sort_values(['COUNT_TT'], ascending = False)"
   ]
  },
  {
   "cell_type": "code",
   "execution_count": 47,
   "metadata": {},
   "outputs": [],
   "source": [
    "df6 = df5[df5['COUNT_TT']>=200]"
   ]
  },
  {
   "cell_type": "code",
   "execution_count": 48,
   "metadata": {},
   "outputs": [
    {
     "data": {
      "text/html": [
       "<div>\n",
       "<style scoped>\n",
       "    .dataframe tbody tr th:only-of-type {\n",
       "        vertical-align: middle;\n",
       "    }\n",
       "\n",
       "    .dataframe tbody tr th {\n",
       "        vertical-align: top;\n",
       "    }\n",
       "\n",
       "    .dataframe thead th {\n",
       "        text-align: right;\n",
       "    }\n",
       "</style>\n",
       "<table border=\"1\" class=\"dataframe\">\n",
       "  <thead>\n",
       "    <tr style=\"text-align: right;\">\n",
       "      <th></th>\n",
       "      <th>COUNT_TT</th>\n",
       "    </tr>\n",
       "    <tr>\n",
       "      <th>REGION</th>\n",
       "      <th></th>\n",
       "    </tr>\n",
       "  </thead>\n",
       "  <tbody>\n",
       "    <tr>\n",
       "      <th>Б.Москва</th>\n",
       "      <td>281</td>\n",
       "    </tr>\n",
       "    <tr>\n",
       "      <th>Запад</th>\n",
       "      <td>218</td>\n",
       "    </tr>\n",
       "  </tbody>\n",
       "</table>\n",
       "</div>"
      ],
      "text/plain": [
       "          COUNT_TT\n",
       "REGION            \n",
       "Б.Москва       281\n",
       "Запад          218"
      ]
     },
     "execution_count": 48,
     "metadata": {},
     "output_type": "execute_result"
    }
   ],
   "source": [
    "df6.head()"
   ]
  },
  {
   "cell_type": "markdown",
   "metadata": {},
   "source": [
    "Реализация Запроса 10. Выгрузить кол-во проданных позиций в каждом филиале"
   ]
  },
  {
   "cell_type": "code",
   "execution_count": 49,
   "metadata": {},
   "outputs": [],
   "source": [
    "df = pd.merge(sales, items, how='left', on = 'ITEM_ARTICLE')"
   ]
  },
  {
   "cell_type": "code",
   "execution_count": 50,
   "metadata": {},
   "outputs": [],
   "source": [
    "df1 = pd.merge(df, shops, how = 'left', on = 'CODE_OFFICE')"
   ]
  },
  {
   "cell_type": "code",
   "execution_count": 51,
   "metadata": {},
   "outputs": [],
   "source": [
    "df2 = pd.merge(df1, retail_offices, on = 'CODE_POINTS_SALE')"
   ]
  },
  {
   "cell_type": "code",
   "execution_count": 52,
   "metadata": {},
   "outputs": [],
   "source": [
    "df3 = df2.loc[:, ['BRANCHNAME', 'DOC_NUMBER']]"
   ]
  },
  {
   "cell_type": "code",
   "execution_count": 53,
   "metadata": {},
   "outputs": [],
   "source": [
    "df4 = pd.DataFrame(df3.groupby(['BRANCHNAME']).size().sort_values(0, ascending = False))"
   ]
  },
  {
   "cell_type": "code",
   "execution_count": 54,
   "metadata": {},
   "outputs": [],
   "source": [
    "df5 = df4.rename(columns = {0: 'Кол-во позиций'})"
   ]
  },
  {
   "cell_type": "code",
   "execution_count": 55,
   "metadata": {},
   "outputs": [
    {
     "data": {
      "text/html": [
       "<div>\n",
       "<style scoped>\n",
       "    .dataframe tbody tr th:only-of-type {\n",
       "        vertical-align: middle;\n",
       "    }\n",
       "\n",
       "    .dataframe tbody tr th {\n",
       "        vertical-align: top;\n",
       "    }\n",
       "\n",
       "    .dataframe thead th {\n",
       "        text-align: right;\n",
       "    }\n",
       "</style>\n",
       "<table border=\"1\" class=\"dataframe\">\n",
       "  <thead>\n",
       "    <tr style=\"text-align: right;\">\n",
       "      <th></th>\n",
       "      <th>Кол-во позиций</th>\n",
       "    </tr>\n",
       "    <tr>\n",
       "      <th>BRANCHNAME</th>\n",
       "      <th></th>\n",
       "    </tr>\n",
       "  </thead>\n",
       "  <tbody>\n",
       "    <tr>\n",
       "      <th>Московский филиал</th>\n",
       "      <td>16247</td>\n",
       "    </tr>\n",
       "    <tr>\n",
       "      <th>Санкт-Петербургский филиал</th>\n",
       "      <td>6762</td>\n",
       "    </tr>\n",
       "    <tr>\n",
       "      <th>Краснодарский филиал</th>\n",
       "      <td>3339</td>\n",
       "    </tr>\n",
       "    <tr>\n",
       "      <th>Саратовский филиал</th>\n",
       "      <td>2478</td>\n",
       "    </tr>\n",
       "    <tr>\n",
       "      <th>Нижегородский филиал</th>\n",
       "      <td>2080</td>\n",
       "    </tr>\n",
       "  </tbody>\n",
       "</table>\n",
       "</div>"
      ],
      "text/plain": [
       "                            Кол-во позиций\n",
       "BRANCHNAME                                \n",
       "Московский филиал                    16247\n",
       "Санкт-Петербургский филиал            6762\n",
       "Краснодарский филиал                  3339\n",
       "Саратовский филиал                    2478\n",
       "Нижегородский филиал                  2080"
      ]
     },
     "execution_count": 55,
     "metadata": {},
     "output_type": "execute_result"
    }
   ],
   "source": [
    "df5.head()"
   ]
  },
  {
   "cell_type": "markdown",
   "metadata": {},
   "source": [
    "Реализация Запроса 2. Выгрузить выручку, объем продаж и среднюю цену смартфона в каждом регионе, отсортировать по средней цене."
   ]
  },
  {
   "cell_type": "code",
   "execution_count": 56,
   "metadata": {},
   "outputs": [],
   "source": [
    "df = pd.merge(sales, items, how='left', on = 'ITEM_ARTICLE')"
   ]
  },
  {
   "cell_type": "code",
   "execution_count": 57,
   "metadata": {},
   "outputs": [],
   "source": [
    "df1 = pd.merge(df, shops, how = 'left', on = 'CODE_OFFICE')"
   ]
  },
  {
   "cell_type": "code",
   "execution_count": 58,
   "metadata": {},
   "outputs": [],
   "source": [
    "df2 = pd.merge(df1, retail_offices, on = 'CODE_POINTS_SALE')"
   ]
  },
  {
   "cell_type": "code",
   "execution_count": 59,
   "metadata": {},
   "outputs": [],
   "source": [
    "df3 = df2[df2.ITEM_SUBCATEGORY == 'SMARTPHONES']"
   ]
  },
  {
   "cell_type": "code",
   "execution_count": 60,
   "metadata": {},
   "outputs": [],
   "source": [
    "df4 = df3[df3.TP == 'I']"
   ]
  },
  {
   "cell_type": "code",
   "execution_count": 61,
   "metadata": {},
   "outputs": [],
   "source": [
    "df5 = df4.apply(pd.to_numeric, errors='ignore')"
   ]
  },
  {
   "cell_type": "code",
   "execution_count": 62,
   "metadata": {},
   "outputs": [],
   "source": [
    "df6 = df5.groupby(['REGION']).sum()"
   ]
  },
  {
   "cell_type": "code",
   "execution_count": 63,
   "metadata": {},
   "outputs": [],
   "source": [
    "df7 = df6.loc[:, ['QTY', 'AMOUNT_RUR']]"
   ]
  },
  {
   "cell_type": "code",
   "execution_count": 64,
   "metadata": {},
   "outputs": [],
   "source": [
    "df7['AVG_PRICE'] = df7.AMOUNT_RUR/df7.QTY"
   ]
  },
  {
   "cell_type": "code",
   "execution_count": 65,
   "metadata": {},
   "outputs": [],
   "source": [
    "df8 = df7.sort_values(['AVG_PRICE'], ascending = False)"
   ]
  },
  {
   "cell_type": "code",
   "execution_count": 66,
   "metadata": {},
   "outputs": [
    {
     "data": {
      "text/html": [
       "<div>\n",
       "<style scoped>\n",
       "    .dataframe tbody tr th:only-of-type {\n",
       "        vertical-align: middle;\n",
       "    }\n",
       "\n",
       "    .dataframe tbody tr th {\n",
       "        vertical-align: top;\n",
       "    }\n",
       "\n",
       "    .dataframe thead th {\n",
       "        text-align: right;\n",
       "    }\n",
       "</style>\n",
       "<table border=\"1\" class=\"dataframe\">\n",
       "  <thead>\n",
       "    <tr style=\"text-align: right;\">\n",
       "      <th></th>\n",
       "      <th>QTY</th>\n",
       "      <th>AMOUNT_RUR</th>\n",
       "      <th>AVG_PRICE</th>\n",
       "    </tr>\n",
       "    <tr>\n",
       "      <th>REGION</th>\n",
       "      <th></th>\n",
       "      <th></th>\n",
       "      <th></th>\n",
       "    </tr>\n",
       "  </thead>\n",
       "  <tbody>\n",
       "    <tr>\n",
       "      <th>Сибирь</th>\n",
       "      <td>173.0</td>\n",
       "      <td>861570.00</td>\n",
       "      <td>4980.173410</td>\n",
       "    </tr>\n",
       "    <tr>\n",
       "      <th>Волга</th>\n",
       "      <td>266.0</td>\n",
       "      <td>1180040.00</td>\n",
       "      <td>4436.240602</td>\n",
       "    </tr>\n",
       "    <tr>\n",
       "      <th>ДВ</th>\n",
       "      <td>147.0</td>\n",
       "      <td>626830.00</td>\n",
       "      <td>4264.149660</td>\n",
       "    </tr>\n",
       "    <tr>\n",
       "      <th>Урал</th>\n",
       "      <td>35.0</td>\n",
       "      <td>146910.00</td>\n",
       "      <td>4197.428571</td>\n",
       "    </tr>\n",
       "    <tr>\n",
       "      <th>Юг и СК</th>\n",
       "      <td>233.0</td>\n",
       "      <td>930476.71</td>\n",
       "      <td>3993.462275</td>\n",
       "    </tr>\n",
       "  </tbody>\n",
       "</table>\n",
       "</div>"
      ],
      "text/plain": [
       "           QTY  AMOUNT_RUR    AVG_PRICE\n",
       "REGION                                 \n",
       "Сибирь   173.0   861570.00  4980.173410\n",
       "Волга    266.0  1180040.00  4436.240602\n",
       "ДВ       147.0   626830.00  4264.149660\n",
       "Урал      35.0   146910.00  4197.428571\n",
       "Юг и СК  233.0   930476.71  3993.462275"
      ]
     },
     "execution_count": 66,
     "metadata": {},
     "output_type": "execute_result"
    }
   ],
   "source": [
    "df8.head()"
   ]
  },
  {
   "cell_type": "markdown",
   "metadata": {},
   "source": [
    "Реализация Запроса 8. Вывести долю каждого бренда в общих продажах смартфонов"
   ]
  },
  {
   "cell_type": "code",
   "execution_count": 67,
   "metadata": {},
   "outputs": [],
   "source": [
    "df = pd.merge(sales, items, how='left', on = 'ITEM_ARTICLE')"
   ]
  },
  {
   "cell_type": "code",
   "execution_count": 68,
   "metadata": {},
   "outputs": [],
   "source": [
    "df1 = df[df.ITEM_SUBCATEGORY == 'SMARTPHONES']"
   ]
  },
  {
   "cell_type": "code",
   "execution_count": 69,
   "metadata": {},
   "outputs": [],
   "source": [
    "df2 = df1[df1.TP == 'I']"
   ]
  },
  {
   "cell_type": "code",
   "execution_count": 70,
   "metadata": {},
   "outputs": [],
   "source": [
    "df3 = df2.apply(pd.to_numeric, errors='ignore')"
   ]
  },
  {
   "cell_type": "code",
   "execution_count": 71,
   "metadata": {},
   "outputs": [],
   "source": [
    "df4 = df3.groupby(['ITEM_MARK']).sum()"
   ]
  },
  {
   "cell_type": "code",
   "execution_count": 72,
   "metadata": {},
   "outputs": [
    {
     "data": {
      "text/html": [
       "<div>\n",
       "<style scoped>\n",
       "    .dataframe tbody tr th:only-of-type {\n",
       "        vertical-align: middle;\n",
       "    }\n",
       "\n",
       "    .dataframe tbody tr th {\n",
       "        vertical-align: top;\n",
       "    }\n",
       "\n",
       "    .dataframe thead th {\n",
       "        text-align: right;\n",
       "    }\n",
       "</style>\n",
       "<table border=\"1\" class=\"dataframe\">\n",
       "  <thead>\n",
       "    <tr style=\"text-align: right;\">\n",
       "      <th></th>\n",
       "      <th>OPER_DATE</th>\n",
       "      <th>CODE_OFFICE</th>\n",
       "      <th>DOC_NUMBER</th>\n",
       "      <th>ITEM_ARTICLE</th>\n",
       "      <th>QTY</th>\n",
       "      <th>AMOUNT_AUTO_DISCOUNT</th>\n",
       "      <th>AMOUNT_RUR</th>\n",
       "      <th>KEY_DISCOUNT</th>\n",
       "    </tr>\n",
       "    <tr>\n",
       "      <th>ITEM_MARK</th>\n",
       "      <th></th>\n",
       "      <th></th>\n",
       "      <th></th>\n",
       "      <th></th>\n",
       "      <th></th>\n",
       "      <th></th>\n",
       "      <th></th>\n",
       "      <th></th>\n",
       "    </tr>\n",
       "  </thead>\n",
       "  <tbody>\n",
       "    <tr>\n",
       "      <th>4Good</th>\n",
       "      <td>3.433212e+20</td>\n",
       "      <td>100180191.0</td>\n",
       "      <td>3.211307e+14</td>\n",
       "      <td>1.488500e+12</td>\n",
       "      <td>261.0</td>\n",
       "      <td>184000.00</td>\n",
       "      <td>706790.00</td>\n",
       "      <td>230.0</td>\n",
       "    </tr>\n",
       "    <tr>\n",
       "      <th>Alcatel</th>\n",
       "      <td>2.203876e+20</td>\n",
       "      <td>65306812.0</td>\n",
       "      <td>1.935014e+14</td>\n",
       "      <td>6.468002e+11</td>\n",
       "      <td>187.0</td>\n",
       "      <td>1541.10</td>\n",
       "      <td>842665.38</td>\n",
       "      <td>145.0</td>\n",
       "    </tr>\n",
       "    <tr>\n",
       "      <th>Archos</th>\n",
       "      <td>1.049397e+19</td>\n",
       "      <td>2451269.0</td>\n",
       "      <td>9.451269e+12</td>\n",
       "      <td>1.200001e+10</td>\n",
       "      <td>7.0</td>\n",
       "      <td>0.00</td>\n",
       "      <td>21430.00</td>\n",
       "      <td>10.0</td>\n",
       "    </tr>\n",
       "    <tr>\n",
       "      <th>Asus</th>\n",
       "      <td>2.338839e+20</td>\n",
       "      <td>66498382.0</td>\n",
       "      <td>2.132987e+14</td>\n",
       "      <td>7.176001e+11</td>\n",
       "      <td>160.0</td>\n",
       "      <td>5833.19</td>\n",
       "      <td>1357896.81</td>\n",
       "      <td>164.0</td>\n",
       "    </tr>\n",
       "    <tr>\n",
       "      <th>Huawei</th>\n",
       "      <td>1.589143e+20</td>\n",
       "      <td>49187169.0</td>\n",
       "      <td>1.505874e+14</td>\n",
       "      <td>4.240001e+11</td>\n",
       "      <td>106.0</td>\n",
       "      <td>0.00</td>\n",
       "      <td>710352.00</td>\n",
       "      <td>126.0</td>\n",
       "    </tr>\n",
       "  </tbody>\n",
       "</table>\n",
       "</div>"
      ],
      "text/plain": [
       "              OPER_DATE  CODE_OFFICE    DOC_NUMBER  ITEM_ARTICLE    QTY  \\\n",
       "ITEM_MARK                                                                 \n",
       "4Good      3.433212e+20  100180191.0  3.211307e+14  1.488500e+12  261.0   \n",
       "Alcatel    2.203876e+20   65306812.0  1.935014e+14  6.468002e+11  187.0   \n",
       "Archos     1.049397e+19    2451269.0  9.451269e+12  1.200001e+10    7.0   \n",
       "Asus       2.338839e+20   66498382.0  2.132987e+14  7.176001e+11  160.0   \n",
       "Huawei     1.589143e+20   49187169.0  1.505874e+14  4.240001e+11  106.0   \n",
       "\n",
       "           AMOUNT_AUTO_DISCOUNT  AMOUNT_RUR  KEY_DISCOUNT  \n",
       "ITEM_MARK                                                  \n",
       "4Good                 184000.00   706790.00         230.0  \n",
       "Alcatel                 1541.10   842665.38         145.0  \n",
       "Archos                     0.00    21430.00          10.0  \n",
       "Asus                    5833.19  1357896.81         164.0  \n",
       "Huawei                     0.00   710352.00         126.0  "
      ]
     },
     "execution_count": 72,
     "metadata": {},
     "output_type": "execute_result"
    }
   ],
   "source": [
    "df4.head()"
   ]
  },
  {
   "cell_type": "code",
   "execution_count": 73,
   "metadata": {},
   "outputs": [],
   "source": [
    "df4['Summ'] = df4.AMOUNT_RUR.sum()"
   ]
  },
  {
   "cell_type": "code",
   "execution_count": 74,
   "metadata": {},
   "outputs": [],
   "source": [
    "df4['Share_of_Brand'] = df4.AMOUNT_RUR/df4.Summ"
   ]
  },
  {
   "cell_type": "code",
   "execution_count": 75,
   "metadata": {},
   "outputs": [],
   "source": [
    "df5 = df4.loc[:, ['QTY','AMOUNT_RUR', 'Summ', 'Share_of_Brand']].sort_values(['Share_of_Brand'], ascending = False)"
   ]
  },
  {
   "cell_type": "code",
   "execution_count": 76,
   "metadata": {},
   "outputs": [
    {
     "data": {
      "text/html": [
       "<div>\n",
       "<style scoped>\n",
       "    .dataframe tbody tr th:only-of-type {\n",
       "        vertical-align: middle;\n",
       "    }\n",
       "\n",
       "    .dataframe tbody tr th {\n",
       "        vertical-align: top;\n",
       "    }\n",
       "\n",
       "    .dataframe thead th {\n",
       "        text-align: right;\n",
       "    }\n",
       "</style>\n",
       "<table border=\"1\" class=\"dataframe\">\n",
       "  <thead>\n",
       "    <tr style=\"text-align: right;\">\n",
       "      <th></th>\n",
       "      <th>QTY</th>\n",
       "      <th>AMOUNT_RUR</th>\n",
       "      <th>Summ</th>\n",
       "      <th>Share_of_Brand</th>\n",
       "    </tr>\n",
       "    <tr>\n",
       "      <th>ITEM_MARK</th>\n",
       "      <th></th>\n",
       "      <th></th>\n",
       "      <th></th>\n",
       "      <th></th>\n",
       "    </tr>\n",
       "  </thead>\n",
       "  <tbody>\n",
       "    <tr>\n",
       "      <th>Micromax</th>\n",
       "      <td>1264.0</td>\n",
       "      <td>2751516.00</td>\n",
       "      <td>11857348.65</td>\n",
       "      <td>0.232052</td>\n",
       "    </tr>\n",
       "    <tr>\n",
       "      <th>Xiaomi</th>\n",
       "      <td>124.0</td>\n",
       "      <td>1388484.00</td>\n",
       "      <td>11857348.65</td>\n",
       "      <td>0.117099</td>\n",
       "    </tr>\n",
       "    <tr>\n",
       "      <th>Asus</th>\n",
       "      <td>160.0</td>\n",
       "      <td>1357896.81</td>\n",
       "      <td>11857348.65</td>\n",
       "      <td>0.114519</td>\n",
       "    </tr>\n",
       "    <tr>\n",
       "      <th>Alcatel</th>\n",
       "      <td>187.0</td>\n",
       "      <td>842665.38</td>\n",
       "      <td>11857348.65</td>\n",
       "      <td>0.071067</td>\n",
       "    </tr>\n",
       "    <tr>\n",
       "      <th>Huawei</th>\n",
       "      <td>106.0</td>\n",
       "      <td>710352.00</td>\n",
       "      <td>11857348.65</td>\n",
       "      <td>0.059908</td>\n",
       "    </tr>\n",
       "  </tbody>\n",
       "</table>\n",
       "</div>"
      ],
      "text/plain": [
       "              QTY  AMOUNT_RUR         Summ  Share_of_Brand\n",
       "ITEM_MARK                                                 \n",
       "Micromax   1264.0  2751516.00  11857348.65        0.232052\n",
       "Xiaomi      124.0  1388484.00  11857348.65        0.117099\n",
       "Asus        160.0  1357896.81  11857348.65        0.114519\n",
       "Alcatel     187.0   842665.38  11857348.65        0.071067\n",
       "Huawei      106.0   710352.00  11857348.65        0.059908"
      ]
     },
     "execution_count": 76,
     "metadata": {},
     "output_type": "execute_result"
    }
   ],
   "source": [
    "df5.head()"
   ]
  }
 ],
 "metadata": {
  "kernelspec": {
   "display_name": "Python 3",
   "language": "python",
   "name": "python3"
  },
  "language_info": {
   "codemirror_mode": {
    "name": "ipython",
    "version": 3
   },
   "file_extension": ".py",
   "mimetype": "text/x-python",
   "name": "python",
   "nbconvert_exporter": "python",
   "pygments_lexer": "ipython3",
   "version": "3.6.5"
  }
 },
 "nbformat": 4,
 "nbformat_minor": 2
}
