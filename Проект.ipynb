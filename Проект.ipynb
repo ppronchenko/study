{
 "cells": [
  {
   "cell_type": "code",
   "execution_count": 1,
   "metadata": {},
   "outputs": [
    {
     "name": "stderr",
     "output_type": "stream",
     "text": [
      "/home/pavel/.local/lib/python3.6/site-packages/psycopg2/__init__.py:144: UserWarning: The psycopg2 wheel package will be renamed from release 2.8; in order to keep installing from binary please use \"pip install psycopg2-binary\" instead. For details see: <http://initd.org/psycopg/docs/install.html#binary-install-from-pypi>.\n",
      "  \"\"\")\n"
     ]
    }
   ],
   "source": [
    "import os\n",
    "import psycopg2\n",
    "import psycopg2.extensions\n",
    "import logging\n",
    "import pandas as pd"
   ]
  },
  {
   "cell_type": "code",
   "execution_count": 2,
   "metadata": {},
   "outputs": [],
   "source": [
    "logging.basicConfig(format='%(asctime)s : %(levelname)s : %(message)s', level=logging.INFO)\n",
    "logger = logging.getLogger(__name__)"
   ]
  },
  {
   "cell_type": "code",
   "execution_count": 3,
   "metadata": {},
   "outputs": [
    {
     "name": "stderr",
     "output_type": "stream",
     "text": [
      "2018-08-26 22:51:11,251 : INFO : Создаём подключёние к Postgres\n"
     ]
    }
   ],
   "source": [
    "logger.info(\"Создаём подключёние к Postgres\")\n",
    "params = {\n",
    "    \"host\": '/var/run/postgresql',\n",
    "    \"port\": '5432',\n",
    "    \"user\": 'pavel'\n",
    "}\n",
    "conn = psycopg2.connect(**params)"
   ]
  },
  {
   "cell_type": "code",
   "execution_count": 4,
   "metadata": {},
   "outputs": [],
   "source": [
    "psycopg2.extensions.register_type(\n",
    "    psycopg2.extensions.UNICODE,\n",
    "    conn\n",
    ")\n",
    "conn.set_isolation_level(\n",
    "    psycopg2.extensions.ISOLATION_LEVEL_AUTOCOMMIT\n",
    ")\n",
    "cursor = conn.cursor()"
   ]
  },
  {
   "cell_type": "code",
   "execution_count": 13,
   "metadata": {},
   "outputs": [],
   "source": [
    "user_item_query_config = {\n",
    "    \"MIN_USERS_FOR_ITEM\": 10,\n",
    "    \"MIN_ITEMS_FOR_USER\": 3,\n",
    "    \"MAX_ITEMS_FOR_USER\": 50,\n",
    "    \"MAX_ROW_NUMBER\": 100000\n",
    "}\n",
    "sql_str = (\n",
    "        \"\"\"\n",
    "          SELECT * FROM sales limit 100000;\n",
    "        \"\"\" % user_item_query_config\n",
    ")"
   ]
  },
  {
   "cell_type": "code",
   "execution_count": 28,
   "metadata": {},
   "outputs": [
    {
     "name": "stderr",
     "output_type": "stream",
     "text": [
      "2018-08-26 23:06:54,494 : INFO : Данные по продажам загружены из Postgres\n"
     ]
    }
   ],
   "source": [
    "cursor.execute(sql_str)\n",
    "ui_data = [a for a in cursor.fetchall()]\n",
    "conn.commit()\n",
    "logger.info(\"Данные по продажам загружены из Postgres\")"
   ]
  },
  {
   "cell_type": "code",
   "execution_count": 29,
   "metadata": {},
   "outputs": [],
   "source": [
    "sales = pd.DataFrame(ui_data)"
   ]
  },
  {
   "cell_type": "code",
   "execution_count": 30,
   "metadata": {},
   "outputs": [],
   "source": [
    "sales.columns = ['OPER_DATE', 'CODE_OFFICE', 'TP', 'DOC_NUMBER', 'ITEM_ARTICLE', 'QTY', 'AMOUNT_AUTO_DISCOUNT', 'AMOUNT_RUR', 'PAYMENT_FORM', 'KEY_DISCOUNT']"
   ]
  },
  {
   "cell_type": "code",
   "execution_count": 31,
   "metadata": {},
   "outputs": [
    {
     "data": {
      "text/html": [
       "<div>\n",
       "<style scoped>\n",
       "    .dataframe tbody tr th:only-of-type {\n",
       "        vertical-align: middle;\n",
       "    }\n",
       "\n",
       "    .dataframe tbody tr th {\n",
       "        vertical-align: top;\n",
       "    }\n",
       "\n",
       "    .dataframe thead th {\n",
       "        text-align: right;\n",
       "    }\n",
       "</style>\n",
       "<table border=\"1\" class=\"dataframe\">\n",
       "  <thead>\n",
       "    <tr style=\"text-align: right;\">\n",
       "      <th></th>\n",
       "      <th>OPER_DATE</th>\n",
       "      <th>CODE_OFFICE</th>\n",
       "      <th>TP</th>\n",
       "      <th>DOC_NUMBER</th>\n",
       "      <th>ITEM_ARTICLE</th>\n",
       "      <th>QTY</th>\n",
       "      <th>AMOUNT_AUTO_DISCOUNT</th>\n",
       "      <th>AMOUNT_RUR</th>\n",
       "      <th>PAYMENT_FORM</th>\n",
       "      <th>KEY_DISCOUNT</th>\n",
       "    </tr>\n",
       "  </thead>\n",
       "  <tbody>\n",
       "    <tr>\n",
       "      <th>0</th>\n",
       "      <td>2017-07-09 17:02:00</td>\n",
       "      <td>313002</td>\n",
       "      <td>I</td>\n",
       "      <td>1313002006124</td>\n",
       "      <td>PB</td>\n",
       "      <td>1</td>\n",
       "      <td>None</td>\n",
       "      <td>200</td>\n",
       "      <td>Наличная</td>\n",
       "      <td>1.0</td>\n",
       "    </tr>\n",
       "    <tr>\n",
       "      <th>1</th>\n",
       "      <td>2017-07-09 17:03:00</td>\n",
       "      <td>277254</td>\n",
       "      <td>I</td>\n",
       "      <td>1277254015887</td>\n",
       "      <td>PB</td>\n",
       "      <td>1</td>\n",
       "      <td>None</td>\n",
       "      <td>500</td>\n",
       "      <td>Платежная карта</td>\n",
       "      <td>1.0</td>\n",
       "    </tr>\n",
       "    <tr>\n",
       "      <th>2</th>\n",
       "      <td>2017-07-09 17:03:00</td>\n",
       "      <td>363028</td>\n",
       "      <td>I</td>\n",
       "      <td>1363028008070</td>\n",
       "      <td>K3</td>\n",
       "      <td>1</td>\n",
       "      <td>None</td>\n",
       "      <td>30297</td>\n",
       "      <td>Наличная</td>\n",
       "      <td>NaN</td>\n",
       "    </tr>\n",
       "    <tr>\n",
       "      <th>3</th>\n",
       "      <td>2017-07-09 17:03:00</td>\n",
       "      <td>736006</td>\n",
       "      <td>I</td>\n",
       "      <td>1736006009235</td>\n",
       "      <td>0905022730</td>\n",
       "      <td>1</td>\n",
       "      <td>None</td>\n",
       "      <td>240</td>\n",
       "      <td>Наличная</td>\n",
       "      <td>1.0</td>\n",
       "    </tr>\n",
       "    <tr>\n",
       "      <th>4</th>\n",
       "      <td>2017-07-02 14:33:00</td>\n",
       "      <td>706002</td>\n",
       "      <td>I</td>\n",
       "      <td>1706002005763</td>\n",
       "      <td>PB</td>\n",
       "      <td>1</td>\n",
       "      <td>None</td>\n",
       "      <td>200</td>\n",
       "      <td>Наличная</td>\n",
       "      <td>1.0</td>\n",
       "    </tr>\n",
       "  </tbody>\n",
       "</table>\n",
       "</div>"
      ],
      "text/plain": [
       "            OPER_DATE CODE_OFFICE TP     DOC_NUMBER ITEM_ARTICLE  QTY  \\\n",
       "0 2017-07-09 17:02:00      313002  I  1313002006124           PB    1   \n",
       "1 2017-07-09 17:03:00      277254  I  1277254015887           PB    1   \n",
       "2 2017-07-09 17:03:00      363028  I  1363028008070           K3    1   \n",
       "3 2017-07-09 17:03:00      736006  I  1736006009235   0905022730    1   \n",
       "4 2017-07-02 14:33:00      706002  I  1706002005763           PB    1   \n",
       "\n",
       "  AMOUNT_AUTO_DISCOUNT AMOUNT_RUR     PAYMENT_FORM  KEY_DISCOUNT  \n",
       "0                 None        200         Наличная           1.0  \n",
       "1                 None        500  Платежная карта           1.0  \n",
       "2                 None      30297         Наличная           NaN  \n",
       "3                 None        240         Наличная           1.0  \n",
       "4                 None        200         Наличная           1.0  "
      ]
     },
     "execution_count": 31,
     "metadata": {},
     "output_type": "execute_result"
    }
   ],
   "source": [
    "sales.head()"
   ]
  },
  {
   "cell_type": "code",
   "execution_count": 32,
   "metadata": {},
   "outputs": [],
   "source": [
    "user_item_query_config = {\n",
    "    \"MIN_USERS_FOR_ITEM\": 10,\n",
    "    \"MIN_ITEMS_FOR_USER\": 3,\n",
    "    \"MAX_ITEMS_FOR_USER\": 50,\n",
    "    \"MAX_ROW_NUMBER\": 100000\n",
    "}\n",
    "sql_str = (\n",
    "        \"\"\"\n",
    "          SELECT * FROM items limit 100000;\n",
    "        \"\"\" % user_item_query_config\n",
    ")"
   ]
  },
  {
   "cell_type": "code",
   "execution_count": 33,
   "metadata": {},
   "outputs": [
    {
     "name": "stderr",
     "output_type": "stream",
     "text": [
      "2018-08-26 23:08:47,139 : INFO : Данные по артикулам загружены из Postgres\n"
     ]
    }
   ],
   "source": [
    "cursor.execute(sql_str)\n",
    "ui_data = [a for a in cursor.fetchall()]\n",
    "conn.commit()\n",
    "logger.info(\"Данные по артикулам загружены из Postgres\")"
   ]
  },
  {
   "cell_type": "code",
   "execution_count": 34,
   "metadata": {},
   "outputs": [],
   "source": [
    "items = pd.DataFrame(ui_data)"
   ]
  },
  {
   "cell_type": "code",
   "execution_count": 37,
   "metadata": {},
   "outputs": [],
   "source": [
    "items.columns = ['ITEM_ARTICLE','ITEM_NAME','ITEM_CATEGORY', 'ITEM_SUBCATEGORY','ITEM_MARK','VIEW_ITEM','MOD_NO_COLOR']"
   ]
  },
  {
   "cell_type": "code",
   "execution_count": 38,
   "metadata": {},
   "outputs": [
    {
     "data": {
      "text/html": [
       "<div>\n",
       "<style scoped>\n",
       "    .dataframe tbody tr th:only-of-type {\n",
       "        vertical-align: middle;\n",
       "    }\n",
       "\n",
       "    .dataframe tbody tr th {\n",
       "        vertical-align: top;\n",
       "    }\n",
       "\n",
       "    .dataframe thead th {\n",
       "        text-align: right;\n",
       "    }\n",
       "</style>\n",
       "<table border=\"1\" class=\"dataframe\">\n",
       "  <thead>\n",
       "    <tr style=\"text-align: right;\">\n",
       "      <th></th>\n",
       "      <th>ITEM_ARTICLE</th>\n",
       "      <th>ITEM_NAME</th>\n",
       "      <th>ITEM_CATEGORY</th>\n",
       "      <th>ITEM_SUBCATEGORY</th>\n",
       "      <th>ITEM_MARK</th>\n",
       "      <th>VIEW_ITEM</th>\n",
       "      <th>MOD_NO_COLOR</th>\n",
       "    </tr>\n",
       "  </thead>\n",
       "  <tbody>\n",
       "    <tr>\n",
       "      <th>0</th>\n",
       "      <td>0105001240</td>\n",
       "      <td>Чех.UCHUN7BB беж-син. Untamo</td>\n",
       "      <td>Accessories</td>\n",
       "      <td>Чехол</td>\n",
       "      <td>Untamo</td>\n",
       "      <td>Товары без серий</td>\n",
       "      <td>Чехол UCHUN7BB беж-син. Untamo</td>\n",
       "    </tr>\n",
       "    <tr>\n",
       "      <th>1</th>\n",
       "      <td>0105001250</td>\n",
       "      <td>Чех.UCHUN7GL серо-салат.Untamo</td>\n",
       "      <td>Accessories</td>\n",
       "      <td>Чехол</td>\n",
       "      <td>Untamo</td>\n",
       "      <td>Товары без серий</td>\n",
       "      <td>Чехол UCHUN7GL серо-салат.Untamo</td>\n",
       "    </tr>\n",
       "    <tr>\n",
       "      <th>2</th>\n",
       "      <td>0105001260</td>\n",
       "      <td>Чех. UACBTABBL черн. Untamo</td>\n",
       "      <td>Accessories</td>\n",
       "      <td>Чехол</td>\n",
       "      <td>Untamo</td>\n",
       "      <td>Товары без серий</td>\n",
       "      <td>Чехол  UACBTABBL черн. Untamo</td>\n",
       "    </tr>\n",
       "    <tr>\n",
       "      <th>3</th>\n",
       "      <td>0105001270</td>\n",
       "      <td>Чех.CPC_AP_I5_BLACK APEXTO</td>\n",
       "      <td>Accessories</td>\n",
       "      <td>Чехол</td>\n",
       "      <td>Lone</td>\n",
       "      <td>Товары без серий</td>\n",
       "      <td>Чех.CPC_AP_I5_BLACK APEXTO</td>\n",
       "    </tr>\n",
       "    <tr>\n",
       "      <th>4</th>\n",
       "      <td>0201000490</td>\n",
       "      <td>Р/т Motorola V100 GSM</td>\n",
       "      <td>Phones</td>\n",
       "      <td>FEATUREPHONES</td>\n",
       "      <td>Motorola</td>\n",
       "      <td>Товары без серий</td>\n",
       "      <td>Motorola V100</td>\n",
       "    </tr>\n",
       "  </tbody>\n",
       "</table>\n",
       "</div>"
      ],
      "text/plain": [
       "  ITEM_ARTICLE                       ITEM_NAME ITEM_CATEGORY ITEM_SUBCATEGORY  \\\n",
       "0   0105001240    Чех.UCHUN7BB беж-син. Untamo   Accessories            Чехол   \n",
       "1   0105001250  Чех.UCHUN7GL серо-салат.Untamo   Accessories            Чехол   \n",
       "2   0105001260     Чех. UACBTABBL черн. Untamo   Accessories            Чехол   \n",
       "3   0105001270      Чех.CPC_AP_I5_BLACK APEXTO   Accessories            Чехол   \n",
       "4   0201000490           Р/т Motorola V100 GSM        Phones    FEATUREPHONES   \n",
       "\n",
       "  ITEM_MARK         VIEW_ITEM                      MOD_NO_COLOR  \n",
       "0    Untamo  Товары без серий    Чехол UCHUN7BB беж-син. Untamo  \n",
       "1    Untamo  Товары без серий  Чехол UCHUN7GL серо-салат.Untamo  \n",
       "2    Untamo  Товары без серий     Чехол  UACBTABBL черн. Untamo  \n",
       "3      Lone  Товары без серий        Чех.CPC_AP_I5_BLACK APEXTO  \n",
       "4  Motorola  Товары без серий                     Motorola V100  "
      ]
     },
     "execution_count": 38,
     "metadata": {},
     "output_type": "execute_result"
    }
   ],
   "source": [
    "items.head()"
   ]
  },
  {
   "cell_type": "code",
   "execution_count": 39,
   "metadata": {},
   "outputs": [],
   "source": [
    "user_item_query_config = {\n",
    "    \"MIN_USERS_FOR_ITEM\": 10,\n",
    "    \"MIN_ITEMS_FOR_USER\": 3,\n",
    "    \"MAX_ITEMS_FOR_USER\": 50,\n",
    "    \"MAX_ROW_NUMBER\": 100000\n",
    "}\n",
    "sql_str = (\n",
    "        \"\"\"\n",
    "          SELECT * FROM shops limit 100000;\n",
    "        \"\"\" % user_item_query_config\n",
    ")"
   ]
  },
  {
   "cell_type": "code",
   "execution_count": 40,
   "metadata": {},
   "outputs": [
    {
     "name": "stderr",
     "output_type": "stream",
     "text": [
      "2018-08-26 23:13:31,857 : INFO : Данные по справочнику ТТ из Postgres\n"
     ]
    }
   ],
   "source": [
    "cursor.execute(sql_str)\n",
    "ui_data = [a for a in cursor.fetchall()]\n",
    "conn.commit()\n",
    "logger.info(\"Данные по справочнику ТТ из Postgres\")"
   ]
  },
  {
   "cell_type": "code",
   "execution_count": 41,
   "metadata": {},
   "outputs": [],
   "source": [
    "shops = pd.DataFrame(ui_data)"
   ]
  },
  {
   "cell_type": "code",
   "execution_count": 43,
   "metadata": {},
   "outputs": [],
   "source": [
    "shops.columns = ['MARKET_CODE', 'SHOP', 'CODE_POINTS_SALE', 'CODE_OFFICE', 'SHEDULE_NAME', 'TIME_ZONE']"
   ]
  },
  {
   "cell_type": "code",
   "execution_count": 44,
   "metadata": {},
   "outputs": [
    {
     "data": {
      "text/html": [
       "<div>\n",
       "<style scoped>\n",
       "    .dataframe tbody tr th:only-of-type {\n",
       "        vertical-align: middle;\n",
       "    }\n",
       "\n",
       "    .dataframe tbody tr th {\n",
       "        vertical-align: top;\n",
       "    }\n",
       "\n",
       "    .dataframe thead th {\n",
       "        text-align: right;\n",
       "    }\n",
       "</style>\n",
       "<table border=\"1\" class=\"dataframe\">\n",
       "  <thead>\n",
       "    <tr style=\"text-align: right;\">\n",
       "      <th></th>\n",
       "      <th>MARKET_CODE</th>\n",
       "      <th>SHOP</th>\n",
       "      <th>CODE_POINTS_SALE</th>\n",
       "      <th>CODE_OFFICE</th>\n",
       "      <th>SHEDULE_NAME</th>\n",
       "      <th>TIME_ZONE</th>\n",
       "    </tr>\n",
       "  </thead>\n",
       "  <tbody>\n",
       "    <tr>\n",
       "      <th>0</th>\n",
       "      <td>SPB</td>\n",
       "      <td>ЦКЗ (Измайловский) Внешние сотрудники</td>\n",
       "      <td>41816</td>\n",
       "      <td>478161</td>\n",
       "      <td>None</td>\n",
       "      <td>None</td>\n",
       "    </tr>\n",
       "    <tr>\n",
       "      <th>1</th>\n",
       "      <td>VIP</td>\n",
       "      <td>Москва, Грекова д.8</td>\n",
       "      <td>056000</td>\n",
       "      <td>277004</td>\n",
       "      <td>График ежедневно 8:00 - 22:00</td>\n",
       "      <td>GMT+03:00</td>\n",
       "    </tr>\n",
       "    <tr>\n",
       "      <th>2</th>\n",
       "      <td>YAK</td>\n",
       "      <td>Республика Саха (Якутия), п. Хандыга,ул, П. Ал...</td>\n",
       "      <td>7M42000</td>\n",
       "      <td>114042</td>\n",
       "      <td>None</td>\n",
       "      <td>None</td>\n",
       "    </tr>\n",
       "    <tr>\n",
       "      <th>3</th>\n",
       "      <td>CHT</td>\n",
       "      <td>672038 Чита г Шилова ул. 100 стр. 2</td>\n",
       "      <td>7K71000</td>\n",
       "      <td>175029</td>\n",
       "      <td>None</td>\n",
       "      <td>None</td>\n",
       "    </tr>\n",
       "    <tr>\n",
       "      <th>4</th>\n",
       "      <td>BUR</td>\n",
       "      <td>670033 Улан-Удэ г Жердева ул 104 б</td>\n",
       "      <td>7K69000</td>\n",
       "      <td>432083</td>\n",
       "      <td>None</td>\n",
       "      <td>GMT+08:00</td>\n",
       "    </tr>\n",
       "  </tbody>\n",
       "</table>\n",
       "</div>"
      ],
      "text/plain": [
       "  MARKET_CODE                                               SHOP  \\\n",
       "0         SPB              ЦКЗ (Измайловский) Внешние сотрудники   \n",
       "1         VIP                                Москва, Грекова д.8   \n",
       "2         YAK  Республика Саха (Якутия), п. Хандыга,ул, П. Ал...   \n",
       "3         CHT                672038 Чита г Шилова ул. 100 стр. 2   \n",
       "4         BUR                 670033 Улан-Удэ г Жердева ул 104 б   \n",
       "\n",
       "  CODE_POINTS_SALE CODE_OFFICE                   SHEDULE_NAME  TIME_ZONE  \n",
       "0            41816      478161                           None       None  \n",
       "1           056000      277004  График ежедневно 8:00 - 22:00  GMT+03:00  \n",
       "2          7M42000      114042                           None       None  \n",
       "3          7K71000      175029                           None       None  \n",
       "4          7K69000      432083                           None  GMT+08:00  "
      ]
     },
     "execution_count": 44,
     "metadata": {},
     "output_type": "execute_result"
    }
   ],
   "source": [
    "shops.head()"
   ]
  },
  {
   "cell_type": "code",
   "execution_count": 47,
   "metadata": {},
   "outputs": [],
   "source": [
    "df = pd.merge(sales, items, how = 'left', on = 'ITEM_ARTICLE')"
   ]
  },
  {
   "cell_type": "code",
   "execution_count": 52,
   "metadata": {},
   "outputs": [],
   "source": [
    "df2 = df.loc[:, ['OPER_DATE', 'DOC_NUMBER', 'ITEM_ARTICLE', 'AMOUNT_RUR']]"
   ]
  },
  {
   "cell_type": "code",
   "execution_count": 68,
   "metadata": {},
   "outputs": [],
   "source": [
    "df3 = pd.DataFrame(df2.groupby('DOC_NUMBER')['AMOUNT_RUR'].sum())"
   ]
  },
  {
   "cell_type": "code",
   "execution_count": 69,
   "metadata": {},
   "outputs": [],
   "source": [
    "df4 = pd.merge(df2, df3, how = 'left', on = 'DOC_NUMBER')"
   ]
  },
  {
   "cell_type": "code",
   "execution_count": 73,
   "metadata": {},
   "outputs": [],
   "source": [
    "df4.to_csv('agg_date_from_postgres.csv', sep=',', header=True)"
   ]
  },
  {
   "cell_type": "code",
   "execution_count": null,
   "metadata": {},
   "outputs": [],
   "source": []
  }
 ],
 "metadata": {
  "kernelspec": {
   "display_name": "Python 3",
   "language": "python",
   "name": "python3"
  },
  "language_info": {
   "codemirror_mode": {
    "name": "ipython",
    "version": 3
   },
   "file_extension": ".py",
   "mimetype": "text/x-python",
   "name": "python",
   "nbconvert_exporter": "python",
   "pygments_lexer": "ipython3",
   "version": "3.6.5"
  }
 },
 "nbformat": 4,
 "nbformat_minor": 2
}
