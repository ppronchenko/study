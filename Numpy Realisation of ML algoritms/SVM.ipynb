{
 "cells": [
  {
   "cell_type": "code",
   "execution_count": 99,
   "metadata": {
    "collapsed": true
   },
   "outputs": [],
   "source": [
    "import numpy as np\n",
    "from matplotlib import pyplot as plt\n",
    "%matplotlib inline"
   ]
  },
  {
   "cell_type": "code",
   "execution_count": 185,
   "metadata": {},
   "outputs": [],
   "source": [
    "#Input data\n",
    "x = np.array([\n",
    "    [-2,4,-1],\n",
    "    [4,1,-1],\n",
    "    [1, 6, -1],\n",
    "    [2, 4, -1],\n",
    "    [6, 2, -1],\n",
    "\n",
    "])\n",
    "\n",
    "\n",
    "#output label\n",
    "y = np.array([-1, -1, 1, 1, 1])"
   ]
  },
  {
   "cell_type": "markdown",
   "metadata": {},
   "source": [
    "one probable hyperplane that possibly seperates both classes is (-1,5),(5,1)"
   ]
  },
  {
   "cell_type": "code",
   "execution_count": 186,
   "metadata": {},
   "outputs": [
    {
     "data": {
      "text/plain": [
       "[<matplotlib.lines.Line2D at 0x2b286cd9a58>]"
      ]
     },
     "execution_count": 186,
     "metadata": {},
     "output_type": "execute_result"
    },
    {
     "data": {
      "image/png": "[encoded data removed]",
      "text/plain": [
       "<matplotlib.figure.Figure at 0x2b286cd9fd0>"
      ]
     },
     "metadata": {},
     "output_type": "display_data"
    }
   ],
   "source": [
    "for val, inp in enumerate(x):\n",
    "    if y[val] == -1:\n",
    "        plt.scatter(inp[0], inp[1], s=100, marker='_', linewidths=5)\n",
    "    else:\n",
    "        plt.scatter(inp[0], inp[1], s=100, marker='+', linewidths=5)\n",
    "\n",
    "plt.plot([-2,6],[6,1])"
   ]
  },
  {
   "cell_type": "code",
   "execution_count": 187,
   "metadata": {},
   "outputs": [
    {
     "data": {
      "text/plain": [
       "3"
      ]
     },
     "execution_count": 187,
     "metadata": {},
     "output_type": "execute_result"
    }
   ],
   "source": [
    "len(x[0])"
   ]
  },
  {
   "cell_type": "code",
   "execution_count": 188,
   "metadata": {},
   "outputs": [],
   "source": [
    "def svm_function(x,y):\n",
    "    #initilizing weight\n",
    "    w = np.zeros(len(x[0]))\n",
    "    #initialize learning rate\n",
    "    l_rate = 1\n",
    "    #epoch\n",
    "    epoch = 100000\n",
    "    #output list\n",
    "    out = []\n",
    "    #training svm\n",
    "    for e in range(epoch):\n",
    "        for i, val in enumerate(x):\n",
    "            val1 = np.dot(x[i], w)\n",
    "            if (y[i]*val1 < 1):\n",
    "                w = w + l_rate * ((y[i]*x[i]) - (2*(1/epoch)*w))\n",
    "            else:\n",
    "                w = w + l_rate * (-2*(1/epoch)*w)\n",
    "    \n",
    "    for i, val in enumerate(x):\n",
    "        out.append(np.dot(x[i], w))\n",
    "    \n",
    "    return w, out"
   ]
  },
  {
   "cell_type": "code",
   "execution_count": 189,
   "metadata": {},
   "outputs": [],
   "source": [
    "w, out = svm_function(x,y)"
   ]
  },
  {
   "cell_type": "code",
   "execution_count": 190,
   "metadata": {},
   "outputs": [
    {
     "name": "stdout",
     "output_type": "stream",
     "text": [
      "Calculated weights\n",
      "[  1.50157001   3.00057251  10.50863266]\n"
     ]
    }
   ],
   "source": [
    "print('Calculated weights')\n",
    "print(w)"
   ]
  },
  {
   "cell_type": "code",
   "execution_count": 191,
   "metadata": {},
   "outputs": [
    {
     "name": "stdout",
     "output_type": "stream",
     "text": [
      "predicted output\n",
      "[-1.5094826610195931, -1.5017801059577938, 8.9963723850261559, 4.496797386268188, 4.5019324229760542]\n"
     ]
    }
   ],
   "source": [
    "print('predicted output')\n",
    "print(out)"
   ]
  },
  {
   "cell_type": "code",
   "execution_count": 196,
   "metadata": {},
   "outputs": [
    {
     "data": {
      "text/plain": [
       "<matplotlib.quiver.Quiver at 0x2b286e3bf60>"
      ]
     },
     "execution_count": 196,
     "metadata": {},
     "output_type": "execute_result"
    },
    {
     "data": {
      "image/png": "[encoded data removed]",
      "text/plain": [
       "<matplotlib.figure.Figure at 0x2b286d5cba8>"
      ]
     },
     "metadata": {},
     "output_type": "display_data"
    }
   ],
   "source": [
    "u = np.array([\n",
    "    [-1,3,-1],\n",
    "    [5,5,-1],\n",
    "    \n",
    "])\n",
    "   \n",
    "    \n",
    "for val, inp in enumerate(x):\n",
    "    if y[val] == -1:\n",
    "        plt.scatter(inp[0], inp[1], s=100, marker='_', linewidths=5)\n",
    "    else:\n",
    "        plt.scatter(inp[0], inp[1], s=100, marker='+', linewidths=5)\n",
    "\n",
    "plt.scatter(-1,3, s=100, marker='_', linewidths=5)   \n",
    "plt.scatter(5,5, s=100, marker='+', linewidths=5)   \n",
    "\n",
    "\n",
    "x1=[w[0],w[1],-w[1],w[0]]\n",
    "x2=[w[0],w[1],w[1],-w[0]]\n",
    "\n",
    "x1x2 =np.array([x1,x2])\n",
    "X,Y,U,V = zip(*x1x2)\n",
    "ax = plt.gca()\n",
    "ax.quiver(X,Y,U,V,scale=1, color='blue')"
   ]
  },
  {
   "cell_type": "code",
   "execution_count": 193,
   "metadata": {
    "collapsed": true
   },
   "outputs": [],
   "source": [
    "u = np.array([\n",
    "    [-1,3,-1],\n",
    "    [5,5,-1],\n",
    "    \n",
    "])"
   ]
  },
  {
   "cell_type": "code",
   "execution_count": 194,
   "metadata": {
    "collapsed": true
   },
   "outputs": [],
   "source": [
    "result = []\n",
    "for i, val in enumerate(u):\n",
    "        result.append(np.dot(u[i], w))"
   ]
  },
  {
   "cell_type": "code",
   "execution_count": 195,
   "metadata": {},
   "outputs": [
    {
     "name": "stdout",
     "output_type": "stream",
     "text": [
      "test result\n",
      "[-3.0084851544876052, 12.002079927023981]\n"
     ]
    }
   ],
   "source": [
    "print('test result')\n",
    "print(result)"
   ]
  },
  {
   "cell_type": "code",
   "execution_count": null,
   "metadata": {
    "collapsed": true
   },
   "outputs": [],
   "source": []
  }
 ],
 "metadata": {
  "kernelspec": {
   "display_name": "Python 3",
   "language": "python",
   "name": "python3"
  },
  "language_info": {
   "codemirror_mode": {
    "name": "ipython",
    "version": 3
   },
   "file_extension": ".py",
   "mimetype": "text/x-python",
   "name": "python",
   "nbconvert_exporter": "python",
   "pygments_lexer": "ipython3",
   "version": "3.5.4"
  }
 },
 "nbformat": 4,
 "nbformat_minor": 2
}
