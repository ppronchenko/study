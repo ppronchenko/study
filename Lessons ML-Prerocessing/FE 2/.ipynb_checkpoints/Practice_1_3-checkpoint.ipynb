{
 "cells": [
  {
   "cell_type": "code",
   "execution_count": 1,
   "metadata": {},
   "outputs": [
    {
     "name": "stderr",
     "output_type": "stream",
     "text": [
      "/Users/esachko/miniconda3/lib/python3.6/site-packages/sklearn/cross_validation.py:41: DeprecationWarning: This module was deprecated in version 0.18 in favor of the model_selection module into which all the refactored classes and functions are moved. Also note that the interface of the new CV iterators are different from that of this module. This module will be removed in 0.20.\n",
      "  \"This module will be removed in 0.20.\", DeprecationWarning)\n"
     ]
    }
   ],
   "source": [
    "import pandas as pd\n",
    "import numpy as np\n",
    "import matplotlib.pyplot as plt\n",
    "import os\n",
    "%matplotlib inline\n",
    "\n",
    "from sklearn.cross_validation import train_test_split\n",
    "from sklearn.metrics import roc_auc_score, roc_curve\n",
    "import xgboost\n",
    "import seaborn as sns\n",
    "from geopy.distance import vincenty"
   ]
  },
  {
   "cell_type": "code",
   "execution_count": 2,
   "metadata": {},
   "outputs": [
    {
     "data": {
      "text/plain": [
       "['rosbank_test.csv', 'rosbank_train.csv', 'taxi.csv']"
      ]
     },
     "execution_count": 2,
     "metadata": {},
     "output_type": "execute_result"
    }
   ],
   "source": [
    "[f for f in os.listdir(os.curdir) if 'csv' in f]"
   ]
  },
  {
   "cell_type": "code",
   "execution_count": 9,
   "metadata": {},
   "outputs": [],
   "source": [
    "data_raw = pd.read_csv('taxi.csv')"
   ]
  },
  {
   "cell_type": "code",
   "execution_count": 10,
   "metadata": {},
   "outputs": [
    {
     "data": {
      "text/html": [
       "<div>\n",
       "<style scoped>\n",
       "    .dataframe tbody tr th:only-of-type {\n",
       "        vertical-align: middle;\n",
       "    }\n",
       "\n",
       "    .dataframe tbody tr th {\n",
       "        vertical-align: top;\n",
       "    }\n",
       "\n",
       "    .dataframe thead th {\n",
       "        text-align: right;\n",
       "    }\n",
       "</style>\n",
       "<table border=\"1\" class=\"dataframe\">\n",
       "  <thead>\n",
       "    <tr style=\"text-align: right;\">\n",
       "      <th></th>\n",
       "      <th>offer_gk</th>\n",
       "      <th>weekday_key</th>\n",
       "      <th>hour_key</th>\n",
       "      <th>driver_gk</th>\n",
       "      <th>order_gk</th>\n",
       "      <th>driver_latitude</th>\n",
       "      <th>driver_longitude</th>\n",
       "      <th>origin_order_latitude</th>\n",
       "      <th>origin_order_longitude</th>\n",
       "      <th>distance_km</th>\n",
       "      <th>duration_min</th>\n",
       "      <th>offer_class_group</th>\n",
       "      <th>ride_type_desc</th>\n",
       "      <th>driver_response</th>\n",
       "    </tr>\n",
       "  </thead>\n",
       "  <tbody>\n",
       "    <tr>\n",
       "      <th>0</th>\n",
       "      <td>1105373</td>\n",
       "      <td>5</td>\n",
       "      <td>20</td>\n",
       "      <td>6080</td>\n",
       "      <td>174182</td>\n",
       "      <td>55.818842</td>\n",
       "      <td>37.334562</td>\n",
       "      <td>55.814567</td>\n",
       "      <td>37.355010</td>\n",
       "      <td>-1.000</td>\n",
       "      <td>-1.000</td>\n",
       "      <td>Economy</td>\n",
       "      <td>private</td>\n",
       "      <td>0</td>\n",
       "    </tr>\n",
       "    <tr>\n",
       "      <th>1</th>\n",
       "      <td>759733</td>\n",
       "      <td>5</td>\n",
       "      <td>14</td>\n",
       "      <td>6080</td>\n",
       "      <td>358774</td>\n",
       "      <td>55.805342</td>\n",
       "      <td>37.515023</td>\n",
       "      <td>55.819329</td>\n",
       "      <td>37.466398</td>\n",
       "      <td>18.802</td>\n",
       "      <td>25.217</td>\n",
       "      <td>Standard</td>\n",
       "      <td>private</td>\n",
       "      <td>1</td>\n",
       "    </tr>\n",
       "    <tr>\n",
       "      <th>2</th>\n",
       "      <td>416977</td>\n",
       "      <td>6</td>\n",
       "      <td>14</td>\n",
       "      <td>6080</td>\n",
       "      <td>866260</td>\n",
       "      <td>55.813978</td>\n",
       "      <td>37.347688</td>\n",
       "      <td>55.814827</td>\n",
       "      <td>37.354074</td>\n",
       "      <td>6.747</td>\n",
       "      <td>9.800</td>\n",
       "      <td>Economy</td>\n",
       "      <td>private</td>\n",
       "      <td>0</td>\n",
       "    </tr>\n",
       "    <tr>\n",
       "      <th>3</th>\n",
       "      <td>889660</td>\n",
       "      <td>2</td>\n",
       "      <td>6</td>\n",
       "      <td>6080</td>\n",
       "      <td>163522</td>\n",
       "      <td>55.745922</td>\n",
       "      <td>37.421748</td>\n",
       "      <td>55.743469</td>\n",
       "      <td>37.431130</td>\n",
       "      <td>-1.000</td>\n",
       "      <td>-1.000</td>\n",
       "      <td>Economy</td>\n",
       "      <td>private</td>\n",
       "      <td>1</td>\n",
       "    </tr>\n",
       "    <tr>\n",
       "      <th>4</th>\n",
       "      <td>1120055</td>\n",
       "      <td>4</td>\n",
       "      <td>16</td>\n",
       "      <td>6080</td>\n",
       "      <td>506710</td>\n",
       "      <td>55.803578</td>\n",
       "      <td>37.521602</td>\n",
       "      <td>55.812559</td>\n",
       "      <td>37.527407</td>\n",
       "      <td>12.383</td>\n",
       "      <td>19.250</td>\n",
       "      <td>Economy</td>\n",
       "      <td>private</td>\n",
       "      <td>1</td>\n",
       "    </tr>\n",
       "    <tr>\n",
       "      <th>5</th>\n",
       "      <td>1058203</td>\n",
       "      <td>6</td>\n",
       "      <td>15</td>\n",
       "      <td>6080</td>\n",
       "      <td>360328</td>\n",
       "      <td>55.818963</td>\n",
       "      <td>37.361033</td>\n",
       "      <td>55.814827</td>\n",
       "      <td>37.354074</td>\n",
       "      <td>6.747</td>\n",
       "      <td>9.800</td>\n",
       "      <td>Economy</td>\n",
       "      <td>private</td>\n",
       "      <td>0</td>\n",
       "    </tr>\n",
       "    <tr>\n",
       "      <th>6</th>\n",
       "      <td>103326</td>\n",
       "      <td>2</td>\n",
       "      <td>11</td>\n",
       "      <td>6080</td>\n",
       "      <td>615584</td>\n",
       "      <td>55.753508</td>\n",
       "      <td>37.663742</td>\n",
       "      <td>55.757251</td>\n",
       "      <td>37.659064</td>\n",
       "      <td>-1.000</td>\n",
       "      <td>-1.000</td>\n",
       "      <td>Standard</td>\n",
       "      <td>business</td>\n",
       "      <td>1</td>\n",
       "    </tr>\n",
       "    <tr>\n",
       "      <th>7</th>\n",
       "      <td>128861</td>\n",
       "      <td>5</td>\n",
       "      <td>20</td>\n",
       "      <td>6080</td>\n",
       "      <td>254374</td>\n",
       "      <td>55.839318</td>\n",
       "      <td>37.248862</td>\n",
       "      <td>55.839134</td>\n",
       "      <td>37.304101</td>\n",
       "      <td>1.517</td>\n",
       "      <td>3.933</td>\n",
       "      <td>Economy</td>\n",
       "      <td>private</td>\n",
       "      <td>0</td>\n",
       "    </tr>\n",
       "    <tr>\n",
       "      <th>8</th>\n",
       "      <td>493006</td>\n",
       "      <td>5</td>\n",
       "      <td>20</td>\n",
       "      <td>6080</td>\n",
       "      <td>753429</td>\n",
       "      <td>55.818748</td>\n",
       "      <td>37.338240</td>\n",
       "      <td>55.835764</td>\n",
       "      <td>37.294710</td>\n",
       "      <td>6.222</td>\n",
       "      <td>15.433</td>\n",
       "      <td>Economy</td>\n",
       "      <td>private</td>\n",
       "      <td>0</td>\n",
       "    </tr>\n",
       "    <tr>\n",
       "      <th>9</th>\n",
       "      <td>953983</td>\n",
       "      <td>6</td>\n",
       "      <td>7</td>\n",
       "      <td>6080</td>\n",
       "      <td>533820</td>\n",
       "      <td>55.839155</td>\n",
       "      <td>37.251947</td>\n",
       "      <td>55.833198</td>\n",
       "      <td>37.312197</td>\n",
       "      <td>10.410</td>\n",
       "      <td>23.083</td>\n",
       "      <td>Economy</td>\n",
       "      <td>private</td>\n",
       "      <td>0</td>\n",
       "    </tr>\n",
       "  </tbody>\n",
       "</table>\n",
       "</div>"
      ],
      "text/plain": [
       "   offer_gk  weekday_key  hour_key  driver_gk  order_gk  driver_latitude  \\\n",
       "0   1105373            5        20       6080    174182        55.818842   \n",
       "1    759733            5        14       6080    358774        55.805342   \n",
       "2    416977            6        14       6080    866260        55.813978   \n",
       "3    889660            2         6       6080    163522        55.745922   \n",
       "4   1120055            4        16       6080    506710        55.803578   \n",
       "5   1058203            6        15       6080    360328        55.818963   \n",
       "6    103326            2        11       6080    615584        55.753508   \n",
       "7    128861            5        20       6080    254374        55.839318   \n",
       "8    493006            5        20       6080    753429        55.818748   \n",
       "9    953983            6         7       6080    533820        55.839155   \n",
       "\n",
       "   driver_longitude  origin_order_latitude  origin_order_longitude  \\\n",
       "0         37.334562              55.814567               37.355010   \n",
       "1         37.515023              55.819329               37.466398   \n",
       "2         37.347688              55.814827               37.354074   \n",
       "3         37.421748              55.743469               37.431130   \n",
       "4         37.521602              55.812559               37.527407   \n",
       "5         37.361033              55.814827               37.354074   \n",
       "6         37.663742              55.757251               37.659064   \n",
       "7         37.248862              55.839134               37.304101   \n",
       "8         37.338240              55.835764               37.294710   \n",
       "9         37.251947              55.833198               37.312197   \n",
       "\n",
       "   distance_km  duration_min offer_class_group ride_type_desc  driver_response  \n",
       "0       -1.000        -1.000           Economy        private                0  \n",
       "1       18.802        25.217          Standard        private                1  \n",
       "2        6.747         9.800           Economy        private                0  \n",
       "3       -1.000        -1.000           Economy        private                1  \n",
       "4       12.383        19.250           Economy        private                1  \n",
       "5        6.747         9.800           Economy        private                0  \n",
       "6       -1.000        -1.000          Standard       business                1  \n",
       "7        1.517         3.933           Economy        private                0  \n",
       "8        6.222        15.433           Economy        private                0  \n",
       "9       10.410        23.083           Economy        private                0  "
      ]
     },
     "execution_count": 10,
     "metadata": {},
     "output_type": "execute_result"
    }
   ],
   "source": [
    "data_raw.head(10)"
   ]
  },
  {
   "cell_type": "code",
   "execution_count": 11,
   "metadata": {},
   "outputs": [
    {
     "name": "stdout",
     "output_type": "stream",
     "text": [
      "<class 'pandas.core.frame.DataFrame'>\n",
      "RangeIndex: 100000 entries, 0 to 99999\n",
      "Data columns (total 14 columns):\n",
      "offer_gk                  100000 non-null int64\n",
      "weekday_key               100000 non-null int64\n",
      "hour_key                  100000 non-null int64\n",
      "driver_gk                 100000 non-null int64\n",
      "order_gk                  100000 non-null int64\n",
      "driver_latitude           100000 non-null float64\n",
      "driver_longitude          100000 non-null float64\n",
      "origin_order_latitude     100000 non-null float64\n",
      "origin_order_longitude    100000 non-null float64\n",
      "distance_km               100000 non-null float64\n",
      "duration_min              100000 non-null float64\n",
      "offer_class_group         100000 non-null object\n",
      "ride_type_desc            100000 non-null object\n",
      "driver_response           100000 non-null int64\n",
      "dtypes: float64(6), int64(6), object(2)\n",
      "memory usage: 10.7+ MB\n"
     ]
    }
   ],
   "source": [
    "data_raw.info()"
   ]
  },
  {
   "cell_type": "code",
   "execution_count": 12,
   "metadata": {},
   "outputs": [],
   "source": [
    "def get_one_hot(df, cols):\n",
    "    \"\"\"\n",
    "    @param df pandas DataFrame\n",
    "    @param cols a list of columns to encode \n",
    "    @return a DataFrame with one-hot encoding\n",
    "    \"\"\"\n",
    "    for each in cols:\n",
    "        dummies = pd.get_dummies(df[each], prefix=each, drop_first=False)\n",
    "        df = pd.concat([df, dummies], axis=1)\n",
    "    return df"
   ]
  },
  {
   "cell_type": "code",
   "execution_count": 21,
   "metadata": {},
   "outputs": [
    {
     "data": {
      "text/plain": [
       "Economy     48335\n",
       "Standard    47288\n",
       "Premium      1773\n",
       "Delivery     1290\n",
       "Kids          588\n",
       "XL            464\n",
       "VIP           225\n",
       "VIP+           29\n",
       "Test            8\n",
       "Name: offer_class_group, dtype: int64"
      ]
     },
     "execution_count": 21,
     "metadata": {},
     "output_type": "execute_result"
    }
   ],
   "source": [
    "data_raw['offer_class_group'].value_counts()"
   ]
  },
  {
   "cell_type": "code",
   "execution_count": 22,
   "metadata": {},
   "outputs": [
    {
     "data": {
      "text/plain": [
       "Delivery    0.677519\n",
       "Economy     0.439040\n",
       "Kids        0.840136\n",
       "Premium     0.771574\n",
       "Standard    0.523494\n",
       "Test        0.750000\n",
       "VIP         0.773333\n",
       "VIP+        0.896552\n",
       "XL          0.711207\n",
       "Name: offer_class_group, dtype: float64"
      ]
     },
     "execution_count": 22,
     "metadata": {},
     "output_type": "execute_result"
    }
   ],
   "source": [
    "(\n",
    "    data_raw[data_raw['driver_response'] == 1]['offer_class_group'].value_counts()\n",
    "    /\n",
    "    data_raw['offer_class_group'].value_counts()\n",
    ")"
   ]
  },
  {
   "cell_type": "code",
   "execution_count": 23,
   "metadata": {},
   "outputs": [],
   "source": [
    "def get_counts(df_train, df_test, col, target_col):\n",
    "    category_val_dict = (\n",
    "        df_train[df_train[target_col] == 1][col].value_counts()\n",
    "        /\n",
    "        df_train[col].value_counts()\n",
    "    ).to_dict()\n",
    "    df_train[col + '_counts'] = df_train[col].apply(category_val_dict.get)\n",
    "    df_test[col + '_counts'] = df_test[col].apply(category_val_dict.get)\n",
    "    return df_train, df_test"
   ]
  },
  {
   "cell_type": "code",
   "execution_count": 24,
   "metadata": {},
   "outputs": [],
   "source": [
    "def get_woe_v1(df_train, df_test, col, target_col):\n",
    "    all_good = len(df_train[df_train[target_col] == 1][col])\n",
    "    all_bad = len(df_train[df_train[target_col] == 0][col])\n",
    "    odds_series = (\n",
    "        df_train[df_train[target_col] == 1][col].value_counts()\n",
    "        /\n",
    "        df_train[df_train[target_col] == 0][col].value_counts()\n",
    "    )\n",
    "    odds_series = odds_series / all_good * all_bad\n",
    "    category_woe_dict = np.log(odds_series).to_dict()\n",
    "    df_train[col + '_woe'] = df_train[col].apply(category_woe_dict.get)\n",
    "    df_test[col + '_woe'] = df_test[col].apply(category_woe_dict.get)\n",
    "    return df_train, df_test"
   ]
  },
  {
   "cell_type": "code",
   "execution_count": 25,
   "metadata": {},
   "outputs": [],
   "source": [
    "def get_woe_stat(df_train, col, target_col):\n",
    "    stat = df_train.groupby(col)[target].agg(\n",
    "        [np.mean, np.size, np.count_nonzero], sort=False\n",
    "    )\n",
    "    stat.rename(columns={'count_nonzero': 'good', 'size': 'obs', 'mean': 'event_rate'}, inplace=True)\n",
    "    stat['all_good'] = stat['good'].sum()\n",
    "    stat['p_good'] = stat['good'] / stat['all_good']\n",
    "    stat['bad'] = stat['obs'] - stat['good']\n",
    "    stat['all_bad'] = stat['bad'].sum()\n",
    "    stat['p_bad'] = stat['bad'] / stat['all_bad']\n",
    "    stat['WOE']=np.log(stat['p_good'] / stat['p_bad'])\n",
    "    stat['IV'] = ((stat['p_good'] - stat['p_bad']) * stat['WOE']).sum()\n",
    "    stat['variable'] = col\n",
    "    stat['category'] = stat.index\n",
    "    stat.reset_index(inplace=True)\n",
    "    stat.drop(labels=col, inplace=True, axis=1)\n",
    "    return stat"
   ]
  },
  {
   "cell_type": "code",
   "execution_count": 26,
   "metadata": {},
   "outputs": [],
   "source": [
    "# create categories based on the part of the day\n",
    "def process_hour(hour):\n",
    "    if 6 <= hour < 12:\n",
    "        return 0\n",
    "    elif 12 <= hour < 18:\n",
    "        return 1\n",
    "    elif 18 <= hour < 24:\n",
    "        return 2\n",
    "    elif 0 <= hour < 6:\n",
    "        return 3"
   ]
  },
  {
   "cell_type": "code",
   "execution_count": 27,
   "metadata": {},
   "outputs": [],
   "source": [
    "# create \"is weekend?\" feature\n",
    "def process_day(day):\n",
    "    if day <= 4:\n",
    "        return 0\n",
    "    else:\n",
    "        return 1"
   ]
  },
  {
   "cell_type": "code",
   "execution_count": 28,
   "metadata": {},
   "outputs": [],
   "source": [
    "# get vincenty distance between two points\n",
    "def compute_dist_in_km(coords1, coords2):\n",
    "    return vincenty(coords1, coords2).kilometers"
   ]
  },
  {
   "cell_type": "code",
   "execution_count": 29,
   "metadata": {},
   "outputs": [],
   "source": [
    "# calculate ride cost based on the plan\n",
    "def compute_taxi_cost(row):\n",
    "    if row.offer_class_group == \"Economy\":\n",
    "        return 97 + 7 * row.distance_km + 7 * row.duration_min\n",
    "    elif row.offer_class_group == \"Standard\":\n",
    "        return 150 + 11 * row.distance_km + 13 * row.duration_min\n",
    "    elif row.offer_class_group == \"Premium\":\n",
    "        return 299 + 15 * row.distance_km + 20 * row.duration_min\n",
    "    elif row.offer_class_group == \"Kids\":\n",
    "        return 99 + 22 * row.duration_min\n",
    "    elif row.offer_class_group == \"VIP\":\n",
    "        return 699 + 55 * row.distance_km + 25 * row.duration_min\n",
    "    elif row.offer_class_group == \"XL\":\n",
    "        return 299 + 15 * row.distance_km + 25 * row.duration_min\n",
    "    else:\n",
    "        return -1"
   ]
  },
  {
   "cell_type": "code",
   "execution_count": 30,
   "metadata": {},
   "outputs": [],
   "source": [
    "airports_coordinates = [\n",
    "    (\"Domodedovo\", (55.415832, 37.896903), 3), # Domodedovo\n",
    "    (\"Sheremetyevo\", (55.972323, 37.412804), 3), # Sheremetyevo\n",
    "    (\"Vnukovo\", (55.598791, 37.269157), 3), # Vnukovo\n",
    "    (\"Zhukovskiy\", (55.561805, 38.118139), 3), # Zhukovskiy\n",
    "    (\"Moscow_center\", (55.753742, 37.621852), 5), # center\n",
    "]"
   ]
  },
  {
   "cell_type": "code",
   "execution_count": 31,
   "metadata": {},
   "outputs": [],
   "source": [
    "# calculate distance from driver to airport and from origin to airport\n",
    "def compute_airport_driver_dist(data):\n",
    "    for airport, (air_latitude, air_longitude), radius in airports_coordinates:\n",
    "        print(airport)\n",
    "\n",
    "        dist_column_name = 'driver_dist_to_{}'.format(airport)\n",
    "        radius_column_name = 'driver_near_to_{}'.format(airport)\n",
    "        data[dist_column_name] = data.apply(\n",
    "            lambda row: compute_dist_in_km(\n",
    "                (row['driver_latitude'], row['driver_longitude'], (air_latitude, air_longitude))\n",
    "            ),\n",
    "            axis=1\n",
    "        )\n",
    "        data[radius_column_name] = data[dist_column_name].apply(lambda x: 1 if x <= radius else 0)\n",
    "        # print(radius, len(dummies_df[dummies_df[radius_column_name] == 1]))\n",
    "\n",
    "\n",
    "        dist_column_name = 'origin_order_dist_to_{}'.format(airport)\n",
    "        radius_column_name = 'origin_order_near_to_{}'.format(airport)\n",
    "        data[dist_column_name] = data.apply(\n",
    "            lambda row: compute_dist_in_km(\n",
    "                (row['origin_order_latitude'], row['origin_order_longitude']), (air_latitude, air_longitude)\n",
    "            ),\n",
    "            axis=1\n",
    "        )\n",
    "        data[radius_column_name] = data[dist_column_name].apply(lambda x: 1 if x <= radius else 0)\n",
    "        # print(radius, len(dummies_df[dummies_df[radius_column_name] == 1]))\n",
    "    return data"
   ]
  },
  {
   "cell_type": "code",
   "execution_count": 32,
   "metadata": {},
   "outputs": [],
   "source": [
    "def build_new_columns(data):\n",
    "    origin_coordindates = data[\n",
    "        ['origin_order_latitude', 'origin_order_longitude']\n",
    "    ].apply(lambda x: str(np.round(x[0], 2)) + ' ' + str(np.round(x[1], 2)), axis=1)\n",
    "    driver_coordinates = data[\n",
    "        ['driver_latitude', 'driver_longitude']\n",
    "    ].apply(lambda x: str(np.round(x[0], 2)) + ' ' + str(np.round(x[1], 2)), axis=1)\n",
    "    data['origin_coordinates'] = origin_coordindates\n",
    "    data['driver_coordinates'] = driver_coordinates\n",
    "    \n",
    "    data = get_one_hot(\n",
    "        data,\n",
    "        ['offer_class_group', 'ride_type_desc', 'weekday_key', 'hour_key']\n",
    "    )\n",
    "    data['day_part'] = data.apply(lambda row: process_hour(row.hour_key), axis=1)\n",
    "    data['week_part'] = data.apply(lambda row: process_day(row.hour_key), axis=1)\n",
    "\n",
    "    data['driver_response_by_day_and_part'] = data[\n",
    "        ['weekday_key', 'hour_key']\n",
    "    ].apply(lambda x: str(x[0]) + '_' + str(x[1]), axis=1)\n",
    "\n",
    "    data['driver_to_offer_dist'] = data.apply(lambda row: compute_dist_in_km(\n",
    "            (row.driver_latitude, row.driver_longitude),\n",
    "            (row.origin_order_latitude, row.origin_order_longitude)\n",
    "        ), axis=1)\n",
    "\n",
    "    data['taxi_cost'] = data.apply(lambda row: compute_taxi_cost(row), axis=1)\n",
    "    \n",
    "    data = data.drop(\n",
    "        labels=['offer_class_group', 'ride_type_desc', 'weekday_key', 'hour_key'],\n",
    "        axis=1\n",
    "    )\n",
    "    data['duration_min_rounded'] = data['duration_min'].apply(lambda x: np.round(x, 0))\n",
    "    data['is_address_submitted'] = data['duration_min'].apply(lambda x: x != -1)\n",
    "    order_dict = data.order_gk.value_counts().to_dict()\n",
    "    data['amount_of_offers'] = data['order_gk'].apply(order_dict.get)\n",
    "    data['traffic'] = data[['distance_km', 'duration_min']].apply(\n",
    "        lambda x: x[0] * 1. / x[1] if (x[1] != -1) and (x[0] != -1) else -1,\n",
    "        axis=1\n",
    "    )\n",
    "    \n",
    "    return data"
   ]
  },
  {
   "cell_type": "code",
   "execution_count": 33,
   "metadata": {},
   "outputs": [],
   "source": [
    "y = data_raw['driver_response'].copy()\n",
    "# data_raw.drop(['driver_response'], inplace=True, axis=1)"
   ]
  },
  {
   "cell_type": "code",
   "execution_count": 34,
   "metadata": {},
   "outputs": [],
   "source": [
    "data_train, data_test, y_train, y_test = train_test_split(data_raw, y, test_size=0.3, random_state=42)"
   ]
  },
  {
   "cell_type": "code",
   "execution_count": 35,
   "metadata": {},
   "outputs": [
    {
     "name": "stderr",
     "output_type": "stream",
     "text": [
      "/Users/esachko/miniconda3/lib/python3.6/site-packages/ipykernel_launcher.py:8: SettingWithCopyWarning: \n",
      "A value is trying to be set on a copy of a slice from a DataFrame.\n",
      "Try using .loc[row_indexer,col_indexer] = value instead\n",
      "\n",
      "See the caveats in the documentation: http://pandas.pydata.org/pandas-docs/stable/indexing.html#indexing-view-versus-copy\n",
      "  \n",
      "/Users/esachko/miniconda3/lib/python3.6/site-packages/ipykernel_launcher.py:9: SettingWithCopyWarning: \n",
      "A value is trying to be set on a copy of a slice from a DataFrame.\n",
      "Try using .loc[row_indexer,col_indexer] = value instead\n",
      "\n",
      "See the caveats in the documentation: http://pandas.pydata.org/pandas-docs/stable/indexing.html#indexing-view-versus-copy\n",
      "  if __name__ == '__main__':\n",
      "/Users/esachko/miniconda3/lib/python3.6/site-packages/ipykernel_launcher.py:38: RuntimeWarning: invalid value encountered in double_scalars\n"
     ]
    }
   ],
   "source": [
    "data_train = build_new_columns(data_train)\n",
    "data_test = build_new_columns(data_test)"
   ]
  },
  {
   "cell_type": "code",
   "execution_count": 62,
   "metadata": {},
   "outputs": [],
   "source": [
    "# data_train.origin_order_longitude.apply(lambda x: np.round(x, 3)).value_counts()\n",
    "# data_train.origin_order_latitude.apply(lambda x: np.round(x, 3)).value_counts()"
   ]
  },
  {
   "cell_type": "code",
   "execution_count": 45,
   "metadata": {},
   "outputs": [],
   "source": [
    "# build counts\n",
    "columns_to_get_counts = [\n",
    "    'driver_gk',\n",
    "    'origin_coordinates',\n",
    "    'driver_coordinates',\n",
    "    'driver_response_by_day_and_part',\n",
    "    'duration_min_rounded',\n",
    "]\n",
    "    \n",
    "for col_get_prob in columns_to_get_counts:\n",
    "    data_train, data_test = get_woe_v1(data_train, data_test, col_get_prob, 'driver_response')"
   ]
  },
  {
   "cell_type": "code",
   "execution_count": 46,
   "metadata": {},
   "outputs": [],
   "source": [
    "train_columns = [\n",
    "    col for col in data_train.columns.tolist()\n",
    "    if col not in set(\n",
    "        [\n",
    "            'offer_gk',\n",
    "            'order_gk',\n",
    "            'driver_response',\n",
    "            'driver_gk',\n",
    "            'origin_coordinates',\n",
    "            'driver_coordinates',\n",
    "            'driver_response_by_day_and_part',\n",
    "#             'driver_response_by_day_and_part_counts',\n",
    "            'duration_min_rounded',\n",
    "        ]\n",
    "    )\n",
    "]\n",
    "x_train = data_train[train_columns]\n",
    "y_train = data_train['driver_response']\n",
    "x_test = data_test[train_columns]\n",
    "y_test = data_test['driver_response']"
   ]
  },
  {
   "cell_type": "code",
   "execution_count": 47,
   "metadata": {},
   "outputs": [
    {
     "name": "stdout",
     "output_type": "stream",
     "text": [
      "Train:  0.93\n",
      "Test:  0.9\n"
     ]
    }
   ],
   "source": [
    "xgb = xgboost.XGBClassifier(max_depth=5, n_jobs=-1)\n",
    "xgb.fit(x_train, y_train)\n",
    "y_train_predict = xgb.predict_proba(x_train)[:, 1]\n",
    "y_test_predict = xgb.predict_proba(x_test)[:, 1]\n",
    "roc_auc_train = np.round(roc_auc_score(y_train, y_train_predict), 2)\n",
    "roc_auc_test = np.round(roc_auc_score(y_test, y_test_predict), 2)\n",
    "print(\"Train: \", roc_auc_train)\n",
    "print(\"Test: \", roc_auc_test)"
   ]
  },
  {
   "cell_type": "code",
   "execution_count": 48,
   "metadata": {},
   "outputs": [
    {
     "data": {
      "image/png": "[encoded data removed]",
      "text/plain": [
       "<Figure size 720x720 with 1 Axes>"
      ]
     },
     "metadata": {},
     "output_type": "display_data"
    }
   ],
   "source": [
    "import matplotlib\n",
    "fpr_train, tpr_train, thresholds_train = roc_curve(y_train, y_train_predict)\n",
    "fpr_test, tpr_test, thresholds_test = roc_curve(y_test, y_test_predict)\n",
    "\n",
    "matplotlib.rcParams['figure.figsize'] = (10.0, 10.0)\n",
    "plt.plot(fpr_train, tpr_train, label='Train ROC AUC {0}'.format(roc_auc_train))\n",
    "plt.plot(fpr_test, tpr_test, label='Test ROC AUC {0}'.format(roc_auc_test))\n",
    "plt.plot([0, 1], [0, 1], '--', color=(0.6, 0.6, 0.6))\n",
    "plt.xlim([0, 1])\n",
    "plt.ylim([0, 1])\n",
    "plt.xlabel('False Positive Rate')\n",
    "plt.ylabel('True Positive Rate')\n",
    "plt.title('XGB Classifier', size=16)\n",
    "plt.legend(loc='lower right')\n",
    "plt.show()"
   ]
  },
  {
   "cell_type": "code",
   "execution_count": 50,
   "metadata": {},
   "outputs": [
    {
     "data": {
      "image/png": "[encoded data removed]",
      "text/plain": [
       "<Figure size 720x720 with 1 Axes>"
      ]
     },
     "metadata": {},
     "output_type": "display_data"
    }
   ],
   "source": [
    "matplotlib.rcParams['figure.figsize'] = (10, 10)\n",
    "xgboost.plot_importance(booster=xgb)\n",
    "plt.savefig('tree_importance_test1.png')"
   ]
  }
 ],
 "metadata": {
  "kernelspec": {
   "display_name": "Python 3",
   "language": "python",
   "name": "python3"
  },
  "language_info": {
   "codemirror_mode": {
    "name": "ipython",
    "version": 3
   },
   "file_extension": ".py",
   "mimetype": "text/x-python",
   "name": "python",
   "nbconvert_exporter": "python",
   "pygments_lexer": "ipython3",
   "version": "3.6.4"
  }
 },
 "nbformat": 4,
 "nbformat_minor": 1
}
